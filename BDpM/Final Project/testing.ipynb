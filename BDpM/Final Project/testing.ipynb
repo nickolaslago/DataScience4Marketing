{
 "metadata": {
  "language_info": {
   "codemirror_mode": {
    "name": "ipython",
    "version": 3
   },
   "file_extension": ".py",
   "mimetype": "text/x-python",
   "name": "python",
   "nbconvert_exporter": "python",
   "pygments_lexer": "ipython3",
   "version": "3.7.6"
  },
  "orig_nbformat": 4,
  "kernelspec": {
   "name": "python3",
   "display_name": "Python 3.7.6 64-bit ('base': conda)"
  },
  "interpreter": {
   "hash": "f30a98447ab0ce6ed2c42a906dd8ff7c3035168d8630597903509f729a93be92"
  }
 },
 "nbformat": 4,
 "nbformat_minor": 2,
 "cells": [
  {
   "cell_type": "code",
   "execution_count": 1,
   "metadata": {},
   "outputs": [],
   "source": [
    "import pandas as pd"
   ]
  },
  {
   "cell_type": "code",
   "execution_count": 2,
   "metadata": {},
   "outputs": [
    {
     "output_type": "display_data",
     "data": {
      "text/plain": "       Invoice StockCode                          Description  Quantity  \\\n0       489434     85048  15CM CHRISTMAS GLASS BALL 20 LIGHTS        12   \n1       489434    79323P                   PINK CHERRY LIGHTS        12   \n2       489434    79323W                  WHITE CHERRY LIGHTS        12   \n3       489434     22041         RECORD FRAME 7\" SINGLE SIZE         48   \n4       489434     21232       STRAWBERRY CERAMIC TRINKET BOX        24   \n...        ...       ...                                  ...       ...   \n525456  538171     22271                 FELTCRAFT DOLL ROSIE         2   \n525457  538171     22750         FELTCRAFT PRINCESS LOLA DOLL         1   \n525458  538171     22751       FELTCRAFT PRINCESS OLIVIA DOLL         1   \n525459  538171     20970   PINK FLORAL FELTCRAFT SHOULDER BAG         2   \n525460  538171     21931               JUMBO STORAGE BAG SUKI         2   \n\n             InvoiceDate Price  Customer ID         Country  \n0       01/12/2009 07:45  6,95      13085.0  United Kingdom  \n1       01/12/2009 07:45  6,75      13085.0  United Kingdom  \n2       01/12/2009 07:45  6,75      13085.0  United Kingdom  \n3       01/12/2009 07:45   2,1      13085.0  United Kingdom  \n4       01/12/2009 07:45  1,25      13085.0  United Kingdom  \n...                  ...   ...          ...             ...  \n525456  09/12/2010 20:01  2,95      17530.0  United Kingdom  \n525457  09/12/2010 20:01  3,75      17530.0  United Kingdom  \n525458  09/12/2010 20:01  3,75      17530.0  United Kingdom  \n525459  09/12/2010 20:01  3,75      17530.0  United Kingdom  \n525460  09/12/2010 20:01  1,95      17530.0  United Kingdom  \n\n[525461 rows x 8 columns]",
      "text/html": "<div>\n<style scoped>\n    .dataframe tbody tr th:only-of-type {\n        vertical-align: middle;\n    }\n\n    .dataframe tbody tr th {\n        vertical-align: top;\n    }\n\n    .dataframe thead th {\n        text-align: right;\n    }\n</style>\n<table border=\"1\" class=\"dataframe\">\n  <thead>\n    <tr style=\"text-align: right;\">\n      <th></th>\n      <th>Invoice</th>\n      <th>StockCode</th>\n      <th>Description</th>\n      <th>Quantity</th>\n      <th>InvoiceDate</th>\n      <th>Price</th>\n      <th>Customer ID</th>\n      <th>Country</th>\n    </tr>\n  </thead>\n  <tbody>\n    <tr>\n      <th>0</th>\n      <td>489434</td>\n      <td>85048</td>\n      <td>15CM CHRISTMAS GLASS BALL 20 LIGHTS</td>\n      <td>12</td>\n      <td>01/12/2009 07:45</td>\n      <td>6,95</td>\n      <td>13085.0</td>\n      <td>United Kingdom</td>\n    </tr>\n    <tr>\n      <th>1</th>\n      <td>489434</td>\n      <td>79323P</td>\n      <td>PINK CHERRY LIGHTS</td>\n      <td>12</td>\n      <td>01/12/2009 07:45</td>\n      <td>6,75</td>\n      <td>13085.0</td>\n      <td>United Kingdom</td>\n    </tr>\n    <tr>\n      <th>2</th>\n      <td>489434</td>\n      <td>79323W</td>\n      <td>WHITE CHERRY LIGHTS</td>\n      <td>12</td>\n      <td>01/12/2009 07:45</td>\n      <td>6,75</td>\n      <td>13085.0</td>\n      <td>United Kingdom</td>\n    </tr>\n    <tr>\n      <th>3</th>\n      <td>489434</td>\n      <td>22041</td>\n      <td>RECORD FRAME 7\" SINGLE SIZE</td>\n      <td>48</td>\n      <td>01/12/2009 07:45</td>\n      <td>2,1</td>\n      <td>13085.0</td>\n      <td>United Kingdom</td>\n    </tr>\n    <tr>\n      <th>4</th>\n      <td>489434</td>\n      <td>21232</td>\n      <td>STRAWBERRY CERAMIC TRINKET BOX</td>\n      <td>24</td>\n      <td>01/12/2009 07:45</td>\n      <td>1,25</td>\n      <td>13085.0</td>\n      <td>United Kingdom</td>\n    </tr>\n    <tr>\n      <th>...</th>\n      <td>...</td>\n      <td>...</td>\n      <td>...</td>\n      <td>...</td>\n      <td>...</td>\n      <td>...</td>\n      <td>...</td>\n      <td>...</td>\n    </tr>\n    <tr>\n      <th>525456</th>\n      <td>538171</td>\n      <td>22271</td>\n      <td>FELTCRAFT DOLL ROSIE</td>\n      <td>2</td>\n      <td>09/12/2010 20:01</td>\n      <td>2,95</td>\n      <td>17530.0</td>\n      <td>United Kingdom</td>\n    </tr>\n    <tr>\n      <th>525457</th>\n      <td>538171</td>\n      <td>22750</td>\n      <td>FELTCRAFT PRINCESS LOLA DOLL</td>\n      <td>1</td>\n      <td>09/12/2010 20:01</td>\n      <td>3,75</td>\n      <td>17530.0</td>\n      <td>United Kingdom</td>\n    </tr>\n    <tr>\n      <th>525458</th>\n      <td>538171</td>\n      <td>22751</td>\n      <td>FELTCRAFT PRINCESS OLIVIA DOLL</td>\n      <td>1</td>\n      <td>09/12/2010 20:01</td>\n      <td>3,75</td>\n      <td>17530.0</td>\n      <td>United Kingdom</td>\n    </tr>\n    <tr>\n      <th>525459</th>\n      <td>538171</td>\n      <td>20970</td>\n      <td>PINK FLORAL FELTCRAFT SHOULDER BAG</td>\n      <td>2</td>\n      <td>09/12/2010 20:01</td>\n      <td>3,75</td>\n      <td>17530.0</td>\n      <td>United Kingdom</td>\n    </tr>\n    <tr>\n      <th>525460</th>\n      <td>538171</td>\n      <td>21931</td>\n      <td>JUMBO STORAGE BAG SUKI</td>\n      <td>2</td>\n      <td>09/12/2010 20:01</td>\n      <td>1,95</td>\n      <td>17530.0</td>\n      <td>United Kingdom</td>\n    </tr>\n  </tbody>\n</table>\n<p>525461 rows × 8 columns</p>\n</div>"
     },
     "metadata": {}
    }
   ],
   "source": [
    "# Read DF\n",
    "\n",
    "# Read the file from 2009 and 2010\n",
    "url_09 = \"https://raw.githubusercontent.com/nickolaslago/DataScience4Marketing/master/BDpM/Final%20Project/online-retail_2009-10.csv\"\n",
    "\n",
    "df = pd.read_csv(url_09, error_bad_lines=False, sep=\";\")\n",
    "\n",
    "display(df)"
   ]
  },
  {
   "cell_type": "code",
   "execution_count": 3,
   "metadata": {},
   "outputs": [
    {
     "output_type": "stream",
     "name": "stdout",
     "text": [
      "<class 'pandas.core.frame.DataFrame'>\nRangeIndex: 525461 entries, 0 to 525460\nData columns (total 8 columns):\n #   Column       Non-Null Count   Dtype  \n---  ------       --------------   -----  \n 0   Invoice      525461 non-null  object \n 1   StockCode    525461 non-null  object \n 2   Description  522533 non-null  object \n 3   Quantity     525461 non-null  int64  \n 4   InvoiceDate  525461 non-null  object \n 5   Price        525461 non-null  object \n 6   Customer ID  417534 non-null  float64\n 7   Country      525461 non-null  object \ndtypes: float64(1), int64(1), object(6)\nmemory usage: 32.1+ MB\n"
     ]
    }
   ],
   "source": [
    "df.info()"
   ]
  },
  {
   "cell_type": "code",
   "execution_count": null,
   "metadata": {},
   "outputs": [],
   "source": []
  }
 ]
}