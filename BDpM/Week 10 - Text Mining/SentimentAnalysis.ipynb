{
 "metadata": {
  "language_info": {
   "codemirror_mode": {
    "name": "ipython",
    "version": 3
   },
   "file_extension": ".py",
   "mimetype": "text/x-python",
   "name": "python",
   "nbconvert_exporter": "python",
   "pygments_lexer": "ipython3",
   "version": "3.7.6"
  },
  "orig_nbformat": 2,
  "kernelspec": {
   "name": "python376jvsc74a57bd0f30a98447ab0ce6ed2c42a906dd8ff7c3035168d8630597903509f729a93be92",
   "display_name": "Python 3.7.6 64-bit ('anaconda3': virtualenv)"
  }
 },
 "nbformat": 4,
 "nbformat_minor": 2,
 "cells": [
  {
   "source": [
    "### Introduction to Text Mining\n",
    "## Sentiment Analysis\n",
    "(c) Nuno Antonio 2019-2021"
   ],
   "cell_type": "markdown",
   "metadata": {}
  },
  {
   "source": [
    "### Initial setup"
   ],
   "cell_type": "markdown",
   "metadata": {}
  },
  {
   "cell_type": "code",
   "execution_count": 1,
   "metadata": {},
   "outputs": [],
   "source": [
    "# Import packages\n",
    "import csv\n",
    "import pandas as pd\n",
    "import numpy as np\n",
    "import nltk \n",
    "import re\n",
    "from bs4 import BeautifulSoup\n",
    "from nltk.tokenize import sent_tokenize\n",
    "from nltk.tokenize import word_tokenize\n",
    "from nltk.corpus import stopwords\n",
    "from vaderSentiment.vaderSentiment import SentimentIntensityAnalyzer "
   ]
  },
  {
   "cell_type": "code",
   "execution_count": 2,
   "metadata": {},
   "outputs": [
    {
     "output_type": "stream",
     "name": "stderr",
     "text": [
      "b'Skipping line 12799: expected 21 fields, saw 23\\n'\nb'Skipping line 37247: expected 21 fields, saw 22\\n'\n"
     ]
    }
   ],
   "source": [
    "# Load dataset\n",
    "dtypes = {'RevID':'category','Source':'category','HotelID':'category',\n",
    "  'HotelType':'category','HotelStars':'category','ObsDateGlobalRating':'float64',\n",
    "  'Language':'category','RevUserName':'category','RevUserLocation':'category','RevOverallRating':'float64'}\n",
    "ds = pd.DataFrame(pd.read_csv(\"HotelOnlineReviews.txt\",sep=\"|\", \n",
    "  error_bad_lines=False, dtype=dtypes, decimal=','))"
   ]
  },
  {
   "cell_type": "code",
   "execution_count": 3,
   "metadata": {},
   "outputs": [],
   "source": [
    "# Drop non-English reviews\n",
    "ds = ds.drop(ds[ds.Language!='English'].index)"
   ]
  },
  {
   "source": [
    "### Functions"
   ],
   "cell_type": "markdown",
   "metadata": {}
  },
  {
   "cell_type": "code",
   "execution_count": 4,
   "metadata": {},
   "outputs": [],
   "source": [
    "# Text preprocessing\n",
    "def textPreProcess(rawText, removeHTML=True, charsToRemove = r'\\?|\\.|\\!|\\;|\\.|\\\"|\\,|\\(|\\)|\\&|\\:|\\-', removeNumbers=True, removeLineBreaks=False, specialCharsToRemove = r'[^\\x00-\\xfd]', convertToLower=True, removeConsecutiveSpaces=True):\n",
    "    cleanedText = []\n",
    "    for x in (rawText[:]): \n",
    "        \n",
    "        # Remove HTML\n",
    "        if removeHTML:\n",
    "            procText = BeautifulSoup(x,'html.parser').get_text()\n",
    "\n",
    "         # Remove punctuation and other special characters\n",
    "        if len(charsToRemove)>0:\n",
    "            procText = re.sub(charsToRemove,' ',procText)\n",
    "\n",
    "        # Remove numbers\n",
    "        if removeNumbers:\n",
    "            procText = re.sub(r'\\d+',' ',procText)\n",
    "\n",
    "        # Remove line breaks\n",
    "        if removeLineBreaks:\n",
    "            procText = procText.replace('\\n',' ').replace('\\r', '')\n",
    "\n",
    "        # Remove special characters\n",
    "        if len(specialCharsToRemove)>0:\n",
    "            procText = re.sub(specialCharsToRemove,' ',procText)\n",
    "\n",
    "        # Normalize to lower case\n",
    "        if convertToLower:\n",
    "            procText = procText.lower() \n",
    "\n",
    "        # Replace multiple consecutive spaces with just one space\n",
    "        if removeConsecutiveSpaces:\n",
    "            procText = re.sub(' +', ' ', procText)\n",
    "\n",
    "        # If there is a text, add it to the clean text         \n",
    "        if procText != '':\n",
    "            cleanedText.append(procText)\n",
    "    return cleanedText"
   ]
  },
  {
   "cell_type": "code",
   "execution_count": 5,
   "metadata": {},
   "outputs": [],
   "source": [
    "# Tokenize texts\n",
    "def tokenize_words(texts):\n",
    "    words_new = []\n",
    "    for w in (texts[:]):\n",
    "        w_token = word_tokenize(w)\n",
    "        if w_token != '':\n",
    "            words_new.append(w_token)\n",
    "    return words_new"
   ]
  },
  {
   "cell_type": "code",
   "execution_count": 6,
   "metadata": {},
   "outputs": [],
   "source": [
    "# Function to recreate text from words\n",
    "def recreateText(words):\n",
    "    text_new = []\n",
    "    for w in (words[:]):\n",
    "        temp_str = (' ').join(w)\n",
    "        text_new.append(temp_str)\n",
    "    return text_new"
   ]
  },
  {
   "cell_type": "code",
   "execution_count": 7,
   "metadata": {},
   "outputs": [],
   "source": [
    "# Function to break texts into sentences\n",
    "def tokenize_sentences(texts):\n",
    "    sentences_new = []\n",
    "    for s in (texts[:]):\n",
    "        s_token = sent_tokenize(s)\n",
    "        sentences_new.append(s_token)\n",
    "    return sentences_new"
   ]
  },
  {
   "cell_type": "code",
   "execution_count": 8,
   "metadata": {},
   "outputs": [],
   "source": [
    "# Function to remove stop words\n",
    "def removeStopWords(texts, stop_words):\n",
    "  procText = []\n",
    "  for t in (texts[:]):\n",
    "    cleaned_text = [w for w in t[:] if not w in stop_words]\n",
    "    procText.append(cleaned_text)\n",
    "  return procText"
   ]
  },
  {
   "source": [
    "### Analysis"
   ],
   "cell_type": "markdown",
   "metadata": {}
  },
  {
   "cell_type": "code",
   "execution_count": 9,
   "metadata": {},
   "outputs": [],
   "source": [
    "# Because a review can express multiple opinions, let's analyze opinions by sentence\n",
    "\n",
    "# Break reviews' into a list of lists sentences\n",
    "listOfSentences = tokenize_sentences(ds.RevDescription)"
   ]
  },
  {
   "cell_type": "code",
   "execution_count": 10,
   "metadata": {},
   "outputs": [],
   "source": [
    "# Create a dataframe with only the description\n",
    "ppText = textPreProcess(ds.RevDescription, charsToRemove='', removeLineBreaks=False, removeNumbers=False)\n",
    "processedReviews =  pd.DataFrame(data=ppText, index=ds.index, columns=['PreProcessedText']) "
   ]
  },
  {
   "cell_type": "code",
   "execution_count": 11,
   "metadata": {},
   "outputs": [
    {
     "output_type": "execute_result",
     "data": {
      "text/plain": [
       "'Hotel is  so  centrally located with  bars and restaurants all  within a few minutes walk. Taxis,beach etc. literally on the doorstep. Breakfast excellent. Staff very  friendly and helpful. Will definitely be going  back.þ No  socket  at worktop for electric  kettle so had to place  it on the floor to boil Electric hob not  in use. Shortage of basic  kitchen items to make snack but  we  managed ok.'"
      ]
     },
     "metadata": {},
     "execution_count": 11
    }
   ],
   "source": [
    "# Check first review\n",
    "ds.RevDescription[0]"
   ]
  },
  {
   "cell_type": "code",
   "execution_count": 12,
   "metadata": {},
   "outputs": [
    {
     "output_type": "execute_result",
     "data": {
      "text/plain": [
       "['Hotel is  so  centrally located with  bars and restaurants all  within a few minutes walk.',\n",
       " 'Taxis,beach etc.',\n",
       " 'literally on the doorstep.',\n",
       " 'Breakfast excellent.',\n",
       " 'Staff very  friendly and helpful.',\n",
       " 'Will definitely be going  back.þ No  socket  at worktop for electric  kettle so had to place  it on the floor to boil Electric hob not  in use.',\n",
       " 'Shortage of basic  kitchen items to make snack but  we  managed ok.']"
      ]
     },
     "metadata": {},
     "execution_count": 12
    }
   ],
   "source": [
    "# Sentences of first review\n",
    "listOfSentences[0]"
   ]
  },
  {
   "cell_type": "code",
   "execution_count": 13,
   "metadata": {},
   "outputs": [],
   "source": [
    "# Create DataFrame for sentences\n",
    "sentences = pd.DataFrame(data=[item for elem in listOfSentences for item in elem], columns=['BaseText'])"
   ]
  },
  {
   "cell_type": "code",
   "execution_count": 14,
   "metadata": {},
   "outputs": [],
   "source": [
    "# Add a column with the review ID\n",
    "sentencesPerReview = []\n",
    "for elem in listOfSentences:\n",
    "  sentencesPerReview.append(len(elem))\n",
    "sentences['RevID'] = np.repeat(ds['RevID'].values,sentencesPerReview)"
   ]
  },
  {
   "cell_type": "code",
   "execution_count": 15,
   "metadata": {},
   "outputs": [
    {
     "output_type": "stream",
     "name": "stderr",
     "text": [
      "/Users/lagonick/opt/anaconda3/lib/python3.7/site-packages/bs4/__init__.py:314: UserWarning: \"b'.'\" looks like a filename, not markup. You should probably open this file and pass the filehandle into Beautiful Soup.\n  ' Beautiful Soup.' % markup)\n"
     ]
    }
   ],
   "source": [
    "# Preprocess text \n",
    "sentences['PreProcessedText'] = textPreProcess(sentences['BaseText'])"
   ]
  },
  {
   "cell_type": "code",
   "execution_count": 16,
   "metadata": {},
   "outputs": [],
   "source": [
    "# Get words\n",
    "sentences['Words'] =  tokenize_words(sentences['PreProcessedText'])"
   ]
  },
  {
   "cell_type": "code",
   "execution_count": 17,
   "metadata": {},
   "outputs": [],
   "source": [
    "# Remove stopwords\n",
    "stop_words = set(stopwords.words('english'))\n",
    "sentences['WordsCleaned'] = removeStopWords(sentences['Words'], stop_words)"
   ]
  },
  {
   "cell_type": "code",
   "execution_count": 18,
   "metadata": {},
   "outputs": [],
   "source": [
    "# Recreate sentence without stopwords\n",
    "sentences['ProcessedText'] = recreateText(sentences['WordsCleaned'])"
   ]
  },
  {
   "cell_type": "code",
   "execution_count": 19,
   "metadata": {},
   "outputs": [],
   "source": [
    "# Create sentiment analysis object\n",
    "analyser = SentimentIntensityAnalyzer()"
   ]
  },
  {
   "cell_type": "code",
   "execution_count": 20,
   "metadata": {},
   "outputs": [
    {
     "output_type": "stream",
     "name": "stdout",
     "text": [
      "hotel centrally located bars restaurants within minutes walk {'neg': 0.0, 'neu': 1.0, 'pos': 0.0, 'compound': 0.0}\n"
     ]
    }
   ],
   "source": [
    "# To test, let's evaluate first sentence of first review\n",
    "# Scales:\n",
    "#   compound: -1:most extreme negative, 1:most extreme positive\n",
    "#     positive: compound >=0.05\n",
    "#     neutral: -0.05<compound<0.05\n",
    "#     negative: compound <= -0.05\n",
    "#   pos, neu, neg: proportion of text that are positive, neutral or negative\n",
    "score = analyser.polarity_scores(sentences['ProcessedText'][0])\n",
    "print(sentences['ProcessedText'][0],score)"
   ]
  },
  {
   "cell_type": "code",
   "execution_count": 21,
   "metadata": {},
   "outputs": [],
   "source": [
    "# Process sentiment for all sentences\n",
    "all_scores = []\n",
    "for t in (sentences['ProcessedText'][:]):\n",
    "  score = analyser.polarity_scores(t)\n",
    "  all_scores.append(score)\n",
    "sentences['Sentiment'] = [c['compound'] for c in all_scores]"
   ]
  },
  {
   "cell_type": "code",
   "execution_count": 22,
   "metadata": {},
   "outputs": [],
   "source": [
    "# Compute review's sentiment as the mean sentiment from its sentences\n",
    "meanByReview = sentences.groupby('RevID')['Sentiment'].mean()\n",
    "\n",
    "# Consider sentences with no result as neutral (0)\n",
    "meanByReview = meanByReview.fillna(0)\n",
    "\n",
    "# Add column Sentiment to reviews Dataframe\n",
    "ds['Sentiment'] = meanByReview[ds['RevID']].values"
   ]
  },
  {
   "cell_type": "code",
   "execution_count": 23,
   "metadata": {},
   "outputs": [],
   "source": [
    "# Assign a qualitative evaluation to the review\n",
    "bins = pd.IntervalIndex.from_tuples([(-1.1, -0.05), (-0.05, 0.05), (0.05, 1)], closed='right')\n",
    "x = pd.cut(ds['Sentiment'].to_list(), bins)\n",
    "x.categories = ['Negative','Neutral','Positive']\n",
    "ds['Polarity'] = x"
   ]
  },
  {
   "cell_type": "code",
   "execution_count": 24,
   "metadata": {},
   "outputs": [
    {
     "output_type": "execute_result",
     "data": {
      "text/plain": [
       "         Sentiment\n",
       "HotelID           \n",
       "1         0.360697\n",
       "10        0.376747\n",
       "11        0.323097\n",
       "12        0.339835\n",
       "13        0.369670\n",
       "...            ...\n",
       "65        0.478092\n",
       "66        0.452380\n",
       "7         0.240772\n",
       "8         0.339550\n",
       "9         0.363930\n",
       "\n",
       "[64 rows x 1 columns]"
      ],
      "text/html": "<div>\n<style scoped>\n    .dataframe tbody tr th:only-of-type {\n        vertical-align: middle;\n    }\n\n    .dataframe tbody tr th {\n        vertical-align: top;\n    }\n\n    .dataframe thead th {\n        text-align: right;\n    }\n</style>\n<table border=\"1\" class=\"dataframe\">\n  <thead>\n    <tr style=\"text-align: right;\">\n      <th></th>\n      <th>Sentiment</th>\n    </tr>\n    <tr>\n      <th>HotelID</th>\n      <th></th>\n    </tr>\n  </thead>\n  <tbody>\n    <tr>\n      <th>1</th>\n      <td>0.360697</td>\n    </tr>\n    <tr>\n      <th>10</th>\n      <td>0.376747</td>\n    </tr>\n    <tr>\n      <th>11</th>\n      <td>0.323097</td>\n    </tr>\n    <tr>\n      <th>12</th>\n      <td>0.339835</td>\n    </tr>\n    <tr>\n      <th>13</th>\n      <td>0.369670</td>\n    </tr>\n    <tr>\n      <th>...</th>\n      <td>...</td>\n    </tr>\n    <tr>\n      <th>65</th>\n      <td>0.478092</td>\n    </tr>\n    <tr>\n      <th>66</th>\n      <td>0.452380</td>\n    </tr>\n    <tr>\n      <th>7</th>\n      <td>0.240772</td>\n    </tr>\n    <tr>\n      <th>8</th>\n      <td>0.339550</td>\n    </tr>\n    <tr>\n      <th>9</th>\n      <td>0.363930</td>\n    </tr>\n  </tbody>\n</table>\n<p>64 rows × 1 columns</p>\n</div>"
     },
     "metadata": {},
     "execution_count": 24
    }
   ],
   "source": [
    "# Analysis examples:\n",
    "# Mean by hotel \n",
    "ex1 = ds.groupby('HotelID')['Sentiment'].mean().to_frame()\n",
    "ex1"
   ]
  },
  {
   "cell_type": "code",
   "execution_count": 25,
   "metadata": {},
   "outputs": [
    {
     "output_type": "execute_result",
     "data": {
      "text/plain": [
       "  HotelType HotelStars  Sentiment\n",
       "0      City          2   0.236023\n",
       "1      City          3   0.334447\n",
       "2      City          4   0.343238\n",
       "3      City          5   0.324633\n",
       "4    Resort          2   0.302441\n",
       "5    Resort          3   0.330928\n",
       "6    Resort          4   0.406733\n",
       "7    Resort          5   0.369126"
      ],
      "text/html": "<div>\n<style scoped>\n    .dataframe tbody tr th:only-of-type {\n        vertical-align: middle;\n    }\n\n    .dataframe tbody tr th {\n        vertical-align: top;\n    }\n\n    .dataframe thead th {\n        text-align: right;\n    }\n</style>\n<table border=\"1\" class=\"dataframe\">\n  <thead>\n    <tr style=\"text-align: right;\">\n      <th></th>\n      <th>HotelType</th>\n      <th>HotelStars</th>\n      <th>Sentiment</th>\n    </tr>\n  </thead>\n  <tbody>\n    <tr>\n      <th>0</th>\n      <td>City</td>\n      <td>2</td>\n      <td>0.236023</td>\n    </tr>\n    <tr>\n      <th>1</th>\n      <td>City</td>\n      <td>3</td>\n      <td>0.334447</td>\n    </tr>\n    <tr>\n      <th>2</th>\n      <td>City</td>\n      <td>4</td>\n      <td>0.343238</td>\n    </tr>\n    <tr>\n      <th>3</th>\n      <td>City</td>\n      <td>5</td>\n      <td>0.324633</td>\n    </tr>\n    <tr>\n      <th>4</th>\n      <td>Resort</td>\n      <td>2</td>\n      <td>0.302441</td>\n    </tr>\n    <tr>\n      <th>5</th>\n      <td>Resort</td>\n      <td>3</td>\n      <td>0.330928</td>\n    </tr>\n    <tr>\n      <th>6</th>\n      <td>Resort</td>\n      <td>4</td>\n      <td>0.406733</td>\n    </tr>\n    <tr>\n      <th>7</th>\n      <td>Resort</td>\n      <td>5</td>\n      <td>0.369126</td>\n    </tr>\n  </tbody>\n</table>\n</div>"
     },
     "metadata": {},
     "execution_count": 25
    }
   ],
   "source": [
    "# Analysis examples:\n",
    "# Mean by hotel stars and type\n",
    "ex2 = ds[['HotelType','HotelStars','Sentiment']].groupby(['HotelType','HotelStars'], as_index=False).mean()\n",
    "ex2"
   ]
  },
  {
   "cell_type": "code",
   "execution_count": null,
   "metadata": {},
   "outputs": [],
   "source": []
  }
 ]
}