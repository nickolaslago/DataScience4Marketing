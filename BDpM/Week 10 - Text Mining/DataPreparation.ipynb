{
 "nbformat": 4,
 "nbformat_minor": 2,
 "metadata": {
  "language_info": {
   "name": "python",
   "codemirror_mode": {
    "name": "ipython",
    "version": 3
   },
   "version": "3.7.6"
  },
  "orig_nbformat": 2,
  "file_extension": ".py",
  "mimetype": "text/x-python",
  "name": "python",
  "npconvert_exporter": "python",
  "pygments_lexer": "ipython3",
  "version": 3,
  "kernelspec": {
   "name": "python376jvsc74a57bd0f30a98447ab0ce6ed2c42a906dd8ff7c3035168d8630597903509f729a93be92",
   "display_name": "Python 3.7.6 64-bit ('anaconda3': virtualenv)"
  }
 },
 "cells": [
  {
   "cell_type": "markdown",
   "metadata": {},
   "source": [
    "##### Text mining examples using online hotel reviews data\n",
    "## Data Preparation\n",
    "(c) Nuno Antonio 2019-2021"
   ]
  },
  {
   "cell_type": "markdown",
   "metadata": {},
   "source": [
    "## Packages required for this set of exercices:\n",
    "- **Pandas**: Install via Anaconda Navigator Environments tab or using *pip install pandas*\n",
    "- **Numpy**: Install via Anaconda Navigator Environments tab or using *pip install numpy*\n",
    "- **Scikit**: Install via Anaconda Navigator Environments tab or using *pip install scikit-learn*\n",
    "- **Matplotlib**: Install via Anaconda Navigator Environments tab or using *pip install matplotlib*\n",
    "- **Seaborn**: Install via Anaconda Navigator Environments tab or using *pip install seaborn*\n",
    "- **NLTK**: Install via Anaconda Navigator Environments tab or using *pip install nltk*\n",
    "- **NLTK data**: After installing NLTK open a note book and run:<br>\n",
    "*import nltk<br>\n",
    "nltk.download()*\n",
    "- **BeautifulSoup4**: Install via Anaconda Navigator Environments tab or using *pip install python3-bs4*\n",
    "- **WordCloud**: Install via Anaconda Navigator Environments tab or using *pip install wordcloud*\n",
    "- **Spacy**: Install via Anaconda Navigator Environments tab or using *pip install spacy*<br>\n",
    "   To install Spanish models: *python -m spacy download es_core_news_sm*<br>\n",
    "   To install Portuguese models: *python -m spacy download pt_core_news_sm*<br>\n",
    "   To install English models: *python -m spacy download en_core_web_sm*<br>\n",
    "   To install other languages models see: https://spacy.io/usage/models#languages<br>\n",
    "- **Rake-NLTK**: Install via Anaconda Navigator Environments tab or using *pip install rake-nltk*\n",
    "- **VaderSentiment**: Install via Anaconda Navigator Environments tab or using *pip install vaderSentiment*\n",
    "- **Gensim**: Install via Anaconda Navigator Environments tab or using *pip install gensim*\n",
    "- **pyLDAvis**: Install via Anaconda Navigator Environments tab or using *pip install pip install pyldavis*"
   ]
  },
  {
   "cell_type": "code",
   "execution_count": 2,
   "metadata": {},
   "outputs": [],
   "source": [
    "# Import packages\n",
    "import csv\n",
    "import pandas as pd\n",
    "import numpy as np\n",
    "import nltk "
   ]
  },
  {
   "cell_type": "code",
   "execution_count": 3,
   "metadata": {},
   "outputs": [
    {
     "output_type": "stream",
     "name": "stderr",
     "text": [
      "b'Skipping line 12799: expected 21 fields, saw 23\\n'\nb'Skipping line 37247: expected 21 fields, saw 22\\n'\n"
     ]
    },
    {
     "output_type": "execute_result",
     "data": {
      "text/plain": [
       "  RevID   Source HotelID HotelType HotelStars  HotelRooms     ObsDate  \\\n",
       "0  B377  Booking       1    Resort          4         158  2015-11-29   \n",
       "1  B378  Booking       1    Resort          4         158  2015-11-29   \n",
       "2  B379  Booking       1    Resort          4         158  2015-11-29   \n",
       "3  B380  Booking       1    Resort          4         158  2015-11-29   \n",
       "4  B381  Booking       1    Resort          4         158  2015-11-29   \n",
       "\n",
       "   ObsDateTotalReviewsOnSite  ObsDateGlobalRating  \\\n",
       "0                       1092                  8.8   \n",
       "1                       1092                  8.8   \n",
       "2                       1092                  8.8   \n",
       "3                       1092                  8.8   \n",
       "4                       1092                  8.8   \n",
       "\n",
       "                                      RevDescription  ... RevUsername  \\\n",
       "0  Hotel is  so  centrally located with  bars and...  ...        John   \n",
       "1  Room were big & comfortable.þ Very noisy at ni...  ...       David   \n",
       "2  right near the beach & breakfast good!þ Noisy ...  ...        Dawn   \n",
       "3  The location is the best in Portimao, just acr...  ...         Ron   \n",
       "4  Hotel was clean and the staff helpful and frie...  ...         Pat   \n",
       "\n",
       "  RevUserLocation RevPublishedDate RevOverallRating  RevLocationRating  \\\n",
       "0         Ireland       2015-11-12             10.0                 -1   \n",
       "1  United Kingdom       2015-11-09              5.8                 -1   \n",
       "2        Portugal       2015-11-07              7.5                 -1   \n",
       "3             USA       2015-10-29              9.2                 -1   \n",
       "4           Spain       2015-10-27              7.1                 -1   \n",
       "\n",
       "   RevSleepQualityRating  RevRoomsRating  RevServiceRating  RevValueRating  \\\n",
       "0                     -1              -1                -1              -1   \n",
       "1                     -1              -1                -1              -1   \n",
       "2                     -1              -1                -1              -1   \n",
       "3                     -1              -1                -1              -1   \n",
       "4                     -1              -1                -1              -1   \n",
       "\n",
       "   RevCleanlinessRating  \n",
       "0                    -1  \n",
       "1                    -1  \n",
       "2                    -1  \n",
       "3                    -1  \n",
       "4                    -1  \n",
       "\n",
       "[5 rows x 21 columns]"
      ],
      "text/html": "<div>\n<style scoped>\n    .dataframe tbody tr th:only-of-type {\n        vertical-align: middle;\n    }\n\n    .dataframe tbody tr th {\n        vertical-align: top;\n    }\n\n    .dataframe thead th {\n        text-align: right;\n    }\n</style>\n<table border=\"1\" class=\"dataframe\">\n  <thead>\n    <tr style=\"text-align: right;\">\n      <th></th>\n      <th>RevID</th>\n      <th>Source</th>\n      <th>HotelID</th>\n      <th>HotelType</th>\n      <th>HotelStars</th>\n      <th>HotelRooms</th>\n      <th>ObsDate</th>\n      <th>ObsDateTotalReviewsOnSite</th>\n      <th>ObsDateGlobalRating</th>\n      <th>RevDescription</th>\n      <th>...</th>\n      <th>RevUsername</th>\n      <th>RevUserLocation</th>\n      <th>RevPublishedDate</th>\n      <th>RevOverallRating</th>\n      <th>RevLocationRating</th>\n      <th>RevSleepQualityRating</th>\n      <th>RevRoomsRating</th>\n      <th>RevServiceRating</th>\n      <th>RevValueRating</th>\n      <th>RevCleanlinessRating</th>\n    </tr>\n  </thead>\n  <tbody>\n    <tr>\n      <th>0</th>\n      <td>B377</td>\n      <td>Booking</td>\n      <td>1</td>\n      <td>Resort</td>\n      <td>4</td>\n      <td>158</td>\n      <td>2015-11-29</td>\n      <td>1092</td>\n      <td>8.8</td>\n      <td>Hotel is  so  centrally located with  bars and...</td>\n      <td>...</td>\n      <td>John</td>\n      <td>Ireland</td>\n      <td>2015-11-12</td>\n      <td>10.0</td>\n      <td>-1</td>\n      <td>-1</td>\n      <td>-1</td>\n      <td>-1</td>\n      <td>-1</td>\n      <td>-1</td>\n    </tr>\n    <tr>\n      <th>1</th>\n      <td>B378</td>\n      <td>Booking</td>\n      <td>1</td>\n      <td>Resort</td>\n      <td>4</td>\n      <td>158</td>\n      <td>2015-11-29</td>\n      <td>1092</td>\n      <td>8.8</td>\n      <td>Room were big &amp; comfortable.þ Very noisy at ni...</td>\n      <td>...</td>\n      <td>David</td>\n      <td>United Kingdom</td>\n      <td>2015-11-09</td>\n      <td>5.8</td>\n      <td>-1</td>\n      <td>-1</td>\n      <td>-1</td>\n      <td>-1</td>\n      <td>-1</td>\n      <td>-1</td>\n    </tr>\n    <tr>\n      <th>2</th>\n      <td>B379</td>\n      <td>Booking</td>\n      <td>1</td>\n      <td>Resort</td>\n      <td>4</td>\n      <td>158</td>\n      <td>2015-11-29</td>\n      <td>1092</td>\n      <td>8.8</td>\n      <td>right near the beach &amp; breakfast good!þ Noisy ...</td>\n      <td>...</td>\n      <td>Dawn</td>\n      <td>Portugal</td>\n      <td>2015-11-07</td>\n      <td>7.5</td>\n      <td>-1</td>\n      <td>-1</td>\n      <td>-1</td>\n      <td>-1</td>\n      <td>-1</td>\n      <td>-1</td>\n    </tr>\n    <tr>\n      <th>3</th>\n      <td>B380</td>\n      <td>Booking</td>\n      <td>1</td>\n      <td>Resort</td>\n      <td>4</td>\n      <td>158</td>\n      <td>2015-11-29</td>\n      <td>1092</td>\n      <td>8.8</td>\n      <td>The location is the best in Portimao, just acr...</td>\n      <td>...</td>\n      <td>Ron</td>\n      <td>USA</td>\n      <td>2015-10-29</td>\n      <td>9.2</td>\n      <td>-1</td>\n      <td>-1</td>\n      <td>-1</td>\n      <td>-1</td>\n      <td>-1</td>\n      <td>-1</td>\n    </tr>\n    <tr>\n      <th>4</th>\n      <td>B381</td>\n      <td>Booking</td>\n      <td>1</td>\n      <td>Resort</td>\n      <td>4</td>\n      <td>158</td>\n      <td>2015-11-29</td>\n      <td>1092</td>\n      <td>8.8</td>\n      <td>Hotel was clean and the staff helpful and frie...</td>\n      <td>...</td>\n      <td>Pat</td>\n      <td>Spain</td>\n      <td>2015-10-27</td>\n      <td>7.1</td>\n      <td>-1</td>\n      <td>-1</td>\n      <td>-1</td>\n      <td>-1</td>\n      <td>-1</td>\n      <td>-1</td>\n    </tr>\n  </tbody>\n</table>\n<p>5 rows × 21 columns</p>\n</div>"
     },
     "metadata": {},
     "execution_count": 3
    }
   ],
   "source": [
    "# Load dataset\n",
    "dtypes = {'RevID':'category','Source':'category','HotelID':'category',\n",
    "  'HotelType':'category','HotelStars':'category','ObsDateGlobalRating':'float64',\n",
    "  'Language':'category','RevUserName':'category','RevUserLocation':'category','RevOverallRating':'float64'}\n",
    "ds = pd.DataFrame(pd.read_csv(\"HotelOnlineReviews.txt\",sep=\"|\", \n",
    "  error_bad_lines=False, dtype=dtypes, decimal=','))\n",
    "ds.head()"
   ]
  },
  {
   "cell_type": "code",
   "execution_count": 4,
   "metadata": {},
   "outputs": [
    {
     "output_type": "execute_result",
     "data": {
      "text/plain": [
       "         HotelRooms  ObsDateTotalReviewsOnSite  ObsDateGlobalRating  \\\n",
       "count  39421.000000               39421.000000         39421.000000   \n",
       "mean     162.889145                1735.951599             7.234961   \n",
       "std       97.114807                1489.900588             2.084053   \n",
       "min       17.000000                   3.000000             3.000000   \n",
       "25%       70.000000                 648.000000             4.500000   \n",
       "50%      152.000000                1258.000000             8.200000   \n",
       "75%      224.000000                2382.000000             8.800000   \n",
       "max      369.000000                6668.000000            10.000000   \n",
       "\n",
       "       RevOverallRating  RevLocationRating  RevSleepQualityRating  \\\n",
       "count      39421.000000       39421.000000           39421.000000   \n",
       "mean           7.140790          -0.671622              -0.583192   \n",
       "std            2.353779           0.578889               0.908503   \n",
       "min            0.000000          -1.000000              -1.000000   \n",
       "25%            5.000000          -1.000000              -1.000000   \n",
       "50%            7.900000          -1.000000              -1.000000   \n",
       "75%            9.200000           0.000000               0.000000   \n",
       "max           10.000000           5.000000               5.000000   \n",
       "\n",
       "       RevRoomsRating  RevServiceRating  RevValueRating  RevCleanlinessRating  \n",
       "count    39421.000000      39421.000000    39421.000000          39421.000000  \n",
       "mean        -0.691789         -0.533548       -0.678420             -0.691662  \n",
       "std          0.461760          1.061298        0.538623              0.462636  \n",
       "min         -1.000000         -1.000000       -1.000000             -1.000000  \n",
       "25%         -1.000000         -1.000000       -1.000000             -1.000000  \n",
       "50%         -1.000000         -1.000000       -1.000000             -1.000000  \n",
       "75%          0.000000          0.000000        0.000000              0.000000  \n",
       "max          0.000000          5.000000        5.000000              5.000000  "
      ],
      "text/html": "<div>\n<style scoped>\n    .dataframe tbody tr th:only-of-type {\n        vertical-align: middle;\n    }\n\n    .dataframe tbody tr th {\n        vertical-align: top;\n    }\n\n    .dataframe thead th {\n        text-align: right;\n    }\n</style>\n<table border=\"1\" class=\"dataframe\">\n  <thead>\n    <tr style=\"text-align: right;\">\n      <th></th>\n      <th>HotelRooms</th>\n      <th>ObsDateTotalReviewsOnSite</th>\n      <th>ObsDateGlobalRating</th>\n      <th>RevOverallRating</th>\n      <th>RevLocationRating</th>\n      <th>RevSleepQualityRating</th>\n      <th>RevRoomsRating</th>\n      <th>RevServiceRating</th>\n      <th>RevValueRating</th>\n      <th>RevCleanlinessRating</th>\n    </tr>\n  </thead>\n  <tbody>\n    <tr>\n      <th>count</th>\n      <td>39421.000000</td>\n      <td>39421.000000</td>\n      <td>39421.000000</td>\n      <td>39421.000000</td>\n      <td>39421.000000</td>\n      <td>39421.000000</td>\n      <td>39421.000000</td>\n      <td>39421.000000</td>\n      <td>39421.000000</td>\n      <td>39421.000000</td>\n    </tr>\n    <tr>\n      <th>mean</th>\n      <td>162.889145</td>\n      <td>1735.951599</td>\n      <td>7.234961</td>\n      <td>7.140790</td>\n      <td>-0.671622</td>\n      <td>-0.583192</td>\n      <td>-0.691789</td>\n      <td>-0.533548</td>\n      <td>-0.678420</td>\n      <td>-0.691662</td>\n    </tr>\n    <tr>\n      <th>std</th>\n      <td>97.114807</td>\n      <td>1489.900588</td>\n      <td>2.084053</td>\n      <td>2.353779</td>\n      <td>0.578889</td>\n      <td>0.908503</td>\n      <td>0.461760</td>\n      <td>1.061298</td>\n      <td>0.538623</td>\n      <td>0.462636</td>\n    </tr>\n    <tr>\n      <th>min</th>\n      <td>17.000000</td>\n      <td>3.000000</td>\n      <td>3.000000</td>\n      <td>0.000000</td>\n      <td>-1.000000</td>\n      <td>-1.000000</td>\n      <td>-1.000000</td>\n      <td>-1.000000</td>\n      <td>-1.000000</td>\n      <td>-1.000000</td>\n    </tr>\n    <tr>\n      <th>25%</th>\n      <td>70.000000</td>\n      <td>648.000000</td>\n      <td>4.500000</td>\n      <td>5.000000</td>\n      <td>-1.000000</td>\n      <td>-1.000000</td>\n      <td>-1.000000</td>\n      <td>-1.000000</td>\n      <td>-1.000000</td>\n      <td>-1.000000</td>\n    </tr>\n    <tr>\n      <th>50%</th>\n      <td>152.000000</td>\n      <td>1258.000000</td>\n      <td>8.200000</td>\n      <td>7.900000</td>\n      <td>-1.000000</td>\n      <td>-1.000000</td>\n      <td>-1.000000</td>\n      <td>-1.000000</td>\n      <td>-1.000000</td>\n      <td>-1.000000</td>\n    </tr>\n    <tr>\n      <th>75%</th>\n      <td>224.000000</td>\n      <td>2382.000000</td>\n      <td>8.800000</td>\n      <td>9.200000</td>\n      <td>0.000000</td>\n      <td>0.000000</td>\n      <td>0.000000</td>\n      <td>0.000000</td>\n      <td>0.000000</td>\n      <td>0.000000</td>\n    </tr>\n    <tr>\n      <th>max</th>\n      <td>369.000000</td>\n      <td>6668.000000</td>\n      <td>10.000000</td>\n      <td>10.000000</td>\n      <td>5.000000</td>\n      <td>5.000000</td>\n      <td>0.000000</td>\n      <td>5.000000</td>\n      <td>5.000000</td>\n      <td>5.000000</td>\n    </tr>\n  </tbody>\n</table>\n</div>"
     },
     "metadata": {},
     "execution_count": 4
    }
   ],
   "source": [
    "# Describe dataset\n",
    "ds.describe()"
   ]
  },
  {
   "cell_type": "code",
   "execution_count": 5,
   "metadata": {},
   "outputs": [
    {
     "output_type": "stream",
     "name": "stdout",
     "text": [
      "Full review:\n My husband &amp; I stayed here for 10 days. Hotel arranged for airport pick up prior to our arrival. Staff was friendly and helpful. Lisbon is a great \"walking city\" and the location is very central; easy walk to sites, trams, etc. Base level rooms are VERY small (read size when booking). Bathroom had tub which is a nice plus. Linens were good, mattress quite comfortable, pillows a little too \"hard\" for our preference. Outside noise (trash trucks) awoke me two separate nights. Breakfast offering was plentiful and good, bar drinks also good. We did have one problem during our stay. One night when we arrived to our room our door was open. Nightly, treats are delivered and we suspected the door was inadvertently left not fully closed by the person who delivered that nights' treat. Staff investigated and we were told by reviewing our lock personnel from the restaurant (treat) &amp; housekeeping had entered our room and thus they were unable to determine who left the door open. Fortunately nothing was stolen, BUT.... It was deeply unsettling. An offer to upgrade us to a suite \"being unused\" by the GM was offered, which we declined. We were surprised that a couple nights later when we ran into the GM at the hotel bar she did NOT pick up our bar tab. I would not likely stay at this hotel again or recommend it based on our experience.\n"
     ]
    }
   ],
   "source": [
    "# View text of review with ID T9909\n",
    "index = np.where(ds['RevID']=='T9909')\n",
    "reviewText = ((ds.RevDescription[index[0]]).values)[0]\n",
    "print(\"Full review:\\n\",reviewText)"
   ]
  },
  {
   "cell_type": "code",
   "execution_count": 6,
   "metadata": {},
   "outputs": [
    {
     "output_type": "stream",
     "name": "stdout",
     "text": [
      "Full review without HTML:\n My husband & I stayed here for 10 days. Hotel arranged for airport pick up prior to our arrival. Staff was friendly and helpful. Lisbon is a great \"walking city\" and the location is very central; easy walk to sites, trams, etc. Base level rooms are VERY small (read size when booking). Bathroom had tub which is a nice plus. Linens were good, mattress quite comfortable, pillows a little too \"hard\" for our preference. Outside noise (trash trucks) awoke me two separate nights. Breakfast offering was plentiful and good, bar drinks also good. We did have one problem during our stay. One night when we arrived to our room our door was open. Nightly, treats are delivered and we suspected the door was inadvertently left not fully closed by the person who delivered that nights' treat. Staff investigated and we were told by reviewing our lock personnel from the restaurant (treat) & housekeeping had entered our room and thus they were unable to determine who left the door open. Fortunately nothing was stolen, BUT.... It was deeply unsettling. An offer to upgrade us to a suite \"being unused\" by the GM was offered, which we declined. We were surprised that a couple nights later when we ran into the GM at the hotel bar she did NOT pick up our bar tab. I would not likely stay at this hotel again or recommend it based on our experience.\n"
     ]
    }
   ],
   "source": [
    "# Remove HTML\n",
    "from bs4 import BeautifulSoup\n",
    "rawText = BeautifulSoup(reviewText,'html.parser').get_text()\n",
    "print(\"Full review without HTML:\\n\",rawText) # seems similar, but check \"Variables\"\n"
   ]
  },
  {
   "cell_type": "code",
   "execution_count": 7,
   "metadata": {},
   "outputs": [
    {
     "output_type": "stream",
     "name": "stdout",
     "text": [
      "Normalized text:\n my husband & i stayed here for 10 days. hotel arranged for airport pick up prior to our arrival. staff was friendly and helpful. lisbon is a great \"walking city\" and the location is very central; easy walk to sites, trams, etc. base level rooms are very small (read size when booking). bathroom had tub which is a nice plus. linens were good, mattress quite comfortable, pillows a little too \"hard\" for our preference. outside noise (trash trucks) awoke me two separate nights. breakfast offering was plentiful and good, bar drinks also good. we did have one problem during our stay. one night when we arrived to our room our door was open. nightly, treats are delivered and we suspected the door was inadvertently left not fully closed by the person who delivered that nights' treat. staff investigated and we were told by reviewing our lock personnel from the restaurant (treat) & housekeeping had entered our room and thus they were unable to determine who left the door open. fortunately nothing was stolen, but.... it was deeply unsettling. an offer to upgrade us to a suite \"being unused\" by the gm was offered, which we declined. we were surprised that a couple nights later when we ran into the gm at the hotel bar she did not pick up our bar tab. i would not likely stay at this hotel again or recommend it based on our experience.\n"
     ]
    }
   ],
   "source": [
    "# Normalize case\n",
    "normalizedText = rawText.lower()\n",
    "print(\"Normalized text:\\n\",normalizedText)"
   ]
  },
  {
   "cell_type": "code",
   "execution_count": 8,
   "metadata": {},
   "outputs": [
    {
     "output_type": "stream",
     "name": "stdout",
     "text": [
      "Text without punctuation:\n my husband  i stayed here for 10 days hotel arranged for airport pick up prior to our arrival staff was friendly and helpful lisbon is a great walking city and the location is very central easy walk to sites trams etc base level rooms are very small read size when booking bathroom had tub which is a nice plus linens were good mattress quite comfortable pillows a little too hard for our preference outside noise trash trucks awoke me two separate nights breakfast offering was plentiful and good bar drinks also good we did have one problem during our stay one night when we arrived to our room our door was open nightly treats are delivered and we suspected the door was inadvertently left not fully closed by the person who delivered that nights' treat staff investigated and we were told by reviewing our lock personnel from the restaurant treat  housekeeping had entered our room and thus they were unable to determine who left the door open fortunately nothing was stolen but it was deeply unsettling an offer to upgrade us to a suite being unused by the gm was offered which we declined we were surprised that a couple nights later when we ran into the gm at the hotel bar she did not pick up our bar tab i would not likely stay at this hotel again or recommend it based on our experience\n"
     ]
    }
   ],
   "source": [
    "# Remove certain classes of characters (using \"regular expressions\" - regex)\n",
    "# To test regex online: https://regex101.com\n",
    "# Regex in more detail: https://www.machinelearningplus.com/python/python-regex-tutorial-examples/\n",
    "import re\n",
    "charsToRemove = r'\\?|\\.|\\!|\\;|\\.|\\\"|\\,|\\(|\\)|\\&'  # punctuation characters and other characters\n",
    "textWOPunctuation = re.sub(charsToRemove,'', normalizedText,)\n",
    "print(\"Text without punctuation:\\n\",textWOPunctuation)"
   ]
  },
  {
   "cell_type": "code",
   "execution_count": 9,
   "metadata": {},
   "outputs": [
    {
     "output_type": "stream",
     "name": "stdout",
     "text": [
      "List of words:\n ['my', 'husband', 'i', 'stayed', 'here', 'for', '10', 'days', 'hotel', 'arranged', 'for', 'airport', 'pick', 'up', 'prior', 'to', 'our', 'arrival', 'staff', 'was', 'friendly', 'and', 'helpful', 'lisbon', 'is', 'a', 'great', 'walking', 'city', 'and', 'the', 'location', 'is', 'very', 'central', 'easy', 'walk', 'to', 'sites', 'trams', 'etc', 'base', 'level', 'rooms', 'are', 'very', 'small', 'read', 'size', 'when', 'booking', 'bathroom', 'had', 'tub', 'which', 'is', 'a', 'nice', 'plus', 'linens', 'were', 'good', 'mattress', 'quite', 'comfortable', 'pillows', 'a', 'little', 'too', 'hard', 'for', 'our', 'preference', 'outside', 'noise', 'trash', 'trucks', 'awoke', 'me', 'two', 'separate', 'nights', 'breakfast', 'offering', 'was', 'plentiful', 'and', 'good', 'bar', 'drinks', 'also', 'good', 'we', 'did', 'have', 'one', 'problem', 'during', 'our', 'stay', 'one', 'night', 'when', 'we', 'arrived', 'to', 'our', 'room', 'our', 'door', 'was', 'open', 'nightly', 'treats', 'are', 'delivered', 'and', 'we', 'suspected', 'the', 'door', 'was', 'inadvertently', 'left', 'not', 'fully', 'closed', 'by', 'the', 'person', 'who', 'delivered', 'that', 'nights', \"'\", 'treat', 'staff', 'investigated', 'and', 'we', 'were', 'told', 'by', 'reviewing', 'our', 'lock', 'personnel', 'from', 'the', 'restaurant', 'treat', 'housekeeping', 'had', 'entered', 'our', 'room', 'and', 'thus', 'they', 'were', 'unable', 'to', 'determine', 'who', 'left', 'the', 'door', 'open', 'fortunately', 'nothing', 'was', 'stolen', 'but', 'it', 'was', 'deeply', 'unsettling', 'an', 'offer', 'to', 'upgrade', 'us', 'to', 'a', 'suite', 'being', 'unused', 'by', 'the', 'gm', 'was', 'offered', 'which', 'we', 'declined', 'we', 'were', 'surprised', 'that', 'a', 'couple', 'nights', 'later', 'when', 'we', 'ran', 'into', 'the', 'gm', 'at', 'the', 'hotel', 'bar', 'she', 'did', 'not', 'pick', 'up', 'our', 'bar', 'tab', 'i', 'would', 'not', 'likely', 'stay', 'at', 'this', 'hotel', 'again', 'or', 'recommend', 'it', 'based', 'on', 'our', 'experience']\n"
     ]
    }
   ],
   "source": [
    "# Word tokenization - Break text into words\n",
    "from nltk.tokenize import word_tokenize\n",
    "tokenizedText = word_tokenize(textWOPunctuation, language='english')\n",
    "print(\"List of words:\\n\",tokenizedText)"
   ]
  },
  {
   "cell_type": "code",
   "execution_count": 10,
   "metadata": {},
   "outputs": [
    {
     "output_type": "stream",
     "name": "stdout",
     "text": [
      "Text without stopwords:\n ['husband', 'stayed', '10', 'days', 'hotel', 'arranged', 'airport', 'pick', 'prior', 'arrival', 'staff', 'friendly', 'helpful', 'lisbon', 'great', 'walking', 'city', 'location', 'central', 'easy', 'walk', 'sites', 'trams', 'etc', 'base', 'level', 'rooms', 'small', 'read', 'size', 'booking', 'bathroom', 'tub', 'nice', 'plus', 'linens', 'good', 'mattress', 'quite', 'comfortable', 'pillows', 'little', 'hard', 'preference', 'outside', 'noise', 'trash', 'trucks', 'awoke', 'two', 'separate', 'nights', 'breakfast', 'offering', 'plentiful', 'good', 'bar', 'drinks', 'also', 'good', 'one', 'problem', 'stay', 'one', 'night', 'arrived', 'room', 'door', 'open', 'nightly', 'treats', 'delivered', 'suspected', 'door', 'inadvertently', 'left', 'fully', 'closed', 'person', 'delivered', 'nights', \"'\", 'treat', 'staff', 'investigated', 'told', 'reviewing', 'lock', 'personnel', 'restaurant', 'treat', 'housekeeping', 'entered', 'room', 'thus', 'unable', 'determine', 'left', 'door', 'open', 'fortunately', 'nothing', 'stolen', 'deeply', 'unsettling', 'offer', 'upgrade', 'us', 'suite', 'unused', 'gm', 'offered', 'declined', 'surprised', 'couple', 'nights', 'later', 'ran', 'gm', 'hotel', 'bar', 'pick', 'bar', 'tab', 'would', 'likely', 'stay', 'hotel', 'recommend', 'based', 'experience']\n"
     ]
    }
   ],
   "source": [
    "# Remove stopwords\n",
    "from nltk.corpus import stopwords\n",
    "stop_words = set(stopwords.words('english'))\n",
    "#print (stop_words) # remove the remark to see the list of stopwords in English\n",
    "cleanedText = []\n",
    "for t in tokenizedText:\n",
    "    if t not in stop_words:\n",
    "        cleanedText.append(t)\n",
    "print(\"Text without stopwords:\\n\",cleanedText) "
   ]
  },
  {
   "cell_type": "code",
   "execution_count": 11,
   "metadata": {},
   "outputs": [
    {
     "output_type": "stream",
     "name": "stdout",
     "text": [
      "Full sentence with changes so far:\n husband stayed 10 days hotel arranged airport pick prior arrival staff friendly helpful lisbon great walking city location central easy walk sites trams etc base level rooms small read size booking bathroom tub nice plus linens good mattress quite comfortable pillows little hard preference outside noise trash trucks awoke two separate nights breakfast offering plentiful good bar drinks also good one problem stay one night arrived room door open nightly treats delivered suspected door inadvertently left fully closed person delivered nights ' treat staff investigated told reviewing lock personnel restaurant treat housekeeping entered room thus unable determine left door open fortunately nothing stolen deeply unsettling offer upgrade us suite unused gm offered declined surprised couple nights later ran gm hotel bar pick bar tab would likely stay hotel recommend based experience\n"
     ]
    }
   ],
   "source": [
    "# Create a string from all the words\n",
    "newText = ''\n",
    "for t in cleanedText:\n",
    "  newText = newText + t + ' '\n",
    "newText = newText.rstrip()\n",
    "print(\"Full sentence with changes so far:\\n\", newText)"
   ]
  },
  {
   "cell_type": "code",
   "execution_count": 12,
   "metadata": {},
   "outputs": [
    {
     "output_type": "stream",
     "name": "stdout",
     "text": [
      "Lemmatized text :\n ['husband', 'stayed', '10', 'day', 'hotel', 'arranged', 'airport', 'pick', 'prior', 'arrival', 'staff', 'friendly', 'helpful', 'lisbon', 'great', 'walking', 'city', 'location', 'central', 'easy', 'walk', 'site', 'tram', 'etc', 'base', 'level', 'room', 'small', 'read', 'size', 'booking', 'bathroom', 'tub', 'nice', 'plus', 'linen', 'good', 'mattress', 'quite', 'comfortable', 'pillow', 'little', 'hard', 'preference', 'outside', 'noise', 'trash', 'truck', 'awoke', 'two', 'separate', 'night', 'breakfast', 'offering', 'plentiful', 'good', 'bar', 'drink', 'also', 'good', 'one', 'problem', 'stay', 'one', 'night', 'arrived', 'room', 'door', 'open', 'nightly', 'treat', 'delivered', 'suspected', 'door', 'inadvertently', 'left', 'fully', 'closed', 'person', 'delivered', 'night', \"'\", 'treat', 'staff', 'investigated', 'told', 'reviewing', 'lock', 'personnel', 'restaurant', 'treat', 'housekeeping', 'entered', 'room', 'thus', 'unable', 'determine', 'left', 'door', 'open', 'fortunately', 'nothing', 'stolen', 'deeply', 'unsettling', 'offer', 'upgrade', 'u', 'suite', 'unused', 'gm', 'offered', 'declined', 'surprised', 'couple', 'night', 'later', 'ran', 'gm', 'hotel', 'bar', 'pick', 'bar', 'tab', 'would', 'likely', 'stay', 'hotel', 'recommend', 'based', 'experience']\n"
     ]
    }
   ],
   "source": [
    "# Lexicon normalization - Lemmatization\n",
    "from nltk.stem.wordnet import WordNetLemmatizer\n",
    "lem = WordNetLemmatizer()\n",
    "lemmatizedText= []\n",
    "for t in cleanedText:\n",
    "    lemWord = lem.lemmatize(t) # it should in consideration the POS, or assume it is a Noun\n",
    "    lemmatizedText.append(lemWord)\n",
    "print(\"Lemmatized text :\\n\",lemmatizedText) "
   ]
  },
  {
   "cell_type": "code",
   "execution_count": 13,
   "metadata": {},
   "outputs": [
    {
     "output_type": "stream",
     "name": "stdout",
     "text": [
      "Stemmed text :\n ['husband', 'stay', '10', 'day', 'hotel', 'arrang', 'airport', 'pick', 'prior', 'arriv', 'staff', 'friendli', 'help', 'lisbon', 'great', 'walk', 'citi', 'locat', 'central', 'easi', 'walk', 'site', 'tram', 'etc', 'base', 'level', 'room', 'small', 'read', 'size', 'book', 'bathroom', 'tub', 'nice', 'plu', 'linen', 'good', 'mattress', 'quit', 'comfort', 'pillow', 'littl', 'hard', 'prefer', 'outsid', 'nois', 'trash', 'truck', 'awok', 'two', 'separ', 'night', 'breakfast', 'offer', 'plenti', 'good', 'bar', 'drink', 'also', 'good', 'one', 'problem', 'stay', 'one', 'night', 'arriv', 'room', 'door', 'open', 'nightli', 'treat', 'deliv', 'suspect', 'door', 'inadvert', 'left', 'fulli', 'close', 'person', 'deliv', 'night', \"'\", 'treat', 'staff', 'investig', 'told', 'review', 'lock', 'personnel', 'restaur', 'treat', 'housekeep', 'enter', 'room', 'thu', 'unabl', 'determin', 'left', 'door', 'open', 'fortun', 'noth', 'stolen', 'deepli', 'unsettl', 'offer', 'upgrad', 'us', 'suit', 'unus', 'gm', 'offer', 'declin', 'surpris', 'coupl', 'night', 'later', 'ran', 'gm', 'hotel', 'bar', 'pick', 'bar', 'tab', 'would', 'like', 'stay', 'hotel', 'recommend', 'base', 'experi']\n"
     ]
    }
   ],
   "source": [
    "# Lexicon normalization - Stemming\n",
    "from nltk.stem.porter import PorterStemmer\n",
    "stem = PorterStemmer()\n",
    "stemmedText = []\n",
    "for t in cleanedText:\n",
    "    stemmedWord = stem.stem(t)\n",
    "    stemmedText.append(stemmedWord)\n",
    "print(\"Stemmed text :\\n\",stemmedText) "
   ]
  },
  {
   "cell_type": "code",
   "execution_count": null,
   "metadata": {},
   "outputs": [],
   "source": []
  }
 ]
}