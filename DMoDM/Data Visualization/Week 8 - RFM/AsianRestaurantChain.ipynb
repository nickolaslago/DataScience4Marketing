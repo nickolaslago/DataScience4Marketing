{
 "cells": [
  {
   "cell_type": "markdown",
   "metadata": {},
   "source": [
    "# Segmenting restaurant delivery customers using RFM\n",
    "\n",
    "### C, a company created more than two decades ago, owns several restaurants in Cyprus. These restaurants are grouped into different brands, according to the restaurants concept, location, and type of cuisine.\n",
    "### One of the first brands created by C, specialized in Asian food, mainly in Chinese food, is struggling to maintain their profit margin and continuous growth due to increasing competition and customers’ changes of habits. To try to revert this process, C wants to take advantage of their sales data to understand customers’ patterns of consumption and preferences. \n",
    "\n",
    "This is a simple example. Not all CRISP-DM phases are seen in high detail.\n",
    "\n",
    "Nuno António - Rev. 1.00 - October, 2020"
   ]
  },
  {
   "cell_type": "markdown",
   "metadata": {},
   "source": [
    "### Dataset description\n",
    "\n",
    "#### This is real data. Some quality issues may arise. Please, do not share the data outside this course.\n",
    "\n",
    "Each row in the dataset represents a document line (invoice line). The dataset is composed of the following columns:\n",
    "- **DocNumber**: number of the document. The document number repeats in as many rows as the rows in the original document (invoice)\n",
    "- **ProductDesignation**: product designation\n",
    "- **ProductFamily**: name of the family of the product. A product can only be member of one only family\n",
    "- **Qty**: quantity\n",
    "- **TotalAmount**: sale price of the total quantity\n",
    "- **InvoiceDateHour**: date and hour when the document was issued\n",
    "- **EmployeeID**: ID of the employee who issued the document\n",
    "- **IsDelivery**: indication if sale was a delivery or a dine-inn (1: delivery, 0: dine-inn)\n",
    "- **Pax**: number of persons at the table\n",
    "- **CustomerID**: ID of the customer (if a customer record was assigned to the sale)\n",
    "- **CustomerCity**: city of the customer (usually only employed in delivery)\n",
    "- **CustomerSince**: date of creation of the customer"
   ]
  },
  {
   "cell_type": "markdown",
   "metadata": {},
   "source": [
    "### Initial setup and modules/packages loading"
   ]
  },
  {
   "cell_type": "code",
   "execution_count": 2,
   "metadata": {},
   "outputs": [],
   "source": [
    "import os\n",
    "import csv\n",
    "import numpy as np\n",
    "import pandas as pd\n",
    "import matplotlib.pyplot as plt\n",
    "import seaborn as sns"
   ]
  },
  {
   "cell_type": "markdown",
   "metadata": {},
   "source": [
    "### Data understanding"
   ]
  },
  {
   "cell_type": "code",
   "execution_count": 3,
   "metadata": {},
   "outputs": [
    {
     "output_type": "stream",
     "name": "stdout",
     "text": [
      "<class 'pandas.core.frame.DataFrame'>\nRangeIndex: 84109 entries, 0 to 84108\nData columns (total 12 columns):\n #   Column              Non-Null Count  Dtype  \n---  ------              --------------  -----  \n 0   DocNumber           84109 non-null  object \n 1   ProductDesignation  84109 non-null  object \n 2   ProductFamily       84109 non-null  object \n 3   Qty                 84109 non-null  float64\n 4   TotalAmount         84109 non-null  float64\n 5   InvoiceDateHour     84109 non-null  object \n 6   EmployeeID          84109 non-null  int64  \n 7   IsDelivery          84109 non-null  int64  \n 8   Pax                 84109 non-null  int64  \n 9   CustomerID          84109 non-null  int64  \n 10  CustomerCity        31248 non-null  object \n 11  CustomerSince       29142 non-null  object \ndtypes: float64(2), int64(4), object(6)\nmemory usage: 7.7+ MB\n"
     ]
    }
   ],
   "source": [
    "# Load data \n",
    "ds = pd.read_csv('AsianRestaurantChain_Cyprus_2018.csv', sep=\";\")\n",
    "ds.info()"
   ]
  },
  {
   "cell_type": "code",
   "execution_count": 4,
   "metadata": {},
   "outputs": [
    {
     "output_type": "execute_result",
     "data": {
      "text/plain": [
       "          DocNumber         ProductDesignation ProductFamily  Qty  \\\n",
       "0  TKD0320000012018                   1/2 DUCK      STARTERS  1.0   \n",
       "1  TKD0320000012018                SPRING ROLL      STARTERS  8.0   \n",
       "2  TKD0320000012018         SWEET SOUR CHICKEN          MEAT  2.0   \n",
       "3  TKD0320000012018              LEMON CHICKEN          MEAT  1.0   \n",
       "4  TKD0320000012018                   BEEF BBS      SIZZLING  1.0   \n",
       "5  TKD0320000012018                   BEEF BBS      SIZZLING  1.0   \n",
       "6  TKD0320000012018               STEAMED RICE          RICE  2.0   \n",
       "7  TKD0320000012018  SPECIAL MONTPARNASSE RICE          RICE  1.0   \n",
       "8  TKD0320000012018          NOODLES WITH MEAT          RICE  2.0   \n",
       "9  TKD0320000012018                    NO MEAT         HOLDS  2.0   \n",
       "\n",
       "   TotalAmount          InvoiceDateHour  EmployeeID  IsDelivery  Pax  \\\n",
       "0         27.1  2018-01-01 19:12:12.000           2           1    1   \n",
       "1         17.6  2018-01-01 19:12:12.000           2           1    1   \n",
       "2         20.2  2018-01-01 19:12:12.000           2           1    1   \n",
       "3         10.1  2018-01-01 19:12:12.000           2           1    1   \n",
       "4         12.6  2018-01-01 19:12:12.000           2           1    1   \n",
       "5         12.6  2018-01-01 19:12:12.000           2           1    1   \n",
       "6          8.8  2018-01-01 19:12:12.000           2           1    1   \n",
       "7          6.3  2018-01-01 19:12:12.000           2           1    1   \n",
       "8         15.8  2018-01-01 19:12:12.000           2           1    1   \n",
       "9          0.0  2018-01-01 19:12:12.000           2           1    1   \n",
       "\n",
       "   CustomerID CustomerCity CustomerSince  \n",
       "0       53908     LEYKOSIA           NaN  \n",
       "1       53908     LEYKOSIA           NaN  \n",
       "2       53908     LEYKOSIA           NaN  \n",
       "3       53908     LEYKOSIA           NaN  \n",
       "4       53908     LEYKOSIA           NaN  \n",
       "5       53908     LEYKOSIA           NaN  \n",
       "6       53908     LEYKOSIA           NaN  \n",
       "7       53908     LEYKOSIA           NaN  \n",
       "8       53908     LEYKOSIA           NaN  \n",
       "9       53908     LEYKOSIA           NaN  "
      ],
      "text/html": "<div>\n<style scoped>\n    .dataframe tbody tr th:only-of-type {\n        vertical-align: middle;\n    }\n\n    .dataframe tbody tr th {\n        vertical-align: top;\n    }\n\n    .dataframe thead th {\n        text-align: right;\n    }\n</style>\n<table border=\"1\" class=\"dataframe\">\n  <thead>\n    <tr style=\"text-align: right;\">\n      <th></th>\n      <th>DocNumber</th>\n      <th>ProductDesignation</th>\n      <th>ProductFamily</th>\n      <th>Qty</th>\n      <th>TotalAmount</th>\n      <th>InvoiceDateHour</th>\n      <th>EmployeeID</th>\n      <th>IsDelivery</th>\n      <th>Pax</th>\n      <th>CustomerID</th>\n      <th>CustomerCity</th>\n      <th>CustomerSince</th>\n    </tr>\n  </thead>\n  <tbody>\n    <tr>\n      <th>0</th>\n      <td>TKD0320000012018</td>\n      <td>1/2 DUCK</td>\n      <td>STARTERS</td>\n      <td>1.0</td>\n      <td>27.1</td>\n      <td>2018-01-01 19:12:12.000</td>\n      <td>2</td>\n      <td>1</td>\n      <td>1</td>\n      <td>53908</td>\n      <td>LEYKOSIA</td>\n      <td>NaN</td>\n    </tr>\n    <tr>\n      <th>1</th>\n      <td>TKD0320000012018</td>\n      <td>SPRING ROLL</td>\n      <td>STARTERS</td>\n      <td>8.0</td>\n      <td>17.6</td>\n      <td>2018-01-01 19:12:12.000</td>\n      <td>2</td>\n      <td>1</td>\n      <td>1</td>\n      <td>53908</td>\n      <td>LEYKOSIA</td>\n      <td>NaN</td>\n    </tr>\n    <tr>\n      <th>2</th>\n      <td>TKD0320000012018</td>\n      <td>SWEET SOUR CHICKEN</td>\n      <td>MEAT</td>\n      <td>2.0</td>\n      <td>20.2</td>\n      <td>2018-01-01 19:12:12.000</td>\n      <td>2</td>\n      <td>1</td>\n      <td>1</td>\n      <td>53908</td>\n      <td>LEYKOSIA</td>\n      <td>NaN</td>\n    </tr>\n    <tr>\n      <th>3</th>\n      <td>TKD0320000012018</td>\n      <td>LEMON CHICKEN</td>\n      <td>MEAT</td>\n      <td>1.0</td>\n      <td>10.1</td>\n      <td>2018-01-01 19:12:12.000</td>\n      <td>2</td>\n      <td>1</td>\n      <td>1</td>\n      <td>53908</td>\n      <td>LEYKOSIA</td>\n      <td>NaN</td>\n    </tr>\n    <tr>\n      <th>4</th>\n      <td>TKD0320000012018</td>\n      <td>BEEF BBS</td>\n      <td>SIZZLING</td>\n      <td>1.0</td>\n      <td>12.6</td>\n      <td>2018-01-01 19:12:12.000</td>\n      <td>2</td>\n      <td>1</td>\n      <td>1</td>\n      <td>53908</td>\n      <td>LEYKOSIA</td>\n      <td>NaN</td>\n    </tr>\n    <tr>\n      <th>5</th>\n      <td>TKD0320000012018</td>\n      <td>BEEF BBS</td>\n      <td>SIZZLING</td>\n      <td>1.0</td>\n      <td>12.6</td>\n      <td>2018-01-01 19:12:12.000</td>\n      <td>2</td>\n      <td>1</td>\n      <td>1</td>\n      <td>53908</td>\n      <td>LEYKOSIA</td>\n      <td>NaN</td>\n    </tr>\n    <tr>\n      <th>6</th>\n      <td>TKD0320000012018</td>\n      <td>STEAMED RICE</td>\n      <td>RICE</td>\n      <td>2.0</td>\n      <td>8.8</td>\n      <td>2018-01-01 19:12:12.000</td>\n      <td>2</td>\n      <td>1</td>\n      <td>1</td>\n      <td>53908</td>\n      <td>LEYKOSIA</td>\n      <td>NaN</td>\n    </tr>\n    <tr>\n      <th>7</th>\n      <td>TKD0320000012018</td>\n      <td>SPECIAL MONTPARNASSE RICE</td>\n      <td>RICE</td>\n      <td>1.0</td>\n      <td>6.3</td>\n      <td>2018-01-01 19:12:12.000</td>\n      <td>2</td>\n      <td>1</td>\n      <td>1</td>\n      <td>53908</td>\n      <td>LEYKOSIA</td>\n      <td>NaN</td>\n    </tr>\n    <tr>\n      <th>8</th>\n      <td>TKD0320000012018</td>\n      <td>NOODLES WITH MEAT</td>\n      <td>RICE</td>\n      <td>2.0</td>\n      <td>15.8</td>\n      <td>2018-01-01 19:12:12.000</td>\n      <td>2</td>\n      <td>1</td>\n      <td>1</td>\n      <td>53908</td>\n      <td>LEYKOSIA</td>\n      <td>NaN</td>\n    </tr>\n    <tr>\n      <th>9</th>\n      <td>TKD0320000012018</td>\n      <td>NO MEAT</td>\n      <td>HOLDS</td>\n      <td>2.0</td>\n      <td>0.0</td>\n      <td>2018-01-01 19:12:12.000</td>\n      <td>2</td>\n      <td>1</td>\n      <td>1</td>\n      <td>53908</td>\n      <td>LEYKOSIA</td>\n      <td>NaN</td>\n    </tr>\n  </tbody>\n</table>\n</div>"
     },
     "metadata": {},
     "execution_count": 4
    }
   ],
   "source": [
    "# Display top 10 rows\n",
    "ds.head(10)"
   ]
  },
  {
   "cell_type": "code",
   "execution_count": 5,
   "metadata": {},
   "outputs": [
    {
     "output_type": "execute_result",
     "data": {
      "text/plain": [
       "                    count unique                      top   freq      mean  \\\n",
       "DocNumber           84109  11147          TK0110053522018     46       NaN   \n",
       "ProductDesignation  84109    255      MINERAL WATER 1.5LT   7061       NaN   \n",
       "ProductFamily       84109     27                 STARTERS  14148       NaN   \n",
       "Qty                 84109    NaN                      NaN    NaN   1.26126   \n",
       "TotalAmount         84109    NaN                      NaN    NaN   9.83142   \n",
       "InvoiceDateHour     84109  11146  2018-12-24 22:59:54.000     46       NaN   \n",
       "EmployeeID          84109    NaN                      NaN    NaN   3.59122   \n",
       "IsDelivery          84109    NaN                      NaN    NaN  0.371518   \n",
       "Pax                 84109    NaN                      NaN    NaN    3.3008   \n",
       "CustomerID          84109    NaN                      NaN    NaN   12633.1   \n",
       "CustomerCity        31248     17                   EGKOMI   9423       NaN   \n",
       "CustomerSince       29142   2109  2005-12-06 15:00:00.000   1164       NaN   \n",
       "\n",
       "                         std  min  25%  50%    75%    max  \n",
       "DocNumber                NaN  NaN  NaN  NaN    NaN    NaN  \n",
       "ProductDesignation       NaN  NaN  NaN  NaN    NaN    NaN  \n",
       "ProductFamily            NaN  NaN  NaN  NaN    NaN    NaN  \n",
       "Qty                  0.92378    1    1    1      1     53  \n",
       "TotalAmount          20.6568    0    3  6.9   12.6   3000  \n",
       "InvoiceDateHour          NaN  NaN  NaN  NaN    NaN    NaN  \n",
       "EmployeeID           3.68202    2    2    2      5     27  \n",
       "IsDelivery          0.483213    0    0    0      1      1  \n",
       "Pax                  3.69379    0    1    2      4    200  \n",
       "CustomerID           21952.1    0    0    0  16429  69101  \n",
       "CustomerCity             NaN  NaN  NaN  NaN    NaN    NaN  \n",
       "CustomerSince            NaN  NaN  NaN  NaN    NaN    NaN  "
      ],
      "text/html": "<div>\n<style scoped>\n    .dataframe tbody tr th:only-of-type {\n        vertical-align: middle;\n    }\n\n    .dataframe tbody tr th {\n        vertical-align: top;\n    }\n\n    .dataframe thead th {\n        text-align: right;\n    }\n</style>\n<table border=\"1\" class=\"dataframe\">\n  <thead>\n    <tr style=\"text-align: right;\">\n      <th></th>\n      <th>count</th>\n      <th>unique</th>\n      <th>top</th>\n      <th>freq</th>\n      <th>mean</th>\n      <th>std</th>\n      <th>min</th>\n      <th>25%</th>\n      <th>50%</th>\n      <th>75%</th>\n      <th>max</th>\n    </tr>\n  </thead>\n  <tbody>\n    <tr>\n      <th>DocNumber</th>\n      <td>84109</td>\n      <td>11147</td>\n      <td>TK0110053522018</td>\n      <td>46</td>\n      <td>NaN</td>\n      <td>NaN</td>\n      <td>NaN</td>\n      <td>NaN</td>\n      <td>NaN</td>\n      <td>NaN</td>\n      <td>NaN</td>\n    </tr>\n    <tr>\n      <th>ProductDesignation</th>\n      <td>84109</td>\n      <td>255</td>\n      <td>MINERAL WATER 1.5LT</td>\n      <td>7061</td>\n      <td>NaN</td>\n      <td>NaN</td>\n      <td>NaN</td>\n      <td>NaN</td>\n      <td>NaN</td>\n      <td>NaN</td>\n      <td>NaN</td>\n    </tr>\n    <tr>\n      <th>ProductFamily</th>\n      <td>84109</td>\n      <td>27</td>\n      <td>STARTERS</td>\n      <td>14148</td>\n      <td>NaN</td>\n      <td>NaN</td>\n      <td>NaN</td>\n      <td>NaN</td>\n      <td>NaN</td>\n      <td>NaN</td>\n      <td>NaN</td>\n    </tr>\n    <tr>\n      <th>Qty</th>\n      <td>84109</td>\n      <td>NaN</td>\n      <td>NaN</td>\n      <td>NaN</td>\n      <td>1.26126</td>\n      <td>0.92378</td>\n      <td>1</td>\n      <td>1</td>\n      <td>1</td>\n      <td>1</td>\n      <td>53</td>\n    </tr>\n    <tr>\n      <th>TotalAmount</th>\n      <td>84109</td>\n      <td>NaN</td>\n      <td>NaN</td>\n      <td>NaN</td>\n      <td>9.83142</td>\n      <td>20.6568</td>\n      <td>0</td>\n      <td>3</td>\n      <td>6.9</td>\n      <td>12.6</td>\n      <td>3000</td>\n    </tr>\n    <tr>\n      <th>InvoiceDateHour</th>\n      <td>84109</td>\n      <td>11146</td>\n      <td>2018-12-24 22:59:54.000</td>\n      <td>46</td>\n      <td>NaN</td>\n      <td>NaN</td>\n      <td>NaN</td>\n      <td>NaN</td>\n      <td>NaN</td>\n      <td>NaN</td>\n      <td>NaN</td>\n    </tr>\n    <tr>\n      <th>EmployeeID</th>\n      <td>84109</td>\n      <td>NaN</td>\n      <td>NaN</td>\n      <td>NaN</td>\n      <td>3.59122</td>\n      <td>3.68202</td>\n      <td>2</td>\n      <td>2</td>\n      <td>2</td>\n      <td>5</td>\n      <td>27</td>\n    </tr>\n    <tr>\n      <th>IsDelivery</th>\n      <td>84109</td>\n      <td>NaN</td>\n      <td>NaN</td>\n      <td>NaN</td>\n      <td>0.371518</td>\n      <td>0.483213</td>\n      <td>0</td>\n      <td>0</td>\n      <td>0</td>\n      <td>1</td>\n      <td>1</td>\n    </tr>\n    <tr>\n      <th>Pax</th>\n      <td>84109</td>\n      <td>NaN</td>\n      <td>NaN</td>\n      <td>NaN</td>\n      <td>3.3008</td>\n      <td>3.69379</td>\n      <td>0</td>\n      <td>1</td>\n      <td>2</td>\n      <td>4</td>\n      <td>200</td>\n    </tr>\n    <tr>\n      <th>CustomerID</th>\n      <td>84109</td>\n      <td>NaN</td>\n      <td>NaN</td>\n      <td>NaN</td>\n      <td>12633.1</td>\n      <td>21952.1</td>\n      <td>0</td>\n      <td>0</td>\n      <td>0</td>\n      <td>16429</td>\n      <td>69101</td>\n    </tr>\n    <tr>\n      <th>CustomerCity</th>\n      <td>31248</td>\n      <td>17</td>\n      <td>EGKOMI</td>\n      <td>9423</td>\n      <td>NaN</td>\n      <td>NaN</td>\n      <td>NaN</td>\n      <td>NaN</td>\n      <td>NaN</td>\n      <td>NaN</td>\n      <td>NaN</td>\n    </tr>\n    <tr>\n      <th>CustomerSince</th>\n      <td>29142</td>\n      <td>2109</td>\n      <td>2005-12-06 15:00:00.000</td>\n      <td>1164</td>\n      <td>NaN</td>\n      <td>NaN</td>\n      <td>NaN</td>\n      <td>NaN</td>\n      <td>NaN</td>\n      <td>NaN</td>\n      <td>NaN</td>\n    </tr>\n  </tbody>\n</table>\n</div>"
     },
     "metadata": {},
     "execution_count": 5
    }
   ],
   "source": [
    "# Summary statistics for all variables\n",
    "summary=ds.describe(include='all')\n",
    "summary=summary.transpose()\n",
    "summary.head(len(summary))"
   ]
  },
  {
   "cell_type": "code",
   "execution_count": 6,
   "metadata": {},
   "outputs": [
    {
     "output_type": "stream",
     "name": "stdout",
     "text": [
      "DocNumber                 0\nProductDesignation        0\nProductFamily             0\nQty                       0\nTotalAmount               0\nInvoiceDateHour           0\nEmployeeID                0\nIsDelivery                0\nPax                       0\nCustomerID                0\nCustomerCity          52861\nCustomerSince         54967\ndtype: int64\n"
     ]
    }
   ],
   "source": [
    "# Check missing values\n",
    "print(ds.isnull().sum())"
   ]
  },
  {
   "cell_type": "code",
   "execution_count": 7,
   "metadata": {},
   "outputs": [
    {
     "output_type": "execute_result",
     "data": {
      "text/plain": [
       "IsDelivery               0      1\n",
       "Without customer ID  52861      0\n",
       "With customer ID         0  31248"
      ],
      "text/html": "<div>\n<style scoped>\n    .dataframe tbody tr th:only-of-type {\n        vertical-align: middle;\n    }\n\n    .dataframe tbody tr th {\n        vertical-align: top;\n    }\n\n    .dataframe thead th {\n        text-align: right;\n    }\n</style>\n<table border=\"1\" class=\"dataframe\">\n  <thead>\n    <tr style=\"text-align: right;\">\n      <th>IsDelivery</th>\n      <th>0</th>\n      <th>1</th>\n    </tr>\n  </thead>\n  <tbody>\n    <tr>\n      <th>Without customer ID</th>\n      <td>52861</td>\n      <td>0</td>\n    </tr>\n    <tr>\n      <th>With customer ID</th>\n      <td>0</td>\n      <td>31248</td>\n    </tr>\n  </tbody>\n</table>\n</div>"
     },
     "metadata": {},
     "execution_count": 7
    }
   ],
   "source": [
    "# Exploration of categorical variables: cross table of job and education\n",
    "table1 = pd.crosstab(index=np.where(ds['CustomerID']>0,1,0), columns=ds['IsDelivery'])\n",
    "table1.index=['Without customer ID','With customer ID']\n",
    "table1"
   ]
  },
  {
   "cell_type": "code",
   "execution_count": 8,
   "metadata": {},
   "outputs": [
    {
     "output_type": "execute_result",
     "data": {
      "text/plain": [
       "<matplotlib.axes._subplots.AxesSubplot at 0x7fa766660850>"
      ]
     },
     "metadata": {},
     "execution_count": 8
    },
    {
     "output_type": "display_data",
     "data": {
      "text/plain": "<Figure size 288x216 with 1 Axes>",
      "image/svg+xml": "<?xml version=\"1.0\" encoding=\"utf-8\" standalone=\"no\"?>\n<!DOCTYPE svg PUBLIC \"-//W3C//DTD SVG 1.1//EN\"\n  \"http://www.w3.org/Graphics/SVG/1.1/DTD/svg11.dtd\">\n<!-- Created with matplotlib (https://matplotlib.org/) -->\n<svg height=\"287.872188pt\" version=\"1.1\" viewBox=\"0 0 276.4125 287.872188\" width=\"276.4125pt\" xmlns=\"http://www.w3.org/2000/svg\" xmlns:xlink=\"http://www.w3.org/1999/xlink\">\n <defs>\n  <style type=\"text/css\">\n*{stroke-linecap:butt;stroke-linejoin:round;}\n  </style>\n </defs>\n <g id=\"figure_1\">\n  <g id=\"patch_1\">\n   <path d=\"M 0 287.872188 \nL 276.4125 287.872188 \nL 276.4125 0 \nL 0 0 \nz\n\" style=\"fill:none;\"/>\n  </g>\n  <g id=\"axes_1\">\n   <g id=\"patch_2\">\n    <path d=\"M 46.0125 170.28 \nL 269.2125 170.28 \nL 269.2125 7.2 \nL 46.0125 7.2 \nz\n\" style=\"fill:#ffffff;\"/>\n   </g>\n   <g id=\"patch_3\">\n    <path clip-path=\"url(#p9185f3a3e6)\" d=\"M 73.9125 170.28 \nL 129.7125 170.28 \nL 129.7125 14.965714 \nL 73.9125 14.965714 \nz\n\" style=\"fill:#1f77b4;\"/>\n   </g>\n   <g id=\"patch_4\">\n    <path clip-path=\"url(#p9185f3a3e6)\" d=\"M 185.5125 170.28 \nL 241.3125 170.28 \nL 241.3125 170.28 \nL 185.5125 170.28 \nz\n\" style=\"fill:#1f77b4;\"/>\n   </g>\n   <g id=\"patch_5\">\n    <path clip-path=\"url(#p9185f3a3e6)\" d=\"M 73.9125 170.28 \nL 129.7125 170.28 \nL 129.7125 170.28 \nL 73.9125 170.28 \nz\n\" style=\"fill:#ff7f0e;\"/>\n   </g>\n   <g id=\"patch_6\">\n    <path clip-path=\"url(#p9185f3a3e6)\" d=\"M 185.5125 170.28 \nL 241.3125 170.28 \nL 241.3125 78.468252 \nL 185.5125 78.468252 \nz\n\" style=\"fill:#ff7f0e;\"/>\n   </g>\n   <g id=\"matplotlib.axis_1\">\n    <g id=\"xtick_1\">\n     <g id=\"line2d_1\">\n      <defs>\n       <path d=\"M 0 0 \nL 0 3.5 \n\" id=\"m357a22d7dd\" style=\"stroke:#000000;stroke-width:0.8;\"/>\n      </defs>\n      <g>\n       <use style=\"stroke:#000000;stroke-width:0.8;\" x=\"101.8125\" xlink:href=\"#m357a22d7dd\" y=\"170.28\"/>\n      </g>\n     </g>\n     <g id=\"text_1\">\n      <!-- Without customer ID -->\n      <defs>\n       <path d=\"M 3.328125 72.90625 \nL 13.28125 72.90625 \nL 28.609375 11.28125 \nL 43.890625 72.90625 \nL 54.984375 72.90625 \nL 70.3125 11.28125 \nL 85.59375 72.90625 \nL 95.609375 72.90625 \nL 77.296875 0 \nL 64.890625 0 \nL 49.515625 63.28125 \nL 33.984375 0 \nL 21.578125 0 \nz\n\" id=\"DejaVuSans-87\"/>\n       <path d=\"M 9.421875 54.6875 \nL 18.40625 54.6875 \nL 18.40625 0 \nL 9.421875 0 \nz\nM 9.421875 75.984375 \nL 18.40625 75.984375 \nL 18.40625 64.59375 \nL 9.421875 64.59375 \nz\n\" id=\"DejaVuSans-105\"/>\n       <path d=\"M 18.3125 70.21875 \nL 18.3125 54.6875 \nL 36.8125 54.6875 \nL 36.8125 47.703125 \nL 18.3125 47.703125 \nL 18.3125 18.015625 \nQ 18.3125 11.328125 20.140625 9.421875 \nQ 21.96875 7.515625 27.59375 7.515625 \nL 36.8125 7.515625 \nL 36.8125 0 \nL 27.59375 0 \nQ 17.1875 0 13.234375 3.875 \nQ 9.28125 7.765625 9.28125 18.015625 \nL 9.28125 47.703125 \nL 2.6875 47.703125 \nL 2.6875 54.6875 \nL 9.28125 54.6875 \nL 9.28125 70.21875 \nz\n\" id=\"DejaVuSans-116\"/>\n       <path d=\"M 54.890625 33.015625 \nL 54.890625 0 \nL 45.90625 0 \nL 45.90625 32.71875 \nQ 45.90625 40.484375 42.875 44.328125 \nQ 39.84375 48.1875 33.796875 48.1875 \nQ 26.515625 48.1875 22.3125 43.546875 \nQ 18.109375 38.921875 18.109375 30.90625 \nL 18.109375 0 \nL 9.078125 0 \nL 9.078125 75.984375 \nL 18.109375 75.984375 \nL 18.109375 46.1875 \nQ 21.34375 51.125 25.703125 53.5625 \nQ 30.078125 56 35.796875 56 \nQ 45.21875 56 50.046875 50.171875 \nQ 54.890625 44.34375 54.890625 33.015625 \nz\n\" id=\"DejaVuSans-104\"/>\n       <path d=\"M 30.609375 48.390625 \nQ 23.390625 48.390625 19.1875 42.75 \nQ 14.984375 37.109375 14.984375 27.296875 \nQ 14.984375 17.484375 19.15625 11.84375 \nQ 23.34375 6.203125 30.609375 6.203125 \nQ 37.796875 6.203125 41.984375 11.859375 \nQ 46.1875 17.53125 46.1875 27.296875 \nQ 46.1875 37.015625 41.984375 42.703125 \nQ 37.796875 48.390625 30.609375 48.390625 \nz\nM 30.609375 56 \nQ 42.328125 56 49.015625 48.375 \nQ 55.71875 40.765625 55.71875 27.296875 \nQ 55.71875 13.875 49.015625 6.21875 \nQ 42.328125 -1.421875 30.609375 -1.421875 \nQ 18.84375 -1.421875 12.171875 6.21875 \nQ 5.515625 13.875 5.515625 27.296875 \nQ 5.515625 40.765625 12.171875 48.375 \nQ 18.84375 56 30.609375 56 \nz\n\" id=\"DejaVuSans-111\"/>\n       <path d=\"M 8.5 21.578125 \nL 8.5 54.6875 \nL 17.484375 54.6875 \nL 17.484375 21.921875 \nQ 17.484375 14.15625 20.5 10.265625 \nQ 23.53125 6.390625 29.59375 6.390625 \nQ 36.859375 6.390625 41.078125 11.03125 \nQ 45.3125 15.671875 45.3125 23.6875 \nL 45.3125 54.6875 \nL 54.296875 54.6875 \nL 54.296875 0 \nL 45.3125 0 \nL 45.3125 8.40625 \nQ 42.046875 3.421875 37.71875 1 \nQ 33.40625 -1.421875 27.6875 -1.421875 \nQ 18.265625 -1.421875 13.375 4.4375 \nQ 8.5 10.296875 8.5 21.578125 \nz\nM 31.109375 56 \nz\n\" id=\"DejaVuSans-117\"/>\n       <path id=\"DejaVuSans-32\"/>\n       <path d=\"M 48.78125 52.59375 \nL 48.78125 44.1875 \nQ 44.96875 46.296875 41.140625 47.34375 \nQ 37.3125 48.390625 33.40625 48.390625 \nQ 24.65625 48.390625 19.8125 42.84375 \nQ 14.984375 37.3125 14.984375 27.296875 \nQ 14.984375 17.28125 19.8125 11.734375 \nQ 24.65625 6.203125 33.40625 6.203125 \nQ 37.3125 6.203125 41.140625 7.25 \nQ 44.96875 8.296875 48.78125 10.40625 \nL 48.78125 2.09375 \nQ 45.015625 0.34375 40.984375 -0.53125 \nQ 36.96875 -1.421875 32.421875 -1.421875 \nQ 20.0625 -1.421875 12.78125 6.34375 \nQ 5.515625 14.109375 5.515625 27.296875 \nQ 5.515625 40.671875 12.859375 48.328125 \nQ 20.21875 56 33.015625 56 \nQ 37.15625 56 41.109375 55.140625 \nQ 45.0625 54.296875 48.78125 52.59375 \nz\n\" id=\"DejaVuSans-99\"/>\n       <path d=\"M 44.28125 53.078125 \nL 44.28125 44.578125 \nQ 40.484375 46.53125 36.375 47.5 \nQ 32.28125 48.484375 27.875 48.484375 \nQ 21.1875 48.484375 17.84375 46.4375 \nQ 14.5 44.390625 14.5 40.28125 \nQ 14.5 37.15625 16.890625 35.375 \nQ 19.28125 33.59375 26.515625 31.984375 \nL 29.59375 31.296875 \nQ 39.15625 29.25 43.1875 25.515625 \nQ 47.21875 21.78125 47.21875 15.09375 \nQ 47.21875 7.46875 41.1875 3.015625 \nQ 35.15625 -1.421875 24.609375 -1.421875 \nQ 20.21875 -1.421875 15.453125 -0.5625 \nQ 10.6875 0.296875 5.421875 2 \nL 5.421875 11.28125 \nQ 10.40625 8.6875 15.234375 7.390625 \nQ 20.0625 6.109375 24.8125 6.109375 \nQ 31.15625 6.109375 34.5625 8.28125 \nQ 37.984375 10.453125 37.984375 14.40625 \nQ 37.984375 18.0625 35.515625 20.015625 \nQ 33.0625 21.96875 24.703125 23.78125 \nL 21.578125 24.515625 \nQ 13.234375 26.265625 9.515625 29.90625 \nQ 5.8125 33.546875 5.8125 39.890625 \nQ 5.8125 47.609375 11.28125 51.796875 \nQ 16.75 56 26.8125 56 \nQ 31.78125 56 36.171875 55.265625 \nQ 40.578125 54.546875 44.28125 53.078125 \nz\n\" id=\"DejaVuSans-115\"/>\n       <path d=\"M 52 44.1875 \nQ 55.375 50.25 60.0625 53.125 \nQ 64.75 56 71.09375 56 \nQ 79.640625 56 84.28125 50.015625 \nQ 88.921875 44.046875 88.921875 33.015625 \nL 88.921875 0 \nL 79.890625 0 \nL 79.890625 32.71875 \nQ 79.890625 40.578125 77.09375 44.375 \nQ 74.3125 48.1875 68.609375 48.1875 \nQ 61.625 48.1875 57.5625 43.546875 \nQ 53.515625 38.921875 53.515625 30.90625 \nL 53.515625 0 \nL 44.484375 0 \nL 44.484375 32.71875 \nQ 44.484375 40.625 41.703125 44.40625 \nQ 38.921875 48.1875 33.109375 48.1875 \nQ 26.21875 48.1875 22.15625 43.53125 \nQ 18.109375 38.875 18.109375 30.90625 \nL 18.109375 0 \nL 9.078125 0 \nL 9.078125 54.6875 \nL 18.109375 54.6875 \nL 18.109375 46.1875 \nQ 21.1875 51.21875 25.484375 53.609375 \nQ 29.78125 56 35.6875 56 \nQ 41.65625 56 45.828125 52.96875 \nQ 50 49.953125 52 44.1875 \nz\n\" id=\"DejaVuSans-109\"/>\n       <path d=\"M 56.203125 29.59375 \nL 56.203125 25.203125 \nL 14.890625 25.203125 \nQ 15.484375 15.921875 20.484375 11.0625 \nQ 25.484375 6.203125 34.421875 6.203125 \nQ 39.59375 6.203125 44.453125 7.46875 \nQ 49.3125 8.734375 54.109375 11.28125 \nL 54.109375 2.78125 \nQ 49.265625 0.734375 44.1875 -0.34375 \nQ 39.109375 -1.421875 33.890625 -1.421875 \nQ 20.796875 -1.421875 13.15625 6.1875 \nQ 5.515625 13.8125 5.515625 26.8125 \nQ 5.515625 40.234375 12.765625 48.109375 \nQ 20.015625 56 32.328125 56 \nQ 43.359375 56 49.78125 48.890625 \nQ 56.203125 41.796875 56.203125 29.59375 \nz\nM 47.21875 32.234375 \nQ 47.125 39.59375 43.09375 43.984375 \nQ 39.0625 48.390625 32.421875 48.390625 \nQ 24.90625 48.390625 20.390625 44.140625 \nQ 15.875 39.890625 15.1875 32.171875 \nz\n\" id=\"DejaVuSans-101\"/>\n       <path d=\"M 41.109375 46.296875 \nQ 39.59375 47.171875 37.8125 47.578125 \nQ 36.03125 48 33.890625 48 \nQ 26.265625 48 22.1875 43.046875 \nQ 18.109375 38.09375 18.109375 28.8125 \nL 18.109375 0 \nL 9.078125 0 \nL 9.078125 54.6875 \nL 18.109375 54.6875 \nL 18.109375 46.1875 \nQ 20.953125 51.171875 25.484375 53.578125 \nQ 30.03125 56 36.53125 56 \nQ 37.453125 56 38.578125 55.875 \nQ 39.703125 55.765625 41.0625 55.515625 \nz\n\" id=\"DejaVuSans-114\"/>\n       <path d=\"M 9.8125 72.90625 \nL 19.671875 72.90625 \nL 19.671875 0 \nL 9.8125 0 \nz\n\" id=\"DejaVuSans-73\"/>\n       <path d=\"M 19.671875 64.796875 \nL 19.671875 8.109375 \nL 31.59375 8.109375 \nQ 46.6875 8.109375 53.6875 14.9375 \nQ 60.6875 21.78125 60.6875 36.53125 \nQ 60.6875 51.171875 53.6875 57.984375 \nQ 46.6875 64.796875 31.59375 64.796875 \nz\nM 9.8125 72.90625 \nL 30.078125 72.90625 \nQ 51.265625 72.90625 61.171875 64.09375 \nQ 71.09375 55.28125 71.09375 36.53125 \nQ 71.09375 17.671875 61.125 8.828125 \nQ 51.171875 0 30.078125 0 \nL 9.8125 0 \nz\n\" id=\"DejaVuSans-68\"/>\n      </defs>\n      <g transform=\"translate(104.571875 280.672188)rotate(-90)scale(0.1 -0.1)\">\n       <use xlink:href=\"#DejaVuSans-87\"/>\n       <use x=\"98.845703\" xlink:href=\"#DejaVuSans-105\"/>\n       <use x=\"126.628906\" xlink:href=\"#DejaVuSans-116\"/>\n       <use x=\"165.837891\" xlink:href=\"#DejaVuSans-104\"/>\n       <use x=\"229.216797\" xlink:href=\"#DejaVuSans-111\"/>\n       <use x=\"290.398438\" xlink:href=\"#DejaVuSans-117\"/>\n       <use x=\"353.777344\" xlink:href=\"#DejaVuSans-116\"/>\n       <use x=\"392.986328\" xlink:href=\"#DejaVuSans-32\"/>\n       <use x=\"424.773438\" xlink:href=\"#DejaVuSans-99\"/>\n       <use x=\"479.753906\" xlink:href=\"#DejaVuSans-117\"/>\n       <use x=\"543.132812\" xlink:href=\"#DejaVuSans-115\"/>\n       <use x=\"595.232422\" xlink:href=\"#DejaVuSans-116\"/>\n       <use x=\"634.441406\" xlink:href=\"#DejaVuSans-111\"/>\n       <use x=\"695.623047\" xlink:href=\"#DejaVuSans-109\"/>\n       <use x=\"793.035156\" xlink:href=\"#DejaVuSans-101\"/>\n       <use x=\"854.558594\" xlink:href=\"#DejaVuSans-114\"/>\n       <use x=\"895.671875\" xlink:href=\"#DejaVuSans-32\"/>\n       <use x=\"927.458984\" xlink:href=\"#DejaVuSans-73\"/>\n       <use x=\"956.951172\" xlink:href=\"#DejaVuSans-68\"/>\n      </g>\n     </g>\n    </g>\n    <g id=\"xtick_2\">\n     <g id=\"line2d_2\">\n      <g>\n       <use style=\"stroke:#000000;stroke-width:0.8;\" x=\"213.4125\" xlink:href=\"#m357a22d7dd\" y=\"170.28\"/>\n      </g>\n     </g>\n     <g id=\"text_2\">\n      <!-- With customer ID -->\n      <g transform=\"translate(216.171875 264.295625)rotate(-90)scale(0.1 -0.1)\">\n       <use xlink:href=\"#DejaVuSans-87\"/>\n       <use x=\"98.845703\" xlink:href=\"#DejaVuSans-105\"/>\n       <use x=\"126.628906\" xlink:href=\"#DejaVuSans-116\"/>\n       <use x=\"165.837891\" xlink:href=\"#DejaVuSans-104\"/>\n       <use x=\"229.216797\" xlink:href=\"#DejaVuSans-32\"/>\n       <use x=\"261.003906\" xlink:href=\"#DejaVuSans-99\"/>\n       <use x=\"315.984375\" xlink:href=\"#DejaVuSans-117\"/>\n       <use x=\"379.363281\" xlink:href=\"#DejaVuSans-115\"/>\n       <use x=\"431.462891\" xlink:href=\"#DejaVuSans-116\"/>\n       <use x=\"470.671875\" xlink:href=\"#DejaVuSans-111\"/>\n       <use x=\"531.853516\" xlink:href=\"#DejaVuSans-109\"/>\n       <use x=\"629.265625\" xlink:href=\"#DejaVuSans-101\"/>\n       <use x=\"690.789062\" xlink:href=\"#DejaVuSans-114\"/>\n       <use x=\"731.902344\" xlink:href=\"#DejaVuSans-32\"/>\n       <use x=\"763.689453\" xlink:href=\"#DejaVuSans-73\"/>\n       <use x=\"793.181641\" xlink:href=\"#DejaVuSans-68\"/>\n      </g>\n     </g>\n    </g>\n   </g>\n   <g id=\"matplotlib.axis_2\">\n    <g id=\"ytick_1\">\n     <g id=\"line2d_3\">\n      <defs>\n       <path d=\"M 0 0 \nL -3.5 0 \n\" id=\"m18f60e3ef1\" style=\"stroke:#000000;stroke-width:0.8;\"/>\n      </defs>\n      <g>\n       <use style=\"stroke:#000000;stroke-width:0.8;\" x=\"46.0125\" xlink:href=\"#m18f60e3ef1\" y=\"170.28\"/>\n      </g>\n     </g>\n     <g id=\"text_3\">\n      <!-- 0 -->\n      <defs>\n       <path d=\"M 31.78125 66.40625 \nQ 24.171875 66.40625 20.328125 58.90625 \nQ 16.5 51.421875 16.5 36.375 \nQ 16.5 21.390625 20.328125 13.890625 \nQ 24.171875 6.390625 31.78125 6.390625 \nQ 39.453125 6.390625 43.28125 13.890625 \nQ 47.125 21.390625 47.125 36.375 \nQ 47.125 51.421875 43.28125 58.90625 \nQ 39.453125 66.40625 31.78125 66.40625 \nz\nM 31.78125 74.21875 \nQ 44.046875 74.21875 50.515625 64.515625 \nQ 56.984375 54.828125 56.984375 36.375 \nQ 56.984375 17.96875 50.515625 8.265625 \nQ 44.046875 -1.421875 31.78125 -1.421875 \nQ 19.53125 -1.421875 13.0625 8.265625 \nQ 6.59375 17.96875 6.59375 36.375 \nQ 6.59375 54.828125 13.0625 64.515625 \nQ 19.53125 74.21875 31.78125 74.21875 \nz\n\" id=\"DejaVuSans-48\"/>\n      </defs>\n      <g transform=\"translate(32.65 174.079219)scale(0.1 -0.1)\">\n       <use xlink:href=\"#DejaVuSans-48\"/>\n      </g>\n     </g>\n    </g>\n    <g id=\"ytick_2\">\n     <g id=\"line2d_4\">\n      <g>\n       <use style=\"stroke:#000000;stroke-width:0.8;\" x=\"46.0125\" xlink:href=\"#m18f60e3ef1\" y=\"140.89836\"/>\n      </g>\n     </g>\n     <g id=\"text_4\">\n      <!-- 10000 -->\n      <defs>\n       <path d=\"M 12.40625 8.296875 \nL 28.515625 8.296875 \nL 28.515625 63.921875 \nL 10.984375 60.40625 \nL 10.984375 69.390625 \nL 28.421875 72.90625 \nL 38.28125 72.90625 \nL 38.28125 8.296875 \nL 54.390625 8.296875 \nL 54.390625 0 \nL 12.40625 0 \nz\n\" id=\"DejaVuSans-49\"/>\n      </defs>\n      <g transform=\"translate(7.2 144.697579)scale(0.1 -0.1)\">\n       <use xlink:href=\"#DejaVuSans-49\"/>\n       <use x=\"63.623047\" xlink:href=\"#DejaVuSans-48\"/>\n       <use x=\"127.246094\" xlink:href=\"#DejaVuSans-48\"/>\n       <use x=\"190.869141\" xlink:href=\"#DejaVuSans-48\"/>\n       <use x=\"254.492188\" xlink:href=\"#DejaVuSans-48\"/>\n      </g>\n     </g>\n    </g>\n    <g id=\"ytick_3\">\n     <g id=\"line2d_5\">\n      <g>\n       <use style=\"stroke:#000000;stroke-width:0.8;\" x=\"46.0125\" xlink:href=\"#m18f60e3ef1\" y=\"111.516721\"/>\n      </g>\n     </g>\n     <g id=\"text_5\">\n      <!-- 20000 -->\n      <defs>\n       <path d=\"M 19.1875 8.296875 \nL 53.609375 8.296875 \nL 53.609375 0 \nL 7.328125 0 \nL 7.328125 8.296875 \nQ 12.9375 14.109375 22.625 23.890625 \nQ 32.328125 33.6875 34.8125 36.53125 \nQ 39.546875 41.84375 41.421875 45.53125 \nQ 43.3125 49.21875 43.3125 52.78125 \nQ 43.3125 58.59375 39.234375 62.25 \nQ 35.15625 65.921875 28.609375 65.921875 \nQ 23.96875 65.921875 18.8125 64.3125 \nQ 13.671875 62.703125 7.8125 59.421875 \nL 7.8125 69.390625 \nQ 13.765625 71.78125 18.9375 73 \nQ 24.125 74.21875 28.421875 74.21875 \nQ 39.75 74.21875 46.484375 68.546875 \nQ 53.21875 62.890625 53.21875 53.421875 \nQ 53.21875 48.921875 51.53125 44.890625 \nQ 49.859375 40.875 45.40625 35.40625 \nQ 44.1875 33.984375 37.640625 27.21875 \nQ 31.109375 20.453125 19.1875 8.296875 \nz\n\" id=\"DejaVuSans-50\"/>\n      </defs>\n      <g transform=\"translate(7.2 115.315939)scale(0.1 -0.1)\">\n       <use xlink:href=\"#DejaVuSans-50\"/>\n       <use x=\"63.623047\" xlink:href=\"#DejaVuSans-48\"/>\n       <use x=\"127.246094\" xlink:href=\"#DejaVuSans-48\"/>\n       <use x=\"190.869141\" xlink:href=\"#DejaVuSans-48\"/>\n       <use x=\"254.492188\" xlink:href=\"#DejaVuSans-48\"/>\n      </g>\n     </g>\n    </g>\n    <g id=\"ytick_4\">\n     <g id=\"line2d_6\">\n      <g>\n       <use style=\"stroke:#000000;stroke-width:0.8;\" x=\"46.0125\" xlink:href=\"#m18f60e3ef1\" y=\"82.135081\"/>\n      </g>\n     </g>\n     <g id=\"text_6\">\n      <!-- 30000 -->\n      <defs>\n       <path d=\"M 40.578125 39.3125 \nQ 47.65625 37.796875 51.625 33 \nQ 55.609375 28.21875 55.609375 21.1875 \nQ 55.609375 10.40625 48.1875 4.484375 \nQ 40.765625 -1.421875 27.09375 -1.421875 \nQ 22.515625 -1.421875 17.65625 -0.515625 \nQ 12.796875 0.390625 7.625 2.203125 \nL 7.625 11.71875 \nQ 11.71875 9.328125 16.59375 8.109375 \nQ 21.484375 6.890625 26.8125 6.890625 \nQ 36.078125 6.890625 40.9375 10.546875 \nQ 45.796875 14.203125 45.796875 21.1875 \nQ 45.796875 27.640625 41.28125 31.265625 \nQ 36.765625 34.90625 28.71875 34.90625 \nL 20.21875 34.90625 \nL 20.21875 43.015625 \nL 29.109375 43.015625 \nQ 36.375 43.015625 40.234375 45.921875 \nQ 44.09375 48.828125 44.09375 54.296875 \nQ 44.09375 59.90625 40.109375 62.90625 \nQ 36.140625 65.921875 28.71875 65.921875 \nQ 24.65625 65.921875 20.015625 65.03125 \nQ 15.375 64.15625 9.8125 62.3125 \nL 9.8125 71.09375 \nQ 15.4375 72.65625 20.34375 73.4375 \nQ 25.25 74.21875 29.59375 74.21875 \nQ 40.828125 74.21875 47.359375 69.109375 \nQ 53.90625 64.015625 53.90625 55.328125 \nQ 53.90625 49.265625 50.4375 45.09375 \nQ 46.96875 40.921875 40.578125 39.3125 \nz\n\" id=\"DejaVuSans-51\"/>\n      </defs>\n      <g transform=\"translate(7.2 85.9343)scale(0.1 -0.1)\">\n       <use xlink:href=\"#DejaVuSans-51\"/>\n       <use x=\"63.623047\" xlink:href=\"#DejaVuSans-48\"/>\n       <use x=\"127.246094\" xlink:href=\"#DejaVuSans-48\"/>\n       <use x=\"190.869141\" xlink:href=\"#DejaVuSans-48\"/>\n       <use x=\"254.492188\" xlink:href=\"#DejaVuSans-48\"/>\n      </g>\n     </g>\n    </g>\n    <g id=\"ytick_5\">\n     <g id=\"line2d_7\">\n      <g>\n       <use style=\"stroke:#000000;stroke-width:0.8;\" x=\"46.0125\" xlink:href=\"#m18f60e3ef1\" y=\"52.753441\"/>\n      </g>\n     </g>\n     <g id=\"text_7\">\n      <!-- 40000 -->\n      <defs>\n       <path d=\"M 37.796875 64.3125 \nL 12.890625 25.390625 \nL 37.796875 25.390625 \nz\nM 35.203125 72.90625 \nL 47.609375 72.90625 \nL 47.609375 25.390625 \nL 58.015625 25.390625 \nL 58.015625 17.1875 \nL 47.609375 17.1875 \nL 47.609375 0 \nL 37.796875 0 \nL 37.796875 17.1875 \nL 4.890625 17.1875 \nL 4.890625 26.703125 \nz\n\" id=\"DejaVuSans-52\"/>\n      </defs>\n      <g transform=\"translate(7.2 56.55266)scale(0.1 -0.1)\">\n       <use xlink:href=\"#DejaVuSans-52\"/>\n       <use x=\"63.623047\" xlink:href=\"#DejaVuSans-48\"/>\n       <use x=\"127.246094\" xlink:href=\"#DejaVuSans-48\"/>\n       <use x=\"190.869141\" xlink:href=\"#DejaVuSans-48\"/>\n       <use x=\"254.492188\" xlink:href=\"#DejaVuSans-48\"/>\n      </g>\n     </g>\n    </g>\n    <g id=\"ytick_6\">\n     <g id=\"line2d_8\">\n      <g>\n       <use style=\"stroke:#000000;stroke-width:0.8;\" x=\"46.0125\" xlink:href=\"#m18f60e3ef1\" y=\"23.371801\"/>\n      </g>\n     </g>\n     <g id=\"text_8\">\n      <!-- 50000 -->\n      <defs>\n       <path d=\"M 10.796875 72.90625 \nL 49.515625 72.90625 \nL 49.515625 64.59375 \nL 19.828125 64.59375 \nL 19.828125 46.734375 \nQ 21.96875 47.46875 24.109375 47.828125 \nQ 26.265625 48.1875 28.421875 48.1875 \nQ 40.625 48.1875 47.75 41.5 \nQ 54.890625 34.8125 54.890625 23.390625 \nQ 54.890625 11.625 47.5625 5.09375 \nQ 40.234375 -1.421875 26.90625 -1.421875 \nQ 22.3125 -1.421875 17.546875 -0.640625 \nQ 12.796875 0.140625 7.71875 1.703125 \nL 7.71875 11.625 \nQ 12.109375 9.234375 16.796875 8.0625 \nQ 21.484375 6.890625 26.703125 6.890625 \nQ 35.15625 6.890625 40.078125 11.328125 \nQ 45.015625 15.765625 45.015625 23.390625 \nQ 45.015625 31 40.078125 35.4375 \nQ 35.15625 39.890625 26.703125 39.890625 \nQ 22.75 39.890625 18.8125 39.015625 \nQ 14.890625 38.140625 10.796875 36.28125 \nz\n\" id=\"DejaVuSans-53\"/>\n      </defs>\n      <g transform=\"translate(7.2 27.17102)scale(0.1 -0.1)\">\n       <use xlink:href=\"#DejaVuSans-53\"/>\n       <use x=\"63.623047\" xlink:href=\"#DejaVuSans-48\"/>\n       <use x=\"127.246094\" xlink:href=\"#DejaVuSans-48\"/>\n       <use x=\"190.869141\" xlink:href=\"#DejaVuSans-48\"/>\n       <use x=\"254.492188\" xlink:href=\"#DejaVuSans-48\"/>\n      </g>\n     </g>\n    </g>\n   </g>\n   <g id=\"patch_7\">\n    <path d=\"M 46.0125 170.28 \nL 46.0125 7.2 \n\" style=\"fill:none;stroke:#000000;stroke-linecap:square;stroke-linejoin:miter;stroke-width:0.8;\"/>\n   </g>\n   <g id=\"patch_8\">\n    <path d=\"M 269.2125 170.28 \nL 269.2125 7.2 \n\" style=\"fill:none;stroke:#000000;stroke-linecap:square;stroke-linejoin:miter;stroke-width:0.8;\"/>\n   </g>\n   <g id=\"patch_9\">\n    <path d=\"M 46.0125 170.28 \nL 269.2125 170.28 \n\" style=\"fill:none;stroke:#000000;stroke-linecap:square;stroke-linejoin:miter;stroke-width:0.8;\"/>\n   </g>\n   <g id=\"patch_10\">\n    <path d=\"M 46.0125 7.2 \nL 269.2125 7.2 \n\" style=\"fill:none;stroke:#000000;stroke-linecap:square;stroke-linejoin:miter;stroke-width:0.8;\"/>\n   </g>\n   <g id=\"legend_1\">\n    <g id=\"patch_11\">\n     <path d=\"M 208.542188 59.234375 \nL 262.2125 59.234375 \nQ 264.2125 59.234375 264.2125 57.234375 \nL 264.2125 14.2 \nQ 264.2125 12.2 262.2125 12.2 \nL 208.542188 12.2 \nQ 206.542188 12.2 206.542188 14.2 \nL 206.542188 57.234375 \nQ 206.542188 59.234375 208.542188 59.234375 \nz\n\" style=\"fill:#ffffff;opacity:0.8;stroke:#cccccc;stroke-linejoin:miter;\"/>\n    </g>\n    <g id=\"text_9\">\n     <!-- IsDelivery -->\n     <defs>\n      <path d=\"M 9.421875 75.984375 \nL 18.40625 75.984375 \nL 18.40625 0 \nL 9.421875 0 \nz\n\" id=\"DejaVuSans-108\"/>\n      <path d=\"M 2.984375 54.6875 \nL 12.5 54.6875 \nL 29.59375 8.796875 \nL 46.6875 54.6875 \nL 56.203125 54.6875 \nL 35.6875 0 \nL 23.484375 0 \nz\n\" id=\"DejaVuSans-118\"/>\n      <path d=\"M 32.171875 -5.078125 \nQ 28.375 -14.84375 24.75 -17.8125 \nQ 21.140625 -20.796875 15.09375 -20.796875 \nL 7.90625 -20.796875 \nL 7.90625 -13.28125 \nL 13.1875 -13.28125 \nQ 16.890625 -13.28125 18.9375 -11.515625 \nQ 21 -9.765625 23.484375 -3.21875 \nL 25.09375 0.875 \nL 2.984375 54.6875 \nL 12.5 54.6875 \nL 29.59375 11.921875 \nL 46.6875 54.6875 \nL 56.203125 54.6875 \nz\n\" id=\"DejaVuSans-121\"/>\n     </defs>\n     <g transform=\"translate(210.542188 23.798438)scale(0.1 -0.1)\">\n      <use xlink:href=\"#DejaVuSans-73\"/>\n      <use x=\"29.492188\" xlink:href=\"#DejaVuSans-115\"/>\n      <use x=\"81.591797\" xlink:href=\"#DejaVuSans-68\"/>\n      <use x=\"158.59375\" xlink:href=\"#DejaVuSans-101\"/>\n      <use x=\"220.117188\" xlink:href=\"#DejaVuSans-108\"/>\n      <use x=\"247.900391\" xlink:href=\"#DejaVuSans-105\"/>\n      <use x=\"275.683594\" xlink:href=\"#DejaVuSans-118\"/>\n      <use x=\"334.863281\" xlink:href=\"#DejaVuSans-101\"/>\n      <use x=\"396.386719\" xlink:href=\"#DejaVuSans-114\"/>\n      <use x=\"437.5\" xlink:href=\"#DejaVuSans-121\"/>\n     </g>\n    </g>\n    <g id=\"patch_12\">\n     <path d=\"M 218.196094 38.476563 \nL 238.196094 38.476563 \nL 238.196094 31.476563 \nL 218.196094 31.476563 \nz\n\" style=\"fill:#1f77b4;\"/>\n    </g>\n    <g id=\"text_10\">\n     <!-- 0 -->\n     <g transform=\"translate(246.196094 38.476563)scale(0.1 -0.1)\">\n      <use xlink:href=\"#DejaVuSans-48\"/>\n     </g>\n    </g>\n    <g id=\"patch_13\">\n     <path d=\"M 218.196094 53.154688 \nL 238.196094 53.154688 \nL 238.196094 46.154688 \nL 218.196094 46.154688 \nz\n\" style=\"fill:#ff7f0e;\"/>\n    </g>\n    <g id=\"text_11\">\n     <!-- 1 -->\n     <g transform=\"translate(246.196094 53.154688)scale(0.1 -0.1)\">\n      <use xlink:href=\"#DejaVuSans-49\"/>\n     </g>\n    </g>\n   </g>\n  </g>\n </g>\n <defs>\n  <clipPath id=\"p9185f3a3e6\">\n   <rect height=\"163.08\" width=\"223.2\" x=\"46.0125\" y=\"7.2\"/>\n  </clipPath>\n </defs>\n</svg>\n",
      "image/png": "[encoded data removed]"
     },
     "metadata": {
      "needs_background": "light"
     }
    }
   ],
   "source": [
    "# Visual exploration of the cross table\n",
    "table1.plot(kind=\"bar\", \n",
    "                 figsize=(4,3),\n",
    "                 stacked=True)"
   ]
  },
  {
   "cell_type": "markdown",
   "metadata": {},
   "source": [
    "### Data preparation"
   ]
  },
  {
   "cell_type": "code",
   "execution_count": 9,
   "metadata": {},
   "outputs": [],
   "source": [
    "# Drop-non delivery customers\n",
    "ds = ds[ds['IsDelivery'] == 1]"
   ]
  },
  {
   "cell_type": "code",
   "execution_count": 10,
   "metadata": {},
   "outputs": [],
   "source": [
    "# Format data types\n",
    "\n",
    "cols = ['InvoiceDateHour']\n",
    "ds[cols] = ds[cols].apply(pd.to_datetime)\n",
    "\n",
    "cols = ['DocNumber','ProductDesignation']\n",
    "ds[cols] = ds[cols].astype(str)"
   ]
  },
  {
   "cell_type": "code",
   "execution_count": 11,
   "metadata": {},
   "outputs": [],
   "source": [
    "# Compute totals per customer\n",
    "dateMax = ds.InvoiceDateHour.max()\n",
    "X = ds.groupby(['CustomerID']).agg({'InvoiceDateHour': lambda date: (dateMax - date.max()).days,\n",
    "                                    'DocNumber': lambda i: len(i.unique()),\n",
    "                                    'TotalAmount': [sum]}).fillna(0)\n",
    "X.columns = ['Recency', 'Frequency', 'Monetary']"
   ]
  },
  {
   "cell_type": "code",
   "execution_count": 12,
   "metadata": {},
   "outputs": [
    {
     "output_type": "execute_result",
     "data": {
      "text/plain": [
       "            Recency  Frequency  Monetary\n",
       "CustomerID                              \n",
       "6                98          1    118.12\n",
       "24              104          1     39.56\n",
       "25                1          2     96.02\n",
       "31                9          2    176.26\n",
       "34              204          1     61.50"
      ],
      "text/html": "<div>\n<style scoped>\n    .dataframe tbody tr th:only-of-type {\n        vertical-align: middle;\n    }\n\n    .dataframe tbody tr th {\n        vertical-align: top;\n    }\n\n    .dataframe thead th {\n        text-align: right;\n    }\n</style>\n<table border=\"1\" class=\"dataframe\">\n  <thead>\n    <tr style=\"text-align: right;\">\n      <th></th>\n      <th>Recency</th>\n      <th>Frequency</th>\n      <th>Monetary</th>\n    </tr>\n    <tr>\n      <th>CustomerID</th>\n      <th></th>\n      <th></th>\n      <th></th>\n    </tr>\n  </thead>\n  <tbody>\n    <tr>\n      <th>6</th>\n      <td>98</td>\n      <td>1</td>\n      <td>118.12</td>\n    </tr>\n    <tr>\n      <th>24</th>\n      <td>104</td>\n      <td>1</td>\n      <td>39.56</td>\n    </tr>\n    <tr>\n      <th>25</th>\n      <td>1</td>\n      <td>2</td>\n      <td>96.02</td>\n    </tr>\n    <tr>\n      <th>31</th>\n      <td>9</td>\n      <td>2</td>\n      <td>176.26</td>\n    </tr>\n    <tr>\n      <th>34</th>\n      <td>204</td>\n      <td>1</td>\n      <td>61.50</td>\n    </tr>\n  </tbody>\n</table>\n</div>"
     },
     "metadata": {},
     "execution_count": 12
    }
   ],
   "source": [
    "# Show first 5 customers\n",
    "X.head(5)"
   ]
  },
  {
   "cell_type": "markdown",
   "metadata": {},
   "source": [
    "### Modeling"
   ]
  },
  {
   "cell_type": "code",
   "execution_count": 13,
   "metadata": {},
   "outputs": [
    {
     "output_type": "execute_result",
     "data": {
      "text/plain": [
       "           Recency    Frequency     Monetary\n",
       "count  2315.000000  2315.000000  2315.000000\n",
       "mean    152.409935     2.101944    94.695840\n",
       "std     115.230804     2.707104   119.852621\n",
       "min       0.000000     1.000000     0.000000\n",
       "25%      44.000000     1.000000    37.000000\n",
       "50%     134.000000     1.000000    56.000000\n",
       "75%     256.000000     2.000000   102.830000\n",
       "max     364.000000    42.000000  1725.880000"
      ],
      "text/html": "<div>\n<style scoped>\n    .dataframe tbody tr th:only-of-type {\n        vertical-align: middle;\n    }\n\n    .dataframe tbody tr th {\n        vertical-align: top;\n    }\n\n    .dataframe thead th {\n        text-align: right;\n    }\n</style>\n<table border=\"1\" class=\"dataframe\">\n  <thead>\n    <tr style=\"text-align: right;\">\n      <th></th>\n      <th>Recency</th>\n      <th>Frequency</th>\n      <th>Monetary</th>\n    </tr>\n  </thead>\n  <tbody>\n    <tr>\n      <th>count</th>\n      <td>2315.000000</td>\n      <td>2315.000000</td>\n      <td>2315.000000</td>\n    </tr>\n    <tr>\n      <th>mean</th>\n      <td>152.409935</td>\n      <td>2.101944</td>\n      <td>94.695840</td>\n    </tr>\n    <tr>\n      <th>std</th>\n      <td>115.230804</td>\n      <td>2.707104</td>\n      <td>119.852621</td>\n    </tr>\n    <tr>\n      <th>min</th>\n      <td>0.000000</td>\n      <td>1.000000</td>\n      <td>0.000000</td>\n    </tr>\n    <tr>\n      <th>25%</th>\n      <td>44.000000</td>\n      <td>1.000000</td>\n      <td>37.000000</td>\n    </tr>\n    <tr>\n      <th>50%</th>\n      <td>134.000000</td>\n      <td>1.000000</td>\n      <td>56.000000</td>\n    </tr>\n    <tr>\n      <th>75%</th>\n      <td>256.000000</td>\n      <td>2.000000</td>\n      <td>102.830000</td>\n    </tr>\n    <tr>\n      <th>max</th>\n      <td>364.000000</td>\n      <td>42.000000</td>\n      <td>1725.880000</td>\n    </tr>\n  </tbody>\n</table>\n</div>"
     },
     "metadata": {},
     "execution_count": 13
    }
   ],
   "source": [
    "# Determinining RFM cutting points based on the quartiles (default for pandas \"describe\")\n",
    "cols = ['Recency','Frequency','Monetary']\n",
    "table = X[cols].describe()\n",
    "table"
   ]
  },
  {
   "cell_type": "code",
   "execution_count": 14,
   "metadata": {},
   "outputs": [],
   "source": [
    "# Calculate RMF scores\n",
    "\n",
    "# Function\n",
    "def RFMScore(x, col):\n",
    "    if x <= X.quantile(0.25)[col]:\n",
    "        return '1'\n",
    "    elif x <= X.quantile(0.5)[col]:\n",
    "        return '2'\n",
    "    elif x <= X.quantile(0.75)[col]:\n",
    "        return '3'\n",
    "    else:\n",
    "        return '4'\n",
    "\n",
    "# Process\n",
    "X['RScore'] = X['Recency'].apply(RFMScore, col='Recency')\n",
    "X['FScore'] = X['Frequency'].apply(RFMScore, col='Frequency')\n",
    "X['MScore'] = X['Monetary'].apply(RFMScore, col='Monetary')"
   ]
  },
  {
   "source": [
    "# Show first 5\n",
    "X.head(5)"
   ],
   "cell_type": "code",
   "metadata": {},
   "execution_count": 15,
   "outputs": [
    {
     "output_type": "execute_result",
     "data": {
      "text/plain": [
       "            Recency  Frequency  Monetary RScore FScore MScore\n",
       "CustomerID                                                   \n",
       "6                98          1    118.12      2      1      4\n",
       "24              104          1     39.56      2      1      2\n",
       "25                1          2     96.02      1      3      3\n",
       "31                9          2    176.26      1      3      4\n",
       "34              204          1     61.50      3      1      3"
      ],
      "text/html": "<div>\n<style scoped>\n    .dataframe tbody tr th:only-of-type {\n        vertical-align: middle;\n    }\n\n    .dataframe tbody tr th {\n        vertical-align: top;\n    }\n\n    .dataframe thead th {\n        text-align: right;\n    }\n</style>\n<table border=\"1\" class=\"dataframe\">\n  <thead>\n    <tr style=\"text-align: right;\">\n      <th></th>\n      <th>Recency</th>\n      <th>Frequency</th>\n      <th>Monetary</th>\n      <th>RScore</th>\n      <th>FScore</th>\n      <th>MScore</th>\n    </tr>\n    <tr>\n      <th>CustomerID</th>\n      <th></th>\n      <th></th>\n      <th></th>\n      <th></th>\n      <th></th>\n      <th></th>\n    </tr>\n  </thead>\n  <tbody>\n    <tr>\n      <th>6</th>\n      <td>98</td>\n      <td>1</td>\n      <td>118.12</td>\n      <td>2</td>\n      <td>1</td>\n      <td>4</td>\n    </tr>\n    <tr>\n      <th>24</th>\n      <td>104</td>\n      <td>1</td>\n      <td>39.56</td>\n      <td>2</td>\n      <td>1</td>\n      <td>2</td>\n    </tr>\n    <tr>\n      <th>25</th>\n      <td>1</td>\n      <td>2</td>\n      <td>96.02</td>\n      <td>1</td>\n      <td>3</td>\n      <td>3</td>\n    </tr>\n    <tr>\n      <th>31</th>\n      <td>9</td>\n      <td>2</td>\n      <td>176.26</td>\n      <td>1</td>\n      <td>3</td>\n      <td>4</td>\n    </tr>\n    <tr>\n      <th>34</th>\n      <td>204</td>\n      <td>1</td>\n      <td>61.50</td>\n      <td>3</td>\n      <td>1</td>\n      <td>3</td>\n    </tr>\n  </tbody>\n</table>\n</div>"
     },
     "metadata": {},
     "execution_count": 15
    }
   ]
  },
  {
   "cell_type": "code",
   "execution_count": 16,
   "metadata": {},
   "outputs": [],
   "source": [
    "# Create a column with full RMF score and sort the results\n",
    "\n",
    "# Transform to string\n",
    "cols = ['RScore','FScore','MScore']\n",
    "X[cols] = X[cols].astype(str)\n",
    "\n",
    "# Concatenate\n",
    "X['RFMScore'] = X['RScore'] + X['FScore'] + X['MScore']\n",
    "\n",
    "# Sort\n",
    "X = X.sort_values(by=['RFMScore'])"
   ]
  },
  {
   "cell_type": "code",
   "execution_count": 17,
   "metadata": {},
   "outputs": [
    {
     "output_type": "execute_result",
     "data": {
      "text/plain": [
       "            Recency  Frequency  Monetary RScore FScore MScore RFMScore\n",
       "CustomerID                                                            \n",
       "31706            37          1     22.06      1      1      1      111\n",
       "8066             23          1     25.56      1      1      1      111\n",
       "40739            37          1     22.90      1      1      1      111\n",
       "7998             12          1     32.80      1      1      1      111\n",
       "28383            20          1     36.76      1      1      1      111"
      ],
      "text/html": "<div>\n<style scoped>\n    .dataframe tbody tr th:only-of-type {\n        vertical-align: middle;\n    }\n\n    .dataframe tbody tr th {\n        vertical-align: top;\n    }\n\n    .dataframe thead th {\n        text-align: right;\n    }\n</style>\n<table border=\"1\" class=\"dataframe\">\n  <thead>\n    <tr style=\"text-align: right;\">\n      <th></th>\n      <th>Recency</th>\n      <th>Frequency</th>\n      <th>Monetary</th>\n      <th>RScore</th>\n      <th>FScore</th>\n      <th>MScore</th>\n      <th>RFMScore</th>\n    </tr>\n    <tr>\n      <th>CustomerID</th>\n      <th></th>\n      <th></th>\n      <th></th>\n      <th></th>\n      <th></th>\n      <th></th>\n      <th></th>\n    </tr>\n  </thead>\n  <tbody>\n    <tr>\n      <th>31706</th>\n      <td>37</td>\n      <td>1</td>\n      <td>22.06</td>\n      <td>1</td>\n      <td>1</td>\n      <td>1</td>\n      <td>111</td>\n    </tr>\n    <tr>\n      <th>8066</th>\n      <td>23</td>\n      <td>1</td>\n      <td>25.56</td>\n      <td>1</td>\n      <td>1</td>\n      <td>1</td>\n      <td>111</td>\n    </tr>\n    <tr>\n      <th>40739</th>\n      <td>37</td>\n      <td>1</td>\n      <td>22.90</td>\n      <td>1</td>\n      <td>1</td>\n      <td>1</td>\n      <td>111</td>\n    </tr>\n    <tr>\n      <th>7998</th>\n      <td>12</td>\n      <td>1</td>\n      <td>32.80</td>\n      <td>1</td>\n      <td>1</td>\n      <td>1</td>\n      <td>111</td>\n    </tr>\n    <tr>\n      <th>28383</th>\n      <td>20</td>\n      <td>1</td>\n      <td>36.76</td>\n      <td>1</td>\n      <td>1</td>\n      <td>1</td>\n      <td>111</td>\n    </tr>\n  </tbody>\n</table>\n</div>"
     },
     "metadata": {},
     "execution_count": 17
    }
   ],
   "source": [
    "# Show first 5\n",
    "X.head(5)"
   ]
  },
  {
   "source": [
    "### Evaluation"
   ],
   "cell_type": "markdown",
   "metadata": {}
  },
  {
   "cell_type": "code",
   "execution_count": 18,
   "metadata": {},
   "outputs": [],
   "source": [
    "# Calculate statistics per RFM segment\n",
    "RFMStats = X.reset_index().groupby(['RFMScore']).agg({'CustomerID': lambda i: len(i.unique()),\n",
    "                                                      'Recency': 'mean',\n",
    "                                                      'Frequency': 'mean',\n",
    "                                                      'Monetary': 'mean'}).fillna(0)\n",
    "RFMStats.columns = ['NrCustomers','avgRecency', 'avgFrequency', 'avgMonetary']"
   ]
  },
  {
   "cell_type": "code",
   "execution_count": 19,
   "metadata": {},
   "outputs": [
    {
     "output_type": "execute_result",
     "data": {
      "text/plain": [
       "          NrCustomers  avgRecency  avgFrequency  avgMonetary\n",
       "RFMScore                                                    \n",
       "111                74   19.635135      1.000000    28.571892\n",
       "112                96   19.322917      1.000000    44.876458\n",
       "113                68   17.250000      1.000000    69.447353\n",
       "114                17   13.058824      1.000000   135.654118\n",
       "131                 2   20.000000      2.000000    31.830000\n",
       "132                15   21.733333      2.000000    51.249333\n",
       "133                48   17.270833      2.000000    80.207917\n",
       "134                42   15.904762      2.000000   154.142857\n",
       "141                 1   17.000000      4.000000     8.600000\n",
       "142                 2   15.000000      3.500000    47.780000\n",
       "143                21   15.190476      3.095238    83.020000\n",
       "144               200   16.980000      7.350000   316.185650\n",
       "211               149   86.570470      1.000000    27.481745\n",
       "212               119   86.966387      1.000000    46.134118\n",
       "213                62   87.080645      1.000000    72.093871\n",
       "214                 9   88.555556      1.000000   131.200000\n",
       "231                 1  132.000000      2.000000    32.400000\n",
       "232                17   91.529412      2.000000    50.732941\n",
       "233                59   83.084746      2.000000    81.353220\n",
       "234                30   91.633333      2.000000   135.496000\n",
       "242                 1   72.000000      3.000000    51.920000\n",
       "243                13   66.615385      3.076923    92.992308\n",
       "244               113   77.265487      5.327434   250.126372\n",
       "311               153  196.771242      1.000000    28.719869\n",
       "312               141  201.205674      1.000000    44.985532\n",
       "313                81  200.172840      1.000000    70.703457\n",
       "314                14  198.857143      1.000000   132.611429\n",
       "331                 3  216.000000      2.000000    30.300000\n",
       "332                10  183.200000      2.000000    51.580000\n",
       "333                69  198.971014      2.000000    76.598261\n",
       "334                33  199.575758      2.000000   123.188485\n",
       "343                 8  183.500000      3.125000    93.822500\n",
       "344                67  194.731343      4.328358   186.577910\n",
       "411               195  314.041026      1.000000    27.956410\n",
       "412               166  310.632530      1.000000    45.704819\n",
       "413               114  313.333333      1.000000    71.044737\n",
       "414                15  315.400000      1.000000   138.926667\n",
       "431                 4  277.000000      2.000000    31.275000\n",
       "432                 8  321.625000      2.000000    48.937500\n",
       "433                28  301.035714      2.000000    78.671429\n",
       "434                15  304.266667      2.000000   137.046667\n",
       "442                 1  316.000000      3.000000    51.200000\n",
       "443                 7  288.571429      3.000000    87.242857\n",
       "444                24  291.708333      3.958333   200.879167"
      ],
      "text/html": "<div>\n<style scoped>\n    .dataframe tbody tr th:only-of-type {\n        vertical-align: middle;\n    }\n\n    .dataframe tbody tr th {\n        vertical-align: top;\n    }\n\n    .dataframe thead th {\n        text-align: right;\n    }\n</style>\n<table border=\"1\" class=\"dataframe\">\n  <thead>\n    <tr style=\"text-align: right;\">\n      <th></th>\n      <th>NrCustomers</th>\n      <th>avgRecency</th>\n      <th>avgFrequency</th>\n      <th>avgMonetary</th>\n    </tr>\n    <tr>\n      <th>RFMScore</th>\n      <th></th>\n      <th></th>\n      <th></th>\n      <th></th>\n    </tr>\n  </thead>\n  <tbody>\n    <tr>\n      <th>111</th>\n      <td>74</td>\n      <td>19.635135</td>\n      <td>1.000000</td>\n      <td>28.571892</td>\n    </tr>\n    <tr>\n      <th>112</th>\n      <td>96</td>\n      <td>19.322917</td>\n      <td>1.000000</td>\n      <td>44.876458</td>\n    </tr>\n    <tr>\n      <th>113</th>\n      <td>68</td>\n      <td>17.250000</td>\n      <td>1.000000</td>\n      <td>69.447353</td>\n    </tr>\n    <tr>\n      <th>114</th>\n      <td>17</td>\n      <td>13.058824</td>\n      <td>1.000000</td>\n      <td>135.654118</td>\n    </tr>\n    <tr>\n      <th>131</th>\n      <td>2</td>\n      <td>20.000000</td>\n      <td>2.000000</td>\n      <td>31.830000</td>\n    </tr>\n    <tr>\n      <th>132</th>\n      <td>15</td>\n      <td>21.733333</td>\n      <td>2.000000</td>\n      <td>51.249333</td>\n    </tr>\n    <tr>\n      <th>133</th>\n      <td>48</td>\n      <td>17.270833</td>\n      <td>2.000000</td>\n      <td>80.207917</td>\n    </tr>\n    <tr>\n      <th>134</th>\n      <td>42</td>\n      <td>15.904762</td>\n      <td>2.000000</td>\n      <td>154.142857</td>\n    </tr>\n    <tr>\n      <th>141</th>\n      <td>1</td>\n      <td>17.000000</td>\n      <td>4.000000</td>\n      <td>8.600000</td>\n    </tr>\n    <tr>\n      <th>142</th>\n      <td>2</td>\n      <td>15.000000</td>\n      <td>3.500000</td>\n      <td>47.780000</td>\n    </tr>\n    <tr>\n      <th>143</th>\n      <td>21</td>\n      <td>15.190476</td>\n      <td>3.095238</td>\n      <td>83.020000</td>\n    </tr>\n    <tr>\n      <th>144</th>\n      <td>200</td>\n      <td>16.980000</td>\n      <td>7.350000</td>\n      <td>316.185650</td>\n    </tr>\n    <tr>\n      <th>211</th>\n      <td>149</td>\n      <td>86.570470</td>\n      <td>1.000000</td>\n      <td>27.481745</td>\n    </tr>\n    <tr>\n      <th>212</th>\n      <td>119</td>\n      <td>86.966387</td>\n      <td>1.000000</td>\n      <td>46.134118</td>\n    </tr>\n    <tr>\n      <th>213</th>\n      <td>62</td>\n      <td>87.080645</td>\n      <td>1.000000</td>\n      <td>72.093871</td>\n    </tr>\n    <tr>\n      <th>214</th>\n      <td>9</td>\n      <td>88.555556</td>\n      <td>1.000000</td>\n      <td>131.200000</td>\n    </tr>\n    <tr>\n      <th>231</th>\n      <td>1</td>\n      <td>132.000000</td>\n      <td>2.000000</td>\n      <td>32.400000</td>\n    </tr>\n    <tr>\n      <th>232</th>\n      <td>17</td>\n      <td>91.529412</td>\n      <td>2.000000</td>\n      <td>50.732941</td>\n    </tr>\n    <tr>\n      <th>233</th>\n      <td>59</td>\n      <td>83.084746</td>\n      <td>2.000000</td>\n      <td>81.353220</td>\n    </tr>\n    <tr>\n      <th>234</th>\n      <td>30</td>\n      <td>91.633333</td>\n      <td>2.000000</td>\n      <td>135.496000</td>\n    </tr>\n    <tr>\n      <th>242</th>\n      <td>1</td>\n      <td>72.000000</td>\n      <td>3.000000</td>\n      <td>51.920000</td>\n    </tr>\n    <tr>\n      <th>243</th>\n      <td>13</td>\n      <td>66.615385</td>\n      <td>3.076923</td>\n      <td>92.992308</td>\n    </tr>\n    <tr>\n      <th>244</th>\n      <td>113</td>\n      <td>77.265487</td>\n      <td>5.327434</td>\n      <td>250.126372</td>\n    </tr>\n    <tr>\n      <th>311</th>\n      <td>153</td>\n      <td>196.771242</td>\n      <td>1.000000</td>\n      <td>28.719869</td>\n    </tr>\n    <tr>\n      <th>312</th>\n      <td>141</td>\n      <td>201.205674</td>\n      <td>1.000000</td>\n      <td>44.985532</td>\n    </tr>\n    <tr>\n      <th>313</th>\n      <td>81</td>\n      <td>200.172840</td>\n      <td>1.000000</td>\n      <td>70.703457</td>\n    </tr>\n    <tr>\n      <th>314</th>\n      <td>14</td>\n      <td>198.857143</td>\n      <td>1.000000</td>\n      <td>132.611429</td>\n    </tr>\n    <tr>\n      <th>331</th>\n      <td>3</td>\n      <td>216.000000</td>\n      <td>2.000000</td>\n      <td>30.300000</td>\n    </tr>\n    <tr>\n      <th>332</th>\n      <td>10</td>\n      <td>183.200000</td>\n      <td>2.000000</td>\n      <td>51.580000</td>\n    </tr>\n    <tr>\n      <th>333</th>\n      <td>69</td>\n      <td>198.971014</td>\n      <td>2.000000</td>\n      <td>76.598261</td>\n    </tr>\n    <tr>\n      <th>334</th>\n      <td>33</td>\n      <td>199.575758</td>\n      <td>2.000000</td>\n      <td>123.188485</td>\n    </tr>\n    <tr>\n      <th>343</th>\n      <td>8</td>\n      <td>183.500000</td>\n      <td>3.125000</td>\n      <td>93.822500</td>\n    </tr>\n    <tr>\n      <th>344</th>\n      <td>67</td>\n      <td>194.731343</td>\n      <td>4.328358</td>\n      <td>186.577910</td>\n    </tr>\n    <tr>\n      <th>411</th>\n      <td>195</td>\n      <td>314.041026</td>\n      <td>1.000000</td>\n      <td>27.956410</td>\n    </tr>\n    <tr>\n      <th>412</th>\n      <td>166</td>\n      <td>310.632530</td>\n      <td>1.000000</td>\n      <td>45.704819</td>\n    </tr>\n    <tr>\n      <th>413</th>\n      <td>114</td>\n      <td>313.333333</td>\n      <td>1.000000</td>\n      <td>71.044737</td>\n    </tr>\n    <tr>\n      <th>414</th>\n      <td>15</td>\n      <td>315.400000</td>\n      <td>1.000000</td>\n      <td>138.926667</td>\n    </tr>\n    <tr>\n      <th>431</th>\n      <td>4</td>\n      <td>277.000000</td>\n      <td>2.000000</td>\n      <td>31.275000</td>\n    </tr>\n    <tr>\n      <th>432</th>\n      <td>8</td>\n      <td>321.625000</td>\n      <td>2.000000</td>\n      <td>48.937500</td>\n    </tr>\n    <tr>\n      <th>433</th>\n      <td>28</td>\n      <td>301.035714</td>\n      <td>2.000000</td>\n      <td>78.671429</td>\n    </tr>\n    <tr>\n      <th>434</th>\n      <td>15</td>\n      <td>304.266667</td>\n      <td>2.000000</td>\n      <td>137.046667</td>\n    </tr>\n    <tr>\n      <th>442</th>\n      <td>1</td>\n      <td>316.000000</td>\n      <td>3.000000</td>\n      <td>51.200000</td>\n    </tr>\n    <tr>\n      <th>443</th>\n      <td>7</td>\n      <td>288.571429</td>\n      <td>3.000000</td>\n      <td>87.242857</td>\n    </tr>\n    <tr>\n      <th>444</th>\n      <td>24</td>\n      <td>291.708333</td>\n      <td>3.958333</td>\n      <td>200.879167</td>\n    </tr>\n  </tbody>\n</table>\n</div>"
     },
     "metadata": {},
     "execution_count": 19
    }
   ],
   "source": [
    "# Show statistics\n",
    "RFMStats"
   ]
  },
  {
   "cell_type": "code",
   "execution_count": 20,
   "metadata": {},
   "outputs": [
    {
     "output_type": "execute_result",
     "data": {
      "text/plain": [
       "            Recency  Frequency  Monetary RScore FScore MScore RFMScore\n",
       "CustomerID                                                            \n",
       "44949            37          6    328.68      1      4      4      144\n",
       "44944             4         10    399.32      1      4      4      144\n",
       "44841            41         14    759.64      1      4      4      144\n",
       "44827            39          6    247.72      1      4      4      144\n",
       "34255            15          3    129.68      1      4      4      144\n",
       "...             ...        ...       ...    ...    ...    ...      ...\n",
       "61226             2          9    613.70      1      4      4      144\n",
       "58942            12          7    342.94      1      4      4      144\n",
       "64990             3          4    104.28      1      4      4      144\n",
       "29181            22         16    503.26      1      4      4      144\n",
       "60577            15         13    512.32      1      4      4      144\n",
       "\n",
       "[200 rows x 7 columns]"
      ],
      "text/html": "<div>\n<style scoped>\n    .dataframe tbody tr th:only-of-type {\n        vertical-align: middle;\n    }\n\n    .dataframe tbody tr th {\n        vertical-align: top;\n    }\n\n    .dataframe thead th {\n        text-align: right;\n    }\n</style>\n<table border=\"1\" class=\"dataframe\">\n  <thead>\n    <tr style=\"text-align: right;\">\n      <th></th>\n      <th>Recency</th>\n      <th>Frequency</th>\n      <th>Monetary</th>\n      <th>RScore</th>\n      <th>FScore</th>\n      <th>MScore</th>\n      <th>RFMScore</th>\n    </tr>\n    <tr>\n      <th>CustomerID</th>\n      <th></th>\n      <th></th>\n      <th></th>\n      <th></th>\n      <th></th>\n      <th></th>\n      <th></th>\n    </tr>\n  </thead>\n  <tbody>\n    <tr>\n      <th>44949</th>\n      <td>37</td>\n      <td>6</td>\n      <td>328.68</td>\n      <td>1</td>\n      <td>4</td>\n      <td>4</td>\n      <td>144</td>\n    </tr>\n    <tr>\n      <th>44944</th>\n      <td>4</td>\n      <td>10</td>\n      <td>399.32</td>\n      <td>1</td>\n      <td>4</td>\n      <td>4</td>\n      <td>144</td>\n    </tr>\n    <tr>\n      <th>44841</th>\n      <td>41</td>\n      <td>14</td>\n      <td>759.64</td>\n      <td>1</td>\n      <td>4</td>\n      <td>4</td>\n      <td>144</td>\n    </tr>\n    <tr>\n      <th>44827</th>\n      <td>39</td>\n      <td>6</td>\n      <td>247.72</td>\n      <td>1</td>\n      <td>4</td>\n      <td>4</td>\n      <td>144</td>\n    </tr>\n    <tr>\n      <th>34255</th>\n      <td>15</td>\n      <td>3</td>\n      <td>129.68</td>\n      <td>1</td>\n      <td>4</td>\n      <td>4</td>\n      <td>144</td>\n    </tr>\n    <tr>\n      <th>...</th>\n      <td>...</td>\n      <td>...</td>\n      <td>...</td>\n      <td>...</td>\n      <td>...</td>\n      <td>...</td>\n      <td>...</td>\n    </tr>\n    <tr>\n      <th>61226</th>\n      <td>2</td>\n      <td>9</td>\n      <td>613.70</td>\n      <td>1</td>\n      <td>4</td>\n      <td>4</td>\n      <td>144</td>\n    </tr>\n    <tr>\n      <th>58942</th>\n      <td>12</td>\n      <td>7</td>\n      <td>342.94</td>\n      <td>1</td>\n      <td>4</td>\n      <td>4</td>\n      <td>144</td>\n    </tr>\n    <tr>\n      <th>64990</th>\n      <td>3</td>\n      <td>4</td>\n      <td>104.28</td>\n      <td>1</td>\n      <td>4</td>\n      <td>4</td>\n      <td>144</td>\n    </tr>\n    <tr>\n      <th>29181</th>\n      <td>22</td>\n      <td>16</td>\n      <td>503.26</td>\n      <td>1</td>\n      <td>4</td>\n      <td>4</td>\n      <td>144</td>\n    </tr>\n    <tr>\n      <th>60577</th>\n      <td>15</td>\n      <td>13</td>\n      <td>512.32</td>\n      <td>1</td>\n      <td>4</td>\n      <td>4</td>\n      <td>144</td>\n    </tr>\n  </tbody>\n</table>\n<p>200 rows × 7 columns</p>\n</div>"
     },
     "metadata": {},
     "execution_count": 20
    }
   ],
   "source": [
    "# Check who are customers from segment \"144\"\n",
    "X[X['RFMScore']=='144']"
   ]
  },
  {
   "cell_type": "code",
   "execution_count": null,
   "metadata": {},
   "outputs": [],
   "source": []
  }
 ],
 "metadata": {
  "kernelspec": {
   "display_name": "Python 3",
   "language": "python",
   "name": "python3"
  },
  "language_info": {
   "codemirror_mode": {
    "name": "ipython",
    "version": 3
   },
   "file_extension": ".py",
   "mimetype": "text/x-python",
   "name": "python",
   "nbconvert_exporter": "python",
   "pygments_lexer": "ipython3",
   "version": "3.7.6-final"
  }
 },
 "nbformat": 4,
 "nbformat_minor": 2
}