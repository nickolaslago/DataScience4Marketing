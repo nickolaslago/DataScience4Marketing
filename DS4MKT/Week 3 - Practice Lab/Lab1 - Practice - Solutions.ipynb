{
 "cells": [
  {
   "cell_type": "markdown",
   "metadata": {},
   "source": [
    "# Lab 1 - Practice"
   ]
  },
  {
   "cell_type": "markdown",
   "metadata": {},
   "source": [
    "1. Create a String variable called `Movie` with the value equal to a movie title of your choosing"
   ]
  },
  {
   "cell_type": "code",
   "execution_count": 1,
   "metadata": {},
   "outputs": [],
   "source": [
    "Movie = 'Pulp Fiction'"
   ]
  },
  {
   "cell_type": "markdown",
   "metadata": {},
   "source": [
    "2. Create an Integer or Float variable called `Rating` with your movie rating (0-10 scale)"
   ]
  },
  {
   "cell_type": "code",
   "execution_count": 11,
   "metadata": {},
   "outputs": [],
   "source": [
    "Rating = 7.5"
   ]
  },
  {
   "cell_type": "markdown",
   "metadata": {},
   "source": [
    "3. Run the following line of code:"
   ]
  },
  {
   "cell_type": "code",
   "execution_count": 12,
   "metadata": {},
   "outputs": [
    {
     "name": "stdout",
     "output_type": "stream",
     "text": [
      "I saw Pulp Fiction. I rate it 7.5 out of 10!\n"
     ]
    }
   ],
   "source": [
    "print(\"I saw {}. I rate it {} out of 10!\".format(Movie, Rating))"
   ]
  },
  {
   "cell_type": "markdown",
   "metadata": {},
   "source": [
    "4. Using If-Elif-Else statements, create the following rules for a new variable called `Opinion`:\n",
    "    * If Rating < 3, then Opinion is \"awful\"\n",
    "    * But If Rating is >= 3 and <5, then Opinion is \"poor\"\n",
    "    * But If Rating is >= 5 and <7, then Opinion is \"meh, average\"\n",
    "    * But If Rating is >= 7 and <9, then Opinion is \"good\"\n",
    "    * Otherwise, Opinion is \"excellent\""
   ]
  },
  {
   "cell_type": "code",
   "execution_count": 16,
   "metadata": {},
   "outputs": [],
   "source": [
    "if Rating < 3:\n",
    "    Opinion = 'awful'\n",
    "elif Rating >= 3 and Rating < 5:\n",
    "    Opinion = 'poor'    \n",
    "elif Rating >= 5 and Rating < 7:\n",
    "    Opinion = 'meh, average'  \n",
    "elif Rating >= 7 and Rating < 9:\n",
    "    Opinion = 'good'\n",
    "else:\n",
    "    Opinion = 'excellent'"
   ]
  },
  {
   "cell_type": "markdown",
   "metadata": {},
   "source": [
    "5. Run the following line of code:"
   ]
  },
  {
   "cell_type": "code",
   "execution_count": 14,
   "metadata": {},
   "outputs": [
    {
     "name": "stdout",
     "output_type": "stream",
     "text": [
      "I saw Pulp Fiction. It was good, I rate it 7.5 out of 10!\n"
     ]
    }
   ],
   "source": [
    "print(\"I saw {}. It was {}, I rate it {} out of 10!\".format(Movie, Opinion, Rating))"
   ]
  },
  {
   "cell_type": "markdown",
   "metadata": {},
   "source": [
    "6. Create a dictionary called `dict_Movies` with 5 movies you like and the corresponding rating, like so: `{“Pulp Fiction”: 8}`"
   ]
  },
  {
   "cell_type": "code",
   "execution_count": 15,
   "metadata": {},
   "outputs": [],
   "source": [
    "dict_Movies =  {'Parasites': 10, \n",
    "                'Inception': 9, \n",
    "                'Uncut Gems': 8,\n",
    "                'Dunkirk': 6,\n",
    "                'Batman and Robin': 1.5}"
   ]
  },
  {
   "cell_type": "markdown",
   "metadata": {},
   "source": [
    "7. Iterate the dictionary using a Loop statement, so that it prints the following statement in each turn:\n",
    "\n",
    "    `I saw {}. It was {}, I rate it {} out of 10!`\n",
    "\n",
    "    __Don’t forget to include the conditional statements inside the Loop__"
   ]
  },
  {
   "cell_type": "code",
   "execution_count": null,
   "metadata": {},
   "outputs": [],
   "source": [
    " # fazer um Loop só com prints iniciais"
   ]
  },
  {
   "cell_type": "code",
   "execution_count": 20,
   "metadata": {},
   "outputs": [
    {
     "name": "stdout",
     "output_type": "stream",
     "text": [
      "I saw Parasites. It was excellent, I rate it 10 out of 10!\n",
      "I saw Inception. It was excellent, I rate it 9 out of 10!\n",
      "I saw Uncut Gems. It was good, I rate it 8 out of 10!\n",
      "I saw Dunkirk. It was meh, average, I rate it 6 out of 10!\n",
      "I saw Batman and Robin. It was awful, I rate it 1.5 out of 10!\n"
     ]
    }
   ],
   "source": [
    "for Movie, Rating in dict_Movies.items():\n",
    "    \n",
    "    if Rating < 3:\n",
    "        Opinion = 'awful'\n",
    "    elif Rating >= 3 and Rating < 5:\n",
    "        Opinion = 'poor'    \n",
    "    elif Rating >= 5 and Rating < 7:\n",
    "        Opinion = 'meh, average'  \n",
    "    elif Rating >= 7 and Rating < 9:\n",
    "        Opinion = 'good'\n",
    "    else:\n",
    "        Opinion = 'excellent'\n",
    "    \n",
    "    print(\"I saw {}. It was {}, I rate it {} out of 10!\".format(Movie, Opinion, Rating))"
   ]
  },
  {
   "cell_type": "markdown",
   "metadata": {},
   "source": [
    "8. Create a function called `get_rating` that holds \"all\" the code you wrote before. The function should receive 1 argument:\n",
    "    * A dictionary of Movies and Ratings: {'movie': rating}\n",
    "   \n",
    "   The function should then iterate every movie in the dictionary, apply the conditional rules (ex. 4) and print the statement:\n",
    "   \n",
    "   `I saw {}. It was {}, I rate it {} out of 10!`\n",
    "   \n",
    "   After defining the function, test it out!\n",
    "   \n",
    "   __Remember the values inside the function are expected to be dynamic, watch out for variable and argument names__"
   ]
  },
  {
   "cell_type": "code",
   "execution_count": 27,
   "metadata": {},
   "outputs": [],
   "source": [
    "def get_rating(d):\n",
    "    for Movie, Rating in d.items():\n",
    "    \n",
    "        if Rating < 3:\n",
    "            Opinion = 'awful'\n",
    "        elif Rating >= 3 and Rating < 5:\n",
    "            Opinion = 'poor'    \n",
    "        elif Rating >= 5 and Rating < 7:\n",
    "            Opinion = 'meh, average'  \n",
    "        elif Rating >= 7 and Rating < 9:\n",
    "            Opinion = 'good'\n",
    "        else:\n",
    "            Opinion = 'excellent'\n",
    "\n",
    "        print(\"I saw {}. It was {}, I rate it {} out of 10!\".format(Movie, Opinion, Rating))"
   ]
  },
  {
   "cell_type": "code",
   "execution_count": 28,
   "metadata": {},
   "outputs": [
    {
     "name": "stdout",
     "output_type": "stream",
     "text": [
      "I saw Movie_A. It was excellent, I rate it 10 out of 10!\n",
      "I saw Movie_B. It was good, I rate it 8 out of 10!\n",
      "I saw Movie_C. It was meh, average, I rate it 5 out of 10!\n",
      "I saw Movie_D. It was awful, I rate it 1 out of 10!\n"
     ]
    }
   ],
   "source": [
    "new_movie_list = {'Movie_A': 10, \n",
    "                  'Movie_B': 8, \n",
    "                  'Movie_C': 5, \n",
    "                  'Movie_D': 1}\n",
    "\n",
    "get_rating(new_movie_list)"
   ]
  }
 ],
 "metadata": {
  "kernelspec": {
   "display_name": "Python 3",
   "language": "python",
   "name": "python3"
  },
  "language_info": {
   "codemirror_mode": {
    "name": "ipython",
    "version": 3
   },
   "file_extension": ".py",
   "mimetype": "text/x-python",
   "name": "python",
   "nbconvert_exporter": "python",
   "pygments_lexer": "ipython3",
   "version": "3.7.6"
  }
 },
 "nbformat": 4,
 "nbformat_minor": 4
}
