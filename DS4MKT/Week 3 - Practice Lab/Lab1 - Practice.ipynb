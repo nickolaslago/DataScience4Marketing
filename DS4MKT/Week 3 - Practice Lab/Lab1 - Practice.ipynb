{
 "cells": [
  {
   "cell_type": "markdown",
   "metadata": {},
   "source": [
    "# Lab 1 - Practice"
   ]
  },
  {
   "cell_type": "markdown",
   "metadata": {},
   "source": [
    "1. Create a String variable called `Movie` with the value equal to a movie title of your choosing"
   ]
  },
  {
   "cell_type": "code",
   "execution_count": 1,
   "metadata": {},
   "outputs": [],
   "source": [
    "Movie = \"Cidade de Deus\""
   ]
  },
  {
   "cell_type": "markdown",
   "metadata": {},
   "source": [
    "2. Create an Integer or Float variable called `Rating` with your movie rating (0-10 scale)"
   ]
  },
  {
   "cell_type": "code",
   "execution_count": 2,
   "metadata": {},
   "outputs": [],
   "source": [
    "Rating = 10"
   ]
  },
  {
   "cell_type": "markdown",
   "metadata": {},
   "source": [
    "3. Run the following line of code:"
   ]
  },
  {
   "cell_type": "code",
   "execution_count": 3,
   "metadata": {
    "tags": []
   },
   "outputs": [
    {
     "output_type": "stream",
     "name": "stdout",
     "text": "I saw Cidade de Deus. I rate it 10 out of 10!\n"
    }
   ],
   "source": [
    "print(\"I saw {}. I rate it {} out of 10!\".format(Movie, Rating))"
   ]
  },
  {
   "cell_type": "markdown",
   "metadata": {},
   "source": [
    "4. Using If-Elif-Else statements, create the following rules for a new variable called `Opinion`:\n",
    "    * If Rating < 3, then Opinion is \"awful\"\n",
    "    * But If Rating is >= 3 and <5, then Opinion is \"poor\"\n",
    "    * But If Rating is >= 5 and <7, then Opinion is \"meh, average\"\n",
    "    * But If Rating is >= 7 and <9, then Opinion is \"good\"\n",
    "    * Otherwise, Opinion is \"excellent\""
   ]
  },
  {
   "cell_type": "code",
   "execution_count": 5,
   "metadata": {
    "tags": []
   },
   "outputs": [
    {
     "output_type": "stream",
     "name": "stdout",
     "text": "excelence\n"
    }
   ],
   "source": [
    "if Rating < 3:\n",
    "    print('awful')\n",
    "elif Rating >= 3 and Rating < 5:\n",
    "    print('poor')\n",
    "elif Rating >= 5 and Rating < 7:\n",
    "    print('meh, average')\n",
    "elif Rating >= 7 and Rating < 9:\n",
    "    print('good')\n",
    "else:\n",
    "    print('excelence')"
   ]
  },
  {
   "cell_type": "markdown",
   "metadata": {},
   "source": [
    "5. Run the following line of code:"
   ]
  },
  {
   "cell_type": "code",
   "execution_count": null,
   "metadata": {},
   "outputs": [],
   "source": [
    "print(\"I saw {}. It was {}, I rate it {} out of 10!\".format(Movie, Opinion, Rating))"
   ]
  },
  {
   "cell_type": "markdown",
   "metadata": {},
   "source": [
    "6. Create a dictionary called `dict_Movies` with 5 movies you like and the corresponding rating, like so: `{“Pulp Fiction”: 8}`"
   ]
  },
  {
   "cell_type": "code",
   "execution_count": null,
   "metadata": {},
   "outputs": [],
   "source": [
    "dict_Movies =  {}"
   ]
  },
  {
   "cell_type": "markdown",
   "metadata": {},
   "source": [
    "7. Iterate the dictionary using a Loop statement, so that it prints the following statement in each turn:\n",
    "\n",
    "    `I saw {}. It was {}, I rate it {} out of 10!`\n",
    "\n",
    "    __Don’t forget to include the conditional statements inside the Loop__"
   ]
  },
  {
   "cell_type": "code",
   "execution_count": null,
   "metadata": {},
   "outputs": [],
   "source": [
    "for #... in #...:"
   ]
  },
  {
   "cell_type": "markdown",
   "metadata": {},
   "source": [
    "8. Create a function called `get_rating` that holds \"all\" the code you wrote before. The function should receive 1 argument:\n",
    "    * A dictionary of Movies and Ratings: {'movie': rating}\n",
    "   \n",
    "   The function should then iterate every movie in the dictionary, apply the conditional rules (ex. 4) and print the statement:\n",
    "   \n",
    "   `I saw {}. It was {}, I rate it {} out of 10!`\n",
    "   \n",
    "   The function is not expected to return anything, only to print the statement. After defining the function, test it out!\n",
    "   \n",
    "   __Remember the values inside the function are expected to be dynamic, watch out for variable and argument names__"
   ]
  },
  {
   "cell_type": "code",
   "execution_count": null,
   "metadata": {},
   "outputs": [],
   "source": [
    "def # ..."
   ]
  },
  {
   "cell_type": "code",
   "execution_count": null,
   "metadata": {},
   "outputs": [],
   "source": [
    "# Test it out with some dummy data or add your own movies\n",
    "new_movie_list = {'Movie_A': 10, \n",
    "                  'Movie_B': 8, \n",
    "                  'Movie_C': 5, \n",
    "                  'Movie_D': 1}\n",
    "\n",
    "get_rating(new_movie_list)"
   ]
  },
  {
   "cell_type": "markdown",
   "metadata": {},
   "source": [
    "# Good Job!"
   ]
  }
 ],
 "metadata": {
  "kernelspec": {
   "display_name": "Python 3",
   "language": "python",
   "name": "python3"
  },
  "language_info": {
   "codemirror_mode": {
    "name": "ipython",
    "version": 3
   },
   "file_extension": ".py",
   "mimetype": "text/x-python",
   "name": "python",
   "nbconvert_exporter": "python",
   "pygments_lexer": "ipython3",
   "version": "3.7.6-final"
  }
 },
 "nbformat": 4,
 "nbformat_minor": 4
}