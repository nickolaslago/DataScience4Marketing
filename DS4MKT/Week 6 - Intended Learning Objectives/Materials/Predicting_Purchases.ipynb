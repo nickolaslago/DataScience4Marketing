{
 "cells": [
  {
   "cell_type": "markdown",
   "metadata": {},
   "source": [
    "## Predicting Churn With a Logistic Regression\n",
    "\n",
    "Remember we have the following dataset:\n",
    "### Input variables:\n",
    "#### bank client data:\n",
    "1 - age (numeric)\n",
    "\n",
    "2 - job : type of job (categorical: \"admin.\",\"blue-collar\",\"entrepreneur\",\"housemaid\",\"management\",\"retired\",\"self-employed\",\"services\",\"student\",\"technician\",\"unemployed\",\"unknown\")\n",
    "\n",
    "3 - marital : marital status (categorical: \"divorced\",\"married\",\"single\",\"unknown\"; note: \"divorced\" means divorced or widowed)\n",
    "4 - education (categorical: \"basic.4y\", \"basic.6y\", \"basic.9y\", \"high.school\", \"illiterate\", \"professional.course\", \"university.degree\", \"unknown\")\n",
    "\n",
    "5 - default: has credit in default? (categorical: \"no\",\"yes\",\"unknown\")\n",
    "\n",
    "6 - housing: has housing loan? (categorical: \"no\",\"yes\",\"unknown\")\n",
    "\n",
    "7 - loan: has personal loan? (categorical: \"no\",\"yes\",\"unknown\")\n",
    "\n",
    "#### related with the last contact of the current campaign:\n",
    "8 - contact: contact communication type (categorical: \"cellular\",\"telephone\") \n",
    "\n",
    "9 - month: last contact month of year (categorical: \"jan\", \"feb\", \"mar\", ..., \"nov\", \"dec\")\n",
    "\n",
    "10 - day_of_week: last contact day of the week (categorical: \"mon\",\"tue\",\"wed\",\"thu\",\"fri\")\n",
    "\n",
    "11 - duration: last contact duration, in seconds (numeric). Important note:  this attribute highly affects the output target (e.g., if duration=0 then y=\"no\"). Yet, the duration is not known before a call is performed. Also, after the end of the call y is obviously known. Thus, this input should only be included for benchmark purposes and should be discarded if the intention is to have a realistic predictive model.\n",
    "\n",
    "#### other attributes:\n",
    "12 - campaign: number of contacts performed during this campaign and for this client (numeric, includes last contact)\n",
    "\n",
    "13 - pdays: number of days that passed by after the client was last contacted from a previous campaign (numeric; 999 means client was not previously contacted)\n",
    "\n",
    "14 - previous: number of contacts performed before this campaign and for this client (numeric)\n",
    "\n",
    "15 - poutcome: outcome of the previous marketing campaign (categorical: \"failure\",\"nonexistent\",\"success\")\n",
    "\n",
    "#### social and economic context attributes\n",
    "16 - emp.var.rate: employment variation rate - quarterly indicator (numeric)\n",
    "\n",
    "17 - cons.price.idx: consumer price index - monthly indicator (numeric)     \n",
    "\n",
    "18 - cons.conf.idx: consumer confidence index - monthly indicator (numeric)    \n",
    "\n",
    "19 - euribor3m: euribor 3 month rate - daily indicator (numeric)\n",
    "\n",
    "20 - nr.employed: number of employees - quarterly indicator (numeric)\n",
    "\n",
    "\n",
    "### Output variable (desired target):\n",
    "21 - y - has the client subscribed a term deposit? (binary: \"yes\",\"no\")\n"
   ]
  },
  {
   "cell_type": "markdown",
   "metadata": {},
   "source": [
    "Let us begin by importing the librarues we will need"
   ]
  },
  {
   "cell_type": "code",
   "execution_count": 1,
   "metadata": {},
   "outputs": [],
   "source": [
    "import pandas as pd\n",
    "import numpy as np\n",
    "\n",
    "import matplotlib.pyplot as plt\n",
    "\n",
    "import statsmodels.api as sm"
   ]
  },
  {
   "cell_type": "markdown",
   "metadata": {},
   "source": [
    "As you saw in class before, let us import the dataset and rename the columns."
   ]
  },
  {
   "cell_type": "code",
   "execution_count": 2,
   "metadata": {},
   "outputs": [
    {
     "data": {
      "text/html": [
       "<div>\n",
       "<style scoped>\n",
       "    .dataframe tbody tr th:only-of-type {\n",
       "        vertical-align: middle;\n",
       "    }\n",
       "\n",
       "    .dataframe tbody tr th {\n",
       "        vertical-align: top;\n",
       "    }\n",
       "\n",
       "    .dataframe thead th {\n",
       "        text-align: right;\n",
       "    }\n",
       "</style>\n",
       "<table border=\"1\" class=\"dataframe\">\n",
       "  <thead>\n",
       "    <tr style=\"text-align: right;\">\n",
       "      <th></th>\n",
       "      <th>0</th>\n",
       "      <th>1</th>\n",
       "      <th>2</th>\n",
       "      <th>3</th>\n",
       "      <th>4</th>\n",
       "    </tr>\n",
       "  </thead>\n",
       "  <tbody>\n",
       "    <tr>\n",
       "      <td>age</td>\n",
       "      <td>56</td>\n",
       "      <td>57</td>\n",
       "      <td>37</td>\n",
       "      <td>40</td>\n",
       "      <td>56</td>\n",
       "    </tr>\n",
       "    <tr>\n",
       "      <td>job</td>\n",
       "      <td>housemaid</td>\n",
       "      <td>services</td>\n",
       "      <td>services</td>\n",
       "      <td>admin.</td>\n",
       "      <td>services</td>\n",
       "    </tr>\n",
       "    <tr>\n",
       "      <td>marital</td>\n",
       "      <td>married</td>\n",
       "      <td>married</td>\n",
       "      <td>married</td>\n",
       "      <td>married</td>\n",
       "      <td>married</td>\n",
       "    </tr>\n",
       "    <tr>\n",
       "      <td>education</td>\n",
       "      <td>basic.4y</td>\n",
       "      <td>high.school</td>\n",
       "      <td>high.school</td>\n",
       "      <td>basic.6y</td>\n",
       "      <td>high.school</td>\n",
       "    </tr>\n",
       "    <tr>\n",
       "      <td>default</td>\n",
       "      <td>no</td>\n",
       "      <td>unknown</td>\n",
       "      <td>no</td>\n",
       "      <td>no</td>\n",
       "      <td>no</td>\n",
       "    </tr>\n",
       "    <tr>\n",
       "      <td>housing</td>\n",
       "      <td>no</td>\n",
       "      <td>no</td>\n",
       "      <td>yes</td>\n",
       "      <td>no</td>\n",
       "      <td>no</td>\n",
       "    </tr>\n",
       "    <tr>\n",
       "      <td>loan</td>\n",
       "      <td>no</td>\n",
       "      <td>no</td>\n",
       "      <td>no</td>\n",
       "      <td>no</td>\n",
       "      <td>yes</td>\n",
       "    </tr>\n",
       "    <tr>\n",
       "      <td>contact</td>\n",
       "      <td>telephone</td>\n",
       "      <td>telephone</td>\n",
       "      <td>telephone</td>\n",
       "      <td>telephone</td>\n",
       "      <td>telephone</td>\n",
       "    </tr>\n",
       "    <tr>\n",
       "      <td>month</td>\n",
       "      <td>may</td>\n",
       "      <td>may</td>\n",
       "      <td>may</td>\n",
       "      <td>may</td>\n",
       "      <td>may</td>\n",
       "    </tr>\n",
       "    <tr>\n",
       "      <td>day_of_week</td>\n",
       "      <td>mon</td>\n",
       "      <td>mon</td>\n",
       "      <td>mon</td>\n",
       "      <td>mon</td>\n",
       "      <td>mon</td>\n",
       "    </tr>\n",
       "    <tr>\n",
       "      <td>duration</td>\n",
       "      <td>261</td>\n",
       "      <td>149</td>\n",
       "      <td>226</td>\n",
       "      <td>151</td>\n",
       "      <td>307</td>\n",
       "    </tr>\n",
       "    <tr>\n",
       "      <td>campaign_contact</td>\n",
       "      <td>1</td>\n",
       "      <td>1</td>\n",
       "      <td>1</td>\n",
       "      <td>1</td>\n",
       "      <td>1</td>\n",
       "    </tr>\n",
       "    <tr>\n",
       "      <td>previous_days</td>\n",
       "      <td>999</td>\n",
       "      <td>999</td>\n",
       "      <td>999</td>\n",
       "      <td>999</td>\n",
       "      <td>999</td>\n",
       "    </tr>\n",
       "    <tr>\n",
       "      <td>previous_contacts</td>\n",
       "      <td>0</td>\n",
       "      <td>0</td>\n",
       "      <td>0</td>\n",
       "      <td>0</td>\n",
       "      <td>0</td>\n",
       "    </tr>\n",
       "    <tr>\n",
       "      <td>previous_outcome</td>\n",
       "      <td>nonexistent</td>\n",
       "      <td>nonexistent</td>\n",
       "      <td>nonexistent</td>\n",
       "      <td>nonexistent</td>\n",
       "      <td>nonexistent</td>\n",
       "    </tr>\n",
       "    <tr>\n",
       "      <td>employment_var_rate</td>\n",
       "      <td>1.1</td>\n",
       "      <td>1.1</td>\n",
       "      <td>1.1</td>\n",
       "      <td>1.1</td>\n",
       "      <td>1.1</td>\n",
       "    </tr>\n",
       "    <tr>\n",
       "      <td>consumer_price_idx</td>\n",
       "      <td>93.994</td>\n",
       "      <td>93.994</td>\n",
       "      <td>93.994</td>\n",
       "      <td>93.994</td>\n",
       "      <td>93.994</td>\n",
       "    </tr>\n",
       "    <tr>\n",
       "      <td>consumer_confidence_idx</td>\n",
       "      <td>-36.4</td>\n",
       "      <td>-36.4</td>\n",
       "      <td>-36.4</td>\n",
       "      <td>-36.4</td>\n",
       "      <td>-36.4</td>\n",
       "    </tr>\n",
       "    <tr>\n",
       "      <td>euribor_3m</td>\n",
       "      <td>4.857</td>\n",
       "      <td>4.857</td>\n",
       "      <td>4.857</td>\n",
       "      <td>4.857</td>\n",
       "      <td>4.857</td>\n",
       "    </tr>\n",
       "    <tr>\n",
       "      <td>nr_employed</td>\n",
       "      <td>5191</td>\n",
       "      <td>5191</td>\n",
       "      <td>5191</td>\n",
       "      <td>5191</td>\n",
       "      <td>5191</td>\n",
       "    </tr>\n",
       "    <tr>\n",
       "      <td>campaign_success</td>\n",
       "      <td>no</td>\n",
       "      <td>no</td>\n",
       "      <td>no</td>\n",
       "      <td>no</td>\n",
       "      <td>no</td>\n",
       "    </tr>\n",
       "  </tbody>\n",
       "</table>\n",
       "</div>"
      ],
      "text/plain": [
       "                                    0            1            2            3  \\\n",
       "age                                56           57           37           40   \n",
       "job                         housemaid     services     services       admin.   \n",
       "marital                       married      married      married      married   \n",
       "education                    basic.4y  high.school  high.school     basic.6y   \n",
       "default                            no      unknown           no           no   \n",
       "housing                            no           no          yes           no   \n",
       "loan                               no           no           no           no   \n",
       "contact                     telephone    telephone    telephone    telephone   \n",
       "month                             may          may          may          may   \n",
       "day_of_week                       mon          mon          mon          mon   \n",
       "duration                          261          149          226          151   \n",
       "campaign_contact                    1            1            1            1   \n",
       "previous_days                     999          999          999          999   \n",
       "previous_contacts                   0            0            0            0   \n",
       "previous_outcome          nonexistent  nonexistent  nonexistent  nonexistent   \n",
       "employment_var_rate               1.1          1.1          1.1          1.1   \n",
       "consumer_price_idx             93.994       93.994       93.994       93.994   \n",
       "consumer_confidence_idx         -36.4        -36.4        -36.4        -36.4   \n",
       "euribor_3m                      4.857        4.857        4.857        4.857   \n",
       "nr_employed                      5191         5191         5191         5191   \n",
       "campaign_success                   no           no           no           no   \n",
       "\n",
       "                                    4  \n",
       "age                                56  \n",
       "job                          services  \n",
       "marital                       married  \n",
       "education                 high.school  \n",
       "default                            no  \n",
       "housing                            no  \n",
       "loan                              yes  \n",
       "contact                     telephone  \n",
       "month                             may  \n",
       "day_of_week                       mon  \n",
       "duration                          307  \n",
       "campaign_contact                    1  \n",
       "previous_days                     999  \n",
       "previous_contacts                   0  \n",
       "previous_outcome          nonexistent  \n",
       "employment_var_rate               1.1  \n",
       "consumer_price_idx             93.994  \n",
       "consumer_confidence_idx         -36.4  \n",
       "euribor_3m                      4.857  \n",
       "nr_employed                      5191  \n",
       "campaign_success                   no  "
      ]
     },
     "execution_count": 2,
     "metadata": {},
     "output_type": "execute_result"
    }
   ],
   "source": [
    "df = pd.read_csv(\n",
    "    '../Data/bank-additional-full.csv',\n",
    "    delimiter = ';',\n",
    "    header = 0,\n",
    "    decimal = '.',\n",
    "    quotechar = '\"')\n",
    "\n",
    "df.columns = ['age', 'job', 'marital',\n",
    "              'education', 'default', 'housing',\n",
    "              'loan', 'contact', 'month', 'day_of_week',\n",
    "              'duration', 'campaign_contact', 'previous_days',\n",
    "              'previous_contacts', 'previous_outcome', 'employment_var_rate',\n",
    "              'consumer_price_idx', 'consumer_confidence_idx ',\n",
    "              'euribor_3m', 'nr_employed', 'campaign_success']\n",
    "\n",
    "df.head().T"
   ]
  },
  {
   "cell_type": "markdown",
   "metadata": {},
   "source": [
    "### Target variable\n",
    "\n",
    "As you saw in class the logistic model needs a target variable that is either 1 or 0. We will use the column campaign_success value yes as 1 and no as 0."
   ]
  },
  {
   "cell_type": "code",
   "execution_count": 3,
   "metadata": {},
   "outputs": [
    {
     "data": {
      "text/plain": [
       "Text(0, 0.5, 'Count')"
      ]
     },
     "execution_count": 3,
     "metadata": {},
     "output_type": "execute_result"
    },
    {
     "data": {
      "image/png": "[encoded data removed]",
      "text/plain": [
       "<Figure size 432x288 with 1 Axes>"
      ]
     },
     "metadata": {
      "needs_background": "light"
     },
     "output_type": "display_data"
    }
   ],
   "source": [
    "df['target'] = df['campaign_success'].replace(['no','yes'],[0,1])\n",
    "\n",
    "ax = df['target'].value_counts().plot(\n",
    "    kind = 'bar',\n",
    "    title = 'Target barplot (avg: ' + str(df['target'].mean()) + ')')\n",
    "ax.set_xlabel(\"Target\")\n",
    "ax.set_ylabel(\"Count\")"
   ]
  },
  {
   "cell_type": "markdown",
   "metadata": {},
   "source": [
    "### Numeric Independent Variables\n",
    "\n",
    "The logistic regression requires numeric inputs, so for these variables we can immediately defelop a model. Consider predicting the target with independet variables age, duration, campaign_contact and previous_days plus an intercept. Let us call it model_1."
   ]
  },
  {
   "cell_type": "code",
   "execution_count": 4,
   "metadata": {},
   "outputs": [
    {
     "name": "stdout",
     "output_type": "stream",
     "text": [
      "Optimization terminated successfully.\n",
      "         Current function value: 0.258788\n",
      "         Iterations 7\n",
      "                           Logit Regression Results                           \n",
      "==============================================================================\n",
      "Dep. Variable:                 target   No. Observations:                41188\n",
      "Model:                          Logit   Df Residuals:                    41183\n",
      "Method:                           MLE   Df Model:                            4\n",
      "Date:                Sat, 16 Nov 2019   Pseudo R-squ.:                  0.2649\n",
      "Time:                        10:32:14   Log-Likelihood:                -10659.\n",
      "converged:                       True   LL-Null:                       -14499.\n",
      "Covariance Type:            nonrobust   LLR p-value:                     0.000\n",
      "====================================================================================\n",
      "                       coef    std err          z      P>|z|      [0.025      0.975]\n",
      "------------------------------------------------------------------------------------\n",
      "const               -0.6433      0.093     -6.916      0.000      -0.826      -0.461\n",
      "age                  0.0081      0.002      4.849      0.000       0.005       0.011\n",
      "duration             0.0039   6.23e-05     62.479      0.000       0.004       0.004\n",
      "campaign_contact    -0.1157      0.011    -10.573      0.000      -0.137      -0.094\n",
      "previous_days       -0.0031   6.09e-05    -50.352      0.000      -0.003      -0.003\n",
      "====================================================================================\n"
     ]
    },
    {
     "name": "stderr",
     "output_type": "stream",
     "text": [
      "C:\\ProgramData\\Anaconda3\\lib\\site-packages\\numpy\\core\\fromnumeric.py:2389: FutureWarning: Method .ptp is deprecated and will be removed in a future version. Use numpy.ptp instead.\n",
      "  return ptp(axis=axis, out=out, **kwargs)\n"
     ]
    }
   ],
   "source": [
    "y = df['target']\n",
    "x = df[['age', 'duration', 'campaign_contact', 'previous_days']]\n",
    "x = sm.add_constant(x)\n",
    "model_1 = sm.Logit(y, x).fit()\n",
    "print(model_1.summary())\n",
    "pred_1 = model_1.predict(x)"
   ]
  },
  {
   "cell_type": "markdown",
   "metadata": {},
   "source": [
    "The library scikit-learn has wonderful tools for data science. Lets use some of those to get the true positive rate, false positive rate and area under the curve."
   ]
  },
  {
   "cell_type": "code",
   "execution_count": 5,
   "metadata": {},
   "outputs": [
    {
     "data": {
      "image/png": "[encoded data removed]",
      "text/plain": [
       "<Figure size 432x288 with 1 Axes>"
      ]
     },
     "metadata": {
      "needs_background": "light"
     },
     "output_type": "display_data"
    }
   ],
   "source": [
    "from sklearn.metrics import roc_curve, auc\n",
    "\n",
    "fpr_1, tpr_1, _ = roc_curve(df['target'], pred_1)\n",
    "auc_1 = auc(fpr_1, tpr_1)\n",
    "\n",
    "plt.plot(fpr_1, tpr_1)\n",
    "plt.plot([0,1], [0,1])\n",
    "plt.xlim([0,1])\n",
    "plt.ylim([0,1])\n",
    "plt.legend(['Model 1 AUC:' + str(round(auc_1, 3)), 'Random Baseline'], loc='lower right')\n",
    "plt.title('ROC Curve' )\n",
    "plt.xlabel('False Positive Rate FPR' )\n",
    "plt.ylabel('True Positive Rate TPR')\n",
    "plt.show() "
   ]
  },
  {
   "cell_type": "markdown",
   "metadata": {},
   "source": [
    "As we have seen before the variable duration is suspicious. Lets remove it to make model_2 and compare the results."
   ]
  },
  {
   "cell_type": "code",
   "execution_count": 6,
   "metadata": {},
   "outputs": [
    {
     "name": "stdout",
     "output_type": "stream",
     "text": [
      "Optimization terminated successfully.\n",
      "         Current function value: 0.319101\n",
      "         Iterations 7\n",
      "                           Logit Regression Results                           \n",
      "==============================================================================\n",
      "Dep. Variable:                 target   No. Observations:                41188\n",
      "Model:                          Logit   Df Residuals:                    41184\n",
      "Method:                           MLE   Df Model:                            3\n",
      "Date:                Sat, 16 Nov 2019   Pseudo R-squ.:                 0.09354\n",
      "Time:                        10:34:39   Log-Likelihood:                -13143.\n",
      "converged:                       True   LL-Null:                       -14499.\n",
      "Covariance Type:            nonrobust   LLR p-value:                     0.000\n",
      "====================================================================================\n",
      "                       coef    std err          z      P>|z|      [0.025      0.975]\n",
      "------------------------------------------------------------------------------------\n",
      "const                0.5182      0.084      6.141      0.000       0.353       0.684\n",
      "age                  0.0061      0.002      4.045      0.000       0.003       0.009\n",
      "campaign_contact    -0.1020      0.009    -10.994      0.000      -0.120      -0.084\n",
      "previous_days       -0.0028   5.69e-05    -49.429      0.000      -0.003      -0.003\n",
      "====================================================================================\n"
     ]
    },
    {
     "name": "stderr",
     "output_type": "stream",
     "text": [
      "C:\\ProgramData\\Anaconda3\\lib\\site-packages\\numpy\\core\\fromnumeric.py:2389: FutureWarning: Method .ptp is deprecated and will be removed in a future version. Use numpy.ptp instead.\n",
      "  return ptp(axis=axis, out=out, **kwargs)\n"
     ]
    }
   ],
   "source": [
    "y = df['target']\n",
    "x = df[['age', 'campaign_contact', 'previous_days']]\n",
    "x = sm.add_constant(x)\n",
    "model_2 = sm.Logit(y, x).fit()\n",
    "print(model_2.summary())\n",
    "pred_2 = model_2.predict(x)\n",
    "\n",
    "fpr_2, tpr_2, _ = roc_curve(df['target'], pred_2)\n",
    "auc_2 = auc(fpr_2, tpr_2)"
   ]
  },
  {
   "cell_type": "code",
   "execution_count": 7,
   "metadata": {},
   "outputs": [
    {
     "data": {
      "image/png": "[encoded data removed]",
      "text/plain": [
       "<Figure size 432x288 with 1 Axes>"
      ]
     },
     "metadata": {
      "needs_background": "light"
     },
     "output_type": "display_data"
    }
   ],
   "source": [
    "plt.plot(fpr_1, tpr_1)\n",
    "plt.plot(fpr_2, tpr_2)\n",
    "plt.plot([0,1], [0,1])\n",
    "plt.xlim([0,1])\n",
    "plt.ylim([0,1])\n",
    "plt.legend(['Model 1 AUC:' + str(round(auc_1, 3)),\n",
    "            'Model 2 AUC:' + str(round(auc_2, 3)),\n",
    "            'Random Baseline'], loc='lower right')\n",
    "plt.title('ROC Curve' )\n",
    "plt.xlabel('False Positive Rate FPR' )\n",
    "plt.ylabel('True Positive Rate TPR')\n",
    "plt.show() "
   ]
  },
  {
   "cell_type": "markdown",
   "metadata": {},
   "source": [
    "The performance dropped quite a bit for higher thresholds."
   ]
  },
  {
   "cell_type": "markdown",
   "metadata": {},
   "source": [
    "### Categorical Independent Variables\n",
    "\n",
    "We need to convert categorical variables into numeric before we can use them as model inputs. The most common way to do this is to create dummy variables, which take value 1 if the categories are in a certain list or zero if not. Let us consider education."
   ]
  },
  {
   "cell_type": "code",
   "execution_count": 8,
   "metadata": {},
   "outputs": [
    {
     "name": "stdout",
     "output_type": "stream",
     "text": [
      "                         mean  count\n",
      "education                           \n",
      "basic.4y             0.102490   4176\n",
      "basic.6y             0.082024   2292\n",
      "basic.9y             0.078246   6045\n",
      "high.school          0.108355   9515\n",
      "illiterate           0.222222     18\n",
      "professional.course  0.113485   5243\n",
      "university.degree    0.137245  12168\n",
      "unknown              0.145003   1731\n"
     ]
    },
    {
     "data": {
      "text/plain": [
       "Text(0, 0.5, 'Probability of success')"
      ]
     },
     "execution_count": 8,
     "metadata": {},
     "output_type": "execute_result"
    },
    {
     "data": {
      "image/png": "[encoded data removed]",
      "text/plain": [
       "<Figure size 432x288 with 1 Axes>"
      ]
     },
     "metadata": {
      "needs_background": "light"
     },
     "output_type": "display_data"
    }
   ],
   "source": [
    "print(df.groupby('education')['target'].agg(['mean','count']))\n",
    "ax = df.groupby('education')['target'].mean().plot(kind = 'bar')\n",
    "ax.set_xlabel(\"Education\")\n",
    "ax.set_ylabel(\"Probability of success\")"
   ]
  },
  {
   "cell_type": "markdown",
   "metadata": {},
   "source": [
    "It seems the clients with less time in the education system tend to be less prone to subscribe a depoisit."
   ]
  },
  {
   "cell_type": "code",
   "execution_count": 8,
   "metadata": {},
   "outputs": [
    {
     "name": "stdout",
     "output_type": "stream",
     "text": [
      "                     mean  count\n",
      "dummy_education                 \n",
      "0                0.131439  19142\n",
      "1                0.096344  22046\n"
     ]
    },
    {
     "data": {
      "text/plain": [
       "Text(0, 0.5, 'Probability of success')"
      ]
     },
     "execution_count": 8,
     "metadata": {},
     "output_type": "execute_result"
    },
    {
     "data": {
      "image/png": "[encoded data removed]",
      "text/plain": [
       "<Figure size 432x288 with 1 Axes>"
      ]
     },
     "metadata": {
      "needs_background": "light"
     },
     "output_type": "display_data"
    }
   ],
   "source": [
    "df['dummy_education'] = np.where(df['education'].isin(['basic.4y', 'basic.6y', 'basic.9y', 'high.school', 'illiterate']), 1, 0)\n",
    "\n",
    "\n",
    "print(df.groupby('dummy_education')['target'].agg(['mean','count']))\n",
    "ax = df.groupby('dummy_education')['target'].mean().plot(kind = 'bar')\n",
    "ax.set_xlabel(\"Dummy Education\")\n",
    "ax.set_ylabel(\"Probability of success\")"
   ]
  },
  {
   "cell_type": "code",
   "execution_count": 9,
   "metadata": {},
   "outputs": [
    {
     "name": "stdout",
     "output_type": "stream",
     "text": [
      "Optimization terminated successfully.\n",
      "         Current function value: 0.257185\n",
      "         Iterations 7\n",
      "                           Logit Regression Results                           \n",
      "==============================================================================\n",
      "Dep. Variable:                 target   No. Observations:                41188\n",
      "Model:                          Logit   Df Residuals:                    41182\n",
      "Method:                           MLE   Df Model:                            5\n",
      "Date:                Sat, 16 Nov 2019   Pseudo R-squ.:                  0.2694\n",
      "Time:                        10:42:15   Log-Likelihood:                -10593.\n",
      "converged:                       True   LL-Null:                       -14499.\n",
      "Covariance Type:            nonrobust   LLR p-value:                     0.000\n",
      "====================================================================================\n",
      "                       coef    std err          z      P>|z|      [0.025      0.975]\n",
      "------------------------------------------------------------------------------------\n",
      "const               -0.5041      0.094     -5.355      0.000      -0.689      -0.320\n",
      "age                  0.0089      0.002      5.347      0.000       0.006       0.012\n",
      "duration             0.0039   6.28e-05     62.657      0.000       0.004       0.004\n",
      "campaign_contact    -0.1178      0.011    -10.716      0.000      -0.139      -0.096\n",
      "previous_days       -0.0030   6.12e-05    -49.657      0.000      -0.003      -0.003\n",
      "dummy_education     -0.4247      0.037    -11.453      0.000      -0.497      -0.352\n",
      "====================================================================================\n"
     ]
    }
   ],
   "source": [
    "y = df['target']\n",
    "x = df[['age', 'duration',  'campaign_contact', 'previous_days', 'dummy_education']]\n",
    "x = sm.add_constant(x)\n",
    "model_3 = sm.Logit(y, x).fit()\n",
    "print(model_3.summary())\n",
    "pred_3 = model_3.predict(x)\n",
    "\n",
    "fpr_3, tpr_3, _ = roc_curve(df['target'], pred_3)\n",
    "auc_3 = auc(fpr_3, tpr_3)"
   ]
  },
  {
   "cell_type": "code",
   "execution_count": 10,
   "metadata": {},
   "outputs": [
    {
     "data": {
      "image/png": "[encoded data removed]",
      "text/plain": [
       "<Figure size 432x288 with 1 Axes>"
      ]
     },
     "metadata": {
      "needs_background": "light"
     },
     "output_type": "display_data"
    }
   ],
   "source": [
    "plt.plot(fpr_1, tpr_1)\n",
    "plt.plot(fpr_2, tpr_2)\n",
    "plt.plot(fpr_3, tpr_3)\n",
    "plt.plot([0,1], [0,1])\n",
    "plt.xlim([0,1])\n",
    "plt.ylim([0,1])\n",
    "plt.legend(['Model 1 AUC:' + str(round(auc_1, 3)),\n",
    "            'Model 2 AUC:' + str(round(auc_2, 3)),\n",
    "            'Model 3 AUC:' + str(round(auc_3, 3)),\n",
    "            'Random Baseline'], loc='lower right')\n",
    "plt.title('ROC Curve' )\n",
    "plt.xlabel('False Positive Rate FPR' )\n",
    "plt.ylabel('True Positive Rate TPR')\n",
    "plt.show() "
   ]
  },
  {
   "cell_type": "markdown",
   "metadata": {},
   "source": [
    "Can you repeat the procedure to create new dummy variables for the marital status and for contacts?\n",
    "\n",
    "What impact do these have in the ROC Curve and AUC metric?"
   ]
  },
  {
   "cell_type": "code",
   "execution_count": null,
   "metadata": {},
   "outputs": [],
   "source": []
  }
 ],
 "metadata": {
  "kernelspec": {
   "display_name": "Python 3",
   "language": "python",
   "name": "python3"
  },
  "language_info": {
   "codemirror_mode": {
    "name": "ipython",
    "version": 3
   },
   "file_extension": ".py",
   "mimetype": "text/x-python",
   "name": "python",
   "nbconvert_exporter": "python",
   "pygments_lexer": "ipython3",
   "version": "3.8.5"
  }
 },
 "nbformat": 4,
 "nbformat_minor": 2
}
