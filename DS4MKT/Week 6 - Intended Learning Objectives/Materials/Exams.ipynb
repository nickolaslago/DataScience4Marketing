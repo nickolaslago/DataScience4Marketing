{
 "cells": [
  {
   "cell_type": "code",
   "execution_count": 1,
   "metadata": {},
   "outputs": [],
   "source": [
    "import pandas as pd\n",
    "import matplotlib.pyplot as plt\n",
    "import numpy as np\n",
    "import seaborn as sns\n",
    "import statsmodels.api as sm"
   ]
  },
  {
   "cell_type": "markdown",
   "metadata": {},
   "source": [
    "## Classification Logistic Regression"
   ]
  },
  {
   "cell_type": "code",
   "execution_count": 2,
   "metadata": {},
   "outputs": [
    {
     "data": {
      "text/html": [
       "<div>\n",
       "<style scoped>\n",
       "    .dataframe tbody tr th:only-of-type {\n",
       "        vertical-align: middle;\n",
       "    }\n",
       "\n",
       "    .dataframe tbody tr th {\n",
       "        vertical-align: top;\n",
       "    }\n",
       "\n",
       "    .dataframe thead th {\n",
       "        text-align: right;\n",
       "    }\n",
       "</style>\n",
       "<table border=\"1\" class=\"dataframe\">\n",
       "  <thead>\n",
       "    <tr style=\"text-align: right;\">\n",
       "      <th></th>\n",
       "      <th>Exam1</th>\n",
       "      <th>Exam2</th>\n",
       "      <th>Accepted</th>\n",
       "    </tr>\n",
       "  </thead>\n",
       "  <tbody>\n",
       "    <tr>\n",
       "      <td>0</td>\n",
       "      <td>34.623660</td>\n",
       "      <td>78.024693</td>\n",
       "      <td>0</td>\n",
       "    </tr>\n",
       "    <tr>\n",
       "      <td>1</td>\n",
       "      <td>30.286711</td>\n",
       "      <td>43.894998</td>\n",
       "      <td>0</td>\n",
       "    </tr>\n",
       "    <tr>\n",
       "      <td>2</td>\n",
       "      <td>35.847409</td>\n",
       "      <td>72.902198</td>\n",
       "      <td>0</td>\n",
       "    </tr>\n",
       "    <tr>\n",
       "      <td>3</td>\n",
       "      <td>60.182599</td>\n",
       "      <td>86.308552</td>\n",
       "      <td>1</td>\n",
       "    </tr>\n",
       "    <tr>\n",
       "      <td>4</td>\n",
       "      <td>79.032736</td>\n",
       "      <td>75.344376</td>\n",
       "      <td>1</td>\n",
       "    </tr>\n",
       "  </tbody>\n",
       "</table>\n",
       "</div>"
      ],
      "text/plain": [
       "       Exam1      Exam2  Accepted\n",
       "0  34.623660  78.024693         0\n",
       "1  30.286711  43.894998         0\n",
       "2  35.847409  72.902198         0\n",
       "3  60.182599  86.308552         1\n",
       "4  79.032736  75.344376         1"
      ]
     },
     "execution_count": 2,
     "metadata": {},
     "output_type": "execute_result"
    }
   ],
   "source": [
    "# Get the data straight from the link.\n",
    "df = pd.read_csv('https://raw.githubusercontent.com/animesh-agarwal/Machine-Learning/master/LogisticRegression/data/marks.txt', header=None)\n",
    "df.columns = ['Exam1', 'Exam2', 'Accepted']\n",
    "df.head()"
   ]
  },
  {
   "cell_type": "code",
   "execution_count": 3,
   "metadata": {},
   "outputs": [
    {
     "data": {
      "text/html": [
       "<div>\n",
       "<style scoped>\n",
       "    .dataframe tbody tr th:only-of-type {\n",
       "        vertical-align: middle;\n",
       "    }\n",
       "\n",
       "    .dataframe tbody tr th {\n",
       "        vertical-align: top;\n",
       "    }\n",
       "\n",
       "    .dataframe thead th {\n",
       "        text-align: right;\n",
       "    }\n",
       "</style>\n",
       "<table border=\"1\" class=\"dataframe\">\n",
       "  <thead>\n",
       "    <tr style=\"text-align: right;\">\n",
       "      <th></th>\n",
       "      <th>Exam1</th>\n",
       "      <th>Exam2</th>\n",
       "      <th>Accepted</th>\n",
       "    </tr>\n",
       "  </thead>\n",
       "  <tbody>\n",
       "    <tr>\n",
       "      <td>count</td>\n",
       "      <td>100.000000</td>\n",
       "      <td>100.000000</td>\n",
       "      <td>100.000000</td>\n",
       "    </tr>\n",
       "    <tr>\n",
       "      <td>mean</td>\n",
       "      <td>65.644274</td>\n",
       "      <td>66.221998</td>\n",
       "      <td>0.600000</td>\n",
       "    </tr>\n",
       "    <tr>\n",
       "      <td>std</td>\n",
       "      <td>19.458222</td>\n",
       "      <td>18.582783</td>\n",
       "      <td>0.492366</td>\n",
       "    </tr>\n",
       "    <tr>\n",
       "      <td>min</td>\n",
       "      <td>30.058822</td>\n",
       "      <td>30.603263</td>\n",
       "      <td>0.000000</td>\n",
       "    </tr>\n",
       "    <tr>\n",
       "      <td>25%</td>\n",
       "      <td>50.919511</td>\n",
       "      <td>48.179205</td>\n",
       "      <td>0.000000</td>\n",
       "    </tr>\n",
       "    <tr>\n",
       "      <td>50%</td>\n",
       "      <td>67.032988</td>\n",
       "      <td>67.682381</td>\n",
       "      <td>1.000000</td>\n",
       "    </tr>\n",
       "    <tr>\n",
       "      <td>75%</td>\n",
       "      <td>80.212529</td>\n",
       "      <td>79.360605</td>\n",
       "      <td>1.000000</td>\n",
       "    </tr>\n",
       "    <tr>\n",
       "      <td>max</td>\n",
       "      <td>99.827858</td>\n",
       "      <td>98.869436</td>\n",
       "      <td>1.000000</td>\n",
       "    </tr>\n",
       "  </tbody>\n",
       "</table>\n",
       "</div>"
      ],
      "text/plain": [
       "            Exam1       Exam2    Accepted\n",
       "count  100.000000  100.000000  100.000000\n",
       "mean    65.644274   66.221998    0.600000\n",
       "std     19.458222   18.582783    0.492366\n",
       "min     30.058822   30.603263    0.000000\n",
       "25%     50.919511   48.179205    0.000000\n",
       "50%     67.032988   67.682381    1.000000\n",
       "75%     80.212529   79.360605    1.000000\n",
       "max     99.827858   98.869436    1.000000"
      ]
     },
     "execution_count": 3,
     "metadata": {},
     "output_type": "execute_result"
    }
   ],
   "source": [
    "df.describe()"
   ]
  },
  {
   "cell_type": "code",
   "execution_count": 4,
   "metadata": {},
   "outputs": [
    {
     "data": {
      "image/png": "[encoded data removed]",
      "text/plain": [
       "<Figure size 432x288 with 1 Axes>"
      ]
     },
     "metadata": {
      "needs_background": "light"
     },
     "output_type": "display_data"
    }
   ],
   "source": [
    "sns.scatterplot(x=df[\"Exam1\"], y=df[\"Exam2\"], hue=df[\"Accepted\"])\n",
    "plt.xlabel('Exam 1 Results')\n",
    "plt.ylabel('Exam 2 Results')\n",
    "plt.show()"
   ]
  },
  {
   "cell_type": "code",
   "execution_count": 5,
   "metadata": {},
   "outputs": [
    {
     "name": "stdout",
     "output_type": "stream",
     "text": [
      "Optimization terminated successfully.\n",
      "         Current function value: 0.203498\n",
      "         Iterations 9\n",
      "                           Logit Regression Results                           \n",
      "==============================================================================\n",
      "Dep. Variable:               Accepted   No. Observations:                  100\n",
      "Model:                          Logit   Df Residuals:                       97\n",
      "Method:                           MLE   Df Model:                            2\n",
      "Date:                Mon, 02 Dec 2019   Pseudo R-squ.:                  0.6976\n",
      "Time:                        17:25:22   Log-Likelihood:                -20.350\n",
      "converged:                       True   LL-Null:                       -67.301\n",
      "Covariance Type:            nonrobust   LLR p-value:                 4.067e-21\n",
      "==============================================================================\n",
      "                 coef    std err          z      P>|z|      [0.025      0.975]\n",
      "------------------------------------------------------------------------------\n",
      "const        -25.1613      5.799     -4.339      0.000     -36.526     -13.796\n",
      "Exam1          0.2062      0.048      4.296      0.000       0.112       0.300\n",
      "Exam2          0.2015      0.049      4.143      0.000       0.106       0.297\n",
      "==============================================================================\n"
     ]
    },
    {
     "name": "stderr",
     "output_type": "stream",
     "text": [
      "C:\\ProgramData\\Anaconda3\\lib\\site-packages\\numpy\\core\\fromnumeric.py:2389: FutureWarning: Method .ptp is deprecated and will be removed in a future version. Use numpy.ptp instead.\n",
      "  return ptp(axis=axis, out=out, **kwargs)\n"
     ]
    }
   ],
   "source": [
    "y = df['Accepted']\n",
    "x = df[['Exam1', 'Exam2']]\n",
    "x = sm.add_constant(x)\n",
    "model = sm.Logit(y, x).fit()\n",
    "print(model.summary())"
   ]
  },
  {
   "cell_type": "code",
   "execution_count": 7,
   "metadata": {},
   "outputs": [
    {
     "data": {
      "image/png": "[encoded data removed]",
      "text/plain": [
       "<Figure size 432x288 with 1 Axes>"
      ]
     },
     "metadata": {
      "needs_background": "light"
     },
     "output_type": "display_data"
    }
   ],
   "source": [
    "sns.scatterplot(x=df[\"exponent\"], y=df[\"Accepted\"], label='Actual data')\n",
    "plt.xlabel('Exponent')\n",
    "plt.ylabel('Accepted')\n",
    "plt.plot(xline, yline, 'r', label='Logistic Function')\n",
    "plt.show()"
   ]
  },
  {
   "cell_type": "code",
   "execution_count": 8,
   "metadata": {},
   "outputs": [],
   "source": [
    "pred = np.array(model.predict(x) > 0.5, dtype=float)\n",
    "actual = np.array(y)"
   ]
  },
  {
   "cell_type": "code",
   "execution_count": 9,
   "metadata": {},
   "outputs": [
    {
     "name": "stdout",
     "output_type": "stream",
     "text": [
      "True positives (Actual = 1 and predicted = 1):  55\n",
      "True negatives (Actual = 0 and predicted = 0):  34\n",
      "False positives (Actual = 0 and predicted = 1):  6\n",
      "False negatives (Actual = 1 and predicted = 0):  5\n"
     ]
    }
   ],
   "source": [
    "pred = np.array(model.predict(x) > 0.5, dtype=float)\n",
    "actual = np.array(y)\n",
    "\n",
    "tp = np.sum(np.logical_and(actual==1, pred==1))\n",
    "tn = np.sum(np.logical_and(actual==0, pred==0))\n",
    "fp = np.sum(np.logical_and(actual==0, pred==1))\n",
    "fn = np.sum(np.logical_and(actual==1, pred==0))\n",
    "\n",
    "print(\"True positives (Actual = 1 and predicted = 1): \", tp)\n",
    "print(\"True negatives (Actual = 0 and predicted = 0): \", tn)\n",
    "print(\"False positives (Actual = 0 and predicted = 1): \", fp)\n",
    "print(\"False negatives (Actual = 1 and predicted = 0): \", fn)"
   ]
  },
  {
   "cell_type": "code",
   "execution_count": 10,
   "metadata": {},
   "outputs": [
    {
     "name": "stdout",
     "output_type": "stream",
     "text": [
      "Accuracy (tp + tn)/(tp + tn + fn + fp):  0.89\n",
      "Precision tp/(tp + fp):  0.9016393442622951\n",
      "Sensitivity tp/(tp + fn):  0.9166666666666666\n"
     ]
    }
   ],
   "source": [
    "# Now calculate the accuracy, the precision and the sensitivity\n",
    "\n",
    "print(\"Accuracy (tp + tn)/(tp + tn + fn + fp): \", (tp + tn)/(tp + tn + fn + fp))\n",
    "print(\"Precision tp/(tp + fp): \", tp/(tp + fp))\n",
    "print(\"Sensitivity tp/(tp + fn): \", tp/(tp + fn))"
   ]
  },
  {
   "cell_type": "markdown",
   "metadata": {},
   "source": [
    "## Only using Exam1 as an independent variable"
   ]
  },
  {
   "cell_type": "code",
   "execution_count": 11,
   "metadata": {},
   "outputs": [
    {
     "name": "stdout",
     "output_type": "stream",
     "text": [
      "Optimization terminated successfully.\n",
      "         Current function value: 0.485011\n",
      "         Iterations 6\n",
      "                           Logit Regression Results                           \n",
      "==============================================================================\n",
      "Dep. Variable:               Accepted   No. Observations:                  100\n",
      "Model:                          Logit   Df Residuals:                       98\n",
      "Method:                           MLE   Df Model:                            1\n",
      "Date:                Mon, 02 Dec 2019   Pseudo R-squ.:                  0.2793\n",
      "Time:                        17:25:23   Log-Likelihood:                -48.501\n",
      "converged:                       True   LL-Null:                       -67.301\n",
      "Covariance Type:            nonrobust   LLR p-value:                 8.684e-10\n",
      "==============================================================================\n",
      "                 coef    std err          z      P>|z|      [0.025      0.975]\n",
      "------------------------------------------------------------------------------\n",
      "const         -4.7182      1.047     -4.506      0.000      -6.770      -2.666\n",
      "Exam1          0.0809      0.016      4.922      0.000       0.049       0.113\n",
      "==============================================================================\n"
     ]
    }
   ],
   "source": [
    "# Accepted probability as a logistic function of Exam1\n",
    "\n",
    "y = df['Accepted']\n",
    "x = df[['Exam1']]\n",
    "x = sm.add_constant(x)\n",
    "model = sm.Logit(y, x).fit()\n",
    "print(model.summary())"
   ]
  },
  {
   "cell_type": "code",
   "execution_count": 12,
   "metadata": {},
   "outputs": [
    {
     "name": "stdout",
     "output_type": "stream",
     "text": [
      "True positives (Actual = 1 and predicted = 1):  36\n",
      "True negatives (Actual = 0 and predicted = 0):  34\n",
      "False positives (Actual = 0 and predicted = 1):  6\n",
      "False negatives (Actual = 1 and predicted = 0):  24\n"
     ]
    }
   ],
   "source": [
    "pred = np.array(model.predict(x) > 0.75, dtype=float)\n",
    "actual = np.array(y)\n",
    "\n",
    "tp = np.sum(np.logical_and(actual==1, pred==1))\n",
    "tn = np.sum(np.logical_and(actual==0, pred==0))\n",
    "fp = np.sum(np.logical_and(actual==0, pred==1))\n",
    "fn = np.sum(np.logical_and(actual==1, pred==0))\n",
    "\n",
    "print(\"True positives (Actual = 1 and predicted = 1): \", tp)\n",
    "print(\"True negatives (Actual = 0 and predicted = 0): \", tn)\n",
    "print(\"False positives (Actual = 0 and predicted = 1): \", fp)\n",
    "print(\"False negatives (Actual = 1 and predicted = 0): \", fn)"
   ]
  },
  {
   "cell_type": "code",
   "execution_count": 13,
   "metadata": {},
   "outputs": [
    {
     "name": "stdout",
     "output_type": "stream",
     "text": [
      "Accuracy (tp + tn)/(tp + tn + fn + fp):  0.7\n",
      "Precision tp/(tp + fp):  0.8571428571428571\n",
      "Sensitivity tp/(tp + fn):  0.6\n"
     ]
    }
   ],
   "source": [
    "# Now calculate the accuracy, the precision and the sensitivity\n",
    "\n",
    "print(\"Accuracy (tp + tn)/(tp + tn + fn + fp): \", (tp + tn)/(tp + tn + fn + fp))\n",
    "print(\"Precision tp/(tp + fp): \", tp/(tp + fp))\n",
    "print(\"Sensitivity tp/(tp + fn): \", tp/(tp + fn))"
   ]
  },
  {
   "cell_type": "code",
   "execution_count": 14,
   "metadata": {},
   "outputs": [],
   "source": [
    "# How would the results change if the acceptance threshold is 0.75?\n",
    "\n"
   ]
  },
  {
   "cell_type": "code",
   "execution_count": 15,
   "metadata": {},
   "outputs": [],
   "source": [
    "df['exponent'] = -4.7182 + df['Exam1']*0.0809\n",
    "xline = np.linspace(-3, 3, 100)\n",
    "yline = 1/(1 + np.exp(-xline))"
   ]
  },
  {
   "cell_type": "code",
   "execution_count": 16,
   "metadata": {},
   "outputs": [
    {
     "data": {
      "image/png": "[encoded data removed]",
      "text/plain": [
       "<Figure size 432x288 with 1 Axes>"
      ]
     },
     "metadata": {
      "needs_background": "light"
     },
     "output_type": "display_data"
    }
   ],
   "source": [
    "sns.scatterplot(x=df[\"exponent\"], y=df[\"Accepted\"], label='Actual data')\n",
    "plt.xlabel('Exponent')\n",
    "plt.ylabel('Accepted')\n",
    "plt.plot(xline, yline, 'r', label='Logistic Function')\n",
    "plt.show()"
   ]
  },
  {
   "cell_type": "code",
   "execution_count": null,
   "metadata": {},
   "outputs": [],
   "source": []
  }
 ],
 "metadata": {
  "kernelspec": {
   "display_name": "Python 3",
   "language": "python",
   "name": "python3"
  },
  "language_info": {
   "codemirror_mode": {
    "name": "ipython",
    "version": 3
   },
   "file_extension": ".py",
   "mimetype": "text/x-python",
   "name": "python",
   "nbconvert_exporter": "python",
   "pygments_lexer": "ipython3",
   "version": "3.8.5"
  }
 },
 "nbformat": 4,
 "nbformat_minor": 2
}
