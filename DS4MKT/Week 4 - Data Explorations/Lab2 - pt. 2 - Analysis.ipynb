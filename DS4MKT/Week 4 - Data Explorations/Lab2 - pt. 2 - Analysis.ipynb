{
 "cells": [
  {
   "cell_type": "markdown",
   "metadata": {},
   "source": [
    "# Lab 2 (2|2)\n",
    "## Excel with Pandas"
   ]
  },
  {
   "cell_type": "code",
   "execution_count": 10,
   "metadata": {},
   "outputs": [],
   "source": [
    "import pandas as pd"
   ]
  },
  {
   "cell_type": "markdown",
   "metadata": {},
   "source": [
    "Import the dataset to a pandas DataFrame (the processed file)"
   ]
  },
  {
   "cell_type": "code",
   "execution_count": 11,
   "metadata": {},
   "outputs": [
    {
     "output_type": "execute_result",
     "data": {
      "text/plain": "   Unnamed: 0                                     title release_date  runtime  \\\n0           0                                    Avatar   2009-12-10      162   \n1           1  Pirates of the Caribbean: At World&#39;s End   2007-05-19      169   \n2           2                                   Spectre   2015-10-26      148   \n3           3                     The Dark Knight Rises   2012-07-16      165   \n4           4                               John Carter   2012-03-07      132   \n\n   vote_count  vote_average  budget      revenue       profit rating_category  \n0       11800           7.2   237.0  2787.965087  2550.965087            Good  \n1        4500           6.9   300.0   961.000000   661.000000         Average  \n2        4466           6.3   245.0   880.674609   635.674609         Average  \n3        9106           7.6   250.0  1084.939099   834.939099            Good  \n4        2124           6.1   260.0   284.139100    24.139100         Average  ",
      "text/html": "<div>\n<style scoped>\n    .dataframe tbody tr th:only-of-type {\n        vertical-align: middle;\n    }\n\n    .dataframe tbody tr th {\n        vertical-align: top;\n    }\n\n    .dataframe thead th {\n        text-align: right;\n    }\n</style>\n<table border=\"1\" class=\"dataframe\">\n  <thead>\n    <tr style=\"text-align: right;\">\n      <th></th>\n      <th>Unnamed: 0</th>\n      <th>title</th>\n      <th>release_date</th>\n      <th>runtime</th>\n      <th>vote_count</th>\n      <th>vote_average</th>\n      <th>budget</th>\n      <th>revenue</th>\n      <th>profit</th>\n      <th>rating_category</th>\n    </tr>\n  </thead>\n  <tbody>\n    <tr>\n      <th>0</th>\n      <td>0</td>\n      <td>Avatar</td>\n      <td>2009-12-10</td>\n      <td>162</td>\n      <td>11800</td>\n      <td>7.2</td>\n      <td>237.0</td>\n      <td>2787.965087</td>\n      <td>2550.965087</td>\n      <td>Good</td>\n    </tr>\n    <tr>\n      <th>1</th>\n      <td>1</td>\n      <td>Pirates of the Caribbean: At World's End</td>\n      <td>2007-05-19</td>\n      <td>169</td>\n      <td>4500</td>\n      <td>6.9</td>\n      <td>300.0</td>\n      <td>961.000000</td>\n      <td>661.000000</td>\n      <td>Average</td>\n    </tr>\n    <tr>\n      <th>2</th>\n      <td>2</td>\n      <td>Spectre</td>\n      <td>2015-10-26</td>\n      <td>148</td>\n      <td>4466</td>\n      <td>6.3</td>\n      <td>245.0</td>\n      <td>880.674609</td>\n      <td>635.674609</td>\n      <td>Average</td>\n    </tr>\n    <tr>\n      <th>3</th>\n      <td>3</td>\n      <td>The Dark Knight Rises</td>\n      <td>2012-07-16</td>\n      <td>165</td>\n      <td>9106</td>\n      <td>7.6</td>\n      <td>250.0</td>\n      <td>1084.939099</td>\n      <td>834.939099</td>\n      <td>Good</td>\n    </tr>\n    <tr>\n      <th>4</th>\n      <td>4</td>\n      <td>John Carter</td>\n      <td>2012-03-07</td>\n      <td>132</td>\n      <td>2124</td>\n      <td>6.1</td>\n      <td>260.0</td>\n      <td>284.139100</td>\n      <td>24.139100</td>\n      <td>Average</td>\n    </tr>\n  </tbody>\n</table>\n</div>"
     },
     "metadata": {},
     "execution_count": 11
    }
   ],
   "source": [
    "movies = pd.read_csv('movies_processed.csv')\n",
    "movies.head()"
   ]
  },
  {
   "cell_type": "markdown",
   "metadata": {},
   "source": [
    "1. Which were the top 5 most successful movies in terms of profit? What is the average rating of these movies?"
   ]
  },
  {
   "cell_type": "code",
   "execution_count": 12,
   "metadata": {},
   "outputs": [
    {
     "output_type": "execute_result",
     "data": {
      "text/plain": "    Unnamed: 0           title release_date  runtime  vote_count  \\\n0            0          Avatar   2009-12-10      162       11800   \n25          25         Titanic   1997-11-18      194        7562   \n28          28  Jurassic World   2015-06-09      124        8662   \n44          44       Furious 7   2015-04-01      137        4176   \n16          16    The Avengers   2012-04-25      143       11776   \n\n    vote_average  budget      revenue       profit rating_category  \n0            7.2   237.0  2787.965087  2550.965087            Good  \n25           7.5   200.0  1845.034188  1645.034188            Good  \n28           6.5   150.0  1513.528810  1363.528810         Average  \n44           7.3   190.0  1506.249360  1316.249360            Good  \n16           7.4   220.0  1519.557910  1299.557910            Good  ",
      "text/html": "<div>\n<style scoped>\n    .dataframe tbody tr th:only-of-type {\n        vertical-align: middle;\n    }\n\n    .dataframe tbody tr th {\n        vertical-align: top;\n    }\n\n    .dataframe thead th {\n        text-align: right;\n    }\n</style>\n<table border=\"1\" class=\"dataframe\">\n  <thead>\n    <tr style=\"text-align: right;\">\n      <th></th>\n      <th>Unnamed: 0</th>\n      <th>title</th>\n      <th>release_date</th>\n      <th>runtime</th>\n      <th>vote_count</th>\n      <th>vote_average</th>\n      <th>budget</th>\n      <th>revenue</th>\n      <th>profit</th>\n      <th>rating_category</th>\n    </tr>\n  </thead>\n  <tbody>\n    <tr>\n      <th>0</th>\n      <td>0</td>\n      <td>Avatar</td>\n      <td>2009-12-10</td>\n      <td>162</td>\n      <td>11800</td>\n      <td>7.2</td>\n      <td>237.0</td>\n      <td>2787.965087</td>\n      <td>2550.965087</td>\n      <td>Good</td>\n    </tr>\n    <tr>\n      <th>25</th>\n      <td>25</td>\n      <td>Titanic</td>\n      <td>1997-11-18</td>\n      <td>194</td>\n      <td>7562</td>\n      <td>7.5</td>\n      <td>200.0</td>\n      <td>1845.034188</td>\n      <td>1645.034188</td>\n      <td>Good</td>\n    </tr>\n    <tr>\n      <th>28</th>\n      <td>28</td>\n      <td>Jurassic World</td>\n      <td>2015-06-09</td>\n      <td>124</td>\n      <td>8662</td>\n      <td>6.5</td>\n      <td>150.0</td>\n      <td>1513.528810</td>\n      <td>1363.528810</td>\n      <td>Average</td>\n    </tr>\n    <tr>\n      <th>44</th>\n      <td>44</td>\n      <td>Furious 7</td>\n      <td>2015-04-01</td>\n      <td>137</td>\n      <td>4176</td>\n      <td>7.3</td>\n      <td>190.0</td>\n      <td>1506.249360</td>\n      <td>1316.249360</td>\n      <td>Good</td>\n    </tr>\n    <tr>\n      <th>16</th>\n      <td>16</td>\n      <td>The Avengers</td>\n      <td>2012-04-25</td>\n      <td>143</td>\n      <td>11776</td>\n      <td>7.4</td>\n      <td>220.0</td>\n      <td>1519.557910</td>\n      <td>1299.557910</td>\n      <td>Good</td>\n    </tr>\n  </tbody>\n</table>\n</div>"
     },
     "metadata": {},
     "execution_count": 12
    }
   ],
   "source": [
    "most_profit = movies.sort_values(by='profit',ascending=False).head(5)\n",
    "most_profit"
   ]
  },
  {
   "cell_type": "code",
   "execution_count": 13,
   "metadata": {},
   "outputs": [
    {
     "output_type": "execute_result",
     "data": {
      "text/plain": "7.18"
     },
     "metadata": {},
     "execution_count": 13
    }
   ],
   "source": [
    "most_profit['vote_average'].mean()"
   ]
  },
  {
   "cell_type": "markdown",
   "metadata": {},
   "source": [
    "2. Which were the top 5 biggest flop movies (the worst) in terms of profit? What is the average rating of these movies?"
   ]
  },
  {
   "cell_type": "code",
   "execution_count": 15,
   "metadata": {},
   "outputs": [
    {
     "output_type": "execute_result",
     "data": {
      "text/plain": "      Unnamed: 0                 title release_date  runtime  vote_count  \\\n13            13       The Lone Ranger   2013-07-03      149        2311   \n135          135           The Wolfman   2010-02-11      102         549   \n338          338             The Alamo   2004-04-07      137         106   \n141          141       Mars Needs Moms   2011-03-09       88         199   \n1652        1652  Dragonball Evolution   2009-04-01       85         462   \n\n      vote_average  budget    revenue      profit rating_category  \n13             5.9   255.0  89.289910 -165.710090         Average  \n135            5.5   150.0   0.000000 -150.000000         Average  \n338            5.8   145.0  25.819961 -119.180039         Average  \n141            5.5   150.0  38.992758 -111.007242         Average  \n1652           2.9   100.0   0.000000 -100.000000           Awful  ",
      "text/html": "<div>\n<style scoped>\n    .dataframe tbody tr th:only-of-type {\n        vertical-align: middle;\n    }\n\n    .dataframe tbody tr th {\n        vertical-align: top;\n    }\n\n    .dataframe thead th {\n        text-align: right;\n    }\n</style>\n<table border=\"1\" class=\"dataframe\">\n  <thead>\n    <tr style=\"text-align: right;\">\n      <th></th>\n      <th>Unnamed: 0</th>\n      <th>title</th>\n      <th>release_date</th>\n      <th>runtime</th>\n      <th>vote_count</th>\n      <th>vote_average</th>\n      <th>budget</th>\n      <th>revenue</th>\n      <th>profit</th>\n      <th>rating_category</th>\n    </tr>\n  </thead>\n  <tbody>\n    <tr>\n      <th>13</th>\n      <td>13</td>\n      <td>The Lone Ranger</td>\n      <td>2013-07-03</td>\n      <td>149</td>\n      <td>2311</td>\n      <td>5.9</td>\n      <td>255.0</td>\n      <td>89.289910</td>\n      <td>-165.710090</td>\n      <td>Average</td>\n    </tr>\n    <tr>\n      <th>135</th>\n      <td>135</td>\n      <td>The Wolfman</td>\n      <td>2010-02-11</td>\n      <td>102</td>\n      <td>549</td>\n      <td>5.5</td>\n      <td>150.0</td>\n      <td>0.000000</td>\n      <td>-150.000000</td>\n      <td>Average</td>\n    </tr>\n    <tr>\n      <th>338</th>\n      <td>338</td>\n      <td>The Alamo</td>\n      <td>2004-04-07</td>\n      <td>137</td>\n      <td>106</td>\n      <td>5.8</td>\n      <td>145.0</td>\n      <td>25.819961</td>\n      <td>-119.180039</td>\n      <td>Average</td>\n    </tr>\n    <tr>\n      <th>141</th>\n      <td>141</td>\n      <td>Mars Needs Moms</td>\n      <td>2011-03-09</td>\n      <td>88</td>\n      <td>199</td>\n      <td>5.5</td>\n      <td>150.0</td>\n      <td>38.992758</td>\n      <td>-111.007242</td>\n      <td>Average</td>\n    </tr>\n    <tr>\n      <th>1652</th>\n      <td>1652</td>\n      <td>Dragonball Evolution</td>\n      <td>2009-04-01</td>\n      <td>85</td>\n      <td>462</td>\n      <td>2.9</td>\n      <td>100.0</td>\n      <td>0.000000</td>\n      <td>-100.000000</td>\n      <td>Awful</td>\n    </tr>\n  </tbody>\n</table>\n</div>"
     },
     "metadata": {},
     "execution_count": 15
    }
   ],
   "source": [
    "last_profit = movies.sort_values(by='profit',ascending=True).head(5)\n",
    "last_profit"
   ]
  },
  {
   "cell_type": "code",
   "execution_count": 16,
   "metadata": {},
   "outputs": [
    {
     "output_type": "execute_result",
     "data": {
      "text/plain": "5.119999999999999"
     },
     "metadata": {},
     "execution_count": 16
    }
   ],
   "source": [
    "last_profit['vote_average'].mean()"
   ]
  },
  {
   "cell_type": "markdown",
   "metadata": {},
   "source": [
    "3. How many movies in our dataset are Awful, Poor, Average, Good and Excellent?"
   ]
  },
  {
   "cell_type": "code",
   "execution_count": 17,
   "metadata": {},
   "outputs": [
    {
     "output_type": "execute_result",
     "data": {
      "text/plain": "Average      3284\nGood          981\nPoor          438\nAwful          86\nExcellent       5\nName: rating_category, dtype: int64"
     },
     "metadata": {},
     "execution_count": 17
    }
   ],
   "source": [
    "movies['rating_category'].value_counts()"
   ]
  },
  {
   "cell_type": "code",
   "execution_count": null,
   "metadata": {},
   "outputs": [],
   "source": []
  },
  {
   "cell_type": "markdown",
   "metadata": {},
   "source": [
    "4. Create a DataFrame called `movies_above_average` which represents movies with a rating higher or equal than the global average rating and have at least 100 votes"
   ]
  },
  {
   "cell_type": "code",
   "execution_count": 20,
   "metadata": {},
   "outputs": [],
   "source": [
    "movies_above_average = movies[(movies['vote_average'] >= movies['vote_average'].mean()) & (movies['vote_count'] >= 100)]"
   ]
  },
  {
   "cell_type": "code",
   "execution_count": 21,
   "metadata": {},
   "outputs": [
    {
     "output_type": "execute_result",
     "data": {
      "text/plain": "      Unnamed: 0                                     title release_date  \\\n0              0                                    Avatar   2009-12-10   \n1              1  Pirates of the Caribbean: At World&#39;s End   2007-05-19   \n2              2                                   Spectre   2015-10-26   \n3              3                     The Dark Knight Rises   2012-07-16   \n4              4                               John Carter   2012-03-07   \n...          ...                                       ...          ...   \n4734        4742                             Super Size Me   2004-01-17   \n4764        4773                                    Clerks   1994-09-13   \n4779        4788                            Pink Flamingos   1972-03-12   \n4787        4796                                    Primer   2004-10-08   \n4789        4798                               El Mariachi   1992-09-04   \n\n      runtime  vote_count  vote_average   budget      revenue       profit  \\\n0         162       11800           7.2  237.000  2787.965087  2550.965087   \n1         169        4500           6.9  300.000   961.000000   661.000000   \n2         148        4466           6.3  245.000   880.674609   635.674609   \n3         165        9106           7.6  250.000  1084.939099   834.939099   \n4         132        2124           6.1  260.000   284.139100    24.139100   \n...       ...         ...           ...      ...          ...          ...   \n4734      100         506           6.6    0.065    28.575078    28.510078   \n4764       92         755           7.4    0.027     3.151130     3.124130   \n4779       93         110           6.2    0.012     6.000000     5.988000   \n4787       77         658           6.9    0.007     0.424760     0.417760   \n4789       81         238           6.6    0.220     2.040920     1.820920   \n\n     rating_category  \n0               Good  \n1            Average  \n2            Average  \n3               Good  \n4            Average  \n...              ...  \n4734         Average  \n4764            Good  \n4779         Average  \n4787         Average  \n4789         Average  \n\n[2043 rows x 10 columns]",
      "text/html": "<div>\n<style scoped>\n    .dataframe tbody tr th:only-of-type {\n        vertical-align: middle;\n    }\n\n    .dataframe tbody tr th {\n        vertical-align: top;\n    }\n\n    .dataframe thead th {\n        text-align: right;\n    }\n</style>\n<table border=\"1\" class=\"dataframe\">\n  <thead>\n    <tr style=\"text-align: right;\">\n      <th></th>\n      <th>Unnamed: 0</th>\n      <th>title</th>\n      <th>release_date</th>\n      <th>runtime</th>\n      <th>vote_count</th>\n      <th>vote_average</th>\n      <th>budget</th>\n      <th>revenue</th>\n      <th>profit</th>\n      <th>rating_category</th>\n    </tr>\n  </thead>\n  <tbody>\n    <tr>\n      <th>0</th>\n      <td>0</td>\n      <td>Avatar</td>\n      <td>2009-12-10</td>\n      <td>162</td>\n      <td>11800</td>\n      <td>7.2</td>\n      <td>237.000</td>\n      <td>2787.965087</td>\n      <td>2550.965087</td>\n      <td>Good</td>\n    </tr>\n    <tr>\n      <th>1</th>\n      <td>1</td>\n      <td>Pirates of the Caribbean: At World's End</td>\n      <td>2007-05-19</td>\n      <td>169</td>\n      <td>4500</td>\n      <td>6.9</td>\n      <td>300.000</td>\n      <td>961.000000</td>\n      <td>661.000000</td>\n      <td>Average</td>\n    </tr>\n    <tr>\n      <th>2</th>\n      <td>2</td>\n      <td>Spectre</td>\n      <td>2015-10-26</td>\n      <td>148</td>\n      <td>4466</td>\n      <td>6.3</td>\n      <td>245.000</td>\n      <td>880.674609</td>\n      <td>635.674609</td>\n      <td>Average</td>\n    </tr>\n    <tr>\n      <th>3</th>\n      <td>3</td>\n      <td>The Dark Knight Rises</td>\n      <td>2012-07-16</td>\n      <td>165</td>\n      <td>9106</td>\n      <td>7.6</td>\n      <td>250.000</td>\n      <td>1084.939099</td>\n      <td>834.939099</td>\n      <td>Good</td>\n    </tr>\n    <tr>\n      <th>4</th>\n      <td>4</td>\n      <td>John Carter</td>\n      <td>2012-03-07</td>\n      <td>132</td>\n      <td>2124</td>\n      <td>6.1</td>\n      <td>260.000</td>\n      <td>284.139100</td>\n      <td>24.139100</td>\n      <td>Average</td>\n    </tr>\n    <tr>\n      <th>...</th>\n      <td>...</td>\n      <td>...</td>\n      <td>...</td>\n      <td>...</td>\n      <td>...</td>\n      <td>...</td>\n      <td>...</td>\n      <td>...</td>\n      <td>...</td>\n      <td>...</td>\n    </tr>\n    <tr>\n      <th>4734</th>\n      <td>4742</td>\n      <td>Super Size Me</td>\n      <td>2004-01-17</td>\n      <td>100</td>\n      <td>506</td>\n      <td>6.6</td>\n      <td>0.065</td>\n      <td>28.575078</td>\n      <td>28.510078</td>\n      <td>Average</td>\n    </tr>\n    <tr>\n      <th>4764</th>\n      <td>4773</td>\n      <td>Clerks</td>\n      <td>1994-09-13</td>\n      <td>92</td>\n      <td>755</td>\n      <td>7.4</td>\n      <td>0.027</td>\n      <td>3.151130</td>\n      <td>3.124130</td>\n      <td>Good</td>\n    </tr>\n    <tr>\n      <th>4779</th>\n      <td>4788</td>\n      <td>Pink Flamingos</td>\n      <td>1972-03-12</td>\n      <td>93</td>\n      <td>110</td>\n      <td>6.2</td>\n      <td>0.012</td>\n      <td>6.000000</td>\n      <td>5.988000</td>\n      <td>Average</td>\n    </tr>\n    <tr>\n      <th>4787</th>\n      <td>4796</td>\n      <td>Primer</td>\n      <td>2004-10-08</td>\n      <td>77</td>\n      <td>658</td>\n      <td>6.9</td>\n      <td>0.007</td>\n      <td>0.424760</td>\n      <td>0.417760</td>\n      <td>Average</td>\n    </tr>\n    <tr>\n      <th>4789</th>\n      <td>4798</td>\n      <td>El Mariachi</td>\n      <td>1992-09-04</td>\n      <td>81</td>\n      <td>238</td>\n      <td>6.6</td>\n      <td>0.220</td>\n      <td>2.040920</td>\n      <td>1.820920</td>\n      <td>Average</td>\n    </tr>\n  </tbody>\n</table>\n<p>2043 rows × 10 columns</p>\n</div>"
     },
     "metadata": {},
     "execution_count": 21
    }
   ],
   "source": [
    "movies_above_average"
   ]
  },
  {
   "cell_type": "markdown",
   "metadata": {},
   "source": [
    "# Looking for the trilogy"
   ]
  },
  {
   "cell_type": "markdown",
   "metadata": {},
   "source": [
    "5. Let's try to find the Matrix trilogy movies. Search the dataset for movies whose title contains \"The Matrix\". The resulting DataFrame should have 3 rows."
   ]
  },
  {
   "cell_type": "code",
   "execution_count": 22,
   "metadata": {},
   "outputs": [
    {
     "output_type": "execute_result",
     "data": {
      "text/plain": "     Unnamed: 0                   title release_date  runtime  vote_count  \\\n123         123  The Matrix Revolutions   2003-11-05      129        3096   \n125         125     The Matrix Reloaded   2003-05-15      138        3443   \n634         634              The Matrix   1999-03-30      136        8907   \n\n     vote_average  budget     revenue      profit rating_category  \n123           6.4   150.0  424.988211  274.988211         Average  \n125           6.7   150.0  738.599701  588.599701         Average  \n634           7.9    63.0  463.517383  400.517383            Good  ",
      "text/html": "<div>\n<style scoped>\n    .dataframe tbody tr th:only-of-type {\n        vertical-align: middle;\n    }\n\n    .dataframe tbody tr th {\n        vertical-align: top;\n    }\n\n    .dataframe thead th {\n        text-align: right;\n    }\n</style>\n<table border=\"1\" class=\"dataframe\">\n  <thead>\n    <tr style=\"text-align: right;\">\n      <th></th>\n      <th>Unnamed: 0</th>\n      <th>title</th>\n      <th>release_date</th>\n      <th>runtime</th>\n      <th>vote_count</th>\n      <th>vote_average</th>\n      <th>budget</th>\n      <th>revenue</th>\n      <th>profit</th>\n      <th>rating_category</th>\n    </tr>\n  </thead>\n  <tbody>\n    <tr>\n      <th>123</th>\n      <td>123</td>\n      <td>The Matrix Revolutions</td>\n      <td>2003-11-05</td>\n      <td>129</td>\n      <td>3096</td>\n      <td>6.4</td>\n      <td>150.0</td>\n      <td>424.988211</td>\n      <td>274.988211</td>\n      <td>Average</td>\n    </tr>\n    <tr>\n      <th>125</th>\n      <td>125</td>\n      <td>The Matrix Reloaded</td>\n      <td>2003-05-15</td>\n      <td>138</td>\n      <td>3443</td>\n      <td>6.7</td>\n      <td>150.0</td>\n      <td>738.599701</td>\n      <td>588.599701</td>\n      <td>Average</td>\n    </tr>\n    <tr>\n      <th>634</th>\n      <td>634</td>\n      <td>The Matrix</td>\n      <td>1999-03-30</td>\n      <td>136</td>\n      <td>8907</td>\n      <td>7.9</td>\n      <td>63.0</td>\n      <td>463.517383</td>\n      <td>400.517383</td>\n      <td>Good</td>\n    </tr>\n  </tbody>\n</table>\n</div>"
     },
     "metadata": {},
     "execution_count": 22
    }
   ],
   "source": [
    "movies[movies['title'].str.contains('Matrix')]"
   ]
  },
  {
   "cell_type": "markdown",
   "metadata": {},
   "source": [
    "6. Order the trilogy by release date. The first result should be the oldest (the first movie)."
   ]
  },
  {
   "cell_type": "code",
   "execution_count": 25,
   "metadata": {},
   "outputs": [
    {
     "output_type": "execute_result",
     "data": {
      "text/plain": "     Unnamed: 0                   title release_date  runtime  vote_count  \\\n634         634              The Matrix   1999-03-30      136        8907   \n125         125     The Matrix Reloaded   2003-05-15      138        3443   \n123         123  The Matrix Revolutions   2003-11-05      129        3096   \n\n     vote_average  budget     revenue      profit rating_category  \n634           7.9    63.0  463.517383  400.517383            Good  \n125           6.7   150.0  738.599701  588.599701         Average  \n123           6.4   150.0  424.988211  274.988211         Average  ",
      "text/html": "<div>\n<style scoped>\n    .dataframe tbody tr th:only-of-type {\n        vertical-align: middle;\n    }\n\n    .dataframe tbody tr th {\n        vertical-align: top;\n    }\n\n    .dataframe thead th {\n        text-align: right;\n    }\n</style>\n<table border=\"1\" class=\"dataframe\">\n  <thead>\n    <tr style=\"text-align: right;\">\n      <th></th>\n      <th>Unnamed: 0</th>\n      <th>title</th>\n      <th>release_date</th>\n      <th>runtime</th>\n      <th>vote_count</th>\n      <th>vote_average</th>\n      <th>budget</th>\n      <th>revenue</th>\n      <th>profit</th>\n      <th>rating_category</th>\n    </tr>\n  </thead>\n  <tbody>\n    <tr>\n      <th>634</th>\n      <td>634</td>\n      <td>The Matrix</td>\n      <td>1999-03-30</td>\n      <td>136</td>\n      <td>8907</td>\n      <td>7.9</td>\n      <td>63.0</td>\n      <td>463.517383</td>\n      <td>400.517383</td>\n      <td>Good</td>\n    </tr>\n    <tr>\n      <th>125</th>\n      <td>125</td>\n      <td>The Matrix Reloaded</td>\n      <td>2003-05-15</td>\n      <td>138</td>\n      <td>3443</td>\n      <td>6.7</td>\n      <td>150.0</td>\n      <td>738.599701</td>\n      <td>588.599701</td>\n      <td>Average</td>\n    </tr>\n    <tr>\n      <th>123</th>\n      <td>123</td>\n      <td>The Matrix Revolutions</td>\n      <td>2003-11-05</td>\n      <td>129</td>\n      <td>3096</td>\n      <td>6.4</td>\n      <td>150.0</td>\n      <td>424.988211</td>\n      <td>274.988211</td>\n      <td>Average</td>\n    </tr>\n  </tbody>\n</table>\n</div>"
     },
     "metadata": {},
     "execution_count": 25
    }
   ],
   "source": [
    "matrix_movies = movies[movies['title'].str.contains('Matrix')].sort_values(by='release_date', ascending=True)\n",
    "matrix_movies"
   ]
  },
  {
   "cell_type": "markdown",
   "metadata": {},
   "source": [
    "7. Fill in the code to answer the following questions:\n",
    "    * How much money did the all franchise make? How much did it cost? What was the total profit?\n",
    "    * Which was the best movie (in terms of Rating) \n",
    "    * Using a barplot, plot the Ratings of each movie\n",
    "    * When did the first movie came out? And the last one? How many years inbetween?"
   ]
  },
  {
   "cell_type": "code",
   "execution_count": 26,
   "metadata": {},
   "outputs": [
    {
     "output_type": "execute_result",
     "data": {
      "text/plain": "363.0"
     },
     "metadata": {},
     "execution_count": 26
    }
   ],
   "source": [
    "matrix_movies['budget'].sum()"
   ]
  },
  {
   "cell_type": "code",
   "execution_count": 27,
   "metadata": {},
   "outputs": [
    {
     "output_type": "execute_result",
     "data": {
      "text/plain": "1627.105295"
     },
     "metadata": {},
     "execution_count": 27
    }
   ],
   "source": [
    "matrix_movies['revenue'].sum()"
   ]
  },
  {
   "cell_type": "code",
   "execution_count": 28,
   "metadata": {},
   "outputs": [
    {
     "output_type": "execute_result",
     "data": {
      "text/plain": "1264.1052949999998"
     },
     "metadata": {},
     "execution_count": 28
    }
   ],
   "source": [
    "matrix_movies['profit'].sum()"
   ]
  },
  {
   "cell_type": "code",
   "execution_count": 29,
   "metadata": {},
   "outputs": [
    {
     "output_type": "execute_result",
     "data": {
      "text/plain": "budget      363.000000\nrevenue    1627.105295\nprofit     1264.105295\ndtype: float64"
     },
     "metadata": {},
     "execution_count": 29
    }
   ],
   "source": [
    "matrix_movies[['budget','revenue','profit']].sum()"
   ]
  },
  {
   "cell_type": "code",
   "execution_count": 32,
   "metadata": {},
   "outputs": [
    {
     "output_type": "execute_result",
     "data": {
      "text/plain": "     Unnamed: 0       title release_date  runtime  vote_count  vote_average  \\\n634         634  The Matrix   1999-03-30      136        8907           7.9   \n\n     budget     revenue      profit rating_category  \n634    63.0  463.517383  400.517383            Good  ",
      "text/html": "<div>\n<style scoped>\n    .dataframe tbody tr th:only-of-type {\n        vertical-align: middle;\n    }\n\n    .dataframe tbody tr th {\n        vertical-align: top;\n    }\n\n    .dataframe thead th {\n        text-align: right;\n    }\n</style>\n<table border=\"1\" class=\"dataframe\">\n  <thead>\n    <tr style=\"text-align: right;\">\n      <th></th>\n      <th>Unnamed: 0</th>\n      <th>title</th>\n      <th>release_date</th>\n      <th>runtime</th>\n      <th>vote_count</th>\n      <th>vote_average</th>\n      <th>budget</th>\n      <th>revenue</th>\n      <th>profit</th>\n      <th>rating_category</th>\n    </tr>\n  </thead>\n  <tbody>\n    <tr>\n      <th>634</th>\n      <td>634</td>\n      <td>The Matrix</td>\n      <td>1999-03-30</td>\n      <td>136</td>\n      <td>8907</td>\n      <td>7.9</td>\n      <td>63.0</td>\n      <td>463.517383</td>\n      <td>400.517383</td>\n      <td>Good</td>\n    </tr>\n  </tbody>\n</table>\n</div>"
     },
     "metadata": {},
     "execution_count": 32
    }
   ],
   "source": [
    "matrix_movies[matrix_movies['vote_average'] == matrix_movies['vote_average'].max()]"
   ]
  },
  {
   "cell_type": "code",
   "execution_count": 34,
   "metadata": {},
   "outputs": [
    {
     "output_type": "execute_result",
     "data": {
      "text/plain": "&lt;matplotlib.axes._subplots.AxesSubplot at 0x7fda067c6210&gt;"
     },
     "metadata": {},
     "execution_count": 34
    },
    {
     "output_type": "display_data",
     "data": {
      "text/plain": "&lt;Figure size 432x288 with 1 Axes&gt;",
      "image/svg+xml": "<?xml version=\"1.0\" encoding=\"utf-8\" standalone=\"no\"?>\n<!DOCTYPE svg PUBLIC \"-//W3C//DTD SVG 1.1//EN\"\n  \"http://www.w3.org/Graphics/SVG/1.1/DTD/svg11.dtd\">\n<!-- Created with matplotlib (https://matplotlib.org/) -->\n<svg height=\"367.569687pt\" version=\"1.1\" viewBox=\"0 0 362.5625 367.569687\" width=\"362.5625pt\" xmlns=\"http://www.w3.org/2000/svg\" xmlns:xlink=\"http://www.w3.org/1999/xlink\">\n <defs>\n  <style type=\"text/css\">\n*{stroke-linecap:butt;stroke-linejoin:round;}\n  </style>\n </defs>\n <g id=\"figure_1\">\n  <g id=\"patch_1\">\n   <path d=\"M 0 367.569687 \nL 362.5625 367.569687 \nL 362.5625 0 \nL 0 0 \nz\n\" style=\"fill:none;\"/>\n  </g>\n  <g id=\"axes_1\">\n   <g id=\"patch_2\">\n    <path d=\"M 20.5625 224.64 \nL 355.3625 224.64 \nL 355.3625 7.2 \nL 20.5625 7.2 \nz\n\" style=\"fill:#ffffff;\"/>\n   </g>\n   <g id=\"patch_3\">\n    <path clip-path=\"url(#p39b037b55f)\" d=\"M 48.4625 224.64 \nL 104.2625 224.64 \nL 104.2625 17.554286 \nL 48.4625 17.554286 \nz\n\" style=\"fill:#1f77b4;\"/>\n   </g>\n   <g id=\"patch_4\">\n    <path clip-path=\"url(#p39b037b55f)\" d=\"M 160.0625 224.64 \nL 215.8625 224.64 \nL 215.8625 49.010344 \nL 160.0625 49.010344 \nz\n\" style=\"fill:#1f77b4;\"/>\n   </g>\n   <g id=\"patch_5\">\n    <path clip-path=\"url(#p39b037b55f)\" d=\"M 271.6625 224.64 \nL 327.4625 224.64 \nL 327.4625 56.874358 \nL 271.6625 56.874358 \nz\n\" style=\"fill:#1f77b4;\"/>\n   </g>\n   <g id=\"matplotlib.axis_1\">\n    <g id=\"xtick_1\">\n     <g id=\"line2d_1\">\n      <defs>\n       <path d=\"M 0 0 \nL 0 3.5 \n\" id=\"m14d5285880\" style=\"stroke:#000000;stroke-width:0.8;\"/>\n      </defs>\n      <g>\n       <use style=\"stroke:#000000;stroke-width:0.8;\" x=\"76.3625\" xlink:href=\"#m14d5285880\" y=\"224.64\"/>\n      </g>\n     </g>\n     <g id=\"text_1\">\n      <!-- The Matrix -->\n      <defs>\n       <path d=\"M -0.296875 72.90625 \nL 61.375 72.90625 \nL 61.375 64.59375 \nL 35.5 64.59375 \nL 35.5 0 \nL 25.59375 0 \nL 25.59375 64.59375 \nL -0.296875 64.59375 \nz\n\" id=\"DejaVuSans-84\"/>\n       <path d=\"M 54.890625 33.015625 \nL 54.890625 0 \nL 45.90625 0 \nL 45.90625 32.71875 \nQ 45.90625 40.484375 42.875 44.328125 \nQ 39.84375 48.1875 33.796875 48.1875 \nQ 26.515625 48.1875 22.3125 43.546875 \nQ 18.109375 38.921875 18.109375 30.90625 \nL 18.109375 0 \nL 9.078125 0 \nL 9.078125 75.984375 \nL 18.109375 75.984375 \nL 18.109375 46.1875 \nQ 21.34375 51.125 25.703125 53.5625 \nQ 30.078125 56 35.796875 56 \nQ 45.21875 56 50.046875 50.171875 \nQ 54.890625 44.34375 54.890625 33.015625 \nz\n\" id=\"DejaVuSans-104\"/>\n       <path d=\"M 56.203125 29.59375 \nL 56.203125 25.203125 \nL 14.890625 25.203125 \nQ 15.484375 15.921875 20.484375 11.0625 \nQ 25.484375 6.203125 34.421875 6.203125 \nQ 39.59375 6.203125 44.453125 7.46875 \nQ 49.3125 8.734375 54.109375 11.28125 \nL 54.109375 2.78125 \nQ 49.265625 0.734375 44.1875 -0.34375 \nQ 39.109375 -1.421875 33.890625 -1.421875 \nQ 20.796875 -1.421875 13.15625 6.1875 \nQ 5.515625 13.8125 5.515625 26.8125 \nQ 5.515625 40.234375 12.765625 48.109375 \nQ 20.015625 56 32.328125 56 \nQ 43.359375 56 49.78125 48.890625 \nQ 56.203125 41.796875 56.203125 29.59375 \nz\nM 47.21875 32.234375 \nQ 47.125 39.59375 43.09375 43.984375 \nQ 39.0625 48.390625 32.421875 48.390625 \nQ 24.90625 48.390625 20.390625 44.140625 \nQ 15.875 39.890625 15.1875 32.171875 \nz\n\" id=\"DejaVuSans-101\"/>\n       <path id=\"DejaVuSans-32\"/>\n       <path d=\"M 9.8125 72.90625 \nL 24.515625 72.90625 \nL 43.109375 23.296875 \nL 61.8125 72.90625 \nL 76.515625 72.90625 \nL 76.515625 0 \nL 66.890625 0 \nL 66.890625 64.015625 \nL 48.09375 14.015625 \nL 38.1875 14.015625 \nL 19.390625 64.015625 \nL 19.390625 0 \nL 9.8125 0 \nz\n\" id=\"DejaVuSans-77\"/>\n       <path d=\"M 34.28125 27.484375 \nQ 23.390625 27.484375 19.1875 25 \nQ 14.984375 22.515625 14.984375 16.5 \nQ 14.984375 11.71875 18.140625 8.90625 \nQ 21.296875 6.109375 26.703125 6.109375 \nQ 34.1875 6.109375 38.703125 11.40625 \nQ 43.21875 16.703125 43.21875 25.484375 \nL 43.21875 27.484375 \nz\nM 52.203125 31.203125 \nL 52.203125 0 \nL 43.21875 0 \nL 43.21875 8.296875 \nQ 40.140625 3.328125 35.546875 0.953125 \nQ 30.953125 -1.421875 24.3125 -1.421875 \nQ 15.921875 -1.421875 10.953125 3.296875 \nQ 6 8.015625 6 15.921875 \nQ 6 25.140625 12.171875 29.828125 \nQ 18.359375 34.515625 30.609375 34.515625 \nL 43.21875 34.515625 \nL 43.21875 35.40625 \nQ 43.21875 41.609375 39.140625 45 \nQ 35.0625 48.390625 27.6875 48.390625 \nQ 23 48.390625 18.546875 47.265625 \nQ 14.109375 46.140625 10.015625 43.890625 \nL 10.015625 52.203125 \nQ 14.9375 54.109375 19.578125 55.046875 \nQ 24.21875 56 28.609375 56 \nQ 40.484375 56 46.34375 49.84375 \nQ 52.203125 43.703125 52.203125 31.203125 \nz\n\" id=\"DejaVuSans-97\"/>\n       <path d=\"M 18.3125 70.21875 \nL 18.3125 54.6875 \nL 36.8125 54.6875 \nL 36.8125 47.703125 \nL 18.3125 47.703125 \nL 18.3125 18.015625 \nQ 18.3125 11.328125 20.140625 9.421875 \nQ 21.96875 7.515625 27.59375 7.515625 \nL 36.8125 7.515625 \nL 36.8125 0 \nL 27.59375 0 \nQ 17.1875 0 13.234375 3.875 \nQ 9.28125 7.765625 9.28125 18.015625 \nL 9.28125 47.703125 \nL 2.6875 47.703125 \nL 2.6875 54.6875 \nL 9.28125 54.6875 \nL 9.28125 70.21875 \nz\n\" id=\"DejaVuSans-116\"/>\n       <path d=\"M 41.109375 46.296875 \nQ 39.59375 47.171875 37.8125 47.578125 \nQ 36.03125 48 33.890625 48 \nQ 26.265625 48 22.1875 43.046875 \nQ 18.109375 38.09375 18.109375 28.8125 \nL 18.109375 0 \nL 9.078125 0 \nL 9.078125 54.6875 \nL 18.109375 54.6875 \nL 18.109375 46.1875 \nQ 20.953125 51.171875 25.484375 53.578125 \nQ 30.03125 56 36.53125 56 \nQ 37.453125 56 38.578125 55.875 \nQ 39.703125 55.765625 41.0625 55.515625 \nz\n\" id=\"DejaVuSans-114\"/>\n       <path d=\"M 9.421875 54.6875 \nL 18.40625 54.6875 \nL 18.40625 0 \nL 9.421875 0 \nz\nM 9.421875 75.984375 \nL 18.40625 75.984375 \nL 18.40625 64.59375 \nL 9.421875 64.59375 \nz\n\" id=\"DejaVuSans-105\"/>\n       <path d=\"M 54.890625 54.6875 \nL 35.109375 28.078125 \nL 55.90625 0 \nL 45.3125 0 \nL 29.390625 21.484375 \nL 13.484375 0 \nL 2.875 0 \nL 24.125 28.609375 \nL 4.6875 54.6875 \nL 15.28125 54.6875 \nL 29.78125 35.203125 \nL 44.28125 54.6875 \nz\n\" id=\"DejaVuSans-120\"/>\n      </defs>\n      <g transform=\"translate(79.121875 284.900937)rotate(-90)scale(0.1 -0.1)\">\n       <use xlink:href=\"#DejaVuSans-84\"/>\n       <use x=\"61.083984\" xlink:href=\"#DejaVuSans-104\"/>\n       <use x=\"124.462891\" xlink:href=\"#DejaVuSans-101\"/>\n       <use x=\"185.986328\" xlink:href=\"#DejaVuSans-32\"/>\n       <use x=\"217.773438\" xlink:href=\"#DejaVuSans-77\"/>\n       <use x=\"304.052734\" xlink:href=\"#DejaVuSans-97\"/>\n       <use x=\"365.332031\" xlink:href=\"#DejaVuSans-116\"/>\n       <use x=\"404.541016\" xlink:href=\"#DejaVuSans-114\"/>\n       <use x=\"445.654297\" xlink:href=\"#DejaVuSans-105\"/>\n       <use x=\"473.4375\" xlink:href=\"#DejaVuSans-120\"/>\n      </g>\n     </g>\n    </g>\n    <g id=\"xtick_2\">\n     <g id=\"line2d_2\">\n      <g>\n       <use style=\"stroke:#000000;stroke-width:0.8;\" x=\"187.9625\" xlink:href=\"#m14d5285880\" y=\"224.64\"/>\n      </g>\n     </g>\n     <g id=\"text_2\">\n      <!-- The Matrix Reloaded -->\n      <defs>\n       <path d=\"M 44.390625 34.1875 \nQ 47.5625 33.109375 50.5625 29.59375 \nQ 53.5625 26.078125 56.59375 19.921875 \nL 66.609375 0 \nL 56 0 \nL 46.6875 18.703125 \nQ 43.0625 26.03125 39.671875 28.421875 \nQ 36.28125 30.8125 30.421875 30.8125 \nL 19.671875 30.8125 \nL 19.671875 0 \nL 9.8125 0 \nL 9.8125 72.90625 \nL 32.078125 72.90625 \nQ 44.578125 72.90625 50.734375 67.671875 \nQ 56.890625 62.453125 56.890625 51.90625 \nQ 56.890625 45.015625 53.6875 40.46875 \nQ 50.484375 35.9375 44.390625 34.1875 \nz\nM 19.671875 64.796875 \nL 19.671875 38.921875 \nL 32.078125 38.921875 \nQ 39.203125 38.921875 42.84375 42.21875 \nQ 46.484375 45.515625 46.484375 51.90625 \nQ 46.484375 58.296875 42.84375 61.546875 \nQ 39.203125 64.796875 32.078125 64.796875 \nz\n\" id=\"DejaVuSans-82\"/>\n       <path d=\"M 9.421875 75.984375 \nL 18.40625 75.984375 \nL 18.40625 0 \nL 9.421875 0 \nz\n\" id=\"DejaVuSans-108\"/>\n       <path d=\"M 30.609375 48.390625 \nQ 23.390625 48.390625 19.1875 42.75 \nQ 14.984375 37.109375 14.984375 27.296875 \nQ 14.984375 17.484375 19.15625 11.84375 \nQ 23.34375 6.203125 30.609375 6.203125 \nQ 37.796875 6.203125 41.984375 11.859375 \nQ 46.1875 17.53125 46.1875 27.296875 \nQ 46.1875 37.015625 41.984375 42.703125 \nQ 37.796875 48.390625 30.609375 48.390625 \nz\nM 30.609375 56 \nQ 42.328125 56 49.015625 48.375 \nQ 55.71875 40.765625 55.71875 27.296875 \nQ 55.71875 13.875 49.015625 6.21875 \nQ 42.328125 -1.421875 30.609375 -1.421875 \nQ 18.84375 -1.421875 12.171875 6.21875 \nQ 5.515625 13.875 5.515625 27.296875 \nQ 5.515625 40.765625 12.171875 48.375 \nQ 18.84375 56 30.609375 56 \nz\n\" id=\"DejaVuSans-111\"/>\n       <path d=\"M 45.40625 46.390625 \nL 45.40625 75.984375 \nL 54.390625 75.984375 \nL 54.390625 0 \nL 45.40625 0 \nL 45.40625 8.203125 \nQ 42.578125 3.328125 38.25 0.953125 \nQ 33.9375 -1.421875 27.875 -1.421875 \nQ 17.96875 -1.421875 11.734375 6.484375 \nQ 5.515625 14.40625 5.515625 27.296875 \nQ 5.515625 40.1875 11.734375 48.09375 \nQ 17.96875 56 27.875 56 \nQ 33.9375 56 38.25 53.625 \nQ 42.578125 51.265625 45.40625 46.390625 \nz\nM 14.796875 27.296875 \nQ 14.796875 17.390625 18.875 11.75 \nQ 22.953125 6.109375 30.078125 6.109375 \nQ 37.203125 6.109375 41.296875 11.75 \nQ 45.40625 17.390625 45.40625 27.296875 \nQ 45.40625 37.203125 41.296875 42.84375 \nQ 37.203125 48.484375 30.078125 48.484375 \nQ 22.953125 48.484375 18.875 42.84375 \nQ 14.796875 37.203125 14.796875 27.296875 \nz\n\" id=\"DejaVuSans-100\"/>\n      </defs>\n      <g transform=\"translate(190.721875 335.049375)rotate(-90)scale(0.1 -0.1)\">\n       <use xlink:href=\"#DejaVuSans-84\"/>\n       <use x=\"61.083984\" xlink:href=\"#DejaVuSans-104\"/>\n       <use x=\"124.462891\" xlink:href=\"#DejaVuSans-101\"/>\n       <use x=\"185.986328\" xlink:href=\"#DejaVuSans-32\"/>\n       <use x=\"217.773438\" xlink:href=\"#DejaVuSans-77\"/>\n       <use x=\"304.052734\" xlink:href=\"#DejaVuSans-97\"/>\n       <use x=\"365.332031\" xlink:href=\"#DejaVuSans-116\"/>\n       <use x=\"404.541016\" xlink:href=\"#DejaVuSans-114\"/>\n       <use x=\"445.654297\" xlink:href=\"#DejaVuSans-105\"/>\n       <use x=\"473.4375\" xlink:href=\"#DejaVuSans-120\"/>\n       <use x=\"532.617188\" xlink:href=\"#DejaVuSans-32\"/>\n       <use x=\"564.404297\" xlink:href=\"#DejaVuSans-82\"/>\n       <use x=\"633.824219\" xlink:href=\"#DejaVuSans-101\"/>\n       <use x=\"695.347656\" xlink:href=\"#DejaVuSans-108\"/>\n       <use x=\"723.130859\" xlink:href=\"#DejaVuSans-111\"/>\n       <use x=\"784.3125\" xlink:href=\"#DejaVuSans-97\"/>\n       <use x=\"845.591797\" xlink:href=\"#DejaVuSans-100\"/>\n       <use x=\"909.068359\" xlink:href=\"#DejaVuSans-101\"/>\n       <use x=\"970.591797\" xlink:href=\"#DejaVuSans-100\"/>\n      </g>\n     </g>\n    </g>\n    <g id=\"xtick_3\">\n     <g id=\"line2d_3\">\n      <g>\n       <use style=\"stroke:#000000;stroke-width:0.8;\" x=\"299.5625\" xlink:href=\"#m14d5285880\" y=\"224.64\"/>\n      </g>\n     </g>\n     <g id=\"text_3\">\n      <!-- The Matrix Revolutions -->\n      <defs>\n       <path d=\"M 2.984375 54.6875 \nL 12.5 54.6875 \nL 29.59375 8.796875 \nL 46.6875 54.6875 \nL 56.203125 54.6875 \nL 35.6875 0 \nL 23.484375 0 \nz\n\" id=\"DejaVuSans-118\"/>\n       <path d=\"M 8.5 21.578125 \nL 8.5 54.6875 \nL 17.484375 54.6875 \nL 17.484375 21.921875 \nQ 17.484375 14.15625 20.5 10.265625 \nQ 23.53125 6.390625 29.59375 6.390625 \nQ 36.859375 6.390625 41.078125 11.03125 \nQ 45.3125 15.671875 45.3125 23.6875 \nL 45.3125 54.6875 \nL 54.296875 54.6875 \nL 54.296875 0 \nL 45.3125 0 \nL 45.3125 8.40625 \nQ 42.046875 3.421875 37.71875 1 \nQ 33.40625 -1.421875 27.6875 -1.421875 \nQ 18.265625 -1.421875 13.375 4.4375 \nQ 8.5 10.296875 8.5 21.578125 \nz\nM 31.109375 56 \nz\n\" id=\"DejaVuSans-117\"/>\n       <path d=\"M 54.890625 33.015625 \nL 54.890625 0 \nL 45.90625 0 \nL 45.90625 32.71875 \nQ 45.90625 40.484375 42.875 44.328125 \nQ 39.84375 48.1875 33.796875 48.1875 \nQ 26.515625 48.1875 22.3125 43.546875 \nQ 18.109375 38.921875 18.109375 30.90625 \nL 18.109375 0 \nL 9.078125 0 \nL 9.078125 54.6875 \nL 18.109375 54.6875 \nL 18.109375 46.1875 \nQ 21.34375 51.125 25.703125 53.5625 \nQ 30.078125 56 35.796875 56 \nQ 45.21875 56 50.046875 50.171875 \nQ 54.890625 44.34375 54.890625 33.015625 \nz\n\" id=\"DejaVuSans-110\"/>\n       <path d=\"M 44.28125 53.078125 \nL 44.28125 44.578125 \nQ 40.484375 46.53125 36.375 47.5 \nQ 32.28125 48.484375 27.875 48.484375 \nQ 21.1875 48.484375 17.84375 46.4375 \nQ 14.5 44.390625 14.5 40.28125 \nQ 14.5 37.15625 16.890625 35.375 \nQ 19.28125 33.59375 26.515625 31.984375 \nL 29.59375 31.296875 \nQ 39.15625 29.25 43.1875 25.515625 \nQ 47.21875 21.78125 47.21875 15.09375 \nQ 47.21875 7.46875 41.1875 3.015625 \nQ 35.15625 -1.421875 24.609375 -1.421875 \nQ 20.21875 -1.421875 15.453125 -0.5625 \nQ 10.6875 0.296875 5.421875 2 \nL 5.421875 11.28125 \nQ 10.40625 8.6875 15.234375 7.390625 \nQ 20.0625 6.109375 24.8125 6.109375 \nQ 31.15625 6.109375 34.5625 8.28125 \nQ 37.984375 10.453125 37.984375 14.40625 \nQ 37.984375 18.0625 35.515625 20.015625 \nQ 33.0625 21.96875 24.703125 23.78125 \nL 21.578125 24.515625 \nQ 13.234375 26.265625 9.515625 29.90625 \nQ 5.8125 33.546875 5.8125 39.890625 \nQ 5.8125 47.609375 11.28125 51.796875 \nQ 16.75 56 26.8125 56 \nQ 31.78125 56 36.171875 55.265625 \nQ 40.578125 54.546875 44.28125 53.078125 \nz\n\" id=\"DejaVuSans-115\"/>\n      </defs>\n      <g transform=\"translate(302.321875 346.691562)rotate(-90)scale(0.1 -0.1)\">\n       <use xlink:href=\"#DejaVuSans-84\"/>\n       <use x=\"61.083984\" xlink:href=\"#DejaVuSans-104\"/>\n       <use x=\"124.462891\" xlink:href=\"#DejaVuSans-101\"/>\n       <use x=\"185.986328\" xlink:href=\"#DejaVuSans-32\"/>\n       <use x=\"217.773438\" xlink:href=\"#DejaVuSans-77\"/>\n       <use x=\"304.052734\" xlink:href=\"#DejaVuSans-97\"/>\n       <use x=\"365.332031\" xlink:href=\"#DejaVuSans-116\"/>\n       <use x=\"404.541016\" xlink:href=\"#DejaVuSans-114\"/>\n       <use x=\"445.654297\" xlink:href=\"#DejaVuSans-105\"/>\n       <use x=\"473.4375\" xlink:href=\"#DejaVuSans-120\"/>\n       <use x=\"532.617188\" xlink:href=\"#DejaVuSans-32\"/>\n       <use x=\"564.404297\" xlink:href=\"#DejaVuSans-82\"/>\n       <use x=\"633.824219\" xlink:href=\"#DejaVuSans-101\"/>\n       <use x=\"695.347656\" xlink:href=\"#DejaVuSans-118\"/>\n       <use x=\"754.527344\" xlink:href=\"#DejaVuSans-111\"/>\n       <use x=\"815.708984\" xlink:href=\"#DejaVuSans-108\"/>\n       <use x=\"843.492188\" xlink:href=\"#DejaVuSans-117\"/>\n       <use x=\"906.871094\" xlink:href=\"#DejaVuSans-116\"/>\n       <use x=\"946.080078\" xlink:href=\"#DejaVuSans-105\"/>\n       <use x=\"973.863281\" xlink:href=\"#DejaVuSans-111\"/>\n       <use x=\"1035.044922\" xlink:href=\"#DejaVuSans-110\"/>\n       <use x=\"1098.423828\" xlink:href=\"#DejaVuSans-115\"/>\n      </g>\n     </g>\n    </g>\n    <g id=\"text_4\">\n     <!-- title -->\n     <g transform=\"translate(178.1875 358.29)scale(0.1 -0.1)\">\n      <use xlink:href=\"#DejaVuSans-116\"/>\n      <use x=\"39.208984\" xlink:href=\"#DejaVuSans-105\"/>\n      <use x=\"66.992188\" xlink:href=\"#DejaVuSans-116\"/>\n      <use x=\"106.201172\" xlink:href=\"#DejaVuSans-108\"/>\n      <use x=\"133.984375\" xlink:href=\"#DejaVuSans-101\"/>\n     </g>\n    </g>\n   </g>\n   <g id=\"matplotlib.axis_2\">\n    <g id=\"ytick_1\">\n     <g id=\"line2d_4\">\n      <defs>\n       <path d=\"M 0 0 \nL -3.5 0 \n\" id=\"mae98e0f247\" style=\"stroke:#000000;stroke-width:0.8;\"/>\n      </defs>\n      <g>\n       <use style=\"stroke:#000000;stroke-width:0.8;\" x=\"20.5625\" xlink:href=\"#mae98e0f247\" y=\"224.64\"/>\n      </g>\n     </g>\n     <g id=\"text_5\">\n      <!-- 0 -->\n      <defs>\n       <path d=\"M 31.78125 66.40625 \nQ 24.171875 66.40625 20.328125 58.90625 \nQ 16.5 51.421875 16.5 36.375 \nQ 16.5 21.390625 20.328125 13.890625 \nQ 24.171875 6.390625 31.78125 6.390625 \nQ 39.453125 6.390625 43.28125 13.890625 \nQ 47.125 21.390625 47.125 36.375 \nQ 47.125 51.421875 43.28125 58.90625 \nQ 39.453125 66.40625 31.78125 66.40625 \nz\nM 31.78125 74.21875 \nQ 44.046875 74.21875 50.515625 64.515625 \nQ 56.984375 54.828125 56.984375 36.375 \nQ 56.984375 17.96875 50.515625 8.265625 \nQ 44.046875 -1.421875 31.78125 -1.421875 \nQ 19.53125 -1.421875 13.0625 8.265625 \nQ 6.59375 17.96875 6.59375 36.375 \nQ 6.59375 54.828125 13.0625 64.515625 \nQ 19.53125 74.21875 31.78125 74.21875 \nz\n\" id=\"DejaVuSans-48\"/>\n      </defs>\n      <g transform=\"translate(7.2 228.439219)scale(0.1 -0.1)\">\n       <use xlink:href=\"#DejaVuSans-48\"/>\n      </g>\n     </g>\n    </g>\n    <g id=\"ytick_2\">\n     <g id=\"line2d_5\">\n      <g>\n       <use style=\"stroke:#000000;stroke-width:0.8;\" x=\"20.5625\" xlink:href=\"#mae98e0f247\" y=\"198.426618\"/>\n      </g>\n     </g>\n     <g id=\"text_6\">\n      <!-- 1 -->\n      <defs>\n       <path d=\"M 12.40625 8.296875 \nL 28.515625 8.296875 \nL 28.515625 63.921875 \nL 10.984375 60.40625 \nL 10.984375 69.390625 \nL 28.421875 72.90625 \nL 38.28125 72.90625 \nL 38.28125 8.296875 \nL 54.390625 8.296875 \nL 54.390625 0 \nL 12.40625 0 \nz\n\" id=\"DejaVuSans-49\"/>\n      </defs>\n      <g transform=\"translate(7.2 202.225837)scale(0.1 -0.1)\">\n       <use xlink:href=\"#DejaVuSans-49\"/>\n      </g>\n     </g>\n    </g>\n    <g id=\"ytick_3\">\n     <g id=\"line2d_6\">\n      <g>\n       <use style=\"stroke:#000000;stroke-width:0.8;\" x=\"20.5625\" xlink:href=\"#mae98e0f247\" y=\"172.213237\"/>\n      </g>\n     </g>\n     <g id=\"text_7\">\n      <!-- 2 -->\n      <defs>\n       <path d=\"M 19.1875 8.296875 \nL 53.609375 8.296875 \nL 53.609375 0 \nL 7.328125 0 \nL 7.328125 8.296875 \nQ 12.9375 14.109375 22.625 23.890625 \nQ 32.328125 33.6875 34.8125 36.53125 \nQ 39.546875 41.84375 41.421875 45.53125 \nQ 43.3125 49.21875 43.3125 52.78125 \nQ 43.3125 58.59375 39.234375 62.25 \nQ 35.15625 65.921875 28.609375 65.921875 \nQ 23.96875 65.921875 18.8125 64.3125 \nQ 13.671875 62.703125 7.8125 59.421875 \nL 7.8125 69.390625 \nQ 13.765625 71.78125 18.9375 73 \nQ 24.125 74.21875 28.421875 74.21875 \nQ 39.75 74.21875 46.484375 68.546875 \nQ 53.21875 62.890625 53.21875 53.421875 \nQ 53.21875 48.921875 51.53125 44.890625 \nQ 49.859375 40.875 45.40625 35.40625 \nQ 44.1875 33.984375 37.640625 27.21875 \nQ 31.109375 20.453125 19.1875 8.296875 \nz\n\" id=\"DejaVuSans-50\"/>\n      </defs>\n      <g transform=\"translate(7.2 176.012456)scale(0.1 -0.1)\">\n       <use xlink:href=\"#DejaVuSans-50\"/>\n      </g>\n     </g>\n    </g>\n    <g id=\"ytick_4\">\n     <g id=\"line2d_7\">\n      <g>\n       <use style=\"stroke:#000000;stroke-width:0.8;\" x=\"20.5625\" xlink:href=\"#mae98e0f247\" y=\"145.999855\"/>\n      </g>\n     </g>\n     <g id=\"text_8\">\n      <!-- 3 -->\n      <defs>\n       <path d=\"M 40.578125 39.3125 \nQ 47.65625 37.796875 51.625 33 \nQ 55.609375 28.21875 55.609375 21.1875 \nQ 55.609375 10.40625 48.1875 4.484375 \nQ 40.765625 -1.421875 27.09375 -1.421875 \nQ 22.515625 -1.421875 17.65625 -0.515625 \nQ 12.796875 0.390625 7.625 2.203125 \nL 7.625 11.71875 \nQ 11.71875 9.328125 16.59375 8.109375 \nQ 21.484375 6.890625 26.8125 6.890625 \nQ 36.078125 6.890625 40.9375 10.546875 \nQ 45.796875 14.203125 45.796875 21.1875 \nQ 45.796875 27.640625 41.28125 31.265625 \nQ 36.765625 34.90625 28.71875 34.90625 \nL 20.21875 34.90625 \nL 20.21875 43.015625 \nL 29.109375 43.015625 \nQ 36.375 43.015625 40.234375 45.921875 \nQ 44.09375 48.828125 44.09375 54.296875 \nQ 44.09375 59.90625 40.109375 62.90625 \nQ 36.140625 65.921875 28.71875 65.921875 \nQ 24.65625 65.921875 20.015625 65.03125 \nQ 15.375 64.15625 9.8125 62.3125 \nL 9.8125 71.09375 \nQ 15.4375 72.65625 20.34375 73.4375 \nQ 25.25 74.21875 29.59375 74.21875 \nQ 40.828125 74.21875 47.359375 69.109375 \nQ 53.90625 64.015625 53.90625 55.328125 \nQ 53.90625 49.265625 50.4375 45.09375 \nQ 46.96875 40.921875 40.578125 39.3125 \nz\n\" id=\"DejaVuSans-51\"/>\n      </defs>\n      <g transform=\"translate(7.2 149.799074)scale(0.1 -0.1)\">\n       <use xlink:href=\"#DejaVuSans-51\"/>\n      </g>\n     </g>\n    </g>\n    <g id=\"ytick_5\">\n     <g id=\"line2d_8\">\n      <g>\n       <use style=\"stroke:#000000;stroke-width:0.8;\" x=\"20.5625\" xlink:href=\"#mae98e0f247\" y=\"119.786474\"/>\n      </g>\n     </g>\n     <g id=\"text_9\">\n      <!-- 4 -->\n      <defs>\n       <path d=\"M 37.796875 64.3125 \nL 12.890625 25.390625 \nL 37.796875 25.390625 \nz\nM 35.203125 72.90625 \nL 47.609375 72.90625 \nL 47.609375 25.390625 \nL 58.015625 25.390625 \nL 58.015625 17.1875 \nL 47.609375 17.1875 \nL 47.609375 0 \nL 37.796875 0 \nL 37.796875 17.1875 \nL 4.890625 17.1875 \nL 4.890625 26.703125 \nz\n\" id=\"DejaVuSans-52\"/>\n      </defs>\n      <g transform=\"translate(7.2 123.585693)scale(0.1 -0.1)\">\n       <use xlink:href=\"#DejaVuSans-52\"/>\n      </g>\n     </g>\n    </g>\n    <g id=\"ytick_6\">\n     <g id=\"line2d_9\">\n      <g>\n       <use style=\"stroke:#000000;stroke-width:0.8;\" x=\"20.5625\" xlink:href=\"#mae98e0f247\" y=\"93.573092\"/>\n      </g>\n     </g>\n     <g id=\"text_10\">\n      <!-- 5 -->\n      <defs>\n       <path d=\"M 10.796875 72.90625 \nL 49.515625 72.90625 \nL 49.515625 64.59375 \nL 19.828125 64.59375 \nL 19.828125 46.734375 \nQ 21.96875 47.46875 24.109375 47.828125 \nQ 26.265625 48.1875 28.421875 48.1875 \nQ 40.625 48.1875 47.75 41.5 \nQ 54.890625 34.8125 54.890625 23.390625 \nQ 54.890625 11.625 47.5625 5.09375 \nQ 40.234375 -1.421875 26.90625 -1.421875 \nQ 22.3125 -1.421875 17.546875 -0.640625 \nQ 12.796875 0.140625 7.71875 1.703125 \nL 7.71875 11.625 \nQ 12.109375 9.234375 16.796875 8.0625 \nQ 21.484375 6.890625 26.703125 6.890625 \nQ 35.15625 6.890625 40.078125 11.328125 \nQ 45.015625 15.765625 45.015625 23.390625 \nQ 45.015625 31 40.078125 35.4375 \nQ 35.15625 39.890625 26.703125 39.890625 \nQ 22.75 39.890625 18.8125 39.015625 \nQ 14.890625 38.140625 10.796875 36.28125 \nz\n\" id=\"DejaVuSans-53\"/>\n      </defs>\n      <g transform=\"translate(7.2 97.372311)scale(0.1 -0.1)\">\n       <use xlink:href=\"#DejaVuSans-53\"/>\n      </g>\n     </g>\n    </g>\n    <g id=\"ytick_7\">\n     <g id=\"line2d_10\">\n      <g>\n       <use style=\"stroke:#000000;stroke-width:0.8;\" x=\"20.5625\" xlink:href=\"#mae98e0f247\" y=\"67.359711\"/>\n      </g>\n     </g>\n     <g id=\"text_11\">\n      <!-- 6 -->\n      <defs>\n       <path d=\"M 33.015625 40.375 \nQ 26.375 40.375 22.484375 35.828125 \nQ 18.609375 31.296875 18.609375 23.390625 \nQ 18.609375 15.53125 22.484375 10.953125 \nQ 26.375 6.390625 33.015625 6.390625 \nQ 39.65625 6.390625 43.53125 10.953125 \nQ 47.40625 15.53125 47.40625 23.390625 \nQ 47.40625 31.296875 43.53125 35.828125 \nQ 39.65625 40.375 33.015625 40.375 \nz\nM 52.59375 71.296875 \nL 52.59375 62.3125 \nQ 48.875 64.0625 45.09375 64.984375 \nQ 41.3125 65.921875 37.59375 65.921875 \nQ 27.828125 65.921875 22.671875 59.328125 \nQ 17.53125 52.734375 16.796875 39.40625 \nQ 19.671875 43.65625 24.015625 45.921875 \nQ 28.375 48.1875 33.59375 48.1875 \nQ 44.578125 48.1875 50.953125 41.515625 \nQ 57.328125 34.859375 57.328125 23.390625 \nQ 57.328125 12.15625 50.6875 5.359375 \nQ 44.046875 -1.421875 33.015625 -1.421875 \nQ 20.359375 -1.421875 13.671875 8.265625 \nQ 6.984375 17.96875 6.984375 36.375 \nQ 6.984375 53.65625 15.1875 63.9375 \nQ 23.390625 74.21875 37.203125 74.21875 \nQ 40.921875 74.21875 44.703125 73.484375 \nQ 48.484375 72.75 52.59375 71.296875 \nz\n\" id=\"DejaVuSans-54\"/>\n      </defs>\n      <g transform=\"translate(7.2 71.158929)scale(0.1 -0.1)\">\n       <use xlink:href=\"#DejaVuSans-54\"/>\n      </g>\n     </g>\n    </g>\n    <g id=\"ytick_8\">\n     <g id=\"line2d_11\">\n      <g>\n       <use style=\"stroke:#000000;stroke-width:0.8;\" x=\"20.5625\" xlink:href=\"#mae98e0f247\" y=\"41.146329\"/>\n      </g>\n     </g>\n     <g id=\"text_12\">\n      <!-- 7 -->\n      <defs>\n       <path d=\"M 8.203125 72.90625 \nL 55.078125 72.90625 \nL 55.078125 68.703125 \nL 28.609375 0 \nL 18.3125 0 \nL 43.21875 64.59375 \nL 8.203125 64.59375 \nz\n\" id=\"DejaVuSans-55\"/>\n      </defs>\n      <g transform=\"translate(7.2 44.945548)scale(0.1 -0.1)\">\n       <use xlink:href=\"#DejaVuSans-55\"/>\n      </g>\n     </g>\n    </g>\n    <g id=\"ytick_9\">\n     <g id=\"line2d_12\">\n      <g>\n       <use style=\"stroke:#000000;stroke-width:0.8;\" x=\"20.5625\" xlink:href=\"#mae98e0f247\" y=\"14.932948\"/>\n      </g>\n     </g>\n     <g id=\"text_13\">\n      <!-- 8 -->\n      <defs>\n       <path d=\"M 31.78125 34.625 \nQ 24.75 34.625 20.71875 30.859375 \nQ 16.703125 27.09375 16.703125 20.515625 \nQ 16.703125 13.921875 20.71875 10.15625 \nQ 24.75 6.390625 31.78125 6.390625 \nQ 38.8125 6.390625 42.859375 10.171875 \nQ 46.921875 13.96875 46.921875 20.515625 \nQ 46.921875 27.09375 42.890625 30.859375 \nQ 38.875 34.625 31.78125 34.625 \nz\nM 21.921875 38.8125 \nQ 15.578125 40.375 12.03125 44.71875 \nQ 8.5 49.078125 8.5 55.328125 \nQ 8.5 64.0625 14.71875 69.140625 \nQ 20.953125 74.21875 31.78125 74.21875 \nQ 42.671875 74.21875 48.875 69.140625 \nQ 55.078125 64.0625 55.078125 55.328125 \nQ 55.078125 49.078125 51.53125 44.71875 \nQ 48 40.375 41.703125 38.8125 \nQ 48.828125 37.15625 52.796875 32.3125 \nQ 56.78125 27.484375 56.78125 20.515625 \nQ 56.78125 9.90625 50.3125 4.234375 \nQ 43.84375 -1.421875 31.78125 -1.421875 \nQ 19.734375 -1.421875 13.25 4.234375 \nQ 6.78125 9.90625 6.78125 20.515625 \nQ 6.78125 27.484375 10.78125 32.3125 \nQ 14.796875 37.15625 21.921875 38.8125 \nz\nM 18.3125 54.390625 \nQ 18.3125 48.734375 21.84375 45.5625 \nQ 25.390625 42.390625 31.78125 42.390625 \nQ 38.140625 42.390625 41.71875 45.5625 \nQ 45.3125 48.734375 45.3125 54.390625 \nQ 45.3125 60.0625 41.71875 63.234375 \nQ 38.140625 66.40625 31.78125 66.40625 \nQ 25.390625 66.40625 21.84375 63.234375 \nQ 18.3125 60.0625 18.3125 54.390625 \nz\n\" id=\"DejaVuSans-56\"/>\n      </defs>\n      <g transform=\"translate(7.2 18.732166)scale(0.1 -0.1)\">\n       <use xlink:href=\"#DejaVuSans-56\"/>\n      </g>\n     </g>\n    </g>\n   </g>\n   <g id=\"patch_6\">\n    <path d=\"M 20.5625 224.64 \nL 20.5625 7.2 \n\" style=\"fill:none;stroke:#000000;stroke-linecap:square;stroke-linejoin:miter;stroke-width:0.8;\"/>\n   </g>\n   <g id=\"patch_7\">\n    <path d=\"M 355.3625 224.64 \nL 355.3625 7.2 \n\" style=\"fill:none;stroke:#000000;stroke-linecap:square;stroke-linejoin:miter;stroke-width:0.8;\"/>\n   </g>\n   <g id=\"patch_8\">\n    <path d=\"M 20.5625 224.64 \nL 355.3625 224.64 \n\" style=\"fill:none;stroke:#000000;stroke-linecap:square;stroke-linejoin:miter;stroke-width:0.8;\"/>\n   </g>\n   <g id=\"patch_9\">\n    <path d=\"M 20.5625 7.2 \nL 355.3625 7.2 \n\" style=\"fill:none;stroke:#000000;stroke-linecap:square;stroke-linejoin:miter;stroke-width:0.8;\"/>\n   </g>\n   <g id=\"legend_1\">\n    <g id=\"patch_10\">\n     <path d=\"M 248.310938 30.15625 \nL 348.3625 30.15625 \nQ 350.3625 30.15625 350.3625 28.15625 \nL 350.3625 14.2 \nQ 350.3625 12.2 348.3625 12.2 \nL 248.310938 12.2 \nQ 246.310938 12.2 246.310938 14.2 \nL 246.310938 28.15625 \nQ 246.310938 30.15625 248.310938 30.15625 \nz\n\" style=\"fill:#ffffff;opacity:0.8;stroke:#cccccc;stroke-linejoin:miter;\"/>\n    </g>\n    <g id=\"patch_11\">\n     <path d=\"M 250.310938 23.798437 \nL 270.310938 23.798437 \nL 270.310938 16.798437 \nL 250.310938 16.798437 \nz\n\" style=\"fill:#1f77b4;\"/>\n    </g>\n    <g id=\"text_14\">\n     <!-- vote_average -->\n     <defs>\n      <path d=\"M 50.984375 -16.609375 \nL 50.984375 -23.578125 \nL -0.984375 -23.578125 \nL -0.984375 -16.609375 \nz\n\" id=\"DejaVuSans-95\"/>\n      <path d=\"M 45.40625 27.984375 \nQ 45.40625 37.75 41.375 43.109375 \nQ 37.359375 48.484375 30.078125 48.484375 \nQ 22.859375 48.484375 18.828125 43.109375 \nQ 14.796875 37.75 14.796875 27.984375 \nQ 14.796875 18.265625 18.828125 12.890625 \nQ 22.859375 7.515625 30.078125 7.515625 \nQ 37.359375 7.515625 41.375 12.890625 \nQ 45.40625 18.265625 45.40625 27.984375 \nz\nM 54.390625 6.78125 \nQ 54.390625 -7.171875 48.1875 -13.984375 \nQ 42 -20.796875 29.203125 -20.796875 \nQ 24.46875 -20.796875 20.265625 -20.09375 \nQ 16.0625 -19.390625 12.109375 -17.921875 \nL 12.109375 -9.1875 \nQ 16.0625 -11.328125 19.921875 -12.34375 \nQ 23.78125 -13.375 27.78125 -13.375 \nQ 36.625 -13.375 41.015625 -8.765625 \nQ 45.40625 -4.15625 45.40625 5.171875 \nL 45.40625 9.625 \nQ 42.625 4.78125 38.28125 2.390625 \nQ 33.9375 0 27.875 0 \nQ 17.828125 0 11.671875 7.65625 \nQ 5.515625 15.328125 5.515625 27.984375 \nQ 5.515625 40.671875 11.671875 48.328125 \nQ 17.828125 56 27.875 56 \nQ 33.9375 56 38.28125 53.609375 \nQ 42.625 51.21875 45.40625 46.390625 \nL 45.40625 54.6875 \nL 54.390625 54.6875 \nz\n\" id=\"DejaVuSans-103\"/>\n     </defs>\n     <g transform=\"translate(278.310938 23.798437)scale(0.1 -0.1)\">\n      <use xlink:href=\"#DejaVuSans-118\"/>\n      <use x=\"59.179688\" xlink:href=\"#DejaVuSans-111\"/>\n      <use x=\"120.361328\" xlink:href=\"#DejaVuSans-116\"/>\n      <use x=\"159.570312\" xlink:href=\"#DejaVuSans-101\"/>\n      <use x=\"221.09375\" xlink:href=\"#DejaVuSans-95\"/>\n      <use x=\"271.09375\" xlink:href=\"#DejaVuSans-97\"/>\n      <use x=\"332.373047\" xlink:href=\"#DejaVuSans-118\"/>\n      <use x=\"391.552734\" xlink:href=\"#DejaVuSans-101\"/>\n      <use x=\"453.076172\" xlink:href=\"#DejaVuSans-114\"/>\n      <use x=\"494.189453\" xlink:href=\"#DejaVuSans-97\"/>\n      <use x=\"555.46875\" xlink:href=\"#DejaVuSans-103\"/>\n      <use x=\"618.945312\" xlink:href=\"#DejaVuSans-101\"/>\n     </g>\n    </g>\n   </g>\n  </g>\n </g>\n <defs>\n  <clipPath id=\"p39b037b55f\">\n   <rect height=\"217.44\" width=\"334.8\" x=\"20.5625\" y=\"7.2\"/>\n  </clipPath>\n </defs>\n</svg>\n",
      "image/png": "[encoded data removed]"
     },
     "metadata": {
      "needs_background": "light"
     }
    }
   ],
   "source": [
    "matrix_movies.plot(kind='bar',x='title',y='vote_average')"
   ]
  },
  {
   "cell_type": "code",
   "execution_count": 36,
   "metadata": {},
   "outputs": [],
   "source": [
    "matrix_movies['release_date'] = pd.to_datetime(matrix_movies['release_date'])"
   ]
  },
  {
   "cell_type": "code",
   "execution_count": 37,
   "metadata": {},
   "outputs": [
    {
     "output_type": "execute_result",
     "data": {
      "text/plain": "     Unnamed: 0                   title release_date  runtime  vote_count  \\\n634         634              The Matrix   1999-03-30      136        8907   \n125         125     The Matrix Reloaded   2003-05-15      138        3443   \n123         123  The Matrix Revolutions   2003-11-05      129        3096   \n\n     vote_average  budget     revenue      profit rating_category  year  \n634           7.9    63.0  463.517383  400.517383            Good  1999  \n125           6.7   150.0  738.599701  588.599701         Average  2003  \n123           6.4   150.0  424.988211  274.988211         Average  2003  ",
      "text/html": "<div>\n<style scoped>\n    .dataframe tbody tr th:only-of-type {\n        vertical-align: middle;\n    }\n\n    .dataframe tbody tr th {\n        vertical-align: top;\n    }\n\n    .dataframe thead th {\n        text-align: right;\n    }\n</style>\n<table border=\"1\" class=\"dataframe\">\n  <thead>\n    <tr style=\"text-align: right;\">\n      <th></th>\n      <th>Unnamed: 0</th>\n      <th>title</th>\n      <th>release_date</th>\n      <th>runtime</th>\n      <th>vote_count</th>\n      <th>vote_average</th>\n      <th>budget</th>\n      <th>revenue</th>\n      <th>profit</th>\n      <th>rating_category</th>\n      <th>year</th>\n    </tr>\n  </thead>\n  <tbody>\n    <tr>\n      <th>634</th>\n      <td>634</td>\n      <td>The Matrix</td>\n      <td>1999-03-30</td>\n      <td>136</td>\n      <td>8907</td>\n      <td>7.9</td>\n      <td>63.0</td>\n      <td>463.517383</td>\n      <td>400.517383</td>\n      <td>Good</td>\n      <td>1999</td>\n    </tr>\n    <tr>\n      <th>125</th>\n      <td>125</td>\n      <td>The Matrix Reloaded</td>\n      <td>2003-05-15</td>\n      <td>138</td>\n      <td>3443</td>\n      <td>6.7</td>\n      <td>150.0</td>\n      <td>738.599701</td>\n      <td>588.599701</td>\n      <td>Average</td>\n      <td>2003</td>\n    </tr>\n    <tr>\n      <th>123</th>\n      <td>123</td>\n      <td>The Matrix Revolutions</td>\n      <td>2003-11-05</td>\n      <td>129</td>\n      <td>3096</td>\n      <td>6.4</td>\n      <td>150.0</td>\n      <td>424.988211</td>\n      <td>274.988211</td>\n      <td>Average</td>\n      <td>2003</td>\n    </tr>\n  </tbody>\n</table>\n</div>"
     },
     "metadata": {},
     "execution_count": 37
    }
   ],
   "source": [
    "matrix_movies['year'] = matrix_movies['release_date'].dt.year\n",
    "\n",
    "matrix_movies"
   ]
  },
  {
   "cell_type": "code",
   "execution_count": null,
   "metadata": {},
   "outputs": [],
   "source": []
  }
 ],
 "metadata": {
  "kernelspec": {
   "display_name": "Python 3",
   "language": "python",
   "name": "python3"
  },
  "language_info": {
   "codemirror_mode": {
    "name": "ipython",
    "version": 3
   },
   "file_extension": ".py",
   "mimetype": "text/x-python",
   "name": "python",
   "nbconvert_exporter": "python",
   "pygments_lexer": "ipython3",
   "version": "3.7.6-final"
  }
 },
 "nbformat": 4,
 "nbformat_minor": 4
}