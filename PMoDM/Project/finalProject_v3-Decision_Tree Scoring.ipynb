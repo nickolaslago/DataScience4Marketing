{
 "metadata": {
  "language_info": {
   "codemirror_mode": {
    "name": "ipython",
    "version": 3
   },
   "file_extension": ".py",
   "mimetype": "text/x-python",
   "name": "python",
   "nbconvert_exporter": "python",
   "pygments_lexer": "ipython3",
   "version": "3.7.6"
  },
  "orig_nbformat": 2,
  "kernelspec": {
   "name": "python376jvsc74a57bd0f30a98447ab0ce6ed2c42a906dd8ff7c3035168d8630597903509f729a93be92",
   "display_name": "Python 3.7.6 64-bit ('base': conda)"
  }
 },
 "nbformat": 4,
 "nbformat_minor": 2,
 "cells": [
  {
   "cell_type": "code",
   "execution_count": 16,
   "metadata": {},
   "outputs": [],
   "source": [
    "import pandas as pd\n",
    "import numpy as np\n",
    "import seaborn as sns\n",
    "from datetime import datetime\n",
    "import matplotlib.pyplot as plt\n",
    "import category_encoders as ce\n",
    "\n",
    "date_format = \"%m/%d/%Y\""
   ]
  },
  {
   "source": [
    "<h1>I. Data Understanding</h1>\n",
    "<p>Bla bla bla</p>"
   ],
   "cell_type": "markdown",
   "metadata": {}
  },
  {
   "source": [
    "<h1>II. Data Preparation</h1>\n",
    "<p>We put together all preparations done in the previous file in a function, so we can execute again</p>"
   ],
   "cell_type": "markdown",
   "metadata": {}
  },
  {
   "cell_type": "code",
   "execution_count": 17,
   "metadata": {},
   "outputs": [],
   "source": [
    "def dataProcessing(file):\n",
    "    df = pd.read_excel(file, index_col=\"Custid\")\n",
    "    # DROPING COLUMNS\n",
    "    cols_to_drop = [\"Year_Birth\", \"Dt_Customer\", \"Kidhome\", \"Teenhome\", \"MntLighting\", \"MntCameras\", \"MntDoor_Locks\", \"MntThermostats\", \"MntSecurity_Systems\", \"MntPremium\", \"Z_CostContact\", \"Z_Revenue\", \"MntTotal\", \"AcceptedCmp2\", \"AcceptedCmp3\", \"AcceptedCmp4\", \"AcceptedCmp5\", \"Education\", \"Marital_Status\"]\n",
    "\n",
    "    # Droping group info\n",
    "    df.drop(['Group', 'Element1', 'Element2', 'Element3', 'Element4', 'Element5'], axis=1, inplace=True)\n",
    "\n",
    "    #Creating columns for age and days as a Customer instead of using the regular values\n",
    "    df['Age'] = 2020 - df['Year_Birth']\n",
    "    df['DaysAsCustomer'] = (datetime.strptime('03/18/2021', date_format) - df['Dt_Customer']).dt.days\n",
    "\n",
    "    #Changing the columns teenhome and kidhome to boolean\n",
    "    df[\"Kidhome\"] = np.where(df[\"Kidhome\"] == 0, df[\"Kidhome\"], 1)\n",
    "    df[\"Teenhome\"] = np.where(df[\"Teenhome\"] == 0, df[\"Teenhome\"], 1)\n",
    "    #Creating new column to know if the person has kid, teen, both or none\n",
    "    df[\"Children\"] = df[\"Kidhome\"] + df[\"Teenhome\"]\n",
    "\n",
    "    #Dealing with missing values\n",
    "    #Income\n",
    "    df['Income'] = df.groupby(['Education', 'Children'])['Income'].apply(lambda x: x.fillna(x.median()))\n",
    "    #Filling NaN on MntSecurity_Systems and MntPremium by 0\n",
    "    df['MntSecurity_Systems'].fillna(0, inplace=True)\n",
    "    df['MntPremium'].fillna(0, inplace=True)\n",
    "    \n",
    "    #Preparation DF\n",
    "    df_prep = df.copy(deep=True)\n",
    "\n",
    "    #Loggin the Mnt Values\n",
    "    df_prep[\"logLighting\"] = np.where(df_prep[\"MntLighting\"] == 0, df_prep[\"MntLighting\"], np.log(df_prep[\"MntLighting\"]))\n",
    "    df_prep[\"logCameras\"] = np.where(df_prep[\"MntCameras\"] == 0, df_prep[\"MntCameras\"], np.log(df_prep[\"MntCameras\"]))\n",
    "    df_prep[\"logDoor_Locks\"] = np.where(df_prep[\"MntDoor_Locks\"] == 0, df_prep[\"MntDoor_Locks\"], np.log(df_prep[\"MntDoor_Locks\"]))\n",
    "    df_prep[\"logThermostats\"] = np.where(df_prep[\"MntThermostats\"] == 0, df_prep[\"MntThermostats\"], np.log(df_prep[\"MntThermostats\"]))\n",
    "    df_prep[\"logSecurity_Systems\"] = np.where(df_prep[\"MntSecurity_Systems\"] == 0, df_prep[\"MntSecurity_Systems\"], np.log(df_prep[\"MntSecurity_Systems\"]))\n",
    "    df_prep[\"logPremium\"] = np.where(df_prep[\"MntPremium\"] == 0, df_prep[\"MntPremium\"], np.log(df_prep[\"MntPremium\"]))\n",
    "\n",
    "    #Creating a column with the sum of the Mnt Values\n",
    "    df_prep[\"MntTotal\"] = df_prep[\"MntLighting\"] + df_prep[\"MntCameras\"] + df_prep[\"MntDoor_Locks\"] + df_prep[\"MntThermostats\"] + df_prep[\"MntSecurity_Systems\"] + df_prep[\"MntPremium\"]\n",
    "    df_prep[\"logTotal\"] = df_prep[\"logLighting\"] + df_prep[\"logCameras\"] + df_prep[\"logDoor_Locks\"] + df_prep[\"logThermostats\"] + df_prep[\"logSecurity_Systems\"] + df_prep[\"logPremium\"]\n",
    "\n",
    "    incomeCap = 150000\n",
    "    df_prep = df_prep[df_prep[\"Income\"] < incomeCap]\n",
    "\n",
    "    #Summing the Acceptance Campaigns\n",
    "    df_prep[\"AcceptCmpTotal\"] = df_prep[\"AcceptedCmp2\"] + df_prep[\"AcceptedCmp3\"] + df_prep[\"AcceptedCmp4\"] + df_prep[\"AcceptedCmp5\"]\n",
    "\n",
    "    #Encoding categorica columns\n",
    "    # Enconding the columns that are strings or categorical\n",
    "    colsToEncode = [\"Education\", \"Marital_Status\"]\n",
    "    dummies = pd.get_dummies(df_prep[colsToEncode])\n",
    "    df_prep = pd.concat([df_prep, dummies], axis=1)\n",
    "\n",
    "    #Droping original columns\n",
    "    df_prep.drop(cols_to_drop, axis=1, inplace=True)\n",
    "\n",
    "    return df_prep"
   ]
  },
  {
   "cell_type": "code",
   "execution_count": 18,
   "metadata": {},
   "outputs": [
    {
     "output_type": "stream",
     "name": "stderr",
     "text": [
      "/Users/lagonick/opt/anaconda3/lib/python3.7/site-packages/openpyxl/styles/stylesheet.py:214: UserWarning: Workbook contains no default style, apply openpyxl's default\n",
      "  warn(\"Workbook contains no default style, apply openpyxl's default\")\n",
      "/Users/lagonick/opt/anaconda3/lib/python3.7/site-packages/pandas/core/arraylike.py:358: RuntimeWarning: divide by zero encountered in log\n",
      "  result = getattr(ufunc, method)(*inputs, **kwargs)\n",
      "/Users/lagonick/opt/anaconda3/lib/python3.7/site-packages/pandas/core/arraylike.py:358: RuntimeWarning: divide by zero encountered in log\n",
      "  result = getattr(ufunc, method)(*inputs, **kwargs)\n",
      "/Users/lagonick/opt/anaconda3/lib/python3.7/site-packages/pandas/core/arraylike.py:358: RuntimeWarning: divide by zero encountered in log\n",
      "  result = getattr(ufunc, method)(*inputs, **kwargs)\n",
      "/Users/lagonick/opt/anaconda3/lib/python3.7/site-packages/pandas/core/arraylike.py:358: RuntimeWarning: divide by zero encountered in log\n",
      "  result = getattr(ufunc, method)(*inputs, **kwargs)\n",
      "/Users/lagonick/opt/anaconda3/lib/python3.7/site-packages/pandas/core/arraylike.py:358: RuntimeWarning: divide by zero encountered in log\n",
      "  result = getattr(ufunc, method)(*inputs, **kwargs)\n",
      "/Users/lagonick/opt/anaconda3/lib/python3.7/site-packages/pandas/core/arraylike.py:358: RuntimeWarning: divide by zero encountered in log\n",
      "  result = getattr(ufunc, method)(*inputs, **kwargs)\n"
     ]
    }
   ],
   "source": [
    "campaign = \"Group35_SmartHome_Campaign.xlsx\"\n",
    "\n",
    "df_campaign = dataProcessing(campaign)"
   ]
  },
  {
   "cell_type": "code",
   "execution_count": 19,
   "metadata": {},
   "outputs": [
    {
     "output_type": "stream",
     "name": "stdout",
     "text": [
      "<class 'pandas.core.frame.DataFrame'>\nInt64Index: 2492 entries, 350001144 to 350011119\nData columns (total 30 columns):\n #   Column                   Non-Null Count  Dtype  \n---  ------                   --------------  -----  \n 0   Income                   2492 non-null   float64\n 1   Recency                  2492 non-null   int64  \n 2   NumDealsPurchases        2492 non-null   int64  \n 3   NumWebPurchases          2492 non-null   int64  \n 4   NumCatalogPurchases      2492 non-null   int64  \n 5   NumStorePurchases        2492 non-null   int64  \n 6   NumWebVisitsMonth        2492 non-null   int64  \n 7   AcceptedCmp1             2492 non-null   int64  \n 8   Complain                 2492 non-null   int64  \n 9   DepVar                   2492 non-null   int64  \n 10  Age                      2492 non-null   int64  \n 11  DaysAsCustomer           2492 non-null   int64  \n 12  Children                 2492 non-null   int64  \n 13  logLighting              2492 non-null   float64\n 14  logCameras               2492 non-null   float64\n 15  logDoor_Locks            2492 non-null   float64\n 16  logThermostats           2492 non-null   float64\n 17  logSecurity_Systems      2492 non-null   float64\n 18  logPremium               2492 non-null   float64\n 19  logTotal                 2492 non-null   float64\n 20  AcceptCmpTotal           2492 non-null   int64  \n 21  Education_2n Cycle       2492 non-null   uint8  \n 22  Education_Graduation     2492 non-null   uint8  \n 23  Education_Master         2492 non-null   uint8  \n 24  Education_PhD            2492 non-null   uint8  \n 25  Marital_Status_Divorced  2492 non-null   uint8  \n 26  Marital_Status_Married   2492 non-null   uint8  \n 27  Marital_Status_Single    2492 non-null   uint8  \n 28  Marital_Status_Together  2492 non-null   uint8  \n 29  Marital_Status_Widow     2492 non-null   uint8  \ndtypes: float64(8), int64(13), uint8(9)\nmemory usage: 450.2 KB\n"
     ]
    }
   ],
   "source": [
    "df_campaign.info()"
   ]
  },
  {
   "source": [
    "<h1>Modeling</h1>"
   ],
   "cell_type": "markdown",
   "metadata": {}
  },
  {
   "cell_type": "code",
   "execution_count": 20,
   "metadata": {},
   "outputs": [],
   "source": [
    "from sklearn import preprocessing\n",
    "from sklearn.model_selection import train_test_split\n",
    "from sklearn import metrics\n",
    "from sklearn.model_selection import learning_curve\n",
    "from sklearn import tree\n",
    "from sklearn.metrics import classification_report, confusion_matrix"
   ]
  },
  {
   "source": [
    "<h4>Useful Functions</h4>"
   ],
   "cell_type": "markdown",
   "metadata": {}
  },
  {
   "cell_type": "code",
   "execution_count": 21,
   "metadata": {},
   "outputs": [],
   "source": [
    "def get_revenue(y_test, y_pred, revenue, cost):\n",
    "    from sklearn.metrics import confusion_matrix \n",
    "    cm = confusion_matrix(y_test, y_pred)\n",
    "    total_revenue = (cm[1][1]) * revenue\n",
    "    return total_revenue"
   ]
  },
  {
   "cell_type": "code",
   "execution_count": 22,
   "metadata": {},
   "outputs": [],
   "source": [
    "def get_profit(y_test, y_pred, revenue, cost):\n",
    "    from sklearn.metrics import confusion_matrix \n",
    "    cm = confusion_matrix(y_test, y_pred)\n",
    "    total_cost = (cm[0][1] + cm[1][1]) * cost\n",
    "    total_revenue = (cm[1][1]) * revenue\n",
    "    profit = total_revenue - total_cost\n",
    "    return profit"
   ]
  },
  {
   "cell_type": "code",
   "execution_count": 23,
   "metadata": {},
   "outputs": [],
   "source": [
    "def get_cost(y_test, y_pred, revenue, cost):\n",
    "    from sklearn.metrics import confusion_matrix \n",
    "    cm = confusion_matrix(y_test, y_pred)\n",
    "    total_cost = (cm[0][1] + cm[1][1]) * cost\n",
    "    return total_cost"
   ]
  },
  {
   "cell_type": "code",
   "execution_count": 24,
   "metadata": {},
   "outputs": [],
   "source": [
    "def get_roi(y_test, y_pred, revenue, cost):\n",
    "    from sklearn.metrics import confusion_matrix \n",
    "    cm = confusion_matrix(y_test, y_pred)\n",
    "    total_cost = (cm[0][1] + cm[1][1]) * cost\n",
    "    total_revenue = (cm[1][1]) * revenue\n",
    "    roi = (total_revenue / total_cost) * 100\n",
    "    return roi"
   ]
  },
  {
   "source": [
    "<h3>X & y | Train/Test Split</h3>"
   ],
   "cell_type": "markdown",
   "metadata": {}
  },
  {
   "cell_type": "code",
   "execution_count": 25,
   "metadata": {},
   "outputs": [],
   "source": [
    "X = df_campaign.copy(deep=True)\n",
    "\n",
    "y = X[\"DepVar\"]\n",
    "\n",
    "X.drop(\"DepVar\", axis=1, inplace=True)"
   ]
  },
  {
   "cell_type": "code",
   "execution_count": 26,
   "metadata": {},
   "outputs": [],
   "source": [
    "# Split the dataset intro train and test\n",
    "X_train, X_test, y_train, y_test = train_test_split(X, y, train_size = 0.75, test_size = 0.25, random_state = 123, stratify=y)"
   ]
  },
  {
   "source": [
    "<h3>Learning Courve - Tunning the Model</h3>\n",
    "<p>In this phase, we will find the best tunning to our Decision Tree. We will twist three main elements:</p>\n",
    "<ul>\n",
    "    <li>Maximum Tree Depth: </li>\n",
    "    <li>Min Samples per Leaf: </li>\n",
    "    <li>Classifier Threshold: </li>\n",
    "</ul>"
   ],
   "cell_type": "markdown",
   "metadata": {}
  },
  {
   "cell_type": "code",
   "execution_count": 27,
   "metadata": {},
   "outputs": [],
   "source": [
    "#Best number of depth and leaf\n",
    "\n",
    "# Create an empty dataframe for the resuls\n",
    "treePerformance = pd.DataFrame({'Max_Depth': pd.Series([], dtype='string'),\n",
    "                             'Threshold': pd.Series([], dtype='string'),\n",
    "                             'Min_Samples_Leaf': pd.Series([], dtype='string'),\n",
    "                             'Revenue': pd.Series([], dtype='float64'),\n",
    "                             'Cost': pd.Series([], dtype='float64'),\n",
    "                             'Profit': pd.Series([], dtype='float64'),\n",
    "                             'ROI': pd.Series([], dtype='float64')\n",
    "                             })\n",
    "\n",
    "D = range(3,15)\n",
    "for d in D:\n",
    "    L = range(1,8)\n",
    "\n",
    "    for l in L:\n",
    "        T = range(3,6)\n",
    "        for t in T:\n",
    "            t = t/10\n",
    "\n",
    "            dt_regr = tree.DecisionTreeClassifier(random_state=123, max_depth=d, min_samples_leaf=l)\n",
    "            dt_regr.fit(X_train, y_train)\n",
    "            model = dt_regr.fit(X_train, y_train)\n",
    "\n",
    "            # predict y for X_train and X_test\n",
    "            y_pred_train = (dt_regr.predict_proba(X_train)[:,1] >= t).astype(bool)\n",
    "            y_pred_test = (dt_regr.predict_proba(X_test)[:,1] >= t).astype(bool)\n",
    "\n",
    "            rev = get_revenue(y_test, y_pred_test, 14, 4)\n",
    "            cost = get_cost(y_test, y_pred_test, 14, 4)\n",
    "            profity = get_profit(y_test, y_pred_test, 14, 4)\n",
    "            roi = get_roi(y_test, y_pred_test, 14, 4)\n",
    "\n",
    "            treePerformance = treePerformance.append({'Max_Depth': d,\n",
    "                                'Threshold': t,\n",
    "                                'Min_Samples_Leaf': l,\n",
    "                                'Revenue': rev,\n",
    "                                'Cost': cost,\n",
    "                                'Profit': profity,\n",
    "                                'ROI': roi\n",
    "                                }, ignore_index=True)"
   ]
  },
  {
   "cell_type": "code",
   "execution_count": 30,
   "metadata": {},
   "outputs": [
    {
     "output_type": "execute_result",
     "data": {
      "text/plain": [
       "     Max_Depth  Threshold  Min_Samples_Leaf  Revenue   Cost  Profit  \\\n",
       "0          3.0        0.3               1.0    756.0  508.0   248.0   \n",
       "1          3.0        0.4               1.0    448.0  216.0   232.0   \n",
       "2          3.0        0.5               1.0    196.0   84.0   112.0   \n",
       "3          3.0        0.3               2.0    756.0  508.0   248.0   \n",
       "4          3.0        0.4               2.0    448.0  216.0   232.0   \n",
       "..         ...        ...               ...      ...    ...     ...   \n",
       "247       14.0        0.4               6.0    574.0  360.0   214.0   \n",
       "248       14.0        0.5               6.0    574.0  360.0   214.0   \n",
       "249       14.0        0.3               7.0    532.0  372.0   160.0   \n",
       "250       14.0        0.4               7.0    490.0  312.0   178.0   \n",
       "251       14.0        0.5               7.0    476.0  276.0   200.0   \n",
       "\n",
       "            ROI  \n",
       "0    148.818898  \n",
       "1    207.407407  \n",
       "2    233.333333  \n",
       "3    148.818898  \n",
       "4    207.407407  \n",
       "..          ...  \n",
       "247  159.444444  \n",
       "248  159.444444  \n",
       "249  143.010753  \n",
       "250  157.051282  \n",
       "251  172.463768  \n",
       "\n",
       "[252 rows x 7 columns]"
      ],
      "text/html": "<div>\n<style scoped>\n    .dataframe tbody tr th:only-of-type {\n        vertical-align: middle;\n    }\n\n    .dataframe tbody tr th {\n        vertical-align: top;\n    }\n\n    .dataframe thead th {\n        text-align: right;\n    }\n</style>\n<table border=\"1\" class=\"dataframe\">\n  <thead>\n    <tr style=\"text-align: right;\">\n      <th></th>\n      <th>Max_Depth</th>\n      <th>Threshold</th>\n      <th>Min_Samples_Leaf</th>\n      <th>Revenue</th>\n      <th>Cost</th>\n      <th>Profit</th>\n      <th>ROI</th>\n    </tr>\n  </thead>\n  <tbody>\n    <tr>\n      <th>0</th>\n      <td>3.0</td>\n      <td>0.3</td>\n      <td>1.0</td>\n      <td>756.0</td>\n      <td>508.0</td>\n      <td>248.0</td>\n      <td>148.818898</td>\n    </tr>\n    <tr>\n      <th>1</th>\n      <td>3.0</td>\n      <td>0.4</td>\n      <td>1.0</td>\n      <td>448.0</td>\n      <td>216.0</td>\n      <td>232.0</td>\n      <td>207.407407</td>\n    </tr>\n    <tr>\n      <th>2</th>\n      <td>3.0</td>\n      <td>0.5</td>\n      <td>1.0</td>\n      <td>196.0</td>\n      <td>84.0</td>\n      <td>112.0</td>\n      <td>233.333333</td>\n    </tr>\n    <tr>\n      <th>3</th>\n      <td>3.0</td>\n      <td>0.3</td>\n      <td>2.0</td>\n      <td>756.0</td>\n      <td>508.0</td>\n      <td>248.0</td>\n      <td>148.818898</td>\n    </tr>\n    <tr>\n      <th>4</th>\n      <td>3.0</td>\n      <td>0.4</td>\n      <td>2.0</td>\n      <td>448.0</td>\n      <td>216.0</td>\n      <td>232.0</td>\n      <td>207.407407</td>\n    </tr>\n    <tr>\n      <th>...</th>\n      <td>...</td>\n      <td>...</td>\n      <td>...</td>\n      <td>...</td>\n      <td>...</td>\n      <td>...</td>\n      <td>...</td>\n    </tr>\n    <tr>\n      <th>247</th>\n      <td>14.0</td>\n      <td>0.4</td>\n      <td>6.0</td>\n      <td>574.0</td>\n      <td>360.0</td>\n      <td>214.0</td>\n      <td>159.444444</td>\n    </tr>\n    <tr>\n      <th>248</th>\n      <td>14.0</td>\n      <td>0.5</td>\n      <td>6.0</td>\n      <td>574.0</td>\n      <td>360.0</td>\n      <td>214.0</td>\n      <td>159.444444</td>\n    </tr>\n    <tr>\n      <th>249</th>\n      <td>14.0</td>\n      <td>0.3</td>\n      <td>7.0</td>\n      <td>532.0</td>\n      <td>372.0</td>\n      <td>160.0</td>\n      <td>143.010753</td>\n    </tr>\n    <tr>\n      <th>250</th>\n      <td>14.0</td>\n      <td>0.4</td>\n      <td>7.0</td>\n      <td>490.0</td>\n      <td>312.0</td>\n      <td>178.0</td>\n      <td>157.051282</td>\n    </tr>\n    <tr>\n      <th>251</th>\n      <td>14.0</td>\n      <td>0.5</td>\n      <td>7.0</td>\n      <td>476.0</td>\n      <td>276.0</td>\n      <td>200.0</td>\n      <td>172.463768</td>\n    </tr>\n  </tbody>\n</table>\n<p>252 rows × 7 columns</p>\n</div>"
     },
     "metadata": {},
     "execution_count": 30
    }
   ],
   "source": [
    "treePerformance"
   ]
  },
  {
   "source": [
    "<h3>Create Model</h3>"
   ],
   "cell_type": "markdown",
   "metadata": {}
  },
  {
   "cell_type": "code",
   "execution_count": 28,
   "metadata": {},
   "outputs": [
    {
     "output_type": "execute_result",
     "data": {
      "text/plain": [
       "DecisionTreeClassifier(max_depth=8, min_samples_leaf=3, random_state=123)"
      ]
     },
     "metadata": {},
     "execution_count": 28
    }
   ],
   "source": [
    "# Create and train the model\n",
    "dt_regr = tree.DecisionTreeClassifier(random_state=123, max_depth=8, min_samples_leaf=3)\n",
    "dt_regr.fit(X_train, y_train)"
   ]
  },
  {
   "source": [
    "<h3>Prediction (y_test, y_train)</h3>"
   ],
   "cell_type": "markdown",
   "metadata": {}
  },
  {
   "cell_type": "code",
   "execution_count": 29,
   "metadata": {},
   "outputs": [],
   "source": [
    "model = dt_regr.fit(X_train, y_train)\n",
    "\n",
    "# predict y for X_train and X_test\n",
    "y_pred_train = (dt_regr.predict_proba(X_train)[:,1] >= 0.5).astype(bool)\n",
    "y_pred_test = (dt_regr.predict_proba(X_test)[:,1] >= 0.5).astype(bool)"
   ]
  },
  {
   "source": [
    "<h2>Evaluate the Model</h2>"
   ],
   "cell_type": "markdown",
   "metadata": {}
  },
  {
   "cell_type": "code",
   "execution_count": null,
   "metadata": {},
   "outputs": [],
   "source": []
  }
 ]
}