{
 "metadata": {
  "language_info": {
   "codemirror_mode": {
    "name": "ipython",
    "version": 3
   },
   "file_extension": ".py",
   "mimetype": "text/x-python",
   "name": "python",
   "nbconvert_exporter": "python",
   "pygments_lexer": "ipython3",
   "version": "3.7.6-final"
  },
  "orig_nbformat": 2,
  "kernelspec": {
   "name": "python3",
   "display_name": "Python 3",
   "language": "python"
  }
 },
 "nbformat": 4,
 "nbformat_minor": 2,
 "cells": [
  {
   "source": [
    "# API demo\n",
    "## Twitter\n",
    "### Changes may be required due to content update\n",
    "\n",
    "(c) Nuno António 2020 - Rev. 1.00"
   ],
   "cell_type": "markdown",
   "metadata": {}
  },
  {
   "source": [
    "### Load packages and do the initializations"
   ],
   "cell_type": "markdown",
   "metadata": {}
  },
  {
   "cell_type": "code",
   "execution_count": 1,
   "metadata": {},
   "outputs": [],
   "source": [
    "# Load libraries\n",
    "import numpy as np\n",
    "import pandas as pd\n",
    "import tweepy"
   ]
  },
  {
   "source": [
    "### Functions"
   ],
   "cell_type": "markdown",
   "metadata": {}
  },
  {
   "cell_type": "code",
   "execution_count": 2,
   "metadata": {},
   "outputs": [],
   "source": [
    "# Get value of non mandatory objects\n",
    "# All that are not \"Nullable\" may be optional - check https://developer.twitter.com/en/docs/twitter-api/v1/data-dictionary/object-model/tweet\n",
    "def notMandatoryObjects(objName,valueIfNotExists):\n",
    "    try:\n",
    "        returnValue = eval(objName)\n",
    "    except:\n",
    "        returnValue=valueIfNotExists\n",
    "    return returnValue"
   ]
  },
  {
   "source": [
    "### Search definitions\n",
    "For details on how to build seach queries and filters check:\n",
    "- https://developer.twitter.com/en/docs/twitter-api/v1/rules-and-filtering/build-standard-queries\n",
    "- https://developer.twitter.com/en/docs/twitter-api/v1/rules-and-filtering/search-operators\n",
    "\n"
   ],
   "cell_type": "markdown",
   "metadata": {}
  },
  {
   "cell_type": "code",
   "execution_count": 3,
   "metadata": {},
   "outputs": [],
   "source": [
    "# Terms to search\n",
    "searchQuery = '#Mercedes'"
   ]
  },
  {
   "cell_type": "code",
   "execution_count": 4,
   "metadata": {},
   "outputs": [],
   "source": [
    "# First date\n",
    "beginDate = '2018-01-01'"
   ]
  },
  {
   "cell_type": "code",
   "execution_count": 5,
   "metadata": {},
   "outputs": [],
   "source": [
    "# Language\n",
    "lang = 'en'"
   ]
  },
  {
   "cell_type": "code",
   "execution_count": 6,
   "metadata": {},
   "outputs": [],
   "source": [
    "# Apply a filter not to get retweets\n",
    "filter = ' -filter:retweets'"
   ]
  },
  {
   "source": [
    "### Do the search\n",
    "\n",
    "For aditional information on search parameters see:\n",
    "- **Tweepy**: https://docs.tweepy.org/en/latest/api.html\n",
    "- **Tweeter**: https://developer.twitter.com/en/docs/twitter-api/v1/tweets/search/api-reference/get-search-tweets"
   ],
   "cell_type": "markdown",
   "metadata": {}
  },
  {
   "cell_type": "code",
   "execution_count": 7,
   "metadata": {},
   "outputs": [],
   "source": [
    "# Access details - REPLACE BY OUR ACCOUNT\n",
    "api_key = 'TyuWQYw6lNoiJbVbjK41RliFu'\n",
    "api_key_secret = 'NIkebR4wGeuSOJHXd0wgwh2Hchj20VWPYGtbtzVmEAvAyjMhrl' \n",
    "access_token = '32232880-tNMUJ9fhHM1mGIsAyoWy3wwnTtOJ3Hq3lze8dVuK3'\n",
    "access_token_secret = 'JgxubU0DhNY8OzJqDK9Q344fAAvlsogeLcBb6kcMAOzhX'\n",
    "\n",
    "auth = tweepy.OAuthHandler(api_key, api_key_secret)\n",
    "auth.set_access_token(access_token, access_token_secret)"
   ]
  },
  {
   "cell_type": "code",
   "execution_count": 8,
   "metadata": {},
   "outputs": [],
   "source": [
    "# Create the API endpoint with the indication to wait if rate limits are exceeded\n",
    "api = tweepy.API(auth, wait_on_rate_limit=True)"
   ]
  },
  {
   "cell_type": "code",
   "execution_count": 9,
   "metadata": {},
   "outputs": [],
   "source": [
    "# Create an empty list for tweets\n",
    "tws = []"
   ]
  },
  {
   "cell_type": "code",
   "execution_count": 10,
   "metadata": {},
   "outputs": [],
   "source": [
    "# Define the maximum number of tweets to retrieve\n",
    "max_tweets = 300\n",
    "\n",
    "# Query text\n",
    "q = searchQuery+' '+filter\n",
    "\n",
    "# Loop for each 100 (due to the limitations)\n",
    "for tweet in tweepy.Cursor(api.search,\n",
    "                            q=q,\n",
    "                            rpp=100,\n",
    "                            lang=lang,\n",
    "                            since=beginDate).items(max_tweets):\n",
    "\n",
    "    # Create a list with each tweet data and metadata\n",
    "    # For information on additional fields check https://developer.twitter.com/en/docs/twitter-api/v1/data-dictionary/object-model/tweet\n",
    "    tw = [tweet.text,\n",
    "          tweet.user.screen_name,\n",
    "          tweet.user.followers_count,\n",
    "          tweet.source_url,\n",
    "          tweet.created_at,\n",
    "          notMandatoryObjects(\"tweet.reply_count\",0),\n",
    "          notMandatoryObjects(\"tweet.retweet_count\",0),\n",
    "          tweet.favorite_count]\n",
    "    \n",
    "    # Transform to tuple and append it to the list of tweets to facilite the posterior transformation to a dataframe\n",
    "    tw = tuple(tw)\n",
    "    tws.append(tw)\n",
    "\n",
    "# Create the dataframe\n",
    "tweetsDF = pd.DataFrame(tws, columns=['text',\n",
    "                                      'user screen name',\n",
    "                                      'user followers',\n",
    "                                      'url',\n",
    "                                      'created at',\n",
    "                                      'replies',\n",
    "                                      'retweets',\n",
    "                                      'likes'\n",
    "                        ])"
   ]
  },
  {
   "source": [
    "### Save results"
   ],
   "cell_type": "markdown",
   "metadata": {}
  },
  {
   "cell_type": "code",
   "execution_count": 11,
   "metadata": {},
   "outputs": [],
   "source": [
    "# Save the extracted tweets to an Excel file\n",
    "tweetsDF.to_excel(\"Tweets.xlsx\", index=False)"
   ]
  }
 ]
}