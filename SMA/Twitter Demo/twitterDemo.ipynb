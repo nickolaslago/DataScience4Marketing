{
 "metadata": {
  "language_info": {
   "codemirror_mode": {
    "name": "ipython",
    "version": 3
   },
   "file_extension": ".py",
   "mimetype": "text/x-python",
   "name": "python",
   "nbconvert_exporter": "python",
   "pygments_lexer": "ipython3",
   "version": "3.7.6-final"
  },
  "orig_nbformat": 2,
  "kernelspec": {
   "name": "python3",
   "display_name": "Python 3.7.6 64-bit ('base': conda)",
   "metadata": {
    "interpreter": {
     "hash": "f30a98447ab0ce6ed2c42a906dd8ff7c3035168d8630597903509f729a93be92"
    }
   }
  }
 },
 "nbformat": 4,
 "nbformat_minor": 2,
 "cells": [
  {
   "cell_type": "code",
   "execution_count": 1,
   "metadata": {},
   "outputs": [],
   "source": [
    "import pandas as pd\n",
    "import numpy as np\n",
    "import json\n",
    "import tweepy"
   ]
  },
  {
   "cell_type": "code",
   "execution_count": 2,
   "metadata": {},
   "outputs": [],
   "source": [
    "api_key = 'TyuWQYw6lNoiJbVbjK41RliFu'\n",
    "api_key_secret = 'NIkebR4wGeuSOJHXd0wgwh2Hchj20VWPYGtbtzVmEAvAyjMhrl' \n",
    "access_token = '32232880-tNMUJ9fhHM1mGIsAyoWy3wwnTtOJ3Hq3lze8dVuK3'\n",
    "access_token_secret = 'JgxubU0DhNY8OzJqDK9Q344fAAvlsogeLcBb6kcMAOzhX'"
   ]
  },
  {
   "cell_type": "code",
   "execution_count": null,
   "metadata": {},
   "outputs": [],
   "source": []
  }
 ]
}