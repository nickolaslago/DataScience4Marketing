{
 "metadata": {
  "language_info": {
   "codemirror_mode": {
    "name": "ipython",
    "version": 3
   },
   "file_extension": ".py",
   "mimetype": "text/x-python",
   "name": "python",
   "nbconvert_exporter": "python",
   "pygments_lexer": "ipython3",
   "version": "3.7.6-final"
  },
  "orig_nbformat": 2,
  "kernelspec": {
   "name": "python3",
   "display_name": "Python 3.7.6 64-bit ('base': conda)",
   "metadata": {
    "interpreter": {
     "hash": "f30a98447ab0ce6ed2c42a906dd8ff7c3035168d8630597903509f729a93be92"
    }
   }
  }
 },
 "nbformat": 4,
 "nbformat_minor": 2,
 "cells": [
  {
   "cell_type": "code",
   "execution_count": 1,
   "metadata": {},
   "outputs": [],
   "source": [
    "import pandas as pd\n",
    "import numpy as np\n",
    "import json\n",
    "import tweepy"
   ]
  },
  {
   "cell_type": "code",
   "execution_count": 2,
   "metadata": {},
   "outputs": [],
   "source": [
    "api_key = 'TyuWQYw6lNoiJbVbjK41RliFu'\n",
    "api_key_secret = 'NIkebR4wGeuSOJHXd0wgwh2Hchj20VWPYGtbtzVmEAvAyjMhrl' \n",
    "access_token = '32232880-tNMUJ9fhHM1mGIsAyoWy3wwnTtOJ3Hq3lze8dVuK3'\n",
    "access_token_secret = 'JgxubU0DhNY8OzJqDK9Q344fAAvlsogeLcBb6kcMAOzhX'"
   ]
  },
  {
   "cell_type": "code",
   "execution_count": 3,
   "metadata": {},
   "outputs": [],
   "source": [
    "#Creating auth object\n",
    "auth = tweepy.OAuthHandler(api_key, api_key_secret)\n",
    "auth.set_access_token(access_token, access_token_secret)"
   ]
  },
  {
   "cell_type": "code",
   "execution_count": 4,
   "metadata": {},
   "outputs": [],
   "source": [
    "#Call to Tweepy API\n",
    "api = tweepy.API(auth)"
   ]
  },
  {
   "cell_type": "code",
   "execution_count": 6,
   "metadata": {},
   "outputs": [],
   "source": [
    "# Check our timeline\n",
    "\n",
    "public_tweets = api.home_timeline()"
   ]
  },
  {
   "cell_type": "code",
   "execution_count": 7,
   "metadata": {},
   "outputs": [
    {
     "output_type": "execute_result",
     "data": {
      "text/plain": [
       "r': '000000', 'profile_text_color': '000000', 'profile_use_background_image': False, 'has_extended_profile': False, 'default_profile': False, 'default_profile_image': False, 'following': False, 'follow_request_sent': False, 'notifications': False, 'translator_type': 'none'}, 'geo': None, 'coordinates': None, 'place': None, 'contributors': None, 'is_quote_status': False, 'retweet_count': 8, 'favorite_count': 35, 'favorited': False, 'retweeted': False, 'possibly_sensitive': False, 'possibly_sensitive_appealable': False, 'lang': 'en'}, 'is_quote_status': False, 'retweet_count': 8, 'favorite_count': 0, 'favorited': False, 'retweeted': False, 'lang': 'en'}, created_at=datetime.datetime(2021, 3, 26, 18, 55, 25), id=1375521788877234179, id_str='1375521788877234179', text='RT @JamesFallows: An under-appreciated role of journalism is to introduce you to topics / questions / challenges you’d actually not thought…', truncated=False, entities={'hashtags': [], 'symbols': [], 'user_mentions': [{'screen_name': 'JamesFallows', 'name': 'James Fallows', 'id': 24789175, 'id_str': '24789175', 'indices': [3, 16]}], 'urls': []}, source='TweetDeck', source_url='https://about.twitter.com/products/tweetdeck', in_reply_to_status_id=None, in_reply_to_status_id_str=None, in_reply_to_user_id=None, in_reply_to_user_id_str=None, in_reply_to_screen_name=None, author=User(_api=<tweepy.api.API object at 0x7fe0c30127d0>, _json={'id': 35773039, 'id_str': '35773039', 'name': 'The Atlantic', 'screen_name': 'TheAtlantic', 'location': 'Washington, D.C.', 'description': 'Politics, culture, business, science, technology, health, education, global affairs, more. For assistance, visit https://t.co/j2epQBorJZ', 'url': 'http://t.co/pI6FUBgQdl', 'entities': {'url': {'urls': [{'url': 'http://t.co/pI6FUBgQdl', 'expanded_url': 'http://www.theatlantic.com', 'display_url': 'theatlantic.com', 'indices': [0, 22]}]}, 'description': {'urls': [{'url': 'https://t.co/j2epQBorJZ', 'expanded_url': 'http://theatlantic.com/help', 'display_url': 'theatlantic.com/help', 'indices': [113, 136]}]}}, 'protected': False, 'followers_count': 2105545, 'friends_count': 1056, 'listed_count': 30559, 'created_at': 'Mon Apr 27 15:41:54 +0000 2009', 'favourites_count': 434, 'utc_offset': None, 'time_zone': None, 'geo_enabled': False, 'verified': True, 'statuses_count': 192497, 'lang': None, 'contributors_enabled': False, 'is_translator': False, 'is_translation_enabled': True, 'profile_background_color': '000000', 'profile_background_image_url': 'http://abs.twimg.com/images/themes/theme1/bg.png', 'profile_background_image_url_https': 'https://abs.twimg.com/images/themes/theme1/bg.png', 'profile_background_tile': False, 'profile_image_url': 'http://pbs.twimg.com/profile_images/1194197788273315845/AA0O_yzc_normal.jpg', 'profile_image_url_https': 'https://pbs.twimg.com/profile_images/1194197788273315845/AA0O_yzc_normal.jpg', 'profile_banner_url': 'https://pbs.twimg.com/profile_banners/35773039/1573659023', 'profile_link_color': '000000', 'profile_sidebar_border_color': 'BFBFBF', 'profile_sidebar_fill_color': 'E6ECF2', 'profile_text_color': '000408', 'profile_use_background_image': False, 'has_extended_profile': False, 'default_profile': False, 'default_profile_image': False, 'following': True, 'follow_request_sent': False, 'notifications': False, 'translator_type': 'none'}, id=35773039, id_str='35773039', name='The Atlantic', screen_name='TheAtlantic', location='Washington, D.C.', description='Politics, culture, business, science, technology, health, education, global affairs, more. For assistance, visit https://t.co/j2epQBorJZ', url='http://t.co/pI6FUBgQdl', entities={'url': {'urls': [{'url': 'http://t.co/pI6FUBgQdl', 'expanded_url': 'http://www.theatlantic.com', 'display_url': 'theatlantic.com', 'indices': [0, 22]}]}, 'description': {'urls': [{'url': 'https://t.co/j2epQBorJZ', 'expanded_url': 'http://theatlantic.com/help', 'display_url': 'theatlantic.com/help', 'indices': [113, 136]}]}}, protected=False, followers_count=2105545, friends_count=1056, listed_count=30559, created_at=datetime.datetime(2009, 4, 27, 15, 41, 54), favourites_count=434, utc_offset=None, time_zone=None, geo_enabled=False, verified=True, statuses_count=192497, lang=None, contributors_enabled=False, is_translator=False, is_translation_enabled=True, profile_background_color='000000', profile_background_image_url='http://abs.twimg.com/images/themes/theme1/bg.png', profile_background_image_url_https='https://abs.twimg.com/images/themes/theme1/bg.png', profile_background_tile=False, profile_image_url='http://pbs.twimg.com/profile_images/1194197788273315845/AA0O_yzc_normal.jpg', profile_image_url_https='https://pbs.twimg.com/profile_images/1194197788273315845/AA0O_yzc_normal.jpg', profile_banner_url='https://pbs.twimg.com/profile_banners/35773039/1573659023', profile_link_color='000000', profile_sidebar_border_color='BFBFBF', profile_sidebar_fill_color='E6ECF2', profile_text_color='000408', profile_use_background_image=False, has_extended_profile=False, default_profile=False, default_profile_image=False, following=True, follow_request_sent=False, notifications=False, translator_type='none'), user=User(_api=<tweepy.api.API object at 0x7fe0c30127d0>, _json={'id': 35773039, 'id_str': '35773039', 'name': 'The Atlantic', 'screen_name': 'TheAtlantic', 'location': 'Washington, D.C.', 'description': 'Politics, culture, business, science, technology, health, education, global affairs, more. For assistance, visit https://t.co/j2epQBorJZ', 'url': 'http://t.co/pI6FUBgQdl', 'entities': {'url': {'urls': [{'url': 'http://t.co/pI6FUBgQdl', 'expanded_url': 'http://www.theatlantic.com', 'display_url': 'theatlantic.com', 'indices': [0, 22]}]}, 'description': {'urls': [{'url': 'https://t.co/j2epQBorJZ', 'expanded_url': 'http://theatlantic.com/help', 'display_url': 'theatlantic.com/help', 'indices': [113, 136]}]}}, 'protected': False, 'followers_count': 2105545, 'friends_count': 1056, 'listed_count': 30559, 'created_at': 'Mon Apr 27 15:41:54 +0000 2009', 'favourites_count': 434, 'utc_offset': None, 'time_zone': None, 'geo_enabled': False, 'verified': True, 'statuses_count': 192497, 'lang': None, 'contributors_enabled': False, 'is_translator': False, 'is_translation_enabled': True, 'profile_background_color': '000000', 'profile_background_image_url': 'http://abs.twimg.com/images/themes/theme1/bg.png', 'profile_background_image_url_https': 'https://abs.twimg.com/images/themes/theme1/bg.png', 'profile_background_tile': False, 'profile_image_url': 'http://pbs.twimg.com/profile_images/1194197788273315845/AA0O_yzc_normal.jpg', 'profile_image_url_https': 'https://pbs.twimg.com/profile_images/1194197788273315845/AA0O_yzc_normal.jpg', 'profile_banner_url': 'https://pbs.twimg.com/profile_banners/35773039/1573659023', 'profile_link_color': '000000', 'profile_sidebar_border_color': 'BFBFBF', 'profile_sidebar_fill_color': 'E6ECF2', 'profile_text_color': '000408', 'profile_use_background_image': False, 'has_extended_profile': False, 'default_profile': False, 'default_profile_image': False, 'following': True, 'follow_request_sent': False, 'notifications': False, 'translator_type': 'none'}, id=35773039, id_str='35773039', name='The Atlantic', screen_name='TheAtlantic', location='Washington, D.C.', description='Politics, culture, business, science, technology, health, education, global affairs, more. For assistance, visit https://t.co/j2epQBorJZ', url='http://t.co/pI6FUBgQdl', entities={'url': {'urls': [{'url': 'http://t.co/pI6FUBgQdl', 'expanded_url': 'http://www.theatlantic.com', 'display_url': 'theatlantic.com', 'indices': [0, 22]}]}, 'description': {'urls': [{'url': 'https://t.co/j2epQBorJZ', 'expanded_url': 'http://theatlantic.com/help', 'display_url': 'theatlantic.com/help', 'indices': [113, 136]}]}}, protected=False, followers_count=2105545, friends_count=1056, listed_count=30559, created_at=datetime.datetime(2009, 4, 27, 15, 41, 54), favourites_count=434, utc_offset=None, time_zone=None, geo_enabled=False, verified=True, statuses_count=192497, lang=None, contributors_enabled=False, is_translator=False, is_translation_enabled=True, profile_background_color='000000', profile_background_image_url='http://abs.twimg.com/images/themes/theme1/bg.png', profile_background_image_url_https='https://abs.twimg.com/images/themes/theme1/bg.png', profile_background_tile=False, profile_image_url='http://pbs.twimg.com/profile_images/1194197788273315845/AA0O_yzc_normal.jpg', profile_image_url_https='https://pbs.twimg.com/profile_images/1194197788273315845/AA0O_yzc_normal.jpg', profile_banner_url='https://pbs.twimg.com/profile_banners/35773039/1573659023', profile_link_color='000000', profile_sidebar_border_color='BFBFBF', profile_sidebar_fill_color='E6ECF2', profile_text_color='000408', profile_use_background_image=False, has_extended_profile=False, default_profile=False, default_profile_image=False, following=True, follow_request_sent=False, notifications=False, translator_type='none'), geo=None, coordinates=None, place=None, contributors=None, retweeted_status=Status(_api=<tweepy.api.API object at 0x7fe0c30127d0>, _json={'created_at': 'Fri Mar 26 18:10:37 +0000 2021', 'id': 1375510517070979073, 'id_str': '1375510517070979073', 'text': 'An under-appreciated role of journalism is to introduce you to topics / questions / challenges you’d actually not t… https://t.co/O8chDxlzBC', 'truncated': True, 'entities': {'hashtags': [], 'symbols': [], 'user_mentions': [], 'urls': [{'url': 'https://t.co/O8chDxlzBC', 'expanded_url': 'https://twitter.com/i/web/status/1375510517070979073', 'display_url': 'twitter.com/i/web/status/1…', 'indices': [117, 140]}]}, 'source': '<a href=\"https://about.twitter.com/products/tweetdeck\" rel=\"nofollow\">TweetDeck</a>', 'in_reply_to_status_id': None, 'in_reply_to_status_id_str': None, 'in_reply_to_user_id': None, 'in_reply_to_user_id_str': None, 'in_reply_to_screen_name': None, 'user': {'id': 24789175, 'id_str': '24789175', 'name': 'James Fallows', 'screen_name': 'JamesFallows', 'location': '', 'description': \"Book w/ @FallowsDeb 'Our Towns.' Background phone-location map is where we went 2013-2018. Views here=100% personal.\", 'url': 'https://t.co/egDQMcvo0N', 'entities': {'url': {'urls': [{'url': 'https://t.co/egDQMcvo0N', 'expanded_url': 'https://www.ourtownsbook.com/', 'display_url': 'ourtownsbook.com', 'indices': [0, 23]}]}, 'description': {'urls': []}}, 'protected': False, 'followers_count': 184108, 'friends_count': 1451, 'listed_count': 4081, 'created_at': 'Mon Mar 16 22:56:03 +0000 2009', 'favourites_count': 4943, 'utc_offset': None, 'time_zone': None, 'geo_enabled': False, 'verified': True, 'statuses_count': 1436, 'lang': None, 'contributors_enabled': False, 'is_translator': False, 'is_translation_enabled': False, 'profile_background_color': '000000', 'profile_background_image_url': 'http://abs.twimg.com/images/themes/theme1/bg.png', 'profile_background_image_url_https': 'https://abs.twimg.com/images/themes/theme1/bg.png', 'profile_background_tile': False, 'profile_image_url': 'http://pbs.twimg.com/profile_images/1114949480753836032/_BZqgAUy_normal.png', 'profile_image_url_https': 'https://pbs.twimg.com/profile_images/1114949480753836032/_BZqgAUy_normal.png', 'profile_banner_url': 'https://pbs.twimg.com/profile_banners/24789175/1583691601', 'profile_link_color': '1B95E0', 'profile_sidebar_border_color': '000000', 'profile_sidebar_fill_color': '000000', 'profile_text_color': '000000', 'profile_use_background_image': False, 'has_extended_profile': False, 'default_profile': False, 'default_profile_image': False, 'following': False, 'follow_request_sent': False, 'notifications': False, 'translator_type': 'none'}, 'geo': None, 'coordinates': None, 'place': None, 'contributors': None, 'is_quote_status': False, 'retweet_count': 8, 'favorite_count': 35, 'favorited': False, 'retweeted': False, 'possibly_sensitive': False, 'possibly_sensitive_appealable': False, 'lang': 'en'}, created_at=datetime.datetime(2021, 3, 26, 18, 10, 37), id=1375510517070979073, id_str='1375510517070979073', text='An under-appreciated role of journalism is to introduce you to topics / questions / challenges you’d actually not t… https://t.co/O8chDxlzBC', truncated=True, entities={'hashtags': [], 'symbols': [], 'user_mentions': [], 'urls': [{'url': 'https://t.co/O8chDxlzBC', 'expanded_url': 'https://twitter.com/i/web/status/1375510517070979073', 'display_url': 'twitter.com/i/web/status/1…', 'indices': [117, 140]}]}, source='TweetDeck', source_url='https://about.twitter.com/products/tweetdeck', in_reply_to_status_id=None, in_reply_to_status_id_str=None, in_reply_to_user_id=None, in_reply_to_user_id_str=None, in_reply_to_screen_name=None, author=User(_api=<tweepy.api.API object at 0x7fe0c30127d0>, _json={'id': 24789175, 'id_str': '24789175', 'name': 'James Fallows', 'screen_name': 'JamesFallows', 'location': '', 'description': \"Book w/ @FallowsDeb 'Our Towns.' Background phone-location map is where we went 2013-2018. Views here=100% personal.\", 'url': 'https://t.co/egDQMcvo0N', 'entities': {'url': {'urls': [{'url': 'https://t.co/egDQMcvo0N', 'expanded_url': 'https://www.ourtownsbook.com/', 'display_url': 'ourtownsbook.com', 'indices': [0, 23]}]}, 'description': {'urls': []}}, 'protected': False, 'followers_count': 184108, 'friends_count': 1451, 'listed_count': 4081, 'created_at': 'Mon Mar 16 22:56:03 +0000 2009', 'favourites_count': 4943, 'utc_offset': None, 'time_zone': None, 'geo_enabled': False, 'verified': True, 'statuses_count': 1436, 'lang': None, 'contributors_enabled': False, 'is_translator': False, 'is_translation_enabled': False, 'profile_background_color': '000000', 'profile_background_image_url': 'http://abs.twimg.com/images/themes/theme1/bg.png', 'profile_background_image_url_https': 'https://abs.twimg.com/images/themes/theme1/bg.png', 'profile_background_tile': False, 'profile_image_url': 'http://pbs.twimg.com/profile_images/1114949480753836032/_BZqgAUy_normal.png', 'profile_image_url_https': 'https://pbs.twimg.com/profile_images/1114949480753836032/_BZqgAUy_normal.png', 'profile_banner_url': 'https://pbs.twimg.com/profile_banners/24789175/1583691601', 'profile_link_color': '1B95E0', 'profile_sidebar_border_color': '000000', 'profile_sidebar_fill_color': '000000', 'profile_text_color': '000000', 'profile_use_background_image': False, 'has_extended_profile': False, 'default_profile': False, 'default_profile_image': False, 'following': False, 'follow_request_sent': False, 'notifications': False, 'translator_type': 'none'}, id=24789175, id_str='24789175', name='James Fallows', screen_name='JamesFallows', location='', description=\"Book w/ @FallowsDeb 'Our Towns.' Background phone-location map is where we went 2013-2018. Views here=100% personal.\", url='https://t.co/egDQMcvo0N', entities={'url': {'urls': [{'url': 'https://t.co/egDQMcvo0N', 'expanded_url': 'https://www.ourtownsbook.com/', 'display_url': 'ourtownsbook.com', 'indices': [0, 23]}]}, 'description': {'urls': []}}, protected=False, followers_count=184108, friends_count=1451, listed_count=4081, created_at=datetime.datetime(2009, 3, 16, 22, 56, 3), favourites_count=4943, utc_offset=None, time_zone=None, geo_enabled=False, verified=True, statuses_count=1436, lang=None, contributors_enabled=False, is_translator=False, is_translation_enabled=False, profile_background_color='000000', profile_background_image_url='http://abs.twimg.com/images/themes/theme1/bg.png', profile_background_image_url_https='https://abs.twimg.com/images/themes/theme1/bg.png', profile_background_tile=False, profile_image_url='http://pbs.twimg.com/profile_images/1114949480753836032/_BZqgAUy_normal.png', profile_image_url_https='https://pbs.twimg.com/profile_images/1114949480753836032/_BZqgAUy_normal.png', profile_banner_url='https://pbs.twimg.com/profile_banners/24789175/1583691601', profile_link_color='1B95E0', profile_sidebar_border_color='000000', profile_sidebar_fill_color='000000', profile_text_color='000000', profile_use_background_image=False, has_extended_profile=False, default_profile=False, default_profile_image=False, following=False, follow_request_sent=False, notifications=False, translator_type='none'), user=User(_api=<tweepy.api.API object at 0x7fe0c30127d0>, _json={'id': 24789175, 'id_str': '24789175', 'name': 'James Fallows', 'screen_name': 'JamesFallows', 'location': '', 'description': \"Book w/ @FallowsDeb 'Our Towns.' Background phone-location map is where we went 2013-2018. Views here=100% personal.\", 'url': 'https://t.co/egDQMcvo0N', 'entities': {'url': {'urls': [{'url': 'https://t.co/egDQMcvo0N', 'expanded_url': 'https://www.ourtownsbook.com/', 'display_url': 'ourtownsbook.com', 'indices': [0, 23]}]}, 'description': {'urls': []}}, 'protected': False, 'followers_count': 184108, 'friends_count': 1451, 'listed_count': 4081, 'created_at': 'Mon Mar 16 22:56:03 +0000 2009', 'favourites_count': 4943, 'utc_offset': None, 'time_zone': None, 'geo_enabled': False, 'verified': True, 'statuses_count': 1436, 'lang': None, 'contributors_enabled': False, 'is_translator': False, 'is_translation_enabled': False, 'profile_background_color': '000000', 'profile_background_image_url': 'http://abs.twimg.com/images/themes/theme1/bg.png', 'profile_background_image_url_https': 'https://abs.twimg.com/images/themes/theme1/bg.png', 'profile_background_tile': False, 'profile_image_url': 'http://pbs.twimg.com/profile_images/1114949480753836032/_BZqgAUy_normal.png', 'profile_image_url_https': 'https://pbs.twimg.com/profile_images/1114949480753836032/_BZqgAUy_normal.png', 'profile_banner_url': 'https://pbs.twimg.com/profile_banners/24789175/1583691601', 'profile_link_color': '1B95E0', 'profile_sidebar_border_color': '000000', 'profile_sidebar_fill_color': '000000', 'profile_text_color': '000000', 'profile_use_background_image': False, 'has_extended_profile': False, 'default_profile': False, 'default_profile_image': False, 'following': False, 'follow_request_sent': False, 'notifications': False, 'translator_type': 'none'}, id=24789175, id_str='24789175', name='James Fallows', screen_name='JamesFallows', location='', description=\"Book w/ @FallowsDeb 'Our Towns.' Background phone-location map is where we went 2013-2018. Views here=100% personal.\", url='https://t.co/egDQMcvo0N', entities={'url': {'urls': [{'url': 'https://t.co/egDQMcvo0N', 'expanded_url': 'https://www.ourtownsbook.com/', 'display_url': 'ourtownsbook.com', 'indices': [0, 23]}]}, 'description': {'urls': []}}, protected=False, followers_count=184108, friends_count=1451, listed_count=4081, created_at=datetime.datetime(2009, 3, 16, 22, 56, 3), favourites_count=4943, utc_offset=None, time_zone=None, geo_enabled=False, verified=True, statuses_count=1436, lang=None, contributors_enabled=False, is_translator=False, is_translation_enabled=False, profile_background_color='000000', profile_background_image_url='http://abs.twimg.com/images/themes/theme1/bg.png', profile_background_image_url_https='https://abs.twimg.com/images/themes/theme1/bg.png', profile_background_tile=False, profile_image_url='http://pbs.twimg.com/profile_images/1114949480753836032/_BZqgAUy_normal.png', profile_image_url_https='https://pbs.twimg.com/profile_images/1114949480753836032/_BZqgAUy_normal.png', profile_banner_url='https://pbs.twimg.com/profile_banners/24789175/1583691601', profile_link_color='1B95E0', profile_sidebar_border_color='000000', profile_sidebar_fill_color='000000', profile_text_color='000000', profile_use_background_image=False, has_extended_profile=False, default_profile=False, default_profile_image=False, following=False, follow_request_sent=False, notifications=False, translator_type='none'), geo=None, coordinates=None, place=None, contributors=None, is_quote_status=False, retweet_count=8, favorite_count=35, favorited=False, retweeted=False, possibly_sensitive=False, possibly_sensitive_appealable=False, lang='en'), is_quote_status=False, retweet_count=8, favorite_count=0, favorited=False, retweeted=False, lang='en')]"
      ]
     },
     "metadata": {},
     "execution_count": 7
    }
   ],
   "source": [
    "public_tweets"
   ]
  },
  {
   "cell_type": "code",
   "execution_count": 11,
   "metadata": {
    "tags": []
   },
   "outputs": [
    {
     "output_type": "stream",
     "name": "stdout",
     "text": [
      "Gostaria de desejar a todos os seguidores e amigos de origem judaica, chag sameach!!! Neste ano, com a Covid19, não… https://t.co/YQIHUX59CL\n“people will try to wait until i'm gone to understand what i represent in the game, you get what i'm saying?” —… https://t.co/cBGJB2S8Jp\nIt's a map, but #chartoon https://t.co/elbxQf1jpL\nNice try but no Suez. https://t.co/mP5tt6CZWS\nReinaldo Azevedo | A democracia fica mais segura com Bolsonaro sob ameaça; Com uniforme, seria inútil à guerra porq… https://t.co/kubw8QLjfQ\nRT @beatrizdiniz: Sem palavras aqui lendo a reportagem do Daniel Camargos pra @reporterb. Amizades, abram o fio, vejam o vídeo, leiam. A gr…\nVolkswagen offers new details about its adorable ID Buzz electric microbus https://t.co/Nw8Ne62DCJ https://t.co/f9XLjWU9eB\nPLATELMITO! MITO! MITO!! https://t.co/Ou5YzN81qH\nBolsonaro tava tão interessado na vacina do astronauta que nem sabia onde estava sendo desenvolvida. Essa entrou no… https://t.co/hkuZImYVoG\nIs big government back? On “Checks and Balance”:\n\n-@SachaNauta says the pandemic has transformed welfare\n-Ronald Re… https://t.co/4lXQM27Dvs\nDISPUTADO! 👊⚽️\n\nO @jaraguaec EMPATA COM GOL DE JOÃO PAULO! https://t.co/d2tXBEkYH3\nSecond voting machine company sues Fox News over disinformation https://t.co/KLr1hwhHOv https://t.co/olK4iGYbtQ\nResolvi dividir com vocês. Respeito máximo pelos profissionais de saúde e pelo HC de São Paulo. Cuidem-se! https://t.co/TWW2hLthcN\nRT @terralimite: https://t.co/bH0taHOf34\nRT @FrankElavsky: Say hello to the era of more accessible scrollytelling experiences! So happy this article is out and this option is inclu…\nRT @AdrienneLaF: \"It was in the jerk of her limbs as she spilled a martini. It was in the disinterested cheer of her voice when she called…\nRT @JamesFallows: An under-appreciated role of journalism is to introduce you to topics / questions / challenges you’d actually not thought…\n"
     ]
    }
   ],
   "source": [
    "for tweet in public_tweets:\n",
    "    print(tweet.text)"
   ]
  },
  {
   "cell_type": "code",
   "execution_count": 14,
   "metadata": {},
   "outputs": [
    {
     "output_type": "stream",
     "name": "stdout",
     "text": [
      "Screen name nickolaslago\nFollowers 91\n"
     ]
    }
   ],
   "source": [
    "# Let's retrieve user data\n",
    "user = api.get_user('nickolaslago')\n",
    "print(\"Screen name\", user.screen_name)\n",
    "print(\"Followers\", user.followers_count)"
   ]
  },
  {
   "cell_type": "code",
   "execution_count": 15,
   "metadata": {},
   "outputs": [
    {
     "output_type": "stream",
     "name": "stdout",
     "text": [
      "nantonionovaims\nrafael_sps\nAroeiraCartum\n_smartify\nMercedesAMGF1\nSaraMetwalli\nPowerBIElite\nguardachuvapod\ngrrrck\nAhavaMari\nTeam_Simmer\nPaulinhoDaViola\ntiangolo\neconinbricks\nd3js_org\nfestawobble\nCedScherer\nanatalialvim\nCamaraLisboa\nangelagrammatas\n"
     ]
    }
   ],
   "source": [
    "for friend in user.friends():\n",
    "    print(friend.screen_name)"
   ]
  },
  {
   "cell_type": "code",
   "execution_count": 17,
   "metadata": {},
   "outputs": [],
   "source": [
    "# Retrieve 300 tweets\n",
    "\n",
    "tws=[]\n",
    "max_tweets = 300\n",
    "for tweet in tweepy.Cursor(api.search, q=\"#Mercedes\", rpp=100).items(max_tweets):\n",
    "    tw = [tweet.text, tweet.source, tweet.source_url]\n",
    "    tw = tuple(tw)\n",
    "    tws.append(tw)"
   ]
  },
  {
   "cell_type": "code",
   "execution_count": 19,
   "metadata": {},
   "outputs": [
    {
     "output_type": "execute_result",
     "data": {
      "text/plain": [
       "                                                  text               source  \\\n",
       "0    White\\n#mercedesbenz #mercedes #brabus #glass ...  Twitter for Android   \n",
       "1    MERCEDES ENERGY via @signArtApp -  https://t.c...      Twitter Web App   \n",
       "2    Traslado trailer completo #scania #man #madrid...  Twitter for Android   \n",
       "3    L’Everest automobile de la banquette arrière ✨...   Twitter for iPhone   \n",
       "4    Scania V8 💪 💪 #scania #man #madrid #daf #iveco...  Twitter for Android   \n",
       "..                                                 ...                  ...   \n",
       "295  RT @TourampTech: Going places that I’ve never ...  Twitter for Android   \n",
       "296  #AnilKapoor gifts a luxurious #Mercedes car wo...            TweetDeck   \n",
       "297  #Mercedes to Unveil Flagship Electric Sedan Wi...      Twitter Web App   \n",
       "298  RT @ESKsindikatua: #Mercedes-eko Enpresa Batzo...  Twitter for Android   \n",
       "299  Mercedes’in şu ana kadarki en Uzun menzilli mo...   Twitter for iPhone   \n",
       "\n",
       "                                              url  \n",
       "0             http://twitter.com/download/android  \n",
       "1                      https://mobile.twitter.com  \n",
       "2             http://twitter.com/download/android  \n",
       "3              http://twitter.com/download/iphone  \n",
       "4             http://twitter.com/download/android  \n",
       "..                                            ...  \n",
       "295           http://twitter.com/download/android  \n",
       "296  https://about.twitter.com/products/tweetdeck  \n",
       "297                    https://mobile.twitter.com  \n",
       "298           http://twitter.com/download/android  \n",
       "299            http://twitter.com/download/iphone  \n",
       "\n",
       "[300 rows x 3 columns]"
      ],
      "text/html": "<div>\n<style scoped>\n    .dataframe tbody tr th:only-of-type {\n        vertical-align: middle;\n    }\n\n    .dataframe tbody tr th {\n        vertical-align: top;\n    }\n\n    .dataframe thead th {\n        text-align: right;\n    }\n</style>\n<table border=\"1\" class=\"dataframe\">\n  <thead>\n    <tr style=\"text-align: right;\">\n      <th></th>\n      <th>text</th>\n      <th>source</th>\n      <th>url</th>\n    </tr>\n  </thead>\n  <tbody>\n    <tr>\n      <th>0</th>\n      <td>White\\n#mercedesbenz #mercedes #brabus #glass ...</td>\n      <td>Twitter for Android</td>\n      <td>http://twitter.com/download/android</td>\n    </tr>\n    <tr>\n      <th>1</th>\n      <td>MERCEDES ENERGY via @signArtApp -  https://t.c...</td>\n      <td>Twitter Web App</td>\n      <td>https://mobile.twitter.com</td>\n    </tr>\n    <tr>\n      <th>2</th>\n      <td>Traslado trailer completo #scania #man #madrid...</td>\n      <td>Twitter for Android</td>\n      <td>http://twitter.com/download/android</td>\n    </tr>\n    <tr>\n      <th>3</th>\n      <td>L’Everest automobile de la banquette arrière ✨...</td>\n      <td>Twitter for iPhone</td>\n      <td>http://twitter.com/download/iphone</td>\n    </tr>\n    <tr>\n      <th>4</th>\n      <td>Scania V8 💪 💪 #scania #man #madrid #daf #iveco...</td>\n      <td>Twitter for Android</td>\n      <td>http://twitter.com/download/android</td>\n    </tr>\n    <tr>\n      <th>...</th>\n      <td>...</td>\n      <td>...</td>\n      <td>...</td>\n    </tr>\n    <tr>\n      <th>295</th>\n      <td>RT @TourampTech: Going places that I’ve never ...</td>\n      <td>Twitter for Android</td>\n      <td>http://twitter.com/download/android</td>\n    </tr>\n    <tr>\n      <th>296</th>\n      <td>#AnilKapoor gifts a luxurious #Mercedes car wo...</td>\n      <td>TweetDeck</td>\n      <td>https://about.twitter.com/products/tweetdeck</td>\n    </tr>\n    <tr>\n      <th>297</th>\n      <td>#Mercedes to Unveil Flagship Electric Sedan Wi...</td>\n      <td>Twitter Web App</td>\n      <td>https://mobile.twitter.com</td>\n    </tr>\n    <tr>\n      <th>298</th>\n      <td>RT @ESKsindikatua: #Mercedes-eko Enpresa Batzo...</td>\n      <td>Twitter for Android</td>\n      <td>http://twitter.com/download/android</td>\n    </tr>\n    <tr>\n      <th>299</th>\n      <td>Mercedes’in şu ana kadarki en Uzun menzilli mo...</td>\n      <td>Twitter for iPhone</td>\n      <td>http://twitter.com/download/iphone</td>\n    </tr>\n  </tbody>\n</table>\n<p>300 rows × 3 columns</p>\n</div>"
     },
     "metadata": {},
     "execution_count": 19
    }
   ],
   "source": [
    "# Create df with Tweets\n",
    "df = pd.DataFrame(tws, columns=['text', 'source', 'url'])\n",
    "df"
   ]
  },
  {
   "cell_type": "code",
   "execution_count": 23,
   "metadata": {},
   "outputs": [
    {
     "output_type": "stream",
     "name": "stdout",
     "text": [
      "{\n  \"created_at\": \"Fri Mar 26 14:42:04 +0000 2021\",\n  \"id\": 1375458031568293890,\n  \"id_str\": \"1375458031568293890\",\n  \"text\": \"Mercedes\\u2019in \\u015fu ana kadarki en Uzun menzilli modeli EQS 15 Nisan tarihini bekliyor, yakla\\u015f\\u0131k 700(435 mil) km\\u2019yi a\\u015far\\u2026 https://t.co/rLatYTgeOS\",\n  \"truncated\": true,\n  \"entities\": {\n    \"hashtags\": [],\n    \"symbols\": [],\n    \"user_mentions\": [],\n    \"urls\": [\n      {\n        \"url\": \"https://t.co/rLatYTgeOS\",\n        \"expanded_url\": \"https://twitter.com/i/web/status/1375458031568293890\",\n        \"display_url\": \"twitter.com/i/web/status/1\\u2026\",\n        \"indices\": [\n          117,\n          140\n        ]\n      }\n    ]\n  },\n  \"metadata\": {\n    \"result_type\": \"recent\",\n    \"iso_language_code\": \"tr\"\n  },\n  \"source\": \"<a href=\\\"http://twitter.com/download/iphone\\\" rel=\\\"nofollow\\\">Twitter for iPhone</a>\",\n  \"in_reply_to_status_id\": null,\n  \"in_reply_to_status_id_str\": null,\n  \"in_reply_to_user_id\": null,\n  \"in_reply_to_user_id_str\": null,\n  \"in_reply_to_screen_name\": null,\n  \"user\": {\n    \"id\": 271553742,\n    \"id_str\": \"271553742\",\n    \"name\": \"Volkan Demirku\\u015fak\",\n    \"screen_name\": \"vdemirkusak\",\n    \"location\": \"\\u0130stanbul\",\n    \"description\": \"auto motor& sport Dergisi Genel Yay\\u0131n Y\\u00f6netmeni, Boat International, WatchTime yay\\u0131nc\\u0131s\\u0131. TV8.5 S\\u00fcr\\u00fc\\u015f Zaman\\u0131 https://t.co/blwZxupIVo\",\n    \"url\": \"https://t.co/mYw6LwPSDi\",\n    \"entities\": {\n      \"url\": {\n        \"urls\": [\n          {\n            \"url\": \"https://t.co/mYw6LwPSDi\",\n            \"expanded_url\": \"http://www.automotorsport.com.tr\",\n            \"display_url\": \"automotorsport.com.tr\",\n            \"indices\": [\n              0,\n              23\n            ]\n          }\n        ]\n      },\n      \"description\": {\n        \"urls\": [\n          {\n            \"url\": \"https://t.co/blwZxupIVo\",\n            \"expanded_url\": \"http://Instagram.com/volkandemirkusak\",\n            \"display_url\": \"Instagram.com/volkandemirkus\\u2026\",\n            \"indices\": [\n              109,\n              132\n            ]\n          }\n        ]\n      }\n    },\n    \"protected\": false,\n    \"followers_count\": 3963,\n    \"friends_count\": 1684,\n    \"listed_count\": 27,\n    \"created_at\": \"Thu Mar 24 19:01:20 +0000 2011\",\n    \"favourites_count\": 33734,\n    \"utc_offset\": null,\n    \"time_zone\": null,\n    \"geo_enabled\": true,\n    \"verified\": false,\n    \"statuses_count\": 17768,\n    \"lang\": null,\n    \"contributors_enabled\": false,\n    \"is_translator\": false,\n    \"is_translation_enabled\": false,\n    \"profile_background_color\": \"C0DEED\",\n    \"profile_background_image_url\": \"http://abs.twimg.com/images/themes/theme1/bg.png\",\n    \"profile_background_image_url_https\": \"https://abs.twimg.com/images/themes/theme1/bg.png\",\n    \"profile_background_tile\": false,\n    \"profile_image_url\": \"http://pbs.twimg.com/profile_images/1344168824652886016/nrCWHlLp_normal.jpg\",\n    \"profile_image_url_https\": \"https://pbs.twimg.com/profile_images/1344168824652886016/nrCWHlLp_normal.jpg\",\n    \"profile_banner_url\": \"https://pbs.twimg.com/profile_banners/271553742/1530339534\",\n    \"profile_link_color\": \"1DA1F2\",\n    \"profile_sidebar_border_color\": \"C0DEED\",\n    \"profile_sidebar_fill_color\": \"DDEEF6\",\n    \"profile_text_color\": \"333333\",\n    \"profile_use_background_image\": true,\n    \"has_extended_profile\": true,\n    \"default_profile\": true,\n    \"default_profile_image\": false,\n    \"following\": false,\n    \"follow_request_sent\": false,\n    \"notifications\": false,\n    \"translator_type\": \"none\"\n  },\n  \"geo\": null,\n  \"coordinates\": null,\n  \"place\": {\n    \"id\": \"5e02a0f0d91c76d2\",\n    \"url\": \"https://api.twitter.com/1.1/geo/id/5e02a0f0d91c76d2.json\",\n    \"place_type\": \"city\",\n    \"name\": \"\\u0130stanbul\",\n    \"full_name\": \"\\u0130stanbul, T\\u00fcrkiye\",\n    \"country_code\": \"TR\",\n    \"country\": \"Turkey\",\n    \"contained_within\": [],\n    \"bounding_box\": {\n      \"type\": \"Polygon\",\n      \"coordinates\": [\n        [\n          [\n            28.6321043,\n            40.8027337\n          ],\n          [\n            29.3783413,\n            40.8027337\n          ],\n          [\n            29.3783413,\n            41.2399073\n          ],\n          [\n            28.6321043,\n            41.2399073\n          ]\n        ]\n      ]\n    },\n    \"attributes\": {}\n  },\n  \"contributors\": null,\n  \"is_quote_status\": false,\n  \"retweet_count\": 0,\n  \"favorite_count\": 5,\n  \"favorited\": false,\n  \"retweeted\": false,\n  \"possibly_sensitive\": false,\n  \"lang\": \"tr\"\n}\n"
     ]
    }
   ],
   "source": [
    "tweet_json_str = json.dumps(tweet._json) # Converting the tweet format to json\n",
    "parsed_tweet = json.loads(tweet_json_str) # Serializing\n",
    "\n",
    "print(json.dumps(parsed_tweet, indent=2))"
   ]
  },
  {
   "cell_type": "code",
   "execution_count": 24,
   "metadata": {},
   "outputs": [
    {
     "output_type": "execute_result",
     "data": {
      "text/plain": [
       "'Volkan Demirkuşak'"
      ]
     },
     "metadata": {},
     "execution_count": 24
    }
   ],
   "source": [
    "tweet.author.name"
   ]
  },
  {
   "cell_type": "code",
   "execution_count": null,
   "metadata": {},
   "outputs": [],
   "source": []
  }
 ]
}