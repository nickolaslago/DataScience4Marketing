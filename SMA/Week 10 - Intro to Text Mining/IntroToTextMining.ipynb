{
 "metadata": {
  "language_info": {
   "codemirror_mode": {
    "name": "ipython",
    "version": 3
   },
   "file_extension": ".py",
   "mimetype": "text/x-python",
   "name": "python",
   "nbconvert_exporter": "python",
   "pygments_lexer": "ipython3",
   "version": "3.7.6"
  },
  "orig_nbformat": 2,
  "kernelspec": {
   "name": "python376jvsc74a57bd0f30a98447ab0ce6ed2c42a906dd8ff7c3035168d8630597903509f729a93be92",
   "display_name": "Python 3.7.6 64-bit ('base': conda)"
  }
 },
 "nbformat": 4,
 "nbformat_minor": 2,
 "cells": [
  {
   "source": [
    "# Text Mining\n",
    "### (c) Nuno António 2021"
   ],
   "cell_type": "markdown",
   "metadata": {}
  },
  {
   "source": [
    "## Packages installation"
   ],
   "cell_type": "markdown",
   "metadata": {}
  },
  {
   "source": [
    "Packages required for this set of exercices:\n",
    "- **NLTK**: Install via Anaconda Navigator Environments tab or using *pip install nltk* or using *conda install -c anaconda nltk*\n",
    "- **NLTK data**: After installing NLTK open a note book and run:<br>\n",
    "*import nltk<br>\n",
    "nltk.download()*\n",
    "- **BeautifulSoup4**: Install via Anaconda Navigator Environments tab or using *pip install python3-bs4* or using *conda install -c anaconda beautifulsoup4*\n",
    "- **WordCloud**: Install via Anaconda Navigator Environments tab or using *pip install wordcloud*  or using *conda install -c conda-forge wordcloud*\n",
    "- **Spacy**: Install via Anaconda Navigator Environments tab or using *pip install spacy* or *conda install -c anaconda nltk*<br>\n",
    "   To install Spanish models: *python -m spacy download es_core_news_sm*<br>\n",
    "   To install Portuguese models: *python -m spacy download pt_core_news_sm*<br>\n",
    "   To install English models: *python -m spacy download en_core_web_sm*<br>\n",
    "   To install other languages models see: https://spacy.io/usage/models#languages<br>\n",
    "- **Rake-NLTK**: Install via Anaconda Navigator Environments tab or using *pip install rake-nltk* or  *conda install -c conda-forge rake_nltk*\n",
    "- **VaderSentiment**: Install via Anaconda Navigator Environments tab or using *pip install vaderSentiment* or *conda install -c conda-forge vadersentiment*\n",
    "- **Vader-multi**: Install via Anaconda Navigator Environments tab or using *pip install vader-multi* or *conda install -c conda-forge vader-multi*\n",
    "- **Gensim**: Install via Anaconda Navigator Environments tab or using *pip install gensim* or *conda install -c anaconda gensim*\n",
    "- **pyLDAvis**: Install via Anaconda Navigator Environments tab or using *pip install pip install pyldavis* or *conda install -c conda-forge pyldavis*"
   ],
   "cell_type": "markdown",
   "metadata": {}
  },
  {
   "source": [
    "## Data preprocessing"
   ],
   "cell_type": "markdown",
   "metadata": {}
  },
  {
   "cell_type": "code",
   "execution_count": 1,
   "metadata": {},
   "outputs": [],
   "source": [
    "# Import packages\n",
    "import csv\n",
    "import pandas as pd\n",
    "import numpy as np\n",
    "import nltk "
   ]
  },
  {
   "cell_type": "code",
   "execution_count": 2,
   "metadata": {},
   "outputs": [
    {
     "output_type": "stream",
     "name": "stderr",
     "text": [
      "b'Skipping line 12799: expected 21 fields, saw 23\\n'\nb'Skipping line 37247: expected 21 fields, saw 22\\n'\n"
     ]
    }
   ],
   "source": [
    "# Load dataset\n",
    "dtypes = {'RevID':'category','Source':'category','HotelID':'category',\n",
    "  'HotelType':'category','HotelStars':'category','ObsDateGlobalRating':'float64',\n",
    "  'Language':'category','RevUserName':'category','RevUserLocation':'category','RevOverallRating':'float64'}\n",
    "ds = pd.DataFrame(pd.read_csv(\"HotelOnlineReviews.txt\",sep=\"|\", \n",
    "  error_bad_lines=False, dtype=dtypes, decimal=',', index_col='RevID'))"
   ]
  },
  {
   "cell_type": "code",
   "execution_count": 3,
   "metadata": {},
   "outputs": [
    {
     "output_type": "execute_result",
     "data": {
      "text/plain": [
       "        Source HotelID HotelType HotelStars  HotelRooms     ObsDate  \\\n",
       "RevID                                                                 \n",
       "B377   Booking       1    Resort          4         158  2015-11-29   \n",
       "B378   Booking       1    Resort          4         158  2015-11-29   \n",
       "B379   Booking       1    Resort          4         158  2015-11-29   \n",
       "B380   Booking       1    Resort          4         158  2015-11-29   \n",
       "B381   Booking       1    Resort          4         158  2015-11-29   \n",
       "\n",
       "       ObsDateTotalReviewsOnSite  ObsDateGlobalRating  \\\n",
       "RevID                                                   \n",
       "B377                        1092                  8.8   \n",
       "B378                        1092                  8.8   \n",
       "B379                        1092                  8.8   \n",
       "B380                        1092                  8.8   \n",
       "B381                        1092                  8.8   \n",
       "\n",
       "                                          RevDescription Language RevUsername  \\\n",
       "RevID                                                                           \n",
       "B377   Hotel is  so  centrally located with  bars and...  English        John   \n",
       "B378   Room were big & comfortable.þ Very noisy at ni...  English       David   \n",
       "B379   right near the beach & breakfast good!þ Noisy ...  English        Dawn   \n",
       "B380   The location is the best in Portimao, just acr...  English         Ron   \n",
       "B381   Hotel was clean and the staff helpful and frie...  English         Pat   \n",
       "\n",
       "      RevUserLocation RevPublishedDate  RevOverallRating  RevLocationRating  \\\n",
       "RevID                                                                         \n",
       "B377          Ireland       2015-11-12              10.0                 -1   \n",
       "B378   United Kingdom       2015-11-09               5.8                 -1   \n",
       "B379         Portugal       2015-11-07               7.5                 -1   \n",
       "B380              USA       2015-10-29               9.2                 -1   \n",
       "B381            Spain       2015-10-27               7.1                 -1   \n",
       "\n",
       "       RevSleepQualityRating  RevRoomsRating  RevServiceRating  \\\n",
       "RevID                                                            \n",
       "B377                      -1              -1                -1   \n",
       "B378                      -1              -1                -1   \n",
       "B379                      -1              -1                -1   \n",
       "B380                      -1              -1                -1   \n",
       "B381                      -1              -1                -1   \n",
       "\n",
       "       RevValueRating  RevCleanlinessRating  \n",
       "RevID                                        \n",
       "B377               -1                    -1  \n",
       "B378               -1                    -1  \n",
       "B379               -1                    -1  \n",
       "B380               -1                    -1  \n",
       "B381               -1                    -1  "
      ],
      "text/html": "<div>\n<style scoped>\n    .dataframe tbody tr th:only-of-type {\n        vertical-align: middle;\n    }\n\n    .dataframe tbody tr th {\n        vertical-align: top;\n    }\n\n    .dataframe thead th {\n        text-align: right;\n    }\n</style>\n<table border=\"1\" class=\"dataframe\">\n  <thead>\n    <tr style=\"text-align: right;\">\n      <th></th>\n      <th>Source</th>\n      <th>HotelID</th>\n      <th>HotelType</th>\n      <th>HotelStars</th>\n      <th>HotelRooms</th>\n      <th>ObsDate</th>\n      <th>ObsDateTotalReviewsOnSite</th>\n      <th>ObsDateGlobalRating</th>\n      <th>RevDescription</th>\n      <th>Language</th>\n      <th>RevUsername</th>\n      <th>RevUserLocation</th>\n      <th>RevPublishedDate</th>\n      <th>RevOverallRating</th>\n      <th>RevLocationRating</th>\n      <th>RevSleepQualityRating</th>\n      <th>RevRoomsRating</th>\n      <th>RevServiceRating</th>\n      <th>RevValueRating</th>\n      <th>RevCleanlinessRating</th>\n    </tr>\n    <tr>\n      <th>RevID</th>\n      <th></th>\n      <th></th>\n      <th></th>\n      <th></th>\n      <th></th>\n      <th></th>\n      <th></th>\n      <th></th>\n      <th></th>\n      <th></th>\n      <th></th>\n      <th></th>\n      <th></th>\n      <th></th>\n      <th></th>\n      <th></th>\n      <th></th>\n      <th></th>\n      <th></th>\n      <th></th>\n    </tr>\n  </thead>\n  <tbody>\n    <tr>\n      <th>B377</th>\n      <td>Booking</td>\n      <td>1</td>\n      <td>Resort</td>\n      <td>4</td>\n      <td>158</td>\n      <td>2015-11-29</td>\n      <td>1092</td>\n      <td>8.8</td>\n      <td>Hotel is  so  centrally located with  bars and...</td>\n      <td>English</td>\n      <td>John</td>\n      <td>Ireland</td>\n      <td>2015-11-12</td>\n      <td>10.0</td>\n      <td>-1</td>\n      <td>-1</td>\n      <td>-1</td>\n      <td>-1</td>\n      <td>-1</td>\n      <td>-1</td>\n    </tr>\n    <tr>\n      <th>B378</th>\n      <td>Booking</td>\n      <td>1</td>\n      <td>Resort</td>\n      <td>4</td>\n      <td>158</td>\n      <td>2015-11-29</td>\n      <td>1092</td>\n      <td>8.8</td>\n      <td>Room were big &amp; comfortable.þ Very noisy at ni...</td>\n      <td>English</td>\n      <td>David</td>\n      <td>United Kingdom</td>\n      <td>2015-11-09</td>\n      <td>5.8</td>\n      <td>-1</td>\n      <td>-1</td>\n      <td>-1</td>\n      <td>-1</td>\n      <td>-1</td>\n      <td>-1</td>\n    </tr>\n    <tr>\n      <th>B379</th>\n      <td>Booking</td>\n      <td>1</td>\n      <td>Resort</td>\n      <td>4</td>\n      <td>158</td>\n      <td>2015-11-29</td>\n      <td>1092</td>\n      <td>8.8</td>\n      <td>right near the beach &amp; breakfast good!þ Noisy ...</td>\n      <td>English</td>\n      <td>Dawn</td>\n      <td>Portugal</td>\n      <td>2015-11-07</td>\n      <td>7.5</td>\n      <td>-1</td>\n      <td>-1</td>\n      <td>-1</td>\n      <td>-1</td>\n      <td>-1</td>\n      <td>-1</td>\n    </tr>\n    <tr>\n      <th>B380</th>\n      <td>Booking</td>\n      <td>1</td>\n      <td>Resort</td>\n      <td>4</td>\n      <td>158</td>\n      <td>2015-11-29</td>\n      <td>1092</td>\n      <td>8.8</td>\n      <td>The location is the best in Portimao, just acr...</td>\n      <td>English</td>\n      <td>Ron</td>\n      <td>USA</td>\n      <td>2015-10-29</td>\n      <td>9.2</td>\n      <td>-1</td>\n      <td>-1</td>\n      <td>-1</td>\n      <td>-1</td>\n      <td>-1</td>\n      <td>-1</td>\n    </tr>\n    <tr>\n      <th>B381</th>\n      <td>Booking</td>\n      <td>1</td>\n      <td>Resort</td>\n      <td>4</td>\n      <td>158</td>\n      <td>2015-11-29</td>\n      <td>1092</td>\n      <td>8.8</td>\n      <td>Hotel was clean and the staff helpful and frie...</td>\n      <td>English</td>\n      <td>Pat</td>\n      <td>Spain</td>\n      <td>2015-10-27</td>\n      <td>7.1</td>\n      <td>-1</td>\n      <td>-1</td>\n      <td>-1</td>\n      <td>-1</td>\n      <td>-1</td>\n      <td>-1</td>\n    </tr>\n  </tbody>\n</table>\n</div>"
     },
     "metadata": {},
     "execution_count": 3
    }
   ],
   "source": [
    "# Check first rows\n",
    "ds.head()"
   ]
  },
  {
   "cell_type": "code",
   "execution_count": 4,
   "metadata": {},
   "outputs": [
    {
     "output_type": "execute_result",
     "data": {
      "text/plain": [
       "                           count unique         top   freq      mean  \\\n",
       "Source                     39421      2     Booking  27271       NaN   \n",
       "HotelID                    39421     64          23   2640       NaN   \n",
       "HotelType                  39421      2        City  23854       NaN   \n",
       "HotelStars                 39421      4           4  23694       NaN   \n",
       "HotelRooms                 39421    NaN         NaN    NaN   162.889   \n",
       "ObsDate                    39421    375  2016-04-24   1883       NaN   \n",
       "ObsDateTotalReviewsOnSite  39421    NaN         NaN    NaN   1735.95   \n",
       "ObsDateGlobalRating        39421    NaN         NaN    NaN   7.23496   \n",
       "RevDescription             39421  30470          þ    8451       NaN   \n",
       "Language                   39421      3     English  18848       NaN   \n",
       "RevUsername                39256  17589   Anonymous    942       NaN   \n",
       "RevUserLocation            36929   4060    Portugal   6375       NaN   \n",
       "RevPublishedDate           39421    519  2016-03-29    246       NaN   \n",
       "RevOverallRating           39421    NaN         NaN    NaN   7.14079   \n",
       "RevLocationRating          39421    NaN         NaN    NaN -0.671622   \n",
       "RevSleepQualityRating      39421    NaN         NaN    NaN -0.583192   \n",
       "RevRoomsRating             39421    NaN         NaN    NaN -0.691789   \n",
       "RevServiceRating           39421    NaN         NaN    NaN -0.533548   \n",
       "RevValueRating             39421    NaN         NaN    NaN  -0.67842   \n",
       "RevCleanlinessRating       39421    NaN         NaN    NaN -0.691662   \n",
       "\n",
       "                                std  min  25%   50%   75%   max  \n",
       "Source                          NaN  NaN  NaN   NaN   NaN   NaN  \n",
       "HotelID                         NaN  NaN  NaN   NaN   NaN   NaN  \n",
       "HotelType                       NaN  NaN  NaN   NaN   NaN   NaN  \n",
       "HotelStars                      NaN  NaN  NaN   NaN   NaN   NaN  \n",
       "HotelRooms                  97.1148   17   70   152   224   369  \n",
       "ObsDate                         NaN  NaN  NaN   NaN   NaN   NaN  \n",
       "ObsDateTotalReviewsOnSite    1489.9    3  648  1258  2382  6668  \n",
       "ObsDateGlobalRating         2.08405    3  4.5   8.2   8.8    10  \n",
       "RevDescription                  NaN  NaN  NaN   NaN   NaN   NaN  \n",
       "Language                        NaN  NaN  NaN   NaN   NaN   NaN  \n",
       "RevUsername                     NaN  NaN  NaN   NaN   NaN   NaN  \n",
       "RevUserLocation                 NaN  NaN  NaN   NaN   NaN   NaN  \n",
       "RevPublishedDate                NaN  NaN  NaN   NaN   NaN   NaN  \n",
       "RevOverallRating            2.35378    0    5   7.9   9.2    10  \n",
       "RevLocationRating          0.578889   -1   -1    -1     0     5  \n",
       "RevSleepQualityRating      0.908503   -1   -1    -1     0     5  \n",
       "RevRoomsRating              0.46176   -1   -1    -1     0     0  \n",
       "RevServiceRating             1.0613   -1   -1    -1     0     5  \n",
       "RevValueRating             0.538623   -1   -1    -1     0     5  \n",
       "RevCleanlinessRating       0.462636   -1   -1    -1     0     5  "
      ],
      "text/html": "<div>\n<style scoped>\n    .dataframe tbody tr th:only-of-type {\n        vertical-align: middle;\n    }\n\n    .dataframe tbody tr th {\n        vertical-align: top;\n    }\n\n    .dataframe thead th {\n        text-align: right;\n    }\n</style>\n<table border=\"1\" class=\"dataframe\">\n  <thead>\n    <tr style=\"text-align: right;\">\n      <th></th>\n      <th>count</th>\n      <th>unique</th>\n      <th>top</th>\n      <th>freq</th>\n      <th>mean</th>\n      <th>std</th>\n      <th>min</th>\n      <th>25%</th>\n      <th>50%</th>\n      <th>75%</th>\n      <th>max</th>\n    </tr>\n  </thead>\n  <tbody>\n    <tr>\n      <th>Source</th>\n      <td>39421</td>\n      <td>2</td>\n      <td>Booking</td>\n      <td>27271</td>\n      <td>NaN</td>\n      <td>NaN</td>\n      <td>NaN</td>\n      <td>NaN</td>\n      <td>NaN</td>\n      <td>NaN</td>\n      <td>NaN</td>\n    </tr>\n    <tr>\n      <th>HotelID</th>\n      <td>39421</td>\n      <td>64</td>\n      <td>23</td>\n      <td>2640</td>\n      <td>NaN</td>\n      <td>NaN</td>\n      <td>NaN</td>\n      <td>NaN</td>\n      <td>NaN</td>\n      <td>NaN</td>\n      <td>NaN</td>\n    </tr>\n    <tr>\n      <th>HotelType</th>\n      <td>39421</td>\n      <td>2</td>\n      <td>City</td>\n      <td>23854</td>\n      <td>NaN</td>\n      <td>NaN</td>\n      <td>NaN</td>\n      <td>NaN</td>\n      <td>NaN</td>\n      <td>NaN</td>\n      <td>NaN</td>\n    </tr>\n    <tr>\n      <th>HotelStars</th>\n      <td>39421</td>\n      <td>4</td>\n      <td>4</td>\n      <td>23694</td>\n      <td>NaN</td>\n      <td>NaN</td>\n      <td>NaN</td>\n      <td>NaN</td>\n      <td>NaN</td>\n      <td>NaN</td>\n      <td>NaN</td>\n    </tr>\n    <tr>\n      <th>HotelRooms</th>\n      <td>39421</td>\n      <td>NaN</td>\n      <td>NaN</td>\n      <td>NaN</td>\n      <td>162.889</td>\n      <td>97.1148</td>\n      <td>17</td>\n      <td>70</td>\n      <td>152</td>\n      <td>224</td>\n      <td>369</td>\n    </tr>\n    <tr>\n      <th>ObsDate</th>\n      <td>39421</td>\n      <td>375</td>\n      <td>2016-04-24</td>\n      <td>1883</td>\n      <td>NaN</td>\n      <td>NaN</td>\n      <td>NaN</td>\n      <td>NaN</td>\n      <td>NaN</td>\n      <td>NaN</td>\n      <td>NaN</td>\n    </tr>\n    <tr>\n      <th>ObsDateTotalReviewsOnSite</th>\n      <td>39421</td>\n      <td>NaN</td>\n      <td>NaN</td>\n      <td>NaN</td>\n      <td>1735.95</td>\n      <td>1489.9</td>\n      <td>3</td>\n      <td>648</td>\n      <td>1258</td>\n      <td>2382</td>\n      <td>6668</td>\n    </tr>\n    <tr>\n      <th>ObsDateGlobalRating</th>\n      <td>39421</td>\n      <td>NaN</td>\n      <td>NaN</td>\n      <td>NaN</td>\n      <td>7.23496</td>\n      <td>2.08405</td>\n      <td>3</td>\n      <td>4.5</td>\n      <td>8.2</td>\n      <td>8.8</td>\n      <td>10</td>\n    </tr>\n    <tr>\n      <th>RevDescription</th>\n      <td>39421</td>\n      <td>30470</td>\n      <td>þ</td>\n      <td>8451</td>\n      <td>NaN</td>\n      <td>NaN</td>\n      <td>NaN</td>\n      <td>NaN</td>\n      <td>NaN</td>\n      <td>NaN</td>\n      <td>NaN</td>\n    </tr>\n    <tr>\n      <th>Language</th>\n      <td>39421</td>\n      <td>3</td>\n      <td>English</td>\n      <td>18848</td>\n      <td>NaN</td>\n      <td>NaN</td>\n      <td>NaN</td>\n      <td>NaN</td>\n      <td>NaN</td>\n      <td>NaN</td>\n      <td>NaN</td>\n    </tr>\n    <tr>\n      <th>RevUsername</th>\n      <td>39256</td>\n      <td>17589</td>\n      <td>Anonymous</td>\n      <td>942</td>\n      <td>NaN</td>\n      <td>NaN</td>\n      <td>NaN</td>\n      <td>NaN</td>\n      <td>NaN</td>\n      <td>NaN</td>\n      <td>NaN</td>\n    </tr>\n    <tr>\n      <th>RevUserLocation</th>\n      <td>36929</td>\n      <td>4060</td>\n      <td>Portugal</td>\n      <td>6375</td>\n      <td>NaN</td>\n      <td>NaN</td>\n      <td>NaN</td>\n      <td>NaN</td>\n      <td>NaN</td>\n      <td>NaN</td>\n      <td>NaN</td>\n    </tr>\n    <tr>\n      <th>RevPublishedDate</th>\n      <td>39421</td>\n      <td>519</td>\n      <td>2016-03-29</td>\n      <td>246</td>\n      <td>NaN</td>\n      <td>NaN</td>\n      <td>NaN</td>\n      <td>NaN</td>\n      <td>NaN</td>\n      <td>NaN</td>\n      <td>NaN</td>\n    </tr>\n    <tr>\n      <th>RevOverallRating</th>\n      <td>39421</td>\n      <td>NaN</td>\n      <td>NaN</td>\n      <td>NaN</td>\n      <td>7.14079</td>\n      <td>2.35378</td>\n      <td>0</td>\n      <td>5</td>\n      <td>7.9</td>\n      <td>9.2</td>\n      <td>10</td>\n    </tr>\n    <tr>\n      <th>RevLocationRating</th>\n      <td>39421</td>\n      <td>NaN</td>\n      <td>NaN</td>\n      <td>NaN</td>\n      <td>-0.671622</td>\n      <td>0.578889</td>\n      <td>-1</td>\n      <td>-1</td>\n      <td>-1</td>\n      <td>0</td>\n      <td>5</td>\n    </tr>\n    <tr>\n      <th>RevSleepQualityRating</th>\n      <td>39421</td>\n      <td>NaN</td>\n      <td>NaN</td>\n      <td>NaN</td>\n      <td>-0.583192</td>\n      <td>0.908503</td>\n      <td>-1</td>\n      <td>-1</td>\n      <td>-1</td>\n      <td>0</td>\n      <td>5</td>\n    </tr>\n    <tr>\n      <th>RevRoomsRating</th>\n      <td>39421</td>\n      <td>NaN</td>\n      <td>NaN</td>\n      <td>NaN</td>\n      <td>-0.691789</td>\n      <td>0.46176</td>\n      <td>-1</td>\n      <td>-1</td>\n      <td>-1</td>\n      <td>0</td>\n      <td>0</td>\n    </tr>\n    <tr>\n      <th>RevServiceRating</th>\n      <td>39421</td>\n      <td>NaN</td>\n      <td>NaN</td>\n      <td>NaN</td>\n      <td>-0.533548</td>\n      <td>1.0613</td>\n      <td>-1</td>\n      <td>-1</td>\n      <td>-1</td>\n      <td>0</td>\n      <td>5</td>\n    </tr>\n    <tr>\n      <th>RevValueRating</th>\n      <td>39421</td>\n      <td>NaN</td>\n      <td>NaN</td>\n      <td>NaN</td>\n      <td>-0.67842</td>\n      <td>0.538623</td>\n      <td>-1</td>\n      <td>-1</td>\n      <td>-1</td>\n      <td>0</td>\n      <td>5</td>\n    </tr>\n    <tr>\n      <th>RevCleanlinessRating</th>\n      <td>39421</td>\n      <td>NaN</td>\n      <td>NaN</td>\n      <td>NaN</td>\n      <td>-0.691662</td>\n      <td>0.462636</td>\n      <td>-1</td>\n      <td>-1</td>\n      <td>-1</td>\n      <td>0</td>\n      <td>5</td>\n    </tr>\n  </tbody>\n</table>\n</div>"
     },
     "metadata": {},
     "execution_count": 4
    }
   ],
   "source": [
    "# Describe dataset\n",
    "summary=ds.describe(include='all')\n",
    "summary=summary.transpose()\n",
    "summary.head(len(summary))"
   ]
  },
  {
   "cell_type": "code",
   "execution_count": 5,
   "metadata": {},
   "outputs": [
    {
     "output_type": "stream",
     "name": "stdout",
     "text": [
      "Full review:\n My husband &amp; I stayed here for 10 days. Hotel arranged for airport pick up prior to our arrival. Staff was friendly and helpful. Lisbon is a great \"walking city\" and the location is very central; easy walk to sites, trams, etc. Base level rooms are VERY small (read size when booking). Bathroom had tub which is a nice plus. Linens were good, mattress quite comfortable, pillows a little too \"hard\" for our preference. Outside noise (trash trucks) awoke me two separate nights. Breakfast offering was plentiful and good, bar drinks also good. We did have one problem during our stay. One night when we arrived to our room our door was open. Nightly, treats are delivered and we suspected the door was inadvertently left not fully closed by the person who delivered that nights' treat. Staff investigated and we were told by reviewing our lock personnel from the restaurant (treat) &amp; housekeeping had entered our room and thus they were unable to determine who left the door open. Fortunately nothing was stolen, BUT.... It was deeply unsettling. An offer to upgrade us to a suite \"being unused\" by the GM was offered, which we declined. We were surprised that a couple nights later when we ran into the GM at the hotel bar she did NOT pick up our bar tab. I would not likely stay at this hotel again or recommend it based on our experience.\n"
     ]
    }
   ],
   "source": [
    "# View text of review with ID T9909\n",
    "reviewText = ds.RevDescription['T9909']\n",
    "print(\"Full review:\\n\",reviewText)\n",
    "# There is HTML after \"My husband\" and after \"restaurant (treat)\"\n",
    "# &amp; is the HTML encoding for \"&\""
   ]
  },
  {
   "cell_type": "code",
   "execution_count": 6,
   "metadata": {},
   "outputs": [],
   "source": [
    "# Let's use BeatifulSoap to remove HMTL\n",
    "from bs4 import BeautifulSoup"
   ]
  },
  {
   "cell_type": "code",
   "execution_count": 7,
   "metadata": {},
   "outputs": [
    {
     "output_type": "stream",
     "name": "stdout",
     "text": [
      "Full review without HTML:\n My husband & I stayed here for 10 days. Hotel arranged for airport pick up prior to our arrival. Staff was friendly and helpful. Lisbon is a great \"walking city\" and the location is very central; easy walk to sites, trams, etc. Base level rooms are VERY small (read size when booking). Bathroom had tub which is a nice plus. Linens were good, mattress quite comfortable, pillows a little too \"hard\" for our preference. Outside noise (trash trucks) awoke me two separate nights. Breakfast offering was plentiful and good, bar drinks also good. We did have one problem during our stay. One night when we arrived to our room our door was open. Nightly, treats are delivered and we suspected the door was inadvertently left not fully closed by the person who delivered that nights' treat. Staff investigated and we were told by reviewing our lock personnel from the restaurant (treat) & housekeeping had entered our room and thus they were unable to determine who left the door open. Fortunately nothing was stolen, BUT.... It was deeply unsettling. An offer to upgrade us to a suite \"being unused\" by the GM was offered, which we declined. We were surprised that a couple nights later when we ran into the GM at the hotel bar she did NOT pick up our bar tab. I would not likely stay at this hotel again or recommend it based on our experience.\n"
     ]
    }
   ],
   "source": [
    "# Let's now remove the HTML\n",
    "rawText = BeautifulSoup(reviewText,'html.parser').get_text()\n",
    "print(\"Full review without HTML:\\n\",rawText)\n",
    "# Check the differences (&amp;) see the \"<br>\""
   ]
  },
  {
   "cell_type": "code",
   "execution_count": 8,
   "metadata": {},
   "outputs": [
    {
     "output_type": "stream",
     "name": "stdout",
     "text": [
      "Normalized text:\n my husband & i stayed here for 10 days. hotel arranged for airport pick up prior to our arrival. staff was friendly and helpful. lisbon is a great \"walking city\" and the location is very central; easy walk to sites, trams, etc. base level rooms are very small (read size when booking). bathroom had tub which is a nice plus. linens were good, mattress quite comfortable, pillows a little too \"hard\" for our preference. outside noise (trash trucks) awoke me two separate nights. breakfast offering was plentiful and good, bar drinks also good. we did have one problem during our stay. one night when we arrived to our room our door was open. nightly, treats are delivered and we suspected the door was inadvertently left not fully closed by the person who delivered that nights' treat. staff investigated and we were told by reviewing our lock personnel from the restaurant (treat) & housekeeping had entered our room and thus they were unable to determine who left the door open. fortunately nothing was stolen, but.... it was deeply unsettling. an offer to upgrade us to a suite \"being unused\" by the gm was offered, which we declined. we were surprised that a couple nights later when we ran into the gm at the hotel bar she did not pick up our bar tab. i would not likely stay at this hotel again or recommend it based on our experience.\n"
     ]
    }
   ],
   "source": [
    "# Normalize case\n",
    "# The typical is normalizing to lower case\n",
    "normalizedText = rawText.lower()\n",
    "print(\"Normalized text:\\n\",normalizedText)"
   ]
  },
  {
   "cell_type": "code",
   "execution_count": 9,
   "metadata": {},
   "outputs": [],
   "source": [
    "# Remove certain classes of characters (using \"regular expressions\" - regex)\n",
    "# For that let's use RE\n",
    "import re\n",
    "# To test regex online: https://regex101.com\n",
    "# Regex in more detail: https://www.machinelearningplus.com/python/python-regex-tutorial-examples/"
   ]
  },
  {
   "cell_type": "code",
   "execution_count": 10,
   "metadata": {},
   "outputs": [
    {
     "output_type": "stream",
     "name": "stdout",
     "text": [
      "Text without punctuation:\n my husband  i stayed here for  days hotel arranged for airport pick up prior to our arrival staff was friendly and helpful lisbon is a great walking city and the location is very central easy walk to sites trams etc base level rooms are very small read size when booking bathroom had tub which is a nice plus linens were good mattress quite comfortable pillows a little too hard for our preference outside noise trash trucks awoke me two separate nights breakfast offering was plentiful and good bar drinks also good we did have one problem during our stay one night when we arrived to our room our door was open nightly treats are delivered and we suspected the door was inadvertently left not fully closed by the person who delivered that nights' treat staff investigated and we were told by reviewing our lock personnel from the restaurant treat  housekeeping had entered our room and thus they were unable to determine who left the door open fortunately nothing was stolen but it was deeply unsettling an offer to upgrade us to a suite being unused by the gm was offered which we declined we were surprised that a couple nights later when we ran into the gm at the hotel bar she did not pick up our bar tab i would not likely stay at this hotel again or recommend it based on our experience\n"
     ]
    }
   ],
   "source": [
    "# Remove punctation and other characters such as \"&\"\n",
    "charsToRemove = r'\\?|\\.|\\!|\\;|\\.|\\\"|\\,|\\(|\\)|\\&|[0-9]'\n",
    "textWOPunctuation = re.sub(charsToRemove,'', normalizedText,)\n",
    "print(\"Text without punctuation:\\n\",textWOPunctuation)"
   ]
  },
  {
   "cell_type": "code",
   "execution_count": 11,
   "metadata": {},
   "outputs": [
    {
     "output_type": "stream",
     "name": "stdout",
     "text": [
      "{'more', 'this', \"doesn't\", 'on', 'be', 'i', 'where', \"couldn't\", \"hasn't\", 'aren', 'when', 'you', 'has', 'by', 'we', 'yourself', 've', \"shouldn't\", 'before', 'from', 'don', 'won', 'hers', 'own', 'some', 'yourselves', 'all', 'its', 'y', 'until', \"won't\", 'myself', 're', \"that'll\", \"should've\", 'haven', 'yours', \"mightn't\", \"you've\", 'should', 'as', 'under', 'them', 'hadn', 'why', 'so', 'very', 'which', 'against', 'while', 'not', 'only', \"wasn't\", 'doing', 'ours', 'because', \"weren't\", 'an', 'ma', 'll', 'his', 'she', 'now', 'have', \"she's\", 'down', 'in', 'both', 'shouldn', 'there', 'that', 'then', 'up', 'herself', 'few', 'once', 'too', 'will', 'been', \"shan't\", 'into', 'their', \"aren't\", 'and', \"needn't\", 'whom', 'ain', 'just', \"didn't\", 'is', 'at', 'after', 'was', 'other', 'nor', 'theirs', 'each', 'needn', 'the', 'isn', 't', 'mustn', 'what', 'does', 'out', 'to', \"isn't\", \"wouldn't\", \"you're\", 'had', 'who', 'if', 'weren', \"it's\", 'further', 'such', 'or', 'how', 'can', 'himself', 'during', 'were', 'it', 'with', 'no', \"haven't\", 'but', 'below', 'he', 'again', 'shan', 'themselves', \"don't\", 'm', 'd', 'having', 'a', \"mustn't\", 'couldn', 'these', 'your', 'over', 'of', 'doesn', 'o', \"hadn't\", 'hasn', 'are', 'than', 'wasn', 'my', 'me', 'about', \"you'd\", 'him', 'those', 'itself', 'between', 'do', 'being', 'here', 'for', 'most', \"you'll\", 'mightn', 'did', 'any', 'off', 'our', 'her', 's', 'didn', 'am', 'ourselves', 'through', 'wouldn', 'they', 'above', 'same'}\n"
     ]
    }
   ],
   "source": [
    "# Now, let's remove stop words\n",
    "# Let's start by getting the package and checking them\n",
    "from nltk.corpus import stopwords\n",
    "stop_words = set(stopwords.words('english'))\n",
    "print (stop_words)"
   ]
  },
  {
   "cell_type": "code",
   "execution_count": 12,
   "metadata": {},
   "outputs": [
    {
     "output_type": "stream",
     "name": "stdout",
     "text": [
      "List of words:\n ['my', 'husband', 'i', 'stayed', 'here', 'for', 'days', 'hotel', 'arranged', 'for', 'airport', 'pick', 'up', 'prior', 'to', 'our', 'arrival', 'staff', 'was', 'friendly', 'and', 'helpful', 'lisbon', 'is', 'a', 'great', 'walking', 'city', 'and', 'the', 'location', 'is', 'very', 'central', 'easy', 'walk', 'to', 'sites', 'trams', 'etc', 'base', 'level', 'rooms', 'are', 'very', 'small', 'read', 'size', 'when', 'booking', 'bathroom', 'had', 'tub', 'which', 'is', 'a', 'nice', 'plus', 'linens', 'were', 'good', 'mattress', 'quite', 'comfortable', 'pillows', 'a', 'little', 'too', 'hard', 'for', 'our', 'preference', 'outside', 'noise', 'trash', 'trucks', 'awoke', 'me', 'two', 'separate', 'nights', 'breakfast', 'offering', 'was', 'plentiful', 'and', 'good', 'bar', 'drinks', 'also', 'good', 'we', 'did', 'have', 'one', 'problem', 'during', 'our', 'stay', 'one', 'night', 'when', 'we', 'arrived', 'to', 'our', 'room', 'our', 'door', 'was', 'open', 'nightly', 'treats', 'are', 'delivered', 'and', 'we', 'suspected', 'the', 'door', 'was', 'inadvertently', 'left', 'not', 'fully', 'closed', 'by', 'the', 'person', 'who', 'delivered', 'that', 'nights', \"'\", 'treat', 'staff', 'investigated', 'and', 'we', 'were', 'told', 'by', 'reviewing', 'our', 'lock', 'personnel', 'from', 'the', 'restaurant', 'treat', 'housekeeping', 'had', 'entered', 'our', 'room', 'and', 'thus', 'they', 'were', 'unable', 'to', 'determine', 'who', 'left', 'the', 'door', 'open', 'fortunately', 'nothing', 'was', 'stolen', 'but', 'it', 'was', 'deeply', 'unsettling', 'an', 'offer', 'to', 'upgrade', 'us', 'to', 'a', 'suite', 'being', 'unused', 'by', 'the', 'gm', 'was', 'offered', 'which', 'we', 'declined', 'we', 'were', 'surprised', 'that', 'a', 'couple', 'nights', 'later', 'when', 'we', 'ran', 'into', 'the', 'gm', 'at', 'the', 'hotel', 'bar', 'she', 'did', 'not', 'pick', 'up', 'our', 'bar', 'tab', 'i', 'would', 'not', 'likely', 'stay', 'at', 'this', 'hotel', 'again', 'or', 'recommend', 'it', 'based', 'on', 'our', 'experience']\n"
     ]
    }
   ],
   "source": [
    "# First, we need to tokenize text - Break it into words\n",
    "from nltk.tokenize import word_tokenize\n",
    "tokenizedText = word_tokenize(textWOPunctuation, language='english')\n",
    "print(\"List of words:\\n\",tokenizedText)"
   ]
  },
  {
   "cell_type": "code",
   "execution_count": 13,
   "metadata": {},
   "outputs": [
    {
     "output_type": "stream",
     "name": "stdout",
     "text": [
      "Text without stopwords:\n ['husband', 'stayed', 'days', 'hotel', 'arranged', 'airport', 'pick', 'prior', 'arrival', 'staff', 'friendly', 'helpful', 'lisbon', 'great', 'walking', 'city', 'location', 'central', 'easy', 'walk', 'sites', 'trams', 'etc', 'base', 'level', 'rooms', 'small', 'read', 'size', 'booking', 'bathroom', 'tub', 'nice', 'plus', 'linens', 'good', 'mattress', 'quite', 'comfortable', 'pillows', 'little', 'hard', 'preference', 'outside', 'noise', 'trash', 'trucks', 'awoke', 'two', 'separate', 'nights', 'breakfast', 'offering', 'plentiful', 'good', 'bar', 'drinks', 'also', 'good', 'one', 'problem', 'stay', 'one', 'night', 'arrived', 'room', 'door', 'open', 'nightly', 'treats', 'delivered', 'suspected', 'door', 'inadvertently', 'left', 'fully', 'closed', 'person', 'delivered', 'nights', \"'\", 'treat', 'staff', 'investigated', 'told', 'reviewing', 'lock', 'personnel', 'restaurant', 'treat', 'housekeeping', 'entered', 'room', 'thus', 'unable', 'determine', 'left', 'door', 'open', 'fortunately', 'nothing', 'stolen', 'deeply', 'unsettling', 'offer', 'upgrade', 'us', 'suite', 'unused', 'gm', 'offered', 'declined', 'surprised', 'couple', 'nights', 'later', 'ran', 'gm', 'hotel', 'bar', 'pick', 'bar', 'tab', 'would', 'likely', 'stay', 'hotel', 'recommend', 'based', 'experience']\n"
     ]
    }
   ],
   "source": [
    "# Let's create a list with all words that are not part of the stop words list\n",
    "cleanedText = []\n",
    "for t in tokenizedText:\n",
    "    if t not in stop_words:\n",
    "        cleanedText.append(t)\n",
    "print(\"Text without stopwords:\\n\",cleanedText) "
   ]
  },
  {
   "cell_type": "code",
   "execution_count": 14,
   "metadata": {},
   "outputs": [
    {
     "output_type": "stream",
     "name": "stdout",
     "text": [
      "Full sentence with changes so far:\n husband stayed days hotel arranged airport pick prior arrival staff friendly helpful lisbon great walking city location central easy walk sites trams etc base level rooms small read size booking bathroom tub nice plus linens good mattress quite comfortable pillows little hard preference outside noise trash trucks awoke two separate nights breakfast offering plentiful good bar drinks also good one problem stay one night arrived room door open nightly treats delivered suspected door inadvertently left fully closed person delivered nights ' treat staff investigated told reviewing lock personnel restaurant treat housekeeping entered room thus unable determine left door open fortunately nothing stolen deeply unsettling offer upgrade us suite unused gm offered declined surprised couple nights later ran gm hotel bar pick bar tab would likely stay hotel recommend based experience\n"
     ]
    }
   ],
   "source": [
    "# Now, let's concatenate it again to a sentence\n",
    "newText = ''\n",
    "for t in cleanedText:\n",
    "  newText = newText + t + ' '\n",
    "newText = newText.rstrip() # rstring (remove spaces at the right of the string)\n",
    "print(\"Full sentence with changes so far:\\n\", newText)"
   ]
  },
  {
   "cell_type": "code",
   "execution_count": 15,
   "metadata": {},
   "outputs": [
    {
     "output_type": "stream",
     "name": "stdout",
     "text": [
      "Text the replacements:\n  husband stayed days hotel arranged airport pick prior arrival staff friendly helpful lisbon great walking city location central easy walk sites trams etc base level rooms small read size booking bathroom bathtub nice plus linens good mattress quite comfortable pillows little hard preference outside noise trash trucks awoke two separate nights breakfast offering plentiful good bar drinks also good one problem stay one night arrived room door open nightly treats delivered suspected door inadvertently left fully closed person delivered nights ' treat staff investigated told reviewing lock personnel restaurant treat housekeeping entered room thus unable determine left door open fortunately nothing stolen deeply unsettling offer upgrade us suite unused gm offered declined surprised couple nights later ran gm hotel bar pick bar tab would likely stay hotel recommend based experience \n"
     ]
    }
   ],
   "source": [
    "# Many times terms need to be replaced for other terms\n",
    "# E.g., wi-fi, wifi, internet\n",
    "# In this example: tub by bathtub\n",
    "newText = (\" \"+newText+\" \").replace(\" tub \",\" bathtub \")\n",
    "print(\"Text the replacements:\\n\", newText)"
   ]
  },
  {
   "cell_type": "code",
   "execution_count": 16,
   "metadata": {},
   "outputs": [],
   "source": [
    "# Now, let's lemmatize the text - reduce terms to their origin\n",
    "# Let's start by loading the necessary package\n",
    "from nltk.stem.wordnet import WordNetLemmatizer"
   ]
  },
  {
   "cell_type": "code",
   "execution_count": 17,
   "metadata": {},
   "outputs": [
    {
     "output_type": "stream",
     "name": "stdout",
     "text": [
      "Lemmatized text :\n ['husband', 'stayed', 'day', 'hotel', 'arranged', 'airport', 'pick', 'prior', 'arrival', 'staff', 'friendly', 'helpful', 'lisbon', 'great', 'walking', 'city', 'location', 'central', 'easy', 'walk', 'site', 'tram', 'etc', 'base', 'level', 'room', 'small', 'read', 'size', 'booking', 'bathroom', 'tub', 'nice', 'plus', 'linen', 'good', 'mattress', 'quite', 'comfortable', 'pillow', 'little', 'hard', 'preference', 'outside', 'noise', 'trash', 'truck', 'awoke', 'two', 'separate', 'night', 'breakfast', 'offering', 'plentiful', 'good', 'bar', 'drink', 'also', 'good', 'one', 'problem', 'stay', 'one', 'night', 'arrived', 'room', 'door', 'open', 'nightly', 'treat', 'delivered', 'suspected', 'door', 'inadvertently', 'left', 'fully', 'closed', 'person', 'delivered', 'night', \"'\", 'treat', 'staff', 'investigated', 'told', 'reviewing', 'lock', 'personnel', 'restaurant', 'treat', 'housekeeping', 'entered', 'room', 'thus', 'unable', 'determine', 'left', 'door', 'open', 'fortunately', 'nothing', 'stolen', 'deeply', 'unsettling', 'offer', 'upgrade', 'u', 'suite', 'unused', 'gm', 'offered', 'declined', 'surprised', 'couple', 'night', 'later', 'ran', 'gm', 'hotel', 'bar', 'pick', 'bar', 'tab', 'would', 'likely', 'stay', 'hotel', 'recommend', 'based', 'experience']\n"
     ]
    }
   ],
   "source": [
    "# We are using the tokanized text\n",
    "lem = WordNetLemmatizer()\n",
    "lemmatizedText= []\n",
    "for t in cleanedText:\n",
    "    lemWord = lem.lemmatize(t)\n",
    "    lemmatizedText.append(lemWord)\n",
    "print(\"Lemmatized text :\\n\",lemmatizedText)\n",
    "# Not that much of a difference - let's see steming"
   ]
  },
  {
   "cell_type": "code",
   "execution_count": 18,
   "metadata": {},
   "outputs": [],
   "source": [
    "# Load the necessary package\n",
    "from nltk.stem.porter import PorterStemmer"
   ]
  },
  {
   "cell_type": "code",
   "execution_count": 19,
   "metadata": {},
   "outputs": [
    {
     "output_type": "stream",
     "name": "stdout",
     "text": [
      "Stemmed text :\n ['husband', 'stay', 'day', 'hotel', 'arrang', 'airport', 'pick', 'prior', 'arriv', 'staff', 'friendli', 'help', 'lisbon', 'great', 'walk', 'citi', 'locat', 'central', 'easi', 'walk', 'site', 'tram', 'etc', 'base', 'level', 'room', 'small', 'read', 'size', 'book', 'bathroom', 'tub', 'nice', 'plu', 'linen', 'good', 'mattress', 'quit', 'comfort', 'pillow', 'littl', 'hard', 'prefer', 'outsid', 'nois', 'trash', 'truck', 'awok', 'two', 'separ', 'night', 'breakfast', 'offer', 'plenti', 'good', 'bar', 'drink', 'also', 'good', 'one', 'problem', 'stay', 'one', 'night', 'arriv', 'room', 'door', 'open', 'nightli', 'treat', 'deliv', 'suspect', 'door', 'inadvert', 'left', 'fulli', 'close', 'person', 'deliv', 'night', \"'\", 'treat', 'staff', 'investig', 'told', 'review', 'lock', 'personnel', 'restaur', 'treat', 'housekeep', 'enter', 'room', 'thu', 'unabl', 'determin', 'left', 'door', 'open', 'fortun', 'noth', 'stolen', 'deepli', 'unsettl', 'offer', 'upgrad', 'us', 'suit', 'unus', 'gm', 'offer', 'declin', 'surpris', 'coupl', 'night', 'later', 'ran', 'gm', 'hotel', 'bar', 'pick', 'bar', 'tab', 'would', 'like', 'stay', 'hotel', 'recommend', 'base', 'experi']\n"
     ]
    }
   ],
   "source": [
    "# Check the differences after this\n",
    "# Verbs like \"stayed -> stay\" or \"arranged -> arrang\"\n",
    "stem = PorterStemmer()\n",
    "stemmedText = []\n",
    "for t in cleanedText:\n",
    "    stemmedWord = stem.stem(t)\n",
    "    stemmedText.append(stemmedWord)\n",
    "print(\"Stemmed text :\\n\",stemmedText) "
   ]
  },
  {
   "cell_type": "code",
   "execution_count": null,
   "metadata": {},
   "outputs": [],
   "source": []
  }
 ]
}