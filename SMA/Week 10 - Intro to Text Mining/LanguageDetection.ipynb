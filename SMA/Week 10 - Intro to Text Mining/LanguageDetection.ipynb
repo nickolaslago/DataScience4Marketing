{
 "metadata": {
  "language_info": {
   "codemirror_mode": {
    "name": "ipython",
    "version": 3
   },
   "file_extension": ".py",
   "mimetype": "text/x-python",
   "name": "python",
   "nbconvert_exporter": "python",
   "pygments_lexer": "ipython3",
   "version": "3.8.5"
  },
  "orig_nbformat": 2,
  "kernelspec": {
   "name": "python385jvsc74a57bd063338cfbd7cefcf7831943fc376709a132ac9d6ab811e65cbbb64a8a4fd355d8",
   "display_name": "Python 3.8.5 64-bit ('base': conda)"
  }
 },
 "nbformat": 4,
 "nbformat_minor": 2,
 "cells": [
  {
   "source": [
    "##### Social Media Analytics\n",
    "### Introduction to Text Mining\n",
    "## Language Detection\n",
    "(c) Nuno Antonio 2019-2021"
   ],
   "cell_type": "markdown",
   "metadata": {}
  },
  {
   "source": [
    "### Initial setup"
   ],
   "cell_type": "markdown",
   "metadata": {}
  },
  {
   "cell_type": "code",
   "execution_count": 2,
   "metadata": {},
   "outputs": [],
   "source": [
    "# Import packages\n",
    "from textblob import TextBlob"
   ]
  },
  {
   "source": [
    "### Examples"
   ],
   "cell_type": "markdown",
   "metadata": {}
  },
  {
   "source": [
    "Languages codes: https://meta.wikimedia.org/wiki/Template:List_of_language_names_ordered_by_code"
   ],
   "cell_type": "markdown",
   "metadata": {}
  },
  {
   "cell_type": "code",
   "execution_count": 4,
   "metadata": {},
   "outputs": [
    {
     "output_type": "stream",
     "name": "stdout",
     "text": [
      "en\n"
     ]
    }
   ],
   "source": [
    "# English\n",
    "text = \"Good morning everyone\"\n",
    "lang = TextBlob(text)\n",
    "print(lang.detect_language())"
   ]
  },
  {
   "cell_type": "code",
   "execution_count": 5,
   "metadata": {},
   "outputs": [
    {
     "output_type": "stream",
     "name": "stdout",
     "text": [
      "es\n"
     ]
    }
   ],
   "source": [
    "# Spanish\n",
    "text = \"Buenos días a todos\"\n",
    "lang = TextBlob(text)\n",
    "print(lang.detect_language())"
   ]
  },
  {
   "cell_type": "code",
   "execution_count": 7,
   "metadata": {},
   "outputs": [
    {
     "output_type": "stream",
     "name": "stdout",
     "text": [
      "pt\n"
     ]
    }
   ],
   "source": [
    "# Portuguese\n",
    "text = \"Bom dia para todos\"\n",
    "lang = TextBlob(text)\n",
    "print(lang.detect_language())"
   ]
  },
  {
   "cell_type": "code",
   "execution_count": 6,
   "metadata": {},
   "outputs": [
    {
     "output_type": "stream",
     "name": "stdout",
     "text": [
      "ru\n"
     ]
    }
   ],
   "source": [
    "# Russian\n",
    "text = \"доброе утро всем\"\n",
    "lang = TextBlob(text)\n",
    "print(lang.detect_language())"
   ]
  },
  {
   "cell_type": "code",
   "execution_count": null,
   "metadata": {},
   "outputs": [],
   "source": []
  }
 ]
}