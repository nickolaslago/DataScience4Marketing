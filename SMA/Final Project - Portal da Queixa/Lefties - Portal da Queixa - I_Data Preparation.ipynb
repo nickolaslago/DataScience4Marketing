{
 "cells": [
  {
   "cell_type": "markdown",
   "metadata": {},
   "source": [
    "# Webscraping\n",
    "## Portal da Queixa\n",
    "### Changes may be required due to Portal da Queixa's continous updates\n",
    "\n",
    "(c) Nickolas Lago 2021 - Rev. 1.0"
   ]
  },
  {
   "cell_type": "markdown",
   "metadata": {},
   "source": [
    "### Load packages and do the initializations"
   ]
  },
  {
   "cell_type": "code",
   "execution_count": 1,
   "metadata": {},
   "outputs": [],
   "source": [
    "# Load libraries\n",
    "import numpy as np\n",
    "import pandas as pd\n",
    "import seaborn as sns\n",
    "from datetime import datetime\n",
    "import matplotlib.pyplot as plt\n",
    "import category_encoders as ce\n",
    "from bs4 import BeautifulSoup\n",
    "import re\n",
    "from nltk.corpus import stopwords\n",
    "from nltk.tokenize import word_tokenize\n",
    "from nltk.stem.porter import PorterStemmer"
   ]
  },
  {
   "source": [
    "### Importing the data from the provious webscraping\n",
    "\n",
    "Delete the Unnamed: 0 column and make the complainID the index column of the DataFrame"
   ],
   "cell_type": "markdown",
   "metadata": {}
  },
  {
   "cell_type": "code",
   "execution_count": 2,
   "metadata": {},
   "outputs": [],
   "source": [
    "df = pd.read_excel(\"complains_data.xlsx\", index_col=\"complainID\")"
   ]
  },
  {
   "cell_type": "code",
   "execution_count": 3,
   "metadata": {},
   "outputs": [],
   "source": [
    "cols_to_drop = [\"Unnamed: 0\"]\n",
    "df = df.drop(cols_to_drop, axis=1)"
   ]
  },
  {
   "cell_type": "code",
   "execution_count": 4,
   "metadata": {},
   "outputs": [
    {
     "output_type": "execute_result",
     "data": {
      "text/plain": [
       "              complainStatus      complainUser  \\\n",
       "complainID                                       \n",
       "59476521    Aguarda resposta            Susana   \n",
       "58935721    Aguarda resposta   Cassia Barcelos   \n",
       "58754421    Aguarda resposta            Milene   \n",
       "58696921    Aguarda resposta  Mariana Ferreira   \n",
       "58650521           Resolvida       Olga Santos   \n",
       "\n",
       "                                                complainTitle  complainViews  \\\n",
       "complainID                                                                     \n",
       "59476521                       Lefties - Devolução de artigos             55   \n",
       "58935721           Lefties - Troca de peças compradas on-line            175   \n",
       "58754421                     Lefties - Encomenda não entregue             62   \n",
       "58696921    Lefties - Encomenda não entregue nem resolvem ...             41   \n",
       "58650521                     Lefties - Encomenda não entregue            124   \n",
       "\n",
       "                                                 complainText  \\\n",
       "complainID                                                      \n",
       "59476521    Recebi a minha encomenda no dia 19-04-2021 e i...   \n",
       "58935721    Boa noite, _x000D_\\nVenho mostrar o meu total ...   \n",
       "58754421    A minha encomenda que fiz no dia 19 de Março n...   \n",
       "58696921    Encomenda nr ‪90003989775‬ já deveria ter sido...   \n",
       "58650521    Bom dia. Fiz uma encomenda online na Lefties n...   \n",
       "\n",
       "                  complainDate  \n",
       "complainID                      \n",
       "59476521       5 de maio 2021   \n",
       "58935721     23 de abril 2021   \n",
       "58754421     20 de abril 2021   \n",
       "58696921     19 de abril 2021   \n",
       "58650521     17 de abril 2021   "
      ],
      "text/html": "<div>\n<style scoped>\n    .dataframe tbody tr th:only-of-type {\n        vertical-align: middle;\n    }\n\n    .dataframe tbody tr th {\n        vertical-align: top;\n    }\n\n    .dataframe thead th {\n        text-align: right;\n    }\n</style>\n<table border=\"1\" class=\"dataframe\">\n  <thead>\n    <tr style=\"text-align: right;\">\n      <th></th>\n      <th>complainStatus</th>\n      <th>complainUser</th>\n      <th>complainTitle</th>\n      <th>complainViews</th>\n      <th>complainText</th>\n      <th>complainDate</th>\n    </tr>\n    <tr>\n      <th>complainID</th>\n      <th></th>\n      <th></th>\n      <th></th>\n      <th></th>\n      <th></th>\n      <th></th>\n    </tr>\n  </thead>\n  <tbody>\n    <tr>\n      <th>59476521</th>\n      <td>Aguarda resposta</td>\n      <td>Susana</td>\n      <td>Lefties - Devolução de artigos</td>\n      <td>55</td>\n      <td>Recebi a minha encomenda no dia 19-04-2021 e i...</td>\n      <td>5 de maio 2021</td>\n    </tr>\n    <tr>\n      <th>58935721</th>\n      <td>Aguarda resposta</td>\n      <td>Cassia Barcelos</td>\n      <td>Lefties - Troca de peças compradas on-line</td>\n      <td>175</td>\n      <td>Boa noite, _x000D_\\nVenho mostrar o meu total ...</td>\n      <td>23 de abril 2021</td>\n    </tr>\n    <tr>\n      <th>58754421</th>\n      <td>Aguarda resposta</td>\n      <td>Milene</td>\n      <td>Lefties - Encomenda não entregue</td>\n      <td>62</td>\n      <td>A minha encomenda que fiz no dia 19 de Março n...</td>\n      <td>20 de abril 2021</td>\n    </tr>\n    <tr>\n      <th>58696921</th>\n      <td>Aguarda resposta</td>\n      <td>Mariana Ferreira</td>\n      <td>Lefties - Encomenda não entregue nem resolvem ...</td>\n      <td>41</td>\n      <td>Encomenda nr ‪90003989775‬ já deveria ter sido...</td>\n      <td>19 de abril 2021</td>\n    </tr>\n    <tr>\n      <th>58650521</th>\n      <td>Resolvida</td>\n      <td>Olga Santos</td>\n      <td>Lefties - Encomenda não entregue</td>\n      <td>124</td>\n      <td>Bom dia. Fiz uma encomenda online na Lefties n...</td>\n      <td>17 de abril 2021</td>\n    </tr>\n  </tbody>\n</table>\n</div>"
     },
     "metadata": {},
     "execution_count": 4
    }
   ],
   "source": [
    "df.head()"
   ]
  },
  {
   "source": [
    "## Working with Text\n",
    "\n",
    "Cleaning and normalization of the raw text."
   ],
   "cell_type": "markdown",
   "metadata": {}
  },
  {
   "cell_type": "code",
   "execution_count": 5,
   "metadata": {},
   "outputs": [
    {
     "output_type": "stream",
     "name": "stdout",
     "text": [
      "Boa noite, _x000D_\nVenho mostrar o meu total descontentamento e frustação relativamente ao serviço prestado. _x000D_\nFiz uma encomenda de várias peças, uma delas um pack de 4 calças de fato de treino por 15,99€. Ao chegar a encomenda deparei-me que em vez do pack só tinha recebido 1 calça em vez das 4. Enviei e-mail para o apoio ao cliente a expor a situação, passado algumas horas responderam a afirmar que teriam entrado em contacto comigo várias vezes sem sucesso (o que é mentira pois confirmei o número de telefone cedido na minha conta e não tinha nenhuma chamada não atendida), pediram para retribuir a chamada. _x000D_\nContactei então por chamada telefonica, ao qual a assistente que me atendeu nunca pediu desculpa pelo sucedido mas explicou que deveria devolver a calça com uma etiqueta própria e que me seria enviado o pack completo. _x000D_\nPassado dois dias recebi o pack mas desta vez 1 das 4 calças veio com vários tamanhos abaixo do pedido. _x000D_\nQuero que resolvam esta situação de uma vez por todas, o meu trabalho não é compatível com o ponto picket para fazer a devolução. Espero que resolvam esta desagradável situação de uma vez por todas e concertesa não vou recomendar nem comprar mais nada a esta marca.\n"
     ]
    }
   ],
   "source": [
    "textRaw = df.complainText[58935721]\n",
    "\n",
    "print(textRaw)"
   ]
  },
  {
   "cell_type": "code",
   "execution_count": 6,
   "metadata": {},
   "outputs": [
    {
     "output_type": "stream",
     "name": "stdout",
     "text": [
      "boa noite, _x000d_\nvenho mostrar o meu total descontentamento e frustação relativamente ao serviço prestado. _x000d_\nfiz uma encomenda de várias peças, uma delas um pack de 4 calças de fato de treino por 15,99€. ao chegar a encomenda deparei-me que em vez do pack só tinha recebido 1 calça em vez das 4. enviei e-mail para o apoio ao cliente a expor a situação, passado algumas horas responderam a afirmar que teriam entrado em contacto comigo várias vezes sem sucesso (o que é mentira pois confirmei o número de telefone cedido na minha conta e não tinha nenhuma chamada não atendida), pediram para retribuir a chamada. _x000d_\ncontactei então por chamada telefonica, ao qual a assistente que me atendeu nunca pediu desculpa pelo sucedido mas explicou que deveria devolver a calça com uma etiqueta própria e que me seria enviado o pack completo. _x000d_\npassado dois dias recebi o pack mas desta vez 1 das 4 calças veio com vários tamanhos abaixo do pedido. _x000d_\nquero que resolvam esta situação de uma vez por todas, o meu trabalho não é compatível com o ponto picket para fazer a devolução. espero que resolvam esta desagradável situação de uma vez por todas e concertesa não vou recomendar nem comprar mais nada a esta marca.\n"
     ]
    }
   ],
   "source": [
    "# normalize the case\n",
    "\n",
    "textNormalized = textRaw.lower()\n",
    "\n",
    "print(textNormalized)"
   ]
  },
  {
   "cell_type": "code",
   "execution_count": 7,
   "metadata": {},
   "outputs": [
    {
     "output_type": "stream",
     "name": "stdout",
     "text": [
      "boa noite \nvenho mostrar o meu total descontentamento e frustação relativamente ao serviço prestado \nfiz uma encomenda de várias peças uma delas um pack de  calças de fato de treino por € ao chegar a encomenda deparei-me que em vez do pack só tinha recebido  calça em vez das  enviei e-mail para o apoio ao cliente a expor a situação passado algumas horas responderam a afirmar que teriam entrado em contacto comigo várias vezes sem sucesso o que é mentira pois confirmei o número de telefone cedido na minha conta e não tinha nenhuma chamada não atendida pediram para retribuir a chamada \ncontactei então por chamada telefonica ao qual a assistente que me atendeu nunca pediu desculpa pelo sucedido mas explicou que deveria devolver a calça com uma etiqueta própria e que me seria enviado o pack completo \npassado dois dias recebi o pack mas desta vez  das  calças veio com vários tamanhos abaixo do pedido \nquero que resolvam esta situação de uma vez por todas o meu trabalho não é compatível com o ponto picket para fazer a devolução espero que resolvam esta desagradável situação de uma vez por todas e concertesa não vou recomendar nem comprar mais nada a esta marca\n"
     ]
    }
   ],
   "source": [
    "charsToRemove = r'\\_x000d_|\\?|\\.|\\!|\\;|\\.|\\\"|\\,|\\(|\\)|\\&|[0-9]'\n",
    "\n",
    "textWOPontuation = re.sub(charsToRemove,'', textNormalized,)\n",
    "\n",
    "print(textWOPontuation)"
   ]
  },
  {
   "cell_type": "code",
   "execution_count": 8,
   "metadata": {},
   "outputs": [
    {
     "output_type": "stream",
     "name": "stdout",
     "text": [
      "{'estivessem', 'esteve', 'das', 'ele', 'havemos', 'houve', 'fora', 'fossem', 'estava', 'o', 'estivera', 'terei', 'tuas', 'na', 'éramos', 'hajam', 'houvera', 'fôssemos', 'houvéssemos', 'é', 'pelas', 'somos', 'com', 'tivemos', 'foi', 'se', 'suas', 'num', 'pelos', 'teus', 'estes', 'houverão', 'houverei', 'estivéssemos', 'de', 'tenhamos', 'aqueles', 'hei', 'houvéramos', 'há', 'tiver', 'foram', 'houveremos', 'hajamos', 'aquilo', 'teremos', 'houver', 'eram', 'nossos', 'seríamos', 'me', 'for', 'da', 'aos', 'tínhamos', 'dele', 'houverem', 'tenham', 'tinham', 'teríamos', 'dos', 'esse', 'estivesse', 'do', 'hão', 'tivera', 'mesmo', 'tivesse', 'houvermos', 'nosso', 'isto', 'seja', 'houvessem', 'estive', 'serei', 'sejamos', 'nos', 'lhe', 'eu', 'nós', 'haja', 'estou', 'meus', 'nas', 'estiver', 'estivéramos', 'tiverem', 'estejam', 'até', 'houvesse', 'aquelas', 'estejamos', 'isso', 'pelo', 'qual', 'nossas', 'essas', 'dela', 'eles', 'ou', 'só', 'a', 'tu', 'nossa', 'também', 'tua', 'estivemos', 'fomos', 'seria', 'estavam', 'em', 'estamos', 'estivermos', 'houveria', 'seu', 'uma', 'sua', 'fui', 'esta', 'numa', 'formos', 'mas', 'aquela', 'sem', 'meu', 'estávamos', 'fosse', 'minhas', 'estiverem', 'delas', 'as', 'um', 'teve', 'no', 'quem', 'seriam', 'essa', 'e', 'tiveram', 'são', 'como', 'tivéramos', 'à', 'te', 'terão', 'teu', 'às', 'tivessem', 'houveriam', 'este', 'nem', 'ao', 'será', 'deles', 'tem', 'minha', 'forem', 'houveram', 'esses', 'quando', 'tenho', 'estão', 'não', 'tivéssemos', 'fôramos', 'entre', 'mais', 'seus', 'tém', 'terá', 'elas', 'houveríamos', 'aquele', 'ela', 'era', 'muito', 'temos', 'teria', 'os', 'tive', 'tenha', 'teriam', 'sou', 'que', 'vos', 'já', 'seremos', 'pela', 'por', 'tivermos', 'houverá', 'sejam', 'está', 'para', 'estas', 'estiveram', 'serão', 'vocês', 'houvemos', 'lhes', 'depois', 'você', 'esteja', 'tinha'}\n"
     ]
    }
   ],
   "source": [
    "# removing stop words\n",
    "stop_words = set(stopwords.words('portuguese'))\n",
    "\n",
    "print(stop_words)"
   ]
  },
  {
   "cell_type": "code",
   "execution_count": 9,
   "metadata": {},
   "outputs": [
    {
     "output_type": "stream",
     "name": "stdout",
     "text": [
      "List of words:\n ['boa', 'noite', 'venho', 'mostrar', 'o', 'meu', 'total', 'descontentamento', 'e', 'frustação', 'relativamente', 'ao', 'serviço', 'prestado', 'fiz', 'uma', 'encomenda', 'de', 'várias', 'peças', 'uma', 'delas', 'um', 'pack', 'de', 'calças', 'de', 'fato', 'de', 'treino', 'por', '€', 'ao', 'chegar', 'a', 'encomenda', 'deparei-me', 'que', 'em', 'vez', 'do', 'pack', 'só', 'tinha', 'recebido', 'calça', 'em', 'vez', 'das', 'enviei', 'e-mail', 'para', 'o', 'apoio', 'ao', 'cliente', 'a', 'expor', 'a', 'situação', 'passado', 'algumas', 'horas', 'responderam', 'a', 'afirmar', 'que', 'teriam', 'entrado', 'em', 'contacto', 'comigo', 'várias', 'vezes', 'sem', 'sucesso', 'o', 'que', 'é', 'mentira', 'pois', 'confirmei', 'o', 'número', 'de', 'telefone', 'cedido', 'na', 'minha', 'conta', 'e', 'não', 'tinha', 'nenhuma', 'chamada', 'não', 'atendida', 'pediram', 'para', 'retribuir', 'a', 'chamada', 'contactei', 'então', 'por', 'chamada', 'telefonica', 'ao', 'qual', 'a', 'assistente', 'que', 'me', 'atendeu', 'nunca', 'pediu', 'desculpa', 'pelo', 'sucedido', 'mas', 'explicou', 'que', 'deveria', 'devolver', 'a', 'calça', 'com', 'uma', 'etiqueta', 'própria', 'e', 'que', 'me', 'seria', 'enviado', 'o', 'pack', 'completo', 'passado', 'dois', 'dias', 'recebi', 'o', 'pack', 'mas', 'desta', 'vez', 'das', 'calças', 'veio', 'com', 'vários', 'tamanhos', 'abaixo', 'do', 'pedido', 'quero', 'que', 'resolvam', 'esta', 'situação', 'de', 'uma', 'vez', 'por', 'todas', 'o', 'meu', 'trabalho', 'não', 'é', 'compatível', 'com', 'o', 'ponto', 'picket', 'para', 'fazer', 'a', 'devolução', 'espero', 'que', 'resolvam', 'esta', 'desagradável', 'situação', 'de', 'uma', 'vez', 'por', 'todas', 'e', 'concertesa', 'não', 'vou', 'recomendar', 'nem', 'comprar', 'mais', 'nada', 'a', 'esta', 'marca']\n"
     ]
    }
   ],
   "source": [
    "tokenizedText = word_tokenize(textWOPontuation, language='portuguese')\n",
    "print(\"List of words:\\n\",tokenizedText)"
   ]
  },
  {
   "cell_type": "code",
   "execution_count": 10,
   "metadata": {},
   "outputs": [
    {
     "output_type": "stream",
     "name": "stdout",
     "text": [
      "Text without stopwords:\n ['boa', 'noite', 'venho', 'mostrar', 'total', 'descontentamento', 'frustação', 'relativamente', 'serviço', 'prestado', 'fiz', 'encomenda', 'várias', 'peças', 'pack', 'calças', 'fato', 'treino', '€', 'chegar', 'encomenda', 'deparei-me', 'vez', 'pack', 'recebido', 'calça', 'vez', 'enviei', 'e-mail', 'apoio', 'cliente', 'expor', 'situação', 'passado', 'algumas', 'horas', 'responderam', 'afirmar', 'entrado', 'contacto', 'comigo', 'várias', 'vezes', 'sucesso', 'mentira', 'pois', 'confirmei', 'número', 'telefone', 'cedido', 'conta', 'nenhuma', 'chamada', 'atendida', 'pediram', 'retribuir', 'chamada', 'contactei', 'então', 'chamada', 'telefonica', 'assistente', 'atendeu', 'nunca', 'pediu', 'desculpa', 'sucedido', 'explicou', 'deveria', 'devolver', 'calça', 'etiqueta', 'própria', 'enviado', 'pack', 'completo', 'passado', 'dois', 'dias', 'recebi', 'pack', 'desta', 'vez', 'calças', 'veio', 'vários', 'tamanhos', 'abaixo', 'pedido', 'quero', 'resolvam', 'situação', 'vez', 'todas', 'trabalho', 'compatível', 'ponto', 'picket', 'fazer', 'devolução', 'espero', 'resolvam', 'desagradável', 'situação', 'vez', 'todas', 'concertesa', 'vou', 'recomendar', 'comprar', 'nada', 'marca']\n"
     ]
    }
   ],
   "source": [
    "cleanedText = []\n",
    "for t in tokenizedText:\n",
    "    if t not in stop_words:\n",
    "        cleanedText.append(t)\n",
    "print(\"Text without stopwords:\\n\",cleanedText)"
   ]
  },
  {
   "cell_type": "code",
   "execution_count": 11,
   "metadata": {},
   "outputs": [
    {
     "output_type": "stream",
     "name": "stdout",
     "text": [
      "Stemmed text :\n ['boa', 'noit', 'venho', 'mostrar', 'total', 'descontentamento', 'frustação', 'relativament', 'serviço', 'prestado', 'fiz', 'encomenda', 'vária', 'peça', 'pack', 'calça', 'fato', 'treino', '€', 'chegar', 'encomenda', 'deparei-m', 'vez', 'pack', 'recebido', 'calça', 'vez', 'enviei', 'e-mail', 'apoio', 'client', 'expor', 'situação', 'passado', 'alguma', 'hora', 'responderam', 'afirmar', 'entrado', 'contacto', 'comigo', 'vária', 'veze', 'sucesso', 'mentira', 'poi', 'confirmei', 'número', 'telefon', 'cedido', 'conta', 'nenhuma', 'chamada', 'atendida', 'pediram', 'retribuir', 'chamada', 'contactei', 'então', 'chamada', 'telefonica', 'assistent', 'atendeu', 'nunca', 'pediu', 'desculpa', 'sucedido', 'explic', 'deveria', 'devolv', 'calça', 'etiqueta', 'própria', 'enviado', 'pack', 'completo', 'passado', 'doi', 'dia', 'recebi', 'pack', 'desta', 'vez', 'calça', 'veio', 'vário', 'tamanho', 'abaixo', 'pedido', 'quero', 'resolvam', 'situação', 'vez', 'toda', 'trabalho', 'compatível', 'ponto', 'picket', 'fazer', 'devolução', 'espero', 'resolvam', 'desagradável', 'situação', 'vez', 'toda', 'concertesa', 'vou', 'recomendar', 'comprar', 'nada', 'marca']\n"
     ]
    }
   ],
   "source": [
    "stem = PorterStemmer()\n",
    "stemmedText = []\n",
    "for t in cleanedText:\n",
    "    stemmedWord = stem.stem(t)\n",
    "    stemmedText.append(stemmedWord)\n",
    "print(\"Stemmed text :\\n\",stemmedText) "
   ]
  },
  {
   "cell_type": "code",
   "execution_count": 12,
   "metadata": {},
   "outputs": [
    {
     "output_type": "stream",
     "name": "stdout",
     "text": [
      "Full sentence with changes so far:\n boa noit venho mostrar total descontentamento frustação relativament serviço prestado fiz encomenda vária peça pack calça fato treino € chegar encomenda deparei-m vez pack recebido calça vez enviei e-mail apoio client expor situação passado alguma hora responderam afirmar entrado contacto comigo vária veze sucesso mentira poi confirmei número telefon cedido conta nenhuma chamada atendida pediram retribuir chamada contactei então chamada telefonica assistent atendeu nunca pediu desculpa sucedido explic deveria devolv calça etiqueta própria enviado pack completo passado doi dia recebi pack desta vez calça veio vário tamanho abaixo pedido quero resolvam situação vez toda trabalho compatível ponto picket fazer devolução espero resolvam desagradável situação vez toda concertesa vou recomendar comprar nada marca\n"
     ]
    }
   ],
   "source": [
    "newText = ''\n",
    "for t in stemmedText:\n",
    "  newText = newText + t + ' '\n",
    "newText = newText.rstrip() # rstring (remove spaces at the right of the string)\n",
    "print(\"Full sentence with changes so far:\\n\", newText)"
   ]
  },
  {
   "cell_type": "code",
   "execution_count": null,
   "metadata": {},
   "outputs": [],
   "source": []
  }
 ],
 "metadata": {
  "kernelspec": {
   "name": "python376jvsc74a57bd0cdaae446594b984db3ccb014c8eccc2f0db7c42b283408245e954811c2b928ce",
   "display_name": "Python 3.7.6 64-bit ('base': conda)"
  },
  "language_info": {
   "codemirror_mode": {
    "name": "ipython",
    "version": 3
   },
   "file_extension": ".py",
   "mimetype": "text/x-python",
   "name": "python",
   "nbconvert_exporter": "python",
   "pygments_lexer": "ipython3",
   "version": "3.7.6"
  },
  "varInspector": {
   "cols": {
    "lenName": 16,
    "lenType": 16,
    "lenVar": 40
   },
   "kernels_config": {
    "python": {
     "delete_cmd_postfix": "",
     "delete_cmd_prefix": "del ",
     "library": "var_list.py",
     "varRefreshCmd": "print(var_dic_list())"
    },
    "r": {
     "delete_cmd_postfix": ") ",
     "delete_cmd_prefix": "rm(",
     "library": "var_list.r",
     "varRefreshCmd": "cat(var_dic_list()) "
    }
   },
   "types_to_exclude": [
    "module",
    "function",
    "builtin_function_or_method",
    "instance",
    "_Feature"
   ],
   "window_display": false
  }
 },
 "nbformat": 4,
 "nbformat_minor": 2
}