{
 "cells": [
  {
   "cell_type": "markdown",
   "metadata": {},
   "source": [
    "# Webscraping\n",
    "## Portal da Queixa\n",
    "### Changes may be required due to Portal da Queixa's continous updates\n",
    "\n",
    "(c) Nickolas Lago 2021 - Rev. 1.0"
   ]
  },
  {
   "cell_type": "markdown",
   "metadata": {},
   "source": [
    "### Load packages and do the initializations"
   ]
  },
  {
   "cell_type": "code",
   "execution_count": 29,
   "metadata": {},
   "outputs": [],
   "source": [
    "# Load libraries\n",
    "import numpy as np\n",
    "import pandas as pd\n",
    "from urllib.request import urlopen\n",
    "from bs4 import BeautifulSoup\n",
    "import ssl\n",
    "from selenium import webdriver\n",
    "from selenium.webdriver.firefox.firefox_binary import FirefoxBinary\n",
    "from selenium.webdriver.firefox.options import Options\n",
    "import time"
   ]
  },
  {
   "cell_type": "code",
   "execution_count": 30,
   "metadata": {},
   "outputs": [],
   "source": [
    "# Allow not verified SSL (Secure Socket Layer) certificates to be opened\n",
    "ssl._create_default_https_context = ssl._create_unverified_context"
   ]
  },
  {
   "cell_type": "code",
   "execution_count": 31,
   "metadata": {},
   "outputs": [],
   "source": [
    "# Get Firefox options (configurations)\n",
    "options = Options()\n",
    "\n",
    "# Add this argument to Options to hide Firefox (make it not visible)\n",
    "# options.add_argument('--headless') "
   ]
  },
  {
   "source": [
    "### Reading dataset of complains urls\n",
    "\n",
    "Using the dataset previously built, we will now retrieve the complains from each url"
   ],
   "cell_type": "markdown",
   "metadata": {}
  },
  {
   "cell_type": "code",
   "execution_count": 32,
   "metadata": {},
   "outputs": [],
   "source": [
    "complainsUrl = pd.read_excel(\"reviews_url.xlsx\")"
   ]
  },
  {
   "source": [
    "### Creating an empty DataFrame to store the information about each complain"
   ],
   "cell_type": "markdown",
   "metadata": {}
  },
  {
   "cell_type": "code",
   "execution_count": 33,
   "metadata": {},
   "outputs": [],
   "source": [
    "# Creating a DataFrame to store all complains URL to scrap it later\n",
    "complainsData = pd.DataFrame({\"complainID\": pd.Series([], dtype=\"string\"),\n",
    "                              \"complainStatus\": pd.Series([], dtype=\"string\"),\n",
    "                              \"complainUser\": pd.Series([], dtype=\"string\"),\n",
    "                              \"complainTitle\": pd.Series([], dtype=\"string\"),\n",
    "                              \"complainViews\": pd.Series([], dtype=\"string\"),\n",
    "                              \"complainText\": pd.Series([], dtype=\"string\"),\n",
    "                              \"complainDate\": pd.Series([], dtype=\"string\")\n",
    "                             })"
   ]
  },
  {
   "source": [
    "## Create the function to save the URL Complains\n",
    "\n",
    "This function will go to the soup object define in the next loop and take the information about complainID and complainURL that will later be used to capture the information of the complain"
   ],
   "cell_type": "markdown",
   "metadata": {}
  },
  {
   "cell_type": "code",
   "execution_count": 34,
   "metadata": {},
   "outputs": [],
   "source": [
    "def getComplain(page, dfObj):\n",
    "    #identifying the url\n",
    "    url = page\n",
    "    # Open the page\n",
    "    page = urlopen(url)\n",
    "    # Read page html\n",
    "    html = page.read().decode(\"utf-8\")\n",
    "    #Create soupObject\n",
    "    soup = BeautifulSoup(html, \"html.parser\")\n",
    "\n",
    "    # Identifying complain body\n",
    "    bodyClass = \"col-xl-9\"\n",
    "    body = soup.find(\"div\",{\"class\": bodyClass})\n",
    "\n",
    "    # Getting name\n",
    "    cUser = body.find(\"h6\").find(\"a\").get_text()\n",
    "    # Getting ID\n",
    "    cId = body.find(\"div\", {\"class\": \"complaint-detail-body-subheader-info-item mr-3 pr-3 text-muted mt-2 mt-sm-0\"}).get_text()\n",
    "    cId = cId.strip()\n",
    "    # Status\n",
    "    cStatus = body.find(\"div\", {\"class\": \"badge\"}).get_text()\n",
    "    # Title\n",
    "    cTitle = body.find(\"h4\").get_text()\n",
    "    # Views\n",
    "    cViews = body.find(\"div\", {\"class\": \"complaint-detail-body-subheader-info-item mr-3 pr-3 text-muted\"}).get_text()\n",
    "    cViews = cViews.strip()\n",
    "    # Date\n",
    "    cDate = body.find(\"time\").get_text()\n",
    "    # Complain Text\n",
    "    cComplainText = body.find(\"div\", {\"class\": \"complaint-detail-body-description\"}).get_text()\n",
    "\n",
    "    #print(\"User: \", cUser)\n",
    "    #print(\"ID: \", cId)\n",
    "    #print(\"Status: \", cStatus)\n",
    "    #print(\"Title: \", cTitle)\n",
    "    #print(\"Views: \", cViews)\n",
    "    #print(\"Date: \", cDate)\n",
    "    #print(\"Complain: \", cComplainText)\n",
    "\n",
    "    # Append values to a DataFrame\n",
    "    dfObj = dfObj.append({\"complainID\": cId,\n",
    "                          \"complainStatus\": cStatus,\n",
    "                          \"complainTitle\": cTitle,\n",
    "                          \"complainUser\": cUser,\n",
    "                          \"complainViews\": cViews,\n",
    "                          \"complainText\": cComplainText,\n",
    "                          \"complainDate\": cDate},\n",
    "                          ignore_index=True)\n",
    "    return dfObj"
   ]
  },
  {
   "source": [
    "## Main Loop\n",
    "This loop will take a pagesNum and take all complains identification on that page [complainID, complainUrl]"
   ],
   "cell_type": "markdown",
   "metadata": {}
  },
  {
   "cell_type": "code",
   "execution_count": 35,
   "metadata": {
    "tags": []
   },
   "outputs": [
    {
     "output_type": "stream",
     "name": "stdout",
     "text": [
      "Processing complain ID:  59476521  |  1  out of  177\n",
      "Processing complain ID:  58935721  |  2  out of  177\n",
      "Processing complain ID:  58754421  |  3  out of  177\n",
      "Processing complain ID:  58696921  |  4  out of  177\n",
      "Processing complain ID:  58650521  |  5  out of  177\n",
      "Processing complain ID:  58649421  |  6  out of  177\n",
      "Processing complain ID:  58604421  |  7  out of  177\n",
      "Processing complain ID:  58582621  |  8  out of  177\n",
      "Processing complain ID:  58575521  |  9  out of  177\n",
      "Processing complain ID:  58540521  |  10  out of  177\n",
      "Processing complain ID:  58530921  |  11  out of  177\n",
      "Processing complain ID:  58507221  |  12  out of  177\n",
      "Processing complain ID:  58486021  |  13  out of  177\n",
      "Processing complain ID:  58397921  |  14  out of  177\n",
      "Processing complain ID:  58386121  |  15  out of  177\n",
      "Processing complain ID:  58239821  |  16  out of  177\n",
      "Processing complain ID:  58146321  |  17  out of  177\n",
      "Processing complain ID:  58032021  |  18  out of  177\n",
      "Processing complain ID:  58000721  |  19  out of  177\n",
      "Processing complain ID:  57781321  |  20  out of  177\n",
      "Processing complain ID:  57629521  |  21  out of  177\n",
      "Processing complain ID:  57534121  |  22  out of  177\n",
      "Processing complain ID:  57413621  |  23  out of  177\n",
      "Processing complain ID:  57348921  |  24  out of  177\n",
      "Processing complain ID:  57023521  |  25  out of  177\n",
      "Processing complain ID:  56853721  |  26  out of  177\n",
      "Processing complain ID:  56824921  |  27  out of  177\n",
      "Processing complain ID:  56382721  |  28  out of  177\n",
      "Processing complain ID:  56260621  |  29  out of  177\n",
      "Processing complain ID:  56084621  |  30  out of  177\n",
      "Processing complain ID:  56003221  |  31  out of  177\n",
      "Processing complain ID:  55889021  |  32  out of  177\n",
      "Processing complain ID:  55772621  |  33  out of  177\n",
      "Processing complain ID:  55700021  |  34  out of  177\n",
      "Processing complain ID:  55664921  |  35  out of  177\n",
      "Processing complain ID:  55569521  |  36  out of  177\n",
      "Processing complain ID:  55565821  |  37  out of  177\n",
      "Processing complain ID:  55541521  |  38  out of  177\n",
      "Processing complain ID:  55432421  |  39  out of  177\n",
      "Processing complain ID:  55402121  |  40  out of  177\n",
      "Processing complain ID:  55279921  |  41  out of  177\n",
      "Processing complain ID:  55196321  |  42  out of  177\n",
      "Processing complain ID:  55175621  |  43  out of  177\n",
      "Processing complain ID:  54877621  |  44  out of  177\n",
      "Processing complain ID:  54829321  |  45  out of  177\n",
      "Processing complain ID:  54827221  |  46  out of  177\n",
      "Processing complain ID:  54823521  |  47  out of  177\n",
      "Processing complain ID:  54819921  |  48  out of  177\n",
      "Processing complain ID:  54819421  |  49  out of  177\n",
      "Processing complain ID:  54761521  |  50  out of  177\n",
      "Processing complain ID:  54683821  |  51  out of  177\n",
      "Processing complain ID:  54679421  |  52  out of  177\n",
      "Processing complain ID:  54651821  |  53  out of  177\n",
      "Processing complain ID:  54633421  |  54  out of  177\n",
      "Processing complain ID:  54617821  |  55  out of  177\n",
      "Processing complain ID:  54576021  |  56  out of  177\n",
      "Processing complain ID:  54482521  |  57  out of  177\n",
      "Processing complain ID:  54472621  |  58  out of  177\n",
      "Processing complain ID:  54453321  |  59  out of  177\n",
      "Processing complain ID:  54427621  |  60  out of  177\n",
      "Processing complain ID:  54405921  |  61  out of  177\n",
      "Processing complain ID:  54364721  |  62  out of  177\n",
      "Processing complain ID:  54323321  |  63  out of  177\n",
      "Processing complain ID:  54308821  |  64  out of  177\n",
      "Processing complain ID:  54306121  |  65  out of  177\n",
      "Processing complain ID:  54299921  |  66  out of  177\n",
      "Processing complain ID:  54275821  |  67  out of  177\n",
      "Processing complain ID:  54247021  |  68  out of  177\n",
      "Processing complain ID:  54217321  |  69  out of  177\n",
      "Processing complain ID:  54083721  |  70  out of  177\n",
      "Processing complain ID:  54046421  |  71  out of  177\n",
      "Processing complain ID:  54035221  |  72  out of  177\n",
      "Processing complain ID:  54030021  |  73  out of  177\n",
      "Processing complain ID:  53931721  |  74  out of  177\n",
      "Processing complain ID:  53910621  |  75  out of  177\n",
      "Processing complain ID:  53906021  |  76  out of  177\n",
      "Processing complain ID:  53889421  |  77  out of  177\n",
      "Processing complain ID:  53877121  |  78  out of  177\n",
      "Processing complain ID:  53847121  |  79  out of  177\n",
      "Processing complain ID:  53806221  |  80  out of  177\n",
      "Processing complain ID:  53710021  |  81  out of  177\n",
      "Processing complain ID:  53674421  |  82  out of  177\n",
      "Processing complain ID:  53625221  |  83  out of  177\n",
      "Processing complain ID:  53568121  |  84  out of  177\n",
      "Processing complain ID:  53500221  |  85  out of  177\n",
      "Processing complain ID:  53472321  |  86  out of  177\n",
      "Processing complain ID:  53432721  |  87  out of  177\n",
      "Processing complain ID:  53427221  |  88  out of  177\n",
      "Processing complain ID:  53334221  |  89  out of  177\n",
      "Processing complain ID:  53006221  |  90  out of  177\n",
      "Processing complain ID:  52971321  |  91  out of  177\n",
      "Processing complain ID:  52918721  |  92  out of  177\n",
      "Processing complain ID:  52837721  |  93  out of  177\n",
      "Processing complain ID:  52828621  |  94  out of  177\n",
      "Processing complain ID:  52827921  |  95  out of  177\n",
      "Processing complain ID:  52640721  |  96  out of  177\n",
      "Processing complain ID:  52445521  |  97  out of  177\n",
      "Processing complain ID:  52423021  |  98  out of  177\n",
      "Processing complain ID:  52412721  |  99  out of  177\n",
      "Processing complain ID:  52368021  |  100  out of  177\n",
      "Processing complain ID:  52317521  |  101  out of  177\n",
      "Processing complain ID:  52205821  |  102  out of  177\n",
      "Processing complain ID:  52047520  |  103  out of  177\n",
      "Processing complain ID:  51935720  |  104  out of  177\n",
      "Processing complain ID:  51750420  |  105  out of  177\n",
      "Processing complain ID:  51693020  |  106  out of  177\n",
      "Processing complain ID:  51502020  |  107  out of  177\n",
      "Processing complain ID:  51374620  |  108  out of  177\n",
      "Processing complain ID:  51351620  |  109  out of  177\n",
      "Processing complain ID:  51264520  |  110  out of  177\n",
      "Processing complain ID:  51200820  |  111  out of  177\n",
      "Processing complain ID:  51169120  |  112  out of  177\n",
      "Processing complain ID:  51116820  |  113  out of  177\n",
      "Processing complain ID:  51083120  |  114  out of  177\n",
      "Processing complain ID:  50934020  |  115  out of  177\n",
      "Processing complain ID:  50923620  |  116  out of  177\n",
      "Processing complain ID:  50844020  |  117  out of  177\n",
      "Processing complain ID:  50811720  |  118  out of  177\n",
      "Processing complain ID:  50632720  |  119  out of  177\n",
      "Processing complain ID:  50587320  |  120  out of  177\n",
      "Processing complain ID:  50499620  |  121  out of  177\n",
      "Processing complain ID:  50236020  |  122  out of  177\n",
      "Processing complain ID:  50069220  |  123  out of  177\n",
      "Processing complain ID:  49998120  |  124  out of  177\n",
      "Processing complain ID:  49946920  |  125  out of  177\n",
      "Processing complain ID:  49900120  |  126  out of  177\n",
      "Processing complain ID:  49780920  |  127  out of  177\n",
      "Processing complain ID:  49715220  |  128  out of  177\n",
      "Processing complain ID:  49570520  |  129  out of  177\n",
      "Processing complain ID:  49384320  |  130  out of  177\n",
      "Processing complain ID:  49367320  |  131  out of  177\n",
      "Processing complain ID:  49315220  |  132  out of  177\n",
      "Processing complain ID:  49119020  |  133  out of  177\n",
      "Processing complain ID:  48888220  |  134  out of  177\n",
      "Processing complain ID:  48673920  |  135  out of  177\n",
      "Processing complain ID:  48620620  |  136  out of  177\n",
      "Processing complain ID:  48455420  |  137  out of  177\n",
      "Processing complain ID:  48335320  |  138  out of  177\n",
      "Processing complain ID:  48198220  |  139  out of  177\n",
      "Processing complain ID:  48010620  |  140  out of  177\n",
      "Processing complain ID:  47423420  |  141  out of  177\n",
      "Processing complain ID:  47414620  |  142  out of  177\n",
      "Processing complain ID:  46673020  |  143  out of  177\n",
      "Processing complain ID:  46504720  |  144  out of  177\n",
      "Processing complain ID:  46305620  |  145  out of  177\n",
      "Processing complain ID:  45201020  |  146  out of  177\n",
      "Processing complain ID:  44466120  |  147  out of  177\n",
      "Processing complain ID:  43624320  |  148  out of  177\n",
      "Processing complain ID:  43608820  |  149  out of  177\n",
      "Processing complain ID:  42543820  |  150  out of  177\n",
      "Processing complain ID:  42408120  |  151  out of  177\n",
      "Processing complain ID:  42309720  |  152  out of  177\n",
      "Processing complain ID:  41256120  |  153  out of  177\n",
      "Processing complain ID:  41038520  |  154  out of  177\n",
      "Processing complain ID:  40463720  |  155  out of  177\n",
      "Processing complain ID:  37335720  |  156  out of  177\n",
      "Processing complain ID:  33843619  |  157  out of  177\n",
      "Processing complain ID:  33529319  |  158  out of  177\n",
      "Processing complain ID:  32010719  |  159  out of  177\n",
      "Processing complain ID:  27355319  |  160  out of  177\n",
      "Processing complain ID:  24936119  |  161  out of  177\n",
      "Processing complain ID:  24875119  |  162  out of  177\n",
      "Processing complain ID:  24808918  |  163  out of  177\n",
      "Processing complain ID:  24795518  |  164  out of  177\n",
      "Processing complain ID:  22562118  |  165  out of  177\n",
      "Processing complain ID:  16662418  |  166  out of  177\n",
      "Processing complain ID:  15737818  |  167  out of  177\n",
      "Processing complain ID:  15203217  |  168  out of  177\n",
      "Processing complain ID:  10766317  |  169  out of  177\n",
      "Processing complain ID:  10715817  |  170  out of  177\n",
      "Processing complain ID:  10308517  |  171  out of  177\n",
      "Processing complain ID:  9529117  |  172  out of  177\n",
      "Processing complain ID:  8776417  |  173  out of  177\n",
      "Processing complain ID:  7865917  |  174  out of  177\n",
      "Processing complain ID:  5810316  |  175  out of  177\n",
      "Processing complain ID:  5716216  |  176  out of  177\n",
      "Processing complain ID:  3071916  |  177  out of  177\n"
     ]
    }
   ],
   "source": [
    "complains = 1\n",
    "\n",
    "for index, row in complainsUrl.iterrows():\n",
    "    # Naming the complain\n",
    "    # print(len(complainsUrl))\n",
    "    print(\"Processing complain ID: \", row[\"complainID\"], \" | \", complains, \" out of \", len(complainsUrl))\n",
    "    url = row[\"complainURL\"]\n",
    "    complainsData = getComplain(url, complainsData)\n",
    "    complains = complains + 1"
   ]
  },
  {
   "cell_type": "code",
   "execution_count": 36,
   "metadata": {},
   "outputs": [
    {
     "output_type": "execute_result",
     "data": {
      "text/plain": [
       "    complainID    complainStatus      complainUser  \\\n",
       "0     59476521  Aguarda resposta            Susana   \n",
       "1     58935721  Aguarda resposta   Cassia Barcelos   \n",
       "2     58754421  Aguarda resposta            Milene   \n",
       "3     58696921  Aguarda resposta  Mariana Ferreira   \n",
       "4     58650521         Resolvida       Olga Santos   \n",
       "..         ...               ...               ...   \n",
       "172    8776417     Sem resolução   Maria Fernandes   \n",
       "173    7865917     Sem resolução    patricia vidal   \n",
       "174    5810316     Sem resolução     Julia Almeida   \n",
       "175    5716216     Sem resolução      Carla Castro   \n",
       "176    3071916     Sem resolução  Patrícia Martins   \n",
       "\n",
       "                                         complainTitle complainViews  \\\n",
       "0                       Lefties - Devolução de artigos            55   \n",
       "1           Lefties - Troca de peças compradas on-line           175   \n",
       "2                     Lefties - Encomenda não entregue            62   \n",
       "3    Lefties - Encomenda não entregue nem resolvem ...            41   \n",
       "4                     Lefties - Encomenda não entregue           124   \n",
       "..                                                 ...           ...   \n",
       "172                  Lefties - Hematoma grave na face           1305   \n",
       "173                          Lefties - Mau atendimento          1829   \n",
       "174                                    Lefties - Troca          3777   \n",
       "175                                Lefties - Promoção           1024   \n",
       "176                   Lefties - Falta de flexibilidade          1986   \n",
       "\n",
       "                                          complainText           complainDate  \n",
       "0    Recebi a minha encomenda no dia 19-04-2021 e i...        5 de maio 2021   \n",
       "1    Boa noite, \\r\\nVenho mostrar o meu total desco...      23 de abril 2021   \n",
       "2    A minha encomenda que fiz no dia 19 de Março n...      20 de abril 2021   \n",
       "3    Encomenda nr ‪90003989775‬ já deveria ter sido...      19 de abril 2021   \n",
       "4    Bom dia. Fiz uma encomenda online na Lefties n...      17 de abril 2021   \n",
       "..                                                 ...                    ...  \n",
       "172  Os sapatos prateados estavam na prateleira aci...      13 de março 2017   \n",
       "173  Bom dia.Ja por diversas vezes me dirigi a voss...    23 de janeiro 2017   \n",
       "174  Boa tarde fui a lefties C.C. Arrábida fiz uma ...   19 de setembro 2016   \n",
       "175  Comprei umas sapatilhas em promoção, disseram ...   13 de setembro 2016   \n",
       "176  Por altura do natal, as minhas filhas recebera...    14 de janeiro 2016   \n",
       "\n",
       "[177 rows x 7 columns]"
      ],
      "text/html": "<div>\n<style scoped>\n    .dataframe tbody tr th:only-of-type {\n        vertical-align: middle;\n    }\n\n    .dataframe tbody tr th {\n        vertical-align: top;\n    }\n\n    .dataframe thead th {\n        text-align: right;\n    }\n</style>\n<table border=\"1\" class=\"dataframe\">\n  <thead>\n    <tr style=\"text-align: right;\">\n      <th></th>\n      <th>complainID</th>\n      <th>complainStatus</th>\n      <th>complainUser</th>\n      <th>complainTitle</th>\n      <th>complainViews</th>\n      <th>complainText</th>\n      <th>complainDate</th>\n    </tr>\n  </thead>\n  <tbody>\n    <tr>\n      <th>0</th>\n      <td>59476521</td>\n      <td>Aguarda resposta</td>\n      <td>Susana</td>\n      <td>Lefties - Devolução de artigos</td>\n      <td>55</td>\n      <td>Recebi a minha encomenda no dia 19-04-2021 e i...</td>\n      <td>5 de maio 2021</td>\n    </tr>\n    <tr>\n      <th>1</th>\n      <td>58935721</td>\n      <td>Aguarda resposta</td>\n      <td>Cassia Barcelos</td>\n      <td>Lefties - Troca de peças compradas on-line</td>\n      <td>175</td>\n      <td>Boa noite, \\r\\nVenho mostrar o meu total desco...</td>\n      <td>23 de abril 2021</td>\n    </tr>\n    <tr>\n      <th>2</th>\n      <td>58754421</td>\n      <td>Aguarda resposta</td>\n      <td>Milene</td>\n      <td>Lefties - Encomenda não entregue</td>\n      <td>62</td>\n      <td>A minha encomenda que fiz no dia 19 de Março n...</td>\n      <td>20 de abril 2021</td>\n    </tr>\n    <tr>\n      <th>3</th>\n      <td>58696921</td>\n      <td>Aguarda resposta</td>\n      <td>Mariana Ferreira</td>\n      <td>Lefties - Encomenda não entregue nem resolvem ...</td>\n      <td>41</td>\n      <td>Encomenda nr ‪90003989775‬ já deveria ter sido...</td>\n      <td>19 de abril 2021</td>\n    </tr>\n    <tr>\n      <th>4</th>\n      <td>58650521</td>\n      <td>Resolvida</td>\n      <td>Olga Santos</td>\n      <td>Lefties - Encomenda não entregue</td>\n      <td>124</td>\n      <td>Bom dia. Fiz uma encomenda online na Lefties n...</td>\n      <td>17 de abril 2021</td>\n    </tr>\n    <tr>\n      <th>...</th>\n      <td>...</td>\n      <td>...</td>\n      <td>...</td>\n      <td>...</td>\n      <td>...</td>\n      <td>...</td>\n      <td>...</td>\n    </tr>\n    <tr>\n      <th>172</th>\n      <td>8776417</td>\n      <td>Sem resolução</td>\n      <td>Maria Fernandes</td>\n      <td>Lefties - Hematoma grave na face</td>\n      <td>1305</td>\n      <td>Os sapatos prateados estavam na prateleira aci...</td>\n      <td>13 de março 2017</td>\n    </tr>\n    <tr>\n      <th>173</th>\n      <td>7865917</td>\n      <td>Sem resolução</td>\n      <td>patricia vidal</td>\n      <td>Lefties - Mau atendimento</td>\n      <td>1829</td>\n      <td>Bom dia.Ja por diversas vezes me dirigi a voss...</td>\n      <td>23 de janeiro 2017</td>\n    </tr>\n    <tr>\n      <th>174</th>\n      <td>5810316</td>\n      <td>Sem resolução</td>\n      <td>Julia Almeida</td>\n      <td>Lefties - Troca</td>\n      <td>3777</td>\n      <td>Boa tarde fui a lefties C.C. Arrábida fiz uma ...</td>\n      <td>19 de setembro 2016</td>\n    </tr>\n    <tr>\n      <th>175</th>\n      <td>5716216</td>\n      <td>Sem resolução</td>\n      <td>Carla Castro</td>\n      <td>Lefties - Promoção</td>\n      <td>1024</td>\n      <td>Comprei umas sapatilhas em promoção, disseram ...</td>\n      <td>13 de setembro 2016</td>\n    </tr>\n    <tr>\n      <th>176</th>\n      <td>3071916</td>\n      <td>Sem resolução</td>\n      <td>Patrícia Martins</td>\n      <td>Lefties - Falta de flexibilidade</td>\n      <td>1986</td>\n      <td>Por altura do natal, as minhas filhas recebera...</td>\n      <td>14 de janeiro 2016</td>\n    </tr>\n  </tbody>\n</table>\n<p>177 rows × 7 columns</p>\n</div>"
     },
     "metadata": {},
     "execution_count": 36
    }
   ],
   "source": [
    "complainsData"
   ]
  },
  {
   "source": [
    "### Save it to an excel sheet"
   ],
   "cell_type": "markdown",
   "metadata": {}
  },
  {
   "cell_type": "code",
   "execution_count": 37,
   "metadata": {},
   "outputs": [],
   "source": [
    "complainsData.to_excel(\"complains_data.xlsx\")"
   ]
  }
 ],
 "metadata": {
  "kernelspec": {
   "name": "python376jvsc74a57bd0f30a98447ab0ce6ed2c42a906dd8ff7c3035168d8630597903509f729a93be92",
   "display_name": "Python 3.7.6 64-bit ('base': conda)"
  },
  "language_info": {
   "codemirror_mode": {
    "name": "ipython",
    "version": 3
   },
   "file_extension": ".py",
   "mimetype": "text/x-python",
   "name": "python",
   "nbconvert_exporter": "python",
   "pygments_lexer": "ipython3",
   "version": "3.7.6"
  },
  "varInspector": {
   "cols": {
    "lenName": 16,
    "lenType": 16,
    "lenVar": 40
   },
   "kernels_config": {
    "python": {
     "delete_cmd_postfix": "",
     "delete_cmd_prefix": "del ",
     "library": "var_list.py",
     "varRefreshCmd": "print(var_dic_list())"
    },
    "r": {
     "delete_cmd_postfix": ") ",
     "delete_cmd_prefix": "rm(",
     "library": "var_list.r",
     "varRefreshCmd": "cat(var_dic_list()) "
    }
   },
   "types_to_exclude": [
    "module",
    "function",
    "builtin_function_or_method",
    "instance",
    "_Feature"
   ],
   "window_display": false
  }
 },
 "nbformat": 4,
 "nbformat_minor": 2
}