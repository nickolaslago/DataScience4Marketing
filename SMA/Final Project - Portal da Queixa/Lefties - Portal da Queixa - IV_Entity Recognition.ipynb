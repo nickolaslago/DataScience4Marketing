{
 "cells": [
  {
   "cell_type": "markdown",
   "metadata": {},
   "source": [
    "# Webscraping\n",
    "## Portal da Queixa\n",
    "### Changes may be required due to Portal da Queixa's continous updates\n",
    "\n",
    "(c) Nickolas Lago 2021 - Rev. 1.0"
   ]
  },
  {
   "cell_type": "markdown",
   "metadata": {},
   "source": [
    "### Load packages and do the initializations"
   ]
  },
  {
   "cell_type": "code",
   "execution_count": 36,
   "metadata": {},
   "outputs": [],
   "source": [
    "# Load libraries\n",
    "import numpy as np\n",
    "import pandas as pd\n",
    "import seaborn as sns\n",
    "import nltk\n",
    "import matplotlib.pyplot as plt\n",
    "import category_encoders as ce\n",
    "from bs4 import BeautifulSoup\n",
    "import re\n",
    "from nltk.corpus import stopwords\n",
    "from nltk.tokenize import word_tokenize\n",
    "from nltk.stem.porter import PorterStemmer\n",
    "from sklearn.feature_extraction.text import CountVectorizer\n",
    "import spacy\n",
    "from spacy import displacy\n",
    "from collections import Counter"
   ]
  },
  {
   "source": [
    "### Importing the data from the provious webscraping\n",
    "\n",
    "Delete the Unnamed: 0 column and make the complainID the index column of the DataFrame"
   ],
   "cell_type": "markdown",
   "metadata": {}
  },
  {
   "cell_type": "code",
   "execution_count": 37,
   "metadata": {},
   "outputs": [],
   "source": [
    "df = pd.read_excel(\"complains_data.xlsx\", index_col=\"complainID\")"
   ]
  },
  {
   "cell_type": "code",
   "execution_count": 38,
   "metadata": {},
   "outputs": [],
   "source": [
    "cols_to_drop = [\"Unnamed: 0\"]\n",
    "df = df.drop(cols_to_drop, axis=1)"
   ]
  },
  {
   "cell_type": "code",
   "execution_count": 39,
   "metadata": {},
   "outputs": [
    {
     "output_type": "execute_result",
     "data": {
      "text/plain": [
       "              complainStatus      complainUser  \\\n",
       "complainID                                       \n",
       "59476521    Aguarda resposta            Susana   \n",
       "58935721    Aguarda resposta   Cassia Barcelos   \n",
       "58754421    Aguarda resposta            Milene   \n",
       "58696921    Aguarda resposta  Mariana Ferreira   \n",
       "58650521           Resolvida       Olga Santos   \n",
       "\n",
       "                                                complainTitle  complainViews  \\\n",
       "complainID                                                                     \n",
       "59476521                       Lefties - Devolução de artigos             55   \n",
       "58935721           Lefties - Troca de peças compradas on-line            175   \n",
       "58754421                     Lefties - Encomenda não entregue             62   \n",
       "58696921    Lefties - Encomenda não entregue nem resolvem ...             41   \n",
       "58650521                     Lefties - Encomenda não entregue            124   \n",
       "\n",
       "                                                 complainText  \\\n",
       "complainID                                                      \n",
       "59476521    Recebi a minha encomenda no dia 19-04-2021 e i...   \n",
       "58935721    Boa noite, _x000D_\\nVenho mostrar o meu total ...   \n",
       "58754421    A minha encomenda que fiz no dia 19 de Março n...   \n",
       "58696921    Encomenda nr ‪90003989775‬ já deveria ter sido...   \n",
       "58650521    Bom dia. Fiz uma encomenda online na Lefties n...   \n",
       "\n",
       "                  complainDate  \n",
       "complainID                      \n",
       "59476521       5 de maio 2021   \n",
       "58935721     23 de abril 2021   \n",
       "58754421     20 de abril 2021   \n",
       "58696921     19 de abril 2021   \n",
       "58650521     17 de abril 2021   "
      ],
      "text/html": "<div>\n<style scoped>\n    .dataframe tbody tr th:only-of-type {\n        vertical-align: middle;\n    }\n\n    .dataframe tbody tr th {\n        vertical-align: top;\n    }\n\n    .dataframe thead th {\n        text-align: right;\n    }\n</style>\n<table border=\"1\" class=\"dataframe\">\n  <thead>\n    <tr style=\"text-align: right;\">\n      <th></th>\n      <th>complainStatus</th>\n      <th>complainUser</th>\n      <th>complainTitle</th>\n      <th>complainViews</th>\n      <th>complainText</th>\n      <th>complainDate</th>\n    </tr>\n    <tr>\n      <th>complainID</th>\n      <th></th>\n      <th></th>\n      <th></th>\n      <th></th>\n      <th></th>\n      <th></th>\n    </tr>\n  </thead>\n  <tbody>\n    <tr>\n      <th>59476521</th>\n      <td>Aguarda resposta</td>\n      <td>Susana</td>\n      <td>Lefties - Devolução de artigos</td>\n      <td>55</td>\n      <td>Recebi a minha encomenda no dia 19-04-2021 e i...</td>\n      <td>5 de maio 2021</td>\n    </tr>\n    <tr>\n      <th>58935721</th>\n      <td>Aguarda resposta</td>\n      <td>Cassia Barcelos</td>\n      <td>Lefties - Troca de peças compradas on-line</td>\n      <td>175</td>\n      <td>Boa noite, _x000D_\\nVenho mostrar o meu total ...</td>\n      <td>23 de abril 2021</td>\n    </tr>\n    <tr>\n      <th>58754421</th>\n      <td>Aguarda resposta</td>\n      <td>Milene</td>\n      <td>Lefties - Encomenda não entregue</td>\n      <td>62</td>\n      <td>A minha encomenda que fiz no dia 19 de Março n...</td>\n      <td>20 de abril 2021</td>\n    </tr>\n    <tr>\n      <th>58696921</th>\n      <td>Aguarda resposta</td>\n      <td>Mariana Ferreira</td>\n      <td>Lefties - Encomenda não entregue nem resolvem ...</td>\n      <td>41</td>\n      <td>Encomenda nr ‪90003989775‬ já deveria ter sido...</td>\n      <td>19 de abril 2021</td>\n    </tr>\n    <tr>\n      <th>58650521</th>\n      <td>Resolvida</td>\n      <td>Olga Santos</td>\n      <td>Lefties - Encomenda não entregue</td>\n      <td>124</td>\n      <td>Bom dia. Fiz uma encomenda online na Lefties n...</td>\n      <td>17 de abril 2021</td>\n    </tr>\n  </tbody>\n</table>\n</div>"
     },
     "metadata": {},
     "execution_count": 39
    }
   ],
   "source": [
    "df.head()"
   ]
  },
  {
   "source": [
    "## Working with Text\n",
    "\n",
    "Cleaning and normalization of the raw text."
   ],
   "cell_type": "markdown",
   "metadata": {}
  },
  {
   "cell_type": "code",
   "execution_count": 40,
   "metadata": {},
   "outputs": [],
   "source": [
    "def textPreProcess(rawText, lowerText=True, charsToRemove=r'\\_x000d_|\\?|\\.|\\!|\\;|\\.|\\\"|\\,|\\(|\\)|\\&|\\:|\\-|\\/', removeNumbers=True, removeLineBreaks=True, removeStopWords=True):\n",
    "    cleanedText = []\n",
    "    for x in rawText[:]:\n",
    "        procText = x\n",
    "        if lowerText:\n",
    "            procText = procText.lower()\n",
    "        if len(charsToRemove)>0:\n",
    "            procText = re.sub(charsToRemove,' ',procText)\n",
    "        if removeNumbers:\n",
    "            procText = re.sub(r'\\d+',' ',procText)\n",
    "        if removeLineBreaks:\n",
    "            procText = procText.replace('\\n',' ').replace('\\r', '')\n",
    "        if removeStopWords:\n",
    "            stop_words = set(stopwords.words('portuguese'))\n",
    "            tokenizedText = word_tokenize(procText, language='portuguese')\n",
    "            cText = []\n",
    "            for t in tokenizedText:\n",
    "                if t not in stop_words:\n",
    "                    cText.append(t)\n",
    "            procText = \"\"\n",
    "            for w in cText:\n",
    "                procText = procText + w + ' '\n",
    "            procText = procText.rstrip() # rstring (remove spaces at the right of the string)\n",
    "\n",
    "        if procText != \"\":\n",
    "            cleanedText.append(procText)\n",
    "    return cleanedText"
   ]
  },
  {
   "source": [
    "### Adding a column using the function to the original data frame with the text processing"
   ],
   "cell_type": "markdown",
   "metadata": {}
  },
  {
   "cell_type": "code",
   "execution_count": 41,
   "metadata": {},
   "outputs": [],
   "source": [
    "df[\"processText\"] = pd.DataFrame(data=textPreProcess(df.complainText, removeNumbers=False), index=df.index)"
   ]
  },
  {
   "cell_type": "code",
   "execution_count": 42,
   "metadata": {},
   "outputs": [
    {
     "output_type": "execute_result",
     "data": {
      "text/plain": [
       "              complainStatus      complainUser  \\\n",
       "complainID                                       \n",
       "59476521    Aguarda resposta            Susana   \n",
       "58935721    Aguarda resposta   Cassia Barcelos   \n",
       "58754421    Aguarda resposta            Milene   \n",
       "58696921    Aguarda resposta  Mariana Ferreira   \n",
       "58650521           Resolvida       Olga Santos   \n",
       "...                      ...               ...   \n",
       "8776417        Sem resolução   Maria Fernandes   \n",
       "7865917        Sem resolução    patricia vidal   \n",
       "5810316        Sem resolução     Julia Almeida   \n",
       "5716216        Sem resolução      Carla Castro   \n",
       "3071916        Sem resolução  Patrícia Martins   \n",
       "\n",
       "                                                complainTitle  complainViews  \\\n",
       "complainID                                                                     \n",
       "59476521                       Lefties - Devolução de artigos             55   \n",
       "58935721           Lefties - Troca de peças compradas on-line            175   \n",
       "58754421                     Lefties - Encomenda não entregue             62   \n",
       "58696921    Lefties - Encomenda não entregue nem resolvem ...             41   \n",
       "58650521                     Lefties - Encomenda não entregue            124   \n",
       "...                                                       ...            ...   \n",
       "8776417                     Lefties - Hematoma grave na face            1305   \n",
       "7865917                             Lefties - Mau atendimento           1829   \n",
       "5810316                                       Lefties - Troca           3777   \n",
       "5716216                                   Lefties - Promoção            1024   \n",
       "3071916                      Lefties - Falta de flexibilidade           1986   \n",
       "\n",
       "                                                 complainText  \\\n",
       "complainID                                                      \n",
       "59476521    Recebi a minha encomenda no dia 19-04-2021 e i...   \n",
       "58935721    Boa noite, _x000D_\\nVenho mostrar o meu total ...   \n",
       "58754421    A minha encomenda que fiz no dia 19 de Março n...   \n",
       "58696921    Encomenda nr ‪90003989775‬ já deveria ter sido...   \n",
       "58650521    Bom dia. Fiz uma encomenda online na Lefties n...   \n",
       "...                                                       ...   \n",
       "8776417     Os sapatos prateados estavam na prateleira aci...   \n",
       "7865917     Bom dia.Ja por diversas vezes me dirigi a voss...   \n",
       "5810316     Boa tarde fui a lefties C.C. Arrábida fiz uma ...   \n",
       "5716216     Comprei umas sapatilhas em promoção, disseram ...   \n",
       "3071916     Por altura do natal, as minhas filhas recebera...   \n",
       "\n",
       "                     complainDate  \\\n",
       "complainID                          \n",
       "59476521          5 de maio 2021    \n",
       "58935721        23 de abril 2021    \n",
       "58754421        20 de abril 2021    \n",
       "58696921        19 de abril 2021    \n",
       "58650521        17 de abril 2021    \n",
       "...                           ...   \n",
       "8776417         13 de março 2017    \n",
       "7865917       23 de janeiro 2017    \n",
       "5810316      19 de setembro 2016    \n",
       "5716216      13 de setembro 2016    \n",
       "3071916       14 de janeiro 2016    \n",
       "\n",
       "                                                  processText  \n",
       "complainID                                                     \n",
       "59476521    recebi encomenda dia 19 04 2021 imediatamente ...  \n",
       "58935721    boa noite venho mostrar total descontentamento...  \n",
       "58754421    encomenda fiz dia 19 março entregue devido ctt...  \n",
       "58696921    encomenda nr ‪90003989775‬ deveria ter sido en...  \n",
       "58650521    bom dia fiz encomenda online lefties dia 1 abr...  \n",
       "...                                                       ...  \n",
       "8776417     sapatos prateados prateleira acima altura pres...  \n",
       "7865917     bom dia ja diversas vezes dirigi vossa loja aq...  \n",
       "5810316     boa tarde lefties c c arrábida fiz compra valo...  \n",
       "5716216     comprei umas sapatilhas promoção disseram mês ...  \n",
       "3071916     altura natal filhas receberam prendas brinqued...  \n",
       "\n",
       "[177 rows x 7 columns]"
      ],
      "text/html": "<div>\n<style scoped>\n    .dataframe tbody tr th:only-of-type {\n        vertical-align: middle;\n    }\n\n    .dataframe tbody tr th {\n        vertical-align: top;\n    }\n\n    .dataframe thead th {\n        text-align: right;\n    }\n</style>\n<table border=\"1\" class=\"dataframe\">\n  <thead>\n    <tr style=\"text-align: right;\">\n      <th></th>\n      <th>complainStatus</th>\n      <th>complainUser</th>\n      <th>complainTitle</th>\n      <th>complainViews</th>\n      <th>complainText</th>\n      <th>complainDate</th>\n      <th>processText</th>\n    </tr>\n    <tr>\n      <th>complainID</th>\n      <th></th>\n      <th></th>\n      <th></th>\n      <th></th>\n      <th></th>\n      <th></th>\n      <th></th>\n    </tr>\n  </thead>\n  <tbody>\n    <tr>\n      <th>59476521</th>\n      <td>Aguarda resposta</td>\n      <td>Susana</td>\n      <td>Lefties - Devolução de artigos</td>\n      <td>55</td>\n      <td>Recebi a minha encomenda no dia 19-04-2021 e i...</td>\n      <td>5 de maio 2021</td>\n      <td>recebi encomenda dia 19 04 2021 imediatamente ...</td>\n    </tr>\n    <tr>\n      <th>58935721</th>\n      <td>Aguarda resposta</td>\n      <td>Cassia Barcelos</td>\n      <td>Lefties - Troca de peças compradas on-line</td>\n      <td>175</td>\n      <td>Boa noite, _x000D_\\nVenho mostrar o meu total ...</td>\n      <td>23 de abril 2021</td>\n      <td>boa noite venho mostrar total descontentamento...</td>\n    </tr>\n    <tr>\n      <th>58754421</th>\n      <td>Aguarda resposta</td>\n      <td>Milene</td>\n      <td>Lefties - Encomenda não entregue</td>\n      <td>62</td>\n      <td>A minha encomenda que fiz no dia 19 de Março n...</td>\n      <td>20 de abril 2021</td>\n      <td>encomenda fiz dia 19 março entregue devido ctt...</td>\n    </tr>\n    <tr>\n      <th>58696921</th>\n      <td>Aguarda resposta</td>\n      <td>Mariana Ferreira</td>\n      <td>Lefties - Encomenda não entregue nem resolvem ...</td>\n      <td>41</td>\n      <td>Encomenda nr ‪90003989775‬ já deveria ter sido...</td>\n      <td>19 de abril 2021</td>\n      <td>encomenda nr ‪90003989775‬ deveria ter sido en...</td>\n    </tr>\n    <tr>\n      <th>58650521</th>\n      <td>Resolvida</td>\n      <td>Olga Santos</td>\n      <td>Lefties - Encomenda não entregue</td>\n      <td>124</td>\n      <td>Bom dia. Fiz uma encomenda online na Lefties n...</td>\n      <td>17 de abril 2021</td>\n      <td>bom dia fiz encomenda online lefties dia 1 abr...</td>\n    </tr>\n    <tr>\n      <th>...</th>\n      <td>...</td>\n      <td>...</td>\n      <td>...</td>\n      <td>...</td>\n      <td>...</td>\n      <td>...</td>\n      <td>...</td>\n    </tr>\n    <tr>\n      <th>8776417</th>\n      <td>Sem resolução</td>\n      <td>Maria Fernandes</td>\n      <td>Lefties - Hematoma grave na face</td>\n      <td>1305</td>\n      <td>Os sapatos prateados estavam na prateleira aci...</td>\n      <td>13 de março 2017</td>\n      <td>sapatos prateados prateleira acima altura pres...</td>\n    </tr>\n    <tr>\n      <th>7865917</th>\n      <td>Sem resolução</td>\n      <td>patricia vidal</td>\n      <td>Lefties - Mau atendimento</td>\n      <td>1829</td>\n      <td>Bom dia.Ja por diversas vezes me dirigi a voss...</td>\n      <td>23 de janeiro 2017</td>\n      <td>bom dia ja diversas vezes dirigi vossa loja aq...</td>\n    </tr>\n    <tr>\n      <th>5810316</th>\n      <td>Sem resolução</td>\n      <td>Julia Almeida</td>\n      <td>Lefties - Troca</td>\n      <td>3777</td>\n      <td>Boa tarde fui a lefties C.C. Arrábida fiz uma ...</td>\n      <td>19 de setembro 2016</td>\n      <td>boa tarde lefties c c arrábida fiz compra valo...</td>\n    </tr>\n    <tr>\n      <th>5716216</th>\n      <td>Sem resolução</td>\n      <td>Carla Castro</td>\n      <td>Lefties - Promoção</td>\n      <td>1024</td>\n      <td>Comprei umas sapatilhas em promoção, disseram ...</td>\n      <td>13 de setembro 2016</td>\n      <td>comprei umas sapatilhas promoção disseram mês ...</td>\n    </tr>\n    <tr>\n      <th>3071916</th>\n      <td>Sem resolução</td>\n      <td>Patrícia Martins</td>\n      <td>Lefties - Falta de flexibilidade</td>\n      <td>1986</td>\n      <td>Por altura do natal, as minhas filhas recebera...</td>\n      <td>14 de janeiro 2016</td>\n      <td>altura natal filhas receberam prendas brinqued...</td>\n    </tr>\n  </tbody>\n</table>\n<p>177 rows × 7 columns</p>\n</div>"
     },
     "metadata": {},
     "execution_count": 42
    }
   ],
   "source": [
    "df"
   ]
  },
  {
   "source": [
    "## Other Processing Functions"
   ],
   "cell_type": "markdown",
   "metadata": {}
  },
  {
   "cell_type": "code",
   "execution_count": 43,
   "metadata": {},
   "outputs": [],
   "source": [
    "# Tokenize texts\n",
    "def tokenize_words(texts):\n",
    "    words_new = []\n",
    "    for w in (texts[:]):\n",
    "        w_token = word_tokenize(w)\n",
    "        if w_token != '':\n",
    "            words_new.append(w_token)\n",
    "    return words_new"
   ]
  },
  {
   "cell_type": "code",
   "execution_count": 44,
   "metadata": {},
   "outputs": [],
   "source": [
    "# Stemm texts\n",
    "def stemming(words):\n",
    "    procText = []\n",
    "    for w in (words[:]):\n",
    "        stemmed_word = [snowball.stem(x) for x in (w[:])]\n",
    "        procText.append(stemmed_word)\n",
    "    return procText"
   ]
  },
  {
   "source": [
    "# Analysis"
   ],
   "cell_type": "markdown",
   "metadata": {}
  },
  {
   "cell_type": "code",
   "execution_count": 45,
   "metadata": {},
   "outputs": [
    {
     "output_type": "execute_result",
     "data": {
      "text/plain": [
       "complainID\n",
       "59476521    recebi encomenda dia 19 04 2021 imediatamente ...\n",
       "58935721    boa noite venho mostrar total descontentamento...\n",
       "58754421    encomenda fiz dia 19 março entregue devido ctt...\n",
       "58696921    encomenda nr ‪90003989775‬ deveria ter sido en...\n",
       "58650521    bom dia fiz encomenda online lefties dia 1 abr...\n",
       "                                  ...                        \n",
       "8776417     sapatos prateados prateleira acima altura pres...\n",
       "7865917     bom dia ja diversas vezes dirigi vossa loja aq...\n",
       "5810316     boa tarde lefties c c arrábida fiz compra valo...\n",
       "5716216     comprei umas sapatilhas promoção disseram mês ...\n",
       "3071916     altura natal filhas receberam prendas brinqued...\n",
       "Name: processText, Length: 177, dtype: object"
      ]
     },
     "metadata": {},
     "execution_count": 45
    }
   ],
   "source": [
    "df[\"processText\"]"
   ]
  },
  {
   "cell_type": "code",
   "execution_count": 46,
   "metadata": {},
   "outputs": [],
   "source": [
    "# Create a dataframe with only the description\n",
    "\n",
    "complainsData = pd.DataFrame(data=df, index=df.index, columns=['complainText', 'processText'])"
   ]
  },
  {
   "cell_type": "code",
   "execution_count": 47,
   "metadata": {},
   "outputs": [],
   "source": [
    "# Tokenize text\n",
    "complainsData['Words'] =  tokenize_words(complainsData['processText'])"
   ]
  },
  {
   "cell_type": "code",
   "execution_count": 48,
   "metadata": {},
   "outputs": [],
   "source": [
    "# Load Spacy English model\n",
    "nlp = spacy.load(\"pt_core_news_sm\")"
   ]
  },
  {
   "cell_type": "code",
   "execution_count": 49,
   "metadata": {},
   "outputs": [
    {
     "output_type": "stream",
     "name": "stdout",
     "text": [
      "boa noite venho mostrar total descontentamento frustação relativamente serviço prestado fiz encomenda várias peças pack 4 calças fato treino 15 99€ chegar encomenda deparei vez pack recebido 1 calça vez 4 enviei mail apoio cliente expor situação passado algumas horas responderam afirmar entrado contacto comigo várias vezes sucesso mentira pois confirmei número telefone cedido conta nenhuma chamada atendida pediram retribuir chamada contactei então chamada telefonica assistente atendeu nunca pediu desculpa sucedido explicou deveria devolver calça etiqueta própria enviado pack completo passado dois dias recebi pack desta vez 1 4 calças veio vários tamanhos abaixo pedido quero resolvam situação vez todas trabalho compatível ponto picket fazer devolução espero resolvam desagradável situação vez todas concertesa vou recomendar comprar nada marca\n[]\n"
     ]
    }
   ],
   "source": [
    "# Check entities in review \n",
    "print(df['processText'][58935721])\n",
    "doc = nlp(df['processText'][58935721])\n",
    "print([(X.text, X.label_) for X in doc.ents])"
   ]
  },
  {
   "cell_type": "code",
   "execution_count": 50,
   "metadata": {},
   "outputs": [
    {
     "output_type": "stream",
     "name": "stdout",
     "text": [
      "fiz encomenda dia 10 fevereiro hoje chegou nada mandaram mail dizer conseguiam entregar erro morada 4° encomenda outras 3 qualquer problema têm contacto caso conseguirem chegar morada nunca contactaram\n[]\n"
     ]
    }
   ],
   "source": [
    "# Check entities in review \n",
    "print(df['processText'][56382721])\n",
    "doc = nlp(df['processText'][56382721])\n",
    "print([(X.text, X.label_) for X in doc.ents])"
   ]
  },
  {
   "cell_type": "code",
   "execution_count": 51,
   "metadata": {},
   "outputs": [
    {
     "output_type": "execute_result",
     "data": {
      "text/plain": [
       "Counter()"
      ]
     },
     "metadata": {},
     "execution_count": 51
    }
   ],
   "source": [
    "# Count the labels\n",
    "labels = [x.label_ for x in doc.ents]\n",
    "Counter(labels)"
   ]
  },
  {
   "cell_type": "code",
   "execution_count": 52,
   "metadata": {},
   "outputs": [
    {
     "output_type": "stream",
     "name": "stderr",
     "text": [
      "/Users/lagonick/opt/anaconda3/lib/python3.7/site-packages/spacy/displacy/__init__.py:189: UserWarning: [W006] No entities to visualize found in Doc object. If this is surprising to you, make sure the Doc was processed using a model that supports named entity recognition, and check the `doc.ents` property manually if necessary.\n  warnings.warn(Warnings.W006)\n"
     ]
    },
    {
     "output_type": "display_data",
     "data": {
      "text/plain": "<IPython.core.display.HTML object>",
      "text/html": "<span class=\"tex2jax_ignore\"><div class=\"entities\" style=\"line-height: 2.5; direction: ltr\">fiz encomenda dia 10 fevereiro hoje chegou nada mandaram mail dizer conseguiam entregar erro morada 4° encomenda outras 3 qualquer problema têm contacto caso conseguirem chegar morada nunca contactaram</div></span>"
     },
     "metadata": {}
    }
   ],
   "source": [
    "# Entities visualization\n",
    "displacy.render(doc, jupyter=True, style='ent')"
   ]
  },
  {
   "cell_type": "code",
   "execution_count": 55,
   "metadata": {},
   "outputs": [
    {
     "output_type": "execute_result",
     "data": {
      "text/plain": [
       "[]"
      ]
     },
     "metadata": {},
     "execution_count": 55
    }
   ],
   "source": [
    "# For example, if our objective was understand what guests say about the staff language skills we could look for reviews that mention languages\n",
    "counter=0   # to stop after x for demostration speed\n",
    "annReviews=[]\n",
    "for r in df['processText']:\n",
    "  doc = nlp(r)\n",
    "  for i in doc.ents:\n",
    "      if i.label_=='DATE':\n",
    "          annReviews.append(r)\n",
    "          counter = counter + 1\n",
    "          break\n",
    "  if counter>=3:    # Stop after the first three reviews have been found\n",
    "      break\n",
    "\n",
    "annReviews"
   ]
  },
  {
   "cell_type": "code",
   "execution_count": 61,
   "metadata": {},
   "outputs": [
    {
     "output_type": "execute_result",
     "data": {
      "text/plain": [
       "complainID\n",
       "59476521    recebi encomenda dia 19 04 2021 imediatamente ...\n",
       "58935721    boa noite venho mostrar total descontentamento...\n",
       "58754421    encomenda fiz dia 19 março entregue devido ctt...\n",
       "58696921    encomenda nr ‪90003989775‬ deveria ter sido en...\n",
       "58650521    bom dia fiz encomenda online lefties dia 1 abr...\n",
       "                                  ...                        \n",
       "8776417     sapatos prateados prateleira acima altura pres...\n",
       "7865917     bom dia ja diversas vezes dirigi vossa loja aq...\n",
       "5810316     boa tarde lefties c c arrábida fiz compra valo...\n",
       "5716216     comprei umas sapatilhas promoção disseram mês ...\n",
       "3071916     altura natal filhas receberam prendas brinqued...\n",
       "Name: processText, Length: 177, dtype: object"
      ]
     },
     "metadata": {},
     "execution_count": 61
    }
   ],
   "source": [
    "complainsData['processText']"
   ]
  },
  {
   "cell_type": "code",
   "execution_count": null,
   "metadata": {},
   "outputs": [],
   "source": []
  }
 ],
 "metadata": {
  "kernelspec": {
   "name": "python3",
   "display_name": "Python 3.7.6 64-bit ('base': conda)"
  },
  "language_info": {
   "codemirror_mode": {
    "name": "ipython",
    "version": 3
   },
   "file_extension": ".py",
   "mimetype": "text/x-python",
   "name": "python",
   "nbconvert_exporter": "python",
   "pygments_lexer": "ipython3",
   "version": "3.7.6"
  },
  "varInspector": {
   "cols": {
    "lenName": 16,
    "lenType": 16,
    "lenVar": 40
   },
   "kernels_config": {
    "python": {
     "delete_cmd_postfix": "",
     "delete_cmd_prefix": "del ",
     "library": "var_list.py",
     "varRefreshCmd": "print(var_dic_list())"
    },
    "r": {
     "delete_cmd_postfix": ") ",
     "delete_cmd_prefix": "rm(",
     "library": "var_list.r",
     "varRefreshCmd": "cat(var_dic_list()) "
    }
   },
   "types_to_exclude": [
    "module",
    "function",
    "builtin_function_or_method",
    "instance",
    "_Feature"
   ],
   "window_display": false
  },
  "interpreter": {
   "hash": "f30a98447ab0ce6ed2c42a906dd8ff7c3035168d8630597903509f729a93be92"
  }
 },
 "nbformat": 4,
 "nbformat_minor": 2
}