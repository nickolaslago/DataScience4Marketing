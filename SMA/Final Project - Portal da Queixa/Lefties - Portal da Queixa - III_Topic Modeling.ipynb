{
 "cells": [
  {
   "cell_type": "markdown",
   "metadata": {},
   "source": [
    "# Modelling - Topic Modeling\n",
    "## Portal da Queixa\n",
    "### Changes may be required due to Portal da Queixa's continous updates\n",
    "\n",
    "Lefties Group"
   ]
  },
  {
   "cell_type": "markdown",
   "metadata": {},
   "source": [
    "### Load packages and do the initializations"
   ]
  },
  {
   "cell_type": "code",
   "execution_count": 1,
   "metadata": {},
   "outputs": [
    {
     "output_type": "stream",
     "name": "stderr",
     "text": [
      "/Users/lagonick/opt/anaconda3/lib/python3.7/site-packages/gensim/similarities/__init__.py:15: UserWarning: The gensim.similarities.levenshtein submodule is disabled, because the optional Levenshtein package <https://pypi.org/project/python-Levenshtein/> is unavailable. Install Levenhstein (e.g. `pip install python-Levenshtein`) to suppress this warning.\n  warnings.warn(msg)\n"
     ]
    }
   ],
   "source": [
    "# Load libraries\n",
    "import numpy as np\n",
    "import pandas as pd\n",
    "import seaborn as sns\n",
    "from datetime import datetime\n",
    "import matplotlib.pyplot as plt\n",
    "import category_encoders as ce\n",
    "from bs4 import BeautifulSoup\n",
    "import re\n",
    "from nltk.corpus import stopwords\n",
    "from nltk.tokenize import word_tokenize\n",
    "from nltk.stem.porter import PorterStemmer\n",
    "from nltk.stem import WordNetLemmatizer \n",
    "\n",
    "import gensim         \n",
    "import gensim.corpora as corpora\n",
    "from gensim.utils import simple_preprocess\n",
    "from gensim.models import CoherenceModel\n",
    "\n",
    "import spacy\n",
    "\n",
    "import pyLDAvis\n",
    "import pyLDAvis.gensim_models as gensimvis\n",
    "pyLDAvis.enable_notebook()"
   ]
  },
  {
   "source": [
    "### Importing the data from the provious webscraping\n",
    "\n",
    "Delete the Unnamed: 0 column and make the complainID the index column of the DataFrame"
   ],
   "cell_type": "markdown",
   "metadata": {}
  },
  {
   "cell_type": "code",
   "execution_count": 2,
   "metadata": {},
   "outputs": [
    {
     "output_type": "stream",
     "name": "stderr",
     "text": [
      "/Users/lagonick/opt/anaconda3/lib/python3.7/site-packages/openpyxl/compat/numbers.py:41: DeprecationWarning: `np.float` is a deprecated alias for the builtin `float`. To silence this warning, use `float` by itself. Doing this will not modify any behavior and is safe. If you specifically wanted the numpy scalar type, use `np.float64` here.\nDeprecated in NumPy 1.20; for more details and guidance: https://numpy.org/devdocs/release/1.20.0-notes.html#deprecations\n  numpy.float,\n"
     ]
    }
   ],
   "source": [
    "df = pd.read_excel(\"complains_data.xlsx\", index_col=\"complainID\")"
   ]
  },
  {
   "cell_type": "code",
   "execution_count": 3,
   "metadata": {},
   "outputs": [],
   "source": [
    "cols_to_drop = [\"Unnamed: 0\"]\n",
    "df = df.drop(cols_to_drop, axis=1)"
   ]
  },
  {
   "cell_type": "code",
   "execution_count": 4,
   "metadata": {},
   "outputs": [
    {
     "output_type": "execute_result",
     "data": {
      "text/plain": [
       "              complainStatus      complainUser  \\\n",
       "complainID                                       \n",
       "59476521    Aguarda resposta            Susana   \n",
       "58935721    Aguarda resposta   Cassia Barcelos   \n",
       "58754421    Aguarda resposta            Milene   \n",
       "58696921    Aguarda resposta  Mariana Ferreira   \n",
       "58650521           Resolvida       Olga Santos   \n",
       "\n",
       "                                                complainTitle  complainViews  \\\n",
       "complainID                                                                     \n",
       "59476521                       Lefties - Devolução de artigos             55   \n",
       "58935721           Lefties - Troca de peças compradas on-line            175   \n",
       "58754421                     Lefties - Encomenda não entregue             62   \n",
       "58696921    Lefties - Encomenda não entregue nem resolvem ...             41   \n",
       "58650521                     Lefties - Encomenda não entregue            124   \n",
       "\n",
       "                                                 complainText  \\\n",
       "complainID                                                      \n",
       "59476521    Recebi a minha encomenda no dia 19-04-2021 e i...   \n",
       "58935721    Boa noite, _x000D_\\nVenho mostrar o meu total ...   \n",
       "58754421    A minha encomenda que fiz no dia 19 de Março n...   \n",
       "58696921    Encomenda nr ‪90003989775‬ já deveria ter sido...   \n",
       "58650521    Bom dia. Fiz uma encomenda online na Lefties n...   \n",
       "\n",
       "                  complainDate  \n",
       "complainID                      \n",
       "59476521       5 de maio 2021   \n",
       "58935721     23 de abril 2021   \n",
       "58754421     20 de abril 2021   \n",
       "58696921     19 de abril 2021   \n",
       "58650521     17 de abril 2021   "
      ],
      "text/html": "<div>\n<style scoped>\n    .dataframe tbody tr th:only-of-type {\n        vertical-align: middle;\n    }\n\n    .dataframe tbody tr th {\n        vertical-align: top;\n    }\n\n    .dataframe thead th {\n        text-align: right;\n    }\n</style>\n<table border=\"1\" class=\"dataframe\">\n  <thead>\n    <tr style=\"text-align: right;\">\n      <th></th>\n      <th>complainStatus</th>\n      <th>complainUser</th>\n      <th>complainTitle</th>\n      <th>complainViews</th>\n      <th>complainText</th>\n      <th>complainDate</th>\n    </tr>\n    <tr>\n      <th>complainID</th>\n      <th></th>\n      <th></th>\n      <th></th>\n      <th></th>\n      <th></th>\n      <th></th>\n    </tr>\n  </thead>\n  <tbody>\n    <tr>\n      <th>59476521</th>\n      <td>Aguarda resposta</td>\n      <td>Susana</td>\n      <td>Lefties - Devolução de artigos</td>\n      <td>55</td>\n      <td>Recebi a minha encomenda no dia 19-04-2021 e i...</td>\n      <td>5 de maio 2021</td>\n    </tr>\n    <tr>\n      <th>58935721</th>\n      <td>Aguarda resposta</td>\n      <td>Cassia Barcelos</td>\n      <td>Lefties - Troca de peças compradas on-line</td>\n      <td>175</td>\n      <td>Boa noite, _x000D_\\nVenho mostrar o meu total ...</td>\n      <td>23 de abril 2021</td>\n    </tr>\n    <tr>\n      <th>58754421</th>\n      <td>Aguarda resposta</td>\n      <td>Milene</td>\n      <td>Lefties - Encomenda não entregue</td>\n      <td>62</td>\n      <td>A minha encomenda que fiz no dia 19 de Março n...</td>\n      <td>20 de abril 2021</td>\n    </tr>\n    <tr>\n      <th>58696921</th>\n      <td>Aguarda resposta</td>\n      <td>Mariana Ferreira</td>\n      <td>Lefties - Encomenda não entregue nem resolvem ...</td>\n      <td>41</td>\n      <td>Encomenda nr ‪90003989775‬ já deveria ter sido...</td>\n      <td>19 de abril 2021</td>\n    </tr>\n    <tr>\n      <th>58650521</th>\n      <td>Resolvida</td>\n      <td>Olga Santos</td>\n      <td>Lefties - Encomenda não entregue</td>\n      <td>124</td>\n      <td>Bom dia. Fiz uma encomenda online na Lefties n...</td>\n      <td>17 de abril 2021</td>\n    </tr>\n  </tbody>\n</table>\n</div>"
     },
     "metadata": {},
     "execution_count": 4
    }
   ],
   "source": [
    "df.head()"
   ]
  },
  {
   "source": [
    "## Working with Text\n",
    "\n",
    "Cleaning and normalization of the raw text."
   ],
   "cell_type": "markdown",
   "metadata": {}
  },
  {
   "cell_type": "code",
   "execution_count": 5,
   "metadata": {},
   "outputs": [],
   "source": [
    "def textPreProcess(rawText, lowerText=True, charsToRemove=r'\\_x000d_|\\?|\\.|\\!|\\;|\\.|\\\"|\\,|\\(|\\)|\\&|\\:|\\-|\\/', removeNumbers=True, removeLineBreaks=True, removeStopWords=True):\n",
    "    cleanedText = []\n",
    "    for x in rawText[:]:\n",
    "        procText = x\n",
    "        if lowerText:\n",
    "            procText = procText.lower()\n",
    "        if len(charsToRemove)>0:\n",
    "            procText = re.sub(charsToRemove,' ',procText)\n",
    "        if removeNumbers:\n",
    "            procText = re.sub(r'\\d+',' ',procText)\n",
    "        if removeLineBreaks:\n",
    "            procText = procText.replace('\\n',' ').replace('\\r', '')\n",
    "        if removeStopWords:\n",
    "            stop_words = set(stopwords.words('portuguese'))\n",
    "            tokenizedText = word_tokenize(procText, language='portuguese')\n",
    "            cText = []\n",
    "            for t in tokenizedText:\n",
    "                if t not in stop_words:\n",
    "                    cText.append(t)\n",
    "            procText = \"\"\n",
    "            for w in cText:\n",
    "                procText = procText + w + ' '\n",
    "            procText = procText.rstrip() # rstring (remove spaces at the right of the string)\n",
    "\n",
    "        if procText != \"\":\n",
    "            cleanedText.append(procText)\n",
    "    return cleanedText"
   ]
  },
  {
   "source": [
    "### Adding a column using the function to the original data frame with the text processing"
   ],
   "cell_type": "markdown",
   "metadata": {}
  },
  {
   "cell_type": "code",
   "execution_count": 6,
   "metadata": {},
   "outputs": [],
   "source": [
    "df[\"processText\"] = pd.DataFrame(data=textPreProcess(df.complainText), index=df.index)"
   ]
  },
  {
   "cell_type": "code",
   "execution_count": 7,
   "metadata": {},
   "outputs": [
    {
     "output_type": "execute_result",
     "data": {
      "text/plain": [
       "              complainStatus      complainUser  \\\n",
       "complainID                                       \n",
       "59476521    Aguarda resposta            Susana   \n",
       "58935721    Aguarda resposta   Cassia Barcelos   \n",
       "58754421    Aguarda resposta            Milene   \n",
       "58696921    Aguarda resposta  Mariana Ferreira   \n",
       "58650521           Resolvida       Olga Santos   \n",
       "...                      ...               ...   \n",
       "8776417        Sem resolução   Maria Fernandes   \n",
       "7865917        Sem resolução    patricia vidal   \n",
       "5810316        Sem resolução     Julia Almeida   \n",
       "5716216        Sem resolução      Carla Castro   \n",
       "3071916        Sem resolução  Patrícia Martins   \n",
       "\n",
       "                                                complainTitle  complainViews  \\\n",
       "complainID                                                                     \n",
       "59476521                       Lefties - Devolução de artigos             55   \n",
       "58935721           Lefties - Troca de peças compradas on-line            175   \n",
       "58754421                     Lefties - Encomenda não entregue             62   \n",
       "58696921    Lefties - Encomenda não entregue nem resolvem ...             41   \n",
       "58650521                     Lefties - Encomenda não entregue            124   \n",
       "...                                                       ...            ...   \n",
       "8776417                     Lefties - Hematoma grave na face            1305   \n",
       "7865917                             Lefties - Mau atendimento           1829   \n",
       "5810316                                       Lefties - Troca           3777   \n",
       "5716216                                   Lefties - Promoção            1024   \n",
       "3071916                      Lefties - Falta de flexibilidade           1986   \n",
       "\n",
       "                                                 complainText  \\\n",
       "complainID                                                      \n",
       "59476521    Recebi a minha encomenda no dia 19-04-2021 e i...   \n",
       "58935721    Boa noite, _x000D_\\nVenho mostrar o meu total ...   \n",
       "58754421    A minha encomenda que fiz no dia 19 de Março n...   \n",
       "58696921    Encomenda nr ‪90003989775‬ já deveria ter sido...   \n",
       "58650521    Bom dia. Fiz uma encomenda online na Lefties n...   \n",
       "...                                                       ...   \n",
       "8776417     Os sapatos prateados estavam na prateleira aci...   \n",
       "7865917     Bom dia.Ja por diversas vezes me dirigi a voss...   \n",
       "5810316     Boa tarde fui a lefties C.C. Arrábida fiz uma ...   \n",
       "5716216     Comprei umas sapatilhas em promoção, disseram ...   \n",
       "3071916     Por altura do natal, as minhas filhas recebera...   \n",
       "\n",
       "                     complainDate  \\\n",
       "complainID                          \n",
       "59476521          5 de maio 2021    \n",
       "58935721        23 de abril 2021    \n",
       "58754421        20 de abril 2021    \n",
       "58696921        19 de abril 2021    \n",
       "58650521        17 de abril 2021    \n",
       "...                           ...   \n",
       "8776417         13 de março 2017    \n",
       "7865917       23 de janeiro 2017    \n",
       "5810316      19 de setembro 2016    \n",
       "5716216      13 de setembro 2016    \n",
       "3071916       14 de janeiro 2016    \n",
       "\n",
       "                                                  processText  \n",
       "complainID                                                     \n",
       "59476521    recebi encomenda dia imediatamente dia seguir ...  \n",
       "58935721    boa noite venho mostrar total descontentamento...  \n",
       "58754421    encomenda fiz dia março entregue devido ctt ex...  \n",
       "58696921    encomenda nr ‪ ‬ deveria ter sido entregue sem...  \n",
       "58650521    bom dia fiz encomenda online lefties dia abril...  \n",
       "...                                                       ...  \n",
       "8776417     sapatos prateados prateleira acima altura pres...  \n",
       "7865917     bom dia ja diversas vezes dirigi vossa loja aq...  \n",
       "5810316     boa tarde lefties c c arrábida fiz compra valo...  \n",
       "5716216     comprei umas sapatilhas promoção disseram mês ...  \n",
       "3071916     altura natal filhas receberam prendas brinqued...  \n",
       "\n",
       "[177 rows x 7 columns]"
      ],
      "text/html": "<div>\n<style scoped>\n    .dataframe tbody tr th:only-of-type {\n        vertical-align: middle;\n    }\n\n    .dataframe tbody tr th {\n        vertical-align: top;\n    }\n\n    .dataframe thead th {\n        text-align: right;\n    }\n</style>\n<table border=\"1\" class=\"dataframe\">\n  <thead>\n    <tr style=\"text-align: right;\">\n      <th></th>\n      <th>complainStatus</th>\n      <th>complainUser</th>\n      <th>complainTitle</th>\n      <th>complainViews</th>\n      <th>complainText</th>\n      <th>complainDate</th>\n      <th>processText</th>\n    </tr>\n    <tr>\n      <th>complainID</th>\n      <th></th>\n      <th></th>\n      <th></th>\n      <th></th>\n      <th></th>\n      <th></th>\n      <th></th>\n    </tr>\n  </thead>\n  <tbody>\n    <tr>\n      <th>59476521</th>\n      <td>Aguarda resposta</td>\n      <td>Susana</td>\n      <td>Lefties - Devolução de artigos</td>\n      <td>55</td>\n      <td>Recebi a minha encomenda no dia 19-04-2021 e i...</td>\n      <td>5 de maio 2021</td>\n      <td>recebi encomenda dia imediatamente dia seguir ...</td>\n    </tr>\n    <tr>\n      <th>58935721</th>\n      <td>Aguarda resposta</td>\n      <td>Cassia Barcelos</td>\n      <td>Lefties - Troca de peças compradas on-line</td>\n      <td>175</td>\n      <td>Boa noite, _x000D_\\nVenho mostrar o meu total ...</td>\n      <td>23 de abril 2021</td>\n      <td>boa noite venho mostrar total descontentamento...</td>\n    </tr>\n    <tr>\n      <th>58754421</th>\n      <td>Aguarda resposta</td>\n      <td>Milene</td>\n      <td>Lefties - Encomenda não entregue</td>\n      <td>62</td>\n      <td>A minha encomenda que fiz no dia 19 de Março n...</td>\n      <td>20 de abril 2021</td>\n      <td>encomenda fiz dia março entregue devido ctt ex...</td>\n    </tr>\n    <tr>\n      <th>58696921</th>\n      <td>Aguarda resposta</td>\n      <td>Mariana Ferreira</td>\n      <td>Lefties - Encomenda não entregue nem resolvem ...</td>\n      <td>41</td>\n      <td>Encomenda nr ‪90003989775‬ já deveria ter sido...</td>\n      <td>19 de abril 2021</td>\n      <td>encomenda nr ‪ ‬ deveria ter sido entregue sem...</td>\n    </tr>\n    <tr>\n      <th>58650521</th>\n      <td>Resolvida</td>\n      <td>Olga Santos</td>\n      <td>Lefties - Encomenda não entregue</td>\n      <td>124</td>\n      <td>Bom dia. Fiz uma encomenda online na Lefties n...</td>\n      <td>17 de abril 2021</td>\n      <td>bom dia fiz encomenda online lefties dia abril...</td>\n    </tr>\n    <tr>\n      <th>...</th>\n      <td>...</td>\n      <td>...</td>\n      <td>...</td>\n      <td>...</td>\n      <td>...</td>\n      <td>...</td>\n      <td>...</td>\n    </tr>\n    <tr>\n      <th>8776417</th>\n      <td>Sem resolução</td>\n      <td>Maria Fernandes</td>\n      <td>Lefties - Hematoma grave na face</td>\n      <td>1305</td>\n      <td>Os sapatos prateados estavam na prateleira aci...</td>\n      <td>13 de março 2017</td>\n      <td>sapatos prateados prateleira acima altura pres...</td>\n    </tr>\n    <tr>\n      <th>7865917</th>\n      <td>Sem resolução</td>\n      <td>patricia vidal</td>\n      <td>Lefties - Mau atendimento</td>\n      <td>1829</td>\n      <td>Bom dia.Ja por diversas vezes me dirigi a voss...</td>\n      <td>23 de janeiro 2017</td>\n      <td>bom dia ja diversas vezes dirigi vossa loja aq...</td>\n    </tr>\n    <tr>\n      <th>5810316</th>\n      <td>Sem resolução</td>\n      <td>Julia Almeida</td>\n      <td>Lefties - Troca</td>\n      <td>3777</td>\n      <td>Boa tarde fui a lefties C.C. Arrábida fiz uma ...</td>\n      <td>19 de setembro 2016</td>\n      <td>boa tarde lefties c c arrábida fiz compra valo...</td>\n    </tr>\n    <tr>\n      <th>5716216</th>\n      <td>Sem resolução</td>\n      <td>Carla Castro</td>\n      <td>Lefties - Promoção</td>\n      <td>1024</td>\n      <td>Comprei umas sapatilhas em promoção, disseram ...</td>\n      <td>13 de setembro 2016</td>\n      <td>comprei umas sapatilhas promoção disseram mês ...</td>\n    </tr>\n    <tr>\n      <th>3071916</th>\n      <td>Sem resolução</td>\n      <td>Patrícia Martins</td>\n      <td>Lefties - Falta de flexibilidade</td>\n      <td>1986</td>\n      <td>Por altura do natal, as minhas filhas recebera...</td>\n      <td>14 de janeiro 2016</td>\n      <td>altura natal filhas receberam prendas brinqued...</td>\n    </tr>\n  </tbody>\n</table>\n<p>177 rows × 7 columns</p>\n</div>"
     },
     "metadata": {},
     "execution_count": 7
    }
   ],
   "source": [
    "df"
   ]
  },
  {
   "source": [
    "## Other Processing Functions"
   ],
   "cell_type": "markdown",
   "metadata": {}
  },
  {
   "cell_type": "code",
   "execution_count": 8,
   "metadata": {},
   "outputs": [],
   "source": [
    "# Tokenize texts\n",
    "def tokenize_words(texts):\n",
    "    words_new = []\n",
    "    for w in (texts[:]):\n",
    "        w_token = word_tokenize(w)\n",
    "        if w_token != '':\n",
    "            words_new.append(w_token)\n",
    "    return words_new"
   ]
  },
  {
   "cell_type": "code",
   "execution_count": 9,
   "metadata": {},
   "outputs": [],
   "source": [
    "# Stemm texts\n",
    "def stemming(words):\n",
    "    procText = []\n",
    "    for w in (words[:]):\n",
    "        stemmed_word = [snowball.stem(x) for x in (w[:])]\n",
    "        procText.append(stemmed_word)\n",
    "    return procText"
   ]
  },
  {
   "cell_type": "code",
   "execution_count": 10,
   "metadata": {},
   "outputs": [],
   "source": [
    "# Function to count the frequency of n-grams (Adapted from https://medium.com/analytics-vidhya/automated-keyword-extraction-from-articles-using-nlp-bfd864f41b34)\n",
    "# Uses CountVectorizer from sklearn instead of FreqDist from NLTK\n",
    "def get_top_n_words(corpus, n=None, nGrams=1): \n",
    "    vec = CountVectorizer(max_df=0.8, stop_words=stop_words,ngram_range=(nGrams,nGrams), max_features=10000).fit(corpus)\n",
    "    bag_of_words = vec.transform(corpus)\n",
    "    sum_words = bag_of_words.sum(axis=0) \n",
    "    words_freq = [(word, sum_words[0, idx]) for word, idx in vec.vocabulary_.items()]\n",
    "    words_freq =sorted(words_freq, key = lambda x: x[1], reverse=True)\n",
    "    return words_freq[:n]"
   ]
  },
  {
   "cell_type": "code",
   "execution_count": 11,
   "metadata": {},
   "outputs": [],
   "source": [
    "# Function to lemmatize words\n",
    "def lemmatize(words):\n",
    "  lemmatizer = WordNetLemmatizer()\n",
    "  procText = []\n",
    "  for w in (words[:]):\n",
    "    lemmatized_word = [lemmatizer.lemmatize(x) for x in (w[:])]\n",
    "    procText.append(lemmatized_word)\n",
    "  return procText"
   ]
  },
  {
   "source": [
    "# Analysis"
   ],
   "cell_type": "markdown",
   "metadata": {}
  },
  {
   "cell_type": "code",
   "execution_count": 12,
   "metadata": {},
   "outputs": [],
   "source": [
    "df[\"tokenizedText\"] = tokenize_words(df[\"processText\"])"
   ]
  },
  {
   "cell_type": "code",
   "execution_count": 13,
   "metadata": {},
   "outputs": [
    {
     "output_type": "execute_result",
     "data": {
      "text/plain": [
       "complainID\n",
       "59476521    [recebi, encomenda, dia, imediatamente, dia, s...\n",
       "58935721    [boa, noite, venho, mostrar, total, descontent...\n",
       "58754421    [encomenda, fiz, dia, março, entregue, devido,...\n",
       "58696921    [encomenda, nr, ‪, ‬, deveria, ter, sido, entr...\n",
       "58650521    [bom, dia, fiz, encomenda, online, lefties, di...\n",
       "                                  ...                        \n",
       "8776417     [sapatos, prateados, prateleira, acima, altura...\n",
       "7865917     [bom, dia, ja, diversas, vezes, dirigi, vossa,...\n",
       "5810316     [boa, tarde, lefties, c, c, arrábida, fiz, com...\n",
       "5716216     [comprei, umas, sapatilhas, promoção, disseram...\n",
       "3071916     [altura, natal, filhas, receberam, prendas, br...\n",
       "Name: tokenizedText, Length: 177, dtype: object"
      ]
     },
     "metadata": {},
     "execution_count": 13
    }
   ],
   "source": [
    "df[\"tokenizedText\"]"
   ]
  },
  {
   "cell_type": "code",
   "execution_count": 14,
   "metadata": {},
   "outputs": [],
   "source": [
    "df = df[df[\"tokenizedText\"].str.len()>0]\n",
    "\n",
    "df[\"tokenizedText\"] = lemmatize(df[\"tokenizedText\"])"
   ]
  },
  {
   "cell_type": "code",
   "execution_count": 15,
   "metadata": {},
   "outputs": [],
   "source": [
    "# Create dictionary (needed for LDA)\n",
    "id2word = corpora.Dictionary(df[\"tokenizedText\"])"
   ]
  },
  {
   "cell_type": "code",
   "execution_count": 16,
   "metadata": {},
   "outputs": [],
   "source": [
    "# Create corpus\n",
    "corpus = df[\"tokenizedText\"]"
   ]
  },
  {
   "cell_type": "code",
   "execution_count": 17,
   "metadata": {},
   "outputs": [],
   "source": [
    "# Create TDM (Frequency)\n",
    "tdm = [id2word.doc2bow(text) for text in corpus]"
   ]
  },
  {
   "cell_type": "code",
   "execution_count": 24,
   "metadata": {},
   "outputs": [],
   "source": [
    "# Build LDA model (can take from 2 to 10 minutes depending on the computer)\n",
    "lda_model = gensim.models.ldamodel.LdaModel(corpus=tdm,\n",
    "                                           id2word=id2word,\n",
    "                                           num_topics=3, \n",
    "                                           random_state=123,\n",
    "                                           update_every=1,\n",
    "                                           chunksize=100,\n",
    "                                           passes=10,\n",
    "                                           alpha='auto',\n",
    "                                           per_word_topics=True)"
   ]
  },
  {
   "cell_type": "code",
   "execution_count": 25,
   "metadata": {},
   "outputs": [
    {
     "output_type": "stream",
     "name": "stdout",
     "text": [
      "[(0, '0.027*\"dia\" + 0.025*\"encomenda\" + 0.011*\"dinheiro\" + 0.010*\"cliente\" + 0.008*\"lefty\" + 0.008*\"loja\" + 0.008*\"apoio\" + 0.007*\"artigos\" + 0.007*\"mail\" + 0.007*\"nada\"'), (1, '0.023*\"loja\" + 0.011*\"troca\" + 0.010*\"dia\" + 0.007*\"ter\" + 0.007*\"lefty\" + 0.006*\"fazer\" + 0.006*\"poi\" + 0.006*\"funcionária\" + 0.006*\"cliente\" + 0.005*\"talão\"'), (2, '0.037*\"encomenda\" + 0.034*\"dia\" + 0.012*\"fiz\" + 0.010*\"recebi\" + 0.010*\"lefty\" + 0.009*\"entrega\" + 0.009*\"online\" + 0.008*\"cliente\" + 0.008*\"email\" + 0.007*\"compra\"')]\n"
     ]
    }
   ],
   "source": [
    "# Print the keywords in the 10 topics\n",
    "print(lda_model.print_topics())\n",
    "doc_lda = lda_model[tdm]\n",
    "# Interpretation: Topic 0 is represented as 0.055\"walking\" + 0.054\"garden\" + ..."
   ]
  },
  {
   "cell_type": "code",
   "execution_count": 26,
   "metadata": {},
   "outputs": [
    {
     "output_type": "execute_result",
     "data": {
      "text/plain": [
       "<IPython.core.display.HTML object>"
      ],
      "text/html": "\n<link rel=\"stylesheet\" type=\"text/css\" href=\"https://cdn.jsdelivr.net/gh/bmabey/pyLDAvis@3.3.1/pyLDAvis/js/ldavis.v1.0.0.css\">\n\n\n<div id=\"ldavis_el683351404787584917281705909534\"></div>\n<script type=\"text/javascript\">\n\nvar ldavis_el683351404787584917281705909534_data = {\"mdsDat\": {\"x\": [-0.07705277862550912, -0.06627550318739513, 0.1433282818129042], \"y\": [-0.05858232917767314, 0.061594478492405874, -0.0030121493147327186], \"topics\": [1, 2, 3], \"cluster\": [1, 1, 1], \"Freq\": [37.772212410427834, 33.5462556296671, 28.681531959905065]}, \"tinfo\": {\"Term\": [\"encomenda\", \"troca\", \"loja\", \"dinheiro\", \"recebi\", \"janeiro\", \"entrega\", \"funcion\\u00e1ria\", \"online\", \"apoio\", \"fiz\", \"dia\", \"email\", \"mail\", \"tal\\u00e3o\", \"trocar\", \"roupa\", \"transportadora\", \"filum\", \"morada\", \"devolver\", \"site\", \"artigos\", \"mal\", \"porque\", \"liguei\", \"conta\", \"entregue\", \"nao\", \"line\", \"janeiro\", \"morada\", \"chamada\", \"armaz\\u00e9ns\", \"recebeu\", \"continuum\", \"pack\", \"chegou\", \"enviado\", \"dito\", \"qualidade\", \"app\", \"dada\", \"isolamento\", \"frete\", \"fato\", \"recebido\", \"entanto\", \"refer\\u00eancia\", \"pr\\u00f3xima\", \"contudo\", \"retiraram\", \"folga\", \"retiram\", \"reportar\", \"soube\", \"ja\", \"queixas\", \"sofrer\", \"poder\\u00e1\", \"transporte\", \"encomendei\", \"desconto\", \"nao\", \"entrega\", \"prevista\", \"email\", \"online\", \"encomenda\", \"fiz\", \"inadmiss\\u00edvel\", \"recebi\", \"nenhuma\", \"dia\", \"resposta\", \"comprar\", \"compra\", \"celeritas\", \"agora\", \"site\", \"receber\", \"dizer\", \"apenas\", \"hoje\", \"passado\", \"artigos\", \"lefty\", \"nada\", \"entregue\", \"ainda\", \"cliente\", \"mail\", \"apoio\", \"valor\", \"stock\", \"situa\\u00e7\\u00e3o\", \"loja\", \"falta\", \"line\", \"on\", \"chamadas\", \"devolvem\", \"segundo\", \"coisa\", \"operador\", \"expresso\", \"p\\u00e1gina\", \"enviaram\", \"tr\\u00eas\", \"tintas\", \"extraviada\", \"nova\", \"desligar\", \"devolver\", \"voltei\", \"retirado\", \"iriam\", \"referente\", \"venda\", \"conclus\\u00e3o\", \"informei\", \"indica\\u00e7\\u00e3o\", \"postal\", \"justifica\\u00e7\\u00e3o\", \"indicam\", \"altera\\u00e7\\u00e3o\", \"camisolas\", \"localizar\", \"cara\", \"novo\", \"dinheiro\", \"ent\\u00e3o\", \"ligar\", \"conta\", \"\\u00e1\", \"disseram\", \"transportadora\", \"podem\", \"porque\", \"artigo\", \"devolu\\u00e7\\u00e3o\", \"liguei\", \"apoio\", \"dezembro\", \"mail\", \"encomenda\", \"dia\", \"cliente\", \"enviar\", \"artigos\", \"contacto\", \"nada\", \"problema\", \"falta\", \"lefty\", \"hoje\", \"ser\", \"site\", \"poi\", \"recebi\", \"loja\", \"\\u20ac\", \"fiz\", \"fazer\", \"situa\\u00e7\\u00e3o\", \"online\", \"compra\", \"filum\", \"trocar\", \"funcion\\u00e1ria\", \"super\", \"sapatilhas\", \"vossas\", \"frente\", \"adquiri\", \"troca\", \"educada\", \"funcionaria\", \"recusou\", \"prioridade\", \"top\", \"motivos\", \"atender\", \"strada\", \"mochila\", \"descontente\", \"perder\", \"enquanto\", \"h\", \"ali\", \"chefe\", \"arrogante\", \"naquele\", \"atenciosa\", \"sent\", \"comercial\", \"balc\\u00e3o\", \"roupa\", \"tal\\u00e3o\", \"lo\", \"mal\", \"respons\\u00e1vel\", \"uma\", \"pe\\u00e7a\", \"dirigi\", \"loja\", \"fatura\", \"comprei\", \"lojas\", \"pe\\u00e7as\", \"pessoas\", \"ter\", \"nome\", \"livro\", \"clientes\", \"disse\", \"fazer\", \"caixa\", \"poi\", \"entrar\", \"efetuar\", \"reclama\\u00e7\\u00e3o\", \"lefty\", \"atendimento\", \"mesma\", \"dia\", \"cliente\", \"situa\\u00e7\\u00e3o\", \"ser\", \"porque\", \"tarde\", \"qualquer\", \"valor\", \"assim\"], \"Freq\": [268.0, 40.0, 144.0, 61.0, 71.0, 28.0, 56.0, 21.0, 55.0, 58.0, 77.0, 301.0, 48.0, 54.0, 22.0, 16.0, 20.0, 41.0, 14.0, 19.0, 20.0, 45.0, 63.0, 16.0, 40.0, 29.0, 29.0, 33.0, 25.0, 10.0, 28.187267273373795, 18.48373862452113, 8.585110778448206, 4.846124444512938, 4.756942673421537, 5.342515707297154, 4.817193384849097, 13.3851245916806, 4.72231771507984, 9.634788968815775, 5.24440105101718, 4.100330952983877, 6.2766547133905854, 5.54764314049429, 3.6091722900225816, 3.609110248669338, 7.98044398327262, 5.1787468586256535, 4.515101734603254, 3.5242644193947106, 4.168294046426719, 3.430926145055614, 3.423576384053257, 3.4144953483918523, 3.8724097405407476, 3.3915806954748833, 8.087031028145109, 2.947955336204716, 2.9477922102328256, 2.947745679217893, 8.81283944876058, 7.139731232575256, 5.999011635036734, 20.488097926976785, 41.355679278817526, 7.565992768106374, 35.16969425931768, 39.69416477309997, 167.90829054705313, 53.88660782225532, 11.038795489503281, 47.63529539714699, 11.137171682177533, 157.75575792799154, 27.267694614311306, 14.003548522098699, 33.173083707946454, 8.693156329961171, 18.013685520706577, 25.88614492414097, 12.886209422465726, 20.641943368164824, 17.92575794766135, 31.52116849712559, 19.04168721102579, 32.25832246279585, 46.123210699752136, 31.050980613819505, 19.538807459710615, 23.117566650501786, 37.52317523197408, 25.504738217326466, 26.28389631849965, 22.211514727732382, 15.281422832284978, 22.725232108088377, 32.44590770336336, 17.004834284648055, 9.938480216842542, 9.938105915729002, 4.883974029755855, 5.298828388941892, 4.26048859989524, 4.187594408036017, 5.631522703702922, 3.8326579146048094, 3.693733063805281, 3.693473000531596, 4.659609962275827, 3.6169372103386683, 3.6097091138351804, 5.081745143122209, 3.740380815081702, 18.19709513610883, 11.842208930409395, 4.611491369123671, 8.312197928675007, 3.0980390166236482, 3.159019935541047, 3.0869249335594033, 3.5345745778109645, 3.084688389405715, 3.149328244208398, 3.0659415086340016, 3.0614097576521044, 3.057025494608982, 2.5793462610198037, 2.579098072781447, 6.482389885021135, 6.35522915671971, 46.04160577314666, 12.116002594941797, 9.377229947130676, 20.676163611303593, 7.556689181046829, 15.891746077726951, 25.987963813836455, 5.410444220997464, 25.44504479865982, 25.94842279620247, 24.2526449512866, 18.323147211112026, 32.17936593317297, 11.37241828278865, 28.48952265593975, 100.05552886382816, 108.72937386839826, 41.514386304730735, 9.67686938855391, 29.39057563656003, 13.861992839238864, 26.886744387696353, 14.989799144447177, 18.193925926680475, 33.755948823485475, 24.06529109391144, 18.435226644546805, 19.036084432090494, 21.140203891817073, 24.05735667030664, 32.83877049489251, 15.67828044266961, 21.21119380301109, 17.004347587701208, 16.479757927054152, 15.743907587909469, 15.557113282198967, 13.82197387552686, 15.333324218849047, 20.168978632704764, 6.164555844352174, 6.163542171594438, 6.161764589198359, 5.768427069685215, 5.766131279581256, 37.177754468339145, 5.3136673165079875, 5.313438265452153, 5.31342080233974, 4.4627828498527355, 4.462667512087031, 4.462373075889372, 4.460715704685716, 4.460153230018463, 4.460030988231573, 4.459297943629124, 4.458743591339736, 4.058684804142083, 8.676493794667751, 3.6119548337236544, 3.6119296543522683, 3.6119296543522683, 3.611885387392896, 3.6118679242804834, 3.61186508144823, 3.6118102553976312, 3.6116108510210094, 17.60710267879052, 18.418185463305566, 4.409902108753039, 13.210781998068013, 9.566215004972669, 10.252521008465118, 9.400396660828548, 9.205431163710577, 78.98490043804156, 8.640941334508396, 18.33737430143642, 11.364968378960052, 9.58978939449233, 14.142245732704326, 24.80826481478497, 7.847670924654529, 6.966653654471328, 14.672253631149953, 12.685543559905582, 21.706137019459895, 10.7568426991458, 20.648150192559687, 10.022213420774532, 8.817622546811142, 9.679289876203036, 23.307943036129885, 9.508833654297158, 14.13544405347894, 35.052183412851704, 19.533327838776597, 14.197599737864365, 12.623458540207594, 12.039617145738534, 10.767067960641906, 10.713123188041703, 11.471670432516381, 10.232336899466924], \"Total\": [268.0, 40.0, 144.0, 61.0, 71.0, 28.0, 56.0, 21.0, 55.0, 58.0, 77.0, 301.0, 48.0, 54.0, 22.0, 16.0, 20.0, 41.0, 14.0, 19.0, 20.0, 45.0, 63.0, 16.0, 40.0, 29.0, 29.0, 33.0, 25.0, 10.0, 28.757715952733754, 19.019091367533804, 9.119296224109773, 5.329426340340431, 5.243994498896673, 5.890775353156317, 5.32014588447185, 14.801422989012814, 5.232053107624027, 10.712675821652867, 5.861091972856132, 4.583293437073286, 7.0244762306981725, 6.285780744076965, 4.092040492879215, 4.092020957501725, 9.055246390449515, 5.881103721983599, 5.132915417223761, 4.00712965887468, 4.742710498321398, 3.9211412202428826, 3.9170626454211614, 3.9194121937950444, 4.463775269857715, 3.91717686524907, 9.4067040235787, 3.4308552031568027, 3.430823377568885, 3.43083366256039, 10.410411791921716, 8.451730220958362, 7.076954363582017, 25.33545942849758, 56.33628432218793, 9.171998574577385, 48.362579862784926, 55.651449435833264, 268.1783764133848, 77.83728311808461, 13.954060795678089, 71.9082039089512, 14.316774653440842, 301.5373152092415, 40.98769598329134, 19.445706056135343, 57.6490406099286, 11.07056751759347, 28.242984704666714, 45.135393853197066, 18.557651533531853, 34.328664992916664, 28.717827321504892, 60.90737085024523, 31.324435854120104, 63.59960207563706, 103.18710255936749, 62.79236425527779, 33.725458919119035, 43.606440956179576, 98.57088937548141, 54.22372441898432, 58.68581918719627, 47.64482854594664, 24.87115429404869, 53.402589773006895, 144.26957863629744, 39.245626955674894, 10.453474060378346, 10.453508780087027, 5.398651900937767, 5.905899857918357, 4.804539653312375, 4.728618818502061, 6.368613574074585, 4.361615600202294, 4.20720007156842, 4.207244049330391, 5.30819315202103, 4.130487695440926, 4.131164657682509, 5.821173635393538, 4.2867070102944025, 20.936056971145316, 13.626392577002482, 5.343308007498855, 9.649212667115545, 3.611488009634223, 3.6896459032653692, 3.6125547527562696, 4.1364325268513555, 3.6127929913696217, 3.690567037282946, 3.6146396765615, 3.6151780594414, 3.6155053237213823, 3.0924011445646156, 3.0924269313157735, 7.886334816360117, 7.795283797166497, 61.48061435467992, 15.411478411927774, 11.921908018709463, 29.193211493184165, 9.772325964697922, 23.29079203049655, 41.236672171514165, 6.837615088338706, 40.682970186118524, 43.5378408442391, 40.70637920733561, 29.51720525243907, 58.68581918719627, 17.036413830785918, 54.22372441898432, 268.1783764133848, 301.5373152092415, 98.57088937548141, 14.268822283119263, 63.59960207563706, 23.074958738613446, 62.79236425527779, 29.049051239964015, 39.245626955674894, 103.18710255936749, 60.90737085024523, 41.273703073638806, 45.135393853197066, 54.994297899497354, 71.9082039089512, 144.26957863629744, 33.0198081264633, 77.83728311808461, 55.290017927574816, 53.402589773006895, 55.651449435833264, 57.6490406099286, 14.400630124152197, 16.172534554952804, 21.945558341927896, 6.742545219601685, 6.7429989311527905, 6.7437362591932795, 6.3463235666979045, 6.347233618610775, 40.981923683741876, 5.891666775436022, 5.89174720160331, 5.891769340653728, 5.040779157539815, 5.040814377949232, 5.040921658851268, 5.041410932077522, 5.041659083253105, 5.041983617801916, 5.042012436530252, 5.0421704529593985, 4.647899969229411, 9.974246252267315, 4.189877728939905, 4.189885203563793, 4.189887370140813, 4.189911865843101, 4.189910727048899, 4.18990977828482, 4.189941763600027, 4.189988061994096, 20.851032736491582, 22.124315030573978, 5.147364619282693, 16.453433000600235, 11.871991120463594, 12.938216975633644, 12.20482086683853, 11.968600028011307, 144.26957863629744, 11.310123216841001, 30.670753837800255, 16.632527395993996, 13.441072646156519, 23.63828972036727, 51.576399545098695, 10.979975535836418, 9.323875785721293, 27.98056402858652, 23.171215622054333, 55.290017927574816, 18.465268174064818, 54.994297899497354, 16.808925200031354, 13.630988100546634, 16.486681230731108, 103.18710255936749, 16.591798182547393, 38.90504786950669, 301.5373152092415, 98.57088937548141, 53.402589773006895, 41.273703073638806, 40.682970186118524, 25.98167022899024, 26.61815621071045, 47.64482854594664, 22.226467393588507], \"Category\": [\"Default\", \"Default\", \"Default\", \"Default\", \"Default\", \"Default\", \"Default\", \"Default\", \"Default\", \"Default\", \"Default\", \"Default\", \"Default\", \"Default\", \"Default\", \"Default\", \"Default\", \"Default\", \"Default\", \"Default\", \"Default\", \"Default\", \"Default\", \"Default\", \"Default\", \"Default\", \"Default\", \"Default\", \"Default\", \"Default\", \"Topic1\", \"Topic1\", \"Topic1\", \"Topic1\", \"Topic1\", \"Topic1\", \"Topic1\", \"Topic1\", \"Topic1\", \"Topic1\", \"Topic1\", \"Topic1\", \"Topic1\", \"Topic1\", \"Topic1\", \"Topic1\", \"Topic1\", \"Topic1\", \"Topic1\", \"Topic1\", \"Topic1\", \"Topic1\", \"Topic1\", \"Topic1\", \"Topic1\", \"Topic1\", \"Topic1\", \"Topic1\", \"Topic1\", \"Topic1\", \"Topic1\", \"Topic1\", \"Topic1\", \"Topic1\", \"Topic1\", \"Topic1\", \"Topic1\", \"Topic1\", \"Topic1\", \"Topic1\", \"Topic1\", \"Topic1\", \"Topic1\", \"Topic1\", \"Topic1\", \"Topic1\", \"Topic1\", \"Topic1\", \"Topic1\", \"Topic1\", \"Topic1\", \"Topic1\", \"Topic1\", \"Topic1\", \"Topic1\", \"Topic1\", \"Topic1\", \"Topic1\", \"Topic1\", \"Topic1\", \"Topic1\", \"Topic1\", \"Topic1\", \"Topic1\", \"Topic1\", \"Topic1\", \"Topic1\", \"Topic1\", \"Topic2\", \"Topic2\", \"Topic2\", \"Topic2\", \"Topic2\", \"Topic2\", \"Topic2\", \"Topic2\", \"Topic2\", \"Topic2\", \"Topic2\", \"Topic2\", \"Topic2\", \"Topic2\", \"Topic2\", \"Topic2\", \"Topic2\", \"Topic2\", \"Topic2\", \"Topic2\", \"Topic2\", \"Topic2\", \"Topic2\", \"Topic2\", \"Topic2\", \"Topic2\", \"Topic2\", \"Topic2\", \"Topic2\", \"Topic2\", \"Topic2\", \"Topic2\", \"Topic2\", \"Topic2\", \"Topic2\", \"Topic2\", \"Topic2\", \"Topic2\", \"Topic2\", \"Topic2\", \"Topic2\", \"Topic2\", \"Topic2\", \"Topic2\", \"Topic2\", \"Topic2\", \"Topic2\", \"Topic2\", \"Topic2\", \"Topic2\", \"Topic2\", \"Topic2\", \"Topic2\", \"Topic2\", \"Topic2\", \"Topic2\", \"Topic2\", \"Topic2\", \"Topic2\", \"Topic2\", \"Topic2\", \"Topic2\", \"Topic2\", \"Topic2\", \"Topic2\", \"Topic2\", \"Topic2\", \"Topic2\", \"Topic2\", \"Topic3\", \"Topic3\", \"Topic3\", \"Topic3\", \"Topic3\", \"Topic3\", \"Topic3\", \"Topic3\", \"Topic3\", \"Topic3\", \"Topic3\", \"Topic3\", \"Topic3\", \"Topic3\", \"Topic3\", \"Topic3\", \"Topic3\", \"Topic3\", \"Topic3\", \"Topic3\", \"Topic3\", \"Topic3\", \"Topic3\", \"Topic3\", \"Topic3\", \"Topic3\", \"Topic3\", \"Topic3\", \"Topic3\", \"Topic3\", \"Topic3\", \"Topic3\", \"Topic3\", \"Topic3\", \"Topic3\", \"Topic3\", \"Topic3\", \"Topic3\", \"Topic3\", \"Topic3\", \"Topic3\", \"Topic3\", \"Topic3\", \"Topic3\", \"Topic3\", \"Topic3\", \"Topic3\", \"Topic3\", \"Topic3\", \"Topic3\", \"Topic3\", \"Topic3\", \"Topic3\", \"Topic3\", \"Topic3\", \"Topic3\", \"Topic3\", \"Topic3\", \"Topic3\", \"Topic3\", \"Topic3\", \"Topic3\", \"Topic3\", \"Topic3\", \"Topic3\", \"Topic3\", \"Topic3\"], \"logprob\": [30.0, 29.0, 28.0, 27.0, 26.0, 25.0, 24.0, 23.0, 22.0, 21.0, 20.0, 19.0, 18.0, 17.0, 16.0, 15.0, 14.0, 13.0, 12.0, 11.0, 10.0, 9.0, 8.0, 7.0, 6.0, 5.0, 4.0, 3.0, 2.0, 1.0, -5.0937, -5.5157, -6.2825, -6.8544, -6.873, -6.7569, -6.8604, -5.8384, -6.8803, -6.1672, -6.7754, -7.0215, -6.5957, -6.7192, -7.1491, -7.1491, -6.3556, -6.788, -6.9251, -7.1729, -7.0051, -7.1997, -7.2019, -7.2045, -7.0787, -7.2113, -6.3423, -7.3514, -7.3515, -7.3515, -6.2563, -6.4669, -6.641, -5.4127, -4.7103, -6.4089, -4.8724, -4.7514, -3.3091, -4.4457, -6.0311, -4.569, -6.0223, -3.3715, -5.1269, -5.7932, -4.9308, -6.27, -5.5414, -5.1788, -5.8764, -5.4052, -5.5463, -4.9819, -5.4859, -4.9588, -4.6012, -4.9969, -5.4602, -5.292, -4.8076, -5.1937, -5.1636, -5.3319, -5.7059, -5.3091, -4.953, -5.5991, -6.0175, -6.0175, -6.7279, -6.6464, -6.8645, -6.8818, -6.5855, -6.9704, -7.0073, -7.0073, -6.775, -7.0283, -7.0303, -6.6883, -6.9947, -5.4126, -5.8422, -6.7854, -6.1962, -7.1831, -7.1636, -7.1867, -7.0513, -7.1875, -7.1667, -7.1936, -7.195, -7.1965, -7.3664, -7.3665, -6.4448, -6.4646, -4.4844, -5.8194, -6.0756, -5.2849, -6.2915, -5.5481, -5.0563, -6.6256, -5.0774, -5.0578, -5.1254, -5.4057, -4.8426, -5.8827, -4.9644, -3.7082, -3.625, -4.5879, -6.0442, -4.9332, -5.6848, -5.0223, -5.6065, -5.4128, -4.7948, -5.1331, -5.3996, -5.3676, -5.2627, -5.1335, -4.8223, -5.5616, -5.2594, -5.4804, -5.5118, -5.5575, -5.5694, -5.531, -5.4272, -5.1531, -6.3384, -6.3386, -6.3389, -6.4048, -6.4052, -4.5415, -6.487, -6.487, -6.487, -6.6615, -6.6615, -6.6616, -6.6619, -6.6621, -6.6621, -6.6622, -6.6624, -6.7564, -5.9966, -6.873, -6.873, -6.873, -6.873, -6.873, -6.873, -6.873, -6.8731, -5.2889, -5.2439, -6.6734, -5.5762, -5.899, -5.8297, -5.9165, -5.9374, -3.788, -6.0007, -5.2483, -5.7267, -5.8965, -5.5081, -4.9461, -6.097, -6.2161, -5.4713, -5.6168, -5.0796, -5.7817, -5.1296, -5.8524, -5.9805, -5.8872, -5.0084, -5.905, -5.5086, -4.6004, -5.1851, -5.5042, -5.6217, -5.669, -5.7807, -5.7858, -5.7174, -5.8317], \"loglift\": [30.0, 29.0, 28.0, 27.0, 26.0, 25.0, 24.0, 23.0, 22.0, 21.0, 20.0, 19.0, 18.0, 17.0, 16.0, 15.0, 14.0, 13.0, 12.0, 11.0, 10.0, 9.0, 8.0, 7.0, 6.0, 5.0, 4.0, 3.0, 2.0, 1.0, 0.9536, 0.945, 0.9132, 0.8785, 0.8761, 0.8759, 0.8743, 0.873, 0.8711, 0.8675, 0.8624, 0.8622, 0.861, 0.8487, 0.848, 0.848, 0.8472, 0.8464, 0.8454, 0.8452, 0.8445, 0.84, 0.8389, 0.8357, 0.8315, 0.8295, 0.8224, 0.8219, 0.8219, 0.8218, 0.807, 0.8049, 0.8083, 0.7612, 0.6645, 0.7811, 0.6551, 0.6357, 0.5054, 0.6059, 0.7392, 0.5618, 0.7225, 0.3258, 0.566, 0.6453, 0.421, 0.7318, 0.5239, 0.4176, 0.6089, 0.4649, 0.5023, 0.3149, 0.4758, 0.2948, 0.1684, 0.2694, 0.4277, 0.339, 0.0078, 0.2193, 0.1704, 0.2104, 0.4865, 0.1192, -0.5185, 0.1373, 1.0417, 1.0417, 0.9921, 0.9838, 0.9721, 0.9707, 0.9692, 0.963, 0.9621, 0.962, 0.9619, 0.9595, 0.9573, 0.9564, 0.9559, 0.952, 0.9519, 0.945, 0.9431, 0.9389, 0.937, 0.935, 0.935, 0.9342, 0.9337, 0.9276, 0.926, 0.9245, 0.9108, 0.9107, 0.8962, 0.888, 0.8031, 0.8517, 0.8522, 0.7473, 0.8351, 0.71, 0.6306, 0.8581, 0.623, 0.5747, 0.5744, 0.6154, 0.4914, 0.6881, 0.4487, 0.1063, 0.0722, 0.2275, 0.7039, 0.3203, 0.5826, 0.244, 0.4306, 0.3235, -0.0251, 0.1637, 0.2863, 0.2289, 0.1362, -0.0027, -0.3878, 0.3474, -0.2078, -0.0869, -0.0835, -0.1704, -0.2176, 1.2079, 1.1956, 1.1645, 1.1593, 1.1591, 1.1587, 1.1534, 1.1529, 1.1515, 1.1457, 1.1456, 1.1456, 1.1271, 1.1271, 1.127, 1.1265, 1.1264, 1.1263, 1.1261, 1.1259, 1.1134, 1.1095, 1.1005, 1.1005, 1.1005, 1.1005, 1.1005, 1.1005, 1.1004, 1.1004, 1.0798, 1.0656, 1.0943, 1.0294, 1.033, 1.0163, 0.9878, 0.9864, 0.6465, 0.9797, 0.7345, 0.8681, 0.9113, 0.7352, 0.517, 0.9131, 0.9575, 0.6034, 0.6465, 0.3139, 0.7086, 0.2693, 0.7318, 0.8133, 0.7164, -0.2388, 0.6922, 0.2365, -0.9031, -0.3697, -0.0759, 0.0642, 0.0313, 0.368, 0.3388, -0.175, 0.4732]}, \"token.table\": {\"Topic\": [3, 1, 2, 3, 1, 2, 3, 3, 2, 1, 2, 3, 1, 2, 1, 1, 3, 1, 2, 3, 1, 2, 3, 1, 2, 3, 3, 3, 1, 2, 3, 3, 1, 2, 3, 2, 2, 3, 1, 2, 1, 2, 3, 1, 2, 1, 2, 3, 1, 2, 3, 2, 3, 1, 2, 3, 1, 2, 3, 1, 2, 3, 2, 1, 2, 3, 1, 2, 1, 1, 1, 3, 1, 2, 2, 1, 2, 3, 2, 1, 2, 1, 2, 1, 2, 3, 1, 2, 2, 3, 1, 2, 3, 1, 2, 3, 1, 2, 1, 2, 3, 3, 1, 2, 3, 1, 2, 1, 2, 1, 2, 3, 1, 1, 2, 3, 1, 2, 1, 2, 1, 2, 3, 1, 1, 2, 2, 2, 2, 1, 2, 3, 1, 1, 3, 1, 2, 3, 3, 1, 2, 3, 1, 3, 1, 3, 2, 3, 1, 3, 1, 2, 3, 1, 2, 2, 2, 2, 1, 2, 1, 1, 3, 1, 2, 1, 2, 3, 1, 2, 1, 2, 2, 2, 3, 3, 2, 1, 2, 3, 1, 2, 3, 1, 2, 2, 3, 1, 2, 3, 3, 1, 3, 1, 2, 3, 1, 2, 3, 3, 1, 2, 3, 1, 2, 3, 2, 1, 2, 2, 1, 2, 2, 1, 1, 2, 3, 3, 1, 2, 3, 1, 3, 1, 3, 2, 3, 1, 1, 2, 3, 1, 2, 3, 2, 1, 2, 3, 1, 2, 3, 1, 2, 1, 1, 2, 3, 1, 1, 2, 1, 1, 2, 1, 2, 1, 2, 3, 3, 2, 1, 1, 2, 3, 1, 2, 3, 1, 2, 1, 1, 1, 3, 3, 2, 3, 1, 2, 3, 1, 2, 1, 2, 3, 1, 1, 1, 2, 3, 3, 2, 3, 1, 2, 3, 1, 2, 3, 2, 3, 1, 2, 1, 2, 1, 2, 3, 3, 2, 1, 2, 3, 1, 2, 3, 2, 1, 2, 3, 2, 3, 1, 2, 3], \"Freq\": [0.9452937075464422, 0.637326408246993, 0.28325618144310805, 0.07081404536077701, 0.5274450171962638, 0.27518870462413764, 0.20639152846810324, 0.9546817971253909, 0.8297595305190002, 0.6267883638439801, 0.17410787884555, 0.20892945461466003, 0.4430371827487845, 0.5452765326138886, 0.8727348695688673, 0.9381872795863826, 0.9546796003410395, 0.275622303892634, 0.5971816584340403, 0.137811151946317, 0.5031478021190036, 0.45597769567034696, 0.03144673763243772, 0.13497421550963093, 0.40492264652889276, 0.44991405169876975, 0.9546742784224762, 0.7934286757996207, 0.06027074274878064, 0.3616244564926838, 0.6027074274878064, 0.9546566579228685, 0.10831145159370484, 0.3249343547811145, 0.5957129837653766, 0.970119935854045, 0.7608096967368243, 0.12680161612280405, 0.812966452324788, 0.1806592116277307, 0.9869182641754333, 0.9261571391797794, 0.9546800940029856, 0.8782939322557013, 0.06756107171197702, 0.38550935515300466, 0.4260892872743736, 0.20289966060684456, 0.2859127497153649, 0.17869546857210306, 0.5360864057163092, 0.8459129723776564, 0.9546672067735787, 0.5724293006589355, 0.27754147910736265, 0.1561170819978915, 0.7199532873522398, 0.2571261740543714, 0.05142523481087428, 0.2282304516223801, 0.1956261013906115, 0.5868783041718345, 0.8304372404905672, 0.23978177260950934, 0.719345317828528, 0.034254538944215616, 0.39003320014347304, 0.6067183113342913, 0.8487847015454368, 0.8433995710713804, 0.8541562107903455, 0.7933340209594305, 0.8478223387840368, 0.1413037231306728, 0.9331171900468392, 0.343926437885615, 0.5895881792324829, 0.04913234826937357, 0.8466110364699516, 0.14329345798660595, 0.8597607479196357, 0.29348899654953625, 0.6456757924089798, 0.5239815838061743, 0.36148096604350005, 0.11607186983048166, 0.2439793446673357, 0.7482033236464962, 0.16710392153795772, 0.7519676469208098, 0.1294709802425991, 0.3452559473135976, 0.561040914384596, 0.1717416906545072, 0.6869667626180288, 0.12880626799088038, 0.9334735939444392, 0.09334735939444391, 0.6117336635238544, 0.34956209344220246, 0.05826034890703374, 0.8486562785333303, 0.22008675951229778, 0.14672450634153186, 0.6602602785368934, 0.7237000197115735, 0.26880286446429874, 0.6264487176290292, 0.3728861414458507, 0.8282327780223744, 0.11831896828891061, 0.8606037192024965, 0.850180550516389, 0.2379688143292195, 0.17847661074691462, 0.5949220358230488, 0.7277725269476503, 0.2662582415662135, 0.5930238057831723, 0.41511666404822056, 0.12977340307936272, 0.7786404184761764, 0.06488670153968136, 0.9556477920138302, 0.2803314752004587, 0.7008286880011467, 0.9507411391161454, 0.9170913639923881, 0.9682499564769007, 0.43316928072522004, 0.45864982665023296, 0.10192218370005177, 0.9775121001438112, 0.17683273308835043, 0.7957472988975769, 0.30746960549494745, 0.30746960549494745, 0.3979018424052261, 0.9721796809793569, 0.6937549441194937, 0.2697935893798031, 0.03854194133997187, 0.7658800156047647, 0.9454292610425311, 0.977507433506736, 0.8486446938251797, 0.04556730726187352, 0.9113461452374704, 0.1002582024453911, 0.9023238220085199, 0.5253879711649244, 0.39404097837369334, 0.08209187049451945, 0.7883009943175084, 0.21499118026841138, 0.8298346445661782, 0.8303824789204681, 0.9670168615187813, 0.10363539850334044, 0.8290831880267235, 0.9545353623181569, 0.8504572887535659, 0.10630716109419573, 0.9736517338866849, 0.829958244373008, 0.44579214707123344, 0.3294985434874334, 0.22289607353561672, 0.16775838203594012, 0.7549127191617305, 0.3726640075144325, 0.6098138304781623, 0.9566197746549023, 0.21450307210900713, 0.750760752381525, 0.7770966884715108, 0.970111846336674, 0.2218069831663664, 0.22873845139031534, 0.547585989691967, 0.12024630727388473, 0.1803694609108271, 0.661354690006366, 0.4794949125792089, 0.5163791366237634, 0.1823327690877981, 0.7901086660471252, 0.38555408157605225, 0.2570360543840348, 0.35985047613764876, 0.7933385554600085, 0.9464174524513077, 0.7935056862025357, 0.49369060024514694, 0.42998858731028927, 0.07962751616857208, 0.7894074333423692, 0.039470371667118455, 0.15788148666847382, 0.95467401894744, 0.7683294782708827, 0.13969626877652414, 0.06984813438826207, 0.1821497683189188, 0.0910748841594594, 0.7285990732756752, 0.8589333205248012, 0.12828269323093655, 0.7696961593856193, 0.956616597390637, 0.7187593567732758, 0.28750374270931034, 0.9421202794317525, 0.939823852310841, 0.6065552174182549, 0.22346771168040971, 0.1596197940574355, 0.7933091586882554, 0.2961297150854635, 0.12691273503662723, 0.592259430170927, 0.24580450895033118, 0.7374135268509935, 0.2975952965438217, 0.7439882413595543, 0.7312491176239667, 0.14624982352479335, 0.8744230397229856, 0.23638814379915593, 0.3818577707524827, 0.3818577707524827, 0.07374092860662453, 0.6145077383885377, 0.2949637144264981, 0.8128832154228114, 0.8722199349413454, 0.10902749186766818, 0.7935281183697455, 0.2753962576579458, 0.5163679831086484, 0.20654719324345935, 0.9982207566308992, 0.9507510771905894, 0.8530833542889247, 0.45082010583330767, 0.11270502645832692, 0.413251763680532, 0.874417549665062, 0.7005196738666138, 0.2694306437948515, 0.953471633323031, 0.6675177155137498, 0.3337588577568749, 0.8834657451659765, 0.11043321814574707, 0.3032751061311248, 0.12131004245244992, 0.6065502122622496, 0.8486415049380088, 0.8306825308562619, 0.9741052781080793, 0.8961024599537024, 0.16846373786050314, 0.8423186893025157, 0.6587342701821193, 0.14638539337380427, 0.17078295893610498, 0.1871499824821233, 0.9357499124106166, 0.7654208977431368, 0.7650833855492138, 0.1438777655722382, 0.8632665934334292, 0.8898117975786529, 0.8325459437601469, 0.9546744945991269, 0.24228502061369245, 0.43611303710464644, 0.3149705267978002, 0.5760446022597042, 0.4209556708820915, 0.43069072301107164, 0.29961093774683245, 0.2621595705284784, 0.8744256610860072, 0.7658576835307761, 0.603108316673074, 0.36186499000384437, 0.7933896231275955, 0.8898716737645327, 0.13559741830896221, 0.8135845098537733, 0.4233753990044199, 0.1924433631838272, 0.4233753990044199, 0.21327584121845375, 0.2908306925706188, 0.4847178209510313, 0.9684086468566525, 0.7935225739511025, 0.3637538921087292, 0.6305067463217973, 0.8645191160434048, 0.09605767956037832, 0.07320300587036971, 0.024401001956789903, 0.9028370724012265, 0.927498404720136, 0.9419401021788951, 0.15458080535877322, 0.07729040267938661, 0.7729040267938662, 0.4617500087923318, 0.2938409146860293, 0.2308750043961659, 0.8130861547838435, 0.146773989425157, 0.880643936550942, 0.8897145097898225, 0.8186382677879998, 0.20465956694699994, 0.3331333712743228, 0.4845576309444695, 0.18170911160417605], \"Term\": [\"adquiri\", \"agora\", \"agora\", \"agora\", \"ainda\", \"ainda\", \"ainda\", \"ali\", \"altera\\u00e7\\u00e3o\", \"apenas\", \"apenas\", \"apenas\", \"apoio\", \"apoio\", \"app\", \"armaz\\u00e9ns\", \"arrogante\", \"artigo\", \"artigo\", \"artigo\", \"artigos\", \"artigos\", \"artigos\", \"assim\", \"assim\", \"assim\", \"atenciosa\", \"atender\", \"atendimento\", \"atendimento\", \"atendimento\", \"balc\\u00e3o\", \"caixa\", \"caixa\", \"caixa\", \"camisolas\", \"cara\", \"cara\", \"celeritas\", \"celeritas\", \"chamada\", \"chamadas\", \"chefe\", \"chegou\", \"chegou\", \"cliente\", \"cliente\", \"cliente\", \"clientes\", \"clientes\", \"clientes\", \"coisa\", \"comercial\", \"compra\", \"compra\", \"compra\", \"comprar\", \"comprar\", \"comprar\", \"comprei\", \"comprei\", \"comprei\", \"conclus\\u00e3o\", \"conta\", \"conta\", \"conta\", \"contacto\", \"contacto\", \"continuum\", \"contudo\", \"dada\", \"descontente\", \"desconto\", \"desconto\", \"desligar\", \"devolu\\u00e7\\u00e3o\", \"devolu\\u00e7\\u00e3o\", \"devolu\\u00e7\\u00e3o\", \"devolvem\", \"devolver\", \"devolver\", \"dezembro\", \"dezembro\", \"dia\", \"dia\", \"dia\", \"dinheiro\", \"dinheiro\", \"dirigi\", \"dirigi\", \"disse\", \"disse\", \"disse\", \"disseram\", \"disseram\", \"disseram\", \"dito\", \"dito\", \"dizer\", \"dizer\", \"dizer\", \"educada\", \"efetuar\", \"efetuar\", \"efetuar\", \"email\", \"email\", \"encomenda\", \"encomenda\", \"encomendei\", \"encomendei\", \"enquanto\", \"entanto\", \"entrar\", \"entrar\", \"entrar\", \"entrega\", \"entrega\", \"entregue\", \"entregue\", \"ent\\u00e3o\", \"ent\\u00e3o\", \"ent\\u00e3o\", \"enviado\", \"enviar\", \"enviar\", \"enviaram\", \"expresso\", \"extraviada\", \"falta\", \"falta\", \"falta\", \"fato\", \"fatura\", \"fatura\", \"fazer\", \"fazer\", \"fazer\", \"filum\", \"fiz\", \"fiz\", \"fiz\", \"folga\", \"frente\", \"frete\", \"funcionaria\", \"funcion\\u00e1ria\", \"funcion\\u00e1ria\", \"h\", \"h\", \"hoje\", \"hoje\", \"hoje\", \"inadmiss\\u00edvel\", \"inadmiss\\u00edvel\", \"indicam\", \"indica\\u00e7\\u00e3o\", \"informei\", \"iriam\", \"iriam\", \"isolamento\", \"ja\", \"ja\", \"janeiro\", \"justifica\\u00e7\\u00e3o\", \"lefty\", \"lefty\", \"lefty\", \"ligar\", \"ligar\", \"liguei\", \"liguei\", \"line\", \"livro\", \"livro\", \"lo\", \"localizar\", \"loja\", \"loja\", \"loja\", \"lojas\", \"lojas\", \"lojas\", \"mail\", \"mail\", \"mal\", \"mal\", \"mesma\", \"mesma\", \"mesma\", \"mochila\", \"morada\", \"motivos\", \"nada\", \"nada\", \"nada\", \"nao\", \"nao\", \"nao\", \"naquele\", \"nenhuma\", \"nenhuma\", \"nenhuma\", \"nome\", \"nome\", \"nome\", \"nova\", \"novo\", \"novo\", \"on\", \"online\", \"online\", \"operador\", \"pack\", \"passado\", \"passado\", \"passado\", \"perder\", \"pessoas\", \"pessoas\", \"pessoas\", \"pe\\u00e7a\", \"pe\\u00e7a\", \"pe\\u00e7as\", \"pe\\u00e7as\", \"podem\", \"podem\", \"poder\\u00e1\", \"poi\", \"poi\", \"poi\", \"porque\", \"porque\", \"porque\", \"postal\", \"prevista\", \"prevista\", \"prioridade\", \"problema\", \"problema\", \"problema\", \"pr\\u00f3xima\", \"p\\u00e1gina\", \"qualidade\", \"qualquer\", \"qualquer\", \"qualquer\", \"queixas\", \"receber\", \"receber\", \"recebeu\", \"recebi\", \"recebi\", \"recebido\", \"recebido\", \"reclama\\u00e7\\u00e3o\", \"reclama\\u00e7\\u00e3o\", \"reclama\\u00e7\\u00e3o\", \"recusou\", \"referente\", \"refer\\u00eancia\", \"reportar\", \"respons\\u00e1vel\", \"respons\\u00e1vel\", \"resposta\", \"resposta\", \"resposta\", \"retirado\", \"retirado\", \"retiram\", \"retiraram\", \"roupa\", \"roupa\", \"sapatilhas\", \"segundo\", \"sent\", \"ser\", \"ser\", \"ser\", \"site\", \"site\", \"situa\\u00e7\\u00e3o\", \"situa\\u00e7\\u00e3o\", \"situa\\u00e7\\u00e3o\", \"sofrer\", \"soube\", \"stock\", \"stock\", \"strada\", \"super\", \"tal\\u00e3o\", \"tal\\u00e3o\", \"tarde\", \"tarde\", \"tarde\", \"ter\", \"ter\", \"ter\", \"tintas\", \"top\", \"transportadora\", \"transportadora\", \"transporte\", \"transporte\", \"troca\", \"troca\", \"troca\", \"trocar\", \"tr\\u00eas\", \"uma\", \"uma\", \"uma\", \"valor\", \"valor\", \"valor\", \"venda\", \"voltei\", \"voltei\", \"vossas\", \"\\u00e1\", \"\\u00e1\", \"\\u20ac\", \"\\u20ac\", \"\\u20ac\"]}, \"R\": 30, \"lambda.step\": 0.01, \"plot.opts\": {\"xlab\": \"PC1\", \"ylab\": \"PC2\"}, \"topic.order\": [3, 1, 2]};\n\nfunction LDAvis_load_lib(url, callback){\n  var s = document.createElement('script');\n  s.src = url;\n  s.async = true;\n  s.onreadystatechange = s.onload = callback;\n  s.onerror = function(){console.warn(\"failed to load library \" + url);};\n  document.getElementsByTagName(\"head\")[0].appendChild(s);\n}\n\nif(typeof(LDAvis) !== \"undefined\"){\n   // already loaded: just create the visualization\n   !function(LDAvis){\n       new LDAvis(\"#\" + \"ldavis_el683351404787584917281705909534\", ldavis_el683351404787584917281705909534_data);\n   }(LDAvis);\n}else if(typeof define === \"function\" && define.amd){\n   // require.js is available: use it to load d3/LDAvis\n   require.config({paths: {d3: \"https://d3js.org/d3.v5\"}});\n   require([\"d3\"], function(d3){\n      window.d3 = d3;\n      LDAvis_load_lib(\"https://cdn.jsdelivr.net/gh/bmabey/pyLDAvis@3.3.1/pyLDAvis/js/ldavis.v3.0.0.js\", function(){\n        new LDAvis(\"#\" + \"ldavis_el683351404787584917281705909534\", ldavis_el683351404787584917281705909534_data);\n      });\n    });\n}else{\n    // require.js not available: dynamically load d3 & LDAvis\n    LDAvis_load_lib(\"https://d3js.org/d3.v5.js\", function(){\n         LDAvis_load_lib(\"https://cdn.jsdelivr.net/gh/bmabey/pyLDAvis@3.3.1/pyLDAvis/js/ldavis.v3.0.0.js\", function(){\n                 new LDAvis(\"#\" + \"ldavis_el683351404787584917281705909534\", ldavis_el683351404787584917281705909534_data);\n            })\n         });\n}\n</script>"
     },
     "metadata": {},
     "execution_count": 26
    }
   ],
   "source": [
    "# Visualize the topics (can take some mintues to run)\n",
    "#vis = pyLDAvis.gensim.prepare(lda_model, tdm, id2word)\n",
    "#pyLDAvis.show(vis)\n",
    "\n",
    "# If it is a newwer version of puLDavis, use this instead of the previous\n",
    "vis = gensimvis.prepare(lda_model, tdm, id2word)\n",
    "pyLDAvis.display(vis)\n",
    "\n",
    "#pyLDAvis.enable_notebook() # Remove remarks to see in notebook instead of the browser"
   ]
  },
  {
   "source": [
    "### Evaluation of topic models\n",
    "Good description at: https://towardsdatascience.com/evaluate-topic-model-in-python-latent-dirichlet-allocation-lda-7d57484bb5d0"
   ],
   "cell_type": "markdown",
   "metadata": {}
  },
  {
   "cell_type": "code",
   "execution_count": 27,
   "metadata": {},
   "outputs": [
    {
     "output_type": "stream",
     "name": "stdout",
     "text": [
      "\nPerplexity:  -7.177821552881229\n"
     ]
    }
   ],
   "source": [
    "# Compute Perplexity\n",
    "print('\\nPerplexity: ', lda_model.log_perplexity(tdm))  # lower value is better (some liteture do not recommend the use of this measure)"
   ]
  },
  {
   "cell_type": "code",
   "execution_count": 28,
   "metadata": {},
   "outputs": [
    {
     "output_type": "stream",
     "name": "stdout",
     "text": [
      "\nCoherence Score:  0.3760401023631487\n"
     ]
    }
   ],
   "source": [
    "# Compute Coherence Score\n",
    "coherence_model_lda = CoherenceModel(model=lda_model, texts=corpus, dictionary=id2word, coherence='c_v')\n",
    "coherence_lda = coherence_model_lda.get_coherence()\n",
    "print('\\nCoherence Score: ', coherence_lda)"
   ]
  },
  {
   "cell_type": "code",
   "execution_count": 23,
   "metadata": {},
   "outputs": [
    {
     "output_type": "display_data",
     "data": {
      "text/plain": "<Figure size 432x288 with 1 Axes>",
      "image/svg+xml": "<?xml version=\"1.0\" encoding=\"utf-8\" standalone=\"no\"?>\n<!DOCTYPE svg PUBLIC \"-//W3C//DTD SVG 1.1//EN\"\n  \"http://www.w3.org/Graphics/SVG/1.1/DTD/svg11.dtd\">\n<!-- Created with matplotlib (https://matplotlib.org/) -->\n<svg height=\"262.19625pt\" version=\"1.1\" viewBox=\"0 0 392.14375 262.19625\" width=\"392.14375pt\" xmlns=\"http://www.w3.org/2000/svg\" xmlns:xlink=\"http://www.w3.org/1999/xlink\">\n <defs>\n  <style type=\"text/css\">\n*{stroke-linecap:butt;stroke-linejoin:round;}\n  </style>\n </defs>\n <g id=\"figure_1\">\n  <g id=\"patch_1\">\n   <path d=\"M 0 262.19625 \nL 392.14375 262.19625 \nL 392.14375 0 \nL 0 0 \nz\n\" style=\"fill:none;\"/>\n  </g>\n  <g id=\"axes_1\">\n   <g id=\"patch_2\">\n    <path d=\"M 50.14375 224.64 \nL 384.94375 224.64 \nL 384.94375 7.2 \nL 50.14375 7.2 \nz\n\" style=\"fill:#ffffff;\"/>\n   </g>\n   <g id=\"matplotlib.axis_1\">\n    <g id=\"xtick_1\">\n     <g id=\"line2d_1\">\n      <defs>\n       <path d=\"M 0 0 \nL 0 3.5 \n\" id=\"m26168b79ec\" style=\"stroke:#000000;stroke-width:0.8;\"/>\n      </defs>\n      <g>\n       <use style=\"stroke:#000000;stroke-width:0.8;\" x=\"65.361932\" xlink:href=\"#m26168b79ec\" y=\"224.64\"/>\n      </g>\n     </g>\n     <g id=\"text_1\">\n      <!-- 3 -->\n      <defs>\n       <path d=\"M 40.578125 39.3125 \nQ 47.65625 37.796875 51.625 33 \nQ 55.609375 28.21875 55.609375 21.1875 \nQ 55.609375 10.40625 48.1875 4.484375 \nQ 40.765625 -1.421875 27.09375 -1.421875 \nQ 22.515625 -1.421875 17.65625 -0.515625 \nQ 12.796875 0.390625 7.625 2.203125 \nL 7.625 11.71875 \nQ 11.71875 9.328125 16.59375 8.109375 \nQ 21.484375 6.890625 26.8125 6.890625 \nQ 36.078125 6.890625 40.9375 10.546875 \nQ 45.796875 14.203125 45.796875 21.1875 \nQ 45.796875 27.640625 41.28125 31.265625 \nQ 36.765625 34.90625 28.71875 34.90625 \nL 20.21875 34.90625 \nL 20.21875 43.015625 \nL 29.109375 43.015625 \nQ 36.375 43.015625 40.234375 45.921875 \nQ 44.09375 48.828125 44.09375 54.296875 \nQ 44.09375 59.90625 40.109375 62.90625 \nQ 36.140625 65.921875 28.71875 65.921875 \nQ 24.65625 65.921875 20.015625 65.03125 \nQ 15.375 64.15625 9.8125 62.3125 \nL 9.8125 71.09375 \nQ 15.4375 72.65625 20.34375 73.4375 \nQ 25.25 74.21875 29.59375 74.21875 \nQ 40.828125 74.21875 47.359375 69.109375 \nQ 53.90625 64.015625 53.90625 55.328125 \nQ 53.90625 49.265625 50.4375 45.09375 \nQ 46.96875 40.921875 40.578125 39.3125 \nz\n\" id=\"DejaVuSans-51\"/>\n      </defs>\n      <g transform=\"translate(62.180682 239.238437)scale(0.1 -0.1)\">\n       <use xlink:href=\"#DejaVuSans-51\"/>\n      </g>\n     </g>\n    </g>\n    <g id=\"xtick_2\">\n     <g id=\"line2d_2\">\n      <g>\n       <use style=\"stroke:#000000;stroke-width:0.8;\" x=\"116.089205\" xlink:href=\"#m26168b79ec\" y=\"224.64\"/>\n      </g>\n     </g>\n     <g id=\"text_2\">\n      <!-- 4 -->\n      <defs>\n       <path d=\"M 37.796875 64.3125 \nL 12.890625 25.390625 \nL 37.796875 25.390625 \nz\nM 35.203125 72.90625 \nL 47.609375 72.90625 \nL 47.609375 25.390625 \nL 58.015625 25.390625 \nL 58.015625 17.1875 \nL 47.609375 17.1875 \nL 47.609375 0 \nL 37.796875 0 \nL 37.796875 17.1875 \nL 4.890625 17.1875 \nL 4.890625 26.703125 \nz\n\" id=\"DejaVuSans-52\"/>\n      </defs>\n      <g transform=\"translate(112.907955 239.238437)scale(0.1 -0.1)\">\n       <use xlink:href=\"#DejaVuSans-52\"/>\n      </g>\n     </g>\n    </g>\n    <g id=\"xtick_3\">\n     <g id=\"line2d_3\">\n      <g>\n       <use style=\"stroke:#000000;stroke-width:0.8;\" x=\"166.816477\" xlink:href=\"#m26168b79ec\" y=\"224.64\"/>\n      </g>\n     </g>\n     <g id=\"text_3\">\n      <!-- 5 -->\n      <defs>\n       <path d=\"M 10.796875 72.90625 \nL 49.515625 72.90625 \nL 49.515625 64.59375 \nL 19.828125 64.59375 \nL 19.828125 46.734375 \nQ 21.96875 47.46875 24.109375 47.828125 \nQ 26.265625 48.1875 28.421875 48.1875 \nQ 40.625 48.1875 47.75 41.5 \nQ 54.890625 34.8125 54.890625 23.390625 \nQ 54.890625 11.625 47.5625 5.09375 \nQ 40.234375 -1.421875 26.90625 -1.421875 \nQ 22.3125 -1.421875 17.546875 -0.640625 \nQ 12.796875 0.140625 7.71875 1.703125 \nL 7.71875 11.625 \nQ 12.109375 9.234375 16.796875 8.0625 \nQ 21.484375 6.890625 26.703125 6.890625 \nQ 35.15625 6.890625 40.078125 11.328125 \nQ 45.015625 15.765625 45.015625 23.390625 \nQ 45.015625 31 40.078125 35.4375 \nQ 35.15625 39.890625 26.703125 39.890625 \nQ 22.75 39.890625 18.8125 39.015625 \nQ 14.890625 38.140625 10.796875 36.28125 \nz\n\" id=\"DejaVuSans-53\"/>\n      </defs>\n      <g transform=\"translate(163.635227 239.238437)scale(0.1 -0.1)\">\n       <use xlink:href=\"#DejaVuSans-53\"/>\n      </g>\n     </g>\n    </g>\n    <g id=\"xtick_4\">\n     <g id=\"line2d_4\">\n      <g>\n       <use style=\"stroke:#000000;stroke-width:0.8;\" x=\"217.54375\" xlink:href=\"#m26168b79ec\" y=\"224.64\"/>\n      </g>\n     </g>\n     <g id=\"text_4\">\n      <!-- 6 -->\n      <defs>\n       <path d=\"M 33.015625 40.375 \nQ 26.375 40.375 22.484375 35.828125 \nQ 18.609375 31.296875 18.609375 23.390625 \nQ 18.609375 15.53125 22.484375 10.953125 \nQ 26.375 6.390625 33.015625 6.390625 \nQ 39.65625 6.390625 43.53125 10.953125 \nQ 47.40625 15.53125 47.40625 23.390625 \nQ 47.40625 31.296875 43.53125 35.828125 \nQ 39.65625 40.375 33.015625 40.375 \nz\nM 52.59375 71.296875 \nL 52.59375 62.3125 \nQ 48.875 64.0625 45.09375 64.984375 \nQ 41.3125 65.921875 37.59375 65.921875 \nQ 27.828125 65.921875 22.671875 59.328125 \nQ 17.53125 52.734375 16.796875 39.40625 \nQ 19.671875 43.65625 24.015625 45.921875 \nQ 28.375 48.1875 33.59375 48.1875 \nQ 44.578125 48.1875 50.953125 41.515625 \nQ 57.328125 34.859375 57.328125 23.390625 \nQ 57.328125 12.15625 50.6875 5.359375 \nQ 44.046875 -1.421875 33.015625 -1.421875 \nQ 20.359375 -1.421875 13.671875 8.265625 \nQ 6.984375 17.96875 6.984375 36.375 \nQ 6.984375 53.65625 15.1875 63.9375 \nQ 23.390625 74.21875 37.203125 74.21875 \nQ 40.921875 74.21875 44.703125 73.484375 \nQ 48.484375 72.75 52.59375 71.296875 \nz\n\" id=\"DejaVuSans-54\"/>\n      </defs>\n      <g transform=\"translate(214.3625 239.238437)scale(0.1 -0.1)\">\n       <use xlink:href=\"#DejaVuSans-54\"/>\n      </g>\n     </g>\n    </g>\n    <g id=\"xtick_5\">\n     <g id=\"line2d_5\">\n      <g>\n       <use style=\"stroke:#000000;stroke-width:0.8;\" x=\"268.271023\" xlink:href=\"#m26168b79ec\" y=\"224.64\"/>\n      </g>\n     </g>\n     <g id=\"text_5\">\n      <!-- 7 -->\n      <defs>\n       <path d=\"M 8.203125 72.90625 \nL 55.078125 72.90625 \nL 55.078125 68.703125 \nL 28.609375 0 \nL 18.3125 0 \nL 43.21875 64.59375 \nL 8.203125 64.59375 \nz\n\" id=\"DejaVuSans-55\"/>\n      </defs>\n      <g transform=\"translate(265.089773 239.238437)scale(0.1 -0.1)\">\n       <use xlink:href=\"#DejaVuSans-55\"/>\n      </g>\n     </g>\n    </g>\n    <g id=\"xtick_6\">\n     <g id=\"line2d_6\">\n      <g>\n       <use style=\"stroke:#000000;stroke-width:0.8;\" x=\"318.998295\" xlink:href=\"#m26168b79ec\" y=\"224.64\"/>\n      </g>\n     </g>\n     <g id=\"text_6\">\n      <!-- 8 -->\n      <defs>\n       <path d=\"M 31.78125 34.625 \nQ 24.75 34.625 20.71875 30.859375 \nQ 16.703125 27.09375 16.703125 20.515625 \nQ 16.703125 13.921875 20.71875 10.15625 \nQ 24.75 6.390625 31.78125 6.390625 \nQ 38.8125 6.390625 42.859375 10.171875 \nQ 46.921875 13.96875 46.921875 20.515625 \nQ 46.921875 27.09375 42.890625 30.859375 \nQ 38.875 34.625 31.78125 34.625 \nz\nM 21.921875 38.8125 \nQ 15.578125 40.375 12.03125 44.71875 \nQ 8.5 49.078125 8.5 55.328125 \nQ 8.5 64.0625 14.71875 69.140625 \nQ 20.953125 74.21875 31.78125 74.21875 \nQ 42.671875 74.21875 48.875 69.140625 \nQ 55.078125 64.0625 55.078125 55.328125 \nQ 55.078125 49.078125 51.53125 44.71875 \nQ 48 40.375 41.703125 38.8125 \nQ 48.828125 37.15625 52.796875 32.3125 \nQ 56.78125 27.484375 56.78125 20.515625 \nQ 56.78125 9.90625 50.3125 4.234375 \nQ 43.84375 -1.421875 31.78125 -1.421875 \nQ 19.734375 -1.421875 13.25 4.234375 \nQ 6.78125 9.90625 6.78125 20.515625 \nQ 6.78125 27.484375 10.78125 32.3125 \nQ 14.796875 37.15625 21.921875 38.8125 \nz\nM 18.3125 54.390625 \nQ 18.3125 48.734375 21.84375 45.5625 \nQ 25.390625 42.390625 31.78125 42.390625 \nQ 38.140625 42.390625 41.71875 45.5625 \nQ 45.3125 48.734375 45.3125 54.390625 \nQ 45.3125 60.0625 41.71875 63.234375 \nQ 38.140625 66.40625 31.78125 66.40625 \nQ 25.390625 66.40625 21.84375 63.234375 \nQ 18.3125 60.0625 18.3125 54.390625 \nz\n\" id=\"DejaVuSans-56\"/>\n      </defs>\n      <g transform=\"translate(315.817045 239.238437)scale(0.1 -0.1)\">\n       <use xlink:href=\"#DejaVuSans-56\"/>\n      </g>\n     </g>\n    </g>\n    <g id=\"xtick_7\">\n     <g id=\"line2d_7\">\n      <g>\n       <use style=\"stroke:#000000;stroke-width:0.8;\" x=\"369.725568\" xlink:href=\"#m26168b79ec\" y=\"224.64\"/>\n      </g>\n     </g>\n     <g id=\"text_7\">\n      <!-- 9 -->\n      <defs>\n       <path d=\"M 10.984375 1.515625 \nL 10.984375 10.5 \nQ 14.703125 8.734375 18.5 7.8125 \nQ 22.3125 6.890625 25.984375 6.890625 \nQ 35.75 6.890625 40.890625 13.453125 \nQ 46.046875 20.015625 46.78125 33.40625 \nQ 43.953125 29.203125 39.59375 26.953125 \nQ 35.25 24.703125 29.984375 24.703125 \nQ 19.046875 24.703125 12.671875 31.3125 \nQ 6.296875 37.9375 6.296875 49.421875 \nQ 6.296875 60.640625 12.9375 67.421875 \nQ 19.578125 74.21875 30.609375 74.21875 \nQ 43.265625 74.21875 49.921875 64.515625 \nQ 56.59375 54.828125 56.59375 36.375 \nQ 56.59375 19.140625 48.40625 8.859375 \nQ 40.234375 -1.421875 26.421875 -1.421875 \nQ 22.703125 -1.421875 18.890625 -0.6875 \nQ 15.09375 0.046875 10.984375 1.515625 \nz\nM 30.609375 32.421875 \nQ 37.25 32.421875 41.125 36.953125 \nQ 45.015625 41.5 45.015625 49.421875 \nQ 45.015625 57.28125 41.125 61.84375 \nQ 37.25 66.40625 30.609375 66.40625 \nQ 23.96875 66.40625 20.09375 61.84375 \nQ 16.21875 57.28125 16.21875 49.421875 \nQ 16.21875 41.5 20.09375 36.953125 \nQ 23.96875 32.421875 30.609375 32.421875 \nz\n\" id=\"DejaVuSans-57\"/>\n      </defs>\n      <g transform=\"translate(366.544318 239.238437)scale(0.1 -0.1)\">\n       <use xlink:href=\"#DejaVuSans-57\"/>\n      </g>\n     </g>\n    </g>\n    <g id=\"text_8\">\n     <!-- Num Topics -->\n     <defs>\n      <path d=\"M 9.8125 72.90625 \nL 23.09375 72.90625 \nL 55.421875 11.921875 \nL 55.421875 72.90625 \nL 64.984375 72.90625 \nL 64.984375 0 \nL 51.703125 0 \nL 19.390625 60.984375 \nL 19.390625 0 \nL 9.8125 0 \nz\n\" id=\"DejaVuSans-78\"/>\n      <path d=\"M 8.5 21.578125 \nL 8.5 54.6875 \nL 17.484375 54.6875 \nL 17.484375 21.921875 \nQ 17.484375 14.15625 20.5 10.265625 \nQ 23.53125 6.390625 29.59375 6.390625 \nQ 36.859375 6.390625 41.078125 11.03125 \nQ 45.3125 15.671875 45.3125 23.6875 \nL 45.3125 54.6875 \nL 54.296875 54.6875 \nL 54.296875 0 \nL 45.3125 0 \nL 45.3125 8.40625 \nQ 42.046875 3.421875 37.71875 1 \nQ 33.40625 -1.421875 27.6875 -1.421875 \nQ 18.265625 -1.421875 13.375 4.4375 \nQ 8.5 10.296875 8.5 21.578125 \nz\nM 31.109375 56 \nz\n\" id=\"DejaVuSans-117\"/>\n      <path d=\"M 52 44.1875 \nQ 55.375 50.25 60.0625 53.125 \nQ 64.75 56 71.09375 56 \nQ 79.640625 56 84.28125 50.015625 \nQ 88.921875 44.046875 88.921875 33.015625 \nL 88.921875 0 \nL 79.890625 0 \nL 79.890625 32.71875 \nQ 79.890625 40.578125 77.09375 44.375 \nQ 74.3125 48.1875 68.609375 48.1875 \nQ 61.625 48.1875 57.5625 43.546875 \nQ 53.515625 38.921875 53.515625 30.90625 \nL 53.515625 0 \nL 44.484375 0 \nL 44.484375 32.71875 \nQ 44.484375 40.625 41.703125 44.40625 \nQ 38.921875 48.1875 33.109375 48.1875 \nQ 26.21875 48.1875 22.15625 43.53125 \nQ 18.109375 38.875 18.109375 30.90625 \nL 18.109375 0 \nL 9.078125 0 \nL 9.078125 54.6875 \nL 18.109375 54.6875 \nL 18.109375 46.1875 \nQ 21.1875 51.21875 25.484375 53.609375 \nQ 29.78125 56 35.6875 56 \nQ 41.65625 56 45.828125 52.96875 \nQ 50 49.953125 52 44.1875 \nz\n\" id=\"DejaVuSans-109\"/>\n      <path id=\"DejaVuSans-32\"/>\n      <path d=\"M -0.296875 72.90625 \nL 61.375 72.90625 \nL 61.375 64.59375 \nL 35.5 64.59375 \nL 35.5 0 \nL 25.59375 0 \nL 25.59375 64.59375 \nL -0.296875 64.59375 \nz\n\" id=\"DejaVuSans-84\"/>\n      <path d=\"M 30.609375 48.390625 \nQ 23.390625 48.390625 19.1875 42.75 \nQ 14.984375 37.109375 14.984375 27.296875 \nQ 14.984375 17.484375 19.15625 11.84375 \nQ 23.34375 6.203125 30.609375 6.203125 \nQ 37.796875 6.203125 41.984375 11.859375 \nQ 46.1875 17.53125 46.1875 27.296875 \nQ 46.1875 37.015625 41.984375 42.703125 \nQ 37.796875 48.390625 30.609375 48.390625 \nz\nM 30.609375 56 \nQ 42.328125 56 49.015625 48.375 \nQ 55.71875 40.765625 55.71875 27.296875 \nQ 55.71875 13.875 49.015625 6.21875 \nQ 42.328125 -1.421875 30.609375 -1.421875 \nQ 18.84375 -1.421875 12.171875 6.21875 \nQ 5.515625 13.875 5.515625 27.296875 \nQ 5.515625 40.765625 12.171875 48.375 \nQ 18.84375 56 30.609375 56 \nz\n\" id=\"DejaVuSans-111\"/>\n      <path d=\"M 18.109375 8.203125 \nL 18.109375 -20.796875 \nL 9.078125 -20.796875 \nL 9.078125 54.6875 \nL 18.109375 54.6875 \nL 18.109375 46.390625 \nQ 20.953125 51.265625 25.265625 53.625 \nQ 29.59375 56 35.59375 56 \nQ 45.5625 56 51.78125 48.09375 \nQ 58.015625 40.1875 58.015625 27.296875 \nQ 58.015625 14.40625 51.78125 6.484375 \nQ 45.5625 -1.421875 35.59375 -1.421875 \nQ 29.59375 -1.421875 25.265625 0.953125 \nQ 20.953125 3.328125 18.109375 8.203125 \nz\nM 48.6875 27.296875 \nQ 48.6875 37.203125 44.609375 42.84375 \nQ 40.53125 48.484375 33.40625 48.484375 \nQ 26.265625 48.484375 22.1875 42.84375 \nQ 18.109375 37.203125 18.109375 27.296875 \nQ 18.109375 17.390625 22.1875 11.75 \nQ 26.265625 6.109375 33.40625 6.109375 \nQ 40.53125 6.109375 44.609375 11.75 \nQ 48.6875 17.390625 48.6875 27.296875 \nz\n\" id=\"DejaVuSans-112\"/>\n      <path d=\"M 9.421875 54.6875 \nL 18.40625 54.6875 \nL 18.40625 0 \nL 9.421875 0 \nz\nM 9.421875 75.984375 \nL 18.40625 75.984375 \nL 18.40625 64.59375 \nL 9.421875 64.59375 \nz\n\" id=\"DejaVuSans-105\"/>\n      <path d=\"M 48.78125 52.59375 \nL 48.78125 44.1875 \nQ 44.96875 46.296875 41.140625 47.34375 \nQ 37.3125 48.390625 33.40625 48.390625 \nQ 24.65625 48.390625 19.8125 42.84375 \nQ 14.984375 37.3125 14.984375 27.296875 \nQ 14.984375 17.28125 19.8125 11.734375 \nQ 24.65625 6.203125 33.40625 6.203125 \nQ 37.3125 6.203125 41.140625 7.25 \nQ 44.96875 8.296875 48.78125 10.40625 \nL 48.78125 2.09375 \nQ 45.015625 0.34375 40.984375 -0.53125 \nQ 36.96875 -1.421875 32.421875 -1.421875 \nQ 20.0625 -1.421875 12.78125 6.34375 \nQ 5.515625 14.109375 5.515625 27.296875 \nQ 5.515625 40.671875 12.859375 48.328125 \nQ 20.21875 56 33.015625 56 \nQ 37.15625 56 41.109375 55.140625 \nQ 45.0625 54.296875 48.78125 52.59375 \nz\n\" id=\"DejaVuSans-99\"/>\n      <path d=\"M 44.28125 53.078125 \nL 44.28125 44.578125 \nQ 40.484375 46.53125 36.375 47.5 \nQ 32.28125 48.484375 27.875 48.484375 \nQ 21.1875 48.484375 17.84375 46.4375 \nQ 14.5 44.390625 14.5 40.28125 \nQ 14.5 37.15625 16.890625 35.375 \nQ 19.28125 33.59375 26.515625 31.984375 \nL 29.59375 31.296875 \nQ 39.15625 29.25 43.1875 25.515625 \nQ 47.21875 21.78125 47.21875 15.09375 \nQ 47.21875 7.46875 41.1875 3.015625 \nQ 35.15625 -1.421875 24.609375 -1.421875 \nQ 20.21875 -1.421875 15.453125 -0.5625 \nQ 10.6875 0.296875 5.421875 2 \nL 5.421875 11.28125 \nQ 10.40625 8.6875 15.234375 7.390625 \nQ 20.0625 6.109375 24.8125 6.109375 \nQ 31.15625 6.109375 34.5625 8.28125 \nQ 37.984375 10.453125 37.984375 14.40625 \nQ 37.984375 18.0625 35.515625 20.015625 \nQ 33.0625 21.96875 24.703125 23.78125 \nL 21.578125 24.515625 \nQ 13.234375 26.265625 9.515625 29.90625 \nQ 5.8125 33.546875 5.8125 39.890625 \nQ 5.8125 47.609375 11.28125 51.796875 \nQ 16.75 56 26.8125 56 \nQ 31.78125 56 36.171875 55.265625 \nQ 40.578125 54.546875 44.28125 53.078125 \nz\n\" id=\"DejaVuSans-115\"/>\n     </defs>\n     <g transform=\"translate(188.157813 252.916562)scale(0.1 -0.1)\">\n      <use xlink:href=\"#DejaVuSans-78\"/>\n      <use x=\"74.804688\" xlink:href=\"#DejaVuSans-117\"/>\n      <use x=\"138.183594\" xlink:href=\"#DejaVuSans-109\"/>\n      <use x=\"235.595703\" xlink:href=\"#DejaVuSans-32\"/>\n      <use x=\"267.382812\" xlink:href=\"#DejaVuSans-84\"/>\n      <use x=\"328.201172\" xlink:href=\"#DejaVuSans-111\"/>\n      <use x=\"389.382812\" xlink:href=\"#DejaVuSans-112\"/>\n      <use x=\"452.859375\" xlink:href=\"#DejaVuSans-105\"/>\n      <use x=\"480.642578\" xlink:href=\"#DejaVuSans-99\"/>\n      <use x=\"535.623047\" xlink:href=\"#DejaVuSans-115\"/>\n     </g>\n    </g>\n   </g>\n   <g id=\"matplotlib.axis_2\">\n    <g id=\"ytick_1\">\n     <g id=\"line2d_8\">\n      <defs>\n       <path d=\"M 0 0 \nL -3.5 0 \n\" id=\"mf988e0efc7\" style=\"stroke:#000000;stroke-width:0.8;\"/>\n      </defs>\n      <g>\n       <use style=\"stroke:#000000;stroke-width:0.8;\" x=\"50.14375\" xlink:href=\"#mf988e0efc7\" y=\"223.372505\"/>\n      </g>\n     </g>\n     <g id=\"text_9\">\n      <!-- 0.30 -->\n      <defs>\n       <path d=\"M 31.78125 66.40625 \nQ 24.171875 66.40625 20.328125 58.90625 \nQ 16.5 51.421875 16.5 36.375 \nQ 16.5 21.390625 20.328125 13.890625 \nQ 24.171875 6.390625 31.78125 6.390625 \nQ 39.453125 6.390625 43.28125 13.890625 \nQ 47.125 21.390625 47.125 36.375 \nQ 47.125 51.421875 43.28125 58.90625 \nQ 39.453125 66.40625 31.78125 66.40625 \nz\nM 31.78125 74.21875 \nQ 44.046875 74.21875 50.515625 64.515625 \nQ 56.984375 54.828125 56.984375 36.375 \nQ 56.984375 17.96875 50.515625 8.265625 \nQ 44.046875 -1.421875 31.78125 -1.421875 \nQ 19.53125 -1.421875 13.0625 8.265625 \nQ 6.59375 17.96875 6.59375 36.375 \nQ 6.59375 54.828125 13.0625 64.515625 \nQ 19.53125 74.21875 31.78125 74.21875 \nz\n\" id=\"DejaVuSans-48\"/>\n       <path d=\"M 10.6875 12.40625 \nL 21 12.40625 \nL 21 0 \nL 10.6875 0 \nz\n\" id=\"DejaVuSans-46\"/>\n      </defs>\n      <g transform=\"translate(20.878125 227.171724)scale(0.1 -0.1)\">\n       <use xlink:href=\"#DejaVuSans-48\"/>\n       <use x=\"63.623047\" xlink:href=\"#DejaVuSans-46\"/>\n       <use x=\"95.410156\" xlink:href=\"#DejaVuSans-51\"/>\n       <use x=\"159.033203\" xlink:href=\"#DejaVuSans-48\"/>\n      </g>\n     </g>\n    </g>\n    <g id=\"ytick_2\">\n     <g id=\"line2d_9\">\n      <g>\n       <use style=\"stroke:#000000;stroke-width:0.8;\" x=\"50.14375\" xlink:href=\"#mf988e0efc7\" y=\"196.243548\"/>\n      </g>\n     </g>\n     <g id=\"text_10\">\n      <!-- 0.31 -->\n      <defs>\n       <path d=\"M 12.40625 8.296875 \nL 28.515625 8.296875 \nL 28.515625 63.921875 \nL 10.984375 60.40625 \nL 10.984375 69.390625 \nL 28.421875 72.90625 \nL 38.28125 72.90625 \nL 38.28125 8.296875 \nL 54.390625 8.296875 \nL 54.390625 0 \nL 12.40625 0 \nz\n\" id=\"DejaVuSans-49\"/>\n      </defs>\n      <g transform=\"translate(20.878125 200.042766)scale(0.1 -0.1)\">\n       <use xlink:href=\"#DejaVuSans-48\"/>\n       <use x=\"63.623047\" xlink:href=\"#DejaVuSans-46\"/>\n       <use x=\"95.410156\" xlink:href=\"#DejaVuSans-51\"/>\n       <use x=\"159.033203\" xlink:href=\"#DejaVuSans-49\"/>\n      </g>\n     </g>\n    </g>\n    <g id=\"ytick_3\">\n     <g id=\"line2d_10\">\n      <g>\n       <use style=\"stroke:#000000;stroke-width:0.8;\" x=\"50.14375\" xlink:href=\"#mf988e0efc7\" y=\"169.11459\"/>\n      </g>\n     </g>\n     <g id=\"text_11\">\n      <!-- 0.32 -->\n      <defs>\n       <path d=\"M 19.1875 8.296875 \nL 53.609375 8.296875 \nL 53.609375 0 \nL 7.328125 0 \nL 7.328125 8.296875 \nQ 12.9375 14.109375 22.625 23.890625 \nQ 32.328125 33.6875 34.8125 36.53125 \nQ 39.546875 41.84375 41.421875 45.53125 \nQ 43.3125 49.21875 43.3125 52.78125 \nQ 43.3125 58.59375 39.234375 62.25 \nQ 35.15625 65.921875 28.609375 65.921875 \nQ 23.96875 65.921875 18.8125 64.3125 \nQ 13.671875 62.703125 7.8125 59.421875 \nL 7.8125 69.390625 \nQ 13.765625 71.78125 18.9375 73 \nQ 24.125 74.21875 28.421875 74.21875 \nQ 39.75 74.21875 46.484375 68.546875 \nQ 53.21875 62.890625 53.21875 53.421875 \nQ 53.21875 48.921875 51.53125 44.890625 \nQ 49.859375 40.875 45.40625 35.40625 \nQ 44.1875 33.984375 37.640625 27.21875 \nQ 31.109375 20.453125 19.1875 8.296875 \nz\n\" id=\"DejaVuSans-50\"/>\n      </defs>\n      <g transform=\"translate(20.878125 172.913809)scale(0.1 -0.1)\">\n       <use xlink:href=\"#DejaVuSans-48\"/>\n       <use x=\"63.623047\" xlink:href=\"#DejaVuSans-46\"/>\n       <use x=\"95.410156\" xlink:href=\"#DejaVuSans-51\"/>\n       <use x=\"159.033203\" xlink:href=\"#DejaVuSans-50\"/>\n      </g>\n     </g>\n    </g>\n    <g id=\"ytick_4\">\n     <g id=\"line2d_11\">\n      <g>\n       <use style=\"stroke:#000000;stroke-width:0.8;\" x=\"50.14375\" xlink:href=\"#mf988e0efc7\" y=\"141.985633\"/>\n      </g>\n     </g>\n     <g id=\"text_12\">\n      <!-- 0.33 -->\n      <g transform=\"translate(20.878125 145.784852)scale(0.1 -0.1)\">\n       <use xlink:href=\"#DejaVuSans-48\"/>\n       <use x=\"63.623047\" xlink:href=\"#DejaVuSans-46\"/>\n       <use x=\"95.410156\" xlink:href=\"#DejaVuSans-51\"/>\n       <use x=\"159.033203\" xlink:href=\"#DejaVuSans-51\"/>\n      </g>\n     </g>\n    </g>\n    <g id=\"ytick_5\">\n     <g id=\"line2d_12\">\n      <g>\n       <use style=\"stroke:#000000;stroke-width:0.8;\" x=\"50.14375\" xlink:href=\"#mf988e0efc7\" y=\"114.856676\"/>\n      </g>\n     </g>\n     <g id=\"text_13\">\n      <!-- 0.34 -->\n      <g transform=\"translate(20.878125 118.655895)scale(0.1 -0.1)\">\n       <use xlink:href=\"#DejaVuSans-48\"/>\n       <use x=\"63.623047\" xlink:href=\"#DejaVuSans-46\"/>\n       <use x=\"95.410156\" xlink:href=\"#DejaVuSans-51\"/>\n       <use x=\"159.033203\" xlink:href=\"#DejaVuSans-52\"/>\n      </g>\n     </g>\n    </g>\n    <g id=\"ytick_6\">\n     <g id=\"line2d_13\">\n      <g>\n       <use style=\"stroke:#000000;stroke-width:0.8;\" x=\"50.14375\" xlink:href=\"#mf988e0efc7\" y=\"87.727719\"/>\n      </g>\n     </g>\n     <g id=\"text_14\">\n      <!-- 0.35 -->\n      <g transform=\"translate(20.878125 91.526937)scale(0.1 -0.1)\">\n       <use xlink:href=\"#DejaVuSans-48\"/>\n       <use x=\"63.623047\" xlink:href=\"#DejaVuSans-46\"/>\n       <use x=\"95.410156\" xlink:href=\"#DejaVuSans-51\"/>\n       <use x=\"159.033203\" xlink:href=\"#DejaVuSans-53\"/>\n      </g>\n     </g>\n    </g>\n    <g id=\"ytick_7\">\n     <g id=\"line2d_14\">\n      <g>\n       <use style=\"stroke:#000000;stroke-width:0.8;\" x=\"50.14375\" xlink:href=\"#mf988e0efc7\" y=\"60.598761\"/>\n      </g>\n     </g>\n     <g id=\"text_15\">\n      <!-- 0.36 -->\n      <g transform=\"translate(20.878125 64.39798)scale(0.1 -0.1)\">\n       <use xlink:href=\"#DejaVuSans-48\"/>\n       <use x=\"63.623047\" xlink:href=\"#DejaVuSans-46\"/>\n       <use x=\"95.410156\" xlink:href=\"#DejaVuSans-51\"/>\n       <use x=\"159.033203\" xlink:href=\"#DejaVuSans-54\"/>\n      </g>\n     </g>\n    </g>\n    <g id=\"ytick_8\">\n     <g id=\"line2d_15\">\n      <g>\n       <use style=\"stroke:#000000;stroke-width:0.8;\" x=\"50.14375\" xlink:href=\"#mf988e0efc7\" y=\"33.469804\"/>\n      </g>\n     </g>\n     <g id=\"text_16\">\n      <!-- 0.37 -->\n      <g transform=\"translate(20.878125 37.269023)scale(0.1 -0.1)\">\n       <use xlink:href=\"#DejaVuSans-48\"/>\n       <use x=\"63.623047\" xlink:href=\"#DejaVuSans-46\"/>\n       <use x=\"95.410156\" xlink:href=\"#DejaVuSans-51\"/>\n       <use x=\"159.033203\" xlink:href=\"#DejaVuSans-55\"/>\n      </g>\n     </g>\n    </g>\n    <g id=\"text_17\">\n     <!-- Coherence score -->\n     <defs>\n      <path d=\"M 64.40625 67.28125 \nL 64.40625 56.890625 \nQ 59.421875 61.53125 53.78125 63.8125 \nQ 48.140625 66.109375 41.796875 66.109375 \nQ 29.296875 66.109375 22.65625 58.46875 \nQ 16.015625 50.828125 16.015625 36.375 \nQ 16.015625 21.96875 22.65625 14.328125 \nQ 29.296875 6.6875 41.796875 6.6875 \nQ 48.140625 6.6875 53.78125 8.984375 \nQ 59.421875 11.28125 64.40625 15.921875 \nL 64.40625 5.609375 \nQ 59.234375 2.09375 53.4375 0.328125 \nQ 47.65625 -1.421875 41.21875 -1.421875 \nQ 24.65625 -1.421875 15.125 8.703125 \nQ 5.609375 18.84375 5.609375 36.375 \nQ 5.609375 53.953125 15.125 64.078125 \nQ 24.65625 74.21875 41.21875 74.21875 \nQ 47.75 74.21875 53.53125 72.484375 \nQ 59.328125 70.75 64.40625 67.28125 \nz\n\" id=\"DejaVuSans-67\"/>\n      <path d=\"M 54.890625 33.015625 \nL 54.890625 0 \nL 45.90625 0 \nL 45.90625 32.71875 \nQ 45.90625 40.484375 42.875 44.328125 \nQ 39.84375 48.1875 33.796875 48.1875 \nQ 26.515625 48.1875 22.3125 43.546875 \nQ 18.109375 38.921875 18.109375 30.90625 \nL 18.109375 0 \nL 9.078125 0 \nL 9.078125 75.984375 \nL 18.109375 75.984375 \nL 18.109375 46.1875 \nQ 21.34375 51.125 25.703125 53.5625 \nQ 30.078125 56 35.796875 56 \nQ 45.21875 56 50.046875 50.171875 \nQ 54.890625 44.34375 54.890625 33.015625 \nz\n\" id=\"DejaVuSans-104\"/>\n      <path d=\"M 56.203125 29.59375 \nL 56.203125 25.203125 \nL 14.890625 25.203125 \nQ 15.484375 15.921875 20.484375 11.0625 \nQ 25.484375 6.203125 34.421875 6.203125 \nQ 39.59375 6.203125 44.453125 7.46875 \nQ 49.3125 8.734375 54.109375 11.28125 \nL 54.109375 2.78125 \nQ 49.265625 0.734375 44.1875 -0.34375 \nQ 39.109375 -1.421875 33.890625 -1.421875 \nQ 20.796875 -1.421875 13.15625 6.1875 \nQ 5.515625 13.8125 5.515625 26.8125 \nQ 5.515625 40.234375 12.765625 48.109375 \nQ 20.015625 56 32.328125 56 \nQ 43.359375 56 49.78125 48.890625 \nQ 56.203125 41.796875 56.203125 29.59375 \nz\nM 47.21875 32.234375 \nQ 47.125 39.59375 43.09375 43.984375 \nQ 39.0625 48.390625 32.421875 48.390625 \nQ 24.90625 48.390625 20.390625 44.140625 \nQ 15.875 39.890625 15.1875 32.171875 \nz\n\" id=\"DejaVuSans-101\"/>\n      <path d=\"M 41.109375 46.296875 \nQ 39.59375 47.171875 37.8125 47.578125 \nQ 36.03125 48 33.890625 48 \nQ 26.265625 48 22.1875 43.046875 \nQ 18.109375 38.09375 18.109375 28.8125 \nL 18.109375 0 \nL 9.078125 0 \nL 9.078125 54.6875 \nL 18.109375 54.6875 \nL 18.109375 46.1875 \nQ 20.953125 51.171875 25.484375 53.578125 \nQ 30.03125 56 36.53125 56 \nQ 37.453125 56 38.578125 55.875 \nQ 39.703125 55.765625 41.0625 55.515625 \nz\n\" id=\"DejaVuSans-114\"/>\n      <path d=\"M 54.890625 33.015625 \nL 54.890625 0 \nL 45.90625 0 \nL 45.90625 32.71875 \nQ 45.90625 40.484375 42.875 44.328125 \nQ 39.84375 48.1875 33.796875 48.1875 \nQ 26.515625 48.1875 22.3125 43.546875 \nQ 18.109375 38.921875 18.109375 30.90625 \nL 18.109375 0 \nL 9.078125 0 \nL 9.078125 54.6875 \nL 18.109375 54.6875 \nL 18.109375 46.1875 \nQ 21.34375 51.125 25.703125 53.5625 \nQ 30.078125 56 35.796875 56 \nQ 45.21875 56 50.046875 50.171875 \nQ 54.890625 44.34375 54.890625 33.015625 \nz\n\" id=\"DejaVuSans-110\"/>\n     </defs>\n     <g transform=\"translate(14.798438 157.973906)rotate(-90)scale(0.1 -0.1)\">\n      <use xlink:href=\"#DejaVuSans-67\"/>\n      <use x=\"69.824219\" xlink:href=\"#DejaVuSans-111\"/>\n      <use x=\"131.005859\" xlink:href=\"#DejaVuSans-104\"/>\n      <use x=\"194.384766\" xlink:href=\"#DejaVuSans-101\"/>\n      <use x=\"255.908203\" xlink:href=\"#DejaVuSans-114\"/>\n      <use x=\"296.990234\" xlink:href=\"#DejaVuSans-101\"/>\n      <use x=\"358.513672\" xlink:href=\"#DejaVuSans-110\"/>\n      <use x=\"421.892578\" xlink:href=\"#DejaVuSans-99\"/>\n      <use x=\"476.873047\" xlink:href=\"#DejaVuSans-101\"/>\n      <use x=\"538.396484\" xlink:href=\"#DejaVuSans-32\"/>\n      <use x=\"570.183594\" xlink:href=\"#DejaVuSans-115\"/>\n      <use x=\"622.283203\" xlink:href=\"#DejaVuSans-99\"/>\n      <use x=\"677.263672\" xlink:href=\"#DejaVuSans-111\"/>\n      <use x=\"738.445312\" xlink:href=\"#DejaVuSans-114\"/>\n      <use x=\"779.527344\" xlink:href=\"#DejaVuSans-101\"/>\n     </g>\n    </g>\n   </g>\n   <g id=\"line2d_16\">\n    <path clip-path=\"url(#p6968302dc8)\" d=\"M 65.361932 17.083636 \nL 166.816477 140.548902 \nL 268.271023 134.738396 \nL 369.725568 214.756364 \n\" style=\"fill:none;stroke:#1f77b4;stroke-linecap:square;stroke-width:1.5;\"/>\n   </g>\n   <g id=\"patch_3\">\n    <path d=\"M 50.14375 224.64 \nL 50.14375 7.2 \n\" style=\"fill:none;stroke:#000000;stroke-linecap:square;stroke-linejoin:miter;stroke-width:0.8;\"/>\n   </g>\n   <g id=\"patch_4\">\n    <path d=\"M 384.94375 224.64 \nL 384.94375 7.2 \n\" style=\"fill:none;stroke:#000000;stroke-linecap:square;stroke-linejoin:miter;stroke-width:0.8;\"/>\n   </g>\n   <g id=\"patch_5\">\n    <path d=\"M 50.14375 224.64 \nL 384.94375 224.64 \n\" style=\"fill:none;stroke:#000000;stroke-linecap:square;stroke-linejoin:miter;stroke-width:0.8;\"/>\n   </g>\n   <g id=\"patch_6\">\n    <path d=\"M 50.14375 7.2 \nL 384.94375 7.2 \n\" style=\"fill:none;stroke:#000000;stroke-linecap:square;stroke-linejoin:miter;stroke-width:0.8;\"/>\n   </g>\n   <g id=\"legend_1\">\n    <g id=\"patch_7\">\n     <path d=\"M 340.445312 29.878125 \nL 377.94375 29.878125 \nQ 379.94375 29.878125 379.94375 27.878125 \nL 379.94375 14.2 \nQ 379.94375 12.2 377.94375 12.2 \nL 340.445312 12.2 \nQ 338.445312 12.2 338.445312 14.2 \nL 338.445312 27.878125 \nQ 338.445312 29.878125 340.445312 29.878125 \nz\n\" style=\"fill:#ffffff;opacity:0.8;stroke:#cccccc;stroke-linejoin:miter;\"/>\n    </g>\n    <g id=\"line2d_17\">\n     <path d=\"M 342.445312 20.298437 \nL 362.445312 20.298437 \n\" style=\"fill:none;stroke:#1f77b4;stroke-linecap:square;stroke-width:1.5;\"/>\n    </g>\n    <g id=\"line2d_18\"/>\n    <g id=\"text_18\">\n     <!-- c -->\n     <g transform=\"translate(370.445312 23.798437)scale(0.1 -0.1)\">\n      <use xlink:href=\"#DejaVuSans-99\"/>\n     </g>\n    </g>\n   </g>\n  </g>\n </g>\n <defs>\n  <clipPath id=\"p6968302dc8\">\n   <rect height=\"217.44\" width=\"334.8\" x=\"50.14375\" y=\"7.2\"/>\n  </clipPath>\n </defs>\n</svg>\n",
      "image/png": "[encoded data removed]"
     },
     "metadata": {
      "needs_background": "light"
     }
    }
   ],
   "source": [
    "# HOW TO SELECT K (based on https://www.machinelearningplus.com/nlp/topic-modeling-gensim-python/)\n",
    "def compute_coherence_values(dictionary, corpus, texts, limit, start=2, step=3):\n",
    "    \"\"\"\n",
    "    Compute c_v coherence for various number of topics\n",
    "\n",
    "    Parameters:\n",
    "    ----------\n",
    "    dictionary : Gensim dictionary\n",
    "    corpus : Gensim corpus\n",
    "    texts : List of input texts\n",
    "    limit : Max num of topics\n",
    "\n",
    "    Returns:\n",
    "    -------\n",
    "    model_list : List of LDA topic models\n",
    "    coherence_values : Coherence values corresponding to the LDA model with respective number of topics\n",
    "    \"\"\"\n",
    "    coherence_values = []\n",
    "    model_list = []\n",
    "    for num_topics in range(start, limit, step):\n",
    "        model = gensim.models.ldamodel.LdaModel(corpus=corpus,\n",
    "                                           id2word=id2word,\n",
    "                                           num_topics=num_topics,\n",
    "                                           random_state=123,\n",
    "                                           update_every=1,\n",
    "                                           chunksize=100,\n",
    "                                           passes=10,\n",
    "                                           alpha='auto',\n",
    "                                           per_word_topics=True)\n",
    "        model_list.append(model)\n",
    "        coherencemodel = CoherenceModel(model=model, texts=texts, dictionary=dictionary, coherence='c_v')\n",
    "        coherence_values.append(coherencemodel.get_coherence())\n",
    "\n",
    "    return model_list, coherence_values\n",
    "\n",
    "# ATTENTION!!!! Can take a LONG time to run.\n",
    "lowerBound = 3\n",
    "upperBound = 11\n",
    "step = 2\n",
    "model_list, coherence_values = compute_coherence_values(dictionary=id2word, corpus=tdm, texts=corpus, start=lowerBound, limit=upperBound, step= step)\n",
    "\n",
    "# Show graph\n",
    "x = range(lowerBound, upperBound, step)\n",
    "plt.plot(x, coherence_values)\n",
    "plt.xlabel(\"Num Topics\")\n",
    "plt.ylabel(\"Coherence score\")\n",
    "plt.legend((\"coherence_values\"), loc='best')\n",
    "plt.show()\n",
    "# The coherence score is decreasing. A higher value should be chosen, because as K increases the probability of having repeated keywords increases.\n",
    "# ...So, in this case we may choose 8, as there is an inflaction at K=8"
   ]
  },
  {
   "cell_type": "code",
   "execution_count": null,
   "metadata": {},
   "outputs": [],
   "source": []
  }
 ],
 "metadata": {
  "kernelspec": {
   "name": "python376jvsc74a57bd0cdaae446594b984db3ccb014c8eccc2f0db7c42b283408245e954811c2b928ce",
   "display_name": "Python 3.7.6 64-bit ('base': conda)"
  },
  "language_info": {
   "codemirror_mode": {
    "name": "ipython",
    "version": 3
   },
   "file_extension": ".py",
   "mimetype": "text/x-python",
   "name": "python",
   "nbconvert_exporter": "python",
   "pygments_lexer": "ipython3",
   "version": "3.7.6"
  },
  "varInspector": {
   "cols": {
    "lenName": 16,
    "lenType": 16,
    "lenVar": 40
   },
   "kernels_config": {
    "python": {
     "delete_cmd_postfix": "",
     "delete_cmd_prefix": "del ",
     "library": "var_list.py",
     "varRefreshCmd": "print(var_dic_list())"
    },
    "r": {
     "delete_cmd_postfix": ") ",
     "delete_cmd_prefix": "rm(",
     "library": "var_list.r",
     "varRefreshCmd": "cat(var_dic_list()) "
    }
   },
   "types_to_exclude": [
    "module",
    "function",
    "builtin_function_or_method",
    "instance",
    "_Feature"
   ],
   "window_display": false
  }
 },
 "nbformat": 4,
 "nbformat_minor": 2
}