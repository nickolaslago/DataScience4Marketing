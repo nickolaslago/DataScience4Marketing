{
 "cells": [
  {
   "source": [
    "# Modelling - Name Entity Recognition\n",
    "## Portal da Queixa\n",
    "### Changes may be required due to Portal da Queixa's continous updates\n",
    "\n",
    "Lefties Group"
   ],
   "cell_type": "markdown",
   "metadata": {}
  },
  {
   "cell_type": "code",
   "execution_count": 1,
   "id": "02235664",
   "metadata": {},
   "outputs": [],
   "source": [
    "# Import packages\n",
    "import csv\n",
    "import pandas as pd\n",
    "import numpy as np\n",
    "import nltk \n",
    "import re\n",
    "from bs4 import BeautifulSoup\n",
    "import spacy\n",
    "from spacy import displacy \n",
    "from collections import Counter \n"
   ]
  },
  {
   "cell_type": "code",
   "execution_count": 2,
   "id": "960958f6",
   "metadata": {},
   "outputs": [],
   "source": [
    "# Load dataset and assign the datatypes\n",
    "dtypes = {'controlID':'category','complainID':'category','complainStatus':'category','complainUser':'category',\n",
    "  'complainTitle':'category','complainViews':'category','complainText':'category',\n",
    "  'complainDate':'category'}\n",
    "df = pd.DataFrame(pd.read_excel(\"complains_data.xlsx\", dtype=dtypes, index_col='complainID'))"
   ]
  },
  {
   "cell_type": "code",
   "execution_count": 3,
   "id": "732c32a5",
   "metadata": {},
   "outputs": [],
   "source": [
    "# Text preprocessing\n",
    "def textPreProcess(rawText, removeHTML=True, charsToRemove = r'\\?|\\.|\\!|\\;|\\.|\\\"|\\,|\\(|\\)|\\&|\\:|\\-\\_x000d_\\n', removeNumbers=True, removeLineBreaks=False, specialCharsToRemove = r'[^\\x00-\\xfd]', convertToLower=True, removeConsecutiveSpaces=True):\n",
    "    cleanedText = []\n",
    "    for x in (rawText[:]): \n",
    "        \n",
    "        # Remove HTML\n",
    "        if removeHTML:\n",
    "            procText = BeautifulSoup(x,'html.parser').get_text()\n",
    "\n",
    "         # Remove punctuation and other special characters\n",
    "        if len(charsToRemove)>0:\n",
    "            procText = re.sub(charsToRemove,' ',procText)\n",
    "\n",
    "        # Remove numbers\n",
    "        if removeNumbers:\n",
    "            procText = re.sub(r'\\d+',' ',procText)\n",
    "\n",
    "        # Remove line breaks\n",
    "        if removeLineBreaks:\n",
    "            procText = procText.replace('\\n',' ').replace('\\r', '')\n",
    "\n",
    "        # Remove special characters\n",
    "        if len(specialCharsToRemove)>0:\n",
    "            procText = re.sub(specialCharsToRemove,' ',procText)\n",
    "\n",
    "        # Normalize to lower case\n",
    "        if convertToLower:\n",
    "            procText = procText.lower() \n",
    "\n",
    "        # Replace multiple consecutive spaces with just one space\n",
    "        if removeConsecutiveSpaces:\n",
    "            procText = re.sub(' +', ' ', procText)\n",
    "\n",
    "        # If there is a text, add it to the clean text         \n",
    "        if procText != '':\n",
    "            cleanedText.append(procText)\n",
    "    return cleanedText"
   ]
  },
  {
   "cell_type": "code",
   "execution_count": 4,
   "id": "ea0becee",
   "metadata": {},
   "outputs": [],
   "source": [
    "# Create a dataframe with only the description, not removing because upper case can identify important things\n",
    "ppText = textPreProcess(df.complainText, charsToRemove='', removeLineBreaks=False, removeNumbers=False)\n",
    "processedComplains =  pd.DataFrame(data=ppText, index= df.index, columns=['PreProcessedText']) \n"
   ]
  },
  {
   "cell_type": "code",
   "execution_count": 5,
   "id": "287298d4",
   "metadata": {},
   "outputs": [],
   "source": [
    "# Load Spacy Portuguese model\n",
    "nlp = spacy.load(\"pt_core_news_sm\")"
   ]
  },
  {
   "cell_type": "code",
   "execution_count": 6,
   "id": "b967ae26",
   "metadata": {},
   "outputs": [
    {
     "name": "stdout",
     "output_type": "stream",
     "text": [
      "no dia 11 de abril de 2018, fui a lefties do strada odivelas parque, desde que tinha entrada na loja deparei-me com uma funcionaria da loja que andava a tras da minha pessoa por onde eu iria com desconfiança que eu iria roubar. a principio não levei em conta, mas depois de alguns minutos reparei que a mesma funcionaria dava sinal as colegas para que chamasse o segurança. depois de alguns instante reparei que havia mais duas meninas de raça negra na loja que também a mesma funcionaria tinha dado sinal as colegas para que ficassem de vigia a tras das mesma. senti-me desconfortável e chamei a funcionária para lhe dar uma palavra, a mesma dirigiu-se a mim dizendo que estava a trabalhar que estava ocupada que não me podia atender. eu dirigi-me a funcionaria e disse-lhe que precisava de um esclarecimento e a funcionaria foi de todo mal intencionada demostrando visivelmente o seu acto discriminatorio perante a mim. no final disso tudo pedi o livro de reclamação e a identificação a mesma negou-se a se identificar. fiquei muto indignada e decepcionada pois sou a cliente assídua dessa loja onde compro as roupas para os meu filhos.\n",
      "[('minha pessoa', 'LOC')]\n"
     ]
    }
   ],
   "source": [
    "# Check entities in complain \n",
    "print(processedComplains['PreProcessedText'][27355319])\n",
    "doc = nlp(processedComplains['PreProcessedText'][27355319])\n",
    "print([(X.text, X.label_) for X in doc.ents])"
   ]
  },
  {
   "cell_type": "code",
   "execution_count": 7,
   "id": "27f133b4",
   "metadata": {},
   "outputs": [
    {
     "data": {
      "text/plain": [
       "['boa noite, _x000d_\\nvenho mostrar o meu total descontentamento e frustação relativamente ao serviço prestado. _x000d_\\nfiz uma encomenda de várias peças, uma delas um pack de 4 calças de fato de treino por 15,99 . ao chegar a encomenda deparei-me que em vez do pack só tinha recebido 1 calça em vez das 4. enviei e-mail para o apoio ao cliente a expor a situação, passado algumas horas responderam a afirmar que teriam entrado em contacto comigo várias vezes sem sucesso (o que é mentira pois confirmei o número de telefone cedido na minha conta e não tinha nenhuma chamada não atendida), pediram para retribuir a chamada. _x000d_\\ncontactei então por chamada telefonica, ao qual a assistente que me atendeu nunca pediu desculpa pelo sucedido mas explicou que deveria devolver a calça com uma etiqueta própria e que me seria enviado o pack completo. _x000d_\\npassado dois dias recebi o pack mas desta vez 1 das 4 calças veio com vários tamanhos abaixo do pedido. _x000d_\\nquero que resolvam esta situação de uma vez por todas, o meu trabalho não é compatível com o ponto picket para fazer a devolução. espero que resolvam esta desagradável situação de uma vez por todas e concertesa não vou recomendar nem comprar mais nada a esta marca.',\n",
       " 'encomenda nr 90003989775 já deveria ter sido entregue à mais de 1 semana e até agora nada. a transportadora é espanhola não dá para lhes ligar. já liguei ao apoio ao cliente da leftis que dão sempre uma desculpa e dizem que vão resolver e ate agora nada. nem encomenda nem dinheiro.',\n",
       " 'bom dia. fiz uma encomenda online na lefties no dia 1 de abril. até agora não recebi nada. enviei um email para a empresa ao qual me pediram a foto da minha assinatura no cartão de cidadão para ver o que se passava porque a encomenda dava entregue. eu enviei sem qualquer problema. qual é o meu espanto enviam-me um email com um anexo de um papel em como recebi a encomenda e assinado, coisa que tal não aconteceu e nem a minha assinatura é._x000d_\\ngostaria que me ajudassem pois sei que isto já aconteceu com outras pessoas. darem a encomenda como entregue e a pessoa não receber nada._x000d_\\nmuito obrigada pela atenção dispensada. _x000d_\\ncumprimentos olga santos',\n",
       " 'fiz uma compra no site que dava a possibilidade de levantamento em loja, antes das aberturas das mesmas. e passados 2 dias recebo e-mail avisar que poderei levantar em loja apenas quando estas abrirem. se me quisesse expor a aglomerados de pessoas num shopping não teria comprado online. não deveriam ter a opção entrega em loja quando sabem de antemão que não entregam antes de possível abertura dia 19/04o que também não é certo!',\n",
       " 'bom dia,\\n_x000d_\\nrealizei a encomenda n° 90003481517 já há algum tempo, com o prazo estimado de entrega até dia 6/4/2021, hoje estamos a 12/4/2021 e ainda não recebi a encomenda, agradeço que resolvam a situação com a transportadora o quanto antes, caso contrário agradeço o reembolso!']"
      ]
     },
     "execution_count": 7,
     "metadata": {},
     "output_type": "execute_result"
    }
   ],
   "source": [
    "\n",
    "#Create counter and and empty list for the complains mentioning locations in a for loop\n",
    "counter=0  \n",
    "locComplains=[]\n",
    "\n",
    "for r in processedComplains['PreProcessedText']:\n",
    "  doc = nlp(r)\n",
    "  for i in doc.ents:\n",
    "      if i.label_=='LOC':\n",
    "          locComplains.append(r)\n",
    "          counter = counter + 1\n",
    "          break\n",
    "  if counter>=5:    # Stop after the first five complains\n",
    "      break\n",
    "\n",
    "locComplains #Print the 5 complains involving a location"
   ]
  },
  {
   "cell_type": "code",
   "execution_count": 8,
   "id": "bf3e3689",
   "metadata": {},
   "outputs": [
    {
     "data": {
      "text/plain": [
       "['a minha encomenda que fiz no dia 19 de março não foi entregue devido os ctt expresso não me ter entregue a casa.disseram que houve tentativa de entrega quando eu estava em casa e não recebi nenhuma forma de comunicação da parte deles.liguei para o apoio ao cliente e este disseram me que tinha a transportadora e deveria voltar para trás, a lefties.eu garanti que assim fosse mas disse que queria o reembolso da mesma.disseram me que tinham que confirmar com a transportadora.eu esperei jma semana e voltei a ligar,estes disseram me que iriam devolver o valor no paypal mas continuei à espera e nada.voltei a ligar e o operador dizia me que me iam reembolsar mas continuava à espera e nada. até que voltei a ligar e uma senhora disse me que já estava à muito tempo à espera desde dia 09 que foi devolvido e pediu para aguardar.voltei a ligar no dia 13 e a partir desse dia disseram me que levaria 14 dias a contar a partir do dia 09.voltei a ligar no dia 19,e uma senhora disse me que iam me enviar para o meu email a confirmação do reembolso e que iria ser reembolsado e que levaria até 14 dias.estou aqui a reclamar pois levam tanto tempo para reembolsar um cliente que no fim de contas queria a encomenda e que nem encomenda e nem reembolso têm.e depois o cliente tem que ficar a espera 14 dias.eu liguei tantas vezes que parece me que quando liguei no dia 19 é que mexeram as mãos e agora só a partir desse dia é que começa a contar os 14 dias.e os outros dias que eu liguei que foi no dia 09,13.parece que andam a gozar com o cliente',\n",
       " 'venho por estre meio apresentar o meu desagrado quanto ao vosso serviço de venda online._x000d_\\nnão é a minha primeira encomenda online, mas tenho sempre solicitado que as encomendas sejam entregues em determinados pontos de recolha. contudo, pela primeira, realizei uma encomenda online para ser entregue na minha morada. a encomenda foi feita no dia 28/02, com previsão de entrega até dia 05/03. _x000d_\\nhoje, dia 10/03 continuo sem ter recebido a encomenda. fiz uma pesquisa sobre a transportadora com quem estão a trabalhar, e através da qual tenho estado a fazer tracking da mesma - que se encontra em distribuição desde 04/03, e eis que me deparo com uma panóplia de reclamações, seja por encomendas atrasadas ou até extraviadas. é inadmissível que uma marca como a lefties trabalhe com uma transportadora que apresenta um nível de satisfação muito duvidoso. se o vosso serviço de venda online e apoio ao cliente fosse minimamente sério e confiável, teriam dado conta das inúmeras encomendas que não foram ainda entregues e das várias reclamações que têm existido nesse sentido.',\n",
       " 'boa tarde, fiz uma encomenda em nome da minha cunhada, sara margarida, para a casa dela, com o meu email (rquintas05@gmail.com) no dia 7 de fevereiro, com vista a chegar dia 12 de fevereiro. hoje, 27 de fevereiro a encomenda não chegou. precisava de saber se a encomenda vem este ano ou se a leftions nos vai devolver o dinheiro?',\n",
       " 'fiz uma compra na lefties, e paguei o frete para entregar na minha residência, no prazo que devia vim a entrega recebi um aviso que o produto estava no ctt para retirar, enviei vários emaisl para a loja reclamando e não tive nenhum retorno, liguei no atendimento ao cliente a moça disse que ia comunicar ao transporte para me entregar e pediu para aguardar, enfim ninguém entrego um ninguém retornou o email e eu tive que ir retirar o produto no ctt, quando peguei tinha um aviso que não o destinatário estava ausente, como assim se eu moro no trabalho e não sai de casa, durante o dia, a folga é só domingo no período da tarde, enfim, não vieram fazer a entrega senão eu teria recebido, pois fiquei aguardando por vários dias atenta. agora gostaria de saber se o valor que paguei de frete a loja irá me reembolsar, ja que não cumpriu o combinado de entregar na minha residência, há detalhe ainda estava escrito que eu iria retirar, como assim eu pago o frete para entrega e tenho que ir retirar, se fosse assim eu retiraria na loja e não pagaria o frete. gostaria do reembolso do frete, esse valor ja é quase o valor de um dos produtos que comprei. espero que a loja se pronuncie por aqui, já que por email nem telefone ninguém responde isso +e um descaso com o cliente.',\n",
       " 'no dia 21 de janeiro fiz uma compra no site da lefties que seria entregue a 28 do mesmo mês pela empresa vasp expresso (celeritas). no tracking do site da transportadora, a encomenda saiu do armazém da lefties a 25 de janeiro, mas não a entregaram a 28 como previsto. a lefties enviou e-mail a informar que havia atrasos com as entregas e que a iria receber só no dia 2 de fevereiro. também não chegou neste dia. no tracking a informação que consta é que a encomenda saiu do centro de distribuição e está em distribuição, há 2 semanas! não consigo contactar a vasp expresso porque o número que consta no site deles nem sequer chama. hoje contactei a lefties e pedi para que me devolvessem o dinheiro e que cancelem a entrega da encomenda. a resposta dada é que como está na transportadora já não dá para cancelar a não ser que haja um extravio. a minha questão foi quanto tempo tenho que esperar sem os artigos e sem o dinheiro para que considerem extravio e me devolvam o meu dinheiro, o operador não me soube responder. estou a aguardar um e-mail da marca para saber se me devolvem o dinheiro ou não. é de lamentar que uma marca com a visibilidade que a lefties tem, opere desta forma nas compras online.']"
      ]
     },
     "execution_count": 8,
     "metadata": {},
     "output_type": "execute_result"
    }
   ],
   "source": [
    "#Create counter and and empty list for the complains mentioning organizations in a for loop\n",
    "counter=0  \n",
    "orgComplains=[]\n",
    "\n",
    "for r in processedComplains['PreProcessedText']:\n",
    "  doc = nlp(r)\n",
    "  for i in doc.ents:\n",
    "      if i.label_=='ORG':\n",
    "          orgComplains.append(r)\n",
    "          counter = counter + 1\n",
    "          break\n",
    "  if counter>=5:    # Stop after the first five complains, but could be more\n",
    "      break\n",
    "\n",
    "orgComplains #Print the complains found"
   ]
  },
  {
   "cell_type": "code",
   "execution_count": null,
   "id": "99b5df86",
   "metadata": {},
   "outputs": [],
   "source": []
  }
 ],
 "metadata": {
  "kernelspec": {
   "display_name": "Python 3",
   "language": "python",
   "name": "python3"
  },
  "language_info": {
   "codemirror_mode": {
    "name": "ipython",
    "version": 3
   },
   "file_extension": ".py",
   "mimetype": "text/x-python",
   "name": "python",
   "nbconvert_exporter": "python",
   "pygments_lexer": "ipython3",
   "version": "3.8.8"
  }
 },
 "nbformat": 4,
 "nbformat_minor": 5
}