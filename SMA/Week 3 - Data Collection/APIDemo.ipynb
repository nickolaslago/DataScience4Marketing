{
 "metadata": {
  "language_info": {
   "codemirror_mode": {
    "name": "ipython",
    "version": 3
   },
   "file_extension": ".py",
   "mimetype": "text/x-python",
   "name": "python",
   "nbconvert_exporter": "python",
   "pygments_lexer": "ipython3",
   "version": "3.6.5-final"
  },
  "orig_nbformat": 2,
  "kernelspec": {
   "name": "python3",
   "display_name": "Python 3"
  }
 },
 "nbformat": 4,
 "nbformat_minor": 2,
 "cells": [
  {
   "source": [
    "# API demo\n",
    "## Twitter\n",
    "### Changes may be required due to content update\n",
    "\n",
    "(c) Nuno António 2020 - Rev. 1.00"
   ],
   "cell_type": "markdown",
   "metadata": {}
  },
  {
   "source": [
    "### Load packages and do the initializations"
   ],
   "cell_type": "markdown",
   "metadata": {}
  },
  {
   "cell_type": "code",
   "execution_count": 1,
   "metadata": {},
   "outputs": [],
   "source": [
    "# Load libraries\n",
    "import numpy as np\n",
    "import pandas as pd\n",
    "import tweepy"
   ]
  },
  {
   "source": [
    "### Search definitions"
   ],
   "cell_type": "markdown",
   "metadata": {}
  },
  {
   "cell_type": "code",
   "execution_count": 12,
   "metadata": {},
   "outputs": [],
   "source": [
    "# Terms to search\n",
    "searchQuery = '#TESLA'"
   ]
  },
  {
   "cell_type": "code",
   "execution_count": 3,
   "metadata": {},
   "outputs": [],
   "source": [
    "# First date\n",
    "beginDate = '2018-01-01'"
   ]
  },
  {
   "cell_type": "code",
   "execution_count": 4,
   "metadata": {},
   "outputs": [],
   "source": [
    "# Language\n",
    "lang = 'en'"
   ]
  },
  {
   "cell_type": "code",
   "execution_count": 5,
   "metadata": {},
   "outputs": [],
   "source": [
    "# Apply a filter not to get retweets\n",
    "filter = ' -filter:retweets'"
   ]
  },
  {
   "source": [
    "### Do the search"
   ],
   "cell_type": "markdown",
   "metadata": {}
  },
  {
   "cell_type": "code",
   "execution_count": 6,
   "metadata": {},
   "outputs": [],
   "source": [
    "# Access details - REPLACE BY OUR ACCOUNT\n",
    "api_key = '83hrrEdZ985ezeYlpU8tebMs0'\n",
    "api_key_secret = 'FqzpbvLE2Ar2Yx9g366kj5YyC2MtYi3ySi3yunEx1rjQsBwPTM' \n",
    "access_token = '1336397516481425409-jGwJ0HgJcpndKLFmZRcYVOwboWktxB'\n",
    "access_token_secret = 'zZlZkz6fwCcWjgQghMJb1GrEfy7XXrnyzBgebmhULngfo'\n",
    "\n",
    "auth = tweepy.OAuthHandler(api_key, api_key_secret)\n",
    "auth.set_access_token(access_token, access_token_secret)"
   ]
  },
  {
   "cell_type": "code",
   "execution_count": 7,
   "metadata": {},
   "outputs": [],
   "source": [
    "# Create the API endpoint\n",
    "api = tweepy.API(auth)"
   ]
  },
  {
   "cell_type": "code",
   "execution_count": 19,
   "metadata": {},
   "outputs": [],
   "source": [
    "# Create a data frame for results\n",
    "tweetsDF = pd.DataFrame(columns=['text', 'user', 'url'])\n",
    "tws = []\n",
    "tw =[]"
   ]
  },
  {
   "cell_type": "code",
   "execution_count": 20,
   "metadata": {},
   "outputs": [],
   "source": [
    "# Define the maximum number of tweets to retrieve\n",
    "max_tweets = 300\n",
    "\n",
    "# Query text\n",
    "q = searchQuery+' '+filter\n",
    "\n",
    "# Loop for each 100 (due to the limitations)\n",
    "for tweet in tweepy.Cursor(api.search,\n",
    "                            q=q,\n",
    "                            rpp=100,\n",
    "                            lang=lang,\n",
    "                            since=beginDate).items(max_tweets):\n",
    "    tw = [tweet.text, tweet.user.screen_name, tweet.source_url] \n",
    "    tw = tuple(tw)\n",
    "    tws.append(tw)\n",
    "\n",
    "# Populate and show the dataframe\n",
    "tweetsDF = pd.DataFrame(tws, columns=['text', 'user', 'url'])"
   ]
  },
  {
   "source": [
    "### Save results"
   ],
   "cell_type": "markdown",
   "metadata": {}
  },
  {
   "cell_type": "code",
   "execution_count": 21,
   "metadata": {},
   "outputs": [],
   "source": [
    "# Save the extracted reviews data frame to an Excel file\n",
    "tweetsDF.to_excel(\"Tweets.xlsx\")"
   ]
  }
 ]
}