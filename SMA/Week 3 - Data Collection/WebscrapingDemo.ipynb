{
 "metadata": {
  "language_info": {
   "codemirror_mode": {
    "name": "ipython",
    "version": 3
   },
   "file_extension": ".py",
   "mimetype": "text/x-python",
   "name": "python",
   "nbconvert_exporter": "python",
   "pygments_lexer": "ipython3",
   "version": "3.7.4-final"
  },
  "orig_nbformat": 2,
  "kernelspec": {
   "name": "python3",
   "display_name": "Python 3"
  }
 },
 "nbformat": 4,
 "nbformat_minor": 2,
 "cells": [
  {
   "source": [
    "# Webscraping demo\n",
    "## Tripadvisor\n",
    "### Changes may be required due to Tripadvisor's continous updates\n",
    "\n",
    "(c) Nuno António 2020 - Rev. 1.00"
   ],
   "cell_type": "markdown",
   "metadata": {}
  },
  {
   "source": [
    "### Load packages and do the initializations"
   ],
   "cell_type": "markdown",
   "metadata": {}
  },
  {
   "cell_type": "code",
   "execution_count": 45,
   "metadata": {},
   "outputs": [],
   "source": [
    "# Load libraries\n",
    "import numpy as np\n",
    "import pandas as pd\n",
    "from urllib.request import urlopen\n",
    "from bs4 import BeautifulSoup\n",
    "import ssl\n",
    "from selenium import webdriver\n",
    "from selenium.webdriver.firefox.firefox_binary import FirefoxBinary\n",
    "from selenium.webdriver.firefox.options import Options"
   ]
  },
  {
   "cell_type": "code",
   "execution_count": 46,
   "metadata": {},
   "outputs": [],
   "source": [
    "# Allow not verified SSL (Secure Socket Layer) certificates to be opened\n",
    "ssl._create_default_https_context = ssl._create_unverified_context"
   ]
  },
  {
   "cell_type": "code",
   "execution_count": 47,
   "metadata": {},
   "outputs": [],
   "source": [
    "# Get Firefox options (configurations)\n",
    "options = Options()"
   ]
  },
  {
   "cell_type": "code",
   "execution_count": 48,
   "metadata": {},
   "outputs": [],
   "source": [
    "# Load the list of the hotels to read the content\n",
    "hotelsToScrap = pd.read_excel(\"HotelsToScrap.xlsx\", sheet_name=\"Sheet1\", index_col=\"ID\")"
   ]
  },
  {
   "cell_type": "code",
   "execution_count": 49,
   "metadata": {},
   "outputs": [],
   "source": [
    "# Create an empty dataframe for the resuls\n",
    "hotelReviews = pd.DataFrame({'hotelID': pd.Series([], dtype='string'),\n",
    "                             'user': pd.Series([], dtype='string'),\n",
    "                             'rating': pd.Series([], dtype='float'),\n",
    "                             'text': pd.Series([], dtype='string'),\n",
    "                             })"
   ]
  },
  {
   "source": [
    "### Functions to use in the Main Loop"
   ],
   "cell_type": "markdown",
   "metadata": {}
  },
  {
   "cell_type": "code",
   "execution_count": 50,
   "metadata": {},
   "outputs": [],
   "source": [
    "# Open page and read HTML\n",
    "def openPageReadHTML(url):\n",
    "\n",
    "    # Open Firefox with Selenium\n",
    "    binary = FirefoxBinary('/Applications/Firefox.app/Contents/MacOS/firefox-bin')  # replace the Firexfox path with the one on your computer\n",
    "    browser = webdriver.Firefox(firefox_binary=binary, options=options)\n",
    "    browser.get(url)\n",
    "\n",
    "    # Move into first review and click the button \n",
    "    read_more_buttons = browser.find_elements_by_class_name(\"_3maEfNCR\")\n",
    "    if len(read_more_buttons) > 0:\n",
    "        browser.execute_script(\"arguments[0].scrollIntoView(true);\", read_more_buttons[0])\n",
    "        browser.execute_script(\"arguments[0].click()\", read_more_buttons[0])\n",
    "\n",
    "    # Read the content close de browser\n",
    "    html_source = browser.page_source  \n",
    "    browser.quit()\n",
    "\n",
    "    # Transform the html into a BeautifulSoup object\n",
    "    soupObj = BeautifulSoup(html_source) \n",
    "\n",
    "    return soupObj"
   ]
  },
  {
   "cell_type": "code",
   "execution_count": 51,
   "metadata": {},
   "outputs": [],
   "source": [
    "# Process each page\n",
    "def processPage(soupObj, hotelID, extractedDF):\n",
    "\n",
    "    # Read reviews\n",
    "    reviews = soupObj.find_all(\"div\", {\"data-test-target\": \"reviews-tab\"})\n",
    "\n",
    "    # Get the list of reviews\n",
    "    reviewsList = reviews[0].select(\"div[class*=_3hFEdNs8]\")\n",
    "\n",
    "    # Loop thru each review\n",
    "    for i in range(0,len(reviewsList)):\n",
    "        \n",
    "        # Get Rating\n",
    "        r1 = reviewsList[i].select(\"span[class*=ui_bubble_rating]\")\n",
    "        r2 = r1[0][\"class\"][1]\n",
    "        reviewRating = int(''.join(filter(str.isdigit, r2)))/10\n",
    "\n",
    "        # Get User\n",
    "        user = reviewsList[i].select(\"a[class*=ui_header_link]\")[0].string\n",
    "\n",
    "        # Get review text\n",
    "        t = reviewsList[i].select(\"q[class*=IRsGHoPm]\")[0]\n",
    "        reviewText = t.find_all(\"span\")[0].string\n",
    "\n",
    "        # Update extracted reviews dataframe\n",
    "        extractedDF = extractedDF.append({'hotelID': hotelID,\n",
    "                             'user': user,\n",
    "                             'rating': reviewRating,\n",
    "                             'text': reviewText,\n",
    "                             }, ignore_index=True)\n",
    "\n",
    "    # Return the resulting dataframe\n",
    "    return extractedDF"
   ]
  },
  {
   "source": [
    "### Main loop"
   ],
   "cell_type": "markdown",
   "metadata": {}
  },
  {
   "cell_type": "code",
   "execution_count": 43,
   "metadata": {},
   "outputs": [],
   "source": [
    "# Because this is a demo, let's define the number of reviews to obtain per hotel\n",
    "reviewsToGet = 15"
   ]
  },
  {
   "cell_type": "code",
   "execution_count": 53,
   "metadata": {},
   "outputs": [
    {
     "output_type": "stream",
     "name": "stdout",
     "text": [
      "Processing hotel Sheraton\n",
      "Extracted  5 / 15\n",
      "Extracted  10 / 15\n",
      "Extracted  15 / 15\n",
      "Processing hotel CorpoSanto\n",
      "Extracted  5 / 15\n",
      "Extracted  10 / 15\n",
      "Extracted  15 / 15\n",
      "Processing hotel Myriad\n",
      "Extracted  5 / 15\n",
      "Extracted  10 / 15\n",
      "Extracted  15 / 15\n",
      "Processing hotel AvenidaPalace\n",
      "Extracted  5 / 15\n",
      "Extracted  10 / 15\n",
      "Extracted  15 / 15\n",
      "Processing hotel Corinthia\n",
      "Extracted  5 / 15\n",
      "Extracted  10 / 15\n",
      "Extracted  15 / 15\n"
     ]
    }
   ],
   "source": [
    "# Loop for all hotels\n",
    "for index, row in hotelsToScrap.iterrows():\n",
    "\n",
    "    # Present feedback on which hotel is being processed\n",
    "    print(\"Processing hotel\", index)\n",
    "\n",
    "    # Reset counter per hotel\n",
    "    reviewsExtracted = 0    \n",
    "\n",
    "    # Loop until it extracts the pre-defined number of reviews\n",
    "    while reviewsExtracted<reviewsToGet:\n",
    "\n",
    "        # Define URL to use based on the number of reviews extracted so far\n",
    "        urlToUse = row['URL']\n",
    "        if reviewsExtracted>0:\n",
    "            repText = \"-Reviews-or\"+str(reviewsExtracted)+\"-\"\n",
    "            urlToUse = urlToUse.replace(\"-Reviews-\",repText)\n",
    "\n",
    "        # Open and read the web page content\n",
    "        soup = openPageReadHTML(urlToUse)\n",
    "\n",
    "        # Process web page\n",
    "        hotelReviews = processPage(soup, index, hotelReviews)\n",
    "\n",
    "        # Update counter\n",
    "        reviewsExtracted = reviewsExtracted + 5\n",
    "\n",
    "        # Present feedback on the number of extracted reviews\n",
    "        print(\"Extracted \",reviewsExtracted,\"/\",reviewsToGet)\n",
    "     "
   ]
  },
  {
   "cell_type": "code",
   "execution_count": 54,
   "metadata": {},
   "outputs": [],
   "source": [
    "# Save the extracted reviews data frame to an Excel file\n",
    "hotelReviews.to_excel(\"ExtractedReviews.xlsx\")"
   ]
  },
  {
   "cell_type": "code",
   "execution_count": null,
   "metadata": {},
   "outputs": [],
   "source": []
  }
 ]
}