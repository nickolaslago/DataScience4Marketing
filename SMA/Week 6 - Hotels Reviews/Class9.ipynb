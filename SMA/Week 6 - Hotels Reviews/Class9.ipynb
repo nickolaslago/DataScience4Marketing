{
 "metadata": {
  "language_info": {
   "codemirror_mode": {
    "name": "ipython",
    "version": 3
   },
   "file_extension": ".py",
   "mimetype": "text/x-python",
   "name": "python",
   "nbconvert_exporter": "python",
   "pygments_lexer": "ipython3",
   "version": "3.7.6"
  },
  "orig_nbformat": 2,
  "kernelspec": {
   "name": "python3",
   "display_name": "Python 3.7.6 64-bit ('base': conda)",
   "metadata": {
    "interpreter": {
     "hash": "f30a98447ab0ce6ed2c42a906dd8ff7c3035168d8630597903509f729a93be92"
    }
   }
  }
 },
 "nbformat": 4,
 "nbformat_minor": 2,
 "cells": [
  {
   "cell_type": "code",
   "execution_count": 16,
   "metadata": {},
   "outputs": [],
   "source": [
    "from urllib.request import urlopen # to open web pages\n",
    "from bs4 import BeautifulSoup # to process html\n",
    "import ssl # process ssl certificate"
   ]
  },
  {
   "cell_type": "code",
   "execution_count": 17,
   "metadata": {},
   "outputs": [],
   "source": [
    "# Create SSL connection\n",
    "ssl._create_default_https_context = ssl._create_unverified_context"
   ]
  },
  {
   "cell_type": "code",
   "execution_count": 18,
   "metadata": {},
   "outputs": [],
   "source": [
    "# Open the webpage\n",
    "url = \"https://www.tripadvisor.com/Hotel_Review-g189158-d229324-Reviews-Sheraton_Lisboa_Hotel_Spa-Lisbon_Lisbon_District_Central_Portugal.html\"\n",
    "page = urlopen(url)"
   ]
  },
  {
   "cell_type": "code",
   "execution_count": 19,
   "metadata": {},
   "outputs": [],
   "source": [
    "# Read html content\n",
    "html = page.read().decode(\"utf-8\")"
   ]
  },
  {
   "cell_type": "code",
   "execution_count": 20,
   "metadata": {},
   "outputs": [],
   "source": [
    "# Parse html\n",
    "soup = BeautifulSoup(html, \"html.parser\")"
   ]
  },
  {
   "cell_type": "code",
   "execution_count": 21,
   "metadata": {
    "tags": [
     "outputPrepend"
    ]
   },
   "outputs": [
    {
     "output_type": "stream",
     "name": "stdout",
     "text": [
      "ation_id': 229324, 'servletClass': 'com.TripResearch.servlet.hotels.hotelreview.HotelReviewServlet', 'servletName': 'Hotel_Review', 'modules': [\"handlers\"], 'params': {\"contentUpdatedEvent\":\"reviewListUpdated\"}, 'data': {}});});\nrequire(['ta/p13n/placements','ta/page','$prp/resp_hr_ad_wrapper/handlers'], function(placements, impl) {\nwindow.ta.plc_resp_hr_ad_wrapper_lower_block_0_handlers = placements.load('resp_hr_ad_wrapper','handlers.js', { 'name': 'resp_hr_ad_wrapper:lower_block', 'occurrence': 0, 'id': 'taplc_resp_hr_ad_wrapper_lower_block_0', 'location_id': 229324, 'servletClass': 'com.TripResearch.servlet.hotels.hotelreview.HotelReviewServlet', 'servletName': 'Hotel_Review', 'modules': [\"handlers\"], 'params': {\"contentUpdatedEvent\":\"qaListUpdated\"}, 'data': {}});});\nrequire(['ta/p13n/placements','ta/page','$prp/footer_banner_ad_billboard/handlers'], function(placements, impl) {\nwindow.ta.plc_footer_banner_ad_billboard_hotel_review_resp_0_handlers = placements.load('footer_banner_ad_billboard','handlers.es6', { 'name': 'footer_banner_ad_billboard:hotel_review_resp', 'occurrence': 0, 'id': 'taplc_footer_banner_ad_billboard_hotel_review_resp_0', 'location_id': 229324, 'servletClass': 'com.TripResearch.servlet.hotels.hotelreview.HotelReviewServlet', 'servletName': 'Hotel_Review', 'modules': [\"handlers\"], 'params': {\"footer_banner_ad_style\":\"billboardAd\"}, 'data': {}});});\nrequire(['ta/p13n/placements','ta/page','$prp/unsupported_browser_messaging/handlers'], function(placements, impl) {\nwindow.ta.plc_unsupported_browser_messaging_0_handlers = placements.load('unsupported_browser_messaging','handlers.js', { 'name': 'unsupported_browser_messaging', 'occurrence': 0, 'id': 'taplc_unsupported_browser_messaging_0', 'location_id': 229324, 'servletClass': 'com.TripResearch.servlet.hotels.hotelreview.HotelReviewServlet', 'servletName': 'Hotel_Review', 'modules': [\"handlers\"], 'params': {}, 'data': {}});});\nrequire(['ta/p13n/placements','ta/page','$prp/facebook_autologin/handlers'], function(placements, impl) {\nwindow.ta.plc_facebook_autologin_0_handlers = placements.load('facebook_autologin','handlers.js', { 'name': 'facebook_autologin', 'occurrence': 0, 'id': 'taplc_facebook_autologin_0', 'location_id': 229324, 'servletClass': 'com.TripResearch.servlet.hotels.hotelreview.HotelReviewServlet', 'servletName': 'Hotel_Review', 'modules': [\"handlers\"], 'params': {}, 'data': {}});});\nrequire(['ta/p13n/placements','ta/page','$prp/global_nav/handlers'], function(placements, impl) {\nwindow.ta.plc_global_nav_0_handlers = placements.load('global_nav','handlers.js', { 'name': 'global_nav', 'occurrence': 0, 'id': 'taplc_global_nav_0', 'location_id': 229324, 'servletClass': 'com.TripResearch.servlet.hotels.hotelreview.HotelReviewServlet', 'servletName': 'Hotel_Review', 'modules': [\"deferred/lateHandlers\",\"handlers\"], 'params': {}, 'data': {}});});\nrequire(['ta/p13n/placements','ta/page','$prp/global_nav_links/handlers'], function(placements, impl) {\nwindow.ta.plc_global_nav_links_0_handlers = placements.load('global_nav_links','handlers.js', { 'name': 'global_nav_links', 'occurrence': 0, 'id': 'taplc_global_nav_links_0', 'location_id': 229324, 'servletClass': 'com.TripResearch.servlet.hotels.hotelreview.HotelReviewServlet', 'servletName': 'Hotel_Review', 'modules': [\"handlers\"], 'params': {\"geopillOnHome\":false}, 'data': {}});});\nrequire(['ta/p13n/placements','ta/page','$prp/global_nav_dropdowns/handlers'], function(placements, impl) {\nwindow.ta.plc_global_nav_dropdowns_0_handlers = placements.load('global_nav_dropdowns','handlers.js', { 'name': 'global_nav_dropdowns', 'occurrence': 0, 'id': 'taplc_global_nav_dropdowns_0', 'location_id': 229324, 'servletClass': 'com.TripResearch.servlet.hotels.hotelreview.HotelReviewServlet', 'servletName': 'Hotel_Review', 'modules': [\"handlers\"], 'params': {}, 'data': {}});});\nrequire(['ta/p13n/placements','ta/page','$prp/global_nav_action_inbox/handlers'], function(placements, impl) {\nwindow.ta.plc_global_nav_action_inbox_empty_0_handlers = placements.load('global_nav_action_inbox','handlers.js', { 'name': 'global_nav_action_inbox:empty', 'occurrence': 0, 'id': 'taplc_global_nav_action_inbox_empty_0', 'location_id': 229324, 'servletClass': 'com.TripResearch.servlet.hotels.hotelreview.HotelReviewServlet', 'servletName': 'Hotel_Review', 'modules': [\"handlers\"], 'params': {}, 'data': {}});});\nrequire(['ta/p13n/placements','ta/page','$prp/masthead_search/handlers'], function(placements, impl) {\nwindow.ta.plc_masthead_search_empty_0_handlers = placements.load('masthead_search','handlers.js', { 'name': 'masthead_search:empty', 'occurrence': 0, 'id': 'taplc_masthead_search_empty_0', 'location_id': 229324, 'servletClass': 'com.TripResearch.servlet.hotels.hotelreview.HotelReviewServlet', 'servletName': 'Hotel_Review', 'modules': [\"deferred/lateHandlers\",\"handlers\"], 'params': {\"typeahead_to_store\":{\"typeahead_new_location_label\":\"NEW LOCATION\",\"typeahead.aliases.travel_insurance\":[\"insurance\",\"travel insurance\",\"trip insurance\",\"annual travel insurance\"],\"typeahead.aliases.flight_reviews\":[\"flight reviews\",\"airline reviews\"],\"typeahead_throttle_requests\":\"true\",\"typeahead.aliases.rental_cars\":[\"Rental Cars\",\"Car Rentals\"],\"typeahead_cruise_ships_enabled\":\"true\",\"typeahead.aliases.activities\":[\"Tours and Tickets\",\"Tours & Tickets\"],\"typeahead.aliases.things_to_do\":[\"Things to do\",\"Thing to do\",\"attractions\",\"activities\",\"what to do\",\"sightseeing\",\"Sights\",\"Tourist Attractions\",\"Activity\",\"Attraction\",\"What to see\",\"Where to go\",\"Where to visit\",\"Best Attractions\",\"Best Things to do\",\"Best Tourist Attractions\",\"Best Sightseeing\",\"Top Attractions\",\"Top Things to do\",\"Top Tourist Attractions\",\"Top Sightseeing\",\"Top 10 Attractions\",\"Top 10 Things to do\",\"Top 10 Tourist Attractions\",\"Top 10 Sightseeing\"],\"typeahead.enable_nearby\":true,\"typeahead_cruise_cruiselines_enabled\":\"true\",\"typeahead_divClasses\":null,\"typeahead.scoped.cur_loc_denied\":\"Tripadvisor was denied permission to access your location.  Give your browser and Tripadvisor permission to use your current location and try again.\",\"typeahead.scoped.cur_loc\":\"Nearby\",\"typeahead.aliases.travel_forums\":[\"forum\",\"forums\",\"Travel Forum\",\"Travel Forums\"],\"typeahead.aliases.travel_guides\":[\"guides\",\"city guides\"],\"typeahead.aliases.vacation_rentals\":[\"vacation rentals\",\"vacation rental\",\"Airbnb\",\"Holiday rental\",\"Holiday rentals\"],\"typeahead.aliases.flights\":[\"Flights\",\"Flight\",\"Flight to\",\"flights to\",\"nonstop flights\",\"business class flights\",\"return flights\",\"airline flights\",\"air flights\",\"cheap flights\",\"flight from\",\"cheapest flights\",\"flight only\",\"one way flights\",\"direct flights\",\"domestic flights\",\"air fare\",\"cheap flights to\",\"air flights to\",\"airline flights to\",\"business class flights to\",\"cheapest flights to\",\"direct flights to\",\"domestic flights to\",\"nonstop flights to\",\"one way flights to\",\"air fares\",\"airfare\",\"airfares\",\"air fare to\",\"air fares to\",\"airfare to\",\"airfares to\"],\"typeahead_moved_label\":\"MOVED\",\"typeahead_dual_search_options\":{\"geoID\":189158,\"bypassSearch\":true,\"staticTypeAheadOptions\":{\"minChars\":3,\"defaultValue\":\"Search\",\"injectNewLocation\":true,\"typeahead1_5\":true,\"geoBoostFix\":true},\"debug\":false,\"navSearchTypeAheadEnabled\":true,\"isMobileWeb\":false,\"geoInfo\":{\"geoId\":189158,\"geoName\":\"Lisbon\",\"parentName\":\"Portugal\",\"shortParentName\":\"Portugal\",\"categories\":{\"GEO\":{\"url\":\"/Tourism-g189158-Lisbon_Lisbon_District_Central_Portugal-Vacations.html\"},\"HOTEL\":{\"url\":\"/Hotels-g189158-Lisbon_Lisbon_District_Central_Portugal-Hotels.html\"},\"VACATION_RENTAL\":{\"url\":\"/VacationRentals-g189158-Reviews-Lisbon_Lisbon_District_Central_Portugal-Vacation_Rentals.html\"},\"ATTRACTION\":{\"url\":\"/Attractions-g189158-Activities-Lisbon_Lisbon_District_Central_Portugal.html\"},\"EATERY\":{\"url\":\"/Restaurants-g189158-Lisbon_Lisbon_District_Central_Portugal.html\"},\"FLIGHTS_TO\":{\"url\":\"/Flights-g189158-Lisbon_Lisbon_District_Central_Portugal-Cheap_Discount_Airfares.html\"},\"NEIGHBORHOOD\":{\"url\":\"/NeighborhoodList-g189158-Lisbon_Lisbon_District_Central_Portugal.html\"},\"CAR_RENTAL_OFFICE\":{\"url\":\"/RentalCars_Review?detail=189158\"},\"TRAVEL_GUIDE\":{\"url\":\"/Travel_Guide-g189158-Lisbon_Lisbon_District_Central_Portugal.html\"}}}},\"typeahead_closed_label\":\"CLOSED\",\"typeahead.scoped.all_of_trip\":\"Worldwide\",\"typeahead_attraction_activity_search\":\"true\",\"typeahead.aliases.hotels\":[\"hotels\",\"hotel\",\"lodging\",\"places to stay\",\"where to stay\",\"accommodation\",\"accommodations\",\"hotel reviews\",\"Hotels & Motels\",\"Best Hotels\",\"Best Places to Stay\",\"Best Lodging\",\"Best Hotels & Motels\",\"Lodgings\",\"Place to stay\",\"Top Hotels\",\"Top Places to Stay\",\"Top Lodging\",\"Top Hotels & Motels\",\"Top 10 Hotels\",\"Top 10 Places to Stay\",\"Top 10 Lodging\",\"Top 10 Hotels & Motels\"],\"typeahead.aliases.restaurants\":[\"food\",\"places to eat\",\"eateries\",\"dining\",\"restaurants\",\"restaurant\",\"Place to eat\",\"Eatery\",\"Where to eat\",\"What to eat\",\"Best Restaurants\",\"Best Places to Eat\",\"Best Food\",\"Best Dining\",\"Top Restaurants\",\"Top Places to Eat\",\"Top Food\",\"Top Dining\",\"Top 10 Restaurants\",\"Top 10 Places To Eat\",\"Top 10 Food\",\"Top 10 Dining\"],\"typeahead.searchMore.v2\":\"Search for \\\"%\\\"\",\"typeahead.searchSessionId\":\"DC70821C1C404F3A838C93BA6BF357D31618596424944ssid\"}}, 'data': {}});});\nrequire(['ta/p13n/placements','ta/page','$prp/browser_mode_tracking/handlers'], function(placements, impl) {\nwindow.ta.plc_browser_mode_tracking_0_handlers = placements.load('browser_mode_tracking','handlers.js', { 'name': 'browser_mode_tracking', 'occurrence': 0, 'id': 'taplc_browser_mode_tracking_0', 'location_id': 229324, 'servletClass': 'com.TripResearch.servlet.hotels.hotelreview.HotelReviewServlet', 'servletName': 'Hotel_Review', 'modules': [\"handlers\"], 'params': {}, 'data': {}});});\nrequire(['ta/p13n/placements','ta/page','$prp/qualtrics_survey/handlers'], function(placements, impl) {\nwindow.ta.plc_qualtrics_survey_0_handlers = placements.load('qualtrics_survey','handlers.js', { 'name': 'qualtrics_survey', 'occurrence': 0, 'id': 'taplc_qualtrics_survey_0', 'location_id': 229324, 'servletClass': 'com.TripResearch.servlet.hotels.hotelreview.HotelReviewServlet', 'servletName': 'Hotel_Review', 'modules': [\"handlers\"], 'params': {}, 'data': {}});});\nrequire(['ta/p13n/placements','ta/page','$prp/meta_click_tracker/handlers'], function(placements, impl) {\nwindow.ta.plc_meta_click_tracker_0_handlers = placements.load('meta_click_tracker','handlers.js', { 'name': 'meta_click_tracker', 'occurrence': 0, 'id': 'taplc_meta_click_tracker_0', 'location_id': 229324, 'servletClass': 'com.TripResearch.servlet.hotels.hotelreview.HotelReviewServlet', 'servletName': 'Hotel_Review', 'modules': [\"handlers\"], 'params': {}, 'data': {}});});\nrequire(['ta/p13n/placements','ta/page','$prp/masthead_h1/handlers'], function(placements, impl) {\nwindow.ta.plc_masthead_h1_hr_resp_0_handlers = placements.load('masthead_h1','handlers.js', { 'name': 'masthead_h1:hr_resp', 'occurrence': 0, 'id': 'taplc_masthead_h1_hr_resp_0', 'location_id': 229324, 'servletClass': 'com.TripResearch.servlet.hotels.hotelreview.HotelReviewServlet', 'servletName': 'Hotel_Review', 'modules': [\"handlers\"], 'params': {}, 'data': {}});});\nrequire(['ta/p13n/placements','ta/page','$prp/trip_planner_breadcrumbs/handlers'], function(placements, impl) {\nwindow.ta.plc_trip_planner_breadcrumbs_0_handlers = placements.load('trip_planner_breadcrumbs','handlers.js', { 'name': 'trip_planner_breadcrumbs', 'occurrence': 0, 'id': 'taplc_trip_planner_breadcrumbs_0', 'location_id': 229324, 'servletClass': 'com.TripResearch.servlet.hotels.hotelreview.HotelReviewServlet', 'servletName': 'Hotel_Review', 'modules': [\"handlers\"], 'params': {}, 'data': {}});});\nrequire(['ta/prwidgets', 'ta/page'], function(prwidgets) {\nprwidgets.initWidgets(document);\n});\n\nrequire(['servlets/standardTemplateSupport'], function(support) {support.footerInit();});window.addEventListener('load', function() {  placementEvCall('taplc_meta_click_tracker_0', 'handlers.addTrackingProvider', null, null, {providerName: '',isOTAPixel: '',vendorName: 'HolidayInn.com',trackingPixel: 'https://activate.tacdn.com/no-content?adType=c&pei=3&ci_ccount=1&pch=4&pct=meta_click&cw_plet=[timestamp]&pbrd=holiday_inn',brandName: '',locationIds: [],valid: true});placementEvCall('taplc_meta_click_tracker_0', 'handlers.registerEvents', null, null);});require([\"ta/Core/TA.Store\"], function(taStore) {taStore.store(\"retargeting.rtURL\", '//' + 'www.tamgrt.com/RT');taStore.store(\"retargeting.drs\", 'ABC.34*AFIL.34*ATTPromo.66*AUC.2*BBML.8*BMP.94*BRDTTD.61*Brand.37*CAKE.18*CAR.19*COM.13*CRS.3*Community.1*Content.97*CoreX.39*EATPIZZA.73*EID.53*EXP.30*Engage.25*FDP.72*FDS.69*FDU.94*FLTMERCH.11*FLTREV.11*Filters.7*Flights.73*HRATF.85*HSX.27*HSXB.92*IBEX.56*ING.67*INT1.84*INT2.12*ITR.93*L10N.36*ML.13*ML6.50*MM.76*MOBILEAPP.-1*MOF.64*MPS.91*MTA.8*Me2.50*Mem.37*Mobile.82*MobileCore.16*Notifications.81*Other.15*P13N.91*PIE.11*PLS.15*POS.56*PRT.95*RDS1.71*RDS2.18*RDS3.75*RDS4.72*RDS5.90*RET.43*REV.29*REVB.9*REVH.41*REVM.33*REVSD.14*REVSP.43*REVXS.75*RNA.6*RSE1.40*RSE2.12*Rooms.76*S3PO.55*SD40.54*SE2O.68*SEM.72*SEO.76*SORT1.51*Sales.88*Search.48*SiteX.64*Surveys.36*T4B.54*TGT.53*TRP.14*TTD.46*TX.70*Timeline.21*VP.71*VR.84*YM.76*YMB.31');taStore.store(\"retargeting.geoId\", '189158');});(function(window, document) {\"use strict\";var SYNC_AGE = 1000*60*30; var WHITELIST_AGE = 1000*60*60*24; var HTTP_COOKIE = \"TART\";var SYNC_COOKIE = \"SRT\";var WHITELIST_COOKIE = \"WLRedir\";var MSG_PREFIX = \"COOKIESYNC:\";var _isNewRTCookie = true;var _tart = 'enc%3AAsHKkhznywxE0hq%2B5zstLCrKLmyQrCSF2qbOY5upermtyi9pZP0m4M9c%2BuQnvx%2B5z%2FLgOKr%2FmBE%3D';if (_hasCookie(HTTP_COOKIE) && !_isNewRTCookie) { return; } var syncFrame = document.createElement('iframe');function _on(element, event, callback) {var legacy = !('addEventListener' in document),   listen = legacy ? 'attachEvent' : 'addEventListener';if (legacy) { event = 'on' + event; }element[listen](event, callback);}function _off(element, event, callback) {var legacy = !('addEventListener' in document),   detach = legacy ? 'detachEvent' : 'removeEventListener';if (legacy) { event = 'on' + event; }element[detach](event, callback);}function _setCookie(name, value, age) {document.cookie = name + '=' + value +';domain=' + window.location.hostname +';path=/' +';expires=' + new Date(new Date().getTime() + age).toUTCString();}function _hasCookie(name) {return !!document.cookie.match(name + '=[^;]+');}function handleMessage(e) {if (!syncFrame || !e || !e.data || !e.data.indexOf || e.data.indexOf(MSG_PREFIX) !== 0) { return; }var cookieValue = e.data.substring(MSG_PREFIX.length);if (cookieValue) {_setCookie(SYNC_COOKIE, cookieValue, SYNC_AGE);} else if(!_hasCookie(WHITELIST_COOKIE)) {_setCookie(WHITELIST_COOKIE, \"requested\", WHITELIST_AGE);}_off(window, 'message', handleMessage);document.body.removeChild(syncFrame);syncFrame = null;}function _setupSyncFrame() {if (!syncFrame) { return; }var src = window.location.protocol + '//' + 'www.tamgrt.com/RT' + \"?-sync=true&q=\" + new Date().getTime();if(_isNewRTCookie) {if(_tart) {src += '&rid=' + _tart;}}syncFrame.src = src;document.body.appendChild(syncFrame);}_on(window, 'message', handleMessage);syncFrame.style.display = 'none';syncFrame.id = 'ta_cookie_sync';syncFrame.name = new Date().getTime();_setupSyncFrame();})(window, document); .gptAd {position: relative;width: 100%; text-align: center;margin-left: auto;margin-right: auto;}.gptAd > div, .gptAd > div > iframe {display: block !important;margin-left: auto;margin-right: auto;}window.googletag = window.googletag || {cmd:[]};  window.addEventListener('load', function() { var initOpts = {gptBase: \"/5349/ta.ta.it.s/eu.portugal.lisbon\",gptConfig: {\"enable_amazon_bidding\":true,\"refresh_on_change_dates\":true,\"enable_ias_verify\":true,\"adTrackingConfig\":{\"56115731\":\"Onyx\",\"125294291\":\"Onyx\",\"439801571\":\"Onyx\",\"439513691\":\"Onyx\",\"268297691\":\"Onyx\",\"146529491\":\"Onyx\",\"56043851\":\"Onyx\",\"55678451\":\"Hotwire\",\"55721291\":\"Choice\",\"55752491\":\"Choice\",\"56107811\":\"Rakuten\",\"444557411\":\"Rakuten\"},\"enable_rubicon_bidding\":true,\"defer_bidding_call\":true,\"visibility_change_refresh\":true,\"enable_deferred_ads\":true},   pageTargeting: {\"country\":[\"189100\"],\"sess\":[\"DC70821C1C404F3A838C93BA6BF357D3\"],\"sub_brand\":[\"Sheraton\"],\"proptype\":[\"hotels\"],\"loctype\":[\"lodging\"],\"platform\":[\"desktop\"],\"geo\":[\"189158\"],\"pv_id\":[\"YHnSSAokJIAAAjffRKsAAAFk\"],\"price\":[\"midlevel\"],\"PageType\":[\"Hotel_Review\"],\"brand\":[\"Marriott_International_Inc_\"],\"hname\":[\"Sheraton_Lisboa_Hotel_Spa\"],\"drs\":[\"BRAND_37\",\"FL_73\",\"SALES_88\",\"P13N_91\",\"PRT_95\",\"SEARCH_48\",\"REVB_9\"],\"d\":[\"LIS\"],\"star\":[\"5\"],\"brandSafe\":[\"false\"],\"kw\":[\"Sheraton_Lisboa_Hotel_Spa\"],\"dregion\":[\"189158\"],\"o\":[\"LIS\"],\"airports\":[\"LIS\"],\"aud_id\":[\"15189\",\"17013\",\"16844\",\"16848\",\"15460\",\"17204\",\"15766\",\"15340\",\"17079\",\"16847\",\"16845\",\"15370\",\"15309\",\"15193\",\"16852\",\"16623\",\"16062\",\"16635\",\"15462\",\"15461\",\"15192\",\"15190\",\"15542\",\"15201\",\"17016\",\"15203\"],\"r\":[\"LISLIS\"],\"rd\":[\"com\"],\"oregion\":[\"189158\"],\"detail\":[\"229324\"],\"region\":[\"3874225\",\"3932272\"]},      adStubs: {\"adTypes\":[{\"tgt\":\"gpt-ad-3x1-globalnav\",\"size\":[[3,1]],\"type\":\"other\",\"isHidden\":true,\"base\":\"/5349/ta.ta.it.s/eu.portugal.lisbon\",\"custom_targeting\":{\"pos\":[\"globalnav\"],\"kw\":\"lure\",\"disable_event_refresh\":true}},{\"tgt\":\"gpt-ad-3x1-tripsearch\",\"size\":[[3,1]],\"type\":\"other\",\"isHidden\":true,\"base\":\"/5349/ta.ta.it.s/eu.portugal.lisbon\",\"custom_targeting\":{\"pos\":[\"tripsearch\"],\"kw\":\"lure\",\"disable_event_refresh\":true}},{\"tgt\":\"gpt-ad-3x1-quicklinks\",\"size\":[[3,1]],\"type\":\"other\",\"isHidden\":true,\"base\":\"/5349/ta.ta.it.s/eu.portugal.lisbon\",\"custom_targeting\":{\"pos\":[\"quicklinks\"],\"kw\":\"lure\",\"disable_event_refresh\":true}},{\"tgt\":\"gpt-ad-300x250\",\"size\":[[300,250],\"fluid\"],\"amazon_prebid\":true,\"type\":\"medium_rectangle_top\",\"rubicon_prebid\":true,\"base\":\"/5349/ta.ta.it.s/eu.portugal.lisbon\",\"custom_targeting\":{\"pos\":[\"top\"],\"fluidType\":\"shortRail\"}},{\"tgt\":\"gpt-ad-728x90-970x66-header\",\"size\":[[728,90],[970,66],\"fluid\"],\"amazon_prebid\":true,\"type\":\"leaderboard_header\",\"rubicon_prebid\":true,\"base\":\"/5349/ta.ta.it.s/eu.portugal.lisbon\",\"custom_targeting\":{\"pos\":[\"header\"],\"fluidType\":\"banner\"}},{\"tgt\":\"gpt-ad-300x250-300x600-a\",\"size\":[[300,250],[300,600],\"fluid\"],\"amazon_prebid\":true,\"type\":\"medium_rectangle_a\",\"rubicon_prebid\":true,\"base\":\"/5349/ta.ta.it.s/eu.portugal.lisbon\",\"custom_targeting\":{\"pos\":[\"a\"],\"fluidType\":\"rail\"}},{\"tgt\":\"gpt-ad-300x250-300x600-b\",\"size\":[[300,250],[300,600],\"fluid\"],\"amazon_prebid\":true,\"type\":\"medium_rectangle_b\",\"rubicon_prebid\":true,\"base\":\"/5349/ta.ta.it.s/eu.portugal.lisbon\",\"custom_targeting\":{\"pos\":[\"b\"],\"fluidType\":\"rail\"}},{\"tgt\":\"gpt-ad-970x250-728x90-footer\",\"size\":[[970,250],[728,90],\"fluid\"],\"amazon_prebid\":true,\"type\":\"leaderboard_footer\",\"rubicon_prebid\":true,\"base\":\"/5349/ta.ta.it.s/eu.portugal.lisbon\",\"custom_targeting\":{\"pos\":[\"footer\"],\"fluidType\":\"banner\"}}]}};      function getFirstAdTop() {try {if (document.querySelector('div[data-component^=\"@ta/taps.horizon-ad\"]') ||!initOpts.gptConfig.enable_deferred_ads) {return 0;}var firstAd;var ads = [].slice.call(document.querySelectorAll('.gptAd, .gptAdVisibleAfterLoad')).filter(function(ad) { return !!ad.offsetParent; });if(ads.length && ads[0].getBoundingClientRect) {return ads.reduce(function(min, el){ return Math.min(min, el.getBoundingClientRect().top);}, Infinity);}} catch(e) {return 0;}}var FIRST_AD_TOP = getFirstAdTop();var initHasRun = false;var apiTrigger = window.innerHeight;function initAtFirstAd(){if (window.pageYOffset > FIRST_AD_TOP - apiTrigger) {window.removeEventListener('scroll', initAtFirstAd);if (!initHasRun) {initHasRun = true;require(['@ta/platform.runtime', 'trjs!cpm/Desktop'], function(runtime, desktopAds) {runtime.importBundle('@ta/platform.consent').then(function (bundle) {bundle.requestConsent(bundle.CategoriesEnum.ADVERTISING, function() {desktopAds.initDoubleClick(initOpts); });});});}}}initAtFirstAd();window.addEventListener('scroll', initAtFirstAd);});\n"
     ]
    }
   ],
   "source": [
    "# print website text\n",
    "print(soup.get_text())"
   ]
  },
  {
   "cell_type": "code",
   "execution_count": 22,
   "metadata": {},
   "outputs": [
    {
     "output_type": "execute_result",
     "data": {
      "text/plain": [
       "<title>SHERATON LISBOA HOTEL &amp; SPA $154 ($̶1̶6̶4̶) - Updated 2021 Prices &amp;  Reviews - Lisbon, Portugal - Tripadvisor</title>"
      ]
     },
     "metadata": {},
     "execution_count": 22
    }
   ],
   "source": [
    "# See title\n",
    "soup.title"
   ]
  },
  {
   "cell_type": "code",
   "execution_count": 23,
   "metadata": {},
   "outputs": [
    {
     "output_type": "execute_result",
     "data": {
      "text/plain": [
       "'SHERATON LISBOA HOTEL & SPA $154 ($̶1̶6̶4̶) - Updated 2021 Prices &  Reviews - Lisbon, Portugal - Tripadvisor'"
      ]
     },
     "metadata": {},
     "execution_count": 23
    }
   ],
   "source": [
    "# See title text\n",
    "soup.title.get_text()"
   ]
  },
  {
   "cell_type": "code",
   "execution_count": 31,
   "metadata": {},
   "outputs": [
    {
     "output_type": "stream",
     "name": "stdout",
     "text": [
      "<img alt=\"\" class=\"_3KekrTaj\" src=\"https://static.tacdn.com/img2/x.gif?&amp;ads=1&amp;adsize=2&amp;ad_slot=3&amp;rnd=YHnSSAokJIAAAjffRKsAAAFk\"/>\n"
     ]
    }
   ],
   "source": [
    "# Get images from the site\n",
    "imgs = soup.find_all(\"img\")\n",
    "\n",
    "print(imgs[1])"
   ]
  },
  {
   "cell_type": "code",
   "execution_count": 26,
   "metadata": {},
   "outputs": [
    {
     "output_type": "execute_result",
     "data": {
      "text/plain": [
       "[<span class=\"_33O9dg0j\">2,602 reviews</span>]"
      ]
     },
     "metadata": {},
     "execution_count": 26
    }
   ],
   "source": [
    "# Get the reviews from the hotel\n",
    "spamclass = \"_33O9dg0j\"\n",
    "\n",
    "soup.find_all(\"span\",{\"class\": spamclass})"
   ]
  },
  {
   "cell_type": "code",
   "execution_count": 28,
   "metadata": {},
   "outputs": [],
   "source": [
    "# Getting only the text off the review\n",
    "nreview = soup.find_all(\"span\",{\"class\": spamclass})[0].get_text()"
   ]
  },
  {
   "cell_type": "code",
   "execution_count": 29,
   "metadata": {},
   "outputs": [
    {
     "output_type": "execute_result",
     "data": {
      "text/plain": [
       "'2,602 reviews'"
      ]
     },
     "metadata": {},
     "execution_count": 29
    }
   ],
   "source": [
    "nreview"
   ]
  },
  {
   "cell_type": "code",
   "execution_count": 30,
   "metadata": {},
   "outputs": [
    {
     "output_type": "execute_result",
     "data": {
      "text/plain": [
       "2602"
      ]
     },
     "metadata": {},
     "execution_count": 30
    }
   ],
   "source": [
    "nreview = int(\"\".join(filter(str.isdigit,nreview)))\n",
    "\n",
    "nreview"
   ]
  },
  {
   "cell_type": "code",
   "execution_count": 32,
   "metadata": {},
   "outputs": [
    {
     "output_type": "execute_result",
     "data": {
      "text/plain": [
       "[<span class=\"ui_bubble_rating bubble_45\"></span>,\n",
       " <span class=\"ui_bubble_rating bubble_45\"></span>,\n",
       " <span class=\"ui_bubble_rating bubble_40\"></span>,\n",
       " <span class=\"ui_bubble_rating bubble_45\"></span>,\n",
       " <span class=\"ui_bubble_rating bubble_45\"></span>,\n",
       " <span class=\"ui_bubble_rating bubble_40\"></span>,\n",
       " <span class=\"ui_bubble_rating bubble_50\"></span>,\n",
       " <span class=\"ui_bubble_rating bubble_45\"></span>,\n",
       " <span class=\"ui_bubble_rating bubble_45\"></span>,\n",
       " <span class=\"ui_bubble_rating bubble_45\"></span>,\n",
       " <span class=\"ui_bubble_rating bubble_50\"></span>,\n",
       " <span class=\"ui_bubble_rating bubble_45\"></span>,\n",
       " <span class=\"ui_bubble_rating bubble_40\"></span>,\n",
       " <span class=\"ui_bubble_rating bubble_40\"></span>,\n",
       " <span class=\"ui_bubble_rating bubble_50\"></span>,\n",
       " <span class=\"ui_bubble_rating bubble_50\"></span>,\n",
       " <span class=\"ui_bubble_rating bubble_50\"></span>,\n",
       " <span class=\"ui_bubble_rating bubble_50\"></span>,\n",
       " <span class=\"ui_bubble_rating bubble_40\"></span>,\n",
       " <span class=\"ui_bubble_rating bubble_50\"></span>,\n",
       " <span class=\"ui_bubble_rating bubble_50\"></span>,\n",
       " <span class=\"ui_bubble_rating bubble_40\"></span>,\n",
       " <span class=\"ui_bubble_rating bubble_50\"></span>,\n",
       " <span class=\"ui_bubble_rating bubble_50\"></span>,\n",
       " <span class=\"ui_bubble_rating bubble_50\"></span>]"
      ]
     },
     "metadata": {},
     "execution_count": 32
    }
   ],
   "source": [
    "# Collect Hotel rating\n",
    "ratings = soup.select(\"span[class*=ui_bubble_rating]\")\n",
    "\n",
    "ratings"
   ]
  },
  {
   "cell_type": "code",
   "execution_count": 33,
   "metadata": {},
   "outputs": [
    {
     "output_type": "execute_result",
     "data": {
      "text/plain": [
       "[<a class=\"_15eFvJyR _3nlVsadw\" href=\"#REVIEWS\"><span class=\"ui_bubble_rating bubble_45\"></span><span class=\"_33O9dg0j\">2,602 reviews</span></a>,\n",
       " <a class=\"_1dCQBg5N\" href=\"#REVIEWS\"><div class=\"_2-OvcgvB\">Excellent</div><span class=\"ui_bubble_rating bubble_45\"></span><span class=\"_3jEYFo-z\">2,602 reviews</span></a>]"
      ]
     },
     "metadata": {},
     "execution_count": 33
    }
   ],
   "source": [
    "# Get the first Hotel rating\n",
    "hotel_rating = soup.find_all(\"a\",{\"href\":\"#REVIEWS\"})\n",
    "\n",
    "hotel_rating"
   ]
  },
  {
   "cell_type": "code",
   "execution_count": 43,
   "metadata": {},
   "outputs": [
    {
     "output_type": "execute_result",
     "data": {
      "text/plain": [
       "[<span class=\"ui_bubble_rating bubble_45\"></span>]"
      ]
     },
     "metadata": {},
     "execution_count": 43
    }
   ],
   "source": [
    "bubble_r = hotel_rating[0].select(\"span[class*=ui_bubble_rating]\")\n",
    "\n",
    "bubble_r"
   ]
  },
  {
   "cell_type": "code",
   "execution_count": 44,
   "metadata": {},
   "outputs": [
    {
     "output_type": "execute_result",
     "data": {
      "text/plain": [
       "['ui_bubble_rating', 'bubble_45']"
      ]
     },
     "metadata": {},
     "execution_count": 44
    }
   ],
   "source": [
    "bubble_r = bubble_r[0][\"class\"]\n",
    "\n",
    "bubble_r"
   ]
  },
  {
   "cell_type": "code",
   "execution_count": 45,
   "metadata": {},
   "outputs": [
    {
     "output_type": "execute_result",
     "data": {
      "text/plain": [
       "4.5"
      ]
     },
     "metadata": {},
     "execution_count": 45
    }
   ],
   "source": [
    "bubble_r = bubble_r[1]\n",
    "bubble_r = int(\"\".join(filter(str.isdigit,bubble_r)))\n",
    "bubble_r"
   ]
  },
  {
   "cell_type": "code",
   "execution_count": 47,
   "metadata": {},
   "outputs": [
    {
     "output_type": "execute_result",
     "data": {
      "text/plain": [
       "4.5"
      ]
     },
     "metadata": {},
     "execution_count": 47
    }
   ],
   "source": [
    "officialRating = bubble_r/10\n",
    "officialRating"
   ]
  },
  {
   "cell_type": "code",
   "execution_count": 48,
   "metadata": {},
   "outputs": [
    {
     "output_type": "execute_result",
     "data": {
      "text/plain": [
       "all H5_EAgqY\">business district</button><button class=\"ui_button secondary small H5_EAgqY\">modern rooms</button><button class=\"ui_button secondary small H5_EAgqY\">water pressure</button><button class=\"ui_button secondary small H5_EAgqY\">downtown lisbon</button><button class=\"ui_button secondary small H5_EAgqY\">metro station</button><button class=\"ui_button secondary small H5_EAgqY\">pastries</button><button class=\"ui_button secondary small H5_EAgqY\">spg</button><button class=\"ui_button secondary small H5_EAgqY\">concierge</button><button class=\"ui_button secondary small H5_EAgqY\">blinds</button><button class=\"ui_button secondary small H5_EAgqY\">euro</button><button class=\"ui_button secondary small H5_EAgqY\">privacy</button><button class=\"ui_button secondary small H5_EAgqY\">taxis</button><button class=\"ui_button secondary small H5_EAgqY\">portugal</button><button class=\"ui_button secondary small H5_EAgqY\">uber</button><button class=\"ui_button secondary small H5_EAgqY\">porto</button></div></div></div></div><div class=\"ZxKlH_WX\"><span class=\"ui_icon search wF-i9JOp\"></span><input autocomplete=\"on\" class=\"Smftgery qKwANxKk _2JD6LoZg\" placeholder=\"Search reviews\" type=\"text\" value=\"\"/></div><div class=\"_2wrUUKlw _3hFEdNs8\" data-test-target=\"HR_CC_CARD\"><div class=\"_310S4sqz\"><a class=\"_3x5_awTA ui_social_avatar inline\" href=\"/Profile/luxatravelmood\" target=\"_self\"><img alt=\"\"/></a><div class=\"_2uYWQXeO\"><div class=\"_3TMaHs5O\"><div class=\"overflow\"><span class=\"_3-zQ1eyd _3LR9XvrV\"><svg class=\"_3nS1tofR iG08Yf8B\" height=\"1em\" viewbox=\"0 0 24 24\" width=\"1em\" x=\"0\" y=\"0\"><circle cx=\"4.5\" cy=\"11.9\" r=\"2.5\"></circle><circle cx=\"19.5\" cy=\"11.9\" r=\"2.5\"></circle><circle cx=\"12\" cy=\"11.9\" r=\"2.5\"></circle></svg></span></div><span class=\"_3V8URHDq\"></span></div><div class=\"_2fxQ4TOx\"><span><a class=\"ui_header_link _1r_My98y\" href=\"/Profile/luxatravelmood\">Travel.mood</a> wrote a review Apr 9</span></div><div class=\"_1EpRX7o3\"><span class=\"_1TuWwpYf\"><span class=\"default _3J15flPT small\"><span class=\"ui_icon map-pin-fill _2kj8kWkW\"></span>Panama City, Panama</span></span><span class=\"_3fPsSAYi\"><span><span class=\"_1fk70GUn\">16</span> contributions</span></span><span class=\"_3fPsSAYi\"><span><span class=\"_1fk70GUn\">2</span> helpful votes</span></span></div></div></div><div class=\"_2ORvxE3b\"><div class=\"_2K3Kg4pa _1U_kQ13c\"><div class=\"ZVAUHZqh\" style=\"background-size:cover;height:128px;width:100%;background-image:none\"></div></div></div><div class=\"oETBfkHU\" data-reviewid=\"786205321\"><div class=\"_2UEC-y30\"><div class=\"nf9vGX55\" data-test-target=\"review-rating\"><span class=\"ui_bubble_rating bubble_50\"></span></div></div><div class=\"glasR4aX\" data-test-target=\"review-title\" dir=\"ltr\"><a class=\"ocfR3SKN\" href=\"/ShowUserReviews-g189158-d229324-r786205321-Sheraton_Lisboa_Hotel_Spa-Lisbon_Lisbon_District_Central_Portugal.html\"><span><span>Excellent service</span></span></a></div><div class=\"_3hDPbqWO\"><div class=\"_2f_ruteS _1bona3Pu _2uD5bLZZ\"><div class=\"cPQsENeY\" style=\"max-height:160px;line-break:normal;cursor:auto\"><q class=\"IRsGHoPm\"><span>The team at sheraton hotel is outstanding! The lady’s who checked me in were super friendly:) thank you for the upgrade to an amazing city view! They provide me everything I need and anticipated my needs: from gym features, luggage assistant, always replacing my waters even if I didn’t requested service.  Thank you!!!! Keep rocking sheraton tem! Duarte was super helpful on getting more weights to my room so I could keep up with my workouts. </span></q></div><div class=\"_36B4Vw6t\"><div class=\"XUVJZtom\" data-test-target=\"expand-review\"><span class=\"_3maEfNCR\">Read more</span><span class=\"ui_icon caret-down _3aUwQbpX\"></span></div></div></div><div class=\"_1O8E5N17\"><span class=\"_34Xs-BQm\"><span class=\"_355y0nZn\">Date of stay:</span> April 2021</span><span class=\"_1xJceS3A\"><span class=\"_2bVY3aT5\"><span class=\"trip_type_label\">Trip type: </span>Traveled solo</span></span></div><div class=\"_3d_mZXGr\"><span class=\"_3UnecFwl\"></span><div class=\"_3SZRHJHk\"><span class=\"_2lqOQqh3\"><span class=\"ui_icon thumbs-up Ak8Bi3Zf\"></span><span class=\"ui_link _1Dl3N9MC\">Helpful</span></span><span class=\"_331VZDkq\"><div><span><div class=\"_1k12Q93K _1k54sSqX\"><span><span class=\"ui_icon share _3g9oGli4\"></span><span class=\"ui_link _3p1vOjv8 socialCTA\">Share<!-- --> </span></span></div></span></div></span></div></div></div></div></div><div class=\"_2wrUUKlw _3hFEdNs8\" data-test-target=\"HR_CC_CARD\"><div class=\"_310S4sqz\"><a class=\"_3x5_awTA ui_social_avatar inline\" href=\"/Profile/M3493CJpeterr\" target=\"_self\"><img alt=\"\"/></a><div class=\"_2uYWQXeO\"><div class=\"_3TMaHs5O\"><div class=\"overflow\"><span class=\"_3-zQ1eyd _3LR9XvrV\"><svg class=\"_3nS1tofR iG08Yf8B\" height=\"1em\" viewbox=\"0 0 24 24\" width=\"1em\" x=\"0\" y=\"0\"><circle cx=\"4.5\" cy=\"11.9\" r=\"2.5\"></circle><circle cx=\"19.5\" cy=\"11.9\" r=\"2.5\"></circle><circle cx=\"12\" cy=\"11.9\" r=\"2.5\"></circle></svg></span></div><span class=\"_3V8URHDq\"></span></div><div class=\"_2fxQ4TOx\"><span><a class=\"ui_header_link _1r_My98y\" href=\"/Profile/M3493CJpeterr\">Peter R</a> wrote a review Dec 2020</span></div><div class=\"_1EpRX7o3\"><span class=\"_1TuWwpYf\"><span class=\"default _3J15flPT small\"><span class=\"ui_icon map-pin-fill _2kj8kWkW\"></span>Michigan City, Indiana</span></span><span class=\"_3fPsSAYi\"><span><span class=\"_1fk70GUn\">2</span> contributions</span></span></div></div></div><div class=\"oETBfkHU\" data-reviewid=\"779913987\"><div class=\"_2UEC-y30\"><div class=\"nf9vGX55\" data-test-target=\"review-rating\"><span class=\"ui_bubble_rating bubble_50\"></span></div></div><div class=\"glasR4aX\" data-test-target=\"review-title\" dir=\"ltr\"><a class=\"ocfR3SKN\" href=\"/ShowUserReviews-g189158-d229324-r779913987-Sheraton_Lisboa_Hotel_Spa-Lisbon_Lisbon_District_Central_Portugal.html\"><span><span>Fabolous Hotel in Lisbon</span></span></a></div><div class=\"_3hDPbqWO\"><div class=\"_2f_ruteS _1bona3Pu _2uD5bLZZ\"><div class=\"cPQsENeY\" style=\"max-height:160px;line-break:normal;cursor:auto\"><q class=\"IRsGHoPm\"><span>Simply fabulous - This hotel is great. The service was terrific and is centrally located to everything. Yes, this hotel is upscale but the service and staff were awesome. I couldn't wait to get back to my room to lie on my bed, it is that comfortable.</span></q></div><div class=\"_36B4Vw6t\"><div class=\"XUVJZtom\" data-test-target=\"expand-review\"><span class=\"_3maEfNCR\">Read more</span><span class=\"ui_icon caret-down _3aUwQbpX\"></span></div></div></div><div class=\"_1O8E5N17\"><span class=\"_34Xs-BQm\"><span class=\"_355y0nZn\">Date of stay:</span> December 2020</span><span class=\"_1xJceS3A\"><div class=\"_1HQD2bGG\"><div class=\"_3ErKuh24 _1OrVnQ-J\"><span class=\"_3-8hSrXs\"><span class=\"ui_bubble_rating bubble_50\"></span></span><span>Location</span></div><div class=\"_3ErKuh24 _1OrVnQ-J\"><span class=\"_3-8hSrXs\"><span class=\"ui_bubble_rating bubble_50\"></span></span><span>Service</span></div><div class=\"_3ErKuh24 _1OrVnQ-J\"><span class=\"_3-8hSrXs\"><span class=\"ui_bubble_rating bubble_40\"></span></span><span>Sleep Quality</span></div></div></span></div><div class=\"_3d_mZXGr\"><span class=\"_3UnecFwl\"></span><div class=\"_3SZRHJHk\"><span class=\"_2lqOQqh3\"><span class=\"ui_icon thumbs-up Ak8Bi3Zf\"></span><span class=\"ui_link _1Dl3N9MC\">Helpful</span></span><span class=\"_331VZDkq\"><div><span><div class=\"_1k12Q93K _1k54sSqX\"><span><span class=\"ui_icon share _3g9oGli4\"></span><span class=\"ui_link _3p1vOjv8 socialCTA\">Share<!-- --> </span></span></div></span></div></span></div></div></div></div></div><div class=\"_2wrUUKlw _3hFEdNs8\" data-test-target=\"HR_CC_CARD\"><div class=\"_310S4sqz\"><a class=\"_3x5_awTA ui_social_avatar inline\" href=\"/Profile/1alwaystraveling\" target=\"_self\"><img alt=\"\"/></a><div class=\"_2uYWQXeO\"><div class=\"_3TMaHs5O\"><div class=\"overflow\"><span class=\"_3-zQ1eyd _3LR9XvrV\"><svg class=\"_3nS1tofR iG08Yf8B\" height=\"1em\" viewbox=\"0 0 24 24\" width=\"1em\" x=\"0\" y=\"0\"><circle cx=\"4.5\" cy=\"11.9\" r=\"2.5\"></circle><circle cx=\"19.5\" cy=\"11.9\" r=\"2.5\"></circle><circle cx=\"12\" cy=\"11.9\" r=\"2.5\"></circle></svg></span></div><span class=\"_3V8URHDq\"></span></div><div class=\"_2fxQ4TOx\"><span><a class=\"ui_header_link _1r_My98y\" href=\"/Profile/1alwaystraveling\">1alwaystraveling</a> wrote a review Dec 2020</span></div><div class=\"_1EpRX7o3\"><span class=\"_1TuWwpYf\"><span class=\"default _3J15flPT small\"><span class=\"ui_icon map-pin-fill _2kj8kWkW\"></span>Richmond, Virginia</span></span><span class=\"_3fPsSAYi\"><span><span class=\"_1fk70GUn\">500</span> contributions</span></span><span class=\"_3fPsSAYi\"><span><span class=\"_1fk70GUn\">183</span> helpful votes</span></span></div></div></div><div class=\"oETBfkHU\" data-reviewid=\"778395637\"><div class=\"_2UEC-y30\"><div class=\"nf9vGX55\" data-test-target=\"review-rating\"><span class=\"ui_bubble_rating bubble_50\"></span></div></div><div class=\"glasR4aX\" data-test-target=\"review-title\" dir=\"ltr\"><a class=\"ocfR3SKN\" href=\"/ShowUserReviews-g189158-d229324-r778395637-Sheraton_Lisboa_Hotel_Spa-Lisbon_Lisbon_District_Central_Portugal.html\"><span><span>Absolutely exceptional service and a modernized resort in the middle of the city!</span></span></a></div><div class=\"_3hDPbqWO\"><div class=\"_2f_ruteS _1bona3Pu _2uD5bLZZ\"><div class=\"cPQsENeY\" style=\"max-height:160px;line-break:normal;cursor:auto\"><q class=\"IRsGHoPm\"><span>Let me start by saying this property is heads and toes above anything in the area for price, and the customer service is through the roof. From the front desk person, Armando whom provided top notch service, to the cleaning staff that were thorough and diligent. The restaurant was doubling as the club lounge and the food was excellent, to include the breakfasts daily. The entire staff social distances and the hotel policies are well thought out for your safety and the staff. Though you do miss seeing your favorite staff as they are rotating them due to circumstances, but not once was an interaction subpar. Just a wonderful property, mere blocks away from Freedom Park and the main shopping strip, and across the street from a nice, quaint mall. Cannot say enough about the well run</span><span class=\"_1M-1YYJt\"> place and friendly staff. I stayed for over three weeks and not one day did I dread going “home” to the place, but enjoyed every day. </span><span>…</span></q></div><div class=\"_36B4Vw6t\"><div class=\"XUVJZtom\" data-test-target=\"expand-review\"><span class=\"_3maEfNCR\">Read more</span><span class=\"ui_icon caret-down _3aUwQbpX\"></span></div></div></div><div class=\"_1O8E5N17\"><span class=\"_34Xs-BQm\"><span class=\"_355y0nZn\">Date of stay:</span> November 2020</span><span class=\"_1xJceS3A\"><span class=\"_2bVY3aT5\"><span class=\"trip_type_label\">Trip type: </span>Traveled on business</span></span></div><div class=\"_3d_mZXGr\"><span class=\"_3UnecFwl kJ7oOBi9\"><span class=\"_3kbymg8R _2o1bmw1O\">2 Helpful votes</span></span><div class=\"_3SZRHJHk\"><span class=\"_2lqOQqh3\"><span class=\"ui_icon thumbs-up Ak8Bi3Zf\"></span><span class=\"ui_link _1Dl3N9MC\">Helpful</span></span><span class=\"_331VZDkq\"><div><span><div class=\"_1k12Q93K _1k54sSqX\"><span><span class=\"ui_icon share _3g9oGli4\"></span><span class=\"ui_link _3p1vOjv8 socialCTA\">Share<!-- --> </span></span></div></span></div></span></div></div></div></div></div><div class=\"_2wrUUKlw _3hFEdNs8\" data-test-target=\"HR_CC_CARD\"><div class=\"_310S4sqz\"><a class=\"_3x5_awTA ui_social_avatar inline\" href=\"/Profile/tbonaccinj\" target=\"_self\"><img alt=\"\"/></a><div class=\"_2uYWQXeO\"><div class=\"_3TMaHs5O\"><div class=\"overflow\"><span class=\"_3-zQ1eyd _3LR9XvrV\"><svg class=\"_3nS1tofR iG08Yf8B\" height=\"1em\" viewbox=\"0 0 24 24\" width=\"1em\" x=\"0\" y=\"0\"><circle cx=\"4.5\" cy=\"11.9\" r=\"2.5\"></circle><circle cx=\"19.5\" cy=\"11.9\" r=\"2.5\"></circle><circle cx=\"12\" cy=\"11.9\" r=\"2.5\"></circle></svg></span></div><span class=\"_3V8URHDq\"></span></div><div class=\"_2fxQ4TOx\"><span><a class=\"ui_header_link _1r_My98y\" href=\"/Profile/tbonaccinj\">tbonaccinj</a> wrote a review Nov 2020</span></div><div class=\"_1EpRX7o3\"><span class=\"_3fPsSAYi\"><span><span class=\"_1fk70GUn\">29</span> contributions</span></span></div></div></div><div class=\"oETBfkHU\" data-reviewid=\"778147431\"><div class=\"_2UEC-y30\"><div class=\"nf9vGX55\" data-test-target=\"review-rating\"><span class=\"ui_bubble_rating bubble_50\"></span></div></div><div class=\"glasR4aX\" data-test-target=\"review-title\" dir=\"ltr\"><a class=\"ocfR3SKN\" href=\"/ShowUserReviews-g189158-d229324-r778147431-Sheraton_Lisboa_Hotel_Spa-Lisbon_Lisbon_District_Central_Portugal.html\"><span><span>Excellent Stay</span></span></a></div><div class=\"_3hDPbqWO\"><div class=\"_2f_ruteS _1bona3Pu _2uD5bLZZ\"><div class=\"cPQsENeY\" style=\"max-height:160px;line-break:normal;cursor:auto\"><q class=\"IRsGHoPm\"><span>I don’t usually write reviews, but I felt compelled to write a review in view of the hospitality I received during my recent stay at the Sheraton Lisboa Hotel and Spa, in particular because of the efforts of the Front Office Assistant Manager, Mr. César Melgás.  Even before I had made a reservation, he replied to my emails in a timely manner and with professionalism, making sure that my questions and concerns were all addressed.  The hotel takes all the necessary precautions to maximize your safety during these trying times of COVID.  Thank you Mr. Melgás for making this a memorable stay and I will be looking forward to future visits.</span></q></div><div class=\"_36B4Vw6t\"><div class=\"XUVJZtom\" data-test-target=\"expand-review\"><span class=\"_3maEfNCR\">Read more</span><span class=\"ui_icon caret-down _3aUwQbpX\"></span></div></div></div><div class=\"_1O8E5N17\"><span class=\"_34Xs-BQm\"><span class=\"_355y0nZn\">Date of stay:</span> September 2020</span><span class=\"_1xJceS3A\"><div class=\"_1HQD2bGG\"><div class=\"_3ErKuh24 _1OrVnQ-J\"><span class=\"_3-8hSrXs\"><span class=\"ui_bubble_rating bubble_40\"></span></span><span>Rooms</span></div><div class=\"_3ErKuh24 _1OrVnQ-J\"><span class=\"_3-8hSrXs\"><span class=\"ui_bubble_rating bubble_50\"></span></span><span>Cleanliness</span></div><div class=\"_3ErKuh24 _1OrVnQ-J\"><span class=\"_3-8hSrXs\"><span class=\"ui_bubble_rating bubble_50\"></span></span><span>Service</span></div></div></span></div><div class=\"_3d_mZXGr\"><span class=\"_3UnecFwl\"></span><div class=\"_3SZRHJHk\"><span class=\"_2lqOQqh3\"><span class=\"ui_icon thumbs-up Ak8Bi3Zf\"></span><span class=\"ui_link _1Dl3N9MC\">Helpful</span></span><span class=\"_331VZDkq\"><div><span><div class=\"_1k12Q93K _1k54sSqX\"><span><span class=\"ui_icon share _3g9oGli4\"></span><span class=\"ui_link _3p1vOjv8 socialCTA\">Share<!-- --> </span></span></div></span></div></span></div></div></div></div></div><div class=\"_2wrUUKlw _3hFEdNs8\" data-test-target=\"HR_CC_CARD\"><div class=\"_310S4sqz\"><a class=\"_3x5_awTA ui_social_avatar inline\" href=\"/Profile/JakobZH79\" target=\"_self\"><img alt=\"\"/></a><div class=\"_2uYWQXeO\"><div class=\"_3TMaHs5O\"><div class=\"overflow\"><span class=\"_3-zQ1eyd _3LR9XvrV\"><svg class=\"_3nS1tofR iG08Yf8B\" height=\"1em\" viewbox=\"0 0 24 24\" width=\"1em\" x=\"0\" y=\"0\"><circle cx=\"4.5\" cy=\"11.9\" r=\"2.5\"></circle><circle cx=\"19.5\" cy=\"11.9\" r=\"2.5\"></circle><circle cx=\"12\" cy=\"11.9\" r=\"2.5\"></circle></svg></span></div><span class=\"_3V8URHDq\"></span></div><div class=\"_2fxQ4TOx\"><span><a class=\"ui_header_link _1r_My98y\" href=\"/Profile/JakobZH79\">JakobZH79</a> wrote a review Nov 2020</span></div><div class=\"_1EpRX7o3\"><span class=\"_1TuWwpYf\"><span class=\"default _3J15flPT small\"><span class=\"ui_icon map-pin-fill _2kj8kWkW\"></span>Zurich, Switzerland</span></span><span class=\"_3fPsSAYi\"><span><span class=\"_1fk70GUn\">10</span> contributions</span></span><span class=\"_3fPsSAYi\"><span><span class=\"_1fk70GUn\">12</span> helpful votes</span></span></div></div></div><div class=\"oETBfkHU\" data-reviewid=\"778064087\"><div class=\"_2UEC-y30\"><div class=\"nf9vGX55\" data-test-target=\"review-rating\"><span class=\"ui_bubble_rating bubble_50\"></span></div></div><div class=\"glasR4aX\" data-test-target=\"review-title\" dir=\"ltr\"><a class=\"ocfR3SKN\" href=\"/ShowUserReviews-g189158-d229324-r778064087-Sheraton_Lisboa_Hotel_Spa-Lisbon_Lisbon_District_Central_Portugal.html\"><span><span>Fabulous staff and service</span></span></a></div><div class=\"_3hDPbqWO\"><div class=\"_2f_ruteS _1bona3Pu _2uD5bLZZ\"><div class=\"cPQsENeY\" style=\"max-height:160px;line-break:normal;cursor:auto\"><q class=\"IRsGHoPm\"><span>In what was my second visit to the Sheraton Lisboa, I left full of praise for literally everyone at the property for their warm welcome, hospitality, flexibility and efforts to make my stay a memorable one, in particular considering the current circumstances with restrictions and weekend curfews impacting the city. I extend a special word of appreciation for all the friendly conversations I could share with everyone at the property during my short 2 night stay (apologies in advance for any approximate spellings): Duty manager Claudia, and Ines and Alexandre at the FO, the entire Lobby F&amp;B team, including Catarina, Irina, Tayna as well as Marlen and Sara at breakfast service. Last but not least, a warm thank you to Carina at the Spa as well. Everyone goes the extra mile and</span><span class=\"_1M-1YYJt\"> strikes an exemplary balance between the professionalism I expect at a Sheraton hotel, and genuine informal engagement with guests. These are not the times to point out any shortcomings of the property itself, as excellent guest service is clearly on top of the property’s agenda. The hotel has found well working solutions to offer most of their facilities to guest while at the same time strictly adhering to restrictions and safety measures, well done! Finally, Marriott Bonvoy loyalty benefits exceeded all my expectations (thanks, Claudia!), and I will be looking much forward to a future visit. Many thanks again to everyone!</span><span>…</span></q></div><div class=\"_36B4Vw6t\"><div class=\"XUVJZtom\" data-test-target=\"expand-review\"><span class=\"_3maEfNCR\">Read more</span><span class=\"ui_icon caret-down _3aUwQbpX\"></span></div></div></div><div class=\"_1O8E5N17\"><span class=\"_34Xs-BQm\"><span class=\"_355y0nZn\">Date of stay:</span> November 2020</span><span class=\"_1xJceS3A\"><span class=\"_2bVY3aT5\"><span class=\"trip_type_label\">Trip type: </span>Traveled solo</span></span></div><div class=\"_3d_mZXGr\"><span class=\"_3UnecFwl kJ7oOBi9\"><span class=\"_3kbymg8R _2o1bmw1O\">1 Helpful vote</span></span><div class=\"_3SZRHJHk\"><span class=\"_2lqOQqh3\"><span class=\"ui_icon thumbs-up Ak8Bi3Zf\"></span><span class=\"ui_link _1Dl3N9MC\">Helpful</span></span><span class=\"_331VZDkq\"><div><span><div class=\"_1k12Q93K _1k54sSqX\"><span><span class=\"ui_icon share _3g9oGli4\"></span><span class=\"ui_link _3p1vOjv8 socialCTA\">Share<!-- --> </span></span></div></span></div></span></div></div></div></div></div><div class=\"_16gKMTFp\"><div class=\"ui_pagination is-centered\"><span class=\"ui_button nav previous secondary disabled\">Previous</span><a class=\"ui_button nav next primary\" href=\"/Hotel_Review-g189158-d229324-Reviews-or5-Sheraton_Lisboa_Hotel_Spa-Lisbon_Lisbon_District_Central_Portugal.html\">Next</a><div class=\"pageNumbers\"><span class=\"pageNum current disabled\">1</span><a class=\"pageNum\" href=\"/Hotel_Review-g189158-d229324-Reviews-or5-Sheraton_Lisboa_Hotel_Spa-Lisbon_Lisbon_District_Central_Portugal.html\">2</a><a class=\"pageNum\" href=\"/Hotel_Review-g189158-d229324-Reviews-or10-Sheraton_Lisboa_Hotel_Spa-Lisbon_Lisbon_District_Central_Portugal.html\">3</a><a class=\"pageNum\" href=\"/Hotel_Review-g189158-d229324-Reviews-or15-Sheraton_Lisboa_Hotel_Spa-Lisbon_Lisbon_District_Central_Portugal.html\">4</a><a class=\"pageNum\" href=\"/Hotel_Review-g189158-d229324-Reviews-or20-Sheraton_Lisboa_Hotel_Spa-Lisbon_Lisbon_District_Central_Portugal.html\">5</a><a class=\"pageNum\" href=\"/Hotel_Review-g189158-d229324-Reviews-or25-Sheraton_Lisboa_Hotel_Spa-Lisbon_Lisbon_District_Central_Portugal.html\">6</a><span class=\"separator\">…</span><a class=\"pageNum\" href=\"/Hotel_Review-g189158-d229324-Reviews-or1610-Sheraton_Lisboa_Hotel_Spa-Lisbon_Lisbon_District_Central_Portugal.html\">323</a></div></div></div></div>]"
      ]
     },
     "metadata": {},
     "execution_count": 48
    }
   ],
   "source": [
    "# Read all reviews\n",
    "\n",
    "reviews = soup.find_all(\"div\", {\"data-test-target\": \"reviews-tab\"})\n",
    "reviews"
   ]
  },
  {
   "cell_type": "code",
   "execution_count": 53,
   "metadata": {},
   "outputs": [
    {
     "output_type": "execute_result",
     "data": {
      "text/plain": [
       "5"
      ]
     },
     "metadata": {},
     "execution_count": 53
    }
   ],
   "source": [
    "# Create a reviews list\n",
    "\n",
    "reviewsList = reviews[0].select('div[class*=_3hFEdNs8]')\n",
    "len(reviewsList)"
   ]
  },
  {
   "cell_type": "code",
   "execution_count": 54,
   "metadata": {},
   "outputs": [
    {
     "output_type": "execute_result",
     "data": {
      "text/plain": [
       "'bubble_50'"
      ]
     },
     "metadata": {},
     "execution_count": 54
    }
   ],
   "source": [
    "# First review rating\n",
    "rrl = reviewsList[0].select(\"span[class*=ui_bubble_rating]\")[0][\"class\"][1]\n",
    "rrl"
   ]
  },
  {
   "cell_type": "code",
   "execution_count": 55,
   "metadata": {},
   "outputs": [
    {
     "output_type": "execute_result",
     "data": {
      "text/plain": [
       "5.0"
      ]
     },
     "metadata": {},
     "execution_count": 55
    }
   ],
   "source": [
    "reviewRating = int(\"\".join(filter(str.isdigit,rrl)))/10\n",
    "reviewRating"
   ]
  },
  {
   "cell_type": "code",
   "execution_count": 60,
   "metadata": {},
   "outputs": [
    {
     "output_type": "execute_result",
     "data": {
      "text/plain": [
       "'JakobZH79'"
      ]
     },
     "metadata": {},
     "execution_count": 60
    }
   ],
   "source": [
    "# Name of user of first review\n",
    "user = reviewsList[i].select(\"a[class*=ui_header_link]\")[0].get_text()\n",
    "user"
   ]
  },
  {
   "cell_type": "code",
   "execution_count": 61,
   "metadata": {},
   "outputs": [
    {
     "output_type": "stream",
     "name": "stdout",
     "text": [
      "Travel.mood 5.0 The team at sheraton hotel is outstanding! The lady’s who checked me in were super friendly:) thank you for the upgrade to an amazing city view! They provide me everything I need and anticipated my needs: from gym features, luggage assistant, always replacing my waters even if I didn’t requested service.  Thank you!!!! Keep rocking sheraton tem! Duarte was super helpful on getting more weights to my room so I could keep up with my workouts. \nPeter R 5.0 Simply fabulous - This hotel is great. The service was terrific and is centrally located to everything. Yes, this hotel is upscale but the service and staff were awesome. I couldn't wait to get back to my room to lie on my bed, it is that comfortable.\n1alwaystraveling 5.0 Let me start by saying this property is heads and toes above anything in the area for price, and the customer service is through the roof. From the front desk person, Armando whom provided top notch service, to the cleaning staff that were thorough and diligent. The restaurant was doubling as the club lounge and the food was excellent, to include the breakfasts daily. The entire staff social distances and the hotel policies are well thought out for your safety and the staff. Though you do miss seeing your favorite staff as they are rotating them due to circumstances, but not once was an interaction subpar. Just a wonderful property, mere blocks away from Freedom Park and the main shopping strip, and across the street from a nice, quaint mall. Cannot say enough about the well run place and friendly staff. I stayed for over three weeks and not one day did I dread going “home” to the place, but enjoyed every day. …\ntbonaccinj 5.0 I don’t usually write reviews, but I felt compelled to write a review in view of the hospitality I received during my recent stay at the Sheraton Lisboa Hotel and Spa, in particular because of the efforts of the Front Office Assistant Manager, Mr. César Melgás.  Even before I had made a reservation, he replied to my emails in a timely manner and with professionalism, making sure that my questions and concerns were all addressed.  The hotel takes all the necessary precautions to maximize your safety during these trying times of COVID.  Thank you Mr. Melgás for making this a memorable stay and I will be looking forward to future visits.\nJakobZH79 5.0 In what was my second visit to the Sheraton Lisboa, I left full of praise for literally everyone at the property for their warm welcome, hospitality, flexibility and efforts to make my stay a memorable one, in particular considering the current circumstances with restrictions and weekend curfews impacting the city. I extend a special word of appreciation for all the friendly conversations I could share with everyone at the property during my short 2 night stay (apologies in advance for any approximate spellings): Duty manager Claudia, and Ines and Alexandre at the FO, the entire Lobby F&B team, including Catarina, Irina, Tayna as well as Marlen and Sara at breakfast service. Last but not least, a warm thank you to Carina at the Spa as well. Everyone goes the extra mile and strikes an exemplary balance between the professionalism I expect at a Sheraton hotel, and genuine informal engagement with guests. These are not the times to point out any shortcomings of the property itself, as excellent guest service is clearly on top of the property’s agenda. The hotel has found well working solutions to offer most of their facilities to guest while at the same time strictly adhering to restrictions and safety measures, well done! Finally, Marriott Bonvoy loyalty benefits exceeded all my expectations (thanks, Claudia!), and I will be looking much forward to a future visit. Many thanks again to everyone!…\n"
     ]
    }
   ],
   "source": [
    "# Get all reviews content\n",
    "\n",
    "for i in range(0,len(reviewsList)):\n",
    "    # Rating\n",
    "    rrl = reviewsList[0].select(\"span[class*=ui_bubble_rating]\")[0][\"class\"][1]\n",
    "    reviewRating = int(\"\".join(filter(str.isdigit,rrl)))/10\n",
    "\n",
    "    # Get user name\n",
    "    user = reviewsList[i].select(\"a[class*=ui_header_link]\")[0].get_text()\n",
    "\n",
    "    # Review\n",
    "    text = reviewsList[i].select(\"q[class*=IRsGHoPm]\")[0].get_text()\n",
    "\n",
    "    print(user, reviewRating, text)"
   ]
  },
  {
   "cell_type": "code",
   "execution_count": null,
   "metadata": {},
   "outputs": [],
   "source": []
  }
 ]
}