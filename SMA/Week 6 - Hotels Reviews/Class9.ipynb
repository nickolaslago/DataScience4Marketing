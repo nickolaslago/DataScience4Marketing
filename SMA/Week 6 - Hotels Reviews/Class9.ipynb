{
 "metadata": {
  "language_info": {
   "codemirror_mode": {
    "name": "ipython",
    "version": 3
   },
   "file_extension": ".py",
   "mimetype": "text/x-python",
   "name": "python",
   "nbconvert_exporter": "python",
   "pygments_lexer": "ipython3",
   "version": "3.7.6"
  },
  "orig_nbformat": 2,
  "kernelspec": {
   "name": "python376jvsc74a57bd0f30a98447ab0ce6ed2c42a906dd8ff7c3035168d8630597903509f729a93be92",
   "display_name": "Python 3.7.6 64-bit ('base': conda)"
  }
 },
 "nbformat": 4,
 "nbformat_minor": 2,
 "cells": [
  {
   "cell_type": "code",
   "execution_count": 8,
   "metadata": {},
   "outputs": [],
   "source": [
    "from urllib.request import urlopen # to open web pages\n",
    "from bs4 import BeautifulSoup # to process html\n",
    "import ssl # process ssl certificate"
   ]
  },
  {
   "cell_type": "code",
   "execution_count": 9,
   "metadata": {},
   "outputs": [],
   "source": [
    "# Create SSL connection\n",
    "ssl._create_default_https_context = ssl._create_unverified_context"
   ]
  },
  {
   "cell_type": "code",
   "execution_count": 10,
   "metadata": {},
   "outputs": [],
   "source": [
    "# Open the webpage\n",
    "url = \"https://www.tripadvisor.com/Hotel_Review-g189158-d229324-Reviews-Sheraton_Lisboa_Hotel_Spa-Lisbon_Lisbon_District_Central_Portugal.html\"\n",
    "page = urlopen(url)"
   ]
  },
  {
   "cell_type": "code",
   "execution_count": 11,
   "metadata": {},
   "outputs": [],
   "source": [
    "# Read html content\n",
    "html = page.read().decode(\"utf-8\")"
   ]
  },
  {
   "cell_type": "code",
   "execution_count": 12,
   "metadata": {},
   "outputs": [],
   "source": [
    "# Parse html\n",
    "soup = BeautifulSoup(html, \"html.parser\")"
   ]
  },
  {
   "cell_type": "code",
   "execution_count": 13,
   "metadata": {
    "tags": [
     "outputPrepend"
    ]
   },
   "outputs": [
    {
     "output_type": "stream",
     "name": "stdout",
     "text": [
      "', 'location_id': 229324, 'servletClass': 'com.TripResearch.servlet.hotels.hotelreview.HotelReviewServlet', 'servletName': 'Hotel_Review', 'modules': [\"handlers\"], 'params': {\"contentUpdatedEvent\":\"reviewListUpdated\"}, 'data': {}});});\nrequire(['ta/p13n/placements','ta/page','$prp/resp_hr_ad_wrapper/handlers'], function(placements, impl) {\nwindow.ta.plc_resp_hr_ad_wrapper_lower_block_0_handlers = placements.load('resp_hr_ad_wrapper','handlers.js', { 'name': 'resp_hr_ad_wrapper:lower_block', 'occurrence': 0, 'id': 'taplc_resp_hr_ad_wrapper_lower_block_0', 'location_id': 229324, 'servletClass': 'com.TripResearch.servlet.hotels.hotelreview.HotelReviewServlet', 'servletName': 'Hotel_Review', 'modules': [\"handlers\"], 'params': {\"contentUpdatedEvent\":\"qaListUpdated\"}, 'data': {}});});\nrequire(['ta/p13n/placements','ta/page','$prp/footer_banner_ad_billboard/handlers'], function(placements, impl) {\nwindow.ta.plc_footer_banner_ad_billboard_hotel_review_resp_0_handlers = placements.load('footer_banner_ad_billboard','handlers.es6', { 'name': 'footer_banner_ad_billboard:hotel_review_resp', 'occurrence': 0, 'id': 'taplc_footer_banner_ad_billboard_hotel_review_resp_0', 'location_id': 229324, 'servletClass': 'com.TripResearch.servlet.hotels.hotelreview.HotelReviewServlet', 'servletName': 'Hotel_Review', 'modules': [\"handlers\"], 'params': {\"footer_banner_ad_style\":\"billboardAd\"}, 'data': {}});});\nrequire(['ta/p13n/placements','ta/page','$prp/unsupported_browser_messaging/handlers'], function(placements, impl) {\nwindow.ta.plc_unsupported_browser_messaging_0_handlers = placements.load('unsupported_browser_messaging','handlers.js', { 'name': 'unsupported_browser_messaging', 'occurrence': 0, 'id': 'taplc_unsupported_browser_messaging_0', 'location_id': 229324, 'servletClass': 'com.TripResearch.servlet.hotels.hotelreview.HotelReviewServlet', 'servletName': 'Hotel_Review', 'modules': [\"handlers\"], 'params': {}, 'data': {}});});\nrequire(['ta/p13n/placements','ta/page','$prp/facebook_autologin/handlers'], function(placements, impl) {\nwindow.ta.plc_facebook_autologin_0_handlers = placements.load('facebook_autologin','handlers.js', { 'name': 'facebook_autologin', 'occurrence': 0, 'id': 'taplc_facebook_autologin_0', 'location_id': 229324, 'servletClass': 'com.TripResearch.servlet.hotels.hotelreview.HotelReviewServlet', 'servletName': 'Hotel_Review', 'modules': [\"handlers\"], 'params': {}, 'data': {}});});\nrequire(['ta/p13n/placements','ta/page','$prp/global_nav/handlers'], function(placements, impl) {\nwindow.ta.plc_global_nav_0_handlers = placements.load('global_nav','handlers.js', { 'name': 'global_nav', 'occurrence': 0, 'id': 'taplc_global_nav_0', 'location_id': 229324, 'servletClass': 'com.TripResearch.servlet.hotels.hotelreview.HotelReviewServlet', 'servletName': 'Hotel_Review', 'modules': [\"deferred/lateHandlers\",\"handlers\"], 'params': {}, 'data': {}});});\nrequire(['ta/p13n/placements','ta/page','$prp/global_nav_links/handlers'], function(placements, impl) {\nwindow.ta.plc_global_nav_links_0_handlers = placements.load('global_nav_links','handlers.js', { 'name': 'global_nav_links', 'occurrence': 0, 'id': 'taplc_global_nav_links_0', 'location_id': 229324, 'servletClass': 'com.TripResearch.servlet.hotels.hotelreview.HotelReviewServlet', 'servletName': 'Hotel_Review', 'modules': [\"handlers\"], 'params': {\"geopillOnHome\":false}, 'data': {}});});\nrequire(['ta/p13n/placements','ta/page','$prp/global_nav_dropdowns/handlers'], function(placements, impl) {\nwindow.ta.plc_global_nav_dropdowns_0_handlers = placements.load('global_nav_dropdowns','handlers.js', { 'name': 'global_nav_dropdowns', 'occurrence': 0, 'id': 'taplc_global_nav_dropdowns_0', 'location_id': 229324, 'servletClass': 'com.TripResearch.servlet.hotels.hotelreview.HotelReviewServlet', 'servletName': 'Hotel_Review', 'modules': [\"handlers\"], 'params': {}, 'data': {}});});\nrequire(['ta/p13n/placements','ta/page','$prp/global_nav_action_inbox/handlers'], function(placements, impl) {\nwindow.ta.plc_global_nav_action_inbox_empty_0_handlers = placements.load('global_nav_action_inbox','handlers.js', { 'name': 'global_nav_action_inbox:empty', 'occurrence': 0, 'id': 'taplc_global_nav_action_inbox_empty_0', 'location_id': 229324, 'servletClass': 'com.TripResearch.servlet.hotels.hotelreview.HotelReviewServlet', 'servletName': 'Hotel_Review', 'modules': [\"handlers\"], 'params': {}, 'data': {}});});\nrequire(['ta/p13n/placements','ta/page','$prp/masthead_search/handlers'], function(placements, impl) {\nwindow.ta.plc_masthead_search_empty_0_handlers = placements.load('masthead_search','handlers.js', { 'name': 'masthead_search:empty', 'occurrence': 0, 'id': 'taplc_masthead_search_empty_0', 'location_id': 229324, 'servletClass': 'com.TripResearch.servlet.hotels.hotelreview.HotelReviewServlet', 'servletName': 'Hotel_Review', 'modules': [\"deferred/lateHandlers\",\"handlers\"], 'params': {\"typeahead_to_store\":{\"typeahead_new_location_label\":\"NEW LOCATION\",\"typeahead.aliases.travel_insurance\":[\"insurance\",\"travel insurance\",\"trip insurance\",\"annual travel insurance\"],\"typeahead.aliases.flight_reviews\":[\"flight reviews\",\"airline reviews\"],\"typeahead_throttle_requests\":\"true\",\"typeahead.aliases.rental_cars\":[\"Rental Cars\",\"Car Rentals\"],\"typeahead_cruise_ships_enabled\":\"true\",\"typeahead.aliases.activities\":[\"Tours and Tickets\",\"Tours & Tickets\"],\"typeahead.aliases.things_to_do\":[\"Things to do\",\"Thing to do\",\"attractions\",\"activities\",\"what to do\",\"sightseeing\",\"Sights\",\"Tourist Attractions\",\"Activity\",\"Attraction\",\"What to see\",\"Where to go\",\"Where to visit\",\"Best Attractions\",\"Best Things to do\",\"Best Tourist Attractions\",\"Best Sightseeing\",\"Top Attractions\",\"Top Things to do\",\"Top Tourist Attractions\",\"Top Sightseeing\",\"Top 10 Attractions\",\"Top 10 Things to do\",\"Top 10 Tourist Attractions\",\"Top 10 Sightseeing\"],\"typeahead.enable_nearby\":true,\"typeahead_cruise_cruiselines_enabled\":\"true\",\"typeahead_divClasses\":null,\"typeahead.scoped.cur_loc_denied\":\"Tripadvisor was denied permission to access your location.  Give your browser and Tripadvisor permission to use your current location and try again.\",\"typeahead.scoped.cur_loc\":\"Nearby\",\"typeahead.aliases.travel_forums\":[\"forum\",\"forums\",\"Travel Forum\",\"Travel Forums\"],\"typeahead.aliases.travel_guides\":[\"guides\",\"city guides\"],\"typeahead.aliases.vacation_rentals\":[\"vacation rentals\",\"vacation rental\",\"Airbnb\",\"Holiday rental\",\"Holiday rentals\"],\"typeahead.aliases.flights\":[\"Flights\",\"Flight\",\"Flight to\",\"flights to\",\"nonstop flights\",\"business class flights\",\"return flights\",\"airline flights\",\"air flights\",\"cheap flights\",\"flight from\",\"cheapest flights\",\"flight only\",\"one way flights\",\"direct flights\",\"domestic flights\",\"air fare\",\"cheap flights to\",\"air flights to\",\"airline flights to\",\"business class flights to\",\"cheapest flights to\",\"direct flights to\",\"domestic flights to\",\"nonstop flights to\",\"one way flights to\",\"air fares\",\"airfare\",\"airfares\",\"air fare to\",\"air fares to\",\"airfare to\",\"airfares to\"],\"typeahead_moved_label\":\"MOVED\",\"typeahead_dual_search_options\":{\"geoID\":189158,\"bypassSearch\":true,\"staticTypeAheadOptions\":{\"minChars\":3,\"defaultValue\":\"Search\",\"injectNewLocation\":true,\"typeahead1_5\":true,\"geoBoostFix\":true},\"debug\":false,\"navSearchTypeAheadEnabled\":true,\"isMobileWeb\":false,\"geoInfo\":{\"geoId\":189158,\"geoName\":\"Lisbon\",\"parentName\":\"Portugal\",\"shortParentName\":\"Portugal\",\"categories\":{\"GEO\":{\"url\":\"/Tourism-g189158-Lisbon_Lisbon_District_Central_Portugal-Vacations.html\"},\"HOTEL\":{\"url\":\"/Hotels-g189158-Lisbon_Lisbon_District_Central_Portugal-Hotels.html\"},\"VACATION_RENTAL\":{\"url\":\"/VacationRentals-g189158-Reviews-Lisbon_Lisbon_District_Central_Portugal-Vacation_Rentals.html\"},\"ATTRACTION\":{\"url\":\"/Attractions-g189158-Activities-Lisbon_Lisbon_District_Central_Portugal.html\"},\"EATERY\":{\"url\":\"/Restaurants-g189158-Lisbon_Lisbon_District_Central_Portugal.html\"},\"FLIGHTS_TO\":{\"url\":\"/Flights-g189158-Lisbon_Lisbon_District_Central_Portugal-Cheap_Discount_Airfares.html\"},\"NEIGHBORHOOD\":{\"url\":\"/NeighborhoodList-g189158-Lisbon_Lisbon_District_Central_Portugal.html\"},\"CAR_RENTAL_OFFICE\":{\"url\":\"/RentalCars_Review?detail=189158\"},\"TRAVEL_GUIDE\":{\"url\":\"/Travel_Guide-g189158-Lisbon_Lisbon_District_Central_Portugal.html\"}}}},\"typeahead_closed_label\":\"CLOSED\",\"typeahead.scoped.all_of_trip\":\"Worldwide\",\"typeahead_attraction_activity_search\":\"true\",\"typeahead.aliases.hotels\":[\"hotels\",\"hotel\",\"lodging\",\"places to stay\",\"where to stay\",\"accommodation\",\"accommodations\",\"hotel reviews\",\"Hotels & Motels\",\"Best Hotels\",\"Best Places to Stay\",\"Best Lodging\",\"Best Hotels & Motels\",\"Lodgings\",\"Place to stay\",\"Top Hotels\",\"Top Places to Stay\",\"Top Lodging\",\"Top Hotels & Motels\",\"Top 10 Hotels\",\"Top 10 Places to Stay\",\"Top 10 Lodging\",\"Top 10 Hotels & Motels\"],\"typeahead.aliases.restaurants\":[\"food\",\"places to eat\",\"eateries\",\"dining\",\"restaurants\",\"restaurant\",\"Place to eat\",\"Eatery\",\"Where to eat\",\"What to eat\",\"Best Restaurants\",\"Best Places to Eat\",\"Best Food\",\"Best Dining\",\"Top Restaurants\",\"Top Places to Eat\",\"Top Food\",\"Top Dining\",\"Top 10 Restaurants\",\"Top 10 Places To Eat\",\"Top 10 Food\",\"Top 10 Dining\"],\"typeahead.searchMore.v2\":\"Search for \\\"%\\\"\",\"typeahead.searchSessionId\":\"1E416B55BE5C42139AC0D20454BC41E71619200489224ssid\"}}, 'data': {}});});\nrequire(['ta/p13n/placements','ta/page','$prp/browser_mode_tracking/handlers'], function(placements, impl) {\nwindow.ta.plc_browser_mode_tracking_0_handlers = placements.load('browser_mode_tracking','handlers.js', { 'name': 'browser_mode_tracking', 'occurrence': 0, 'id': 'taplc_browser_mode_tracking_0', 'location_id': 229324, 'servletClass': 'com.TripResearch.servlet.hotels.hotelreview.HotelReviewServlet', 'servletName': 'Hotel_Review', 'modules': [\"handlers\"], 'params': {}, 'data': {}});});\nrequire(['ta/p13n/placements','ta/page','$prp/qualtrics_survey/handlers'], function(placements, impl) {\nwindow.ta.plc_qualtrics_survey_0_handlers = placements.load('qualtrics_survey','handlers.js', { 'name': 'qualtrics_survey', 'occurrence': 0, 'id': 'taplc_qualtrics_survey_0', 'location_id': 229324, 'servletClass': 'com.TripResearch.servlet.hotels.hotelreview.HotelReviewServlet', 'servletName': 'Hotel_Review', 'modules': [\"handlers\"], 'params': {}, 'data': {}});});\nrequire(['ta/p13n/placements','ta/page','$prp/meta_click_tracker/handlers'], function(placements, impl) {\nwindow.ta.plc_meta_click_tracker_0_handlers = placements.load('meta_click_tracker','handlers.js', { 'name': 'meta_click_tracker', 'occurrence': 0, 'id': 'taplc_meta_click_tracker_0', 'location_id': 229324, 'servletClass': 'com.TripResearch.servlet.hotels.hotelreview.HotelReviewServlet', 'servletName': 'Hotel_Review', 'modules': [\"handlers\"], 'params': {}, 'data': {}});});\nrequire(['ta/p13n/placements','ta/page','$prp/masthead_h1/handlers'], function(placements, impl) {\nwindow.ta.plc_masthead_h1_hr_resp_0_handlers = placements.load('masthead_h1','handlers.js', { 'name': 'masthead_h1:hr_resp', 'occurrence': 0, 'id': 'taplc_masthead_h1_hr_resp_0', 'location_id': 229324, 'servletClass': 'com.TripResearch.servlet.hotels.hotelreview.HotelReviewServlet', 'servletName': 'Hotel_Review', 'modules': [\"handlers\"], 'params': {}, 'data': {}});});\nrequire(['ta/p13n/placements','ta/page','$prp/trip_planner_breadcrumbs/handlers'], function(placements, impl) {\nwindow.ta.plc_trip_planner_breadcrumbs_0_handlers = placements.load('trip_planner_breadcrumbs','handlers.js', { 'name': 'trip_planner_breadcrumbs', 'occurrence': 0, 'id': 'taplc_trip_planner_breadcrumbs_0', 'location_id': 229324, 'servletClass': 'com.TripResearch.servlet.hotels.hotelreview.HotelReviewServlet', 'servletName': 'Hotel_Review', 'modules': [\"handlers\"], 'params': {}, 'data': {}});});\nrequire(['ta/prwidgets', 'ta/page'], function(prwidgets) {\nprwidgets.initWidgets(document);\n});\n\nrequire(['servlets/standardTemplateSupport'], function(support) {support.footerInit();});window.addEventListener('load', function() {  placementEvCall('taplc_meta_click_tracker_0', 'handlers.addTrackingProvider', null, null, {providerName: '',isOTAPixel: '',vendorName: 'HolidayInn.com',trackingPixel: 'https://activate.tacdn.com/no-content?adType=c&pei=3&ci_ccount=1&pch=4&pct=meta_click&cw_plet=[timestamp]&pbrd=holiday_inn',brandName: '',locationIds: [],valid: true});placementEvCall('taplc_meta_click_tracker_0', 'handlers.registerEvents', null, null);});require([\"ta/Core/TA.Store\"], function(taStore) {taStore.store(\"retargeting.rtURL\", '//' + 'www.tamgrt.com/RT');taStore.store(\"retargeting.drs\", 'ABC.98*AFIL.79*ATTPromo.36*AUC.18*BBML.97*BMP.22*BRDTTD.5*Brand.48*CAKE.40*CAR.12*COM.68*CRS.35*Community.56*Content.52*CoreX.55*EATPIZZA.31*EID.53*EXP.27*Engage.7*FDP.54*FDS.74*FDU.30*FLTMERCH.6*FLTREV.80*Filters.70*Flights.38*HRATF.63*HSX.65*HSXB.53*IBEX.28*ING.81*INT1.24*INT2.68*ITR.61*L10N.22*ML.78*ML6.50*MM.77*MOBILEAPP.-1*MOF.50*MPS.55*MTA.61*Me2.62*Mem.1*Mobile.48*MobileCore.31*Notifications.91*Other.69*P13N.44*PIE.65*PLS.91*POS.63*PRT.7*RDS1.23*RDS2.10*RDS3.69*RDS4.3*RDS5.90*RET.7*REV.82*REVB.72*REVH.36*REVM.16*REVSD.65*REVSP.53*REVXS.58*RNA.55*RSE1.78*RSE2.85*Rooms.63*S3PO.40*SD40.90*SE2O.61*SEM.77*SEO.70*SORT1.64*Sales.71*Search.58*SiteX.87*Surveys.89*T4B.79*TGT.41*TRP.66*TTD.54*TX.43*Timeline.87*VP.11*VR.95*YM.91*YMB.81');taStore.store(\"retargeting.geoId\", '189158');});(function(window, document) {\"use strict\";var SYNC_AGE = 1000*60*30; var WHITELIST_AGE = 1000*60*60*24; var HTTP_COOKIE = \"TART\";var SYNC_COOKIE = \"SRT\";var WHITELIST_COOKIE = \"WLRedir\";var MSG_PREFIX = \"COOKIESYNC:\";var _isNewRTCookie = true;var _tart = 'enc%3AAsHKkhznywxZFA94gnr74SFK5%2BIzqkkzpkyZup8HlILR83WPv5R5JfxuVX6lU1D42kbCpE6E3x0%3D';if (_hasCookie(HTTP_COOKIE) && !_isNewRTCookie) { return; } var syncFrame = document.createElement('iframe');function _on(element, event, callback) {var legacy = !('addEventListener' in document),   listen = legacy ? 'attachEvent' : 'addEventListener';if (legacy) { event = 'on' + event; }element[listen](event, callback);}function _off(element, event, callback) {var legacy = !('addEventListener' in document),   detach = legacy ? 'detachEvent' : 'removeEventListener';if (legacy) { event = 'on' + event; }element[detach](event, callback);}function _setCookie(name, value, age) {document.cookie = name + '=' + value +';domain=' + window.location.hostname +';path=/' +';expires=' + new Date(new Date().getTime() + age).toUTCString();}function _hasCookie(name) {return !!document.cookie.match(name + '=[^;]+');}function handleMessage(e) {if (!syncFrame || !e || !e.data || !e.data.indexOf || e.data.indexOf(MSG_PREFIX) !== 0) { return; }var cookieValue = e.data.substring(MSG_PREFIX.length);if (cookieValue) {_setCookie(SYNC_COOKIE, cookieValue, SYNC_AGE);} else if(!_hasCookie(WHITELIST_COOKIE)) {_setCookie(WHITELIST_COOKIE, \"requested\", WHITELIST_AGE);}_off(window, 'message', handleMessage);document.body.removeChild(syncFrame);syncFrame = null;}function _setupSyncFrame() {if (!syncFrame) { return; }var src = window.location.protocol + '//' + 'www.tamgrt.com/RT' + \"?-sync=true&q=\" + new Date().getTime();if(_isNewRTCookie) {if(_tart) {src += '&rid=' + _tart;}}syncFrame.src = src;document.body.appendChild(syncFrame);}_on(window, 'message', handleMessage);syncFrame.style.display = 'none';syncFrame.id = 'ta_cookie_sync';syncFrame.name = new Date().getTime();_setupSyncFrame();})(window, document); .gptAd {position: relative;width: 100%; text-align: center;margin-left: auto;margin-right: auto;}.gptAd > div, .gptAd > div > iframe {display: block !important;margin-left: auto;margin-right: auto;}window.googletag = window.googletag || {cmd:[]};  window.addEventListener('load', function() { var initOpts = {gptBase: \"/5349/ta.ta.it.s/eu.portugal.lisbon\",gptConfig: {\"enable_amazon_bidding\":true,\"refresh_on_change_dates\":true,\"enable_ias_verify\":true,\"adTrackingConfig\":{\"56115731\":\"Onyx\",\"125294291\":\"Onyx\",\"439801571\":\"Onyx\",\"439513691\":\"Onyx\",\"268297691\":\"Onyx\",\"146529491\":\"Onyx\",\"56043851\":\"Onyx\",\"55678451\":\"Hotwire\",\"55721291\":\"Choice\",\"55752491\":\"Choice\",\"56107811\":\"Rakuten\",\"444557411\":\"Rakuten\"},\"enable_rubicon_bidding\":true,\"defer_bidding_call\":true,\"visibility_change_refresh\":true,\"enable_deferred_ads\":true},   pageTargeting: {\"country\":[\"189100\"],\"sess\":[\"1E416B55BE5C42139AC0D20454BC41E7\"],\"sub_brand\":[\"Sheraton\"],\"proptype\":[\"hotels\"],\"loctype\":[\"lodging\"],\"platform\":[\"desktop\"],\"geo\":[\"189158\"],\"pv_id\":[\"YIMJ6QokJSAAA3MidioAAAAt\"],\"price\":[\"midlevel\"],\"PageType\":[\"Hotel_Review\"],\"brand\":[\"Marriott_International_Inc_\"],\"hname\":[\"Sheraton_Lisboa_Hotel_Spa\"],\"drs\":[\"BRAND_48\",\"FL_38\",\"SALES_71\",\"P13N_44\",\"PRT_7\",\"SEARCH_58\",\"REVB_72\"],\"d\":[\"LIS\"],\"star\":[\"5\"],\"brandSafe\":[\"false\"],\"kw\":[\"Sheraton_Lisboa_Hotel_Spa\"],\"dregion\":[\"189158\"],\"o\":[\"LIS\"],\"airports\":[\"LIS\"],\"aud_id\":[\"15766\",\"16062\",\"15203\",\"15542\",\"16852\",\"17079\",\"15193\",\"15462\",\"15340\",\"15190\",\"15309\",\"15460\",\"17016\",\"15192\",\"16847\",\"15201\",\"15189\",\"17013\",\"16848\",\"16635\",\"17204\",\"16844\",\"15461\",\"16845\",\"16623\",\"15370\"],\"r\":[\"LISLIS\"],\"rd\":[\"com\"],\"oregion\":[\"189158\"],\"detail\":[\"229324\"],\"region\":[\"3874225\",\"3932272\"]},      adStubs: {\"adTypes\":[{\"tgt\":\"gpt-ad-3x1-globalnav\",\"size\":[[3,1]],\"type\":\"other\",\"isHidden\":true,\"base\":\"/5349/ta.ta.it.s/eu.portugal.lisbon\",\"custom_targeting\":{\"pos\":[\"globalnav\"],\"kw\":\"lure\",\"disable_event_refresh\":true}},{\"tgt\":\"gpt-ad-3x1-tripsearch\",\"size\":[[3,1]],\"type\":\"other\",\"isHidden\":true,\"base\":\"/5349/ta.ta.it.s/eu.portugal.lisbon\",\"custom_targeting\":{\"pos\":[\"tripsearch\"],\"kw\":\"lure\",\"disable_event_refresh\":true}},{\"tgt\":\"gpt-ad-3x1-quicklinks\",\"size\":[[3,1]],\"type\":\"other\",\"isHidden\":true,\"base\":\"/5349/ta.ta.it.s/eu.portugal.lisbon\",\"custom_targeting\":{\"pos\":[\"quicklinks\"],\"kw\":\"lure\",\"disable_event_refresh\":true}},{\"tgt\":\"gpt-ad-300x250\",\"size\":[[300,250],\"fluid\"],\"amazon_prebid\":true,\"type\":\"medium_rectangle_top\",\"rubicon_prebid\":true,\"base\":\"/5349/ta.ta.it.s/eu.portugal.lisbon\",\"custom_targeting\":{\"pos\":[\"top\"],\"fluidType\":\"shortRail\"}},{\"tgt\":\"gpt-ad-728x90-970x66-header\",\"size\":[[728,90],[970,66],\"fluid\"],\"amazon_prebid\":true,\"type\":\"leaderboard_header\",\"rubicon_prebid\":true,\"base\":\"/5349/ta.ta.it.s/eu.portugal.lisbon\",\"custom_targeting\":{\"pos\":[\"header\"],\"fluidType\":\"banner\"}},{\"tgt\":\"gpt-ad-300x250-300x600-a\",\"size\":[[300,250],[300,600],\"fluid\"],\"amazon_prebid\":true,\"type\":\"medium_rectangle_a\",\"rubicon_prebid\":true,\"base\":\"/5349/ta.ta.it.s/eu.portugal.lisbon\",\"custom_targeting\":{\"pos\":[\"a\"],\"fluidType\":\"rail\"}},{\"tgt\":\"gpt-ad-300x250-300x600-b\",\"size\":[[300,250],[300,600],\"fluid\"],\"amazon_prebid\":true,\"type\":\"medium_rectangle_b\",\"rubicon_prebid\":true,\"base\":\"/5349/ta.ta.it.s/eu.portugal.lisbon\",\"custom_targeting\":{\"pos\":[\"b\"],\"fluidType\":\"rail\"}},{\"tgt\":\"gpt-ad-970x250-728x90-footer\",\"size\":[[970,250],[728,90],\"fluid\"],\"amazon_prebid\":true,\"type\":\"leaderboard_footer\",\"rubicon_prebid\":true,\"base\":\"/5349/ta.ta.it.s/eu.portugal.lisbon\",\"custom_targeting\":{\"pos\":[\"footer\"],\"fluidType\":\"banner\"}}]}};      function getFirstAdTop() {try {if (document.querySelector('div[data-component^=\"@ta/taps.horizon-ad\"]') ||!initOpts.gptConfig.enable_deferred_ads) {return 0;}var firstAd;var ads = [].slice.call(document.querySelectorAll('.gptAd, .gptAdVisibleAfterLoad')).filter(function(ad) { return !!ad.offsetParent; });if(ads.length && ads[0].getBoundingClientRect) {return ads.reduce(function(min, el){ return Math.min(min, el.getBoundingClientRect().top);}, Infinity);}} catch(e) {return 0;}}var FIRST_AD_TOP = getFirstAdTop();var initHasRun = false;var apiTrigger = window.innerHeight;function initAtFirstAd(){if (window.pageYOffset > FIRST_AD_TOP - apiTrigger) {window.removeEventListener('scroll', initAtFirstAd);if (!initHasRun) {initHasRun = true;require(['@ta/platform.runtime', 'trjs!cpm/Desktop'], function(runtime, desktopAds) {runtime.importBundle('@ta/platform.consent').then(function (bundle) {bundle.requestConsent(bundle.CategoriesEnum.ADVERTISING, function() {desktopAds.initDoubleClick(initOpts); });});});}}}initAtFirstAd();window.addEventListener('scroll', initAtFirstAd);});\n"
     ]
    }
   ],
   "source": [
    "# print website text\n",
    "print(soup.get_text())"
   ]
  },
  {
   "cell_type": "code",
   "execution_count": 14,
   "metadata": {},
   "outputs": [
    {
     "output_type": "execute_result",
     "data": {
      "text/plain": [
       "<title>SHERATON LISBOA HOTEL &amp; SPA $156 ($̶1̶6̶6̶) - Updated 2021 Prices &amp;  Reviews - Lisbon, Portugal - Tripadvisor</title>"
      ]
     },
     "metadata": {},
     "execution_count": 14
    }
   ],
   "source": [
    "# See title\n",
    "soup.title"
   ]
  },
  {
   "cell_type": "code",
   "execution_count": 15,
   "metadata": {},
   "outputs": [
    {
     "output_type": "execute_result",
     "data": {
      "text/plain": [
       "'SHERATON LISBOA HOTEL & SPA $156 ($̶1̶6̶6̶) - Updated 2021 Prices &  Reviews - Lisbon, Portugal - Tripadvisor'"
      ]
     },
     "metadata": {},
     "execution_count": 15
    }
   ],
   "source": [
    "# See title text\n",
    "soup.title.get_text()"
   ]
  },
  {
   "cell_type": "code",
   "execution_count": 16,
   "metadata": {},
   "outputs": [
    {
     "output_type": "stream",
     "name": "stdout",
     "text": [
      "<img alt=\"\" class=\"_3KekrTaj\" src=\"https://static.tacdn.com/img2/x.gif?&amp;ads=1&amp;adsize=2&amp;ad_slot=3&amp;rnd=YIMJ6QokJSAAA3MidioAAAAt\"/>\n"
     ]
    }
   ],
   "source": [
    "# Get images from the site\n",
    "imgs = soup.find_all(\"img\")\n",
    "\n",
    "print(imgs[1])"
   ]
  },
  {
   "cell_type": "code",
   "execution_count": 17,
   "metadata": {},
   "outputs": [
    {
     "output_type": "execute_result",
     "data": {
      "text/plain": [
       "[<span class=\"_33O9dg0j\">2 reviews</span>]"
      ]
     },
     "metadata": {},
     "execution_count": 17
    }
   ],
   "source": [
    "# Get the reviews from the hotel\n",
    "spamclass = \"_33O9dg0j\"\n",
    "\n",
    "soup.find_all(\"span\",{\"class\": spamclass})"
   ]
  },
  {
   "cell_type": "code",
   "execution_count": 18,
   "metadata": {},
   "outputs": [],
   "source": [
    "# Getting only the text off the review\n",
    "nreview = soup.find_all(\"span\",{\"class\": spamclass})[0].get_text()"
   ]
  },
  {
   "cell_type": "code",
   "execution_count": 19,
   "metadata": {},
   "outputs": [
    {
     "output_type": "execute_result",
     "data": {
      "text/plain": [
       "'2 reviews'"
      ]
     },
     "metadata": {},
     "execution_count": 19
    }
   ],
   "source": [
    "nreview"
   ]
  },
  {
   "cell_type": "code",
   "execution_count": 20,
   "metadata": {},
   "outputs": [
    {
     "output_type": "execute_result",
     "data": {
      "text/plain": [
       "2"
      ]
     },
     "metadata": {},
     "execution_count": 20
    }
   ],
   "source": [
    "nreview = int(\"\".join(filter(str.isdigit,nreview)))\n",
    "\n",
    "nreview"
   ]
  },
  {
   "cell_type": "code",
   "execution_count": 21,
   "metadata": {},
   "outputs": [
    {
     "output_type": "execute_result",
     "data": {
      "text/plain": [
       "[<span class=\"ui_bubble_rating bubble_45\"></span>,\n",
       " <span class=\"ui_bubble_rating bubble_45\"></span>,\n",
       " <span class=\"ui_bubble_rating bubble_40\"></span>,\n",
       " <span class=\"ui_bubble_rating bubble_45\"></span>,\n",
       " <span class=\"ui_bubble_rating bubble_45\"></span>,\n",
       " <span class=\"ui_bubble_rating bubble_40\"></span>,\n",
       " <span class=\"ui_bubble_rating bubble_50\"></span>,\n",
       " <span class=\"ui_bubble_rating bubble_45\"></span>,\n",
       " <span class=\"ui_bubble_rating bubble_45\"></span>,\n",
       " <span class=\"ui_bubble_rating bubble_45\"></span>,\n",
       " <span class=\"ui_bubble_rating bubble_50\"></span>,\n",
       " <span class=\"ui_bubble_rating bubble_45\"></span>,\n",
       " <span class=\"ui_bubble_rating bubble_40\"></span>,\n",
       " <span class=\"ui_bubble_rating bubble_40\"></span>,\n",
       " <span class=\"ui_bubble_rating bubble_50\"></span>,\n",
       " <span class=\"ui_bubble_rating bubble_50\"></span>,\n",
       " <span class=\"ui_bubble_rating bubble_50\"></span>,\n",
       " <span class=\"ui_bubble_rating bubble_50\"></span>,\n",
       " <span class=\"ui_bubble_rating bubble_40\"></span>,\n",
       " <span class=\"ui_bubble_rating bubble_50\"></span>,\n",
       " <span class=\"ui_bubble_rating bubble_50\"></span>,\n",
       " <span class=\"ui_bubble_rating bubble_40\"></span>,\n",
       " <span class=\"ui_bubble_rating bubble_50\"></span>,\n",
       " <span class=\"ui_bubble_rating bubble_50\"></span>,\n",
       " <span class=\"ui_bubble_rating bubble_50\"></span>]"
      ]
     },
     "metadata": {},
     "execution_count": 21
    }
   ],
   "source": [
    "# Collect Hotel rating\n",
    "ratings = soup.select(\"span[class*=ui_bubble_rating]\")\n",
    "\n",
    "ratings"
   ]
  },
  {
   "cell_type": "code",
   "execution_count": 22,
   "metadata": {},
   "outputs": [
    {
     "output_type": "execute_result",
     "data": {
      "text/plain": [
       "[<a class=\"_15eFvJyR _3nlVsadw\" href=\"#REVIEWS\"><span class=\"ui_bubble_rating bubble_45\"></span><span class=\"_33O9dg0j\">2 reviews</span></a>,\n",
       " <a class=\"_1dCQBg5N\" href=\"#REVIEWS\"><div class=\"_2-OvcgvB\">Excellent</div><span class=\"ui_bubble_rating bubble_45\"></span><span class=\"_3jEYFo-z\">2 reviews</span></a>]"
      ]
     },
     "metadata": {},
     "execution_count": 22
    }
   ],
   "source": [
    "# Get the first Hotel rating\n",
    "hotel_rating = soup.find_all(\"a\",{\"href\":\"#REVIEWS\"})\n",
    "\n",
    "hotel_rating"
   ]
  },
  {
   "cell_type": "code",
   "execution_count": 23,
   "metadata": {},
   "outputs": [
    {
     "output_type": "execute_result",
     "data": {
      "text/plain": [
       "[<span class=\"ui_bubble_rating bubble_45\"></span>]"
      ]
     },
     "metadata": {},
     "execution_count": 23
    }
   ],
   "source": [
    "bubble_r = hotel_rating[0].select(\"span[class*=ui_bubble_rating]\")\n",
    "\n",
    "bubble_r"
   ]
  },
  {
   "cell_type": "code",
   "execution_count": 24,
   "metadata": {},
   "outputs": [
    {
     "output_type": "execute_result",
     "data": {
      "text/plain": [
       "['ui_bubble_rating', 'bubble_45']"
      ]
     },
     "metadata": {},
     "execution_count": 24
    }
   ],
   "source": [
    "bubble_r = bubble_r[0][\"class\"]\n",
    "\n",
    "bubble_r"
   ]
  },
  {
   "cell_type": "code",
   "execution_count": 25,
   "metadata": {},
   "outputs": [
    {
     "output_type": "execute_result",
     "data": {
      "text/plain": [
       "45"
      ]
     },
     "metadata": {},
     "execution_count": 25
    }
   ],
   "source": [
    "bubble_r = bubble_r[1]\n",
    "bubble_r = int(\"\".join(filter(str.isdigit,bubble_r)))\n",
    "bubble_r"
   ]
  },
  {
   "cell_type": "code",
   "execution_count": 26,
   "metadata": {},
   "outputs": [
    {
     "output_type": "execute_result",
     "data": {
      "text/plain": [
       "4.5"
      ]
     },
     "metadata": {},
     "execution_count": 26
    }
   ],
   "source": [
    "officialRating = bubble_r/10\n",
    "officialRating"
   ]
  },
  {
   "cell_type": "code",
   "execution_count": 27,
   "metadata": {},
   "outputs": [
    {
     "output_type": "execute_result",
     "data": {
      "text/plain": [
       "EAgqY\">modern rooms</button><button class=\"ui_button secondary small H5_EAgqY\">water pressure</button><button class=\"ui_button secondary small H5_EAgqY\">downtown lisbon</button><button class=\"ui_button secondary small H5_EAgqY\">metro station</button><button class=\"ui_button secondary small H5_EAgqY\">pastries</button><button class=\"ui_button secondary small H5_EAgqY\">spg</button><button class=\"ui_button secondary small H5_EAgqY\">blinds</button><button class=\"ui_button secondary small H5_EAgqY\">euro</button><button class=\"ui_button secondary small H5_EAgqY\">taxis</button><button class=\"ui_button secondary small H5_EAgqY\">privacy</button><button class=\"ui_button secondary small H5_EAgqY\">portugal</button><button class=\"ui_button secondary small H5_EAgqY\">uber</button><button class=\"ui_button secondary small H5_EAgqY\">porto</button></div></div></div></div><div class=\"ZxKlH_WX\"><span class=\"ui_icon search wF-i9JOp\"></span><input autocomplete=\"on\" class=\"Smftgery qKwANxKk _2JD6LoZg\" placeholder=\"Search reviews\" type=\"text\" value=\"\"/></div><div class=\"_2wrUUKlw _3hFEdNs8\" data-test-target=\"HR_CC_CARD\"><div class=\"_310S4sqz\"><a class=\"_3x5_awTA ui_social_avatar inline\" href=\"/Profile/luxatravelmood\" target=\"_self\"><img alt=\"\"/></a><div class=\"_2uYWQXeO\"><div class=\"_3TMaHs5O\"><div class=\"overflow\"><span class=\"_3-zQ1eyd _3LR9XvrV\"><svg class=\"_3nS1tofR iG08Yf8B\" height=\"1em\" viewbox=\"0 0 24 24\" width=\"1em\" x=\"0\" y=\"0\"><circle cx=\"4.5\" cy=\"11.9\" r=\"2.5\"></circle><circle cx=\"19.5\" cy=\"11.9\" r=\"2.5\"></circle><circle cx=\"12\" cy=\"11.9\" r=\"2.5\"></circle></svg></span></div><span class=\"_3V8URHDq\"></span></div><div class=\"_2fxQ4TOx\"><span><a class=\"ui_header_link _1r_My98y\" href=\"/Profile/luxatravelmood\">Travel.mood</a> wrote a review Apr 9</span></div><div class=\"_1EpRX7o3\"><span class=\"_1TuWwpYf\"><span class=\"default _3J15flPT small\"><span class=\"ui_icon map-pin-fill _2kj8kWkW\"></span>Panama City, Panama</span></span><span class=\"_3fPsSAYi\"><span><span class=\"_1fk70GUn\">16</span> contributions</span></span><span class=\"_3fPsSAYi\"><span><span class=\"_1fk70GUn\">2</span> helpful votes</span></span></div></div></div><div class=\"_2ORvxE3b\"><div class=\"_2K3Kg4pa _1U_kQ13c\"><div class=\"ZVAUHZqh\" style=\"background-size:cover;height:128px;width:100%;background-image:none\"></div></div></div><div class=\"oETBfkHU\" data-reviewid=\"786205321\"><div class=\"_2UEC-y30\"><div class=\"nf9vGX55\" data-test-target=\"review-rating\"><span class=\"ui_bubble_rating bubble_50\"></span></div></div><div class=\"glasR4aX\" data-test-target=\"review-title\" dir=\"ltr\"><a class=\"ocfR3SKN\" href=\"/ShowUserReviews-g189158-d229324-r786205321-Sheraton_Lisboa_Hotel_Spa-Lisbon_Lisbon_District_Central_Portugal.html\"><span><span>Excellent service</span></span></a></div><div class=\"_3hDPbqWO\"><div class=\"_2f_ruteS _1bona3Pu _2uD5bLZZ\"><div class=\"cPQsENeY\" style=\"max-height:160px;line-break:normal;cursor:auto\"><q class=\"IRsGHoPm\"><span>The team at sheraton hotel is outstanding! The lady’s who checked me in were super friendly:) thank you for the upgrade to an amazing city view! They provide me everything I need and anticipated my needs: from gym features, luggage assistant, always replacing my waters even if I didn’t requested service.  Thank you!!!! Keep rocking sheraton tem! Duarte was super helpful on getting more weights to my room so I could keep up with my workouts. </span></q></div><div class=\"_36B4Vw6t\"><div class=\"XUVJZtom\" data-test-target=\"expand-review\"><span class=\"_3maEfNCR\">Read more</span><span class=\"ui_icon caret-down _3aUwQbpX\"></span></div></div></div><div class=\"_1O8E5N17\"><span class=\"_34Xs-BQm\"><span class=\"_355y0nZn\">Date of stay:</span> April 2021</span><span class=\"_1xJceS3A\"><span class=\"_2bVY3aT5\"><span class=\"trip_type_label\">Trip type: </span>Traveled solo</span></span></div><div class=\"_3d_mZXGr\"><span class=\"_3UnecFwl\"></span><div class=\"_3SZRHJHk\"><span class=\"_2lqOQqh3\"><span class=\"ui_icon thumbs-up Ak8Bi3Zf\"></span><span class=\"ui_link _1Dl3N9MC\">Helpful</span></span><span class=\"_331VZDkq\"><div><span><div class=\"_1k12Q93K _1k54sSqX\"><span><span class=\"ui_icon share _3g9oGli4\"></span><span class=\"ui_link _3p1vOjv8 socialCTA\">Share<!-- --> </span></span></div></span></div></span></div></div></div></div></div><div class=\"_2wrUUKlw _3hFEdNs8\" data-test-target=\"HR_CC_CARD\"><div class=\"_310S4sqz\"><a class=\"_3x5_awTA ui_social_avatar inline\" href=\"/Profile/M3493CJpeterr\" target=\"_self\"><img alt=\"\"/></a><div class=\"_2uYWQXeO\"><div class=\"_3TMaHs5O\"><div class=\"overflow\"><span class=\"_3-zQ1eyd _3LR9XvrV\"><svg class=\"_3nS1tofR iG08Yf8B\" height=\"1em\" viewbox=\"0 0 24 24\" width=\"1em\" x=\"0\" y=\"0\"><circle cx=\"4.5\" cy=\"11.9\" r=\"2.5\"></circle><circle cx=\"19.5\" cy=\"11.9\" r=\"2.5\"></circle><circle cx=\"12\" cy=\"11.9\" r=\"2.5\"></circle></svg></span></div><span class=\"_3V8URHDq\"></span></div><div class=\"_2fxQ4TOx\"><span><a class=\"ui_header_link _1r_My98y\" href=\"/Profile/M3493CJpeterr\">Peter R</a> wrote a review Dec 2020</span></div><div class=\"_1EpRX7o3\"><span class=\"_1TuWwpYf\"><span class=\"default _3J15flPT small\"><span class=\"ui_icon map-pin-fill _2kj8kWkW\"></span>Michigan City, Indiana</span></span><span class=\"_3fPsSAYi\"><span><span class=\"_1fk70GUn\">2</span> contributions</span></span></div></div></div><div class=\"oETBfkHU\" data-reviewid=\"779913987\"><div class=\"_2UEC-y30\"><div class=\"nf9vGX55\" data-test-target=\"review-rating\"><span class=\"ui_bubble_rating bubble_50\"></span></div></div><div class=\"glasR4aX\" data-test-target=\"review-title\" dir=\"ltr\"><a class=\"ocfR3SKN\" href=\"/ShowUserReviews-g189158-d229324-r779913987-Sheraton_Lisboa_Hotel_Spa-Lisbon_Lisbon_District_Central_Portugal.html\"><span><span>Fabolous Hotel in Lisbon</span></span></a></div><div class=\"_3hDPbqWO\"><div class=\"_2f_ruteS _1bona3Pu _2uD5bLZZ\"><div class=\"cPQsENeY\" style=\"max-height:160px;line-break:normal;cursor:auto\"><q class=\"IRsGHoPm\"><span>Simply fabulous - This hotel is great. The service was terrific and is centrally located to everything. Yes, this hotel is upscale but the service and staff were awesome. I couldn't wait to get back to my room to lie on my bed, it is that comfortable.</span></q></div><div class=\"_36B4Vw6t\"><div class=\"XUVJZtom\" data-test-target=\"expand-review\"><span class=\"_3maEfNCR\">Read more</span><span class=\"ui_icon caret-down _3aUwQbpX\"></span></div></div></div><div class=\"_1O8E5N17\"><span class=\"_34Xs-BQm\"><span class=\"_355y0nZn\">Date of stay:</span> December 2020</span><span class=\"_1xJceS3A\"><div class=\"_1HQD2bGG\"><div class=\"_3ErKuh24 _1OrVnQ-J\"><span class=\"_3-8hSrXs\"><span class=\"ui_bubble_rating bubble_50\"></span></span><span>Location</span></div><div class=\"_3ErKuh24 _1OrVnQ-J\"><span class=\"_3-8hSrXs\"><span class=\"ui_bubble_rating bubble_50\"></span></span><span>Service</span></div><div class=\"_3ErKuh24 _1OrVnQ-J\"><span class=\"_3-8hSrXs\"><span class=\"ui_bubble_rating bubble_40\"></span></span><span>Sleep Quality</span></div></div></span></div><div class=\"_3d_mZXGr\"><span class=\"_3UnecFwl\"></span><div class=\"_3SZRHJHk\"><span class=\"_2lqOQqh3\"><span class=\"ui_icon thumbs-up Ak8Bi3Zf\"></span><span class=\"ui_link _1Dl3N9MC\">Helpful</span></span><span class=\"_331VZDkq\"><div><span><div class=\"_1k12Q93K _1k54sSqX\"><span><span class=\"ui_icon share _3g9oGli4\"></span><span class=\"ui_link _3p1vOjv8 socialCTA\">Share<!-- --> </span></span></div></span></div></span></div></div></div></div></div><div class=\"_2wrUUKlw _3hFEdNs8\" data-test-target=\"HR_CC_CARD\"><div class=\"_310S4sqz\"><a class=\"_3x5_awTA ui_social_avatar inline\" href=\"/Profile/1alwaystraveling\" target=\"_self\"><img alt=\"\"/></a><div class=\"_2uYWQXeO\"><div class=\"_3TMaHs5O\"><div class=\"overflow\"><span class=\"_3-zQ1eyd _3LR9XvrV\"><svg class=\"_3nS1tofR iG08Yf8B\" height=\"1em\" viewbox=\"0 0 24 24\" width=\"1em\" x=\"0\" y=\"0\"><circle cx=\"4.5\" cy=\"11.9\" r=\"2.5\"></circle><circle cx=\"19.5\" cy=\"11.9\" r=\"2.5\"></circle><circle cx=\"12\" cy=\"11.9\" r=\"2.5\"></circle></svg></span></div><span class=\"_3V8URHDq\"></span></div><div class=\"_2fxQ4TOx\"><span><a class=\"ui_header_link _1r_My98y\" href=\"/Profile/1alwaystraveling\">1alwaystraveling</a> wrote a review Dec 2020</span></div><div class=\"_1EpRX7o3\"><span class=\"_1TuWwpYf\"><span class=\"default _3J15flPT small\"><span class=\"ui_icon map-pin-fill _2kj8kWkW\"></span>Richmond, Virginia</span></span><span class=\"_3fPsSAYi\"><span><span class=\"_1fk70GUn\">500</span> contributions</span></span><span class=\"_3fPsSAYi\"><span><span class=\"_1fk70GUn\">183</span> helpful votes</span></span></div></div></div><div class=\"oETBfkHU\" data-reviewid=\"778395637\"><div class=\"_2UEC-y30\"><div class=\"nf9vGX55\" data-test-target=\"review-rating\"><span class=\"ui_bubble_rating bubble_50\"></span></div></div><div class=\"glasR4aX\" data-test-target=\"review-title\" dir=\"ltr\"><a class=\"ocfR3SKN\" href=\"/ShowUserReviews-g189158-d229324-r778395637-Sheraton_Lisboa_Hotel_Spa-Lisbon_Lisbon_District_Central_Portugal.html\"><span><span>Absolutely exceptional service and a modernized resort in the middle of the city!</span></span></a></div><div class=\"_3hDPbqWO\"><div class=\"_2f_ruteS _1bona3Pu _2uD5bLZZ\"><div class=\"cPQsENeY\" style=\"max-height:160px;line-break:normal;cursor:auto\"><q class=\"IRsGHoPm\"><span>Let me start by saying this property is heads and toes above anything in the area for price, and the customer service is through the roof. From the front desk person, Armando whom provided top notch service, to the cleaning staff that were thorough and diligent. The restaurant was doubling as the club lounge and the food was excellent, to include the breakfasts daily. The entire staff social distances and the hotel policies are well thought out for your safety and the staff. Though you do miss seeing your favorite staff as they are rotating them due to circumstances, but not once was an interaction subpar. Just a wonderful property, mere blocks away from Freedom Park and the main shopping strip, and across the street from a nice, quaint mall. Cannot say enough about the well run</span><span class=\"_1M-1YYJt\"> place and friendly staff. I stayed for over three weeks and not one day did I dread going “home” to the place, but enjoyed every day. </span><span>…</span></q></div><div class=\"_36B4Vw6t\"><div class=\"XUVJZtom\" data-test-target=\"expand-review\"><span class=\"_3maEfNCR\">Read more</span><span class=\"ui_icon caret-down _3aUwQbpX\"></span></div></div></div><div class=\"_1O8E5N17\"><span class=\"_34Xs-BQm\"><span class=\"_355y0nZn\">Date of stay:</span> November 2020</span><span class=\"_1xJceS3A\"><span class=\"_2bVY3aT5\"><span class=\"trip_type_label\">Trip type: </span>Traveled on business</span></span></div><div class=\"_3d_mZXGr\"><span class=\"_3UnecFwl kJ7oOBi9\"><span class=\"_3kbymg8R _2o1bmw1O\">2 Helpful votes</span></span><div class=\"_3SZRHJHk\"><span class=\"_2lqOQqh3\"><span class=\"ui_icon thumbs-up Ak8Bi3Zf\"></span><span class=\"ui_link _1Dl3N9MC\">Helpful</span></span><span class=\"_331VZDkq\"><div><span><div class=\"_1k12Q93K _1k54sSqX\"><span><span class=\"ui_icon share _3g9oGli4\"></span><span class=\"ui_link _3p1vOjv8 socialCTA\">Share<!-- --> </span></span></div></span></div></span></div></div></div></div></div><div class=\"_2wrUUKlw _3hFEdNs8\" data-test-target=\"HR_CC_CARD\"><div class=\"_310S4sqz\"><a class=\"_3x5_awTA ui_social_avatar inline\" href=\"/Profile/tbonaccinj\" target=\"_self\"><img alt=\"\"/></a><div class=\"_2uYWQXeO\"><div class=\"_3TMaHs5O\"><div class=\"overflow\"><span class=\"_3-zQ1eyd _3LR9XvrV\"><svg class=\"_3nS1tofR iG08Yf8B\" height=\"1em\" viewbox=\"0 0 24 24\" width=\"1em\" x=\"0\" y=\"0\"><circle cx=\"4.5\" cy=\"11.9\" r=\"2.5\"></circle><circle cx=\"19.5\" cy=\"11.9\" r=\"2.5\"></circle><circle cx=\"12\" cy=\"11.9\" r=\"2.5\"></circle></svg></span></div><span class=\"_3V8URHDq\"></span></div><div class=\"_2fxQ4TOx\"><span><a class=\"ui_header_link _1r_My98y\" href=\"/Profile/tbonaccinj\">tbonaccinj</a> wrote a review Nov 2020</span></div><div class=\"_1EpRX7o3\"><span class=\"_3fPsSAYi\"><span><span class=\"_1fk70GUn\">29</span> contributions</span></span><span class=\"_3fPsSAYi\"><span><span class=\"_1fk70GUn\">1</span> helpful vote</span></span></div></div></div><div class=\"oETBfkHU\" data-reviewid=\"778147431\"><div class=\"_2UEC-y30\"><div class=\"nf9vGX55\" data-test-target=\"review-rating\"><span class=\"ui_bubble_rating bubble_50\"></span></div></div><div class=\"glasR4aX\" data-test-target=\"review-title\" dir=\"ltr\"><a class=\"ocfR3SKN\" href=\"/ShowUserReviews-g189158-d229324-r778147431-Sheraton_Lisboa_Hotel_Spa-Lisbon_Lisbon_District_Central_Portugal.html\"><span><span>Excellent Stay</span></span></a></div><div class=\"_3hDPbqWO\"><div class=\"_2f_ruteS _1bona3Pu _2uD5bLZZ\"><div class=\"cPQsENeY\" style=\"max-height:160px;line-break:normal;cursor:auto\"><q class=\"IRsGHoPm\"><span>I don’t usually write reviews, but I felt compelled to write a review in view of the hospitality I received during my recent stay at the Sheraton Lisboa Hotel and Spa, in particular because of the efforts of the Front Office Assistant Manager, Mr. César Melgás.  Even before I had made a reservation, he replied to my emails in a timely manner and with professionalism, making sure that my questions and concerns were all addressed.  The hotel takes all the necessary precautions to maximize your safety during these trying times of COVID.  Thank you Mr. Melgás for making this a memorable stay and I will be looking forward to future visits.</span></q></div><div class=\"_36B4Vw6t\"><div class=\"XUVJZtom\" data-test-target=\"expand-review\"><span class=\"_3maEfNCR\">Read more</span><span class=\"ui_icon caret-down _3aUwQbpX\"></span></div></div></div><div class=\"_1O8E5N17\"><span class=\"_34Xs-BQm\"><span class=\"_355y0nZn\">Date of stay:</span> September 2020</span><span class=\"_1xJceS3A\"><div class=\"_1HQD2bGG\"><div class=\"_3ErKuh24 _1OrVnQ-J\"><span class=\"_3-8hSrXs\"><span class=\"ui_bubble_rating bubble_40\"></span></span><span>Rooms</span></div><div class=\"_3ErKuh24 _1OrVnQ-J\"><span class=\"_3-8hSrXs\"><span class=\"ui_bubble_rating bubble_50\"></span></span><span>Cleanliness</span></div><div class=\"_3ErKuh24 _1OrVnQ-J\"><span class=\"_3-8hSrXs\"><span class=\"ui_bubble_rating bubble_50\"></span></span><span>Service</span></div></div></span></div><div class=\"_3d_mZXGr\"><span class=\"_3UnecFwl kJ7oOBi9\"><span class=\"_3kbymg8R _2o1bmw1O\">1 Helpful vote</span></span><div class=\"_3SZRHJHk\"><span class=\"_2lqOQqh3\"><span class=\"ui_icon thumbs-up Ak8Bi3Zf\"></span><span class=\"ui_link _1Dl3N9MC\">Helpful</span></span><span class=\"_331VZDkq\"><div><span><div class=\"_1k12Q93K _1k54sSqX\"><span><span class=\"ui_icon share _3g9oGli4\"></span><span class=\"ui_link _3p1vOjv8 socialCTA\">Share<!-- --> </span></span></div></span></div></span></div></div></div></div></div><div class=\"_2wrUUKlw _3hFEdNs8\" data-test-target=\"HR_CC_CARD\"><div class=\"_310S4sqz\"><a class=\"_3x5_awTA ui_social_avatar inline\" href=\"/Profile/JakobZH79\" target=\"_self\"><img alt=\"\"/></a><div class=\"_2uYWQXeO\"><div class=\"_3TMaHs5O\"><div class=\"overflow\"><span class=\"_3-zQ1eyd _3LR9XvrV\"><svg class=\"_3nS1tofR iG08Yf8B\" height=\"1em\" viewbox=\"0 0 24 24\" width=\"1em\" x=\"0\" y=\"0\"><circle cx=\"4.5\" cy=\"11.9\" r=\"2.5\"></circle><circle cx=\"19.5\" cy=\"11.9\" r=\"2.5\"></circle><circle cx=\"12\" cy=\"11.9\" r=\"2.5\"></circle></svg></span></div><span class=\"_3V8URHDq\"></span></div><div class=\"_2fxQ4TOx\"><span><a class=\"ui_header_link _1r_My98y\" href=\"/Profile/JakobZH79\">JakobZH79</a> wrote a review Nov 2020</span></div><div class=\"_1EpRX7o3\"><span class=\"_1TuWwpYf\"><span class=\"default _3J15flPT small\"><span class=\"ui_icon map-pin-fill _2kj8kWkW\"></span>Zurich, Switzerland</span></span><span class=\"_3fPsSAYi\"><span><span class=\"_1fk70GUn\">10</span> contributions</span></span><span class=\"_3fPsSAYi\"><span><span class=\"_1fk70GUn\">12</span> helpful votes</span></span></div></div></div><div class=\"oETBfkHU\" data-reviewid=\"778064087\"><div class=\"_2UEC-y30\"><div class=\"nf9vGX55\" data-test-target=\"review-rating\"><span class=\"ui_bubble_rating bubble_50\"></span></div></div><div class=\"glasR4aX\" data-test-target=\"review-title\" dir=\"ltr\"><a class=\"ocfR3SKN\" href=\"/ShowUserReviews-g189158-d229324-r778064087-Sheraton_Lisboa_Hotel_Spa-Lisbon_Lisbon_District_Central_Portugal.html\"><span><span>Fabulous staff and service</span></span></a></div><div class=\"_3hDPbqWO\"><div class=\"_2f_ruteS _1bona3Pu _2uD5bLZZ\"><div class=\"cPQsENeY\" style=\"max-height:160px;line-break:normal;cursor:auto\"><q class=\"IRsGHoPm\"><span>In what was my second visit to the Sheraton Lisboa, I left full of praise for literally everyone at the property for their warm welcome, hospitality, flexibility and efforts to make my stay a memorable one, in particular considering the current circumstances with restrictions and weekend curfews impacting the city. I extend a special word of appreciation for all the friendly conversations I could share with everyone at the property during my short 2 night stay (apologies in advance for any approximate spellings): Duty manager Claudia, and Ines and Alexandre at the FO, the entire Lobby F&amp;B team, including Catarina, Irina, Tayna as well as Marlen and Sara at breakfast service. Last but not least, a warm thank you to Carina at the Spa as well. Everyone goes the extra mile and</span><span class=\"_1M-1YYJt\"> strikes an exemplary balance between the professionalism I expect at a Sheraton hotel, and genuine informal engagement with guests. These are not the times to point out any shortcomings of the property itself, as excellent guest service is clearly on top of the property’s agenda. The hotel has found well working solutions to offer most of their facilities to guest while at the same time strictly adhering to restrictions and safety measures, well done! Finally, Marriott Bonvoy loyalty benefits exceeded all my expectations (thanks, Claudia!), and I will be looking much forward to a future visit. Many thanks again to everyone!</span><span>…</span></q></div><div class=\"_36B4Vw6t\"><div class=\"XUVJZtom\" data-test-target=\"expand-review\"><span class=\"_3maEfNCR\">Read more</span><span class=\"ui_icon caret-down _3aUwQbpX\"></span></div></div></div><div class=\"_1O8E5N17\"><span class=\"_34Xs-BQm\"><span class=\"_355y0nZn\">Date of stay:</span> November 2020</span><span class=\"_1xJceS3A\"><span class=\"_2bVY3aT5\"><span class=\"trip_type_label\">Trip type: </span>Traveled solo</span></span></div><div class=\"_3d_mZXGr\"><span class=\"_3UnecFwl kJ7oOBi9\"><span class=\"_3kbymg8R _2o1bmw1O\">1 Helpful vote</span></span><div class=\"_3SZRHJHk\"><span class=\"_2lqOQqh3\"><span class=\"ui_icon thumbs-up Ak8Bi3Zf\"></span><span class=\"ui_link _1Dl3N9MC\">Helpful</span></span><span class=\"_331VZDkq\"><div><span><div class=\"_1k12Q93K _1k54sSqX\"><span><span class=\"ui_icon share _3g9oGli4\"></span><span class=\"ui_link _3p1vOjv8 socialCTA\">Share<!-- --> </span></span></div></span></div></span></div></div></div></div></div><div class=\"_16gKMTFp\"><div class=\"ui_pagination is-centered\"><span class=\"ui_button nav previous secondary disabled\">Previous</span><a class=\"ui_button nav next primary\" href=\"/Hotel_Review-g189158-d229324-Reviews-or5-Sheraton_Lisboa_Hotel_Spa-Lisbon_Lisbon_District_Central_Portugal.html\">Next</a><div class=\"pageNumbers\"><span class=\"pageNum current disabled\">1</span><a class=\"pageNum\" href=\"/Hotel_Review-g189158-d229324-Reviews-or5-Sheraton_Lisboa_Hotel_Spa-Lisbon_Lisbon_District_Central_Portugal.html\">2</a><a class=\"pageNum\" href=\"/Hotel_Review-g189158-d229324-Reviews-or10-Sheraton_Lisboa_Hotel_Spa-Lisbon_Lisbon_District_Central_Portugal.html\">3</a><a class=\"pageNum\" href=\"/Hotel_Review-g189158-d229324-Reviews-or15-Sheraton_Lisboa_Hotel_Spa-Lisbon_Lisbon_District_Central_Portugal.html\">4</a><a class=\"pageNum\" href=\"/Hotel_Review-g189158-d229324-Reviews-or20-Sheraton_Lisboa_Hotel_Spa-Lisbon_Lisbon_District_Central_Portugal.html\">5</a><a class=\"pageNum\" href=\"/Hotel_Review-g189158-d229324-Reviews-or25-Sheraton_Lisboa_Hotel_Spa-Lisbon_Lisbon_District_Central_Portugal.html\">6</a><span class=\"separator\">…</span><a class=\"pageNum\" href=\"/Hotel_Review-g189158-d229324-Reviews-or1610-Sheraton_Lisboa_Hotel_Spa-Lisbon_Lisbon_District_Central_Portugal.html\">323</a></div></div></div></div>]"
      ]
     },
     "metadata": {},
     "execution_count": 27
    }
   ],
   "source": [
    "# Read all reviews\n",
    "\n",
    "reviews = soup.find_all(\"div\", {\"data-test-target\": \"reviews-tab\"})\n",
    "reviews"
   ]
  },
  {
   "cell_type": "code",
   "execution_count": 44,
   "metadata": {},
   "outputs": [
    {
     "output_type": "execute_result",
     "data": {
      "text/plain": [
       "5"
      ]
     },
     "metadata": {},
     "execution_count": 44
    }
   ],
   "source": [
    "# Create a reviews list\n",
    "\n",
    "reviewsList = reviews[0].select('div[class*=_3hFEdNs8]')\n",
    "len(reviewsList)"
   ]
  },
  {
   "cell_type": "code",
   "execution_count": 45,
   "metadata": {},
   "outputs": [
    {
     "output_type": "execute_result",
     "data": {
      "text/plain": [
       "'bubble_50'"
      ]
     },
     "metadata": {},
     "execution_count": 45
    }
   ],
   "source": [
    "# First review rating\n",
    "rrl = reviewsList[0].select(\"span[class*=ui_bubble_rating]\")[0][\"class\"][1]\n",
    "rrl"
   ]
  },
  {
   "cell_type": "code",
   "execution_count": 46,
   "metadata": {},
   "outputs": [
    {
     "output_type": "execute_result",
     "data": {
      "text/plain": [
       "5.0"
      ]
     },
     "metadata": {},
     "execution_count": 46
    }
   ],
   "source": [
    "reviewRating = int(\"\".join(filter(str.isdigit,rrl)))/10\n",
    "reviewRating"
   ]
  },
  {
   "cell_type": "code",
   "execution_count": 47,
   "metadata": {},
   "outputs": [],
   "source": [
    "# Name of user of first review\n",
    "#user = reviewsList[i].select(\"a[class*=ui_header_link]\")[0].get_text()\n",
    "#user"
   ]
  },
  {
   "cell_type": "code",
   "execution_count": 48,
   "metadata": {},
   "outputs": [
    {
     "output_type": "stream",
     "name": "stdout",
     "text": [
      "Travel.mood 5.0 \n The team at sheraton hotel is outstanding! The lady’s who checked me in were super friendly:) thank you for the upgrade to an amazing city view! They provide me everything I need and anticipated my needs: from gym features, luggage assistant, always replacing my waters even if I didn’t requested service.  Thank you!!!! Keep rocking sheraton tem! Duarte was super helpful on getting more weights to my room so I could keep up with my workouts. \nPeter R 5.0 \n Simply fabulous - This hotel is great. The service was terrific and is centrally located to everything. Yes, this hotel is upscale but the service and staff were awesome. I couldn't wait to get back to my room to lie on my bed, it is that comfortable.\n1alwaystraveling 5.0 \n Let me start by saying this property is heads and toes above anything in the area for price, and the customer service is through the roof. From the front desk person, Armando whom provided top notch service, to the cleaning staff that were thorough and diligent. The restaurant was doubling as the club lounge and the food was excellent, to include the breakfasts daily. The entire staff social distances and the hotel policies are well thought out for your safety and the staff. Though you do miss seeing your favorite staff as they are rotating them due to circumstances, but not once was an interaction subpar. Just a wonderful property, mere blocks away from Freedom Park and the main shopping strip, and across the street from a nice, quaint mall. Cannot say enough about the well run place and friendly staff. I stayed for over three weeks and not one day did I dread going “home” to the place, but enjoyed every day. …\ntbonaccinj 5.0 \n I don’t usually write reviews, but I felt compelled to write a review in view of the hospitality I received during my recent stay at the Sheraton Lisboa Hotel and Spa, in particular because of the efforts of the Front Office Assistant Manager, Mr. César Melgás.  Even before I had made a reservation, he replied to my emails in a timely manner and with professionalism, making sure that my questions and concerns were all addressed.  The hotel takes all the necessary precautions to maximize your safety during these trying times of COVID.  Thank you Mr. Melgás for making this a memorable stay and I will be looking forward to future visits.\nJakobZH79 5.0 \n In what was my second visit to the Sheraton Lisboa, I left full of praise for literally everyone at the property for their warm welcome, hospitality, flexibility and efforts to make my stay a memorable one, in particular considering the current circumstances with restrictions and weekend curfews impacting the city. I extend a special word of appreciation for all the friendly conversations I could share with everyone at the property during my short 2 night stay (apologies in advance for any approximate spellings): Duty manager Claudia, and Ines and Alexandre at the FO, the entire Lobby F&B team, including Catarina, Irina, Tayna as well as Marlen and Sara at breakfast service. Last but not least, a warm thank you to Carina at the Spa as well. Everyone goes the extra mile and strikes an exemplary balance between the professionalism I expect at a Sheraton hotel, and genuine informal engagement with guests. These are not the times to point out any shortcomings of the property itself, as excellent guest service is clearly on top of the property’s agenda. The hotel has found well working solutions to offer most of their facilities to guest while at the same time strictly adhering to restrictions and safety measures, well done! Finally, Marriott Bonvoy loyalty benefits exceeded all my expectations (thanks, Claudia!), and I will be looking much forward to a future visit. Many thanks again to everyone!…\n"
     ]
    }
   ],
   "source": [
    "# Get all reviews content\n",
    "\n",
    "for i in range(0,len(reviewsList)):\n",
    "    # Rating\n",
    "    rrl = reviewsList[0].select(\"span[class*=ui_bubble_rating]\")[0][\"class\"][1]\n",
    "    reviewRating = int(\"\".join(filter(str.isdigit,rrl)))/10\n",
    "\n",
    "    # Get user name\n",
    "    user = reviewsList[i].select(\"a[class*=ui_header_link]\")[0].get_text()\n",
    "\n",
    "    # Review\n",
    "    text = reviewsList[i].select(\"q[class*=IRsGHoPm]\")[0].get_text()\n",
    "\n",
    "    print(user, reviewRating, '\\n' , text)"
   ]
  },
  {
   "cell_type": "code",
   "execution_count": 49,
   "metadata": {},
   "outputs": [],
   "source": [
    "# Import selenium\n",
    "\n",
    "# Import selenium\n",
    "from selenium import webdriver\n",
    "from selenium.webdriver.firefox.firefox_binary import FirefoxBinary\n",
    "from selenium.webdriver.firefox.options import Options"
   ]
  },
  {
   "cell_type": "code",
   "execution_count": 50,
   "metadata": {},
   "outputs": [],
   "source": [
    "# Prepare to open firefox\n",
    "\n",
    "options = Options()\n",
    "browser = webdriver.Firefox(options=options, executable_path=r'/Users/lagonick/Documents/GitHub Repositories/DataScience4Marketing/SMA/Week 6 - Hotels Reviews/geckodriver')\n",
    "browser.get('https://www.tripadvisor.com/Hotel_Review-g189158-d229324-Reviews-Sheraton_Lisboa_Hotel_Spa-Lisbon_Lisbon_District_Central_Portugal.html')"
   ]
  },
  {
   "cell_type": "code",
   "execution_count": null,
   "metadata": {},
   "outputs": [],
   "source": []
  },
  {
   "cell_type": "code",
   "execution_count": 51,
   "metadata": {},
   "outputs": [],
   "source": [
    "# Prepare to open firefox\n",
    "\n",
    "options = Options()\n",
    "browser = webdriver.Firefox(options=options)\n",
    "browser.get('https://www.tripadvisor.com/Hotel_Review-g189158-d229324-Reviews-Sheraton_Lisboa_Hotel_Spa-Lisbon_Lisbon_District_Central_Portugal.html')"
   ]
  },
  {
   "cell_type": "code",
   "execution_count": 52,
   "metadata": {},
   "outputs": [],
   "source": [
    "# Click privacy button\n",
    "privacy_button = browser.find_elements_by_id(\"_evidon-accept-button\")\n",
    "if len(privacy_button)>0:\n",
    "    browser.execute_script(\"arguments[0].click()\", privacy_button[0])"
   ]
  },
  {
   "cell_type": "code",
   "execution_count": 53,
   "metadata": {},
   "outputs": [],
   "source": [
    "# Move into first review and click the button \n",
    "read_more_buttons = browser.find_elements_by_class_name(\"_3maEfNCR\")\n",
    "if len(read_more_buttons) > 0:\n",
    "    browser.execute_script(\"arguments[0].scrollIntoView(true);\", read_more_buttons[0])\n",
    "    browser.execute_script(\"arguments[0].click()\", read_more_buttons[0])"
   ]
  },
  {
   "cell_type": "code",
   "execution_count": 56,
   "metadata": {},
   "outputs": [
    {
     "output_type": "error",
     "ename": "MaxRetryError",
     "evalue": "HTTPConnectionPool(host='127.0.0.1', port=58973): Max retries exceeded with url: /session/0da974f2-4c8e-e844-bf0c-6a784d1417b9/source (Caused by NewConnectionError('<urllib3.connection.HTTPConnection object at 0x7f8726b432d0>: Failed to establish a new connection: [Errno 61] Connection refused'))",
     "traceback": [
      "\u001b[0;31m---------------------------------------------------------------------------\u001b[0m",
      "\u001b[0;31mConnectionRefusedError\u001b[0m                    Traceback (most recent call last)",
      "\u001b[0;32m~/opt/anaconda3/lib/python3.7/site-packages/urllib3/connection.py\u001b[0m in \u001b[0;36m_new_conn\u001b[0;34m(self)\u001b[0m\n\u001b[1;32m    156\u001b[0m             conn = connection.create_connection(\n\u001b[0;32m--> 157\u001b[0;31m                 \u001b[0;34m(\u001b[0m\u001b[0mself\u001b[0m\u001b[0;34m.\u001b[0m\u001b[0m_dns_host\u001b[0m\u001b[0;34m,\u001b[0m \u001b[0mself\u001b[0m\u001b[0;34m.\u001b[0m\u001b[0mport\u001b[0m\u001b[0;34m)\u001b[0m\u001b[0;34m,\u001b[0m \u001b[0mself\u001b[0m\u001b[0;34m.\u001b[0m\u001b[0mtimeout\u001b[0m\u001b[0;34m,\u001b[0m \u001b[0;34m**\u001b[0m\u001b[0mextra_kw\u001b[0m\u001b[0;34m\u001b[0m\u001b[0;34m\u001b[0m\u001b[0m\n\u001b[0m\u001b[1;32m    158\u001b[0m             )\n",
      "\u001b[0;32m~/opt/anaconda3/lib/python3.7/site-packages/urllib3/util/connection.py\u001b[0m in \u001b[0;36mcreate_connection\u001b[0;34m(address, timeout, source_address, socket_options)\u001b[0m\n\u001b[1;32m     83\u001b[0m     \u001b[0;32mif\u001b[0m \u001b[0merr\u001b[0m \u001b[0;32mis\u001b[0m \u001b[0;32mnot\u001b[0m \u001b[0;32mNone\u001b[0m\u001b[0;34m:\u001b[0m\u001b[0;34m\u001b[0m\u001b[0;34m\u001b[0m\u001b[0m\n\u001b[0;32m---> 84\u001b[0;31m         \u001b[0;32mraise\u001b[0m \u001b[0merr\u001b[0m\u001b[0;34m\u001b[0m\u001b[0;34m\u001b[0m\u001b[0m\n\u001b[0m\u001b[1;32m     85\u001b[0m \u001b[0;34m\u001b[0m\u001b[0m\n",
      "\u001b[0;32m~/opt/anaconda3/lib/python3.7/site-packages/urllib3/util/connection.py\u001b[0m in \u001b[0;36mcreate_connection\u001b[0;34m(address, timeout, source_address, socket_options)\u001b[0m\n\u001b[1;32m     73\u001b[0m                 \u001b[0msock\u001b[0m\u001b[0;34m.\u001b[0m\u001b[0mbind\u001b[0m\u001b[0;34m(\u001b[0m\u001b[0msource_address\u001b[0m\u001b[0;34m)\u001b[0m\u001b[0;34m\u001b[0m\u001b[0;34m\u001b[0m\u001b[0m\n\u001b[0;32m---> 74\u001b[0;31m             \u001b[0msock\u001b[0m\u001b[0;34m.\u001b[0m\u001b[0mconnect\u001b[0m\u001b[0;34m(\u001b[0m\u001b[0msa\u001b[0m\u001b[0;34m)\u001b[0m\u001b[0;34m\u001b[0m\u001b[0;34m\u001b[0m\u001b[0m\n\u001b[0m\u001b[1;32m     75\u001b[0m             \u001b[0;32mreturn\u001b[0m \u001b[0msock\u001b[0m\u001b[0;34m\u001b[0m\u001b[0;34m\u001b[0m\u001b[0m\n",
      "\u001b[0;31mConnectionRefusedError\u001b[0m: [Errno 61] Connection refused",
      "\nDuring handling of the above exception, another exception occurred:\n",
      "\u001b[0;31mNewConnectionError\u001b[0m                        Traceback (most recent call last)",
      "\u001b[0;32m~/opt/anaconda3/lib/python3.7/site-packages/urllib3/connectionpool.py\u001b[0m in \u001b[0;36murlopen\u001b[0;34m(self, method, url, body, headers, retries, redirect, assert_same_host, timeout, pool_timeout, release_conn, chunked, body_pos, **response_kw)\u001b[0m\n\u001b[1;32m    671\u001b[0m                 \u001b[0mheaders\u001b[0m\u001b[0;34m=\u001b[0m\u001b[0mheaders\u001b[0m\u001b[0;34m,\u001b[0m\u001b[0;34m\u001b[0m\u001b[0;34m\u001b[0m\u001b[0m\n\u001b[0;32m--> 672\u001b[0;31m                 \u001b[0mchunked\u001b[0m\u001b[0;34m=\u001b[0m\u001b[0mchunked\u001b[0m\u001b[0;34m,\u001b[0m\u001b[0;34m\u001b[0m\u001b[0;34m\u001b[0m\u001b[0m\n\u001b[0m\u001b[1;32m    673\u001b[0m             )\n",
      "\u001b[0;32m~/opt/anaconda3/lib/python3.7/site-packages/urllib3/connectionpool.py\u001b[0m in \u001b[0;36m_make_request\u001b[0;34m(self, conn, method, url, timeout, chunked, **httplib_request_kw)\u001b[0m\n\u001b[1;32m    386\u001b[0m         \u001b[0;32melse\u001b[0m\u001b[0;34m:\u001b[0m\u001b[0;34m\u001b[0m\u001b[0;34m\u001b[0m\u001b[0m\n\u001b[0;32m--> 387\u001b[0;31m             \u001b[0mconn\u001b[0m\u001b[0;34m.\u001b[0m\u001b[0mrequest\u001b[0m\u001b[0;34m(\u001b[0m\u001b[0mmethod\u001b[0m\u001b[0;34m,\u001b[0m \u001b[0murl\u001b[0m\u001b[0;34m,\u001b[0m \u001b[0;34m**\u001b[0m\u001b[0mhttplib_request_kw\u001b[0m\u001b[0;34m)\u001b[0m\u001b[0;34m\u001b[0m\u001b[0;34m\u001b[0m\u001b[0m\n\u001b[0m\u001b[1;32m    388\u001b[0m \u001b[0;34m\u001b[0m\u001b[0m\n",
      "\u001b[0;32m~/opt/anaconda3/lib/python3.7/http/client.py\u001b[0m in \u001b[0;36mrequest\u001b[0;34m(self, method, url, body, headers, encode_chunked)\u001b[0m\n\u001b[1;32m   1251\u001b[0m         \u001b[0;34m\"\"\"Send a complete request to the server.\"\"\"\u001b[0m\u001b[0;34m\u001b[0m\u001b[0;34m\u001b[0m\u001b[0m\n\u001b[0;32m-> 1252\u001b[0;31m         \u001b[0mself\u001b[0m\u001b[0;34m.\u001b[0m\u001b[0m_send_request\u001b[0m\u001b[0;34m(\u001b[0m\u001b[0mmethod\u001b[0m\u001b[0;34m,\u001b[0m \u001b[0murl\u001b[0m\u001b[0;34m,\u001b[0m \u001b[0mbody\u001b[0m\u001b[0;34m,\u001b[0m \u001b[0mheaders\u001b[0m\u001b[0;34m,\u001b[0m \u001b[0mencode_chunked\u001b[0m\u001b[0;34m)\u001b[0m\u001b[0;34m\u001b[0m\u001b[0;34m\u001b[0m\u001b[0m\n\u001b[0m\u001b[1;32m   1253\u001b[0m \u001b[0;34m\u001b[0m\u001b[0m\n",
      "\u001b[0;32m~/opt/anaconda3/lib/python3.7/http/client.py\u001b[0m in \u001b[0;36m_send_request\u001b[0;34m(self, method, url, body, headers, encode_chunked)\u001b[0m\n\u001b[1;32m   1297\u001b[0m             \u001b[0mbody\u001b[0m \u001b[0;34m=\u001b[0m \u001b[0m_encode\u001b[0m\u001b[0;34m(\u001b[0m\u001b[0mbody\u001b[0m\u001b[0;34m,\u001b[0m \u001b[0;34m'body'\u001b[0m\u001b[0;34m)\u001b[0m\u001b[0;34m\u001b[0m\u001b[0;34m\u001b[0m\u001b[0m\n\u001b[0;32m-> 1298\u001b[0;31m         \u001b[0mself\u001b[0m\u001b[0;34m.\u001b[0m\u001b[0mendheaders\u001b[0m\u001b[0;34m(\u001b[0m\u001b[0mbody\u001b[0m\u001b[0;34m,\u001b[0m \u001b[0mencode_chunked\u001b[0m\u001b[0;34m=\u001b[0m\u001b[0mencode_chunked\u001b[0m\u001b[0;34m)\u001b[0m\u001b[0;34m\u001b[0m\u001b[0;34m\u001b[0m\u001b[0m\n\u001b[0m\u001b[1;32m   1299\u001b[0m \u001b[0;34m\u001b[0m\u001b[0m\n",
      "\u001b[0;32m~/opt/anaconda3/lib/python3.7/http/client.py\u001b[0m in \u001b[0;36mendheaders\u001b[0;34m(self, message_body, encode_chunked)\u001b[0m\n\u001b[1;32m   1246\u001b[0m             \u001b[0;32mraise\u001b[0m \u001b[0mCannotSendHeader\u001b[0m\u001b[0;34m(\u001b[0m\u001b[0;34m)\u001b[0m\u001b[0;34m\u001b[0m\u001b[0;34m\u001b[0m\u001b[0m\n\u001b[0;32m-> 1247\u001b[0;31m         \u001b[0mself\u001b[0m\u001b[0;34m.\u001b[0m\u001b[0m_send_output\u001b[0m\u001b[0;34m(\u001b[0m\u001b[0mmessage_body\u001b[0m\u001b[0;34m,\u001b[0m \u001b[0mencode_chunked\u001b[0m\u001b[0;34m=\u001b[0m\u001b[0mencode_chunked\u001b[0m\u001b[0;34m)\u001b[0m\u001b[0;34m\u001b[0m\u001b[0;34m\u001b[0m\u001b[0m\n\u001b[0m\u001b[1;32m   1248\u001b[0m \u001b[0;34m\u001b[0m\u001b[0m\n",
      "\u001b[0;32m~/opt/anaconda3/lib/python3.7/http/client.py\u001b[0m in \u001b[0;36m_send_output\u001b[0;34m(self, message_body, encode_chunked)\u001b[0m\n\u001b[1;32m   1025\u001b[0m         \u001b[0;32mdel\u001b[0m \u001b[0mself\u001b[0m\u001b[0;34m.\u001b[0m\u001b[0m_buffer\u001b[0m\u001b[0;34m[\u001b[0m\u001b[0;34m:\u001b[0m\u001b[0;34m]\u001b[0m\u001b[0;34m\u001b[0m\u001b[0;34m\u001b[0m\u001b[0m\n\u001b[0;32m-> 1026\u001b[0;31m         \u001b[0mself\u001b[0m\u001b[0;34m.\u001b[0m\u001b[0msend\u001b[0m\u001b[0;34m(\u001b[0m\u001b[0mmsg\u001b[0m\u001b[0;34m)\u001b[0m\u001b[0;34m\u001b[0m\u001b[0;34m\u001b[0m\u001b[0m\n\u001b[0m\u001b[1;32m   1027\u001b[0m \u001b[0;34m\u001b[0m\u001b[0m\n",
      "\u001b[0;32m~/opt/anaconda3/lib/python3.7/http/client.py\u001b[0m in \u001b[0;36msend\u001b[0;34m(self, data)\u001b[0m\n\u001b[1;32m    965\u001b[0m             \u001b[0;32mif\u001b[0m \u001b[0mself\u001b[0m\u001b[0;34m.\u001b[0m\u001b[0mauto_open\u001b[0m\u001b[0;34m:\u001b[0m\u001b[0;34m\u001b[0m\u001b[0;34m\u001b[0m\u001b[0m\n\u001b[0;32m--> 966\u001b[0;31m                 \u001b[0mself\u001b[0m\u001b[0;34m.\u001b[0m\u001b[0mconnect\u001b[0m\u001b[0;34m(\u001b[0m\u001b[0;34m)\u001b[0m\u001b[0;34m\u001b[0m\u001b[0;34m\u001b[0m\u001b[0m\n\u001b[0m\u001b[1;32m    967\u001b[0m             \u001b[0;32melse\u001b[0m\u001b[0;34m:\u001b[0m\u001b[0;34m\u001b[0m\u001b[0;34m\u001b[0m\u001b[0m\n",
      "\u001b[0;32m~/opt/anaconda3/lib/python3.7/site-packages/urllib3/connection.py\u001b[0m in \u001b[0;36mconnect\u001b[0;34m(self)\u001b[0m\n\u001b[1;32m    183\u001b[0m     \u001b[0;32mdef\u001b[0m \u001b[0mconnect\u001b[0m\u001b[0;34m(\u001b[0m\u001b[0mself\u001b[0m\u001b[0;34m)\u001b[0m\u001b[0;34m:\u001b[0m\u001b[0;34m\u001b[0m\u001b[0;34m\u001b[0m\u001b[0m\n\u001b[0;32m--> 184\u001b[0;31m         \u001b[0mconn\u001b[0m \u001b[0;34m=\u001b[0m \u001b[0mself\u001b[0m\u001b[0;34m.\u001b[0m\u001b[0m_new_conn\u001b[0m\u001b[0;34m(\u001b[0m\u001b[0;34m)\u001b[0m\u001b[0;34m\u001b[0m\u001b[0;34m\u001b[0m\u001b[0m\n\u001b[0m\u001b[1;32m    185\u001b[0m         \u001b[0mself\u001b[0m\u001b[0;34m.\u001b[0m\u001b[0m_prepare_conn\u001b[0m\u001b[0;34m(\u001b[0m\u001b[0mconn\u001b[0m\u001b[0;34m)\u001b[0m\u001b[0;34m\u001b[0m\u001b[0;34m\u001b[0m\u001b[0m\n",
      "\u001b[0;32m~/opt/anaconda3/lib/python3.7/site-packages/urllib3/connection.py\u001b[0m in \u001b[0;36m_new_conn\u001b[0;34m(self)\u001b[0m\n\u001b[1;32m    168\u001b[0m             raise NewConnectionError(\n\u001b[0;32m--> 169\u001b[0;31m                 \u001b[0mself\u001b[0m\u001b[0;34m,\u001b[0m \u001b[0;34m\"Failed to establish a new connection: %s\"\u001b[0m \u001b[0;34m%\u001b[0m \u001b[0me\u001b[0m\u001b[0;34m\u001b[0m\u001b[0;34m\u001b[0m\u001b[0m\n\u001b[0m\u001b[1;32m    170\u001b[0m             )\n",
      "\u001b[0;31mNewConnectionError\u001b[0m: <urllib3.connection.HTTPConnection object at 0x7f8726b432d0>: Failed to establish a new connection: [Errno 61] Connection refused",
      "\nDuring handling of the above exception, another exception occurred:\n",
      "\u001b[0;31mMaxRetryError\u001b[0m                             Traceback (most recent call last)",
      "\u001b[0;32m<ipython-input-56-6066fe382465>\u001b[0m in \u001b[0;36m<module>\u001b[0;34m\u001b[0m\n\u001b[1;32m      1\u001b[0m \u001b[0;31m# Read complete HTML\u001b[0m\u001b[0;34m\u001b[0m\u001b[0;34m\u001b[0m\u001b[0;34m\u001b[0m\u001b[0m\n\u001b[0;32m----> 2\u001b[0;31m \u001b[0mhtml_source\u001b[0m \u001b[0;34m=\u001b[0m \u001b[0mbrowser\u001b[0m\u001b[0;34m.\u001b[0m\u001b[0mpage_source\u001b[0m\u001b[0;34m\u001b[0m\u001b[0;34m\u001b[0m\u001b[0m\n\u001b[0m\u001b[1;32m      3\u001b[0m \u001b[0mbrowser\u001b[0m\u001b[0;34m.\u001b[0m\u001b[0mquit\u001b[0m\u001b[0;34m(\u001b[0m\u001b[0;34m)\u001b[0m\u001b[0;34m\u001b[0m\u001b[0;34m\u001b[0m\u001b[0m\n",
      "\u001b[0;32m~/opt/anaconda3/lib/python3.7/site-packages/selenium/webdriver/remote/webdriver.py\u001b[0m in \u001b[0;36mpage_source\u001b[0;34m(self)\u001b[0m\n\u001b[1;32m    677\u001b[0m             \u001b[0mdriver\u001b[0m\u001b[0;34m.\u001b[0m\u001b[0mpage_source\u001b[0m\u001b[0;34m\u001b[0m\u001b[0;34m\u001b[0m\u001b[0m\n\u001b[1;32m    678\u001b[0m         \"\"\"\n\u001b[0;32m--> 679\u001b[0;31m         \u001b[0;32mreturn\u001b[0m \u001b[0mself\u001b[0m\u001b[0;34m.\u001b[0m\u001b[0mexecute\u001b[0m\u001b[0;34m(\u001b[0m\u001b[0mCommand\u001b[0m\u001b[0;34m.\u001b[0m\u001b[0mGET_PAGE_SOURCE\u001b[0m\u001b[0;34m)\u001b[0m\u001b[0;34m[\u001b[0m\u001b[0;34m'value'\u001b[0m\u001b[0;34m]\u001b[0m\u001b[0;34m\u001b[0m\u001b[0;34m\u001b[0m\u001b[0m\n\u001b[0m\u001b[1;32m    680\u001b[0m \u001b[0;34m\u001b[0m\u001b[0m\n\u001b[1;32m    681\u001b[0m     \u001b[0;32mdef\u001b[0m \u001b[0mclose\u001b[0m\u001b[0;34m(\u001b[0m\u001b[0mself\u001b[0m\u001b[0;34m)\u001b[0m\u001b[0;34m:\u001b[0m\u001b[0;34m\u001b[0m\u001b[0;34m\u001b[0m\u001b[0m\n",
      "\u001b[0;32m~/opt/anaconda3/lib/python3.7/site-packages/selenium/webdriver/remote/webdriver.py\u001b[0m in \u001b[0;36mexecute\u001b[0;34m(self, driver_command, params)\u001b[0m\n\u001b[1;32m    317\u001b[0m \u001b[0;34m\u001b[0m\u001b[0m\n\u001b[1;32m    318\u001b[0m         \u001b[0mparams\u001b[0m \u001b[0;34m=\u001b[0m \u001b[0mself\u001b[0m\u001b[0;34m.\u001b[0m\u001b[0m_wrap_value\u001b[0m\u001b[0;34m(\u001b[0m\u001b[0mparams\u001b[0m\u001b[0;34m)\u001b[0m\u001b[0;34m\u001b[0m\u001b[0;34m\u001b[0m\u001b[0m\n\u001b[0;32m--> 319\u001b[0;31m         \u001b[0mresponse\u001b[0m \u001b[0;34m=\u001b[0m \u001b[0mself\u001b[0m\u001b[0;34m.\u001b[0m\u001b[0mcommand_executor\u001b[0m\u001b[0;34m.\u001b[0m\u001b[0mexecute\u001b[0m\u001b[0;34m(\u001b[0m\u001b[0mdriver_command\u001b[0m\u001b[0;34m,\u001b[0m \u001b[0mparams\u001b[0m\u001b[0;34m)\u001b[0m\u001b[0;34m\u001b[0m\u001b[0;34m\u001b[0m\u001b[0m\n\u001b[0m\u001b[1;32m    320\u001b[0m         \u001b[0;32mif\u001b[0m \u001b[0mresponse\u001b[0m\u001b[0;34m:\u001b[0m\u001b[0;34m\u001b[0m\u001b[0;34m\u001b[0m\u001b[0m\n\u001b[1;32m    321\u001b[0m             \u001b[0mself\u001b[0m\u001b[0;34m.\u001b[0m\u001b[0merror_handler\u001b[0m\u001b[0;34m.\u001b[0m\u001b[0mcheck_response\u001b[0m\u001b[0;34m(\u001b[0m\u001b[0mresponse\u001b[0m\u001b[0;34m)\u001b[0m\u001b[0;34m\u001b[0m\u001b[0;34m\u001b[0m\u001b[0m\n",
      "\u001b[0;32m~/opt/anaconda3/lib/python3.7/site-packages/selenium/webdriver/remote/remote_connection.py\u001b[0m in \u001b[0;36mexecute\u001b[0;34m(self, command, params)\u001b[0m\n\u001b[1;32m    372\u001b[0m         \u001b[0mdata\u001b[0m \u001b[0;34m=\u001b[0m \u001b[0mutils\u001b[0m\u001b[0;34m.\u001b[0m\u001b[0mdump_json\u001b[0m\u001b[0;34m(\u001b[0m\u001b[0mparams\u001b[0m\u001b[0;34m)\u001b[0m\u001b[0;34m\u001b[0m\u001b[0;34m\u001b[0m\u001b[0m\n\u001b[1;32m    373\u001b[0m         \u001b[0murl\u001b[0m \u001b[0;34m=\u001b[0m \u001b[0;34m'%s%s'\u001b[0m \u001b[0;34m%\u001b[0m \u001b[0;34m(\u001b[0m\u001b[0mself\u001b[0m\u001b[0;34m.\u001b[0m\u001b[0m_url\u001b[0m\u001b[0;34m,\u001b[0m \u001b[0mpath\u001b[0m\u001b[0;34m)\u001b[0m\u001b[0;34m\u001b[0m\u001b[0;34m\u001b[0m\u001b[0m\n\u001b[0;32m--> 374\u001b[0;31m         \u001b[0;32mreturn\u001b[0m \u001b[0mself\u001b[0m\u001b[0;34m.\u001b[0m\u001b[0m_request\u001b[0m\u001b[0;34m(\u001b[0m\u001b[0mcommand_info\u001b[0m\u001b[0;34m[\u001b[0m\u001b[0;36m0\u001b[0m\u001b[0;34m]\u001b[0m\u001b[0;34m,\u001b[0m \u001b[0murl\u001b[0m\u001b[0;34m,\u001b[0m \u001b[0mbody\u001b[0m\u001b[0;34m=\u001b[0m\u001b[0mdata\u001b[0m\u001b[0;34m)\u001b[0m\u001b[0;34m\u001b[0m\u001b[0;34m\u001b[0m\u001b[0m\n\u001b[0m\u001b[1;32m    375\u001b[0m \u001b[0;34m\u001b[0m\u001b[0m\n\u001b[1;32m    376\u001b[0m     \u001b[0;32mdef\u001b[0m \u001b[0m_request\u001b[0m\u001b[0;34m(\u001b[0m\u001b[0mself\u001b[0m\u001b[0;34m,\u001b[0m \u001b[0mmethod\u001b[0m\u001b[0;34m,\u001b[0m \u001b[0murl\u001b[0m\u001b[0;34m,\u001b[0m \u001b[0mbody\u001b[0m\u001b[0;34m=\u001b[0m\u001b[0;32mNone\u001b[0m\u001b[0;34m)\u001b[0m\u001b[0;34m:\u001b[0m\u001b[0;34m\u001b[0m\u001b[0;34m\u001b[0m\u001b[0m\n",
      "\u001b[0;32m~/opt/anaconda3/lib/python3.7/site-packages/selenium/webdriver/remote/remote_connection.py\u001b[0m in \u001b[0;36m_request\u001b[0;34m(self, method, url, body)\u001b[0m\n\u001b[1;32m    395\u001b[0m \u001b[0;34m\u001b[0m\u001b[0m\n\u001b[1;32m    396\u001b[0m         \u001b[0;32mif\u001b[0m \u001b[0mself\u001b[0m\u001b[0;34m.\u001b[0m\u001b[0mkeep_alive\u001b[0m\u001b[0;34m:\u001b[0m\u001b[0;34m\u001b[0m\u001b[0;34m\u001b[0m\u001b[0m\n\u001b[0;32m--> 397\u001b[0;31m             \u001b[0mresp\u001b[0m \u001b[0;34m=\u001b[0m \u001b[0mself\u001b[0m\u001b[0;34m.\u001b[0m\u001b[0m_conn\u001b[0m\u001b[0;34m.\u001b[0m\u001b[0mrequest\u001b[0m\u001b[0;34m(\u001b[0m\u001b[0mmethod\u001b[0m\u001b[0;34m,\u001b[0m \u001b[0murl\u001b[0m\u001b[0;34m,\u001b[0m \u001b[0mbody\u001b[0m\u001b[0;34m=\u001b[0m\u001b[0mbody\u001b[0m\u001b[0;34m,\u001b[0m \u001b[0mheaders\u001b[0m\u001b[0;34m=\u001b[0m\u001b[0mheaders\u001b[0m\u001b[0;34m)\u001b[0m\u001b[0;34m\u001b[0m\u001b[0;34m\u001b[0m\u001b[0m\n\u001b[0m\u001b[1;32m    398\u001b[0m \u001b[0;34m\u001b[0m\u001b[0m\n\u001b[1;32m    399\u001b[0m             \u001b[0mstatuscode\u001b[0m \u001b[0;34m=\u001b[0m \u001b[0mresp\u001b[0m\u001b[0;34m.\u001b[0m\u001b[0mstatus\u001b[0m\u001b[0;34m\u001b[0m\u001b[0;34m\u001b[0m\u001b[0m\n",
      "\u001b[0;32m~/opt/anaconda3/lib/python3.7/site-packages/urllib3/request.py\u001b[0m in \u001b[0;36mrequest\u001b[0;34m(self, method, url, fields, headers, **urlopen_kw)\u001b[0m\n\u001b[1;32m     74\u001b[0m         \u001b[0;32mif\u001b[0m \u001b[0mmethod\u001b[0m \u001b[0;32min\u001b[0m \u001b[0mself\u001b[0m\u001b[0;34m.\u001b[0m\u001b[0m_encode_url_methods\u001b[0m\u001b[0;34m:\u001b[0m\u001b[0;34m\u001b[0m\u001b[0;34m\u001b[0m\u001b[0m\n\u001b[1;32m     75\u001b[0m             return self.request_encode_url(\n\u001b[0;32m---> 76\u001b[0;31m                 \u001b[0mmethod\u001b[0m\u001b[0;34m,\u001b[0m \u001b[0murl\u001b[0m\u001b[0;34m,\u001b[0m \u001b[0mfields\u001b[0m\u001b[0;34m=\u001b[0m\u001b[0mfields\u001b[0m\u001b[0;34m,\u001b[0m \u001b[0mheaders\u001b[0m\u001b[0;34m=\u001b[0m\u001b[0mheaders\u001b[0m\u001b[0;34m,\u001b[0m \u001b[0;34m**\u001b[0m\u001b[0murlopen_kw\u001b[0m\u001b[0;34m\u001b[0m\u001b[0;34m\u001b[0m\u001b[0m\n\u001b[0m\u001b[1;32m     77\u001b[0m             )\n\u001b[1;32m     78\u001b[0m         \u001b[0;32melse\u001b[0m\u001b[0;34m:\u001b[0m\u001b[0;34m\u001b[0m\u001b[0;34m\u001b[0m\u001b[0m\n",
      "\u001b[0;32m~/opt/anaconda3/lib/python3.7/site-packages/urllib3/request.py\u001b[0m in \u001b[0;36mrequest_encode_url\u001b[0;34m(self, method, url, fields, headers, **urlopen_kw)\u001b[0m\n\u001b[1;32m     95\u001b[0m             \u001b[0murl\u001b[0m \u001b[0;34m+=\u001b[0m \u001b[0;34m\"?\"\u001b[0m \u001b[0;34m+\u001b[0m \u001b[0murlencode\u001b[0m\u001b[0;34m(\u001b[0m\u001b[0mfields\u001b[0m\u001b[0;34m)\u001b[0m\u001b[0;34m\u001b[0m\u001b[0;34m\u001b[0m\u001b[0m\n\u001b[1;32m     96\u001b[0m \u001b[0;34m\u001b[0m\u001b[0m\n\u001b[0;32m---> 97\u001b[0;31m         \u001b[0;32mreturn\u001b[0m \u001b[0mself\u001b[0m\u001b[0;34m.\u001b[0m\u001b[0murlopen\u001b[0m\u001b[0;34m(\u001b[0m\u001b[0mmethod\u001b[0m\u001b[0;34m,\u001b[0m \u001b[0murl\u001b[0m\u001b[0;34m,\u001b[0m \u001b[0;34m**\u001b[0m\u001b[0mextra_kw\u001b[0m\u001b[0;34m)\u001b[0m\u001b[0;34m\u001b[0m\u001b[0;34m\u001b[0m\u001b[0m\n\u001b[0m\u001b[1;32m     98\u001b[0m \u001b[0;34m\u001b[0m\u001b[0m\n\u001b[1;32m     99\u001b[0m     def request_encode_body(\n",
      "\u001b[0;32m~/opt/anaconda3/lib/python3.7/site-packages/urllib3/poolmanager.py\u001b[0m in \u001b[0;36murlopen\u001b[0;34m(self, method, url, redirect, **kw)\u001b[0m\n\u001b[1;32m    328\u001b[0m             \u001b[0mresponse\u001b[0m \u001b[0;34m=\u001b[0m \u001b[0mconn\u001b[0m\u001b[0;34m.\u001b[0m\u001b[0murlopen\u001b[0m\u001b[0;34m(\u001b[0m\u001b[0mmethod\u001b[0m\u001b[0;34m,\u001b[0m \u001b[0murl\u001b[0m\u001b[0;34m,\u001b[0m \u001b[0;34m**\u001b[0m\u001b[0mkw\u001b[0m\u001b[0;34m)\u001b[0m\u001b[0;34m\u001b[0m\u001b[0;34m\u001b[0m\u001b[0m\n\u001b[1;32m    329\u001b[0m         \u001b[0;32melse\u001b[0m\u001b[0;34m:\u001b[0m\u001b[0;34m\u001b[0m\u001b[0;34m\u001b[0m\u001b[0m\n\u001b[0;32m--> 330\u001b[0;31m             \u001b[0mresponse\u001b[0m \u001b[0;34m=\u001b[0m \u001b[0mconn\u001b[0m\u001b[0;34m.\u001b[0m\u001b[0murlopen\u001b[0m\u001b[0;34m(\u001b[0m\u001b[0mmethod\u001b[0m\u001b[0;34m,\u001b[0m \u001b[0mu\u001b[0m\u001b[0;34m.\u001b[0m\u001b[0mrequest_uri\u001b[0m\u001b[0;34m,\u001b[0m \u001b[0;34m**\u001b[0m\u001b[0mkw\u001b[0m\u001b[0;34m)\u001b[0m\u001b[0;34m\u001b[0m\u001b[0;34m\u001b[0m\u001b[0m\n\u001b[0m\u001b[1;32m    331\u001b[0m \u001b[0;34m\u001b[0m\u001b[0m\n\u001b[1;32m    332\u001b[0m         \u001b[0mredirect_location\u001b[0m \u001b[0;34m=\u001b[0m \u001b[0mredirect\u001b[0m \u001b[0;32mand\u001b[0m \u001b[0mresponse\u001b[0m\u001b[0;34m.\u001b[0m\u001b[0mget_redirect_location\u001b[0m\u001b[0;34m(\u001b[0m\u001b[0;34m)\u001b[0m\u001b[0;34m\u001b[0m\u001b[0;34m\u001b[0m\u001b[0m\n",
      "\u001b[0;32m~/opt/anaconda3/lib/python3.7/site-packages/urllib3/connectionpool.py\u001b[0m in \u001b[0;36murlopen\u001b[0;34m(self, method, url, body, headers, retries, redirect, assert_same_host, timeout, pool_timeout, release_conn, chunked, body_pos, **response_kw)\u001b[0m\n\u001b[1;32m    758\u001b[0m                 \u001b[0mchunked\u001b[0m\u001b[0;34m=\u001b[0m\u001b[0mchunked\u001b[0m\u001b[0;34m,\u001b[0m\u001b[0;34m\u001b[0m\u001b[0;34m\u001b[0m\u001b[0m\n\u001b[1;32m    759\u001b[0m                 \u001b[0mbody_pos\u001b[0m\u001b[0;34m=\u001b[0m\u001b[0mbody_pos\u001b[0m\u001b[0;34m,\u001b[0m\u001b[0;34m\u001b[0m\u001b[0;34m\u001b[0m\u001b[0m\n\u001b[0;32m--> 760\u001b[0;31m                 \u001b[0;34m**\u001b[0m\u001b[0mresponse_kw\u001b[0m\u001b[0;34m\u001b[0m\u001b[0;34m\u001b[0m\u001b[0m\n\u001b[0m\u001b[1;32m    761\u001b[0m             )\n\u001b[1;32m    762\u001b[0m \u001b[0;34m\u001b[0m\u001b[0m\n",
      "\u001b[0;32m~/opt/anaconda3/lib/python3.7/site-packages/urllib3/connectionpool.py\u001b[0m in \u001b[0;36murlopen\u001b[0;34m(self, method, url, body, headers, retries, redirect, assert_same_host, timeout, pool_timeout, release_conn, chunked, body_pos, **response_kw)\u001b[0m\n\u001b[1;32m    758\u001b[0m                 \u001b[0mchunked\u001b[0m\u001b[0;34m=\u001b[0m\u001b[0mchunked\u001b[0m\u001b[0;34m,\u001b[0m\u001b[0;34m\u001b[0m\u001b[0;34m\u001b[0m\u001b[0m\n\u001b[1;32m    759\u001b[0m                 \u001b[0mbody_pos\u001b[0m\u001b[0;34m=\u001b[0m\u001b[0mbody_pos\u001b[0m\u001b[0;34m,\u001b[0m\u001b[0;34m\u001b[0m\u001b[0;34m\u001b[0m\u001b[0m\n\u001b[0;32m--> 760\u001b[0;31m                 \u001b[0;34m**\u001b[0m\u001b[0mresponse_kw\u001b[0m\u001b[0;34m\u001b[0m\u001b[0;34m\u001b[0m\u001b[0m\n\u001b[0m\u001b[1;32m    761\u001b[0m             )\n\u001b[1;32m    762\u001b[0m \u001b[0;34m\u001b[0m\u001b[0m\n",
      "\u001b[0;32m~/opt/anaconda3/lib/python3.7/site-packages/urllib3/connectionpool.py\u001b[0m in \u001b[0;36murlopen\u001b[0;34m(self, method, url, body, headers, retries, redirect, assert_same_host, timeout, pool_timeout, release_conn, chunked, body_pos, **response_kw)\u001b[0m\n\u001b[1;32m    758\u001b[0m                 \u001b[0mchunked\u001b[0m\u001b[0;34m=\u001b[0m\u001b[0mchunked\u001b[0m\u001b[0;34m,\u001b[0m\u001b[0;34m\u001b[0m\u001b[0;34m\u001b[0m\u001b[0m\n\u001b[1;32m    759\u001b[0m                 \u001b[0mbody_pos\u001b[0m\u001b[0;34m=\u001b[0m\u001b[0mbody_pos\u001b[0m\u001b[0;34m,\u001b[0m\u001b[0;34m\u001b[0m\u001b[0;34m\u001b[0m\u001b[0m\n\u001b[0;32m--> 760\u001b[0;31m                 \u001b[0;34m**\u001b[0m\u001b[0mresponse_kw\u001b[0m\u001b[0;34m\u001b[0m\u001b[0;34m\u001b[0m\u001b[0m\n\u001b[0m\u001b[1;32m    761\u001b[0m             )\n\u001b[1;32m    762\u001b[0m \u001b[0;34m\u001b[0m\u001b[0m\n",
      "\u001b[0;32m~/opt/anaconda3/lib/python3.7/site-packages/urllib3/connectionpool.py\u001b[0m in \u001b[0;36murlopen\u001b[0;34m(self, method, url, body, headers, retries, redirect, assert_same_host, timeout, pool_timeout, release_conn, chunked, body_pos, **response_kw)\u001b[0m\n\u001b[1;32m    718\u001b[0m \u001b[0;34m\u001b[0m\u001b[0m\n\u001b[1;32m    719\u001b[0m             retries = retries.increment(\n\u001b[0;32m--> 720\u001b[0;31m                 \u001b[0mmethod\u001b[0m\u001b[0;34m,\u001b[0m \u001b[0murl\u001b[0m\u001b[0;34m,\u001b[0m \u001b[0merror\u001b[0m\u001b[0;34m=\u001b[0m\u001b[0me\u001b[0m\u001b[0;34m,\u001b[0m \u001b[0m_pool\u001b[0m\u001b[0;34m=\u001b[0m\u001b[0mself\u001b[0m\u001b[0;34m,\u001b[0m \u001b[0m_stacktrace\u001b[0m\u001b[0;34m=\u001b[0m\u001b[0msys\u001b[0m\u001b[0;34m.\u001b[0m\u001b[0mexc_info\u001b[0m\u001b[0;34m(\u001b[0m\u001b[0;34m)\u001b[0m\u001b[0;34m[\u001b[0m\u001b[0;36m2\u001b[0m\u001b[0;34m]\u001b[0m\u001b[0;34m\u001b[0m\u001b[0;34m\u001b[0m\u001b[0m\n\u001b[0m\u001b[1;32m    721\u001b[0m             )\n\u001b[1;32m    722\u001b[0m             \u001b[0mretries\u001b[0m\u001b[0;34m.\u001b[0m\u001b[0msleep\u001b[0m\u001b[0;34m(\u001b[0m\u001b[0;34m)\u001b[0m\u001b[0;34m\u001b[0m\u001b[0;34m\u001b[0m\u001b[0m\n",
      "\u001b[0;32m~/opt/anaconda3/lib/python3.7/site-packages/urllib3/util/retry.py\u001b[0m in \u001b[0;36mincrement\u001b[0;34m(self, method, url, response, error, _pool, _stacktrace)\u001b[0m\n\u001b[1;32m    434\u001b[0m \u001b[0;34m\u001b[0m\u001b[0m\n\u001b[1;32m    435\u001b[0m         \u001b[0;32mif\u001b[0m \u001b[0mnew_retry\u001b[0m\u001b[0;34m.\u001b[0m\u001b[0mis_exhausted\u001b[0m\u001b[0;34m(\u001b[0m\u001b[0;34m)\u001b[0m\u001b[0;34m:\u001b[0m\u001b[0;34m\u001b[0m\u001b[0;34m\u001b[0m\u001b[0m\n\u001b[0;32m--> 436\u001b[0;31m             \u001b[0;32mraise\u001b[0m \u001b[0mMaxRetryError\u001b[0m\u001b[0;34m(\u001b[0m\u001b[0m_pool\u001b[0m\u001b[0;34m,\u001b[0m \u001b[0murl\u001b[0m\u001b[0;34m,\u001b[0m \u001b[0merror\u001b[0m \u001b[0;32mor\u001b[0m \u001b[0mResponseError\u001b[0m\u001b[0;34m(\u001b[0m\u001b[0mcause\u001b[0m\u001b[0;34m)\u001b[0m\u001b[0;34m)\u001b[0m\u001b[0;34m\u001b[0m\u001b[0;34m\u001b[0m\u001b[0m\n\u001b[0m\u001b[1;32m    437\u001b[0m \u001b[0;34m\u001b[0m\u001b[0m\n\u001b[1;32m    438\u001b[0m         \u001b[0mlog\u001b[0m\u001b[0;34m.\u001b[0m\u001b[0mdebug\u001b[0m\u001b[0;34m(\u001b[0m\u001b[0;34m\"Incremented Retry for (url='%s'): %r\"\u001b[0m\u001b[0;34m,\u001b[0m \u001b[0murl\u001b[0m\u001b[0;34m,\u001b[0m \u001b[0mnew_retry\u001b[0m\u001b[0;34m)\u001b[0m\u001b[0;34m\u001b[0m\u001b[0;34m\u001b[0m\u001b[0m\n",
      "\u001b[0;31mMaxRetryError\u001b[0m: HTTPConnectionPool(host='127.0.0.1', port=58973): Max retries exceeded with url: /session/0da974f2-4c8e-e844-bf0c-6a784d1417b9/source (Caused by NewConnectionError('<urllib3.connection.HTTPConnection object at 0x7f8726b432d0>: Failed to establish a new connection: [Errno 61] Connection refused'))"
     ]
    }
   ],
   "source": [
    "# Read complete HTML\n",
    "html_source = browser.page_source\n",
    "browser.quit()"
   ]
  },
  {
   "cell_type": "code",
   "execution_count": 55,
   "metadata": {},
   "outputs": [],
   "source": [
    "soup = BeautifulSoup(html_source)"
   ]
  },
  {
   "cell_type": "code",
   "execution_count": null,
   "metadata": {},
   "outputs": [],
   "source": []
  }
 ]
}