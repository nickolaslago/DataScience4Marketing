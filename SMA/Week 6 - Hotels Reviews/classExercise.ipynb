{
 "metadata": {
  "language_info": {
   "codemirror_mode": {
    "name": "ipython",
    "version": 3
   },
   "file_extension": ".py",
   "mimetype": "text/x-python",
   "name": "python",
   "nbconvert_exporter": "python",
   "pygments_lexer": "ipython3",
   "version": "3.7.6-final"
  },
  "orig_nbformat": 2,
  "kernelspec": {
   "name": "python3",
   "display_name": "Python 3.7.6 64-bit ('base': conda)",
   "metadata": {
    "interpreter": {
     "hash": "f30a98447ab0ce6ed2c42a906dd8ff7c3035168d8630597903509f729a93be92"
    }
   }
  }
 },
 "nbformat": 4,
 "nbformat_minor": 2,
 "cells": [
  {
   "cell_type": "code",
   "execution_count": 1,
   "metadata": {},
   "outputs": [],
   "source": [
    "import pandas as pd\n",
    "import numpy as np"
   ]
  },
  {
   "cell_type": "code",
   "execution_count": 2,
   "metadata": {},
   "outputs": [
    {
     "output_type": "stream",
     "name": "stderr",
     "text": [
      "b'Skipping line 12799: expected 21 fields, saw 23\\n'\nb'Skipping line 37247: expected 21 fields, saw 22\\n'\n"
     ]
    },
    {
     "output_type": "execute_result",
     "data": {
      "text/plain": [
       "  RevID   Source  HotelID HotelType  HotelStars  HotelRooms     ObsDate  \\\n",
       "0  B377  Booking        1    Resort           4         158  2015-11-29   \n",
       "1  B378  Booking        1    Resort           4         158  2015-11-29   \n",
       "2  B379  Booking        1    Resort           4         158  2015-11-29   \n",
       "3  B380  Booking        1    Resort           4         158  2015-11-29   \n",
       "4  B381  Booking        1    Resort           4         158  2015-11-29   \n",
       "\n",
       "   ObsDateTotalReviewsOnSite  ObsDateGlobalRating  \\\n",
       "0                       1092                  8.8   \n",
       "1                       1092                  8.8   \n",
       "2                       1092                  8.8   \n",
       "3                       1092                  8.8   \n",
       "4                       1092                  8.8   \n",
       "\n",
       "                                      RevDescription  ... RevUsername  \\\n",
       "0  Hotel is  so  centrally located with  bars and...  ...        John   \n",
       "1  Room were big & comfortable.þ Very noisy at ni...  ...       David   \n",
       "2  right near the beach & breakfast good!þ Noisy ...  ...        Dawn   \n",
       "3  The location is the best in Portimao, just acr...  ...         Ron   \n",
       "4  Hotel was clean and the staff helpful and frie...  ...         Pat   \n",
       "\n",
       "  RevUserLocation RevPublishedDate RevOverallRating  RevLocationRating  \\\n",
       "0         Ireland       2015-11-12             10.0                 -1   \n",
       "1  United Kingdom       2015-11-09              5.8                 -1   \n",
       "2        Portugal       2015-11-07              7.5                 -1   \n",
       "3             USA       2015-10-29              9.2                 -1   \n",
       "4           Spain       2015-10-27              7.1                 -1   \n",
       "\n",
       "   RevSleepQualityRating  RevRoomsRating  RevServiceRating  RevValueRating  \\\n",
       "0                     -1              -1                -1              -1   \n",
       "1                     -1              -1                -1              -1   \n",
       "2                     -1              -1                -1              -1   \n",
       "3                     -1              -1                -1              -1   \n",
       "4                     -1              -1                -1              -1   \n",
       "\n",
       "   RevCleanlinessRating  \n",
       "0                    -1  \n",
       "1                    -1  \n",
       "2                    -1  \n",
       "3                    -1  \n",
       "4                    -1  \n",
       "\n",
       "[5 rows x 21 columns]"
      ],
      "text/html": "<div>\n<style scoped>\n    .dataframe tbody tr th:only-of-type {\n        vertical-align: middle;\n    }\n\n    .dataframe tbody tr th {\n        vertical-align: top;\n    }\n\n    .dataframe thead th {\n        text-align: right;\n    }\n</style>\n<table border=\"1\" class=\"dataframe\">\n  <thead>\n    <tr style=\"text-align: right;\">\n      <th></th>\n      <th>RevID</th>\n      <th>Source</th>\n      <th>HotelID</th>\n      <th>HotelType</th>\n      <th>HotelStars</th>\n      <th>HotelRooms</th>\n      <th>ObsDate</th>\n      <th>ObsDateTotalReviewsOnSite</th>\n      <th>ObsDateGlobalRating</th>\n      <th>RevDescription</th>\n      <th>...</th>\n      <th>RevUsername</th>\n      <th>RevUserLocation</th>\n      <th>RevPublishedDate</th>\n      <th>RevOverallRating</th>\n      <th>RevLocationRating</th>\n      <th>RevSleepQualityRating</th>\n      <th>RevRoomsRating</th>\n      <th>RevServiceRating</th>\n      <th>RevValueRating</th>\n      <th>RevCleanlinessRating</th>\n    </tr>\n  </thead>\n  <tbody>\n    <tr>\n      <th>0</th>\n      <td>B377</td>\n      <td>Booking</td>\n      <td>1</td>\n      <td>Resort</td>\n      <td>4</td>\n      <td>158</td>\n      <td>2015-11-29</td>\n      <td>1092</td>\n      <td>8.8</td>\n      <td>Hotel is  so  centrally located with  bars and...</td>\n      <td>...</td>\n      <td>John</td>\n      <td>Ireland</td>\n      <td>2015-11-12</td>\n      <td>10.0</td>\n      <td>-1</td>\n      <td>-1</td>\n      <td>-1</td>\n      <td>-1</td>\n      <td>-1</td>\n      <td>-1</td>\n    </tr>\n    <tr>\n      <th>1</th>\n      <td>B378</td>\n      <td>Booking</td>\n      <td>1</td>\n      <td>Resort</td>\n      <td>4</td>\n      <td>158</td>\n      <td>2015-11-29</td>\n      <td>1092</td>\n      <td>8.8</td>\n      <td>Room were big &amp; comfortable.þ Very noisy at ni...</td>\n      <td>...</td>\n      <td>David</td>\n      <td>United Kingdom</td>\n      <td>2015-11-09</td>\n      <td>5.8</td>\n      <td>-1</td>\n      <td>-1</td>\n      <td>-1</td>\n      <td>-1</td>\n      <td>-1</td>\n      <td>-1</td>\n    </tr>\n    <tr>\n      <th>2</th>\n      <td>B379</td>\n      <td>Booking</td>\n      <td>1</td>\n      <td>Resort</td>\n      <td>4</td>\n      <td>158</td>\n      <td>2015-11-29</td>\n      <td>1092</td>\n      <td>8.8</td>\n      <td>right near the beach &amp; breakfast good!þ Noisy ...</td>\n      <td>...</td>\n      <td>Dawn</td>\n      <td>Portugal</td>\n      <td>2015-11-07</td>\n      <td>7.5</td>\n      <td>-1</td>\n      <td>-1</td>\n      <td>-1</td>\n      <td>-1</td>\n      <td>-1</td>\n      <td>-1</td>\n    </tr>\n    <tr>\n      <th>3</th>\n      <td>B380</td>\n      <td>Booking</td>\n      <td>1</td>\n      <td>Resort</td>\n      <td>4</td>\n      <td>158</td>\n      <td>2015-11-29</td>\n      <td>1092</td>\n      <td>8.8</td>\n      <td>The location is the best in Portimao, just acr...</td>\n      <td>...</td>\n      <td>Ron</td>\n      <td>USA</td>\n      <td>2015-10-29</td>\n      <td>9.2</td>\n      <td>-1</td>\n      <td>-1</td>\n      <td>-1</td>\n      <td>-1</td>\n      <td>-1</td>\n      <td>-1</td>\n    </tr>\n    <tr>\n      <th>4</th>\n      <td>B381</td>\n      <td>Booking</td>\n      <td>1</td>\n      <td>Resort</td>\n      <td>4</td>\n      <td>158</td>\n      <td>2015-11-29</td>\n      <td>1092</td>\n      <td>8.8</td>\n      <td>Hotel was clean and the staff helpful and frie...</td>\n      <td>...</td>\n      <td>Pat</td>\n      <td>Spain</td>\n      <td>2015-10-27</td>\n      <td>7.1</td>\n      <td>-1</td>\n      <td>-1</td>\n      <td>-1</td>\n      <td>-1</td>\n      <td>-1</td>\n      <td>-1</td>\n    </tr>\n  </tbody>\n</table>\n<p>5 rows × 21 columns</p>\n</div>"
     },
     "metadata": {},
     "execution_count": 2
    }
   ],
   "source": [
    "df = pd.read_csv(\"HotelOnlineReviews.txt\", sep=\"|\", error_bad_lines=False, decimal=\",\")\n",
    "\n",
    "df.head()"
   ]
  },
  {
   "cell_type": "code",
   "execution_count": 4,
   "metadata": {},
   "outputs": [
    {
     "output_type": "execute_result",
     "data": {
      "text/plain": [
       "                           Email  \\\n",
       "0      mstephenson@fernandez.com   \n",
       "1              hduke@hotmail.com   \n",
       "2               pallen@yahoo.com   \n",
       "3        riverarebecca@gmail.com   \n",
       "4  mstephens@davidson-herman.com   \n",
       "\n",
       "                                             Address            Avatar  \\\n",
       "0         835 Frank TunnelWrightmouth, MI 82180-9605            Violet   \n",
       "1       4547 Archer CommonDiazchester, CA 06566-8576         DarkGreen   \n",
       "2  24645 Valerie Unions Suite 582Cobbborough, DC ...            Bisque   \n",
       "3     1414 David ThroughwayPort Jason, OH 22070-1220       SaddleBrown   \n",
       "4  14023 Rodriguez PassagePort Jacobville, PR 372...  MediumAquaMarine   \n",
       "\n",
       "   Avg Session Length  Time on App  Time on Website  Length of Membership  \\\n",
       "0           34.497268    12.655651        39.577668              4.082621   \n",
       "1           31.926272    11.109461        37.268959              2.664034   \n",
       "2           33.000915    11.330278        37.110597              4.104543   \n",
       "3           34.305557    13.717514        36.721283              3.120179   \n",
       "4           33.330673    12.795189        37.536653              4.446308   \n",
       "\n",
       "   Yearly Amount Spent  \n",
       "0           587.951054  \n",
       "1           392.204933  \n",
       "2           487.547505  \n",
       "3           581.852344  \n",
       "4           599.406092  "
      ],
      "text/html": "<div>\n<style scoped>\n    .dataframe tbody tr th:only-of-type {\n        vertical-align: middle;\n    }\n\n    .dataframe tbody tr th {\n        vertical-align: top;\n    }\n\n    .dataframe thead th {\n        text-align: right;\n    }\n</style>\n<table border=\"1\" class=\"dataframe\">\n  <thead>\n    <tr style=\"text-align: right;\">\n      <th></th>\n      <th>Email</th>\n      <th>Address</th>\n      <th>Avatar</th>\n      <th>Avg Session Length</th>\n      <th>Time on App</th>\n      <th>Time on Website</th>\n      <th>Length of Membership</th>\n      <th>Yearly Amount Spent</th>\n    </tr>\n  </thead>\n  <tbody>\n    <tr>\n      <th>0</th>\n      <td>mstephenson@fernandez.com</td>\n      <td>835 Frank TunnelWrightmouth, MI 82180-9605</td>\n      <td>Violet</td>\n      <td>34.497268</td>\n      <td>12.655651</td>\n      <td>39.577668</td>\n      <td>4.082621</td>\n      <td>587.951054</td>\n    </tr>\n    <tr>\n      <th>1</th>\n      <td>hduke@hotmail.com</td>\n      <td>4547 Archer CommonDiazchester, CA 06566-8576</td>\n      <td>DarkGreen</td>\n      <td>31.926272</td>\n      <td>11.109461</td>\n      <td>37.268959</td>\n      <td>2.664034</td>\n      <td>392.204933</td>\n    </tr>\n    <tr>\n      <th>2</th>\n      <td>pallen@yahoo.com</td>\n      <td>24645 Valerie Unions Suite 582Cobbborough, DC ...</td>\n      <td>Bisque</td>\n      <td>33.000915</td>\n      <td>11.330278</td>\n      <td>37.110597</td>\n      <td>4.104543</td>\n      <td>487.547505</td>\n    </tr>\n    <tr>\n      <th>3</th>\n      <td>riverarebecca@gmail.com</td>\n      <td>1414 David ThroughwayPort Jason, OH 22070-1220</td>\n      <td>SaddleBrown</td>\n      <td>34.305557</td>\n      <td>13.717514</td>\n      <td>36.721283</td>\n      <td>3.120179</td>\n      <td>581.852344</td>\n    </tr>\n    <tr>\n      <th>4</th>\n      <td>mstephens@davidson-herman.com</td>\n      <td>14023 Rodriguez PassagePort Jacobville, PR 372...</td>\n      <td>MediumAquaMarine</td>\n      <td>33.330673</td>\n      <td>12.795189</td>\n      <td>37.536653</td>\n      <td>4.446308</td>\n      <td>599.406092</td>\n    </tr>\n  </tbody>\n</table>\n</div>"
     },
     "metadata": {},
     "execution_count": 4
    }
   ],
   "source": [
    "df2 = pd.read_excel(\"EcommerceCustomers.xlsx\", sheet_name='Sheet1', engine='openpyxl')\n",
    "\n",
    "df2.head()"
   ]
  },
  {
   "source": [
    "<h3>Data Processing</h3>"
   ],
   "cell_type": "markdown",
   "metadata": {}
  },
  {
   "cell_type": "code",
   "execution_count": 9,
   "metadata": {},
   "outputs": [
    {
     "output_type": "execute_result",
     "data": {
      "text/plain": [
       "                           count unique         top   freq      mean  \\\n",
       "RevID                      39421  39421      B31328      1       NaN   \n",
       "Source                     39421      2     Booking  27271       NaN   \n",
       "HotelID                    39421    NaN         NaN    NaN   29.8028   \n",
       "HotelType                  39421      2        City  23854       NaN   \n",
       "HotelStars                 39421    NaN         NaN    NaN   3.83638   \n",
       "HotelRooms                 39421    NaN         NaN    NaN   162.889   \n",
       "ObsDate                    39421    375  2016-04-24   1883       NaN   \n",
       "ObsDateTotalReviewsOnSite  39421    NaN         NaN    NaN   1735.95   \n",
       "ObsDateGlobalRating        39421    NaN         NaN    NaN   7.23496   \n",
       "RevDescription             39421  30470          þ    8451       NaN   \n",
       "Language                   39421      3     English  18848       NaN   \n",
       "RevUsername                39256  17589   Anonymous    942       NaN   \n",
       "RevUserLocation            36929   4060    Portugal   6375       NaN   \n",
       "RevPublishedDate           39421    519  2016-03-29    246       NaN   \n",
       "RevOverallRating           39421    NaN         NaN    NaN   7.14079   \n",
       "RevLocationRating          39421    NaN         NaN    NaN -0.671622   \n",
       "RevSleepQualityRating      39421    NaN         NaN    NaN -0.583192   \n",
       "RevRoomsRating             39421    NaN         NaN    NaN -0.691789   \n",
       "RevServiceRating           39421    NaN         NaN    NaN -0.533548   \n",
       "RevValueRating             39421    NaN         NaN    NaN  -0.67842   \n",
       "RevCleanlinessRating       39421    NaN         NaN    NaN -0.691662   \n",
       "\n",
       "                                std  min  25%   50%   75%   max  \n",
       "RevID                           NaN  NaN  NaN   NaN   NaN   NaN  \n",
       "Source                          NaN  NaN  NaN   NaN   NaN   NaN  \n",
       "HotelID                     17.1571    1   16    28    40    66  \n",
       "HotelType                       NaN  NaN  NaN   NaN   NaN   NaN  \n",
       "HotelStars                 0.793503    2    4     4     4     5  \n",
       "HotelRooms                  97.1148   17   70   152   224   369  \n",
       "ObsDate                         NaN  NaN  NaN   NaN   NaN   NaN  \n",
       "ObsDateTotalReviewsOnSite    1489.9    3  648  1258  2382  6668  \n",
       "ObsDateGlobalRating         2.08405    3  4.5   8.2   8.8    10  \n",
       "RevDescription                  NaN  NaN  NaN   NaN   NaN   NaN  \n",
       "Language                        NaN  NaN  NaN   NaN   NaN   NaN  \n",
       "RevUsername                     NaN  NaN  NaN   NaN   NaN   NaN  \n",
       "RevUserLocation                 NaN  NaN  NaN   NaN   NaN   NaN  \n",
       "RevPublishedDate                NaN  NaN  NaN   NaN   NaN   NaN  \n",
       "RevOverallRating            2.35378    0    5   7.9   9.2    10  \n",
       "RevLocationRating          0.578889   -1   -1    -1     0     5  \n",
       "RevSleepQualityRating      0.908503   -1   -1    -1     0     5  \n",
       "RevRoomsRating              0.46176   -1   -1    -1     0     0  \n",
       "RevServiceRating             1.0613   -1   -1    -1     0     5  \n",
       "RevValueRating             0.538623   -1   -1    -1     0     5  \n",
       "RevCleanlinessRating       0.462636   -1   -1    -1     0     5  "
      ],
      "text/html": "<div>\n<style scoped>\n    .dataframe tbody tr th:only-of-type {\n        vertical-align: middle;\n    }\n\n    .dataframe tbody tr th {\n        vertical-align: top;\n    }\n\n    .dataframe thead th {\n        text-align: right;\n    }\n</style>\n<table border=\"1\" class=\"dataframe\">\n  <thead>\n    <tr style=\"text-align: right;\">\n      <th></th>\n      <th>count</th>\n      <th>unique</th>\n      <th>top</th>\n      <th>freq</th>\n      <th>mean</th>\n      <th>std</th>\n      <th>min</th>\n      <th>25%</th>\n      <th>50%</th>\n      <th>75%</th>\n      <th>max</th>\n    </tr>\n  </thead>\n  <tbody>\n    <tr>\n      <th>RevID</th>\n      <td>39421</td>\n      <td>39421</td>\n      <td>B31328</td>\n      <td>1</td>\n      <td>NaN</td>\n      <td>NaN</td>\n      <td>NaN</td>\n      <td>NaN</td>\n      <td>NaN</td>\n      <td>NaN</td>\n      <td>NaN</td>\n    </tr>\n    <tr>\n      <th>Source</th>\n      <td>39421</td>\n      <td>2</td>\n      <td>Booking</td>\n      <td>27271</td>\n      <td>NaN</td>\n      <td>NaN</td>\n      <td>NaN</td>\n      <td>NaN</td>\n      <td>NaN</td>\n      <td>NaN</td>\n      <td>NaN</td>\n    </tr>\n    <tr>\n      <th>HotelID</th>\n      <td>39421</td>\n      <td>NaN</td>\n      <td>NaN</td>\n      <td>NaN</td>\n      <td>29.8028</td>\n      <td>17.1571</td>\n      <td>1</td>\n      <td>16</td>\n      <td>28</td>\n      <td>40</td>\n      <td>66</td>\n    </tr>\n    <tr>\n      <th>HotelType</th>\n      <td>39421</td>\n      <td>2</td>\n      <td>City</td>\n      <td>23854</td>\n      <td>NaN</td>\n      <td>NaN</td>\n      <td>NaN</td>\n      <td>NaN</td>\n      <td>NaN</td>\n      <td>NaN</td>\n      <td>NaN</td>\n    </tr>\n    <tr>\n      <th>HotelStars</th>\n      <td>39421</td>\n      <td>NaN</td>\n      <td>NaN</td>\n      <td>NaN</td>\n      <td>3.83638</td>\n      <td>0.793503</td>\n      <td>2</td>\n      <td>4</td>\n      <td>4</td>\n      <td>4</td>\n      <td>5</td>\n    </tr>\n    <tr>\n      <th>HotelRooms</th>\n      <td>39421</td>\n      <td>NaN</td>\n      <td>NaN</td>\n      <td>NaN</td>\n      <td>162.889</td>\n      <td>97.1148</td>\n      <td>17</td>\n      <td>70</td>\n      <td>152</td>\n      <td>224</td>\n      <td>369</td>\n    </tr>\n    <tr>\n      <th>ObsDate</th>\n      <td>39421</td>\n      <td>375</td>\n      <td>2016-04-24</td>\n      <td>1883</td>\n      <td>NaN</td>\n      <td>NaN</td>\n      <td>NaN</td>\n      <td>NaN</td>\n      <td>NaN</td>\n      <td>NaN</td>\n      <td>NaN</td>\n    </tr>\n    <tr>\n      <th>ObsDateTotalReviewsOnSite</th>\n      <td>39421</td>\n      <td>NaN</td>\n      <td>NaN</td>\n      <td>NaN</td>\n      <td>1735.95</td>\n      <td>1489.9</td>\n      <td>3</td>\n      <td>648</td>\n      <td>1258</td>\n      <td>2382</td>\n      <td>6668</td>\n    </tr>\n    <tr>\n      <th>ObsDateGlobalRating</th>\n      <td>39421</td>\n      <td>NaN</td>\n      <td>NaN</td>\n      <td>NaN</td>\n      <td>7.23496</td>\n      <td>2.08405</td>\n      <td>3</td>\n      <td>4.5</td>\n      <td>8.2</td>\n      <td>8.8</td>\n      <td>10</td>\n    </tr>\n    <tr>\n      <th>RevDescription</th>\n      <td>39421</td>\n      <td>30470</td>\n      <td>þ</td>\n      <td>8451</td>\n      <td>NaN</td>\n      <td>NaN</td>\n      <td>NaN</td>\n      <td>NaN</td>\n      <td>NaN</td>\n      <td>NaN</td>\n      <td>NaN</td>\n    </tr>\n    <tr>\n      <th>Language</th>\n      <td>39421</td>\n      <td>3</td>\n      <td>English</td>\n      <td>18848</td>\n      <td>NaN</td>\n      <td>NaN</td>\n      <td>NaN</td>\n      <td>NaN</td>\n      <td>NaN</td>\n      <td>NaN</td>\n      <td>NaN</td>\n    </tr>\n    <tr>\n      <th>RevUsername</th>\n      <td>39256</td>\n      <td>17589</td>\n      <td>Anonymous</td>\n      <td>942</td>\n      <td>NaN</td>\n      <td>NaN</td>\n      <td>NaN</td>\n      <td>NaN</td>\n      <td>NaN</td>\n      <td>NaN</td>\n      <td>NaN</td>\n    </tr>\n    <tr>\n      <th>RevUserLocation</th>\n      <td>36929</td>\n      <td>4060</td>\n      <td>Portugal</td>\n      <td>6375</td>\n      <td>NaN</td>\n      <td>NaN</td>\n      <td>NaN</td>\n      <td>NaN</td>\n      <td>NaN</td>\n      <td>NaN</td>\n      <td>NaN</td>\n    </tr>\n    <tr>\n      <th>RevPublishedDate</th>\n      <td>39421</td>\n      <td>519</td>\n      <td>2016-03-29</td>\n      <td>246</td>\n      <td>NaN</td>\n      <td>NaN</td>\n      <td>NaN</td>\n      <td>NaN</td>\n      <td>NaN</td>\n      <td>NaN</td>\n      <td>NaN</td>\n    </tr>\n    <tr>\n      <th>RevOverallRating</th>\n      <td>39421</td>\n      <td>NaN</td>\n      <td>NaN</td>\n      <td>NaN</td>\n      <td>7.14079</td>\n      <td>2.35378</td>\n      <td>0</td>\n      <td>5</td>\n      <td>7.9</td>\n      <td>9.2</td>\n      <td>10</td>\n    </tr>\n    <tr>\n      <th>RevLocationRating</th>\n      <td>39421</td>\n      <td>NaN</td>\n      <td>NaN</td>\n      <td>NaN</td>\n      <td>-0.671622</td>\n      <td>0.578889</td>\n      <td>-1</td>\n      <td>-1</td>\n      <td>-1</td>\n      <td>0</td>\n      <td>5</td>\n    </tr>\n    <tr>\n      <th>RevSleepQualityRating</th>\n      <td>39421</td>\n      <td>NaN</td>\n      <td>NaN</td>\n      <td>NaN</td>\n      <td>-0.583192</td>\n      <td>0.908503</td>\n      <td>-1</td>\n      <td>-1</td>\n      <td>-1</td>\n      <td>0</td>\n      <td>5</td>\n    </tr>\n    <tr>\n      <th>RevRoomsRating</th>\n      <td>39421</td>\n      <td>NaN</td>\n      <td>NaN</td>\n      <td>NaN</td>\n      <td>-0.691789</td>\n      <td>0.46176</td>\n      <td>-1</td>\n      <td>-1</td>\n      <td>-1</td>\n      <td>0</td>\n      <td>0</td>\n    </tr>\n    <tr>\n      <th>RevServiceRating</th>\n      <td>39421</td>\n      <td>NaN</td>\n      <td>NaN</td>\n      <td>NaN</td>\n      <td>-0.533548</td>\n      <td>1.0613</td>\n      <td>-1</td>\n      <td>-1</td>\n      <td>-1</td>\n      <td>0</td>\n      <td>5</td>\n    </tr>\n    <tr>\n      <th>RevValueRating</th>\n      <td>39421</td>\n      <td>NaN</td>\n      <td>NaN</td>\n      <td>NaN</td>\n      <td>-0.67842</td>\n      <td>0.538623</td>\n      <td>-1</td>\n      <td>-1</td>\n      <td>-1</td>\n      <td>0</td>\n      <td>5</td>\n    </tr>\n    <tr>\n      <th>RevCleanlinessRating</th>\n      <td>39421</td>\n      <td>NaN</td>\n      <td>NaN</td>\n      <td>NaN</td>\n      <td>-0.691662</td>\n      <td>0.462636</td>\n      <td>-1</td>\n      <td>-1</td>\n      <td>-1</td>\n      <td>0</td>\n      <td>5</td>\n    </tr>\n  </tbody>\n</table>\n</div>"
     },
     "metadata": {},
     "execution_count": 9
    }
   ],
   "source": [
    "df.describe(include=\"all\").T"
   ]
  },
  {
   "cell_type": "code",
   "execution_count": 10,
   "metadata": {},
   "outputs": [
    {
     "output_type": "execute_result",
     "data": {
      "text/plain": [
       "  RevID   Source  HotelID HotelType  HotelStars  HotelRooms     ObsDate  \\\n",
       "0  B377  Booking        1    Resort           4         158  2015-11-29   \n",
       "1  B378  Booking        1    Resort           4         158  2015-11-29   \n",
       "2  B379  Booking        1    Resort           4         158  2015-11-29   \n",
       "3  B380  Booking        1    Resort           4         158  2015-11-29   \n",
       "4  B381  Booking        1    Resort           4         158  2015-11-29   \n",
       "\n",
       "   ObsDateTotalReviewsOnSite  ObsDateGlobalRating  \\\n",
       "0                       1092                  8.8   \n",
       "1                       1092                  8.8   \n",
       "2                       1092                  8.8   \n",
       "3                       1092                  8.8   \n",
       "4                       1092                  8.8   \n",
       "\n",
       "                                      RevDescription  ... RevUserLocation  \\\n",
       "0  Hotel is  so  centrally located with  bars and...  ...         Ireland   \n",
       "1  Room were big & comfortable.þ Very noisy at ni...  ...  United Kingdom   \n",
       "2  right near the beach & breakfast good!þ Noisy ...  ...        Portugal   \n",
       "3  The location is the best in Portimao, just acr...  ...             USA   \n",
       "4  Hotel was clean and the staff helpful and frie...  ...           Spain   \n",
       "\n",
       "  RevPublishedDate RevOverallRating RevLocationRating  RevSleepQualityRating  \\\n",
       "0       2015-11-12             10.0                -1                     -1   \n",
       "1       2015-11-09              5.8                -1                     -1   \n",
       "2       2015-11-07              7.5                -1                     -1   \n",
       "3       2015-10-29              9.2                -1                     -1   \n",
       "4       2015-10-27              7.1                -1                     -1   \n",
       "\n",
       "   RevRoomsRating  RevServiceRating  RevValueRating  RevCleanlinessRating  \\\n",
       "0              -1                -1              -1                    -1   \n",
       "1              -1                -1              -1                    -1   \n",
       "2              -1                -1              -1                    -1   \n",
       "3              -1                -1              -1                    -1   \n",
       "4              -1                -1              -1                    -1   \n",
       "\n",
       "   normalizedRating  \n",
       "0              10.0  \n",
       "1               5.8  \n",
       "2               7.5  \n",
       "3               9.2  \n",
       "4               7.1  \n",
       "\n",
       "[5 rows x 22 columns]"
      ],
      "text/html": "<div>\n<style scoped>\n    .dataframe tbody tr th:only-of-type {\n        vertical-align: middle;\n    }\n\n    .dataframe tbody tr th {\n        vertical-align: top;\n    }\n\n    .dataframe thead th {\n        text-align: right;\n    }\n</style>\n<table border=\"1\" class=\"dataframe\">\n  <thead>\n    <tr style=\"text-align: right;\">\n      <th></th>\n      <th>RevID</th>\n      <th>Source</th>\n      <th>HotelID</th>\n      <th>HotelType</th>\n      <th>HotelStars</th>\n      <th>HotelRooms</th>\n      <th>ObsDate</th>\n      <th>ObsDateTotalReviewsOnSite</th>\n      <th>ObsDateGlobalRating</th>\n      <th>RevDescription</th>\n      <th>...</th>\n      <th>RevUserLocation</th>\n      <th>RevPublishedDate</th>\n      <th>RevOverallRating</th>\n      <th>RevLocationRating</th>\n      <th>RevSleepQualityRating</th>\n      <th>RevRoomsRating</th>\n      <th>RevServiceRating</th>\n      <th>RevValueRating</th>\n      <th>RevCleanlinessRating</th>\n      <th>normalizedRating</th>\n    </tr>\n  </thead>\n  <tbody>\n    <tr>\n      <th>0</th>\n      <td>B377</td>\n      <td>Booking</td>\n      <td>1</td>\n      <td>Resort</td>\n      <td>4</td>\n      <td>158</td>\n      <td>2015-11-29</td>\n      <td>1092</td>\n      <td>8.8</td>\n      <td>Hotel is  so  centrally located with  bars and...</td>\n      <td>...</td>\n      <td>Ireland</td>\n      <td>2015-11-12</td>\n      <td>10.0</td>\n      <td>-1</td>\n      <td>-1</td>\n      <td>-1</td>\n      <td>-1</td>\n      <td>-1</td>\n      <td>-1</td>\n      <td>10.0</td>\n    </tr>\n    <tr>\n      <th>1</th>\n      <td>B378</td>\n      <td>Booking</td>\n      <td>1</td>\n      <td>Resort</td>\n      <td>4</td>\n      <td>158</td>\n      <td>2015-11-29</td>\n      <td>1092</td>\n      <td>8.8</td>\n      <td>Room were big &amp; comfortable.þ Very noisy at ni...</td>\n      <td>...</td>\n      <td>United Kingdom</td>\n      <td>2015-11-09</td>\n      <td>5.8</td>\n      <td>-1</td>\n      <td>-1</td>\n      <td>-1</td>\n      <td>-1</td>\n      <td>-1</td>\n      <td>-1</td>\n      <td>5.8</td>\n    </tr>\n    <tr>\n      <th>2</th>\n      <td>B379</td>\n      <td>Booking</td>\n      <td>1</td>\n      <td>Resort</td>\n      <td>4</td>\n      <td>158</td>\n      <td>2015-11-29</td>\n      <td>1092</td>\n      <td>8.8</td>\n      <td>right near the beach &amp; breakfast good!þ Noisy ...</td>\n      <td>...</td>\n      <td>Portugal</td>\n      <td>2015-11-07</td>\n      <td>7.5</td>\n      <td>-1</td>\n      <td>-1</td>\n      <td>-1</td>\n      <td>-1</td>\n      <td>-1</td>\n      <td>-1</td>\n      <td>7.5</td>\n    </tr>\n    <tr>\n      <th>3</th>\n      <td>B380</td>\n      <td>Booking</td>\n      <td>1</td>\n      <td>Resort</td>\n      <td>4</td>\n      <td>158</td>\n      <td>2015-11-29</td>\n      <td>1092</td>\n      <td>8.8</td>\n      <td>The location is the best in Portimao, just acr...</td>\n      <td>...</td>\n      <td>USA</td>\n      <td>2015-10-29</td>\n      <td>9.2</td>\n      <td>-1</td>\n      <td>-1</td>\n      <td>-1</td>\n      <td>-1</td>\n      <td>-1</td>\n      <td>-1</td>\n      <td>9.2</td>\n    </tr>\n    <tr>\n      <th>4</th>\n      <td>B381</td>\n      <td>Booking</td>\n      <td>1</td>\n      <td>Resort</td>\n      <td>4</td>\n      <td>158</td>\n      <td>2015-11-29</td>\n      <td>1092</td>\n      <td>8.8</td>\n      <td>Hotel was clean and the staff helpful and frie...</td>\n      <td>...</td>\n      <td>Spain</td>\n      <td>2015-10-27</td>\n      <td>7.1</td>\n      <td>-1</td>\n      <td>-1</td>\n      <td>-1</td>\n      <td>-1</td>\n      <td>-1</td>\n      <td>-1</td>\n      <td>7.1</td>\n    </tr>\n  </tbody>\n</table>\n<p>5 rows × 22 columns</p>\n</div>"
     },
     "metadata": {},
     "execution_count": 10
    }
   ],
   "source": [
    "df[\"normalizedRating\"] = np.where(df[\"Source\"] == \"Booking\", df[\"RevOverallRating\"], df[\"RevOverallRating\"] * 2)\n",
    "\n",
    "df.head()"
   ]
  },
  {
   "cell_type": "code",
   "execution_count": 11,
   "metadata": {},
   "outputs": [
    {
     "output_type": "execute_result",
     "data": {
      "text/plain": [
       "               HotelID  HotelStars  HotelRooms  ObsDateTotalReviewsOnSite  \\\n",
       "Source                                                                      \n",
       "Booking      29.116864    3.756665  150.432621                2049.218364   \n",
       "Tripadvisor  31.342305    4.015309  190.848148                1032.815967   \n",
       "\n",
       "             ObsDateGlobalRating  RevOverallRating  RevLocationRating  \\\n",
       "Source                                                                  \n",
       "Booking                 8.563672          8.437795          -1.000000   \n",
       "Tripadvisor             4.252634          4.229630           0.065432   \n",
       "\n",
       "             RevSleepQualityRating  RevRoomsRating  RevServiceRating  \\\n",
       "Source                                                                 \n",
       "Booking                  -1.000000            -1.0         -1.000000   \n",
       "Tripadvisor               0.352346             0.0          0.513416   \n",
       "\n",
       "             RevValueRating  RevCleanlinessRating  normalizedRating  \n",
       "Source                                                               \n",
       "Booking           -1.000000             -1.000000          8.437795  \n",
       "Tripadvisor        0.043374              0.000412          8.459259  "
      ],
      "text/html": "<div>\n<style scoped>\n    .dataframe tbody tr th:only-of-type {\n        vertical-align: middle;\n    }\n\n    .dataframe tbody tr th {\n        vertical-align: top;\n    }\n\n    .dataframe thead th {\n        text-align: right;\n    }\n</style>\n<table border=\"1\" class=\"dataframe\">\n  <thead>\n    <tr style=\"text-align: right;\">\n      <th></th>\n      <th>HotelID</th>\n      <th>HotelStars</th>\n      <th>HotelRooms</th>\n      <th>ObsDateTotalReviewsOnSite</th>\n      <th>ObsDateGlobalRating</th>\n      <th>RevOverallRating</th>\n      <th>RevLocationRating</th>\n      <th>RevSleepQualityRating</th>\n      <th>RevRoomsRating</th>\n      <th>RevServiceRating</th>\n      <th>RevValueRating</th>\n      <th>RevCleanlinessRating</th>\n      <th>normalizedRating</th>\n    </tr>\n    <tr>\n      <th>Source</th>\n      <th></th>\n      <th></th>\n      <th></th>\n      <th></th>\n      <th></th>\n      <th></th>\n      <th></th>\n      <th></th>\n      <th></th>\n      <th></th>\n      <th></th>\n      <th></th>\n      <th></th>\n    </tr>\n  </thead>\n  <tbody>\n    <tr>\n      <th>Booking</th>\n      <td>29.116864</td>\n      <td>3.756665</td>\n      <td>150.432621</td>\n      <td>2049.218364</td>\n      <td>8.563672</td>\n      <td>8.437795</td>\n      <td>-1.000000</td>\n      <td>-1.000000</td>\n      <td>-1.0</td>\n      <td>-1.000000</td>\n      <td>-1.000000</td>\n      <td>-1.000000</td>\n      <td>8.437795</td>\n    </tr>\n    <tr>\n      <th>Tripadvisor</th>\n      <td>31.342305</td>\n      <td>4.015309</td>\n      <td>190.848148</td>\n      <td>1032.815967</td>\n      <td>4.252634</td>\n      <td>4.229630</td>\n      <td>0.065432</td>\n      <td>0.352346</td>\n      <td>0.0</td>\n      <td>0.513416</td>\n      <td>0.043374</td>\n      <td>0.000412</td>\n      <td>8.459259</td>\n    </tr>\n  </tbody>\n</table>\n</div>"
     },
     "metadata": {},
     "execution_count": 11
    }
   ],
   "source": [
    "meanRatingBySource = df.groupby(\"Source\").mean()\n",
    "meanRatingBySource"
   ]
  },
  {
   "cell_type": "code",
   "execution_count": null,
   "metadata": {},
   "outputs": [],
   "source": [
    "ag = df.groupby('Source').add({\n",
    "    'normalizedRating': ['min', 'max', 'mean', lambda x: x.max() - x.min()],\n",
    "    'RevID':\n",
    "})"
   ]
  }
 ]
}