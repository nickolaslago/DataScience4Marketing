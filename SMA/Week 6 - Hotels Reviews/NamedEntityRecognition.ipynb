{
 "metadata": {
  "language_info": {
   "codemirror_mode": {
    "name": "ipython",
    "version": 3
   },
   "file_extension": ".py",
   "mimetype": "text/x-python",
   "name": "python",
   "nbconvert_exporter": "python",
   "pygments_lexer": "ipython3",
   "version": "3.8.5-final"
  },
  "orig_nbformat": 2,
  "kernelspec": {
   "name": "python3",
   "display_name": "Python 3",
   "language": "python"
  }
 },
 "nbformat": 4,
 "nbformat_minor": 2,
 "cells": [
  {
   "source": [
    "##### Social Media Analytics\n",
    "### Introduction to Text Mining\n",
    "## Named Entity Recognition\n",
    "(c) Nuno Antonio 2019-2021"
   ],
   "cell_type": "markdown",
   "metadata": {}
  },
  {
   "source": [
    "### Initial setup"
   ],
   "cell_type": "markdown",
   "metadata": {}
  },
  {
   "cell_type": "code",
   "execution_count": 62,
   "metadata": {},
   "outputs": [],
   "source": [
    "# Import packages\n",
    "import csv\n",
    "import pandas as pd\n",
    "import numpy as np\n",
    "import nltk \n",
    "import re\n",
    "from bs4 import BeautifulSoup\n",
    "import spacy\n",
    "from spacy import displacy\n",
    "from collections import Counter"
   ]
  },
  {
   "cell_type": "code",
   "execution_count": 63,
   "metadata": {},
   "outputs": [
    {
     "output_type": "stream",
     "name": "stderr",
     "text": [
      "b'Skipping line 12799: expected 21 fields, saw 23\\n'\nb'Skipping line 37247: expected 21 fields, saw 22\\n'\n"
     ]
    }
   ],
   "source": [
    "# Load dataset\n",
    "dtypes = {'RevID':'category','Source':'category','HotelID':'category',\n",
    "  'HotelType':'category','HotelStars':'category','ObsDateGlobalRating':'float64',\n",
    "  'Language':'category','RevUserName':'category','RevUserLocation':'category','RevOverallRating':'float64'}\n",
    "ds = pd.DataFrame(pd.read_csv(\"HotelOnlineReviews.txt\",sep=\"|\", \n",
    "  error_bad_lines=False, dtype=dtypes, decimal=',', index_col='RevID'))"
   ]
  },
  {
   "cell_type": "code",
   "execution_count": 64,
   "metadata": {},
   "outputs": [],
   "source": [
    "# Drop non-English reviews\n",
    "ds = ds.drop(ds[ds.Language!='English'].index)"
   ]
  },
  {
   "source": [
    "### Functions"
   ],
   "cell_type": "markdown",
   "metadata": {}
  },
  {
   "cell_type": "code",
   "execution_count": 65,
   "metadata": {},
   "outputs": [],
   "source": [
    "# Text preprocessing\n",
    "def textPreProcess(rawText, removeHTML=True, charsToRemove = r'\\?|\\.|\\!|\\;|\\.|\\\"|\\,|\\(|\\)|\\&|\\:|\\-', removeNumbers=True, removeLineBreaks=False, specialCharsToRemove = r'[^\\x00-\\xfd]', convertToLower=True, removeConsecutiveSpaces=True):\n",
    "    cleanedText = []\n",
    "    for x in (rawText[:]): \n",
    "        \n",
    "        # Remove HTML\n",
    "        if removeHTML:\n",
    "            procText = BeautifulSoup(x,'html.parser').get_text()\n",
    "\n",
    "         # Remove punctuation and other special characters\n",
    "        if len(charsToRemove)>0:\n",
    "            procText = re.sub(charsToRemove,' ',procText)\n",
    "\n",
    "        # Remove numbers\n",
    "        if removeNumbers:\n",
    "            procText = re.sub(r'\\d+',' ',procText)\n",
    "\n",
    "        # Remove line breaks\n",
    "        if removeLineBreaks:\n",
    "            procText = procText.replace('\\n',' ').replace('\\r', '')\n",
    "\n",
    "        # Remove special characters\n",
    "        if len(specialCharsToRemove)>0:\n",
    "            procText = re.sub(specialCharsToRemove,' ',procText)\n",
    "\n",
    "        # Normalize to lower case\n",
    "        if convertToLower:\n",
    "            procText = procText.lower() \n",
    "\n",
    "        # Replace multiple consecutive spaces with just one space\n",
    "        if removeConsecutiveSpaces:\n",
    "            procText = re.sub(' +', ' ', procText)\n",
    "\n",
    "        # If there is a text, add it to the clean text         \n",
    "        if procText != '':\n",
    "            cleanedText.append(procText)\n",
    "    return cleanedText"
   ]
  },
  {
   "source": [
    "### Analysis"
   ],
   "cell_type": "markdown",
   "metadata": {}
  },
  {
   "cell_type": "code",
   "execution_count": 66,
   "metadata": {},
   "outputs": [],
   "source": [
    "# Create a dataframe with only the description\n",
    "ppText = textPreProcess(ds.RevDescription, charsToRemove='', removeLineBreaks=False, removeNumbers=False)\n",
    "processedReviews =  pd.DataFrame(data=ppText, index=ds.index, columns=['PreProcessedText']) "
   ]
  },
  {
   "cell_type": "code",
   "execution_count": 67,
   "metadata": {},
   "outputs": [],
   "source": [
    "# Remove rows with empty text\n",
    "processedReviews.PreProcessedText = processedReviews.PreProcessedText.str.strip()\n",
    "processedReviews = processedReviews[processedReviews.PreProcessedText != '']"
   ]
  },
  {
   "cell_type": "code",
   "execution_count": 68,
   "metadata": {},
   "outputs": [],
   "source": [
    "# Load Spacy English model\n",
    "nlp = spacy.load(\"en_core_web_sm\")"
   ]
  },
  {
   "cell_type": "code",
   "execution_count": 69,
   "metadata": {},
   "outputs": [
    {
     "output_type": "stream",
     "name": "stdout",
     "text": [
      "everything! the location is perfect, and the view from the room was sensational! we loved the kind and thoughtful hotel staff at the front desk, especially jorge. awesome breakfast. great hotel!\n[]\n"
     ]
    }
   ],
   "source": [
    "# Check entities in review \n",
    "print(processedReviews['PreProcessedText']['B24307'])\n",
    "doc = nlp(processedReviews['PreProcessedText']['B24307'])\n",
    "print([(X.text, X.label_) for X in doc.ents])"
   ]
  },
  {
   "cell_type": "code",
   "execution_count": 70,
   "metadata": {},
   "outputs": [
    {
     "output_type": "stream",
     "name": "stdout",
     "text": [
      "the hotel is very well located as it is at walking distance from the metro that takes you to the city center (this is like literally across the street), to the airport (7 min walking) and also there is a bus that can take you directly to belem (very nice area to visit). the area is quiet, there is a small market near by, a car rental firm (europcar) and el corte ingles for the shopping passionate. the breakfast is really good value for money as it can satisfy both salty and sweet preferences. the room was cleaned every day and it was comfortable. the staff is very friendly and provided us with directions and help each time we requested it.\n[('metro', 'FAC'), ('7 min', 'QUANTITY'), ('belem', 'GPE'), ('el corte', 'ORG'), ('every day', 'DATE')]\n"
     ]
    }
   ],
   "source": [
    "# Check entities in review \n",
    "print(processedReviews['PreProcessedText']['B21450'])\n",
    "doc = nlp(processedReviews['PreProcessedText']['B21450'])\n",
    "print([(X.text, X.label_) for X in doc.ents])"
   ]
  },
  {
   "cell_type": "code",
   "execution_count": 71,
   "metadata": {},
   "outputs": [
    {
     "output_type": "stream",
     "name": "stdout",
     "text": [
      "just returned from our second trip in 3 years to this hotel. wonderful location, very nicely kept grounds and our 2 bed villa (superior), was significantly better than the standard villa we stayed in last time and definitely worth the extra.we stayed half board with 3 children (15, 12 and 6) and the food was excellent. just the odd day out of the 10 we stayed did we have to queue for a short while for breakfast, this coincided with the hotel getting busy with the portuguese holidays starting in august. we even had the luxury of english sausages and bacon this time, which pleased the children!! restaurant staff were very obliging. alvor is a 10 min walk or 5 euros in taxi and still retains its charm. we used the water taxi to lagos fromthe harbour one day which was an enjoyable trip. a couple of rounds of golf at the very close by pestana alto course (7 euros in a taxi) was also very enjoyable and quite reasonable on their summer deal. the evening entertainment inthe hotel is very understated on most nights and really background music to enjoy your coffee with!! we used both pools and the beach and all worked very well. overall a very enjoyable, relaxed and easy family holiday, in beautiful grounds in a great location.\n[('second', 'ORDINAL'), ('3 years', 'DATE'), ('2', 'CARDINAL'), ('extra.we', 'ORG'), ('half', 'CARDINAL'), ('3', 'CARDINAL'), ('15, 12', 'DATE'), ('10', 'CARDINAL'), ('portuguese', 'NORP'), ('august', 'DATE'), ('english', 'LANGUAGE'), ('10', 'QUANTITY'), ('5', 'CARDINAL'), ('pestana', 'ORG'), ('7', 'CARDINAL'), ('their summer', 'DATE'), ('evening', 'TIME'), ('most nights', 'DATE')]\n"
     ]
    }
   ],
   "source": [
    "# Check entities in review\n",
    "print(processedReviews['PreProcessedText']['T13867'])\n",
    "doc = nlp(processedReviews['PreProcessedText']['T13867'])\n",
    "print([(X.text, X.label_) for X in doc.ents])"
   ]
  },
  {
   "cell_type": "code",
   "execution_count": 72,
   "metadata": {},
   "outputs": [
    {
     "output_type": "execute_result",
     "data": {
      "text/plain": [
       "Counter({'ORDINAL': 1,\n",
       "         'DATE': 5,\n",
       "         'CARDINAL': 6,\n",
       "         'ORG': 2,\n",
       "         'NORP': 1,\n",
       "         'LANGUAGE': 1,\n",
       "         'QUANTITY': 1,\n",
       "         'TIME': 1})"
      ]
     },
     "metadata": {},
     "execution_count": 72
    }
   ],
   "source": [
    "# Count the labels\n",
    "labels = [x.label_ for x in doc.ents]\n",
    "Counter(labels)"
   ]
  },
  {
   "cell_type": "code",
   "execution_count": 73,
   "metadata": {},
   "outputs": [
    {
     "output_type": "execute_result",
     "data": {
      "text/plain": [
       "[('10', 2), ('second', 1), ('3 years', 1)]"
      ]
     },
     "metadata": {},
     "execution_count": 73
    }
   ],
   "source": [
    "# Show top 3 labels\n",
    "top_labels = [x.text for x in doc.ents]\n",
    "Counter(top_labels).most_common(3)"
   ]
  },
  {
   "cell_type": "code",
   "execution_count": 74,
   "metadata": {},
   "outputs": [
    {
     "output_type": "display_data",
     "data": {
      "text/plain": "<IPython.core.display.HTML object>",
      "text/html": "<span class=\"tex2jax_ignore\"><div class=\"entities\" style=\"line-height: 2.5; direction: ltr\">just returned from our \n<mark class=\"entity\" style=\"background: #e4e7d2; padding: 0.45em 0.6em; margin: 0 0.25em; line-height: 1; border-radius: 0.35em;\">\n    second\n    <span style=\"font-size: 0.8em; font-weight: bold; line-height: 1; border-radius: 0.35em; text-transform: uppercase; vertical-align: middle; margin-left: 0.5rem\">ORDINAL</span>\n</mark>\n trip in \n<mark class=\"entity\" style=\"background: #bfe1d9; padding: 0.45em 0.6em; margin: 0 0.25em; line-height: 1; border-radius: 0.35em;\">\n    3 years\n    <span style=\"font-size: 0.8em; font-weight: bold; line-height: 1; border-radius: 0.35em; text-transform: uppercase; vertical-align: middle; margin-left: 0.5rem\">DATE</span>\n</mark>\n to this hotel. wonderful location, very nicely kept grounds and our \n<mark class=\"entity\" style=\"background: #e4e7d2; padding: 0.45em 0.6em; margin: 0 0.25em; line-height: 1; border-radius: 0.35em;\">\n    2\n    <span style=\"font-size: 0.8em; font-weight: bold; line-height: 1; border-radius: 0.35em; text-transform: uppercase; vertical-align: middle; margin-left: 0.5rem\">CARDINAL</span>\n</mark>\n bed villa (superior), was significantly better than the standard villa we stayed in last time and definitely worth the \n<mark class=\"entity\" style=\"background: #7aecec; padding: 0.45em 0.6em; margin: 0 0.25em; line-height: 1; border-radius: 0.35em;\">\n    extra.we\n    <span style=\"font-size: 0.8em; font-weight: bold; line-height: 1; border-radius: 0.35em; text-transform: uppercase; vertical-align: middle; margin-left: 0.5rem\">ORG</span>\n</mark>\n stayed \n<mark class=\"entity\" style=\"background: #e4e7d2; padding: 0.45em 0.6em; margin: 0 0.25em; line-height: 1; border-radius: 0.35em;\">\n    half\n    <span style=\"font-size: 0.8em; font-weight: bold; line-height: 1; border-radius: 0.35em; text-transform: uppercase; vertical-align: middle; margin-left: 0.5rem\">CARDINAL</span>\n</mark>\n board with \n<mark class=\"entity\" style=\"background: #e4e7d2; padding: 0.45em 0.6em; margin: 0 0.25em; line-height: 1; border-radius: 0.35em;\">\n    3\n    <span style=\"font-size: 0.8em; font-weight: bold; line-height: 1; border-radius: 0.35em; text-transform: uppercase; vertical-align: middle; margin-left: 0.5rem\">CARDINAL</span>\n</mark>\n children (\n<mark class=\"entity\" style=\"background: #bfe1d9; padding: 0.45em 0.6em; margin: 0 0.25em; line-height: 1; border-radius: 0.35em;\">\n    15, 12\n    <span style=\"font-size: 0.8em; font-weight: bold; line-height: 1; border-radius: 0.35em; text-transform: uppercase; vertical-align: middle; margin-left: 0.5rem\">DATE</span>\n</mark>\n and 6) and the food was excellent. just the odd day out of the \n<mark class=\"entity\" style=\"background: #e4e7d2; padding: 0.45em 0.6em; margin: 0 0.25em; line-height: 1; border-radius: 0.35em;\">\n    10\n    <span style=\"font-size: 0.8em; font-weight: bold; line-height: 1; border-radius: 0.35em; text-transform: uppercase; vertical-align: middle; margin-left: 0.5rem\">CARDINAL</span>\n</mark>\n we stayed did we have to queue for a short while for breakfast, this coincided with the hotel getting busy with the \n<mark class=\"entity\" style=\"background: #c887fb; padding: 0.45em 0.6em; margin: 0 0.25em; line-height: 1; border-radius: 0.35em;\">\n    portuguese\n    <span style=\"font-size: 0.8em; font-weight: bold; line-height: 1; border-radius: 0.35em; text-transform: uppercase; vertical-align: middle; margin-left: 0.5rem\">NORP</span>\n</mark>\n holidays starting in \n<mark class=\"entity\" style=\"background: #bfe1d9; padding: 0.45em 0.6em; margin: 0 0.25em; line-height: 1; border-radius: 0.35em;\">\n    august\n    <span style=\"font-size: 0.8em; font-weight: bold; line-height: 1; border-radius: 0.35em; text-transform: uppercase; vertical-align: middle; margin-left: 0.5rem\">DATE</span>\n</mark>\n. we even had the luxury of \n<mark class=\"entity\" style=\"background: #ff8197; padding: 0.45em 0.6em; margin: 0 0.25em; line-height: 1; border-radius: 0.35em;\">\n    english\n    <span style=\"font-size: 0.8em; font-weight: bold; line-height: 1; border-radius: 0.35em; text-transform: uppercase; vertical-align: middle; margin-left: 0.5rem\">LANGUAGE</span>\n</mark>\n sausages and bacon this time, which pleased the children!! restaurant staff were very obliging. alvor is a \n<mark class=\"entity\" style=\"background: #e4e7d2; padding: 0.45em 0.6em; margin: 0 0.25em; line-height: 1; border-radius: 0.35em;\">\n    10\n    <span style=\"font-size: 0.8em; font-weight: bold; line-height: 1; border-radius: 0.35em; text-transform: uppercase; vertical-align: middle; margin-left: 0.5rem\">QUANTITY</span>\n</mark>\n min walk or \n<mark class=\"entity\" style=\"background: #e4e7d2; padding: 0.45em 0.6em; margin: 0 0.25em; line-height: 1; border-radius: 0.35em;\">\n    5\n    <span style=\"font-size: 0.8em; font-weight: bold; line-height: 1; border-radius: 0.35em; text-transform: uppercase; vertical-align: middle; margin-left: 0.5rem\">CARDINAL</span>\n</mark>\n euros in taxi and still retains its charm. we used the water taxi to lagos fromthe harbour one day which was an enjoyable trip. a couple of rounds of golf at the very close by \n<mark class=\"entity\" style=\"background: #7aecec; padding: 0.45em 0.6em; margin: 0 0.25em; line-height: 1; border-radius: 0.35em;\">\n    pestana\n    <span style=\"font-size: 0.8em; font-weight: bold; line-height: 1; border-radius: 0.35em; text-transform: uppercase; vertical-align: middle; margin-left: 0.5rem\">ORG</span>\n</mark>\n alto course (\n<mark class=\"entity\" style=\"background: #e4e7d2; padding: 0.45em 0.6em; margin: 0 0.25em; line-height: 1; border-radius: 0.35em;\">\n    7\n    <span style=\"font-size: 0.8em; font-weight: bold; line-height: 1; border-radius: 0.35em; text-transform: uppercase; vertical-align: middle; margin-left: 0.5rem\">CARDINAL</span>\n</mark>\n euros in a taxi) was also very enjoyable and quite reasonable on \n<mark class=\"entity\" style=\"background: #bfe1d9; padding: 0.45em 0.6em; margin: 0 0.25em; line-height: 1; border-radius: 0.35em;\">\n    their summer\n    <span style=\"font-size: 0.8em; font-weight: bold; line-height: 1; border-radius: 0.35em; text-transform: uppercase; vertical-align: middle; margin-left: 0.5rem\">DATE</span>\n</mark>\n deal. the \n<mark class=\"entity\" style=\"background: #bfe1d9; padding: 0.45em 0.6em; margin: 0 0.25em; line-height: 1; border-radius: 0.35em;\">\n    evening\n    <span style=\"font-size: 0.8em; font-weight: bold; line-height: 1; border-radius: 0.35em; text-transform: uppercase; vertical-align: middle; margin-left: 0.5rem\">TIME</span>\n</mark>\n entertainment inthe hotel is very understated on \n<mark class=\"entity\" style=\"background: #bfe1d9; padding: 0.45em 0.6em; margin: 0 0.25em; line-height: 1; border-radius: 0.35em;\">\n    most nights\n    <span style=\"font-size: 0.8em; font-weight: bold; line-height: 1; border-radius: 0.35em; text-transform: uppercase; vertical-align: middle; margin-left: 0.5rem\">DATE</span>\n</mark>\n and really background music to enjoy your coffee with!! we used both pools and the beach and all worked very well. overall a very enjoyable, relaxed and easy family holiday, in beautiful grounds in a great location.</div></span>"
     },
     "metadata": {}
    }
   ],
   "source": [
    "# Entities visualization\n",
    "displacy.render(doc, jupyter=True, style='ent')"
   ]
  },
  {
   "cell_type": "code",
   "execution_count": 75,
   "metadata": {},
   "outputs": [
    {
     "output_type": "execute_result",
     "data": {
      "text/plain": [
       "['location right in front of the beach 1. very basic level of service. the hotel was not made with a sole, just to provide minimum facilities required from a 4 start to be raited like that. that is why the overall impression was much worse as compared to a number of boutique 3 stars i stayed along my way in spain. 2. the staff ranged from arrogant to incapable to speak other languages except from spanish, you do not feel hosted while your stay',\n",
       " 'very nice and friendly stuff with very good level of english. super location.',\n",
       " 'friendly staff and close to the beach.good sized apartments.close to three /four bar/restaraunts the swimming pool was unusable.two english channels on the tv news only']"
      ]
     },
     "metadata": {},
     "execution_count": 75
    }
   ],
   "source": [
    "# For example, if our objective was understand what guests say about the staff language skills we could look for reviews that mention languages\n",
    "counter=0   # to stop after x for demostration speed\n",
    "annReviews=[]\n",
    "for r in processedReviews['PreProcessedText']:\n",
    "  doc = nlp(r)\n",
    "  for i in doc.ents:\n",
    "      if i.label_=='LANGUAGE':\n",
    "          annReviews.append(r)\n",
    "          counter = counter + 1\n",
    "          break\n",
    "  if counter>=3:    # Stop after the first three reviews have been found\n",
    "      break\n",
    "\n",
    "annReviews"
   ]
  },
  {
   "cell_type": "code",
   "execution_count": null,
   "metadata": {},
   "outputs": [],
   "source": []
  }
 ]
}