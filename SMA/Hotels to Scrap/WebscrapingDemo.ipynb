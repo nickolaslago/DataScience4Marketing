{
 "cells": [
  {
   "cell_type": "markdown",
   "metadata": {},
   "source": [
    "# Webscraping demo\n",
    "## Tripadvisor\n",
    "### Changes may be required due to Tripadvisor's continous updates\n",
    "\n",
    "(c) Nuno António 2020/2021 - Rev. 1.03"
   ]
  },
  {
   "cell_type": "markdown",
   "metadata": {},
   "source": [
    "### Load packages and do the initializations"
   ]
  },
  {
   "cell_type": "code",
   "execution_count": 1,
   "metadata": {},
   "outputs": [],
   "source": [
    "# Load libraries\n",
    "import numpy as np\n",
    "import pandas as pd\n",
    "from urllib.request import urlopen\n",
    "from bs4 import BeautifulSoup\n",
    "import ssl\n",
    "from selenium import webdriver\n",
    "from selenium.webdriver.firefox.firefox_binary import FirefoxBinary\n",
    "from selenium.webdriver.firefox.options import Options\n",
    "import time"
   ]
  },
  {
   "cell_type": "code",
   "execution_count": 2,
   "metadata": {},
   "outputs": [],
   "source": [
    "# Allow not verified SSL (Secure Socket Layer) certificates to be opened\n",
    "ssl._create_default_https_context = ssl._create_unverified_context"
   ]
  },
  {
   "cell_type": "code",
   "execution_count": 3,
   "metadata": {},
   "outputs": [],
   "source": [
    "# Get Firefox options (configurations)\n",
    "options = Options()\n",
    "\n",
    "# Add this argument to Options to hide Firefox (make it not visible)\n",
    "# options.add_argument('--headless') "
   ]
  },
  {
   "cell_type": "code",
   "execution_count": 4,
   "metadata": {},
   "outputs": [],
   "source": [
    "# Load the list of the hotels to read the content\n",
    "hotelsToScrap = pd.read_excel(\"HotelsToScrap.xlsx\", sheet_name=\"Sheet1\", index_col=\"ID\", engine='openpyxl')\n"
   ]
  },
  {
   "cell_type": "code",
   "execution_count": 5,
   "metadata": {},
   "outputs": [],
   "source": [
    "# Create an empty dataframe for the resuls\n",
    "hotelReviews = pd.DataFrame({'hotelID': pd.Series([], dtype='string'),\n",
    "                             'user': pd.Series([], dtype='string'),\n",
    "                             'rating': pd.Series([], dtype='float'),\n",
    "                             'text': pd.Series([], dtype='string'),\n",
    "                             'date': pd.Series([], dtype='string'),\n",
    "                             'location': pd.Series([], dtype='string')\n",
    "                             })"
   ]
  },
  {
   "cell_type": "markdown",
   "metadata": {},
   "source": [
    "### Functions to use in the Main Loop"
   ]
  },
  {
   "cell_type": "code",
   "execution_count": 6,
   "metadata": {},
   "outputs": [],
   "source": [
    "# Open page and read HTML\n",
    "def openPageReadHTML(url):\n",
    "\n",
    "    # Open Firefox with Selenium\n",
    "    #binary = FirefoxBinary('/Applications/Firefox.app/Contents/MacOS/firefox-bin')  # replace the Firexfox path with the one on your computer\n",
    "    #browser = webdriver.Firefox(firefox_binary=binary, options=options)\n",
    "    browser = webdriver.Firefox(options=options)\n",
    "    browser.get(url)\n",
    "\n",
    "    # If there is a privacy pop-up, click the OK button\n",
    "    privacy_button = browser.find_elements_by_id(\"_evidon-accept-button\")\n",
    "    if len(privacy_button)>0:\n",
    "        browser.execute_script(\"arguments[0].click()\", privacy_button[0])\n",
    "        time.sleep(0.5) # Wait half a second\n",
    "\n",
    "    # Try to move into first review and click the button \n",
    "    # Some times it takes some time to load the page\n",
    "    clicked_button=False\n",
    "    while not clicked_button:\n",
    "        read_more_buttons = browser.find_elements_by_class_name(\"_3maEfNCR\")\n",
    "        if len(read_more_buttons) > 0:\n",
    "            try: \n",
    "                browser.execute_script(\"arguments[0].scrollIntoView(true);\", read_more_buttons[0])\n",
    "                browser.execute_script(\"arguments[0].click()\", read_more_buttons[0])\n",
    "                time.sleep(0.5) # Wait half a second\n",
    "                clicked_button=True\n",
    "            except:\n",
    "                # Wait for one second to retry\n",
    "                time.sleep(1)\n",
    "        else:\n",
    "            # Wait for one second to retry\n",
    "            time.sleep(1)\n",
    "\n",
    "    # Read the content close de browser\n",
    "    html_source = browser.page_source  \n",
    "    browser.quit()\n",
    "\n",
    "    # Transform the html into a BeautifulSoup object\n",
    "    soupObj = BeautifulSoup(html_source) \n",
    "\n",
    "    return soupObj"
   ]
  },
  {
   "cell_type": "code",
   "execution_count": 7,
   "metadata": {},
   "outputs": [],
   "source": [
    "# Process each page\n",
    "def processPage(soupObj, hotelID, extractedDF):\n",
    "\n",
    "    # Read reviews\n",
    "    reviews = soupObj.find_all(\"div\", {\"data-test-target\": \"reviews-tab\"})\n",
    "\n",
    "    # Get the list of reviews\n",
    "    reviewsList = reviews[0].select(\"div[class*=_3hFEdNs8]\")\n",
    "\n",
    "    # Loop thru each review\n",
    "    for i in range(0,len(reviewsList)):\n",
    "        \n",
    "        # Get Rating\n",
    "        r1 = reviewsList[i].select(\"span[class*=ui_bubble_rating]\")\n",
    "        r2 = r1[0][\"class\"][1]\n",
    "        reviewRating = int(''.join(filter(str.isdigit, r2)))/10\n",
    "\n",
    "        # Get User\n",
    "        user = reviewsList[i].select(\"a[class*=ui_header_link]\")[0].string\n",
    "\n",
    "        # Get review text\n",
    "        t = reviewsList[i].select(\"q[class*=IRsGHoPm]\")[0]\n",
    "        reviewText = t.get_text()\n",
    "\n",
    "        # GET USER LOCATION (_2kj8kWkW)\n",
    "        userLocation = reviewsList[i].select(\"span[class*=_3J15flPT]\")\n",
    "        if  len(userLocation)>0:\n",
    "            userLocation = reviewsList[i].select(\"span[class*=_3J15flPT]\")[0].get_text()\n",
    "        else:\n",
    "            userLocation = \"\"\n",
    "\n",
    "        # GET DATE\n",
    "        # Function to convert list in string\n",
    "        def listToString(s): \n",
    "            \n",
    "            # initialize an empty string\n",
    "            str1 = \" \" \n",
    "            \n",
    "            # return string  \n",
    "            return (str1.join(s))\n",
    "        d = reviewsList[i].select(\"div[class*=_2fxQ4TOx]\")[0].get_text()\n",
    "        #Transform the string on a list by its space;\n",
    "        l = d.split()\n",
    "        # Grabs the two last items of the list\n",
    "        v = l[len(l)-2:len(l)]\n",
    "        reviewDate = listToString(v)\n",
    "\n",
    "        # Update extracted reviews dataframe\n",
    "        extractedDF = extractedDF.append({'hotelID': hotelID,\n",
    "                             'user': user,\n",
    "                             'rating': reviewRating,\n",
    "                             'text': reviewText,\n",
    "                             'location': userLocation,\n",
    "                             'date': reviewDate\n",
    "                             }, ignore_index=True)\n",
    "\n",
    "    # Return the resulting dataframe\n",
    "    return extractedDF"
   ]
  },
  {
   "cell_type": "markdown",
   "metadata": {},
   "source": [
    "### Main loop"
   ]
  },
  {
   "cell_type": "code",
   "execution_count": 8,
   "metadata": {},
   "outputs": [],
   "source": [
    "# Because this is a demo, let's define the number of reviews to obtain per hotel\n",
    "reviewsToGet = 15"
   ]
  },
  {
   "cell_type": "code",
   "execution_count": 9,
   "metadata": {},
   "outputs": [
    {
     "output_type": "stream",
     "name": "stdout",
     "text": [
      "Processing hotel Sheraton\n",
      "Extracted  5 / 15\n",
      "Extracted  10 / 15\n",
      "Extracted  15 / 15\n",
      "Processing hotel CorpoSanto\n",
      "Extracted  5 / 15\n",
      "Extracted  10 / 15\n",
      "Extracted  15 / 15\n",
      "Processing hotel Myriad\n",
      "Extracted  5 / 15\n",
      "Extracted  10 / 15\n",
      "Extracted  15 / 15\n",
      "Processing hotel AvenidaPalace\n",
      "Extracted  5 / 15\n",
      "Extracted  10 / 15\n",
      "Extracted  15 / 15\n",
      "Processing hotel Corinthia\n",
      "Extracted  5 / 15\n",
      "Extracted  10 / 15\n",
      "Extracted  15 / 15\n"
     ]
    }
   ],
   "source": [
    "# Loop for all hotels\n",
    "for index, row in hotelsToScrap.iterrows():\n",
    "\n",
    "    # Present feedback on which hotel is being processed\n",
    "    print(\"Processing hotel\", index)\n",
    "\n",
    "    # Reset counter per hotel\n",
    "    reviewsExtracted = 0    \n",
    "\n",
    "    # Loop until it extracts the pre-defined number of reviews\n",
    "    while reviewsExtracted<reviewsToGet:\n",
    "\n",
    "        # Define URL to use based on the number of reviews extracted so far\n",
    "        urlToUse = row['URL']\n",
    "        if reviewsExtracted>0:\n",
    "            repText = \"-Reviews-or\"+str(reviewsExtracted)+\"-\"\n",
    "            urlToUse = urlToUse.replace(\"-Reviews-\",repText)\n",
    "\n",
    "        # Open and read the web page content\n",
    "        soup = openPageReadHTML(urlToUse)\n",
    "\n",
    "        # Process web page\n",
    "        hotelReviews = processPage(soup, index, hotelReviews)\n",
    "\n",
    "        # Update counter\n",
    "        reviewsExtracted = reviewsExtracted + 5\n",
    "\n",
    "        # Present feedback on the number of extracted reviews\n",
    "        print(\"Extracted \",reviewsExtracted,\"/\",reviewsToGet)\n",
    "     "
   ]
  },
  {
   "cell_type": "code",
   "execution_count": 10,
   "metadata": {},
   "outputs": [],
   "source": [
    "# Save the extracted reviews data frame to an Excel file\n",
    "hotelReviews.to_excel(\"ExtractedReviews_Nickolas-m20200097.xlsx\")"
   ]
  },
  {
   "source": [
    "Last run at: 2021-05-03 19:54"
   ],
   "cell_type": "markdown",
   "metadata": {}
  },
  {
   "cell_type": "code",
   "execution_count": null,
   "metadata": {},
   "outputs": [],
   "source": []
  }
 ],
 "metadata": {
  "kernelspec": {
   "name": "python376jvsc74a57bd0f30a98447ab0ce6ed2c42a906dd8ff7c3035168d8630597903509f729a93be92",
   "display_name": "Python 3.7.6 64-bit ('base': conda)"
  },
  "language_info": {
   "codemirror_mode": {
    "name": "ipython",
    "version": 3
   },
   "file_extension": ".py",
   "mimetype": "text/x-python",
   "name": "python",
   "nbconvert_exporter": "python",
   "pygments_lexer": "ipython3",
   "version": "3.7.6"
  },
  "varInspector": {
   "cols": {
    "lenName": 16,
    "lenType": 16,
    "lenVar": 40
   },
   "kernels_config": {
    "python": {
     "delete_cmd_postfix": "",
     "delete_cmd_prefix": "del ",
     "library": "var_list.py",
     "varRefreshCmd": "print(var_dic_list())"
    },
    "r": {
     "delete_cmd_postfix": ") ",
     "delete_cmd_prefix": "rm(",
     "library": "var_list.r",
     "varRefreshCmd": "cat(var_dic_list()) "
    }
   },
   "types_to_exclude": [
    "module",
    "function",
    "builtin_function_or_method",
    "instance",
    "_Feature"
   ],
   "window_display": false
  }
 },
 "nbformat": 4,
 "nbformat_minor": 2
}