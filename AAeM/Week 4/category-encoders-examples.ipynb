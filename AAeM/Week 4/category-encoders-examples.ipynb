{
 "cells": [
  {
   "cell_type": "markdown",
   "metadata": {
    "_uuid": "ce180a6f4af4d8d0721aee40f63127ee142ac582"
   },
   "source": [
    "# A notebook for exploring the contrasts created by each category_encoders option\n",
    "## By Jeff Hale\n",
    "## https://www.kaggle.com/discdiver/category-encoders-examples/notebook"
   ]
  },
  {
   "cell_type": "markdown",
   "metadata": {
    "_uuid": "4c7c73d59b64ba4f88d299a314100dd3ee2b8750"
   },
   "source": [
    "This is the source code for a Medium article series I wrote on the topic."
   ]
  },
  {
   "cell_type": "code",
   "execution_count": 1,
   "metadata": {
    "_uuid": "516ed07144e06150962d47478a49d658ce40205e"
   },
   "outputs": [],
   "source": [
    "import numpy as np\n",
    "import pandas as pd              # version 0.23.4\n",
    "import category_encoders as ce   # version 1.2.8\n",
    "from sklearn.preprocessing import LabelEncoder\n",
    "\n",
    "pd.options.display.float_format = '{:.2f}'.format # to make legible\n",
    "\n",
    "# make some data\n",
    "df = pd.DataFrame({\n",
    "    'color':[\"a\", \"c\", \"a\", \"a\", \"b\", \"b\"], \n",
    "    'outcome':[1, 2, 0, 0, 0, 1]})\n",
    "\n",
    "# set up X and y\n",
    "X = df.drop('outcome', axis = 1)\n",
    "y = df.drop('color', axis = 1)"
   ]
  },
  {
   "cell_type": "markdown",
   "metadata": {
    "_uuid": "1fb2cecd40a42c0f2c07022c6eaa82e988cda38f"
   },
   "source": [
    "# Classic Encoders"
   ]
  },
  {
   "cell_type": "markdown",
   "metadata": {
    "_uuid": "39540bd41ec84edae79b4e98c8cf7e9adefea19b"
   },
   "source": [
    "## sklearn.preprocessing.LabelEncoder()"
   ]
  },
  {
   "cell_type": "code",
   "execution_count": 2,
   "metadata": {
    "_uuid": "f4957a2f97f2e0c5c172060f9fe5eb87dcde9e61"
   },
   "outputs": [
    {
     "name": "stdout",
     "output_type": "stream",
     "text": [
      "  color\n",
      "0     a\n",
      "1     c\n",
      "2     a\n",
      "3     a\n",
      "4     b\n",
      "5     b\n",
      "\n",
      " The result of transforming X with LabelEncoder:\n",
      "[0 2 0 0 1 1]\n",
      "<class 'numpy.ndarray'>\n"
     ]
    }
   ],
   "source": [
    "print(X) \n",
    "\n",
    "le = LabelEncoder()\n",
    "encoded = le.fit_transform(np.ravel(X))    # warning thrown without np.ravel\n",
    "\n",
    "print(\"\\n The result of transforming X with LabelEncoder:\")\n",
    "print(encoded)\n",
    "print(type(encoded))"
   ]
  },
  {
   "cell_type": "markdown",
   "metadata": {
    "_uuid": "2ef39ac88441e2e5e7c6ed99586613aef9f464cd"
   },
   "source": [
    "## Ordinal"
   ]
  },
  {
   "cell_type": "code",
   "execution_count": 3,
   "metadata": {
    "_uuid": "699d06fa5f8e78544bb039894ceac73f486c6365"
   },
   "outputs": [
    {
     "data": {
      "text/html": [
       "<div>\n",
       "<style scoped>\n",
       "    .dataframe tbody tr th:only-of-type {\n",
       "        vertical-align: middle;\n",
       "    }\n",
       "\n",
       "    .dataframe tbody tr th {\n",
       "        vertical-align: top;\n",
       "    }\n",
       "\n",
       "    .dataframe thead th {\n",
       "        text-align: right;\n",
       "    }\n",
       "</style>\n",
       "<table border=\"1\" class=\"dataframe\">\n",
       "  <thead>\n",
       "    <tr style=\"text-align: right;\">\n",
       "      <th></th>\n",
       "      <th>color</th>\n",
       "    </tr>\n",
       "  </thead>\n",
       "  <tbody>\n",
       "    <tr>\n",
       "      <th>0</th>\n",
       "      <td>a</td>\n",
       "    </tr>\n",
       "    <tr>\n",
       "      <th>1</th>\n",
       "      <td>c</td>\n",
       "    </tr>\n",
       "    <tr>\n",
       "      <th>2</th>\n",
       "      <td>a</td>\n",
       "    </tr>\n",
       "    <tr>\n",
       "      <th>3</th>\n",
       "      <td>a</td>\n",
       "    </tr>\n",
       "    <tr>\n",
       "      <th>4</th>\n",
       "      <td>b</td>\n",
       "    </tr>\n",
       "    <tr>\n",
       "      <th>5</th>\n",
       "      <td>b</td>\n",
       "    </tr>\n",
       "  </tbody>\n",
       "</table>\n",
       "</div>"
      ],
      "text/plain": [
       "  color\n",
       "0     a\n",
       "1     c\n",
       "2     a\n",
       "3     a\n",
       "4     b\n",
       "5     b"
      ]
     },
     "execution_count": 3,
     "metadata": {},
     "output_type": "execute_result"
    }
   ],
   "source": [
    "X"
   ]
  },
  {
   "cell_type": "code",
   "execution_count": 4,
   "metadata": {
    "_uuid": "7281eb6e6bf29c5acb32847b5798a5dae570e82c"
   },
   "outputs": [
    {
     "data": {
      "text/html": [
       "<div>\n",
       "<style scoped>\n",
       "    .dataframe tbody tr th:only-of-type {\n",
       "        vertical-align: middle;\n",
       "    }\n",
       "\n",
       "    .dataframe tbody tr th {\n",
       "        vertical-align: top;\n",
       "    }\n",
       "\n",
       "    .dataframe thead th {\n",
       "        text-align: right;\n",
       "    }\n",
       "</style>\n",
       "<table border=\"1\" class=\"dataframe\">\n",
       "  <thead>\n",
       "    <tr style=\"text-align: right;\">\n",
       "      <th></th>\n",
       "      <th>color</th>\n",
       "    </tr>\n",
       "  </thead>\n",
       "  <tbody>\n",
       "    <tr>\n",
       "      <th>0</th>\n",
       "      <td>1</td>\n",
       "    </tr>\n",
       "    <tr>\n",
       "      <th>1</th>\n",
       "      <td>2</td>\n",
       "    </tr>\n",
       "    <tr>\n",
       "      <th>2</th>\n",
       "      <td>1</td>\n",
       "    </tr>\n",
       "    <tr>\n",
       "      <th>3</th>\n",
       "      <td>1</td>\n",
       "    </tr>\n",
       "    <tr>\n",
       "      <th>4</th>\n",
       "      <td>3</td>\n",
       "    </tr>\n",
       "    <tr>\n",
       "      <th>5</th>\n",
       "      <td>3</td>\n",
       "    </tr>\n",
       "  </tbody>\n",
       "</table>\n",
       "</div>"
      ],
      "text/plain": [
       "   color\n",
       "0      1\n",
       "1      2\n",
       "2      1\n",
       "3      1\n",
       "4      3\n",
       "5      3"
      ]
     },
     "execution_count": 4,
     "metadata": {},
     "output_type": "execute_result"
    }
   ],
   "source": [
    "ce_ord = ce.OrdinalEncoder(cols = ['color'])\n",
    "ce_ord.fit_transform(X, y['outcome'])"
   ]
  },
  {
   "cell_type": "markdown",
   "metadata": {
    "_uuid": "fc73f3e06d993218da35d930ecdedfd3c38b688e"
   },
   "source": [
    "## One-Hot "
   ]
  },
  {
   "cell_type": "code",
   "execution_count": 5,
   "metadata": {
    "_uuid": "1ed5bafedc0e4d3a0feeca003b45fd83d0fc1a74"
   },
   "outputs": [
    {
     "data": {
      "text/html": [
       "<div>\n",
       "<style scoped>\n",
       "    .dataframe tbody tr th:only-of-type {\n",
       "        vertical-align: middle;\n",
       "    }\n",
       "\n",
       "    .dataframe tbody tr th {\n",
       "        vertical-align: top;\n",
       "    }\n",
       "\n",
       "    .dataframe thead th {\n",
       "        text-align: right;\n",
       "    }\n",
       "</style>\n",
       "<table border=\"1\" class=\"dataframe\">\n",
       "  <thead>\n",
       "    <tr style=\"text-align: right;\">\n",
       "      <th></th>\n",
       "      <th>color_1</th>\n",
       "      <th>color_2</th>\n",
       "      <th>color_3</th>\n",
       "    </tr>\n",
       "  </thead>\n",
       "  <tbody>\n",
       "    <tr>\n",
       "      <th>0</th>\n",
       "      <td>1</td>\n",
       "      <td>0</td>\n",
       "      <td>0</td>\n",
       "    </tr>\n",
       "    <tr>\n",
       "      <th>1</th>\n",
       "      <td>0</td>\n",
       "      <td>1</td>\n",
       "      <td>0</td>\n",
       "    </tr>\n",
       "    <tr>\n",
       "      <th>2</th>\n",
       "      <td>1</td>\n",
       "      <td>0</td>\n",
       "      <td>0</td>\n",
       "    </tr>\n",
       "    <tr>\n",
       "      <th>3</th>\n",
       "      <td>1</td>\n",
       "      <td>0</td>\n",
       "      <td>0</td>\n",
       "    </tr>\n",
       "    <tr>\n",
       "      <th>4</th>\n",
       "      <td>0</td>\n",
       "      <td>0</td>\n",
       "      <td>1</td>\n",
       "    </tr>\n",
       "    <tr>\n",
       "      <th>5</th>\n",
       "      <td>0</td>\n",
       "      <td>0</td>\n",
       "      <td>1</td>\n",
       "    </tr>\n",
       "  </tbody>\n",
       "</table>\n",
       "</div>"
      ],
      "text/plain": [
       "   color_1  color_2  color_3\n",
       "0        1        0        0\n",
       "1        0        1        0\n",
       "2        1        0        0\n",
       "3        1        0        0\n",
       "4        0        0        1\n",
       "5        0        0        1"
      ]
     },
     "execution_count": 5,
     "metadata": {},
     "output_type": "execute_result"
    }
   ],
   "source": [
    "ce_one_hot = ce.OneHotEncoder(cols = ['color'])\n",
    "ce_one_hot.fit_transform(X, y)"
   ]
  },
  {
   "cell_type": "markdown",
   "metadata": {
    "_uuid": "9d8cc7ee434ece67fbd3e0e776e3b145a80623b2"
   },
   "source": [
    "## Binary "
   ]
  },
  {
   "cell_type": "code",
   "execution_count": 6,
   "metadata": {
    "_uuid": "cdd4974b312a6d0bcc14649833ef0e386896900c"
   },
   "outputs": [
    {
     "data": {
      "text/html": [
       "<div>\n",
       "<style scoped>\n",
       "    .dataframe tbody tr th:only-of-type {\n",
       "        vertical-align: middle;\n",
       "    }\n",
       "\n",
       "    .dataframe tbody tr th {\n",
       "        vertical-align: top;\n",
       "    }\n",
       "\n",
       "    .dataframe thead th {\n",
       "        text-align: right;\n",
       "    }\n",
       "</style>\n",
       "<table border=\"1\" class=\"dataframe\">\n",
       "  <thead>\n",
       "    <tr style=\"text-align: right;\">\n",
       "      <th></th>\n",
       "      <th>color_0</th>\n",
       "      <th>color_1</th>\n",
       "      <th>color_2</th>\n",
       "    </tr>\n",
       "  </thead>\n",
       "  <tbody>\n",
       "    <tr>\n",
       "      <th>0</th>\n",
       "      <td>0</td>\n",
       "      <td>0</td>\n",
       "      <td>1</td>\n",
       "    </tr>\n",
       "    <tr>\n",
       "      <th>1</th>\n",
       "      <td>0</td>\n",
       "      <td>1</td>\n",
       "      <td>0</td>\n",
       "    </tr>\n",
       "    <tr>\n",
       "      <th>2</th>\n",
       "      <td>0</td>\n",
       "      <td>0</td>\n",
       "      <td>1</td>\n",
       "    </tr>\n",
       "    <tr>\n",
       "      <th>3</th>\n",
       "      <td>0</td>\n",
       "      <td>0</td>\n",
       "      <td>1</td>\n",
       "    </tr>\n",
       "    <tr>\n",
       "      <th>4</th>\n",
       "      <td>0</td>\n",
       "      <td>1</td>\n",
       "      <td>1</td>\n",
       "    </tr>\n",
       "    <tr>\n",
       "      <th>5</th>\n",
       "      <td>0</td>\n",
       "      <td>1</td>\n",
       "      <td>1</td>\n",
       "    </tr>\n",
       "  </tbody>\n",
       "</table>\n",
       "</div>"
      ],
      "text/plain": [
       "   color_0  color_1  color_2\n",
       "0        0        0        1\n",
       "1        0        1        0\n",
       "2        0        0        1\n",
       "3        0        0        1\n",
       "4        0        1        1\n",
       "5        0        1        1"
      ]
     },
     "execution_count": 6,
     "metadata": {},
     "output_type": "execute_result"
    }
   ],
   "source": [
    "ce_bin = ce.BinaryEncoder(cols = ['color'])\n",
    "ce_bin.fit_transform(X, y)"
   ]
  },
  {
   "cell_type": "markdown",
   "metadata": {
    "_uuid": "80b21f1c8b08dc60811dc21559316c450e7f447c"
   },
   "source": [
    "## BaseN"
   ]
  },
  {
   "cell_type": "code",
   "execution_count": null,
   "metadata": {
    "_uuid": "a0e9c0d734feeea26b481a7fe9d8230ab5b14c6b"
   },
   "outputs": [],
   "source": [
    "ce_basen = ce.BaseNEncoder(cols = ['color'])\n",
    "ce_basen.fit_transform(X, y)"
   ]
  },
  {
   "cell_type": "markdown",
   "metadata": {
    "_uuid": "dc54d9df55d75e2df508fa1c0a3e1bd5b2b43607"
   },
   "source": [
    "## Hashing"
   ]
  },
  {
   "cell_type": "code",
   "execution_count": null,
   "metadata": {
    "_uuid": "5cc752a01db43b2bf7e6013da4349285df49cc51"
   },
   "outputs": [],
   "source": [
    "ce_hash = ce.HashingEncoder(cols = ['color'])\n",
    "ce_hash.fit_transform(X, y)"
   ]
  },
  {
   "cell_type": "code",
   "execution_count": null,
   "metadata": {
    "_uuid": "7a6edde75d8aa39c9590408ffadf8d0d6fe729f0",
    "collapsed": true
   },
   "outputs": [],
   "source": [
    "X"
   ]
  },
  {
   "cell_type": "markdown",
   "metadata": {
    "_uuid": "eb260ae75788e016a71a70246388fbfd6aa7225c"
   },
   "source": [
    "# Contrast Encoders"
   ]
  },
  {
   "cell_type": "code",
   "execution_count": null,
   "metadata": {
    "_uuid": "30ac389607cfecb6acefff807b6f0753299c302a",
    "collapsed": true
   },
   "outputs": [],
   "source": [
    "import numpy as np\n",
    "import pandas as pd              # version 0.23.4\n",
    "import category_encoders as ce   # version 1.2.8\n",
    "\n",
    "pd.options.display.float_format = '{:.2f}'.format # to make legible\n",
    "\n",
    "# some new data frame for the contrast encoders\n",
    "df2 = pd.DataFrame({\n",
    "    'color':[\"a\", \"b\", \"c\", \"d\"], \n",
    "    'outcome':[1, 2,  0, 1]})\n",
    "\n",
    "# set up X and y\n",
    "X2 = df2.drop('outcome', axis = 1)\n",
    "y2 = df2.drop('color', axis = 1)"
   ]
  },
  {
   "cell_type": "code",
   "execution_count": null,
   "metadata": {
    "_uuid": "d8de3f82c93703eb2f3818d36d7379be6de7cf16",
    "collapsed": true
   },
   "outputs": [],
   "source": [
    "X2"
   ]
  },
  {
   "cell_type": "markdown",
   "metadata": {
    "_uuid": "310ef9664e93d3dbe1d32e98df9824b4933f64bf"
   },
   "source": [
    "## Helmert "
   ]
  },
  {
   "cell_type": "code",
   "execution_count": null,
   "metadata": {
    "_uuid": "22b29553c2108bb13252d1e8a20f94939239ef8f",
    "collapsed": true
   },
   "outputs": [],
   "source": [
    "ce_helmert = ce.HelmertEncoder(cols = ['color'])\n",
    "ce_helmert.fit_transform(X2, y2)"
   ]
  },
  {
   "cell_type": "markdown",
   "metadata": {
    "_uuid": "694291dc3f31f0b11d3c431fd81d46e28687a559"
   },
   "source": [
    "## Sum "
   ]
  },
  {
   "cell_type": "code",
   "execution_count": null,
   "metadata": {
    "_uuid": "d52506acedebd0fca8a1ce6744e4733bd64d03dd",
    "collapsed": true
   },
   "outputs": [],
   "source": [
    "ce_sum = ce.SumEncoder(cols = ['color'])\n",
    "ce_sum.fit_transform(X2, y2)"
   ]
  },
  {
   "cell_type": "markdown",
   "metadata": {
    "_uuid": "e2bb8718edaf8338a4289fcca82b8562eeda4c37"
   },
   "source": [
    "## Backward Difference "
   ]
  },
  {
   "cell_type": "code",
   "execution_count": null,
   "metadata": {
    "_uuid": "d710d70f3f47b18857e424783841ed8b1b1f22b3",
    "collapsed": true
   },
   "outputs": [],
   "source": [
    "ce_backward = ce.BackwardDifferenceEncoder(cols = ['color'])\n",
    "ce_backward.fit_transform(X2, y2)"
   ]
  },
  {
   "cell_type": "markdown",
   "metadata": {
    "_uuid": "3aeb8b8e458e280269d96018e326b22070768d3c"
   },
   "source": [
    "## Polynomial "
   ]
  },
  {
   "cell_type": "code",
   "execution_count": null,
   "metadata": {
    "_uuid": "04d27138cfc8cf42641d23fd0e89b139ef97a869",
    "collapsed": true
   },
   "outputs": [],
   "source": [
    "ce_poly = ce.PolynomialEncoder(cols = ['color'])\n",
    "ce_poly.fit_transform(X2, y2)"
   ]
  },
  {
   "cell_type": "markdown",
   "metadata": {
    "_uuid": "ccdf525312e850891f644e7b7a62c41f6cb0993a"
   },
   "source": [
    "# Bayesian Encoders"
   ]
  },
  {
   "cell_type": "markdown",
   "metadata": {
    "_uuid": "0a9e67e9598ccdbe0f604661abacdb5619ae8270"
   },
   "source": [
    "A larger DataFrame to better illustrate these encoders."
   ]
  },
  {
   "cell_type": "code",
   "execution_count": null,
   "metadata": {
    "_uuid": "b9db60ab49b8dce9dd3ac0941feb1a55f807e017",
    "collapsed": true
   },
   "outputs": [],
   "source": [
    "import numpy as np\n",
    "import pandas as pd              # version 0.23.4\n",
    "import category_encoders as ce   # version 1.2.8\n",
    "\n",
    "pd.options.display.float_format = '{:.2f}'.format # to make legible\n",
    "\n",
    "# some new data frame for the contrast encoders\n",
    "df3 = pd.DataFrame(\n",
    "    {'color':[3,2,0,1,1,1,2,2,3,3,4,5,6,7,8,3], \n",
    "     'outcome':[1,0,0,1,2,1,1,0,0,1,0,2,2,1,1,1]})\n",
    "\n",
    "# set up X and y\n",
    "X3 = df3.drop('outcome', axis = 1)\n",
    "y3 = df3.drop('color', axis = 1)\n",
    "\n",
    "df3"
   ]
  },
  {
   "cell_type": "markdown",
   "metadata": {
    "_uuid": "13e268709026f3fefe83e58b8969058907cd25ee"
   },
   "source": [
    "## Target"
   ]
  },
  {
   "cell_type": "code",
   "execution_count": null,
   "metadata": {
    "_uuid": "8696d7c4c6a7af4e184e80470ee9883f28ab6363",
    "collapsed": true
   },
   "outputs": [],
   "source": [
    "# Target with default parameters\n",
    "ce_target = ce.TargetEncoder(cols = ['color'])\n",
    "\n",
    "ce_target.fit(X3, y3['outcome'])\n",
    "# Must pass the series for y in v1.2.8\n",
    "\n",
    "ce_target.transform(X3, y3['outcome'])"
   ]
  },
  {
   "cell_type": "code",
   "execution_count": null,
   "metadata": {
    "_uuid": "d08a637ea49808d49721cfe947a23a51d958fe0e",
    "collapsed": true
   },
   "outputs": [],
   "source": [
    "# Target with min_samples_leaf higher\n",
    "ce_target_leaf = ce.TargetEncoder(cols = ['color'], min_samples_leaf = 10)\n",
    "\n",
    "ce_target_leaf.fit(X3, y3['outcome'])\n",
    "# Must pass the series for y in v1.2.\n",
    "\n",
    "ce_target_leaf.transform(X3, y3['outcome'])"
   ]
  },
  {
   "cell_type": "code",
   "execution_count": null,
   "metadata": {
    "_uuid": "d367fb2821041be18dee46f474c45c2777de8d52",
    "collapsed": true
   },
   "outputs": [],
   "source": [
    "# Target with smoothing higher\n",
    "ce_target_leaf = ce.TargetEncoder(cols = ['color'], smoothing = 10)\n",
    "ce_target_leaf.fit(X3, y3['outcome'])\n",
    "# Must pass the series for y in v1.2.b\n",
    "ce_target_leaf.transform(X3, y3['outcome'])"
   ]
  },
  {
   "cell_type": "code",
   "execution_count": null,
   "metadata": {
    "_uuid": "1686f94b2346fe7f980c1c5b66ddf7b1912a5cee",
    "collapsed": true
   },
   "outputs": [],
   "source": [
    "# Target with smoothing higher\n",
    "ce_target_leaf = ce.TargetEncoder(cols = ['color'], smoothing = .1)\n",
    "ce_target_leaf.fit(X3, y3['outcome'])\n",
    "# Must pass the series for y in v1.2.b\n",
    "ce_target_leaf.transform(X3, y3['outcome'])"
   ]
  },
  {
   "cell_type": "markdown",
   "metadata": {
    "_uuid": "d99fe6e3e0729800af697b0dff8c09f1e1ebd9b4"
   },
   "source": [
    "## LeaveOneOut"
   ]
  },
  {
   "cell_type": "code",
   "execution_count": null,
   "metadata": {
    "_uuid": "eca07e9fd90a9f0705d6424a44230bf47607a0f6",
    "collapsed": true
   },
   "outputs": [],
   "source": [
    "ce_leave = ce.LeaveOneOutEncoder(cols = ['color'])\n",
    "ce_leave.fit(X3, y3['outcome'])        \n",
    "ce_leave.transform(X3, y3['outcome'])         \n",
    "# Must pass the series for y\n",
    "# Fit and transform need to be called seperately for LeaveOneOut until v1.3.0"
   ]
  },
  {
   "cell_type": "markdown",
   "metadata": {
    "_uuid": "612192673c4dde00fcdad796bbace9fa81d2a5db"
   },
   "source": [
    "## WeightOfEvidence \n",
    "Available v1.3.0"
   ]
  },
  {
   "cell_type": "code",
   "execution_count": null,
   "metadata": {
    "_uuid": "cf4e660ad8902e26bab50da3f826dc46bdc7fcba",
    "collapsed": true
   },
   "outputs": [],
   "source": [
    "# ce_leave = ce.WeightOfEvidenceEncoder(cols = ['color'])\n",
    "# ce_leave.fit(X3, y3['outcome'])        \n",
    "# ce_leave.transform(X3, y3['outcome'])         \n",
    "# Must pass the series for y\n",
    "# Fit and transform need to be called seperately for LeaveOneOut until v1.3.0"
   ]
  }
 ],
 "metadata": {
  "anaconda-cloud": {},
  "kernelspec": {
   "display_name": "Python 3",
   "language": "python",
   "name": "python3"
  },
  "language_info": {
   "codemirror_mode": {
    "name": "ipython",
    "version": 3
   },
   "file_extension": ".py",
   "mimetype": "text/x-python",
   "name": "python",
   "nbconvert_exporter": "python",
   "pygments_lexer": "ipython3",
   "version": "3.7.4"
  }
 },
 "nbformat": 4,
 "nbformat_minor": 1
}
